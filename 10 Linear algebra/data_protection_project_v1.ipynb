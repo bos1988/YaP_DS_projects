{
 "cells": [
  {
   "cell_type": "markdown",
   "metadata": {
    "toc": true
   },
   "source": [
    "<h1>Содержание<span class=\"tocSkip\"></span></h1>\n",
    "<div class=\"toc\"><ul class=\"toc-item\"><li><span><a href=\"#Исходные-данные\" data-toc-modified-id=\"Исходные-данные-1\"><span class=\"toc-item-num\">1&nbsp;&nbsp;</span>Исходные данные</a></span><ul class=\"toc-item\"><li><span><a href=\"#Подключаемые-модули\" data-toc-modified-id=\"Подключаемые-модули-1.1\"><span class=\"toc-item-num\">1.1&nbsp;&nbsp;</span>Подключаемые модули</a></span></li><li><span><a href=\"#Настройка-окружения\" data-toc-modified-id=\"Настройка-окружения-1.2\"><span class=\"toc-item-num\">1.2&nbsp;&nbsp;</span>Настройка окружения</a></span></li><li><span><a href=\"#Общие-параметры\" data-toc-modified-id=\"Общие-параметры-1.3\"><span class=\"toc-item-num\">1.3&nbsp;&nbsp;</span>Общие параметры</a></span></li><li><span><a href=\"#Общие-функции\" data-toc-modified-id=\"Общие-функции-1.4\"><span class=\"toc-item-num\">1.4&nbsp;&nbsp;</span>Общие функции</a></span></li></ul></li><li><span><a href=\"#Получение-данных\" data-toc-modified-id=\"Получение-данных-2\"><span class=\"toc-item-num\">2&nbsp;&nbsp;</span>Получение данных</a></span><ul class=\"toc-item\"><li><span><a href=\"#Чтение-данных-из-файла\" data-toc-modified-id=\"Чтение-данных-из-файла-2.1\"><span class=\"toc-item-num\">2.1&nbsp;&nbsp;</span>Чтение данных из файла</a></span></li><li><span><a href=\"#Описание-данных\" data-toc-modified-id=\"Описание-данных-2.2\"><span class=\"toc-item-num\">2.2&nbsp;&nbsp;</span>Описание данных</a></span></li><li><span><a href=\"#Общая-информация\" data-toc-modified-id=\"Общая-информация-2.3\"><span class=\"toc-item-num\">2.3&nbsp;&nbsp;</span>Общая информация</a></span></li><li><span><a href=\"#Выводы\" data-toc-modified-id=\"Выводы-2.4\"><span class=\"toc-item-num\">2.4&nbsp;&nbsp;</span>Выводы</a></span></li></ul></li><li><span><a href=\"#Предобработка-данных\" data-toc-modified-id=\"Предобработка-данных-3\"><span class=\"toc-item-num\">3&nbsp;&nbsp;</span>Предобработка данных</a></span><ul class=\"toc-item\"><li><span><a href=\"#Исправление-заголовков\" data-toc-modified-id=\"Исправление-заголовков-3.1\"><span class=\"toc-item-num\">3.1&nbsp;&nbsp;</span>Исправление заголовков</a></span></li><li><span><a href=\"#Проверка-на-явные-дубликаты\" data-toc-modified-id=\"Проверка-на-явные-дубликаты-3.2\"><span class=\"toc-item-num\">3.2&nbsp;&nbsp;</span>Проверка на явные дубликаты</a></span></li><li><span><a href=\"#Проверка-пропусков\" data-toc-modified-id=\"Проверка-пропусков-3.3\"><span class=\"toc-item-num\">3.3&nbsp;&nbsp;</span>Проверка пропусков</a></span></li><li><span><a href=\"#Замена-типов-данных\" data-toc-modified-id=\"Замена-типов-данных-3.4\"><span class=\"toc-item-num\">3.4&nbsp;&nbsp;</span>Замена типов данных</a></span></li><li><span><a href=\"#Проверка-смысловых-зависимостей\" data-toc-modified-id=\"Проверка-смысловых-зависимостей-3.5\"><span class=\"toc-item-num\">3.5&nbsp;&nbsp;</span>Проверка смысловых зависимостей</a></span></li><li><span><a href=\"#Проверка-значений:-ошибки,-выбросы,-дубликаты\" data-toc-modified-id=\"Проверка-значений:-ошибки,-выбросы,-дубликаты-3.6\"><span class=\"toc-item-num\">3.6&nbsp;&nbsp;</span>Проверка значений: ошибки, выбросы, дубликаты</a></span><ul class=\"toc-item\"><li><span><a href=\"#Пол\" data-toc-modified-id=\"Пол-3.6.1\"><span class=\"toc-item-num\">3.6.1&nbsp;&nbsp;</span>Пол</a></span></li><li><span><a href=\"#Возраст\" data-toc-modified-id=\"Возраст-3.6.2\"><span class=\"toc-item-num\">3.6.2&nbsp;&nbsp;</span>Возраст</a></span></li><li><span><a href=\"#Зарплата\" data-toc-modified-id=\"Зарплата-3.6.3\"><span class=\"toc-item-num\">3.6.3&nbsp;&nbsp;</span>Зарплата</a></span></li><li><span><a href=\"#Количество-членов-семьи\" data-toc-modified-id=\"Количество-членов-семьи-3.6.4\"><span class=\"toc-item-num\">3.6.4&nbsp;&nbsp;</span>Количество членов семьи</a></span></li><li><span><a href=\"#Страховые-выплаты\" data-toc-modified-id=\"Страховые-выплаты-3.6.5\"><span class=\"toc-item-num\">3.6.5&nbsp;&nbsp;</span>Страховые выплаты</a></span></li></ul></li><li><span><a href=\"#Вывод\" data-toc-modified-id=\"Вывод-3.7\"><span class=\"toc-item-num\">3.7&nbsp;&nbsp;</span>Вывод</a></span></li></ul></li><li><span><a href=\"#Умножение-матриц\" data-toc-modified-id=\"Умножение-матриц-4\"><span class=\"toc-item-num\">4&nbsp;&nbsp;</span>Умножение матриц</a></span></li><li><span><a href=\"#Алгоритм-преобразования\" data-toc-modified-id=\"Алгоритм-преобразования-5\"><span class=\"toc-item-num\">5&nbsp;&nbsp;</span>Алгоритм преобразования</a></span></li><li><span><a href=\"#Подготовка-данных\" data-toc-modified-id=\"Подготовка-данных-6\"><span class=\"toc-item-num\">6&nbsp;&nbsp;</span>Подготовка данных</a></span><ul class=\"toc-item\"><li><span><a href=\"#Признаки-и-целевой-признак\" data-toc-modified-id=\"Признаки-и-целевой-признак-6.1\"><span class=\"toc-item-num\">6.1&nbsp;&nbsp;</span>Признаки и целевой признак</a></span></li><li><span><a href=\"#Обучающая-и-тестовая-выборки\" data-toc-modified-id=\"Обучающая-и-тестовая-выборки-6.2\"><span class=\"toc-item-num\">6.2&nbsp;&nbsp;</span>Обучающая и тестовая выборки</a></span></li></ul></li><li><span><a href=\"#Проверка-алгоритма\" data-toc-modified-id=\"Проверка-алгоритма-7\"><span class=\"toc-item-num\">7&nbsp;&nbsp;</span>Проверка алгоритма</a></span><ul class=\"toc-item\"><li><span><a href=\"#Модель-на-исходных-(не-преобразованных)-данных:\" data-toc-modified-id=\"Модель-на-исходных-(не-преобразованных)-данных:-7.1\"><span class=\"toc-item-num\">7.1&nbsp;&nbsp;</span>Модель на исходных (не преобразованных) данных:</a></span></li><li><span><a href=\"#Модель-на-преобразованных-данных-(рабочий-алгоритм):\" data-toc-modified-id=\"Модель-на-преобразованных-данных-(рабочий-алгоритм):-7.2\"><span class=\"toc-item-num\">7.2&nbsp;&nbsp;</span>Модель на преобразованных данных (рабочий алгоритм):</a></span></li><li><span><a href=\"#Вывод\" data-toc-modified-id=\"Вывод-7.3\"><span class=\"toc-item-num\">7.3&nbsp;&nbsp;</span>Вывод</a></span></li></ul></li></ul></div>"
   ]
  },
  {
   "cell_type": "markdown",
   "metadata": {
    "pycharm": {
     "name": "#%% md\n"
    }
   },
   "source": [
    "# Защита персональных данных клиентов страховой компании"
   ]
  },
  {
   "cell_type": "markdown",
   "metadata": {
    "pycharm": {
     "name": "#%% md\n"
    }
   },
   "source": [
    "Вам нужно защитить данные клиентов страховой компании «Хоть потоп». Разработайте такой метод преобразования данных, чтобы по ним было сложно восстановить персональную информацию. Обоснуйте корректность его работы.\n",
    "\n",
    "Нужно защитить данные, чтобы при преобразовании качество моделей машинного обучения не ухудшилось. Подбирать наилучшую модель не требуется."
   ]
  },
  {
   "cell_type": "markdown",
   "metadata": {
    "pycharm": {
     "name": "#%% md\n"
    }
   },
   "source": [
    "## Исходные данные"
   ]
  },
  {
   "cell_type": "markdown",
   "metadata": {
    "pycharm": {
     "name": "#%% md\n"
    }
   },
   "source": [
    "### Подключаемые модули"
   ]
  },
  {
   "cell_type": "code",
   "execution_count": 1,
   "metadata": {
    "pycharm": {
     "name": "#%%\n"
    }
   },
   "outputs": [],
   "source": [
    "# Подключаемые модули:\n",
    "\n",
    "#=====================================================================================================================\n",
    "# Основное\n",
    "import pandas as pd\n",
    "import numpy as np\n",
    "\n",
    "#=====================================================================================================================\n",
    "# Гарфика\n",
    "import matplotlib.pyplot as plt\n",
    "from matplotlib.gridspec import GridSpec\n",
    "import seaborn as sns\n",
    "\n",
    "#=====================================================================================================================\n",
    "# sklearn\n",
    "from sklearn.linear_model import LinearRegression\n",
    "from sklearn.model_selection import train_test_split\n",
    "from sklearn.metrics import r2_score\n",
    "from sklearn.utils import shuffle\n"
   ]
  },
  {
   "cell_type": "markdown",
   "metadata": {
    "pycharm": {
     "name": "#%% md\n"
    }
   },
   "source": [
    "### Настройка окружения"
   ]
  },
  {
   "cell_type": "code",
   "execution_count": 2,
   "metadata": {
    "pycharm": {
     "name": "#%%\n"
    }
   },
   "outputs": [],
   "source": [
    "pd.set_option('display.max_rows', 100)"
   ]
  },
  {
   "cell_type": "markdown",
   "metadata": {
    "pycharm": {
     "name": "#%% md\n"
    }
   },
   "source": [
    "### Общие параметры"
   ]
  },
  {
   "cell_type": "code",
   "execution_count": 3,
   "metadata": {
    "pycharm": {
     "name": "#%%\n"
    }
   },
   "outputs": [],
   "source": [
    "# ПАРАМЕТРЫ,, общие переменные\n",
    "YANDEX_STORAGE = None\n",
    "TABLE_SIZE = 100\n",
    "R_STATE = np.random.RandomState(123)"
   ]
  },
  {
   "cell_type": "markdown",
   "metadata": {
    "pycharm": {
     "name": "#%% md\n"
    }
   },
   "source": [
    "### Общие функции"
   ]
  },
  {
   "cell_type": "markdown",
   "metadata": {
    "pycharm": {
     "name": "#%% md\n"
    }
   },
   "source": [
    "Инструменты"
   ]
  },
  {
   "cell_type": "code",
   "execution_count": 4,
   "metadata": {
    "pycharm": {
     "name": "#%%\n"
    }
   },
   "outputs": [],
   "source": [
    "# формат текста для output\n",
    "class text:\n",
    "    END = '\\x1b[0m'\n",
    "    BOLD = '\\x1b[1m'\n",
    "    \n",
    "    UNDERLINE = '\\x1b[4m'\n",
    "    \n",
    "    NEGATIVE = '\\x1b[7m'\n",
    "\n",
    "    GREY = '\\x1b[30m'\n",
    "    RED = '\\x1b[31m'\n",
    "    GREEUN = '\\x1b[32m'\n",
    "    YELLOW = '\\x1b[33m'\n",
    "    BLUE = '\\x1b[34m'\n",
    "    PURPLE = '\\x1b[35m'\n",
    "    CYAN = '\\x1b[36m'\n",
    "    SILVER = '\\x1b[37m'\n",
    "    BLACK = '\\x1b[39m'\n",
    "    \n",
    "    BG_GREY = '\\x1b[40m'\n",
    "    BG_RED = '\\x1b[41m'\n",
    "    BG_GREEUN = '\\x1b[42m'\n",
    "    BG_YELLOW = '\\x1b[43m'\n",
    "    BG_BLUE = '\\x1b[44m'\n",
    "    BG_PURPLE = '\\x1b[45m'\n",
    "    BG_CYAN = '\\x1b[46m'\n",
    "    BG_SILVER = '\\x1b[47m'\n",
    "    \n",
    "    DARKGREY = '\\x1b[90m'\n",
    "    DARKRED = '\\x1b[91m'\n",
    "    DARKGREEUN = '\\x1b[92m'\n",
    "    DARKYELLOW = '\\x1b[93m'\n",
    "    DARKBLUE = '\\x1b[94m'\n",
    "    DARKPURPLE = '\\x1b[95m'\n",
    "    DARKCYAN = '\\x1b[96m'\n",
    "    DARKSILVER = '\\x1b[97m'\n",
    "    \n",
    "    BG_DARKGREY = '\\x1b[100m'\n",
    "    BG_DARKRED = '\\x1b[101m'\n",
    "    BG_DARKGREEUN = '\\x1b[102m'\n",
    "    BG_DARKYELLOW = '\\x1b[103m'\n",
    "    BG_DARKBLUE = '\\x1b[104m'\n",
    "    BG_DARKPURPLE = '\\x1b[105m'\n",
    "    BG_DARKCYAN = '\\x1b[106m'\n",
    "    BG_DARKSILVER = '\\x1b[107m'\n",
    "    \n",
    "    END_B = '\\x1b[21m'\n",
    "    END_U = '\\x1b[24m'\n",
    "    END_NEGATIVE = '\\x1b[27m'\n",
    "    END_C = '\\x1b[39m'\n",
    "    END_BG = '\\x1b[49m'"
   ]
  },
  {
   "cell_type": "markdown",
   "metadata": {
    "pycharm": {
     "name": "#%% md\n"
    }
   },
   "source": [
    "Информирование:"
   ]
  },
  {
   "cell_type": "code",
   "execution_count": 5,
   "metadata": {
    "pycharm": {
     "name": "#%%\n"
    }
   },
   "outputs": [],
   "source": [
    "# вывод таблицы описания данных\n",
    "def print_descripltion(df):\n",
    "    len_index = max([len(i) for i in df])\n",
    "    for index in df:\n",
    "        end = '' if len(description[index]) < TABLE_SIZE else '...'\n",
    "        print(f'{index.ljust(len_index)} - {description[index][:TABLE_SIZE]}{end}')\n",
    "\n",
    "# проверка пропусков\n",
    "def na_info(df, level=0.01):\n",
    "    sum_table = df.isna().sum()\n",
    "    na_table = df.count()\n",
    "    res_table = pd.DataFrame([na_table, sum_table, sum_table / na_table]).T.rename(columns = {0: 'count', 1: 'na', 2: 'fraction'})\n",
    "    \n",
    "    # Нет пропусков\n",
    "    print(text.BOLD, text.BG_SILVER, 'Нет пропусков:'.ljust(TABLE_SIZE, ' '), text.END)\n",
    "    display(res_table.query('na == 0').style.format({'fraction': '{:.2%}'}))\n",
    "\n",
    "    # Малая доля (на удаление)\n",
    "    print(text.BOLD, text.BG_SILVER, 'Малая доля пропусков:'.ljust(TABLE_SIZE, ' '), text.END)\n",
    "    small = res_table.query('fraction < @level and na > 0')\n",
    "    display(small.style.format({'fraction': '{:.2%}'}))\n",
    "    remains = df[res_table.query('fraction < @level and na > 0').index].dropna().shape[0] / df.shape[0]\n",
    "    print(f'Оценка остатка (при удалении пропусков с малой долей): {text.BOLD}{text.BG_YELLOW} {remains:.3%} {text.END}')\n",
    "    print()\n",
    "    \n",
    "    # Большая доля (на обработку)\n",
    "    print(text.BOLD, text.BG_SILVER, 'Большая доля пропусков:'.ljust(TABLE_SIZE, ' '), text.END)\n",
    "    big = res_table.query('fraction > @level')\n",
    "    display(big.style.format({'fraction': '{:.2%}'}))\n",
    "    \n",
    "    return {'delete': list(small.index), 'process': list(big.index)}"
   ]
  },
  {
   "cell_type": "code",
   "execution_count": 6,
   "metadata": {
    "pycharm": {
     "name": "#%%\n"
    }
   },
   "outputs": [],
   "source": [
    "# остаок таблицы:\n",
    "def show_remain(data):\n",
    "    display(\n",
    "        pd.DataFrame([np.array(df_prep.shape) / np.array(original_shape)], columns=['Число строк', 'Число столбцов'])\n",
    "        .style.format({'Число строк': '{:.1%}', 'Число столбцов': '{:.1%}'})\n",
    "    )"
   ]
  },
  {
   "cell_type": "markdown",
   "metadata": {
    "pycharm": {
     "name": "#%% md\n"
    }
   },
   "source": [
    "Презентации:"
   ]
  },
  {
   "cell_type": "code",
   "execution_count": 7,
   "metadata": {
    "pycharm": {
     "name": "#%%\n"
    }
   },
   "outputs": [],
   "source": [
    "def hist_box_describe(df, col, subtitle='', xlabel=None, ylabel=None, data=None, bins=None, figsize=(8, 8), **kwargs):\n",
    "    if type(data) == type(None):\n",
    "        data = df[col]\n",
    "    if xlabel == None:\n",
    "        try:\n",
    "            xlabel = description[col]\n",
    "        except:\n",
    "            pass\n",
    "    if bins == None:\n",
    "        bins = data.nunique()\n",
    "    \n",
    "    fig = plt.figure()\n",
    "    \n",
    "    # Разделение fig на зоны разных размеров:\n",
    "    gs1 = GridSpec(5, 1, left=0.05, right=0.95, hspace=0.03)\n",
    "    # (y, x) - размеры сетки (высота, ширина)\n",
    "    # left - расположние левой границы всей сетки (топа margin)\n",
    "    # right - расположние правой границы всей сетки (топа margin)\n",
    "    # wspace, hspace - зазоры между графиками (вертикальный, горизонтальный)\n",
    "    ax1 = fig.add_subplot(gs1[:1, :]) # (срез по Y, срез по X)\n",
    "    ax2 = fig.add_subplot(gs1[1:, :])\n",
    "    \n",
    "    # Построение графиков:\n",
    "    data.plot(ax=ax1, kind='box', vert=False, widths=0.6, **kwargs)\n",
    "    data.plot(ax=ax2, kind='hist', grid=True, bins=bins, **kwargs)\n",
    "    \n",
    "    # Различные настройки графиков:\n",
    "    fig.set_figwidth(figsize[0])\n",
    "    fig.set_figheight(figsize[1])\n",
    "    #fig.suptitle(f'Распределение показателя \"{xlabel}\"', fontsize = 16)\n",
    "    \n",
    "    ax1.xaxis.tick_top()\n",
    "    ax2.minorticks_on()\n",
    "    ax2.grid(which='major',\n",
    "            color = 'grey', \n",
    "            linewidth = 1.2)\n",
    "    ax2.grid(which='minor', \n",
    "            color = 'grey', \n",
    "            linestyle = ':')\n",
    "    \n",
    "    ax1.set_yticklabels([''])\n",
    "    ax2.set_xlabel(xlabel, fontsize = 14)\n",
    "    ax2.set_ylabel('Количество значений', fontsize = 14)\n",
    "    ax1.tick_params(labelsize = 12)\n",
    "    ax2.tick_params(labelsize = 12)\n",
    "    ax1.set_title(f'Распределение показателя \"{xlabel}\"{subtitle}', pad=15, fontsize = 16)\n",
    "\n",
    "    x = ax2.get_xbound()\n",
    "    y = ax2.get_ybound()\n",
    "    x_coord = x[0] + (x[1]-x[0])/figsize[0]*figsize[1]*0.03 if data.mean() < data.quantile(0.5) else x[1] - (x[1]-x[0])/figsize[0]*figsize[1]*0.29\n",
    "    y_coord = y[1] - (y[1]-y[0])*0.35\n",
    "    ax2.text(x_coord, y_coord, str(data.describe()),\n",
    "        rotation = 0,\n",
    "        fontsize = figsize[1]*1.2,\n",
    "        bbox = {'facecolor':'white', 'boxstyle': 'round', 'pad': 1}\n",
    "            )"
   ]
  },
  {
   "cell_type": "markdown",
   "metadata": {
    "pycharm": {
     "name": "#%% md\n"
    }
   },
   "source": [
    "## Получение данных"
   ]
  },
  {
   "cell_type": "markdown",
   "metadata": {
    "pycharm": {
     "name": "#%% md\n"
    }
   },
   "source": [
    "### Чтение данных из файла"
   ]
  },
  {
   "cell_type": "code",
   "execution_count": 8,
   "metadata": {
    "pycharm": {
     "name": "#%%\n"
    }
   },
   "outputs": [],
   "source": [
    "file = 'insurance.csv'"
   ]
  },
  {
   "cell_type": "code",
   "execution_count": 9,
   "metadata": {
    "pycharm": {
     "name": "#%%\n"
    }
   },
   "outputs": [],
   "source": [
    "df = pd.read_csv(f\"{YANDEX_STORAGE}{file}\")"
   ]
  },
  {
   "cell_type": "markdown",
   "metadata": {
    "pycharm": {
     "name": "#%% md\n"
    }
   },
   "source": [
    "### Описание данных"
   ]
  },
  {
   "cell_type": "markdown",
   "metadata": {
    "pycharm": {
     "name": "#%% md\n"
    }
   },
   "source": [
    "Создадим словарь описания данных на основании предоставленного описания"
   ]
  },
  {
   "cell_type": "code",
   "execution_count": 10,
   "metadata": {
    "pycharm": {
     "name": "#%%\n"
    }
   },
   "outputs": [],
   "source": [
    "# Создадим словарь описания данных\n",
    "description = {\n",
    "    'gender': 'Пол',\n",
    "    'age': 'Возраст',\n",
    "    'salary': 'Зарплата',\n",
    "    'family_members': 'Члены семьи',\n",
    "    'insurance_payment': 'Страховые выплаты'\n",
    "}"
   ]
  },
  {
   "cell_type": "markdown",
   "metadata": {
    "pycharm": {
     "name": "#%% md\n"
    }
   },
   "source": [
    "### Общая информация"
   ]
  },
  {
   "cell_type": "code",
   "execution_count": 11,
   "metadata": {
    "pycharm": {
     "name": "#%%\n"
    }
   },
   "outputs": [
    {
     "data": {
      "text/html": [
       "<div>\n",
       "<style scoped>\n",
       "    .dataframe tbody tr th:only-of-type {\n",
       "        vertical-align: middle;\n",
       "    }\n",
       "\n",
       "    .dataframe tbody tr th {\n",
       "        vertical-align: top;\n",
       "    }\n",
       "\n",
       "    .dataframe thead th {\n",
       "        text-align: right;\n",
       "    }\n",
       "</style>\n",
       "<table border=\"1\" class=\"dataframe\">\n",
       "  <thead>\n",
       "    <tr style=\"text-align: right;\">\n",
       "      <th></th>\n",
       "      <th>Пол</th>\n",
       "      <th>Возраст</th>\n",
       "      <th>Зарплата</th>\n",
       "      <th>Члены семьи</th>\n",
       "      <th>Страховые выплаты</th>\n",
       "    </tr>\n",
       "  </thead>\n",
       "  <tbody>\n",
       "    <tr>\n",
       "      <td>0</td>\n",
       "      <td>1</td>\n",
       "      <td>41.0</td>\n",
       "      <td>49600.0</td>\n",
       "      <td>1</td>\n",
       "      <td>0</td>\n",
       "    </tr>\n",
       "    <tr>\n",
       "      <td>1</td>\n",
       "      <td>0</td>\n",
       "      <td>46.0</td>\n",
       "      <td>38000.0</td>\n",
       "      <td>1</td>\n",
       "      <td>1</td>\n",
       "    </tr>\n",
       "    <tr>\n",
       "      <td>2</td>\n",
       "      <td>0</td>\n",
       "      <td>29.0</td>\n",
       "      <td>21000.0</td>\n",
       "      <td>0</td>\n",
       "      <td>0</td>\n",
       "    </tr>\n",
       "    <tr>\n",
       "      <td>3</td>\n",
       "      <td>0</td>\n",
       "      <td>21.0</td>\n",
       "      <td>41700.0</td>\n",
       "      <td>2</td>\n",
       "      <td>0</td>\n",
       "    </tr>\n",
       "    <tr>\n",
       "      <td>4</td>\n",
       "      <td>1</td>\n",
       "      <td>28.0</td>\n",
       "      <td>26100.0</td>\n",
       "      <td>0</td>\n",
       "      <td>0</td>\n",
       "    </tr>\n",
       "  </tbody>\n",
       "</table>\n",
       "</div>"
      ],
      "text/plain": [
       "   Пол  Возраст  Зарплата  Члены семьи  Страховые выплаты\n",
       "0    1     41.0   49600.0            1                  0\n",
       "1    0     46.0   38000.0            1                  1\n",
       "2    0     29.0   21000.0            0                  0\n",
       "3    0     21.0   41700.0            2                  0\n",
       "4    1     28.0   26100.0            0                  0"
      ]
     },
     "execution_count": 11,
     "metadata": {},
     "output_type": "execute_result"
    }
   ],
   "source": [
    "df.head()"
   ]
  },
  {
   "cell_type": "code",
   "execution_count": 12,
   "metadata": {
    "pycharm": {
     "name": "#%%\n"
    }
   },
   "outputs": [
    {
     "name": "stdout",
     "output_type": "stream",
     "text": [
      "<class 'pandas.core.frame.DataFrame'>\n",
      "RangeIndex: 5000 entries, 0 to 4999\n",
      "Data columns (total 5 columns):\n",
      "Пол                  5000 non-null int64\n",
      "Возраст              5000 non-null float64\n",
      "Зарплата             5000 non-null float64\n",
      "Члены семьи          5000 non-null int64\n",
      "Страховые выплаты    5000 non-null int64\n",
      "dtypes: float64(2), int64(3)\n",
      "memory usage: 195.4 KB\n"
     ]
    }
   ],
   "source": [
    "df.info()"
   ]
  },
  {
   "cell_type": "code",
   "execution_count": 13,
   "metadata": {
    "pycharm": {
     "name": "#%%\n"
    }
   },
   "outputs": [
    {
     "data": {
      "text/plain": [
       "Пол                    2\n",
       "Возраст               46\n",
       "Зарплата             524\n",
       "Члены семьи            7\n",
       "Страховые выплаты      6\n",
       "dtype: int64"
      ]
     },
     "execution_count": 13,
     "metadata": {},
     "output_type": "execute_result"
    }
   ],
   "source": [
    "df.nunique()"
   ]
  },
  {
   "cell_type": "code",
   "execution_count": 14,
   "metadata": {
    "pycharm": {
     "name": "#%%\n"
    }
   },
   "outputs": [
    {
     "data": {
      "text/plain": [
       "(5000, 5)"
      ]
     },
     "execution_count": 14,
     "metadata": {},
     "output_type": "execute_result"
    }
   ],
   "source": [
    "# Исходный размер таблицы:\n",
    "original_shape = df.shape\n",
    "original_shape"
   ]
  },
  {
   "cell_type": "markdown",
   "metadata": {
    "pycharm": {
     "name": "#%% md\n"
    }
   },
   "source": [
    "### Выводы"
   ]
  },
  {
   "cell_type": "markdown",
   "metadata": {
    "pycharm": {
     "name": "#%% md\n"
    }
   },
   "source": [
    "В данных содержится персональная информация о клиентах страховой компании.\n",
    "\n",
    "В таблице данных\n",
    "5 000 строк и 5 колонок\n",
    "\n",
    "Данные представляют из себя инфрмацию о клиенте страховой компании:\n",
    "- персонализированная информация (4):\n",
    "    - пол\n",
    "    - возраст\n",
    "    - зарплата\n",
    "    - количество членов семьи\n",
    "- **целевой** признак (1):\n",
    "    - количество страховых выплат\n",
    "\n",
    "СТРУКТУРА ДАННЫХ:\n",
    "\n",
    "* Необходимо перевести названия колонок к змеиному регистру и латинице\n",
    "* Проверить данные на явные дубликаты\n",
    "* В исходной таблице отсутствуют **попуски** данных.\n",
    "\n",
    "\n",
    "* По типам данных колонки можно разделить:\n",
    "    - **Категории:** пол;\n",
    "    - **Численные:** возраст, зарплата, количество членов семьи;\n",
    "    - **Булевые:** количество страховых выплат.\n",
    "\n",
    "\n",
    "* По **типам данных** нужно исправить\n",
    "    - возраст - привести к целочисленноому типу\n",
    "    - зарплата - проверить на целочисленность\n",
    "\n",
    "\n",
    "* Смыслове (логические) взаимосвязи:\n",
    "    - не выявлены\n"
   ]
  },
  {
   "cell_type": "markdown",
   "metadata": {
    "pycharm": {
     "name": "#%% md\n"
    }
   },
   "source": [
    "## Предобработка данных"
   ]
  },
  {
   "cell_type": "markdown",
   "metadata": {
    "pycharm": {
     "name": "#%% md\n"
    }
   },
   "source": [
    "---"
   ]
  },
  {
   "cell_type": "markdown",
   "metadata": {
    "pycharm": {
     "name": "#%% md\n"
    }
   },
   "source": [
    "Сохраним отдельный оригинальный набор исходных данных (не будем проводить какие-либо изменения в нем).\n",
    "\n",
    "В наборе `df_clean` призведем правки **структуры** данных."
   ]
  },
  {
   "cell_type": "code",
   "execution_count": 15,
   "metadata": {
    "pycharm": {
     "name": "#%%\n"
    }
   },
   "outputs": [],
   "source": [
    "df_clean = df.copy()"
   ]
  },
  {
   "cell_type": "markdown",
   "metadata": {
    "pycharm": {
     "name": "#%% md\n"
    }
   },
   "source": [
    "---"
   ]
  },
  {
   "cell_type": "markdown",
   "metadata": {
    "pycharm": {
     "name": "#%% md\n"
    }
   },
   "source": [
    "### Исправление заголовков"
   ]
  },
  {
   "cell_type": "markdown",
   "metadata": {
    "pycharm": {
     "name": "#%% md\n"
    }
   },
   "source": [
    "Приведем названия заголовков к змеиному регистру и латинице"
   ]
  },
  {
   "cell_type": "code",
   "execution_count": 16,
   "metadata": {
    "pycharm": {
     "name": "#%%\n"
    }
   },
   "outputs": [],
   "source": [
    "df_clean.columns = description.keys()"
   ]
  },
  {
   "cell_type": "markdown",
   "metadata": {
    "pycharm": {
     "name": "#%% md\n"
    }
   },
   "source": [
    "Проверим"
   ]
  },
  {
   "cell_type": "code",
   "execution_count": 17,
   "metadata": {
    "pycharm": {
     "name": "#%%\n"
    }
   },
   "outputs": [
    {
     "data": {
      "text/plain": [
       "Index(['gender', 'age', 'salary', 'family_members', 'insurance_payment'], dtype='object')"
      ]
     },
     "execution_count": 17,
     "metadata": {},
     "output_type": "execute_result"
    }
   ],
   "source": [
    "df_clean.columns"
   ]
  },
  {
   "cell_type": "markdown",
   "metadata": {
    "pycharm": {
     "name": "#%% md\n"
    }
   },
   "source": [
    "Выведем словарь описания данных"
   ]
  },
  {
   "cell_type": "code",
   "execution_count": 18,
   "metadata": {
    "pycharm": {
     "name": "#%%\n"
    }
   },
   "outputs": [
    {
     "name": "stdout",
     "output_type": "stream",
     "text": [
      "gender            - Пол\n",
      "age               - Возраст\n",
      "salary            - Зарплата\n",
      "family_members    - Члены семьи\n",
      "insurance_payment - Страховые выплаты\n"
     ]
    }
   ],
   "source": [
    "print_descripltion(df_clean)"
   ]
  },
  {
   "cell_type": "markdown",
   "metadata": {
    "pycharm": {
     "name": "#%% md\n"
    }
   },
   "source": [
    "### Проверка на явные дубликаты"
   ]
  },
  {
   "cell_type": "code",
   "execution_count": 19,
   "metadata": {
    "pycharm": {
     "name": "#%%\n"
    }
   },
   "outputs": [
    {
     "data": {
      "text/plain": [
       "153"
      ]
     },
     "execution_count": 19,
     "metadata": {},
     "output_type": "execute_result"
    }
   ],
   "source": [
    "df_clean.duplicated().sum()"
   ]
  },
  {
   "cell_type": "markdown",
   "metadata": {
    "pycharm": {
     "name": "#%% md\n"
    }
   },
   "source": [
    "Удалим явные дубликаты"
   ]
  },
  {
   "cell_type": "code",
   "execution_count": 20,
   "metadata": {
    "pycharm": {
     "name": "#%%\n"
    }
   },
   "outputs": [],
   "source": [
    "df_clean = df_clean.drop_duplicates().reset_index(drop=True)"
   ]
  },
  {
   "cell_type": "code",
   "execution_count": 21,
   "metadata": {
    "pycharm": {
     "name": "#%%\n"
    }
   },
   "outputs": [
    {
     "data": {
      "text/plain": [
       "0"
      ]
     },
     "execution_count": 21,
     "metadata": {},
     "output_type": "execute_result"
    }
   ],
   "source": [
    "df_clean.duplicated().sum()"
   ]
  },
  {
   "cell_type": "markdown",
   "metadata": {
    "pycharm": {
     "name": "#%% md\n"
    }
   },
   "source": [
    "**Вывод:**\n",
    "\n",
    "Явные дубликаты удалены."
   ]
  },
  {
   "cell_type": "markdown",
   "metadata": {
    "pycharm": {
     "name": "#%% md\n"
    }
   },
   "source": [
    "### Проверка пропусков"
   ]
  },
  {
   "cell_type": "code",
   "execution_count": 22,
   "metadata": {
    "pycharm": {
     "name": "#%%\n"
    }
   },
   "outputs": [
    {
     "name": "stdout",
     "output_type": "stream",
     "text": [
      "\u001b[1m \u001b[47m Нет пропусков:                                                                                       \u001b[0m\n"
     ]
    },
    {
     "data": {
      "text/html": [
       "<style  type=\"text/css\" >\n",
       "</style><table id=\"T_7b95c7dc_a426_11ec_beee_02420a390025\" ><thead>    <tr>        <th class=\"blank level0\" ></th>        <th class=\"col_heading level0 col0\" >count</th>        <th class=\"col_heading level0 col1\" >na</th>        <th class=\"col_heading level0 col2\" >fraction</th>    </tr></thead><tbody>\n",
       "                <tr>\n",
       "                        <th id=\"T_7b95c7dc_a426_11ec_beee_02420a390025level0_row0\" class=\"row_heading level0 row0\" >gender</th>\n",
       "                        <td id=\"T_7b95c7dc_a426_11ec_beee_02420a390025row0_col0\" class=\"data row0 col0\" >4847</td>\n",
       "                        <td id=\"T_7b95c7dc_a426_11ec_beee_02420a390025row0_col1\" class=\"data row0 col1\" >0</td>\n",
       "                        <td id=\"T_7b95c7dc_a426_11ec_beee_02420a390025row0_col2\" class=\"data row0 col2\" >0.00%</td>\n",
       "            </tr>\n",
       "            <tr>\n",
       "                        <th id=\"T_7b95c7dc_a426_11ec_beee_02420a390025level0_row1\" class=\"row_heading level0 row1\" >age</th>\n",
       "                        <td id=\"T_7b95c7dc_a426_11ec_beee_02420a390025row1_col0\" class=\"data row1 col0\" >4847</td>\n",
       "                        <td id=\"T_7b95c7dc_a426_11ec_beee_02420a390025row1_col1\" class=\"data row1 col1\" >0</td>\n",
       "                        <td id=\"T_7b95c7dc_a426_11ec_beee_02420a390025row1_col2\" class=\"data row1 col2\" >0.00%</td>\n",
       "            </tr>\n",
       "            <tr>\n",
       "                        <th id=\"T_7b95c7dc_a426_11ec_beee_02420a390025level0_row2\" class=\"row_heading level0 row2\" >salary</th>\n",
       "                        <td id=\"T_7b95c7dc_a426_11ec_beee_02420a390025row2_col0\" class=\"data row2 col0\" >4847</td>\n",
       "                        <td id=\"T_7b95c7dc_a426_11ec_beee_02420a390025row2_col1\" class=\"data row2 col1\" >0</td>\n",
       "                        <td id=\"T_7b95c7dc_a426_11ec_beee_02420a390025row2_col2\" class=\"data row2 col2\" >0.00%</td>\n",
       "            </tr>\n",
       "            <tr>\n",
       "                        <th id=\"T_7b95c7dc_a426_11ec_beee_02420a390025level0_row3\" class=\"row_heading level0 row3\" >family_members</th>\n",
       "                        <td id=\"T_7b95c7dc_a426_11ec_beee_02420a390025row3_col0\" class=\"data row3 col0\" >4847</td>\n",
       "                        <td id=\"T_7b95c7dc_a426_11ec_beee_02420a390025row3_col1\" class=\"data row3 col1\" >0</td>\n",
       "                        <td id=\"T_7b95c7dc_a426_11ec_beee_02420a390025row3_col2\" class=\"data row3 col2\" >0.00%</td>\n",
       "            </tr>\n",
       "            <tr>\n",
       "                        <th id=\"T_7b95c7dc_a426_11ec_beee_02420a390025level0_row4\" class=\"row_heading level0 row4\" >insurance_payment</th>\n",
       "                        <td id=\"T_7b95c7dc_a426_11ec_beee_02420a390025row4_col0\" class=\"data row4 col0\" >4847</td>\n",
       "                        <td id=\"T_7b95c7dc_a426_11ec_beee_02420a390025row4_col1\" class=\"data row4 col1\" >0</td>\n",
       "                        <td id=\"T_7b95c7dc_a426_11ec_beee_02420a390025row4_col2\" class=\"data row4 col2\" >0.00%</td>\n",
       "            </tr>\n",
       "    </tbody></table>"
      ],
      "text/plain": [
       "<pandas.io.formats.style.Styler at 0x7fef8eb56750>"
      ]
     },
     "metadata": {},
     "output_type": "display_data"
    },
    {
     "name": "stdout",
     "output_type": "stream",
     "text": [
      "\u001b[1m \u001b[47m Малая доля пропусков:                                                                                \u001b[0m\n"
     ]
    },
    {
     "data": {
      "text/html": [
       "<style  type=\"text/css\" >\n",
       "</style><table id=\"T_7b98d616_a426_11ec_beee_02420a390025\" ><thead>    <tr>        <th class=\"blank level0\" ></th>        <th class=\"col_heading level0 col0\" >count</th>        <th class=\"col_heading level0 col1\" >na</th>        <th class=\"col_heading level0 col2\" >fraction</th>    </tr></thead><tbody>\n",
       "        </tbody></table>"
      ],
      "text/plain": [
       "<pandas.io.formats.style.Styler at 0x7fef6a73fc10>"
      ]
     },
     "metadata": {},
     "output_type": "display_data"
    },
    {
     "name": "stdout",
     "output_type": "stream",
     "text": [
      "Оценка остатка (при удалении пропусков с малой долей): \u001b[1m\u001b[43m 100.000% \u001b[0m\n",
      "\n",
      "\u001b[1m \u001b[47m Большая доля пропусков:                                                                              \u001b[0m\n"
     ]
    },
    {
     "data": {
      "text/html": [
       "<style  type=\"text/css\" >\n",
       "</style><table id=\"T_7b9bdd98_a426_11ec_beee_02420a390025\" ><thead>    <tr>        <th class=\"blank level0\" ></th>        <th class=\"col_heading level0 col0\" >count</th>        <th class=\"col_heading level0 col1\" >na</th>        <th class=\"col_heading level0 col2\" >fraction</th>    </tr></thead><tbody>\n",
       "        </tbody></table>"
      ],
      "text/plain": [
       "<pandas.io.formats.style.Styler at 0x7fef6a73f6d0>"
      ]
     },
     "metadata": {},
     "output_type": "display_data"
    },
    {
     "data": {
      "text/plain": [
       "{'delete': [], 'process': []}"
      ]
     },
     "execution_count": 22,
     "metadata": {},
     "output_type": "execute_result"
    }
   ],
   "source": [
    "na_info(df_clean)"
   ]
  },
  {
   "cell_type": "markdown",
   "metadata": {
    "pycharm": {
     "name": "#%% md\n"
    }
   },
   "source": [
    "**Вывод:**\n",
    "\n",
    "Пропуски в данных отсутствуют."
   ]
  },
  {
   "cell_type": "markdown",
   "metadata": {
    "pycharm": {
     "name": "#%% md\n"
    }
   },
   "source": [
    "### Замена типов данных"
   ]
  },
  {
   "cell_type": "markdown",
   "metadata": {
    "pycharm": {
     "name": "#%% md\n"
    }
   },
   "source": [
    "Проверим на целочисленность признак \"Возраст\".\n",
    "\n",
    "*Если десятичная доля более 0.01, то оставим признак как численный с дробной частью. В ином случае преобразуем к целочисленному*"
   ]
  },
  {
   "cell_type": "code",
   "execution_count": 23,
   "metadata": {
    "pycharm": {
     "name": "#%%\n"
    }
   },
   "outputs": [
    {
     "data": {
      "text/plain": [
       "0"
      ]
     },
     "execution_count": 23,
     "metadata": {},
     "output_type": "execute_result"
    }
   ],
   "source": [
    "(df_clean['age'] % 1 > 0.01).sum()"
   ]
  },
  {
   "cell_type": "markdown",
   "metadata": {
    "pycharm": {
     "name": "#%% md\n"
    }
   },
   "source": [
    "Дробных частей в признаке \"Возраст\" нет, поэтому преобразуем его к целочисленному типу:"
   ]
  },
  {
   "cell_type": "code",
   "execution_count": 24,
   "metadata": {
    "pycharm": {
     "name": "#%%\n"
    }
   },
   "outputs": [],
   "source": [
    "df_clean['age'] = df_clean['age'].astype('int')"
   ]
  },
  {
   "cell_type": "markdown",
   "metadata": {
    "pycharm": {
     "name": "#%% md\n"
    }
   },
   "source": [
    "Проверим на целочисленность признак \"Зарплата\".\n",
    "\n",
    "*Если десятичная доля более 0.01, то оставим признак как численный с дробной частью. В ином случае преобразуем к целочисленному*"
   ]
  },
  {
   "cell_type": "code",
   "execution_count": 25,
   "metadata": {
    "pycharm": {
     "name": "#%%\n"
    }
   },
   "outputs": [
    {
     "data": {
      "text/plain": [
       "3"
      ]
     },
     "execution_count": 25,
     "metadata": {},
     "output_type": "execute_result"
    }
   ],
   "source": [
    "(df_clean['salary'] % 1 > 0.01).sum()"
   ]
  },
  {
   "cell_type": "markdown",
   "metadata": {
    "pycharm": {
     "name": "#%% md\n"
    }
   },
   "source": [
    "Имеются дробные части в признаке \"Возраст\", поэтому оставим его типом `float`"
   ]
  },
  {
   "cell_type": "markdown",
   "metadata": {
    "pycharm": {
     "name": "#%% md\n"
    }
   },
   "source": [
    "Перепроверим типы данных"
   ]
  },
  {
   "cell_type": "code",
   "execution_count": 26,
   "metadata": {
    "pycharm": {
     "name": "#%%\n"
    }
   },
   "outputs": [
    {
     "data": {
      "text/plain": [
       "gender                 int64\n",
       "age                    int64\n",
       "salary               float64\n",
       "family_members         int64\n",
       "insurance_payment      int64\n",
       "dtype: object"
      ]
     },
     "execution_count": 26,
     "metadata": {},
     "output_type": "execute_result"
    }
   ],
   "source": [
    "df_clean.dtypes"
   ]
  },
  {
   "cell_type": "markdown",
   "metadata": {
    "pycharm": {
     "name": "#%% md\n"
    }
   },
   "source": [
    "**Вывод:**\n",
    "\n",
    "1. Признак `age` приведен к категориальному типу\n",
    "1. Все параметры соответствуют своему типу данных:\n",
    "- **1** численных с дробной частью (*зарплата*) имеют тип **`float`**\n",
    "- **2** целочисленных (*пол, возраст*) имеют тип **`int`**\n",
    "- **2** булевых (*пол, количество страховых выплат*) имеют тип **`int`**"
   ]
  },
  {
   "cell_type": "markdown",
   "metadata": {
    "pycharm": {
     "name": "#%% md\n"
    }
   },
   "source": [
    "---"
   ]
  },
  {
   "cell_type": "markdown",
   "metadata": {
    "pycharm": {
     "name": "#%% md\n"
    }
   },
   "source": [
    "Закончено формирование набора `df_clean`\n",
    "\n",
    "**На следующищ этапах формируется набор `df_prep`**\n",
    "\n",
    "В наборе `df_prep` призведем правки **состава** данных."
   ]
  },
  {
   "cell_type": "code",
   "execution_count": 27,
   "metadata": {
    "pycharm": {
     "name": "#%%\n"
    }
   },
   "outputs": [],
   "source": [
    "df_prep = df_clean.copy()"
   ]
  },
  {
   "cell_type": "markdown",
   "metadata": {
    "pycharm": {
     "name": "#%% md\n"
    }
   },
   "source": [
    "---"
   ]
  },
  {
   "cell_type": "markdown",
   "metadata": {
    "pycharm": {
     "name": "#%% md\n"
    }
   },
   "source": [
    "### Проверка смысловых зависимостей"
   ]
  },
  {
   "cell_type": "markdown",
   "metadata": {
    "pycharm": {
     "name": "#%% md\n"
    }
   },
   "source": [
    "Смысловые зависимости в данных отсутствуют."
   ]
  },
  {
   "cell_type": "markdown",
   "metadata": {
    "pycharm": {
     "name": "#%% md\n"
    }
   },
   "source": [
    "### Проверка значений: ошибки, выбросы, дубликаты"
   ]
  },
  {
   "cell_type": "markdown",
   "metadata": {
    "pycharm": {
     "name": "#%% md\n"
    }
   },
   "source": [
    "Еще раз просмортим количество уникальных значений по столбцам:"
   ]
  },
  {
   "cell_type": "code",
   "execution_count": 28,
   "metadata": {
    "pycharm": {
     "name": "#%%\n"
    }
   },
   "outputs": [
    {
     "data": {
      "text/html": [
       "<div>\n",
       "<style scoped>\n",
       "    .dataframe tbody tr th:only-of-type {\n",
       "        vertical-align: middle;\n",
       "    }\n",
       "\n",
       "    .dataframe tbody tr th {\n",
       "        vertical-align: top;\n",
       "    }\n",
       "\n",
       "    .dataframe thead th {\n",
       "        text-align: right;\n",
       "    }\n",
       "</style>\n",
       "<table border=\"1\" class=\"dataframe\">\n",
       "  <thead>\n",
       "    <tr style=\"text-align: right;\">\n",
       "      <th></th>\n",
       "      <th>type</th>\n",
       "      <th>n_unique</th>\n",
       "    </tr>\n",
       "  </thead>\n",
       "  <tbody>\n",
       "    <tr>\n",
       "      <td>gender</td>\n",
       "      <td>int64</td>\n",
       "      <td>2</td>\n",
       "    </tr>\n",
       "    <tr>\n",
       "      <td>age</td>\n",
       "      <td>int64</td>\n",
       "      <td>46</td>\n",
       "    </tr>\n",
       "    <tr>\n",
       "      <td>salary</td>\n",
       "      <td>float64</td>\n",
       "      <td>524</td>\n",
       "    </tr>\n",
       "    <tr>\n",
       "      <td>family_members</td>\n",
       "      <td>int64</td>\n",
       "      <td>7</td>\n",
       "    </tr>\n",
       "    <tr>\n",
       "      <td>insurance_payment</td>\n",
       "      <td>int64</td>\n",
       "      <td>6</td>\n",
       "    </tr>\n",
       "  </tbody>\n",
       "</table>\n",
       "</div>"
      ],
      "text/plain": [
       "                      type  n_unique\n",
       "gender               int64         2\n",
       "age                  int64        46\n",
       "salary             float64       524\n",
       "family_members       int64         7\n",
       "insurance_payment    int64         6"
      ]
     },
     "execution_count": 28,
     "metadata": {},
     "output_type": "execute_result"
    }
   ],
   "source": [
    "pd.DataFrame({'type':df_prep.dtypes, 'n_unique': df_prep.nunique()})"
   ]
  },
  {
   "cell_type": "markdown",
   "metadata": {
    "pycharm": {
     "name": "#%% md\n"
    }
   },
   "source": [
    "#### Пол"
   ]
  },
  {
   "cell_type": "markdown",
   "metadata": {
    "pycharm": {
     "name": "#%% md\n"
    }
   },
   "source": [
    "Проверим значения по столбцу `gender`.\n",
    "\n",
    "Это категориальный тип."
   ]
  },
  {
   "cell_type": "code",
   "execution_count": 29,
   "metadata": {
    "pycharm": {
     "name": "#%%\n"
    }
   },
   "outputs": [
    {
     "data": {
      "text/plain": [
       "0    2431\n",
       "1    2416\n",
       "Name: gender, dtype: int64"
      ]
     },
     "execution_count": 29,
     "metadata": {},
     "output_type": "execute_result"
    }
   ],
   "source": [
    "df_prep['gender'].value_counts(dropna=False).sort_index()"
   ]
  },
  {
   "cell_type": "markdown",
   "metadata": {
    "pycharm": {
     "name": "#%% md\n"
    }
   },
   "source": [
    "**Вывод:** значения приемлимы."
   ]
  },
  {
   "cell_type": "markdown",
   "metadata": {
    "pycharm": {
     "name": "#%% md\n"
    }
   },
   "source": [
    "#### Возраст"
   ]
  },
  {
   "cell_type": "markdown",
   "metadata": {
    "pycharm": {
     "name": "#%% md\n"
    }
   },
   "source": [
    "Проверим значения по столбцу `age`.\n",
    "\n",
    "Это численный тип."
   ]
  },
  {
   "cell_type": "code",
   "execution_count": 30,
   "metadata": {
    "pycharm": {
     "name": "#%%\n"
    },
    "scrolled": false
   },
   "outputs": [
    {
     "data": {
      "image/png": "[encoded data removed]",
      "text/plain": [
       "<Figure size 576x576 with 2 Axes>"
      ]
     },
     "metadata": {
      "needs_background": "light"
     },
     "output_type": "display_data"
    }
   ],
   "source": [
    "hist_box_describe(df_prep, 'age')"
   ]
  },
  {
   "cell_type": "markdown",
   "metadata": {
    "pycharm": {
     "name": "#%% md\n"
    }
   },
   "source": [
    "**Выводы:**\n",
    "\n",
    "- Диапазон значений приемлимый (от 18 до 65 лет).\n",
    "- Медианное значение возраста составляет **30** лет.\n",
    "- Среднее значение возраста составляет **31** год.\n",
    "- Распределение нормальное (минимальное значение \"обрезано\" возрастом совершеннолетия - 18 лет).\n",
    "- По излишнему количеству значений 18 лет (минимальное значение) можно предположить, что в этом значении сконцентрированы некторые случаи фиктивного совершеннолетия."
   ]
  },
  {
   "cell_type": "markdown",
   "metadata": {
    "pycharm": {
     "name": "#%% md\n"
    }
   },
   "source": [
    "#### Зарплата"
   ]
  },
  {
   "cell_type": "markdown",
   "metadata": {
    "pycharm": {
     "name": "#%% md\n"
    }
   },
   "source": [
    "Проверим значения по столбцу `salary`.\n",
    "\n",
    "Это численный тип."
   ]
  },
  {
   "cell_type": "code",
   "execution_count": 31,
   "metadata": {
    "pycharm": {
     "name": "#%%\n"
    }
   },
   "outputs": [
    {
     "data": {
      "image/png": "[encoded data removed]",
      "text/plain": [
       "<Figure size 576x576 with 2 Axes>"
      ]
     },
     "metadata": {
      "needs_background": "light"
     },
     "output_type": "display_data"
    }
   ],
   "source": [
    "hist_box_describe(df_prep, 'salary', bins=100)"
   ]
  },
  {
   "cell_type": "markdown",
   "metadata": {
    "pycharm": {
     "name": "#%% md\n"
    }
   },
   "source": [
    "**Выводы:**\n",
    "\n",
    "- Диапазон значений приемлимый (от 5 300 до 79 000).\n",
    "- Среднее значение зарплаты составляет **40 000** руб.\n",
    "- Распределение нормальное."
   ]
  },
  {
   "cell_type": "markdown",
   "metadata": {
    "pycharm": {
     "name": "#%% md\n"
    }
   },
   "source": [
    "#### Количество членов семьи"
   ]
  },
  {
   "cell_type": "markdown",
   "metadata": {
    "pycharm": {
     "name": "#%% md\n"
    }
   },
   "source": [
    "Проверим значения по столбцу `family_members`.\n",
    "\n",
    "Это численный тип."
   ]
  },
  {
   "cell_type": "code",
   "execution_count": 32,
   "metadata": {
    "pycharm": {
     "name": "#%%\n"
    }
   },
   "outputs": [
    {
     "data": {
      "image/png": "[encoded data removed]",
      "text/plain": [
       "<Figure size 432x432 with 2 Axes>"
      ]
     },
     "metadata": {
      "needs_background": "light"
     },
     "output_type": "display_data"
    }
   ],
   "source": [
    "hist_box_describe(df_prep, 'family_members', figsize=(6, 6))"
   ]
  },
  {
   "cell_type": "markdown",
   "metadata": {
    "pycharm": {
     "name": "#%% md\n"
    }
   },
   "source": [
    "**Выводы:**\n",
    "\n",
    "- Диапазон значений приемлимый (от 0 до 6). *\n",
    "- Среднее колчиество членов семьи составляет **1** (т.е. среднестатистическая семья состоит из 2-х человек).\n",
    "- Распределение Пуассона.\n",
    "\n",
    "\\* *Судя по большому количеству значений **`0`** можно сделать предположение, что это не ошибка, а данные отображают количество членов семьи помимо самого клиента.*"
   ]
  },
  {
   "cell_type": "markdown",
   "metadata": {
    "pycharm": {
     "name": "#%% md\n"
    }
   },
   "source": [
    "#### Страховые выплаты"
   ]
  },
  {
   "cell_type": "markdown",
   "metadata": {
    "pycharm": {
     "name": "#%% md\n"
    }
   },
   "source": [
    "Проверим значения по столбцу `insurance_payment`.\n",
    "\n",
    "Это численный тип."
   ]
  },
  {
   "cell_type": "code",
   "execution_count": 33,
   "metadata": {
    "pycharm": {
     "name": "#%%\n"
    },
    "scrolled": false
   },
   "outputs": [
    {
     "data": {
      "image/png": "[encoded data removed]",
      "text/plain": [
       "<Figure size 432x432 with 2 Axes>"
      ]
     },
     "metadata": {
      "needs_background": "light"
     },
     "output_type": "display_data"
    }
   ],
   "source": [
    "hist_box_describe(df_prep, 'insurance_payment', figsize=(6, 6))"
   ]
  },
  {
   "cell_type": "markdown",
   "metadata": {
    "pycharm": {
     "name": "#%% md\n"
    }
   },
   "source": [
    "**Выводы:**\n",
    "\n",
    "- Диапазон значений приемлимый (от 0 до 5).\n",
    "- Среднее количество страховых выплат составляет **0.5** (т.е. в среднем каждый 2-й клиент имеет не менее 1 старховой выплаты).\n",
    "- Распределение Пуассона."
   ]
  },
  {
   "cell_type": "markdown",
   "metadata": {
    "pycharm": {
     "name": "#%% md\n"
    }
   },
   "source": [
    "### Вывод"
   ]
  },
  {
   "cell_type": "markdown",
   "metadata": {
    "pycharm": {
     "name": "#%% md\n"
    }
   },
   "source": [
    "1. Данные успешно загружены и изучены.\n",
    "1. Произведена первоначальная предобработка данных.\n",
    "1. Исправлены названия заголовков.\n",
    "1. Удалены явные дубликаты (остаток данных - 96,9%).\n",
    "1. Пропуски данных остутствуют.\n",
    "1. Признак `age` приведен к целочисленному типу.\n",
    "1. Все значения в данных находятся в допустимых диапазонах."
   ]
  },
  {
   "cell_type": "code",
   "execution_count": 34,
   "metadata": {
    "pycharm": {
     "name": "#%%\n"
    }
   },
   "outputs": [
    {
     "data": {
      "text/html": [
       "<style  type=\"text/css\" >\n",
       "</style><table id=\"T_7f543f20_a426_11ec_beee_02420a390025\" ><thead>    <tr>        <th class=\"blank level0\" ></th>        <th class=\"col_heading level0 col0\" >Число строк</th>        <th class=\"col_heading level0 col1\" >Число столбцов</th>    </tr></thead><tbody>\n",
       "                <tr>\n",
       "                        <th id=\"T_7f543f20_a426_11ec_beee_02420a390025level0_row0\" class=\"row_heading level0 row0\" >0</th>\n",
       "                        <td id=\"T_7f543f20_a426_11ec_beee_02420a390025row0_col0\" class=\"data row0 col0\" >96.9%</td>\n",
       "                        <td id=\"T_7f543f20_a426_11ec_beee_02420a390025row0_col1\" class=\"data row0 col1\" >100.0%</td>\n",
       "            </tr>\n",
       "    </tbody></table>"
      ],
      "text/plain": [
       "<pandas.io.formats.style.Styler at 0x7fefd4c485d0>"
      ]
     },
     "metadata": {},
     "output_type": "display_data"
    }
   ],
   "source": [
    "show_remain(df_prep)"
   ]
  },
  {
   "cell_type": "markdown",
   "metadata": {
    "pycharm": {
     "name": "#%% md\n"
    }
   },
   "source": [
    "## Умножение матриц"
   ]
  },
  {
   "cell_type": "markdown",
   "metadata": {
    "pycharm": {
     "name": "#%% md\n"
    }
   },
   "source": [
    "Обозначения:\n",
    "\n",
    "- $X$ — матрица признаков (нулевой столбец состоит из единиц)\n",
    "\n",
    "- $y$ — вектор целевого признака\n",
    "\n",
    "- $P$ — матрица, на которую умножаются признаки\n",
    "\n",
    "- $w$ — вектор весов линейной регрессии (нулевой элемент равен сдвигу)"
   ]
  },
  {
   "cell_type": "markdown",
   "metadata": {
    "pycharm": {
     "name": "#%% md\n"
    }
   },
   "source": [
    "Предсказания:\n",
    "\n",
    "$$\n",
    "a = Xw\n",
    "$$\n",
    "\n",
    "Задача обучения:\n",
    "\n",
    "$$\n",
    "w = \\arg\\min_w MSE(Xw, y)\n",
    "$$\n",
    "\n",
    "Формула обучения:\n",
    "\n",
    "$$\n",
    "w = (X^T X)^{-1} X^T y\n",
    "$$"
   ]
  },
  {
   "cell_type": "markdown",
   "metadata": {
    "pycharm": {
     "name": "#%% md\n"
    }
   },
   "source": [
    "**Вопрос:**\n",
    "\n",
    "Признаки умножают на обратимую матрицу. Изменится ли качество линейной регрессии? (Её можно обучить заново.)\n",
    "\n",
    "**Ответ:**\n",
    "\n",
    "Качество линейной регресии не изменится."
   ]
  },
  {
   "cell_type": "markdown",
   "metadata": {
    "pycharm": {
     "name": "#%% md\n"
    }
   },
   "source": [
    "**Обоснование:**\n",
    "\n",
    "На исходных признаках предсказания определяются как: $a = Xw$\n",
    "\n",
    "Если признаки умножить на обратимую матрицу $M$, то признаки будут равны:\n",
    "\n",
    "$$\n",
    "X' = X M\n",
    "$$\n",
    "\n",
    "Тогда при обучении вектор весов примет значения:\n",
    "\n",
    "$$\n",
    "w' = w M^{-1}\n",
    "$$\n",
    "\n",
    "И в этом случае предсказания будут равны:\n",
    "\n",
    "$$\n",
    "a' = X' w' = (X M) (w M^{-1}) = (X w) (M M^{-1}) = (X w) E = (X w) = a\n",
    "$$\n",
    "\n",
    "т.е. те же предсказания, что и на исходных признаках."
   ]
  },
  {
   "cell_type": "markdown",
   "metadata": {
    "pycharm": {
     "name": "#%% md\n"
    }
   },
   "source": [
    "Докажем, что $w' = w M^{-1}$:"
   ]
  },
  {
   "cell_type": "markdown",
   "metadata": {
    "pycharm": {
     "name": "#%% md\n"
    }
   },
   "source": [
    "$$\n",
    "w' = ((XP)^T XP)^{-1} (XP)^T y\n",
    "$$\n",
    "\n",
    "$$\n",
    "w' = (P^T (X^T X) P)^{-1} (XP)^T y\n",
    "$$\n",
    "\n",
    "$$\n",
    "w' = ((X^T X) P)^{-1} (P^T)^{-1} (XP)^T y\n",
    "$$\n",
    "\n",
    "$$\n",
    "w' = ((X^T X) P)^{-1} (P^T)^{-1} P^T X^T y\n",
    "$$\n",
    "\n",
    "$$\n",
    "w' = ((X^T X) P)^{-1} E X^T y\n",
    "$$\n",
    "\n",
    "$$\n",
    "w' = P^{-1} (X^T X)^{-1} X^T y\n",
    "$$\n",
    "\n",
    "$$\n",
    "w' = P^{-1} w\n",
    "$$"
   ]
  },
  {
   "cell_type": "markdown",
   "metadata": {
    "pycharm": {
     "name": "#%% md\n"
    }
   },
   "source": [
    "## Алгоритм преобразования"
   ]
  },
  {
   "cell_type": "markdown",
   "metadata": {
    "pycharm": {
     "name": "#%% md\n"
    }
   },
   "source": [
    "**Алгоритм**"
   ]
  },
  {
   "cell_type": "markdown",
   "metadata": {
    "pycharm": {
     "name": "#%% md\n"
    }
   },
   "source": [
    "1. Создаем шифрующую матрицу преобразования\n",
    "    - матрица обратимая\n",
    "    - размерность матрицы = количесство признаков\n",
    "1. Производим матричное умножение обучающих признаков на матрицу преобразования\n",
    "1. Обучаем модель на преобразованных признаках\n",
    "1. Производим матричное умножение тестовых признаков на матрицу преобразования\n",
    "1. Получаем предсказания на преобразованных признаках"
   ]
  },
  {
   "cell_type": "markdown",
   "metadata": {
    "pycharm": {
     "name": "#%% md\n"
    }
   },
   "source": [
    "**Обоснование:**\n",
    "\n",
    "На исходных признаках предсказания определяются как: $a = Xw$\n",
    "\n",
    "Если признаки умножить на обратимую матрицу $M$, то признаки будут равны:\n",
    "\n",
    "$$\n",
    "X' = X M\n",
    "$$\n",
    "\n",
    "Тогда при обучении вектор весов примет значения:\n",
    "\n",
    "$$\n",
    "w' = w M^{-1}\n",
    "$$\n",
    "\n",
    "И в этом случае предсказания будут равны:\n",
    "\n",
    "$$\n",
    "a' = X' w' = (X M) (w M^{-1}) = (X w) (M M^{-1}) = (X w) E = (X w) = a\n",
    "$$\n",
    "\n",
    "т.е. те же предсказания, что и на исходных признаках.\n",
    "\n",
    "А если брать одни и те же предсказания для вычисления метрики, то метрики будут одни и те же."
   ]
  },
  {
   "cell_type": "markdown",
   "metadata": {
    "pycharm": {
     "name": "#%% md\n"
    }
   },
   "source": [
    "## Подготовка данных"
   ]
  },
  {
   "cell_type": "markdown",
   "metadata": {
    "pycharm": {
     "name": "#%% md\n"
    }
   },
   "source": [
    "Поскольку располагаем не временными рядами, то перемешаем данные для исключения случайно последовательности данных."
   ]
  },
  {
   "cell_type": "code",
   "execution_count": 35,
   "metadata": {
    "pycharm": {
     "name": "#%%\n"
    }
   },
   "outputs": [],
   "source": [
    "df_prep = shuffle(df_prep, random_state=123)"
   ]
  },
  {
   "cell_type": "markdown",
   "metadata": {
    "pycharm": {
     "name": "#%% md\n"
    }
   },
   "source": [
    "### Признаки и целевой признак"
   ]
  },
  {
   "cell_type": "code",
   "execution_count": 36,
   "metadata": {
    "pycharm": {
     "name": "#%%\n"
    }
   },
   "outputs": [
    {
     "data": {
      "text/html": [
       "<div>\n",
       "<style scoped>\n",
       "    .dataframe tbody tr th:only-of-type {\n",
       "        vertical-align: middle;\n",
       "    }\n",
       "\n",
       "    .dataframe tbody tr th {\n",
       "        vertical-align: top;\n",
       "    }\n",
       "\n",
       "    .dataframe thead th {\n",
       "        text-align: right;\n",
       "    }\n",
       "</style>\n",
       "<table border=\"1\" class=\"dataframe\">\n",
       "  <thead>\n",
       "    <tr style=\"text-align: right;\">\n",
       "      <th></th>\n",
       "      <th>gender</th>\n",
       "      <th>age</th>\n",
       "      <th>salary</th>\n",
       "      <th>family_members</th>\n",
       "    </tr>\n",
       "  </thead>\n",
       "  <tbody>\n",
       "    <tr>\n",
       "      <td>1785</td>\n",
       "      <td>1</td>\n",
       "      <td>22</td>\n",
       "      <td>46100.0</td>\n",
       "      <td>0</td>\n",
       "    </tr>\n",
       "    <tr>\n",
       "      <td>193</td>\n",
       "      <td>0</td>\n",
       "      <td>23</td>\n",
       "      <td>43600.0</td>\n",
       "      <td>0</td>\n",
       "    </tr>\n",
       "    <tr>\n",
       "      <td>4358</td>\n",
       "      <td>0</td>\n",
       "      <td>35</td>\n",
       "      <td>42900.0</td>\n",
       "      <td>1</td>\n",
       "    </tr>\n",
       "  </tbody>\n",
       "</table>\n",
       "</div>"
      ],
      "text/plain": [
       "      gender  age   salary  family_members\n",
       "1785       1   22  46100.0               0\n",
       "193        0   23  43600.0               0\n",
       "4358       0   35  42900.0               1"
      ]
     },
     "execution_count": 36,
     "metadata": {},
     "output_type": "execute_result"
    }
   ],
   "source": [
    "X_prep = df_prep.drop(['insurance_payment'], axis=1)\n",
    "X_prep.head(3)"
   ]
  },
  {
   "cell_type": "code",
   "execution_count": 37,
   "metadata": {
    "pycharm": {
     "name": "#%%\n"
    }
   },
   "outputs": [
    {
     "data": {
      "text/plain": [
       "1785    0\n",
       "193     0\n",
       "4358    0\n",
       "Name: insurance_payment, dtype: int64"
      ]
     },
     "execution_count": 37,
     "metadata": {},
     "output_type": "execute_result"
    }
   ],
   "source": [
    "y_prep = df_prep['insurance_payment']\n",
    "y_prep.head(3)"
   ]
  },
  {
   "cell_type": "markdown",
   "metadata": {
    "pycharm": {
     "name": "#%% md\n"
    }
   },
   "source": [
    "### Обучающая и тестовая выборки"
   ]
  },
  {
   "cell_type": "markdown",
   "metadata": {
    "pycharm": {
     "name": "#%% md\n"
    }
   },
   "source": [
    "Разделим набор данных на обучающу и тестовую выборки в соотношении 1 : 3"
   ]
  },
  {
   "cell_type": "code",
   "execution_count": 38,
   "metadata": {
    "pycharm": {
     "name": "#%%\n"
    }
   },
   "outputs": [],
   "source": [
    "X_p_train, X_p_test, y_p_train, y_p_test = train_test_split(\n",
    "    X_prep, y_prep, test_size=0.25, random_state=12345)"
   ]
  },
  {
   "cell_type": "markdown",
   "metadata": {
    "pycharm": {
     "name": "#%% md\n"
    }
   },
   "source": [
    "## Проверка алгоритма"
   ]
  },
  {
   "cell_type": "markdown",
   "metadata": {
    "pycharm": {
     "name": "#%% md\n"
    }
   },
   "source": [
    "### Модель на исходных (не преобразованных) данных:"
   ]
  },
  {
   "cell_type": "code",
   "execution_count": 39,
   "metadata": {
    "pycharm": {
     "name": "#%%\n"
    }
   },
   "outputs": [
    {
     "name": "stdout",
     "output_type": "stream",
     "text": [
      "Значение метрики R2 на линейной регресии на исходном наборе признаков: 0.44730453063577597\n"
     ]
    }
   ],
   "source": [
    "model = LinearRegression()\n",
    "model.fit(X_p_train, y_p_train)\n",
    "print(f'Значение метрики R2 на линейной регресии на исходном наборе признаков: {model.score(X_p_test, y_p_test)}')"
   ]
  },
  {
   "cell_type": "markdown",
   "metadata": {
    "pycharm": {
     "name": "#%% md\n"
    }
   },
   "source": [
    "### Модель на преобразованных данных (рабочий алгоритм):"
   ]
  },
  {
   "cell_type": "markdown",
   "metadata": {
    "pycharm": {
     "name": "#%% md\n"
    }
   },
   "source": [
    "1. Сформируем матрицу преобразования (возьмем обратную матрицу)\n",
    "    - матрица обратимая\n",
    "    - размерность матрицы = количесство признаков"
   ]
  },
  {
   "cell_type": "code",
   "execution_count": 40,
   "metadata": {
    "pycharm": {
     "name": "#%%\n"
    }
   },
   "outputs": [
    {
     "data": {
      "text/plain": [
       "array([[ 2.87678251,  0.14768629, -2.24879792, -0.06459009],\n",
       "       [-0.58011171,  0.19553257,  3.20632074, -2.91553246],\n",
       "       [-1.12144729,  1.44251433, -0.77907444,  0.2688062 ],\n",
       "       [-1.057827  , -0.88161067,  1.49732637,  1.48418743]])"
      ]
     },
     "execution_count": 40,
     "metadata": {},
     "output_type": "execute_result"
    }
   ],
   "source": [
    "matrix_size = X_prep.shape[1]\n",
    "encoding_matrix = np.linalg.inv(R_STATE.rand(matrix_size, matrix_size))\n",
    "encoding_matrix"
   ]
  },
  {
   "cell_type": "markdown",
   "metadata": {
    "pycharm": {
     "name": "#%% md\n"
    }
   },
   "source": [
    "2. Производим матричное умножение обучающих признаков на матрицу преобразования"
   ]
  },
  {
   "cell_type": "code",
   "execution_count": 41,
   "metadata": {
    "pycharm": {
     "name": "#%%\n"
    }
   },
   "outputs": [],
   "source": [
    "X_p_train_protected = X_p_train @ encoding_matrix"
   ]
  },
  {
   "cell_type": "markdown",
   "metadata": {
    "pycharm": {
     "name": "#%% md\n"
    }
   },
   "source": [
    "3. Обучаем модель на преобразованных признаках:"
   ]
  },
  {
   "cell_type": "code",
   "execution_count": 42,
   "metadata": {
    "pycharm": {
     "name": "#%%\n"
    }
   },
   "outputs": [
    {
     "data": {
      "text/plain": [
       "LinearRegression(copy_X=True, fit_intercept=True, n_jobs=None, normalize=False)"
      ]
     },
     "execution_count": 42,
     "metadata": {},
     "output_type": "execute_result"
    }
   ],
   "source": [
    "model = LinearRegression()\n",
    "model.fit(X_p_train_protected, y_p_train)"
   ]
  },
  {
   "cell_type": "markdown",
   "metadata": {
    "pycharm": {
     "name": "#%% md\n"
    }
   },
   "source": [
    "4. Производим матричное умножение тестовых признаков на матрицу преобразования"
   ]
  },
  {
   "cell_type": "code",
   "execution_count": 43,
   "metadata": {
    "pycharm": {
     "name": "#%%\n"
    }
   },
   "outputs": [],
   "source": [
    "X_p_test_protected = X_p_test @ encoding_matrix"
   ]
  },
  {
   "cell_type": "markdown",
   "metadata": {
    "pycharm": {
     "name": "#%% md\n"
    }
   },
   "source": [
    "5. Получаем предсказания на преобразованных признаках"
   ]
  },
  {
   "cell_type": "code",
   "execution_count": 44,
   "metadata": {
    "pycharm": {
     "name": "#%%\n"
    }
   },
   "outputs": [
    {
     "name": "stdout",
     "output_type": "stream",
     "text": [
      "Значение метрики R2 на линейной регресии на защищенном наборе признаков: 0.44730453063584624\n"
     ]
    }
   ],
   "source": [
    "print(f'Значение метрики R2 на линейной регресии на защищенном наборе признаков: {model.score(X_p_test_protected, y_p_test)}')"
   ]
  },
  {
   "cell_type": "markdown",
   "metadata": {
    "pycharm": {
     "name": "#%% md\n"
    }
   },
   "source": [
    "### Вывод\n",
    "\n",
    "От преобразования признаков качество модели не изменилось."
   ]
  }
 ],
 "metadata": {
  "ExecuteTimeLog": [
   {
    "duration": 241,
    "start_time": "2022-03-11T11:37:06.330Z"
   },
   {
    "duration": 1089,
    "start_time": "2022-03-11T11:37:08.620Z"
   },
   {
    "duration": 3,
    "start_time": "2022-03-11T11:37:09.711Z"
   },
   {
    "duration": 3,
    "start_time": "2022-03-11T11:37:09.851Z"
   },
   {
    "duration": 6,
    "start_time": "2022-03-11T11:37:43.595Z"
   },
   {
    "duration": 3,
    "start_time": "2022-03-11T11:40:06.359Z"
   },
   {
    "duration": 628,
    "start_time": "2022-03-11T11:40:06.563Z"
   },
   {
    "duration": 82,
    "start_time": "2022-03-11T11:40:12.168Z"
   },
   {
    "duration": 101,
    "start_time": "2022-03-11T11:41:24.573Z"
   },
   {
    "duration": 206,
    "start_time": "2022-03-11T11:41:33.008Z"
   },
   {
    "duration": 4,
    "start_time": "2022-03-11T11:41:54.698Z"
   },
   {
    "duration": 422,
    "start_time": "2022-03-11T11:41:57.107Z"
   },
   {
    "duration": 17,
    "start_time": "2022-03-11T11:42:16.747Z"
   },
   {
    "duration": 8,
    "start_time": "2022-03-11T11:42:22.587Z"
   },
   {
    "duration": 9,
    "start_time": "2022-03-11T11:42:28.601Z"
   },
   {
    "duration": 4,
    "start_time": "2022-03-11T11:42:36.588Z"
   },
   {
    "duration": 3,
    "start_time": "2022-03-11T11:47:34.501Z"
   },
   {
    "duration": 494,
    "start_time": "2022-03-11T11:47:35.410Z"
   },
   {
    "duration": 315,
    "start_time": "2022-03-11T11:49:20.730Z"
   },
   {
    "duration": 223,
    "start_time": "2022-03-11T11:49:24.929Z"
   },
   {
    "duration": 4,
    "start_time": "2022-03-11T11:49:32.523Z"
   },
   {
    "duration": 3,
    "start_time": "2022-03-11T11:49:39.555Z"
   },
   {
    "duration": 13,
    "start_time": "2022-03-11T11:49:43.629Z"
   },
   {
    "duration": 4,
    "start_time": "2022-03-11T11:49:53.131Z"
   },
   {
    "duration": 3,
    "start_time": "2022-03-11T11:49:58.377Z"
   },
   {
    "duration": 4,
    "start_time": "2022-03-11T11:50:10.793Z"
   },
   {
    "duration": 213,
    "start_time": "2022-03-11T11:50:21.387Z"
   },
   {
    "duration": 7,
    "start_time": "2022-03-11T11:50:43.704Z"
   },
   {
    "duration": 18,
    "start_time": "2022-03-11T11:51:51.691Z"
   },
   {
    "duration": 16,
    "start_time": "2022-03-11T11:52:09.467Z"
   },
   {
    "duration": 7,
    "start_time": "2022-03-11T11:52:13.151Z"
   },
   {
    "duration": 7,
    "start_time": "2022-03-11T11:52:17.527Z"
   },
   {
    "duration": 8,
    "start_time": "2022-03-11T11:53:52.045Z"
   },
   {
    "duration": 397,
    "start_time": "2022-03-11T11:53:57.900Z"
   },
   {
    "duration": 1439,
    "start_time": "2022-03-13T05:55:23.476Z"
   },
   {
    "duration": 4,
    "start_time": "2022-03-13T05:55:24.917Z"
   },
   {
    "duration": 7,
    "start_time": "2022-03-13T05:55:24.924Z"
   },
   {
    "duration": 8,
    "start_time": "2022-03-13T05:55:24.934Z"
   },
   {
    "duration": 44,
    "start_time": "2022-03-13T05:55:24.944Z"
   },
   {
    "duration": 13,
    "start_time": "2022-03-13T05:55:24.990Z"
   },
   {
    "duration": 105,
    "start_time": "2022-03-13T05:55:25.005Z"
   },
   {
    "duration": 5,
    "start_time": "2022-03-13T05:55:25.114Z"
   },
   {
    "duration": 32,
    "start_time": "2022-03-13T05:55:25.122Z"
   },
   {
    "duration": 10,
    "start_time": "2022-03-13T05:55:25.157Z"
   },
   {
    "duration": 22,
    "start_time": "2022-03-13T05:55:25.169Z"
   },
   {
    "duration": 5,
    "start_time": "2022-03-13T05:55:25.194Z"
   },
   {
    "duration": 96,
    "start_time": "2022-03-13T06:03:53.848Z"
   },
   {
    "duration": 4,
    "start_time": "2022-03-13T06:12:03.142Z"
   },
   {
    "duration": 4,
    "start_time": "2022-03-13T06:12:11.421Z"
   },
   {
    "duration": 6,
    "start_time": "2022-03-13T06:12:19.494Z"
   },
   {
    "duration": 5,
    "start_time": "2022-03-13T06:12:25.954Z"
   },
   {
    "duration": 9,
    "start_time": "2022-03-13T06:12:32.053Z"
   },
   {
    "duration": 7,
    "start_time": "2022-03-13T06:12:35.259Z"
   },
   {
    "duration": 9,
    "start_time": "2022-03-13T06:12:47.829Z"
   },
   {
    "duration": 697,
    "start_time": "2022-03-13T06:12:52.849Z"
   },
   {
    "duration": 7,
    "start_time": "2022-03-13T06:16:49.357Z"
   },
   {
    "duration": 85,
    "start_time": "2022-03-13T06:16:58.661Z"
   },
   {
    "duration": 17,
    "start_time": "2022-03-13T06:17:46.006Z"
   },
   {
    "duration": 4,
    "start_time": "2022-03-13T06:18:06.828Z"
   },
   {
    "duration": 6,
    "start_time": "2022-03-13T06:18:07.734Z"
   },
   {
    "duration": 6,
    "start_time": "2022-03-13T06:18:09.299Z"
   },
   {
    "duration": 9,
    "start_time": "2022-03-13T06:18:11.788Z"
   },
   {
    "duration": 9,
    "start_time": "2022-03-13T06:18:13.875Z"
   },
   {
    "duration": 10,
    "start_time": "2022-03-13T06:18:14.516Z"
   },
   {
    "duration": 20,
    "start_time": "2022-03-13T06:18:17.712Z"
   },
   {
    "duration": 42,
    "start_time": "2022-03-13T06:18:21.052Z"
   },
   {
    "duration": 7,
    "start_time": "2022-03-13T06:18:26.146Z"
   },
   {
    "duration": 7,
    "start_time": "2022-03-13T06:19:57.872Z"
   },
   {
    "duration": 9,
    "start_time": "2022-03-13T06:20:08.288Z"
   },
   {
    "duration": 8,
    "start_time": "2022-03-13T06:20:12.200Z"
   },
   {
    "duration": 8,
    "start_time": "2022-03-13T06:20:30.611Z"
   },
   {
    "duration": 7,
    "start_time": "2022-03-13T06:20:54.687Z"
   },
   {
    "duration": 6,
    "start_time": "2022-03-13T06:21:00.663Z"
   },
   {
    "duration": 7,
    "start_time": "2022-03-13T06:22:49.199Z"
   },
   {
    "duration": 8,
    "start_time": "2022-03-13T06:22:50.604Z"
   },
   {
    "duration": 5,
    "start_time": "2022-03-13T06:25:21.673Z"
   },
   {
    "duration": 7,
    "start_time": "2022-03-13T06:26:24.073Z"
   },
   {
    "duration": 5,
    "start_time": "2022-03-13T06:37:44.367Z"
   },
   {
    "duration": 14,
    "start_time": "2022-03-13T06:44:30.727Z"
   },
   {
    "duration": 7058,
    "start_time": "2022-03-13T06:45:21.304Z"
   },
   {
    "duration": 7,
    "start_time": "2022-03-13T06:45:30.205Z"
   },
   {
    "duration": 8,
    "start_time": "2022-03-13T06:45:39.795Z"
   },
   {
    "duration": 100,
    "start_time": "2022-03-13T06:48:03.875Z"
   },
   {
    "duration": 7074,
    "start_time": "2022-03-13T06:48:16.356Z"
   },
   {
    "duration": 8,
    "start_time": "2022-03-13T06:48:25.643Z"
   },
   {
    "duration": 90,
    "start_time": "2022-03-13T06:49:41.407Z"
   },
   {
    "duration": 13,
    "start_time": "2022-03-13T06:51:56.341Z"
   },
   {
    "duration": 556,
    "start_time": "2022-03-13T06:52:04.022Z"
   },
   {
    "duration": 91,
    "start_time": "2022-03-13T06:52:20.750Z"
   },
   {
    "duration": 1383,
    "start_time": "2022-03-13T06:52:25.123Z"
   },
   {
    "duration": 277,
    "start_time": "2022-03-13T12:55:04.421Z"
   },
   {
    "duration": 1203,
    "start_time": "2022-03-13T12:55:08.250Z"
   },
   {
    "duration": 2,
    "start_time": "2022-03-13T12:55:09.455Z"
   },
   {
    "duration": 4,
    "start_time": "2022-03-13T12:55:09.459Z"
   },
   {
    "duration": 6,
    "start_time": "2022-03-13T12:55:09.465Z"
   },
   {
    "duration": 9,
    "start_time": "2022-03-13T12:55:09.472Z"
   },
   {
    "duration": 10,
    "start_time": "2022-03-13T12:55:09.482Z"
   },
   {
    "duration": 7,
    "start_time": "2022-03-13T12:55:09.494Z"
   },
   {
    "duration": 72,
    "start_time": "2022-03-13T12:55:09.504Z"
   },
   {
    "duration": 4,
    "start_time": "2022-03-13T12:55:09.578Z"
   },
   {
    "duration": 13,
    "start_time": "2022-03-13T12:55:09.584Z"
   },
   {
    "duration": 7,
    "start_time": "2022-03-13T12:55:09.599Z"
   },
   {
    "duration": 8,
    "start_time": "2022-03-13T12:55:09.608Z"
   },
   {
    "duration": 3,
    "start_time": "2022-03-13T12:55:09.618Z"
   },
   {
    "duration": 10,
    "start_time": "2022-03-13T12:55:09.622Z"
   },
   {
    "duration": 7,
    "start_time": "2022-03-13T12:55:09.634Z"
   },
   {
    "duration": 20,
    "start_time": "2022-03-13T12:55:09.642Z"
   },
   {
    "duration": 4,
    "start_time": "2022-03-13T12:55:09.663Z"
   },
   {
    "duration": 7,
    "start_time": "2022-03-13T12:55:09.668Z"
   },
   {
    "duration": 5,
    "start_time": "2022-03-13T12:55:09.677Z"
   },
   {
    "duration": 6,
    "start_time": "2022-03-13T12:55:09.684Z"
   },
   {
    "duration": 368,
    "start_time": "2022-03-13T12:55:09.691Z"
   },
   {
    "duration": 5,
    "start_time": "2022-03-13T12:55:10.060Z"
   },
   {
    "duration": 3,
    "start_time": "2022-03-13T12:55:10.068Z"
   },
   {
    "duration": 6,
    "start_time": "2022-03-13T12:55:10.073Z"
   },
   {
    "duration": 5,
    "start_time": "2022-03-13T12:55:10.080Z"
   },
   {
    "duration": 5,
    "start_time": "2022-03-13T12:55:10.086Z"
   },
   {
    "duration": 11,
    "start_time": "2022-03-13T12:55:10.093Z"
   },
   {
    "duration": 6,
    "start_time": "2022-03-13T12:55:10.105Z"
   },
   {
    "duration": 1051,
    "start_time": "2022-03-13T12:55:10.112Z"
   },
   {
    "duration": 10,
    "start_time": "2022-03-13T12:55:11.164Z"
   },
   {
    "duration": 1941,
    "start_time": "2022-03-13T12:55:16.147Z"
   },
   {
    "duration": 1139,
    "start_time": "2022-03-13T12:55:27.349Z"
   },
   {
    "duration": 275,
    "start_time": "2022-03-13T12:56:28.636Z"
   },
   {
    "duration": 3,
    "start_time": "2022-03-13T12:56:51.356Z"
   },
   {
    "duration": 1008,
    "start_time": "2022-03-13T12:57:13.361Z"
   },
   {
    "duration": 795,
    "start_time": "2022-03-13T12:57:39.127Z"
   },
   {
    "duration": 824,
    "start_time": "2022-03-13T12:57:43.937Z"
   },
   {
    "duration": 894,
    "start_time": "2022-03-13T12:58:32.883Z"
   },
   {
    "duration": 869,
    "start_time": "2022-03-13T12:58:42.577Z"
   },
   {
    "duration": 6,
    "start_time": "2022-03-13T13:08:41.106Z"
   },
   {
    "duration": 229,
    "start_time": "2022-03-13T13:17:16.958Z"
   },
   {
    "duration": 9,
    "start_time": "2022-03-13T13:17:55.367Z"
   },
   {
    "duration": 219,
    "start_time": "2022-03-13T13:18:38.545Z"
   },
   {
    "duration": 8,
    "start_time": "2022-03-13T13:18:45.727Z"
   },
   {
    "duration": 452,
    "start_time": "2022-03-13T13:18:50.938Z"
   },
   {
    "duration": 7,
    "start_time": "2022-03-13T13:19:43.164Z"
   },
   {
    "duration": 7,
    "start_time": "2022-03-13T13:19:43.363Z"
   },
   {
    "duration": 8,
    "start_time": "2022-03-13T13:19:45.431Z"
   },
   {
    "duration": 4,
    "start_time": "2022-03-13T13:19:45.694Z"
   },
   {
    "duration": 494,
    "start_time": "2022-03-13T13:20:03.244Z"
   },
   {
    "duration": 4,
    "start_time": "2022-03-13T13:20:52.548Z"
   },
   {
    "duration": 473,
    "start_time": "2022-03-13T13:20:56.101Z"
   },
   {
    "duration": 4,
    "start_time": "2022-03-13T13:21:28.444Z"
   },
   {
    "duration": 8,
    "start_time": "2022-03-13T13:21:38.524Z"
   },
   {
    "duration": 236,
    "start_time": "2022-03-13T13:21:59.039Z"
   },
   {
    "duration": 80,
    "start_time": "2022-03-13T13:24:09.241Z"
   },
   {
    "duration": 3,
    "start_time": "2022-03-13T13:24:19.579Z"
   },
   {
    "duration": 443,
    "start_time": "2022-03-13T13:24:33.424Z"
   },
   {
    "duration": 4,
    "start_time": "2022-03-13T13:24:46.813Z"
   },
   {
    "duration": 220,
    "start_time": "2022-03-13T13:24:53.308Z"
   },
   {
    "duration": 5,
    "start_time": "2022-03-13T13:25:07.415Z"
   },
   {
    "duration": 79,
    "start_time": "2022-03-13T13:25:38.425Z"
   },
   {
    "duration": 238,
    "start_time": "2022-03-13T13:25:41.135Z"
   },
   {
    "duration": 261,
    "start_time": "2022-03-13T13:26:04.987Z"
   },
   {
    "duration": 4,
    "start_time": "2022-03-13T13:26:12.647Z"
   },
   {
    "duration": 6,
    "start_time": "2022-03-13T13:26:18.223Z"
   },
   {
    "duration": 6,
    "start_time": "2022-03-13T13:26:42.310Z"
   },
   {
    "duration": 7,
    "start_time": "2022-03-13T13:26:58.366Z"
   },
   {
    "duration": 8,
    "start_time": "2022-03-13T13:27:16.698Z"
   },
   {
    "duration": 3,
    "start_time": "2022-03-13T13:27:47.493Z"
   },
   {
    "duration": 5,
    "start_time": "2022-03-13T13:27:49.223Z"
   },
   {
    "duration": 5,
    "start_time": "2022-03-13T13:28:56.742Z"
   },
   {
    "duration": 1123,
    "start_time": "2022-03-14T02:06:44.891Z"
   },
   {
    "duration": 3,
    "start_time": "2022-03-14T02:06:46.016Z"
   },
   {
    "duration": 5,
    "start_time": "2022-03-14T02:06:46.021Z"
   },
   {
    "duration": 7,
    "start_time": "2022-03-14T02:06:46.028Z"
   },
   {
    "duration": 11,
    "start_time": "2022-03-14T02:06:46.036Z"
   },
   {
    "duration": 12,
    "start_time": "2022-03-14T02:06:46.049Z"
   },
   {
    "duration": 9,
    "start_time": "2022-03-14T02:06:46.063Z"
   },
   {
    "duration": 12,
    "start_time": "2022-03-14T02:06:46.074Z"
   },
   {
    "duration": 122,
    "start_time": "2022-03-14T02:06:46.087Z"
   },
   {
    "duration": 3,
    "start_time": "2022-03-14T02:06:46.211Z"
   },
   {
    "duration": 17,
    "start_time": "2022-03-14T02:06:46.215Z"
   },
   {
    "duration": 7,
    "start_time": "2022-03-14T02:06:46.234Z"
   },
   {
    "duration": 10,
    "start_time": "2022-03-14T02:06:46.243Z"
   },
   {
    "duration": 3,
    "start_time": "2022-03-14T02:06:46.255Z"
   },
   {
    "duration": 4,
    "start_time": "2022-03-14T02:06:46.260Z"
   },
   {
    "duration": 4,
    "start_time": "2022-03-14T02:06:46.266Z"
   },
   {
    "duration": 8,
    "start_time": "2022-03-14T02:06:46.271Z"
   },
   {
    "duration": 4,
    "start_time": "2022-03-14T02:06:46.281Z"
   },
   {
    "duration": 21,
    "start_time": "2022-03-14T02:06:46.286Z"
   },
   {
    "duration": 5,
    "start_time": "2022-03-14T02:06:46.309Z"
   },
   {
    "duration": 6,
    "start_time": "2022-03-14T02:06:46.315Z"
   },
   {
    "duration": 442,
    "start_time": "2022-03-14T02:06:46.322Z"
   },
   {
    "duration": 4,
    "start_time": "2022-03-14T02:06:46.767Z"
   },
   {
    "duration": 9,
    "start_time": "2022-03-14T02:06:46.773Z"
   },
   {
    "duration": 21,
    "start_time": "2022-03-14T02:06:46.784Z"
   },
   {
    "duration": 5,
    "start_time": "2022-03-14T02:06:46.807Z"
   },
   {
    "duration": 6,
    "start_time": "2022-03-14T02:06:46.813Z"
   },
   {
    "duration": 12,
    "start_time": "2022-03-14T02:06:46.820Z"
   },
   {
    "duration": 5,
    "start_time": "2022-03-14T02:06:46.833Z"
   },
   {
    "duration": 869,
    "start_time": "2022-03-14T02:06:46.840Z"
   },
   {
    "duration": 1109,
    "start_time": "2022-03-14T02:06:47.711Z"
   },
   {
    "duration": 748,
    "start_time": "2022-03-14T02:06:48.822Z"
   },
   {
    "duration": 772,
    "start_time": "2022-03-14T02:06:49.571Z"
   },
   {
    "duration": 5,
    "start_time": "2022-03-14T02:06:50.345Z"
   },
   {
    "duration": 4,
    "start_time": "2022-03-14T02:26:33.046Z"
   },
   {
    "duration": 10,
    "start_time": "2022-03-14T02:29:35.652Z"
   },
   {
    "duration": 4,
    "start_time": "2022-03-14T02:31:02.317Z"
   },
   {
    "duration": 4,
    "start_time": "2022-03-14T02:31:32.432Z"
   },
   {
    "duration": 10,
    "start_time": "2022-03-14T02:31:43.574Z"
   },
   {
    "duration": 4,
    "start_time": "2022-03-14T02:33:06.107Z"
   },
   {
    "duration": 11,
    "start_time": "2022-03-14T02:33:11.218Z"
   },
   {
    "duration": 8,
    "start_time": "2022-03-14T02:33:15.792Z"
   },
   {
    "duration": 5,
    "start_time": "2022-03-14T02:33:42.015Z"
   },
   {
    "duration": 2,
    "start_time": "2022-03-14T02:36:16.756Z"
   },
   {
    "duration": 360,
    "start_time": "2022-03-14T02:37:04.849Z"
   },
   {
    "duration": 4,
    "start_time": "2022-03-14T02:37:15.735Z"
   },
   {
    "duration": 4,
    "start_time": "2022-03-14T02:37:29.059Z"
   },
   {
    "duration": 3,
    "start_time": "2022-03-14T02:37:40.058Z"
   },
   {
    "duration": 258,
    "start_time": "2022-03-14T02:37:40.419Z"
   },
   {
    "duration": 11,
    "start_time": "2022-03-14T02:38:11.430Z"
   },
   {
    "duration": 5,
    "start_time": "2022-03-14T02:38:15.704Z"
   },
   {
    "duration": 249,
    "start_time": "2022-03-14T02:38:26.293Z"
   },
   {
    "duration": 503,
    "start_time": "2022-03-14T02:40:09.923Z"
   },
   {
    "duration": 4,
    "start_time": "2022-03-14T02:40:15.176Z"
   },
   {
    "duration": 4,
    "start_time": "2022-03-14T02:40:20.521Z"
   },
   {
    "duration": 14,
    "start_time": "2022-03-14T02:40:36.171Z"
   },
   {
    "duration": 5,
    "start_time": "2022-03-14T02:41:28.945Z"
   },
   {
    "duration": 12,
    "start_time": "2022-03-14T02:41:33.558Z"
   },
   {
    "duration": 273,
    "start_time": "2022-03-14T02:41:41.788Z"
   },
   {
    "duration": 239,
    "start_time": "2022-03-14T02:42:29.604Z"
   },
   {
    "duration": 5,
    "start_time": "2022-03-14T02:43:00.642Z"
   },
   {
    "duration": 252,
    "start_time": "2022-03-14T02:43:55.361Z"
   },
   {
    "duration": 7,
    "start_time": "2022-03-14T02:44:00.308Z"
   },
   {
    "duration": 7,
    "start_time": "2022-03-14T02:44:17.548Z"
   },
   {
    "duration": 264,
    "start_time": "2022-03-14T02:45:35.069Z"
   },
   {
    "duration": 10,
    "start_time": "2022-03-14T02:50:08.407Z"
   },
   {
    "duration": 4,
    "start_time": "2022-03-14T02:50:19.216Z"
   },
   {
    "duration": 3,
    "start_time": "2022-03-14T02:50:21.529Z"
   },
   {
    "duration": 3,
    "start_time": "2022-03-14T02:51:38.094Z"
   },
   {
    "duration": 4,
    "start_time": "2022-03-14T02:51:41.658Z"
   },
   {
    "duration": 4,
    "start_time": "2022-03-14T02:53:37.287Z"
   },
   {
    "duration": 4,
    "start_time": "2022-03-14T02:53:39.042Z"
   },
   {
    "duration": 4,
    "start_time": "2022-03-14T02:53:40.069Z"
   },
   {
    "duration": 5,
    "start_time": "2022-03-14T02:53:42.051Z"
   },
   {
    "duration": 4,
    "start_time": "2022-03-14T02:53:53.858Z"
   },
   {
    "duration": 7,
    "start_time": "2022-03-14T02:54:31.432Z"
   },
   {
    "duration": 12,
    "start_time": "2022-03-14T02:55:14.498Z"
   },
   {
    "duration": 5,
    "start_time": "2022-03-14T02:56:02.699Z"
   },
   {
    "duration": 5,
    "start_time": "2022-03-14T02:56:18.477Z"
   },
   {
    "duration": 11,
    "start_time": "2022-03-14T02:56:19.805Z"
   },
   {
    "duration": 11,
    "start_time": "2022-03-14T02:57:10.246Z"
   },
   {
    "duration": 4,
    "start_time": "2022-03-14T02:58:24.120Z"
   },
   {
    "duration": 8,
    "start_time": "2022-03-14T02:58:35.719Z"
   },
   {
    "duration": 4,
    "start_time": "2022-03-14T02:59:58.964Z"
   },
   {
    "duration": 8,
    "start_time": "2022-03-14T03:00:35.757Z"
   },
   {
    "duration": 6,
    "start_time": "2022-03-14T03:00:48.265Z"
   },
   {
    "duration": 8,
    "start_time": "2022-03-14T03:01:01.999Z"
   },
   {
    "duration": 12,
    "start_time": "2022-03-14T03:03:39.333Z"
   },
   {
    "duration": 5,
    "start_time": "2022-03-14T03:03:44.846Z"
   },
   {
    "duration": 5,
    "start_time": "2022-03-14T03:03:45.026Z"
   },
   {
    "duration": 8,
    "start_time": "2022-03-14T03:03:45.467Z"
   },
   {
    "duration": 8,
    "start_time": "2022-03-14T03:03:45.895Z"
   },
   {
    "duration": 8,
    "start_time": "2022-03-14T03:03:46.254Z"
   },
   {
    "duration": 4,
    "start_time": "2022-03-14T03:12:25.601Z"
   },
   {
    "duration": 5,
    "start_time": "2022-03-14T03:12:55.005Z"
   },
   {
    "duration": 6,
    "start_time": "2022-03-14T03:13:11.377Z"
   },
   {
    "duration": 273,
    "start_time": "2022-03-14T03:13:15.777Z"
   },
   {
    "duration": 262,
    "start_time": "2022-03-14T03:13:37.551Z"
   },
   {
    "duration": 290,
    "start_time": "2022-03-14T03:13:52.096Z"
   },
   {
    "duration": 261,
    "start_time": "2022-03-14T03:13:56.673Z"
   },
   {
    "duration": 9,
    "start_time": "2022-03-14T03:14:01.829Z"
   },
   {
    "duration": 10,
    "start_time": "2022-03-14T03:14:10.709Z"
   },
   {
    "duration": 10,
    "start_time": "2022-03-14T03:14:12.024Z"
   },
   {
    "duration": 5,
    "start_time": "2022-03-14T03:14:23.045Z"
   },
   {
    "duration": 4,
    "start_time": "2022-03-14T03:14:23.448Z"
   },
   {
    "duration": 7,
    "start_time": "2022-03-14T03:14:25.780Z"
   },
   {
    "duration": 7,
    "start_time": "2022-03-14T03:14:26.353Z"
   },
   {
    "duration": 7,
    "start_time": "2022-03-14T03:14:26.789Z"
   },
   {
    "duration": 8,
    "start_time": "2022-03-14T03:14:28.144Z"
   },
   {
    "duration": 8,
    "start_time": "2022-03-14T03:14:28.422Z"
   },
   {
    "duration": 6,
    "start_time": "2022-03-14T03:15:17.156Z"
   },
   {
    "duration": 11,
    "start_time": "2022-03-14T03:15:20.379Z"
   },
   {
    "duration": 5,
    "start_time": "2022-03-14T03:15:37.424Z"
   },
   {
    "duration": 10,
    "start_time": "2022-03-14T03:15:37.872Z"
   },
   {
    "duration": 5,
    "start_time": "2022-03-14T03:15:45.915Z"
   },
   {
    "duration": 5,
    "start_time": "2022-03-14T03:16:03.195Z"
   },
   {
    "duration": 11,
    "start_time": "2022-03-14T03:16:04.246Z"
   },
   {
    "duration": 5,
    "start_time": "2022-03-14T03:16:10.420Z"
   },
   {
    "duration": 10,
    "start_time": "2022-03-14T03:16:10.798Z"
   },
   {
    "duration": 5,
    "start_time": "2022-03-14T03:16:15.642Z"
   },
   {
    "duration": 5,
    "start_time": "2022-03-14T03:16:15.812Z"
   },
   {
    "duration": 8,
    "start_time": "2022-03-14T03:16:16.208Z"
   },
   {
    "duration": 7,
    "start_time": "2022-03-14T03:16:16.532Z"
   },
   {
    "duration": 10,
    "start_time": "2022-03-14T03:39:14.197Z"
   },
   {
    "duration": 6,
    "start_time": "2022-03-14T03:39:21.630Z"
   },
   {
    "duration": 5,
    "start_time": "2022-03-14T03:39:25.765Z"
   },
   {
    "duration": 160,
    "start_time": "2022-03-14T03:39:28.396Z"
   },
   {
    "duration": 8455,
    "start_time": "2022-03-14T03:40:10.940Z"
   },
   {
    "duration": 1371,
    "start_time": "2022-03-14T03:40:27.199Z"
   },
   {
    "duration": 958,
    "start_time": "2022-03-14T03:40:49.834Z"
   },
   {
    "duration": 972,
    "start_time": "2022-03-14T03:41:05.186Z"
   },
   {
    "duration": 394,
    "start_time": "2022-03-14T09:42:39.973Z"
   },
   {
    "duration": 1624,
    "start_time": "2022-03-14T09:42:45.383Z"
   },
   {
    "duration": 4,
    "start_time": "2022-03-14T09:42:47.010Z"
   },
   {
    "duration": 9,
    "start_time": "2022-03-14T09:42:47.018Z"
   },
   {
    "duration": 9,
    "start_time": "2022-03-14T09:42:47.030Z"
   },
   {
    "duration": 43,
    "start_time": "2022-03-14T09:42:47.042Z"
   },
   {
    "duration": 31,
    "start_time": "2022-03-14T09:42:47.088Z"
   },
   {
    "duration": 14,
    "start_time": "2022-03-14T09:42:47.122Z"
   },
   {
    "duration": 13,
    "start_time": "2022-03-14T09:42:47.138Z"
   },
   {
    "duration": 92,
    "start_time": "2022-03-14T09:42:47.155Z"
   },
   {
    "duration": 4,
    "start_time": "2022-03-14T09:42:47.250Z"
   },
   {
    "duration": 20,
    "start_time": "2022-03-14T09:42:47.257Z"
   },
   {
    "duration": 8,
    "start_time": "2022-03-14T09:42:47.279Z"
   },
   {
    "duration": 11,
    "start_time": "2022-03-14T09:42:47.290Z"
   },
   {
    "duration": 5,
    "start_time": "2022-03-14T09:42:47.303Z"
   },
   {
    "duration": 4,
    "start_time": "2022-03-14T09:42:47.310Z"
   },
   {
    "duration": 7,
    "start_time": "2022-03-14T09:42:47.316Z"
   },
   {
    "duration": 50,
    "start_time": "2022-03-14T09:42:47.325Z"
   },
   {
    "duration": 10,
    "start_time": "2022-03-14T09:42:47.378Z"
   },
   {
    "duration": 18,
    "start_time": "2022-03-14T09:42:47.390Z"
   },
   {
    "duration": 8,
    "start_time": "2022-03-14T09:42:47.410Z"
   },
   {
    "duration": 9,
    "start_time": "2022-03-14T09:42:47.420Z"
   },
   {
    "duration": 707,
    "start_time": "2022-03-14T09:42:47.431Z"
   },
   {
    "duration": 8,
    "start_time": "2022-03-14T09:42:48.140Z"
   },
   {
    "duration": 4,
    "start_time": "2022-03-14T09:42:48.174Z"
   },
   {
    "duration": 10,
    "start_time": "2022-03-14T09:42:48.181Z"
   },
   {
    "duration": 8,
    "start_time": "2022-03-14T09:42:48.194Z"
   },
   {
    "duration": 5,
    "start_time": "2022-03-14T09:42:48.207Z"
   },
   {
    "duration": 16,
    "start_time": "2022-03-14T09:42:48.215Z"
   },
   {
    "duration": 45,
    "start_time": "2022-03-14T09:42:48.234Z"
   },
   {
    "duration": 1424,
    "start_time": "2022-03-14T09:42:48.282Z"
   },
   {
    "duration": 1687,
    "start_time": "2022-03-14T09:42:49.709Z"
   },
   {
    "duration": 1208,
    "start_time": "2022-03-14T09:42:51.399Z"
   },
   {
    "duration": 1320,
    "start_time": "2022-03-14T09:42:52.609Z"
   },
   {
    "duration": 11,
    "start_time": "2022-03-14T09:42:53.932Z"
   },
   {
    "duration": 15,
    "start_time": "2022-03-14T09:42:53.946Z"
   },
   {
    "duration": 27,
    "start_time": "2022-03-14T09:42:53.973Z"
   },
   {
    "duration": 8,
    "start_time": "2022-03-14T09:42:54.003Z"
   },
   {
    "duration": 14,
    "start_time": "2022-03-14T09:42:54.014Z"
   },
   {
    "duration": 99,
    "start_time": "2022-03-14T09:42:54.077Z"
   },
   {
    "duration": 17,
    "start_time": "2022-03-14T09:42:54.179Z"
   },
   {
    "duration": 7,
    "start_time": "2022-03-14T09:42:54.199Z"
   },
   {
    "duration": 16,
    "start_time": "2022-03-14T09:42:56.438Z"
   },
   {
    "duration": 9,
    "start_time": "2022-03-14T09:43:16.094Z"
   },
   {
    "duration": 5,
    "start_time": "2022-03-14T09:45:11.633Z"
   },
   {
    "duration": 19,
    "start_time": "2022-03-14T09:48:15.799Z"
   },
   {
    "duration": 7,
    "start_time": "2022-03-14T09:49:48.972Z"
   },
   {
    "duration": 27,
    "start_time": "2022-03-14T09:49:48.983Z"
   },
   {
    "duration": 16,
    "start_time": "2022-03-14T09:49:49.014Z"
   },
   {
    "duration": 12,
    "start_time": "2022-03-14T09:49:49.033Z"
   },
   {
    "duration": 34,
    "start_time": "2022-03-14T09:49:49.048Z"
   },
   {
    "duration": 9,
    "start_time": "2022-03-14T09:49:49.085Z"
   },
   {
    "duration": 16,
    "start_time": "2022-03-14T09:49:49.097Z"
   },
   {
    "duration": 9,
    "start_time": "2022-03-14T09:49:49.116Z"
   },
   {
    "duration": 77,
    "start_time": "2022-03-14T09:49:49.131Z"
   },
   {
    "duration": 4,
    "start_time": "2022-03-14T09:49:49.210Z"
   },
   {
    "duration": 17,
    "start_time": "2022-03-14T09:49:49.217Z"
   },
   {
    "duration": 13,
    "start_time": "2022-03-14T09:49:49.237Z"
   },
   {
    "duration": 10,
    "start_time": "2022-03-14T09:49:49.252Z"
   },
   {
    "duration": 5,
    "start_time": "2022-03-14T09:49:49.273Z"
   },
   {
    "duration": 5,
    "start_time": "2022-03-14T09:49:49.280Z"
   },
   {
    "duration": 7,
    "start_time": "2022-03-14T09:49:49.288Z"
   },
   {
    "duration": 11,
    "start_time": "2022-03-14T09:49:49.297Z"
   },
   {
    "duration": 6,
    "start_time": "2022-03-14T09:49:49.310Z"
   },
   {
    "duration": 12,
    "start_time": "2022-03-14T09:49:49.319Z"
   },
   {
    "duration": 8,
    "start_time": "2022-03-14T09:49:49.374Z"
   },
   {
    "duration": 16,
    "start_time": "2022-03-14T09:49:49.385Z"
   },
   {
    "duration": 72,
    "start_time": "2022-03-14T09:49:49.403Z"
   },
   {
    "duration": 7,
    "start_time": "2022-03-14T09:49:49.477Z"
   },
   {
    "duration": 7,
    "start_time": "2022-03-14T09:49:49.487Z"
   },
   {
    "duration": 22,
    "start_time": "2022-03-14T09:49:49.496Z"
   },
   {
    "duration": 7,
    "start_time": "2022-03-14T09:49:49.521Z"
   },
   {
    "duration": 5,
    "start_time": "2022-03-14T09:49:49.533Z"
   },
   {
    "duration": 15,
    "start_time": "2022-03-14T09:49:49.575Z"
   },
   {
    "duration": 10,
    "start_time": "2022-03-14T09:49:49.593Z"
   },
   {
    "duration": 1370,
    "start_time": "2022-03-14T09:49:49.606Z"
   },
   {
    "duration": 1783,
    "start_time": "2022-03-14T09:49:50.978Z"
   },
   {
    "duration": 1262,
    "start_time": "2022-03-14T09:49:52.765Z"
   },
   {
    "duration": 1275,
    "start_time": "2022-03-14T09:49:54.030Z"
   },
   {
    "duration": 8,
    "start_time": "2022-03-14T09:49:55.307Z"
   },
   {
    "duration": 11,
    "start_time": "2022-03-14T09:49:55.317Z"
   },
   {
    "duration": 15,
    "start_time": "2022-03-14T09:49:55.330Z"
   },
   {
    "duration": 26,
    "start_time": "2022-03-14T09:49:55.348Z"
   },
   {
    "duration": 11,
    "start_time": "2022-03-14T09:49:55.377Z"
   },
   {
    "duration": 95,
    "start_time": "2022-03-14T09:49:55.392Z"
   },
   {
    "duration": 88,
    "start_time": "2022-03-14T09:49:55.489Z"
   },
   {
    "duration": 6,
    "start_time": "2022-03-14T09:49:57.087Z"
   },
   {
    "duration": 10,
    "start_time": "2022-03-14T09:49:59.123Z"
   },
   {
    "duration": 9,
    "start_time": "2022-03-14T09:50:00.223Z"
   },
   {
    "duration": 6,
    "start_time": "2022-03-14T09:51:44.496Z"
   },
   {
    "duration": 24,
    "start_time": "2022-03-14T09:51:44.505Z"
   },
   {
    "duration": 26,
    "start_time": "2022-03-14T09:51:44.532Z"
   },
   {
    "duration": 23,
    "start_time": "2022-03-14T09:51:44.560Z"
   },
   {
    "duration": 41,
    "start_time": "2022-03-14T09:51:44.586Z"
   },
   {
    "duration": 34,
    "start_time": "2022-03-14T09:51:44.630Z"
   },
   {
    "duration": 26,
    "start_time": "2022-03-14T09:51:44.667Z"
   },
   {
    "duration": 27,
    "start_time": "2022-03-14T09:51:44.696Z"
   },
   {
    "duration": 73,
    "start_time": "2022-03-14T09:51:44.727Z"
   },
   {
    "duration": 4,
    "start_time": "2022-03-14T09:51:44.803Z"
   },
   {
    "duration": 31,
    "start_time": "2022-03-14T09:51:44.809Z"
   },
   {
    "duration": 31,
    "start_time": "2022-03-14T09:51:44.842Z"
   },
   {
    "duration": 15,
    "start_time": "2022-03-14T09:51:44.875Z"
   },
   {
    "duration": 24,
    "start_time": "2022-03-14T09:51:44.892Z"
   },
   {
    "duration": 24,
    "start_time": "2022-03-14T09:51:44.919Z"
   },
   {
    "duration": 16,
    "start_time": "2022-03-14T09:51:44.946Z"
   },
   {
    "duration": 36,
    "start_time": "2022-03-14T09:51:44.965Z"
   },
   {
    "duration": 46,
    "start_time": "2022-03-14T09:51:45.003Z"
   },
   {
    "duration": 33,
    "start_time": "2022-03-14T09:51:45.051Z"
   },
   {
    "duration": 29,
    "start_time": "2022-03-14T09:51:45.086Z"
   },
   {
    "duration": 16,
    "start_time": "2022-03-14T09:51:45.118Z"
   },
   {
    "duration": 52,
    "start_time": "2022-03-14T09:51:45.137Z"
   },
   {
    "duration": 8,
    "start_time": "2022-03-14T09:51:45.191Z"
   },
   {
    "duration": 31,
    "start_time": "2022-03-14T09:51:45.202Z"
   },
   {
    "duration": 28,
    "start_time": "2022-03-14T09:51:45.236Z"
   },
   {
    "duration": 23,
    "start_time": "2022-03-14T09:51:45.267Z"
   },
   {
    "duration": 20,
    "start_time": "2022-03-14T09:51:45.295Z"
   },
   {
    "duration": 42,
    "start_time": "2022-03-14T09:51:45.317Z"
   },
   {
    "duration": 13,
    "start_time": "2022-03-14T09:51:45.361Z"
   },
   {
    "duration": 1343,
    "start_time": "2022-03-14T09:51:45.377Z"
   },
   {
    "duration": 1696,
    "start_time": "2022-03-14T09:51:46.723Z"
   },
   {
    "duration": 1292,
    "start_time": "2022-03-14T09:51:48.421Z"
   },
   {
    "duration": 1214,
    "start_time": "2022-03-14T09:51:49.715Z"
   },
   {
    "duration": 8,
    "start_time": "2022-03-14T09:51:50.931Z"
   },
   {
    "duration": 34,
    "start_time": "2022-03-14T09:51:50.942Z"
   },
   {
    "duration": 97,
    "start_time": "2022-03-14T09:51:50.979Z"
   },
   {
    "duration": 24,
    "start_time": "2022-03-14T09:51:51.078Z"
   },
   {
    "duration": 74,
    "start_time": "2022-03-14T09:51:51.105Z"
   },
   {
    "duration": 23,
    "start_time": "2022-03-14T09:51:51.182Z"
   },
   {
    "duration": 36,
    "start_time": "2022-03-14T09:51:51.208Z"
   },
   {
    "duration": 33,
    "start_time": "2022-03-14T09:51:51.246Z"
   },
   {
    "duration": 11,
    "start_time": "2022-03-14T09:51:52.798Z"
   },
   {
    "duration": 10,
    "start_time": "2022-03-14T09:51:52.970Z"
   },
   {
    "duration": 9,
    "start_time": "2022-03-14T09:56:13.045Z"
   },
   {
    "duration": 127,
    "start_time": "2022-03-14T10:01:19.296Z"
   },
   {
    "duration": 4,
    "start_time": "2022-03-14T10:01:32.122Z"
   },
   {
    "duration": 123,
    "start_time": "2022-03-14T10:01:42.611Z"
   },
   {
    "duration": 9,
    "start_time": "2022-03-14T10:01:52.228Z"
   },
   {
    "duration": 5,
    "start_time": "2022-03-14T10:02:05.915Z"
   },
   {
    "duration": 7,
    "start_time": "2022-03-14T10:02:12.200Z"
   },
   {
    "duration": 1540,
    "start_time": "2022-03-15T01:07:03.388Z"
   },
   {
    "duration": 4,
    "start_time": "2022-03-15T01:07:04.931Z"
   },
   {
    "duration": 7,
    "start_time": "2022-03-15T01:07:04.938Z"
   },
   {
    "duration": 12,
    "start_time": "2022-03-15T01:07:04.948Z"
   },
   {
    "duration": 15,
    "start_time": "2022-03-15T01:07:04.963Z"
   },
   {
    "duration": 9,
    "start_time": "2022-03-15T01:07:04.981Z"
   },
   {
    "duration": 61,
    "start_time": "2022-03-15T01:07:04.993Z"
   },
   {
    "duration": 10,
    "start_time": "2022-03-15T01:07:05.060Z"
   },
   {
    "duration": 166,
    "start_time": "2022-03-15T01:07:05.073Z"
   },
   {
    "duration": 3,
    "start_time": "2022-03-15T01:07:05.242Z"
   },
   {
    "duration": 18,
    "start_time": "2022-03-15T01:07:05.248Z"
   },
   {
    "duration": 8,
    "start_time": "2022-03-15T01:07:05.268Z"
   },
   {
    "duration": 13,
    "start_time": "2022-03-15T01:07:05.278Z"
   },
   {
    "duration": 6,
    "start_time": "2022-03-15T01:07:05.293Z"
   },
   {
    "duration": 4,
    "start_time": "2022-03-15T01:07:05.301Z"
   },
   {
    "duration": 4,
    "start_time": "2022-03-15T01:07:05.343Z"
   },
   {
    "duration": 14,
    "start_time": "2022-03-15T01:07:05.350Z"
   },
   {
    "duration": 16,
    "start_time": "2022-03-15T01:07:05.367Z"
   },
   {
    "duration": 11,
    "start_time": "2022-03-15T01:07:05.386Z"
   },
   {
    "duration": 11,
    "start_time": "2022-03-15T01:07:05.399Z"
   },
   {
    "duration": 44,
    "start_time": "2022-03-15T01:07:05.412Z"
   },
   {
    "duration": 869,
    "start_time": "2022-03-15T01:07:05.458Z"
   },
   {
    "duration": 9,
    "start_time": "2022-03-15T01:07:06.349Z"
   },
   {
    "duration": 7,
    "start_time": "2022-03-15T01:07:06.362Z"
   },
   {
    "duration": 14,
    "start_time": "2022-03-15T01:07:06.372Z"
   },
   {
    "duration": 11,
    "start_time": "2022-03-15T01:07:06.388Z"
   },
   {
    "duration": 45,
    "start_time": "2022-03-15T01:07:06.401Z"
   },
   {
    "duration": 20,
    "start_time": "2022-03-15T01:07:06.449Z"
   },
   {
    "duration": 14,
    "start_time": "2022-03-15T01:07:06.472Z"
   },
   {
    "duration": 1555,
    "start_time": "2022-03-15T01:07:06.488Z"
   },
   {
    "duration": 1758,
    "start_time": "2022-03-15T01:07:08.045Z"
   },
   {
    "duration": 1181,
    "start_time": "2022-03-15T01:07:09.807Z"
   },
   {
    "duration": 1311,
    "start_time": "2022-03-15T01:07:10.992Z"
   },
   {
    "duration": 8,
    "start_time": "2022-03-15T01:07:12.305Z"
   },
   {
    "duration": 29,
    "start_time": "2022-03-15T01:07:12.316Z"
   },
   {
    "duration": 19,
    "start_time": "2022-03-15T01:07:12.348Z"
   },
   {
    "duration": 18,
    "start_time": "2022-03-15T01:07:12.369Z"
   },
   {
    "duration": 8,
    "start_time": "2022-03-15T01:07:12.390Z"
   },
   {
    "duration": 44,
    "start_time": "2022-03-15T01:07:12.400Z"
   },
   {
    "duration": 115,
    "start_time": "2022-03-15T01:07:12.447Z"
   },
   {
    "duration": 83,
    "start_time": "2022-03-15T01:07:12.565Z"
   },
   {
    "duration": 94,
    "start_time": "2022-03-15T01:07:12.651Z"
   },
   {
    "duration": 4,
    "start_time": "2022-03-15T01:07:12.747Z"
   },
   {
    "duration": 18,
    "start_time": "2022-03-15T01:07:12.754Z"
   },
   {
    "duration": 1652,
    "start_time": "2022-03-15T06:05:46.442Z"
   },
   {
    "duration": 4,
    "start_time": "2022-03-15T06:05:48.261Z"
   },
   {
    "duration": 5,
    "start_time": "2022-03-15T06:05:49.595Z"
   },
   {
    "duration": 8,
    "start_time": "2022-03-15T06:05:51.603Z"
   },
   {
    "duration": 13,
    "start_time": "2022-03-15T06:05:52.689Z"
   },
   {
    "duration": 5,
    "start_time": "2022-03-15T06:05:53.404Z"
   },
   {
    "duration": 14,
    "start_time": "2022-03-15T06:05:55.371Z"
   },
   {
    "duration": 3,
    "start_time": "2022-03-15T06:06:24.348Z"
   },
   {
    "duration": 74,
    "start_time": "2022-03-15T06:06:25.157Z"
   },
   {
    "duration": 4,
    "start_time": "2022-03-15T06:06:28.100Z"
   },
   {
    "duration": 18,
    "start_time": "2022-03-15T06:06:29.548Z"
   },
   {
    "duration": 11,
    "start_time": "2022-03-15T06:06:30.091Z"
   },
   {
    "duration": 11,
    "start_time": "2022-03-15T06:06:30.649Z"
   },
   {
    "duration": 5,
    "start_time": "2022-03-15T06:06:31.196Z"
   },
   {
    "duration": 4,
    "start_time": "2022-03-15T06:07:19.692Z"
   },
   {
    "duration": 5,
    "start_time": "2022-03-15T06:07:21.423Z"
   },
   {
    "duration": 6,
    "start_time": "2022-03-15T06:07:22.599Z"
   },
   {
    "duration": 6,
    "start_time": "2022-03-15T06:07:23.195Z"
   },
   {
    "duration": 9,
    "start_time": "2022-03-15T06:07:23.908Z"
   },
   {
    "duration": 8,
    "start_time": "2022-03-15T06:07:24.701Z"
   },
   {
    "duration": 9,
    "start_time": "2022-03-15T06:07:24.884Z"
   },
   {
    "duration": 127767,
    "start_time": "2022-03-15T06:07:25.408Z"
   },
   {
    "duration": 7,
    "start_time": "2022-03-15T06:09:33.179Z"
   },
   {
    "duration": 8,
    "start_time": "2022-03-15T06:09:33.189Z"
   },
   {
    "duration": 20,
    "start_time": "2022-03-15T06:09:33.200Z"
   },
   {
    "duration": 13,
    "start_time": "2022-03-15T06:09:33.223Z"
   },
   {
    "duration": 6,
    "start_time": "2022-03-15T06:09:33.238Z"
   },
   {
    "duration": 33,
    "start_time": "2022-03-15T06:09:33.247Z"
   },
   {
    "duration": 9,
    "start_time": "2022-03-15T06:09:33.283Z"
   },
   {
    "duration": 1663,
    "start_time": "2022-03-15T06:09:33.295Z"
   },
   {
    "duration": 1856,
    "start_time": "2022-03-15T06:09:34.961Z"
   },
   {
    "duration": 1289,
    "start_time": "2022-03-15T06:09:36.820Z"
   },
   {
    "duration": 1240,
    "start_time": "2022-03-15T06:09:38.111Z"
   },
   {
    "duration": 19,
    "start_time": "2022-03-15T06:09:39.354Z"
   },
   {
    "duration": 6,
    "start_time": "2022-03-15T06:10:52.352Z"
   },
   {
    "duration": 13,
    "start_time": "2022-03-15T06:10:53.152Z"
   },
   {
    "duration": 7,
    "start_time": "2022-03-15T06:10:53.326Z"
   },
   {
    "duration": 9,
    "start_time": "2022-03-15T06:10:56.057Z"
   },
   {
    "duration": 13,
    "start_time": "2022-03-15T06:10:58.852Z"
   },
   {
    "duration": 8,
    "start_time": "2022-03-15T06:11:00.480Z"
   },
   {
    "duration": 5,
    "start_time": "2022-03-15T06:11:01.336Z"
   },
   {
    "duration": 10,
    "start_time": "2022-03-15T06:11:01.812Z"
   },
   {
    "duration": 4,
    "start_time": "2022-03-15T06:11:02.138Z"
   },
   {
    "duration": 8,
    "start_time": "2022-03-15T06:11:02.520Z"
   }
  ],
  "kernelspec": {
   "display_name": "Python 3 (ipykernel)",
   "language": "python",
   "name": "python3"
  },
  "language_info": {
   "codemirror_mode": {
    "name": "ipython",
    "version": 3
   },
   "file_extension": ".py",
   "mimetype": "text/x-python",
   "name": "python",
   "nbconvert_exporter": "python",
   "pygments_lexer": "ipython3",
   "version": "3.10.4"
  },
  "toc": {
   "base_numbering": 1,
   "nav_menu": {},
   "number_sections": true,
   "sideBar": true,
   "skip_h1_title": true,
   "title_cell": "Содержание",
   "title_sidebar": "Contents",
   "toc_cell": true,
   "toc_position": {
    "height": "calc(100% - 180px)",
    "left": "10px",
    "top": "150px",
    "width": "318.391px"
   },
   "toc_section_display": true,
   "toc_window_display": true
  },
  "varInspector": {
   "cols": {
    "lenName": 16,
    "lenType": 16,
    "lenVar": 40
   },
   "kernels_config": {
    "python": {
     "delete_cmd_postfix": "",
     "delete_cmd_prefix": "del ",
     "library": "var_list.py",
     "varRefreshCmd": "print(var_dic_list())"
    },
    "r": {
     "delete_cmd_postfix": ") ",
     "delete_cmd_prefix": "rm(",
     "library": "var_list.r",
     "varRefreshCmd": "cat(var_dic_list()) "
    }
   },
   "types_to_exclude": [
    "module",
    "function",
    "builtin_function_or_method",
    "instance",
    "_Feature"
   ],
   "window_display": false
  }
 },
 "nbformat": 4,
 "nbformat_minor": 2
}
