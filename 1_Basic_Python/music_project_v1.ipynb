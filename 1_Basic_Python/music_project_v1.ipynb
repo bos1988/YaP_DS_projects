{
 "cells": [
  {
   "cell_type": "markdown",
   "metadata": {
    "toc": true
   },
   "source": [
    "<h1>Table of Contents<span class=\"tocSkip\"></span></h1>\n",
    "<div class=\"toc\"><ul class=\"toc-item\"><li><span><a href=\"#Обзор-данных\" data-toc-modified-id=\"Обзор-данных-1\"><span class=\"toc-item-num\">1&nbsp;&nbsp;</span>Обзор данных</a></span></li><li><span><a href=\"#Предобработка-данных\" data-toc-modified-id=\"Предобработка-данных-2\"><span class=\"toc-item-num\">2&nbsp;&nbsp;</span>Предобработка данных</a></span><ul class=\"toc-item\"><li><span><a href=\"#Стиль-заголовков\" data-toc-modified-id=\"Стиль-заголовков-2.1\"><span class=\"toc-item-num\">2.1&nbsp;&nbsp;</span>Стиль заголовков</a></span></li><li><span><a href=\"#Пропуски-значений\" data-toc-modified-id=\"Пропуски-значений-2.2\"><span class=\"toc-item-num\">2.2&nbsp;&nbsp;</span>Пропуски значений</a></span></li><li><span><a href=\"#Дубликаты\" data-toc-modified-id=\"Дубликаты-2.3\"><span class=\"toc-item-num\">2.3&nbsp;&nbsp;</span>Дубликаты</a></span></li></ul></li><li><span><a href=\"#Проверка-гипотез\" data-toc-modified-id=\"Проверка-гипотез-3\"><span class=\"toc-item-num\">3&nbsp;&nbsp;</span>Проверка гипотез</a></span><ul class=\"toc-item\"><li><span><a href=\"#Сравнение-поведения-пользователей-двух-столиц\" data-toc-modified-id=\"Сравнение-поведения-пользователей-двух-столиц-3.1\"><span class=\"toc-item-num\">3.1&nbsp;&nbsp;</span>Сравнение поведения пользователей двух столиц</a></span></li><li><span><a href=\"#Музыка-в-начале-и-в-конце-недели\" data-toc-modified-id=\"Музыка-в-начале-и-в-конце-недели-3.2\"><span class=\"toc-item-num\">3.2&nbsp;&nbsp;</span>Музыка в начале и в конце недели</a></span></li><li><span><a href=\"#Жанровые-предпочтения-в-Москве-и-Петербурге\" data-toc-modified-id=\"Жанровые-предпочтения-в-Москве-и-Петербурге-3.3\"><span class=\"toc-item-num\">3.3&nbsp;&nbsp;</span>Жанровые предпочтения в Москве и Петербурге</a></span></li></ul></li><li><span><a href=\"#Итоги-исследования\" data-toc-modified-id=\"Итоги-исследования-4\"><span class=\"toc-item-num\">4&nbsp;&nbsp;</span>Итоги исследования</a></span></li><li><span><a href=\"#Дополнительнео-исследование:\" data-toc-modified-id=\"Дополнительнео-исследование:-5\"><span class=\"toc-item-num\">5&nbsp;&nbsp;</span>Дополнительнео исследование:</a></span></li></ul></div>"
   ]
  },
  {
   "cell_type": "markdown",
   "metadata": {
    "id": "E0vqbgi9ay0H",
    "pycharm": {
     "name": "#%% md\n"
    }
   },
   "source": [
    "# Исследование данных сервиса “Яндекс.Музыка”"
   ]
  },
  {
   "cell_type": "markdown",
   "metadata": {
    "id": "VUC88oWjTJw2",
    "pycharm": {
     "name": "#%% md\n"
    }
   },
   "source": [
    "Сравнение Москвы и Петербурга окружено мифами. Например:\n",
    " * Москва — мегаполис, подчинённый жёсткому ритму рабочей недели;\n",
    " * Петербург — культурная столица, со своими вкусами.\n",
    "\n",
    "На данных Яндекс.Музыки сравним поведение пользователей двух столиц.\n",
    "\n",
    "**Цель исследования** — проверить три гипотезы:\n",
    "1. Активность пользователей зависит от дня недели. Причём в Москве и Петербурге это проявляется по-разному.\n",
    "2. В понедельник утром в Москве преобладают одни жанры, а в Петербурге — другие. Так же и вечером пятницы преобладают разные жанры — в зависимости от города. \n",
    "3. Москва и Петербург предпочитают разные жанры музыки. В Москве чаще слушают поп-музыку, в Петербурге — русский рэп.\n",
    "\n",
    "**Ход исследования**\n",
    "\n",
    "Данные о поведении пользователей получим из файла `yandex_music_project.csv`. О качестве данных ничего не известно. Поэтому перед проверкой гипотез понадобится обзор данных. \n",
    "\n",
    "Проверим данные на ошибки и оценим их влияние на исследование. Затем, на этапе предобработки поищем возможность исправить самые критичные ошибки данных.\n",
    " \n",
    "Таким образом, исследование пройдёт в три этапа:\n",
    " 1. Обзор данных.\n",
    " 2. Предобработка данных.\n",
    " 3. Проверка гипотез.\n",
    "\n"
   ]
  },
  {
   "cell_type": "markdown",
   "metadata": {
    "id": "Ml1hmfXC_Zcs",
    "pycharm": {
     "name": "#%% md\n"
    }
   },
   "source": [
    "## Обзор данных\n",
    "\n",
    "Составим первое представление о данных Яндекс.Музыки."
   ]
  },
  {
   "cell_type": "markdown",
   "metadata": {
    "id": "57eAOGIz_Zcs",
    "pycharm": {
     "name": "#%% md\n"
    }
   },
   "source": [
    "Основной инструмент аналитика — `pandas`. Импортируем эту библиотеку."
   ]
  },
  {
   "cell_type": "code",
   "execution_count": 1,
   "metadata": {
    "id": "AXN7PHPN_Zcs",
    "pycharm": {
     "name": "#%%\n"
    }
   },
   "outputs": [],
   "source": [
    "# импорт библиотеки pandas\n",
    "import pandas as pd"
   ]
  },
  {
   "cell_type": "markdown",
   "metadata": {
    "id": "SG23P8tt_Zcs",
    "pycharm": {
     "name": "#%% md\n"
    }
   },
   "source": [
    "Прочитаем файл `yandex_music_project.csv` из папки `/datasets` и сохраним его в переменной `df`:"
   ]
  },
  {
   "cell_type": "code",
   "execution_count": 2,
   "metadata": {
    "id": "fFVu7vqh_Zct",
    "pycharm": {
     "name": "#%%\n"
    }
   },
   "outputs": [],
   "source": [
    "# чтение файла с данными и сохранение в df\n",
    "df = pd.read_csv('/datasets/yandex_music_project.csv')"
   ]
  },
  {
   "cell_type": "markdown",
   "metadata": {
    "id": "rDoOMd3uTqnZ",
    "pycharm": {
     "name": "#%% md\n"
    }
   },
   "source": [
    "Выведем на экран первые десять строк таблицы:"
   ]
  },
  {
   "cell_type": "code",
   "execution_count": 3,
   "metadata": {
    "id": "oWTVX3gW_Zct",
    "pycharm": {
     "name": "#%%\n"
    }
   },
   "outputs": [
    {
     "data": {
      "text/html": [
       "<div>\n",
       "<style scoped>\n",
       "    .dataframe tbody tr th:only-of-type {\n",
       "        vertical-align: middle;\n",
       "    }\n",
       "\n",
       "    .dataframe tbody tr th {\n",
       "        vertical-align: top;\n",
       "    }\n",
       "\n",
       "    .dataframe thead th {\n",
       "        text-align: right;\n",
       "    }\n",
       "</style>\n",
       "<table border=\"1\" class=\"dataframe\">\n",
       "  <thead>\n",
       "    <tr style=\"text-align: right;\">\n",
       "      <th></th>\n",
       "      <th>userID</th>\n",
       "      <th>Track</th>\n",
       "      <th>artist</th>\n",
       "      <th>genre</th>\n",
       "      <th>City</th>\n",
       "      <th>time</th>\n",
       "      <th>Day</th>\n",
       "    </tr>\n",
       "  </thead>\n",
       "  <tbody>\n",
       "    <tr>\n",
       "      <td>0</td>\n",
       "      <td>FFB692EC</td>\n",
       "      <td>Kamigata To Boots</td>\n",
       "      <td>The Mass Missile</td>\n",
       "      <td>rock</td>\n",
       "      <td>Saint-Petersburg</td>\n",
       "      <td>20:28:33</td>\n",
       "      <td>Wednesday</td>\n",
       "    </tr>\n",
       "    <tr>\n",
       "      <td>1</td>\n",
       "      <td>55204538</td>\n",
       "      <td>Delayed Because of Accident</td>\n",
       "      <td>Andreas Rönnberg</td>\n",
       "      <td>rock</td>\n",
       "      <td>Moscow</td>\n",
       "      <td>14:07:09</td>\n",
       "      <td>Friday</td>\n",
       "    </tr>\n",
       "    <tr>\n",
       "      <td>2</td>\n",
       "      <td>20EC38</td>\n",
       "      <td>Funiculì funiculà</td>\n",
       "      <td>Mario Lanza</td>\n",
       "      <td>pop</td>\n",
       "      <td>Saint-Petersburg</td>\n",
       "      <td>20:58:07</td>\n",
       "      <td>Wednesday</td>\n",
       "    </tr>\n",
       "    <tr>\n",
       "      <td>3</td>\n",
       "      <td>A3DD03C9</td>\n",
       "      <td>Dragons in the Sunset</td>\n",
       "      <td>Fire + Ice</td>\n",
       "      <td>folk</td>\n",
       "      <td>Saint-Petersburg</td>\n",
       "      <td>08:37:09</td>\n",
       "      <td>Monday</td>\n",
       "    </tr>\n",
       "    <tr>\n",
       "      <td>4</td>\n",
       "      <td>E2DC1FAE</td>\n",
       "      <td>Soul People</td>\n",
       "      <td>Space Echo</td>\n",
       "      <td>dance</td>\n",
       "      <td>Moscow</td>\n",
       "      <td>08:34:34</td>\n",
       "      <td>Monday</td>\n",
       "    </tr>\n",
       "    <tr>\n",
       "      <td>5</td>\n",
       "      <td>842029A1</td>\n",
       "      <td>Преданная</td>\n",
       "      <td>IMPERVTOR</td>\n",
       "      <td>rusrap</td>\n",
       "      <td>Saint-Petersburg</td>\n",
       "      <td>13:09:41</td>\n",
       "      <td>Friday</td>\n",
       "    </tr>\n",
       "    <tr>\n",
       "      <td>6</td>\n",
       "      <td>4CB90AA5</td>\n",
       "      <td>True</td>\n",
       "      <td>Roman Messer</td>\n",
       "      <td>dance</td>\n",
       "      <td>Moscow</td>\n",
       "      <td>13:00:07</td>\n",
       "      <td>Wednesday</td>\n",
       "    </tr>\n",
       "    <tr>\n",
       "      <td>7</td>\n",
       "      <td>F03E1C1F</td>\n",
       "      <td>Feeling This Way</td>\n",
       "      <td>Polina Griffith</td>\n",
       "      <td>dance</td>\n",
       "      <td>Moscow</td>\n",
       "      <td>20:47:49</td>\n",
       "      <td>Wednesday</td>\n",
       "    </tr>\n",
       "    <tr>\n",
       "      <td>8</td>\n",
       "      <td>8FA1D3BE</td>\n",
       "      <td>И вновь продолжается бой</td>\n",
       "      <td>NaN</td>\n",
       "      <td>ruspop</td>\n",
       "      <td>Moscow</td>\n",
       "      <td>09:17:40</td>\n",
       "      <td>Friday</td>\n",
       "    </tr>\n",
       "    <tr>\n",
       "      <td>9</td>\n",
       "      <td>E772D5C0</td>\n",
       "      <td>Pessimist</td>\n",
       "      <td>NaN</td>\n",
       "      <td>dance</td>\n",
       "      <td>Saint-Petersburg</td>\n",
       "      <td>21:20:49</td>\n",
       "      <td>Wednesday</td>\n",
       "    </tr>\n",
       "  </tbody>\n",
       "</table>\n",
       "</div>"
      ],
      "text/plain": [
       "     userID                        Track            artist   genre  \\\n",
       "0  FFB692EC            Kamigata To Boots  The Mass Missile    rock   \n",
       "1  55204538  Delayed Because of Accident  Andreas Rönnberg    rock   \n",
       "2    20EC38            Funiculì funiculà       Mario Lanza     pop   \n",
       "3  A3DD03C9        Dragons in the Sunset        Fire + Ice    folk   \n",
       "4  E2DC1FAE                  Soul People        Space Echo   dance   \n",
       "5  842029A1                    Преданная         IMPERVTOR  rusrap   \n",
       "6  4CB90AA5                         True      Roman Messer   dance   \n",
       "7  F03E1C1F             Feeling This Way   Polina Griffith   dance   \n",
       "8  8FA1D3BE     И вновь продолжается бой               NaN  ruspop   \n",
       "9  E772D5C0                    Pessimist               NaN   dance   \n",
       "\n",
       "             City        time        Day  \n",
       "0  Saint-Petersburg  20:28:33  Wednesday  \n",
       "1            Moscow  14:07:09     Friday  \n",
       "2  Saint-Petersburg  20:58:07  Wednesday  \n",
       "3  Saint-Petersburg  08:37:09     Monday  \n",
       "4            Moscow  08:34:34     Monday  \n",
       "5  Saint-Petersburg  13:09:41     Friday  \n",
       "6            Moscow  13:00:07  Wednesday  \n",
       "7            Moscow  20:47:49  Wednesday  \n",
       "8            Moscow  09:17:40     Friday  \n",
       "9  Saint-Petersburg  21:20:49  Wednesday  "
      ]
     },
     "metadata": {},
     "output_type": "display_data"
    }
   ],
   "source": [
    "# получение первых 10 строк таблицы df\n",
    "display(df.head(10))"
   ]
  },
  {
   "cell_type": "markdown",
   "metadata": {
    "id": "EO73Kwic_Zct",
    "pycharm": {
     "name": "#%% md\n"
    }
   },
   "source": [
    "Одной командой получим общую информацию о таблице:"
   ]
  },
  {
   "cell_type": "code",
   "execution_count": 4,
   "metadata": {
    "id": "DSf2kIb-_Zct",
    "pycharm": {
     "name": "#%%\n"
    }
   },
   "outputs": [
    {
     "name": "stdout",
     "output_type": "stream",
     "text": [
      "<class 'pandas.core.frame.DataFrame'>\n",
      "RangeIndex: 65079 entries, 0 to 65078\n",
      "Data columns (total 7 columns):\n",
      "  userID    65079 non-null object\n",
      "Track       63848 non-null object\n",
      "artist      57876 non-null object\n",
      "genre       63881 non-null object\n",
      "  City      65079 non-null object\n",
      "time        65079 non-null object\n",
      "Day         65079 non-null object\n",
      "dtypes: object(7)\n",
      "memory usage: 3.5+ MB\n",
      "--------------------------------------------------\n",
      "Число уникальных значений:\n",
      "  userID             41748\n",
      "Track                47246\n",
      "artist               43606\n",
      "genre                  290\n",
      "  City                   2\n",
      "time                 20392\n",
      "Day                      3\n"
     ]
    }
   ],
   "source": [
    "# получение общей информации о данных в таблице df\n",
    "df.info()\n",
    "\n",
    "def print_count_unique(data_frame):\n",
    "    print('-'*50)\n",
    "    print('Число уникальных значений:')\n",
    "    for row in data_frame:\n",
    "        print(f'{row:<15} {len(data_frame[row].unique()):>10}')\n",
    "\n",
    "print_count_unique(df)"
   ]
  },
  {
   "cell_type": "markdown",
   "metadata": {
    "id": "TaQ2Iwbr_Zct",
    "pycharm": {
     "name": "#%% md\n"
    }
   },
   "source": [
    "Итак, в таблице семь столбцов. Тип данных во всех столбцах — `object`.\n",
    "\n",
    "Согласно документации к данным:\n",
    "* `userID` — идентификатор пользователя;\n",
    "* `Track` — название трека;  \n",
    "* `artist` — имя исполнителя;\n",
    "* `genre` — название жанра;\n",
    "* `City` — город пользователя;\n",
    "* `time` — время начала прослушивания;\n",
    "* `Day` — день недели.\n",
    "\n",
    "В названиях колонок видны три нарушения стиля:\n",
    "1. Строчные буквы сочетаются с прописными.\n",
    "2. Встречаются пробелы.\n",
    "3. Для составных названий нужно применить змеиный регистр\n",
    "4. Недостаточно описательные названия колонок. Из названий `track`, `artist`, `genre` неясно что за данные (т.е. что это именно названия и имена). Нужно добавить `_name`. Неясно что за `day`, лучше заменить на `weekday`.\n",
    "\n",
    "\n",
    "Количество значений в столбцах различается. Значит, в данных есть пропущенные значения.\n"
   ]
  },
  {
   "cell_type": "markdown",
   "metadata": {
    "id": "MCB6-dXG_Zct",
    "pycharm": {
     "name": "#%% md\n"
    }
   },
   "source": [
    "**Выводы**\n",
    "\n",
    "В каждой строке таблицы — данные о прослушанном треке. Часть колонок описывает саму композицию: название, исполнителя и жанр. Остальные данные рассказывают о пользователе: из какого он города, когда он слушал музыку. \n",
    "\n",
    "Предварительно можно утверждать, что, данных достаточно для проверки гипотез. Но встречаются пропуски в данных, а в названиях колонок — расхождения с хорошим стилем.\n",
    "\n",
    "Чтобы двигаться дальше, нужно устранить проблемы в данных."
   ]
  },
  {
   "cell_type": "markdown",
   "metadata": {
    "id": "SjYF6Ub9_Zct",
    "pycharm": {
     "name": "#%% md\n"
    }
   },
   "source": [
    "## Предобработка данных\n",
    "Исправим стиль в заголовках столбцов, исключим пропуски. Затем проверим данные на дубликаты."
   ]
  },
  {
   "cell_type": "markdown",
   "metadata": {
    "id": "dIaKXr29_Zct",
    "pycharm": {
     "name": "#%% md\n"
    }
   },
   "source": [
    "### Стиль заголовков\n",
    "Выведем на экран названия столбцов:"
   ]
  },
  {
   "cell_type": "code",
   "execution_count": 5,
   "metadata": {
    "id": "oKOTdF_Q_Zct",
    "pycharm": {
     "name": "#%%\n"
    }
   },
   "outputs": [
    {
     "data": {
      "text/plain": [
       "Index(['  userID', 'Track', 'artist', 'genre', '  City  ', 'time', 'Day'], dtype='object')"
      ]
     },
     "metadata": {},
     "output_type": "display_data"
    }
   ],
   "source": [
    "# перечень названий столбцов таблицы df\n",
    "display(df.columns)"
   ]
  },
  {
   "cell_type": "markdown",
   "metadata": {
    "id": "zj5534cv_Zct",
    "pycharm": {
     "name": "#%% md\n"
    }
   },
   "source": [
    "Приведем названия в соответствие с хорошим стилем:\n",
    "* несколько слов в названии запишем в «змеином_регистре»,\n",
    "* все символы сделаем строчными,\n",
    "* устраним пробелы.\n",
    "\n",
    "Для этого переименуем колонки так:\n",
    "* `'  userID'` → `'user_id'`;\n",
    "* `'Track'` → `'track'`;\n",
    "* `'  City  '` → `'city'`;\n",
    "* `'Day'` → `'day'`."
   ]
  },
  {
   "cell_type": "code",
   "execution_count": 6,
   "metadata": {
    "id": "ISlFqs5y_Zct",
    "pycharm": {
     "name": "#%%\n"
    }
   },
   "outputs": [],
   "source": [
    "# переименование столбцов\n",
    "df = df.rename(columns = {'  userID': 'user_id', 'Track': 'track_name', 'artist': 'artist_name', 'genre': 'genre_name', '  City  ': 'city', 'Day': 'weekday'})"
   ]
  },
  {
   "cell_type": "markdown",
   "metadata": {
    "id": "1dqbh00J_Zct",
    "pycharm": {
     "name": "#%% md\n"
    }
   },
   "source": [
    "Проверим результат. Для этого ещё раз выведем на экран названия столбцов:"
   ]
  },
  {
   "cell_type": "code",
   "execution_count": 7,
   "metadata": {
    "id": "d4NOAmTW_Zct",
    "pycharm": {
     "name": "#%%\n"
    }
   },
   "outputs": [
    {
     "data": {
      "text/plain": [
       "Index(['user_id', 'track_name', 'artist_name', 'genre_name', 'city', 'time',\n",
       "       'weekday'],\n",
       "      dtype='object')"
      ]
     },
     "metadata": {},
     "output_type": "display_data"
    }
   ],
   "source": [
    "# проверка результатов - перечень названий столбцов\n",
    "display(df.columns)"
   ]
  },
  {
   "cell_type": "markdown",
   "metadata": {
    "id": "5ISfbcfY_Zct",
    "pycharm": {
     "name": "#%% md\n"
    }
   },
   "source": [
    "### Пропуски значений\n",
    "Сначала посчитаем, сколько в таблице пропущенных значений. Для этого достаточно двух методов `pandas`:"
   ]
  },
  {
   "cell_type": "code",
   "execution_count": 8,
   "metadata": {
    "id": "RskX29qr_Zct",
    "pycharm": {
     "name": "#%%\n"
    }
   },
   "outputs": [
    {
     "data": {
      "text/plain": [
       "user_id           0\n",
       "track_name     1231\n",
       "artist_name    7203\n",
       "genre_name     1198\n",
       "city              0\n",
       "time              0\n",
       "weekday           0\n",
       "dtype: int64"
      ]
     },
     "metadata": {},
     "output_type": "display_data"
    }
   ],
   "source": [
    "# подсчёт пропусков\n",
    "display(df.isna().sum())"
   ]
  },
  {
   "cell_type": "markdown",
   "metadata": {
    "id": "qubhgnlO_Zct",
    "pycharm": {
     "name": "#%% md\n"
    }
   },
   "source": [
    "Не все пропущенные значения влияют на исследование. Так в `track_name` и `artist_name` пропуски не важны для вашей работы. Достаточно заменить их явными обозначениями.\n",
    "\n",
    "Но пропуски в `genre_name` могут помешать сравнению музыкальных вкусов в Москве и Санкт-Петербурге. На практике было бы правильно установить причину пропусков и восстановить данные. Такой возможности нет в учебном проекте. Придётся:\n",
    "* заполнить и эти пропуски явными обозначениями,\n",
    "* оценить, насколько они повредят расчётам. "
   ]
  },
  {
   "cell_type": "markdown",
   "metadata": {
    "id": "fSv2laPA_Zct",
    "pycharm": {
     "name": "#%% md\n"
    }
   },
   "source": [
    "Заменим пропущенные значения в столбцах `track_name`, `artist_name` и `genre_name` на строку `'unknown'`. Для этого создадим список `columns_to_replace`, переберем его элементы циклом `for` и для каждого столбца выполнис замену пропущенных значений:"
   ]
  },
  {
   "cell_type": "code",
   "execution_count": 9,
   "metadata": {
    "id": "KplB5qWs_Zct",
    "pycharm": {
     "name": "#%%\n"
    }
   },
   "outputs": [],
   "source": [
    "# перебор названий столбцов в цикле и замена пропущенных значений на 'unknown'\n",
    "columns_to_replace = ['track_name', 'artist_name', 'genre_name']\n",
    "for name in columns_to_replace:\n",
    "    df[name] = df[name].fillna('unknown')"
   ]
  },
  {
   "cell_type": "markdown",
   "metadata": {
    "id": "Ilsm-MZo_Zct",
    "pycharm": {
     "name": "#%% md\n"
    }
   },
   "source": [
    "Убедимся, что в таблице не осталось пропусков. Для этого ещё раз посчитаем пропущенные значения."
   ]
  },
  {
   "cell_type": "code",
   "execution_count": 10,
   "metadata": {
    "id": "Tq4nYRX4_Zct",
    "pycharm": {
     "name": "#%%\n"
    }
   },
   "outputs": [
    {
     "data": {
      "text/plain": [
       "user_id        0\n",
       "track_name     0\n",
       "artist_name    0\n",
       "genre_name     0\n",
       "city           0\n",
       "time           0\n",
       "weekday        0\n",
       "dtype: int64"
      ]
     },
     "metadata": {},
     "output_type": "display_data"
    }
   ],
   "source": [
    "# подсчёт пропусков\n",
    "display(df.isna().sum())"
   ]
  },
  {
   "cell_type": "markdown",
   "metadata": {
    "id": "BWKRtBJ3_Zct",
    "pycharm": {
     "name": "#%% md\n"
    }
   },
   "source": [
    "### Дубликаты\n",
    "Посчитаем явные дубликаты в таблице одной командой:"
   ]
  },
  {
   "cell_type": "code",
   "execution_count": 11,
   "metadata": {
    "id": "36eES_S0_Zct",
    "pycharm": {
     "name": "#%%\n"
    }
   },
   "outputs": [
    {
     "data": {
      "text/plain": [
       "3826"
      ]
     },
     "metadata": {},
     "output_type": "display_data"
    }
   ],
   "source": [
    "# подсчёт явных дубликатов\n",
    "display(df.duplicated().sum())"
   ]
  },
  {
   "cell_type": "markdown",
   "metadata": {
    "id": "Ot25h6XR_Zct",
    "pycharm": {
     "name": "#%% md\n"
    }
   },
   "source": [
    "Вызовите специальный метод `pandas`, чтобы удалить явные дубликаты:"
   ]
  },
  {
   "cell_type": "code",
   "execution_count": 12,
   "metadata": {
    "id": "exFHq6tt_Zct",
    "pycharm": {
     "name": "#%%\n"
    }
   },
   "outputs": [],
   "source": [
    "# удаление явных дубликатов (с удалением старых индексов и формированием новых)\n",
    "df = df.drop_duplicates().reset_index(drop=True)"
   ]
  },
  {
   "cell_type": "markdown",
   "metadata": {
    "id": "Im2YwBEG_Zct",
    "pycharm": {
     "name": "#%% md\n"
    }
   },
   "source": [
    "Ещё раз посчитайте явные дубликаты в таблице — убедимся, что полностью от них избавились:"
   ]
  },
  {
   "cell_type": "code",
   "execution_count": 13,
   "metadata": {
    "id": "-8PuNWQ0_Zct",
    "pycharm": {
     "name": "#%%\n"
    }
   },
   "outputs": [
    {
     "data": {
      "text/plain": [
       "0"
      ]
     },
     "metadata": {},
     "output_type": "display_data"
    }
   ],
   "source": [
    "# проверка на отсутствие дубликатов\n",
    "display(df.duplicated().sum())"
   ]
  },
  {
   "cell_type": "markdown",
   "metadata": {
    "id": "QlFBsxAr_Zct",
    "pycharm": {
     "name": "#%% md\n"
    }
   },
   "source": [
    "Теперь избавимся от неявных дубликатов в колонке `genre`. Например, название одного и того же жанра может быть записано немного по-разному. Такие ошибки тоже повлияют на результат исследования."
   ]
  },
  {
   "cell_type": "markdown",
   "metadata": {
    "id": "eSjWwsOh_Zct",
    "pycharm": {
     "name": "#%% md\n"
    }
   },
   "source": [
    "Выведем на экран список уникальных названий жанров, отсортированный в алфавитном порядке. Для этого:\n",
    "* извлечем нужный столбец датафрейма, \n",
    "* применим к нему метод сортировки,\n",
    "* для отсортированного столбца вызовим метод, который вернёт уникальные значения из столбца."
   ]
  },
  {
   "cell_type": "code",
   "execution_count": 14,
   "metadata": {
    "id": "JIUcqzZN_Zct",
    "pycharm": {
     "name": "#%%\n"
    }
   },
   "outputs": [
    {
     "data": {
      "text/plain": [
       "array(['acid', 'acoustic', 'action', 'adult', 'africa', 'afrikaans',\n",
       "       'alternative', 'alternativepunk', 'ambient', 'americana',\n",
       "       'animated', 'anime', 'arabesk', 'arabic', 'arena',\n",
       "       'argentinetango', 'art', 'audiobook', 'author', 'avantgarde',\n",
       "       'axé', 'baile', 'balkan', 'beats', 'bigroom', 'black', 'bluegrass',\n",
       "       'blues', 'bollywood', 'bossa', 'brazilian', 'breakbeat', 'breaks',\n",
       "       'broadway', 'cantautori', 'cantopop', 'canzone', 'caribbean',\n",
       "       'caucasian', 'celtic', 'chamber', 'chanson', 'children', 'chill',\n",
       "       'chinese', 'choral', 'christian', 'christmas', 'classical',\n",
       "       'classicmetal', 'club', 'colombian', 'comedy', 'conjazz',\n",
       "       'contemporary', 'country', 'cuban', 'dance', 'dancehall',\n",
       "       'dancepop', 'dark', 'death', 'deep', 'deutschrock', 'deutschspr',\n",
       "       'dirty', 'disco', 'dnb', 'documentary', 'downbeat', 'downtempo',\n",
       "       'drum', 'dub', 'dubstep', 'eastern', 'easy', 'electronic',\n",
       "       'electropop', 'emo', 'entehno', 'epicmetal', 'estrada', 'ethnic',\n",
       "       'eurofolk', 'european', 'experimental', 'extrememetal', 'fado',\n",
       "       'fairytail', 'film', 'fitness', 'flamenco', 'folk', 'folklore',\n",
       "       'folkmetal', 'folkrock', 'folktronica', 'forró', 'frankreich',\n",
       "       'französisch', 'french', 'funk', 'future', 'gangsta', 'garage',\n",
       "       'german', 'ghazal', 'gitarre', 'glitch', 'gospel', 'gothic',\n",
       "       'grime', 'grunge', 'gypsy', 'handsup', \"hard'n'heavy\", 'hardcore',\n",
       "       'hardstyle', 'hardtechno', 'hip', 'hip-hop', 'hiphop',\n",
       "       'historisch', 'holiday', 'hop', 'horror', 'house', 'hymn', 'idm',\n",
       "       'independent', 'indian', 'indie', 'indipop', 'industrial',\n",
       "       'inspirational', 'instrumental', 'international', 'irish', 'jam',\n",
       "       'japanese', 'jazz', 'jewish', 'jpop', 'jungle', 'k-pop',\n",
       "       'karadeniz', 'karaoke', 'kayokyoku', 'korean', 'laiko', 'latin',\n",
       "       'latino', 'leftfield', 'local', 'lounge', 'loungeelectronic',\n",
       "       'lovers', 'malaysian', 'mandopop', 'marschmusik', 'meditative',\n",
       "       'mediterranean', 'melodic', 'metal', 'metalcore', 'mexican',\n",
       "       'middle', 'minimal', 'miscellaneous', 'modern', 'mood', 'mpb',\n",
       "       'muslim', 'native', 'neoklassik', 'neue', 'new', 'newage',\n",
       "       'newwave', 'nu', 'nujazz', 'numetal', 'oceania', 'old', 'opera',\n",
       "       'orchestral', 'other', 'piano', 'podcasts', 'pop', 'popdance',\n",
       "       'popelectronic', 'popeurodance', 'poprussian', 'post',\n",
       "       'posthardcore', 'postrock', 'power', 'progmetal', 'progressive',\n",
       "       'psychedelic', 'punjabi', 'punk', 'quebecois', 'ragga', 'ram',\n",
       "       'rancheras', 'rap', 'rave', 'reggae', 'reggaeton', 'regional',\n",
       "       'relax', 'religious', 'retro', 'rhythm', 'rnb', 'rnr', 'rock',\n",
       "       'rockabilly', 'rockalternative', 'rockindie', 'rockother',\n",
       "       'romance', 'roots', 'ruspop', 'rusrap', 'rusrock', 'russian',\n",
       "       'salsa', 'samba', 'scenic', 'schlager', 'self', 'sertanejo',\n",
       "       'shanson', 'shoegazing', 'showtunes', 'singer', 'ska', 'skarock',\n",
       "       'slow', 'smooth', 'soft', 'soul', 'soulful', 'sound', 'soundtrack',\n",
       "       'southern', 'specialty', 'speech', 'spiritual', 'sport',\n",
       "       'stonerrock', 'surf', 'swing', 'synthpop', 'synthrock',\n",
       "       'sängerportrait', 'tango', 'tanzorchester', 'taraftar', 'tatar',\n",
       "       'tech', 'techno', 'teen', 'thrash', 'top', 'traditional',\n",
       "       'tradjazz', 'trance', 'tribal', 'trip', 'triphop', 'tropical',\n",
       "       'türk', 'türkçe', 'ukrrock', 'unknown', 'urban', 'uzbek',\n",
       "       'variété', 'vi', 'videogame', 'vocal', 'western', 'world',\n",
       "       'worldbeat', 'ïîï', 'электроника'], dtype=object)"
      ]
     },
     "metadata": {},
     "output_type": "display_data"
    },
    {
     "name": "stdout",
     "output_type": "stream",
     "text": [
      "Итого кол-во уникальных значений: 290\n"
     ]
    }
   ],
   "source": [
    "# Функция вывода уникальных значений столюца и их количества:\n",
    "def print_unique(data_frame, column):\n",
    "    uniques = df[column].sort_values().unique()\n",
    "    display(uniques)\n",
    "    print('Итого кол-во уникальных значений:', len(uniques))\n",
    "\n",
    "# Просмотр уникальных названий жанров\n",
    "print_unique(df, 'genre_name')"
   ]
  },
  {
   "cell_type": "markdown",
   "metadata": {
    "id": "qej-Qmuo_Zct",
    "pycharm": {
     "name": "#%% md\n"
    }
   },
   "source": [
    "Просмотрим список и найдем неявные дубликаты названия `hiphop`. Это могут быть названия с ошибками или альтернативные названия того же жанра.\n",
    "\n",
    "Увидем следующие неявные дубликаты:\n",
    "* *hip*,\n",
    "* *hop*,\n",
    "* *hip-hop*.\n",
    "\n",
    "Чтобы очистить от них таблицу, напишем функцию `replace_wrong_genres()` с двумя параметрами: \n",
    "* `wrong_genres` — список дубликатов,\n",
    "* `correct_genre` — строка с правильным значением.\n",
    "\n",
    "Функция должна исправить колонку `genre` в таблице `df`: заменить каждое значение из списка `wrong_genres` на значение из `correct_genre`."
   ]
  },
  {
   "cell_type": "code",
   "execution_count": 15,
   "metadata": {
    "id": "ErNDkmns_Zct",
    "pycharm": {
     "name": "#%%\n"
    }
   },
   "outputs": [],
   "source": [
    "# Функция для замены неявных дубликатов\n",
    "def replace_wrong_genres(data_frame, wrong_genres, correct_genre, column='genre_name'):\n",
    "    for wrong_value in wrong_genres:\n",
    "        data_frame[column] = data_frame[column].replace(wrong_value, correct_genre)"
   ]
  },
  {
   "cell_type": "markdown",
   "metadata": {
    "id": "aDoBJxbA_Zct",
    "pycharm": {
     "name": "#%% md\n"
    }
   },
   "source": [
    "Вызовим `replace_wrong_genres()` и передадим ей такие аргументы, чтобы она устранила неявные дубликаты: вместо `hip`, `hop` и `hip-hop` в таблице должно быть значение `hiphop`:"
   ]
  },
  {
   "cell_type": "code",
   "execution_count": 16,
   "metadata": {
    "id": "YN5i2hpmSo09",
    "pycharm": {
     "name": "#%%\n"
    }
   },
   "outputs": [],
   "source": [
    "# Устранение неявных дубликатов\n",
    "replace_wrong_genres(df, ['hip', 'hop', 'hip-hop'], 'hiphop')\n",
    "replace_wrong_genres(df, ['электроника'], 'electronic')"
   ]
  },
  {
   "cell_type": "markdown",
   "metadata": {
    "id": "zQKF16_RG15m",
    "pycharm": {
     "name": "#%% md\n"
    }
   },
   "source": [
    "Проверим, что заменили неправильные названия:\n",
    "\n",
    "*   hip\n",
    "*   hop\n",
    "*   hip-hop\n",
    "\n",
    "Выведем отсортированный список уникальных значений столбца `genre`:"
   ]
  },
  {
   "cell_type": "code",
   "execution_count": 17,
   "metadata": {
    "id": "wvixALnFG15m",
    "pycharm": {
     "name": "#%%\n"
    }
   },
   "outputs": [
    {
     "data": {
      "text/plain": [
       "array(['acid', 'acoustic', 'action', 'adult', 'africa', 'afrikaans',\n",
       "       'alternative', 'alternativepunk', 'ambient', 'americana',\n",
       "       'animated', 'anime', 'arabesk', 'arabic', 'arena',\n",
       "       'argentinetango', 'art', 'audiobook', 'author', 'avantgarde',\n",
       "       'axé', 'baile', 'balkan', 'beats', 'bigroom', 'black', 'bluegrass',\n",
       "       'blues', 'bollywood', 'bossa', 'brazilian', 'breakbeat', 'breaks',\n",
       "       'broadway', 'cantautori', 'cantopop', 'canzone', 'caribbean',\n",
       "       'caucasian', 'celtic', 'chamber', 'chanson', 'children', 'chill',\n",
       "       'chinese', 'choral', 'christian', 'christmas', 'classical',\n",
       "       'classicmetal', 'club', 'colombian', 'comedy', 'conjazz',\n",
       "       'contemporary', 'country', 'cuban', 'dance', 'dancehall',\n",
       "       'dancepop', 'dark', 'death', 'deep', 'deutschrock', 'deutschspr',\n",
       "       'dirty', 'disco', 'dnb', 'documentary', 'downbeat', 'downtempo',\n",
       "       'drum', 'dub', 'dubstep', 'eastern', 'easy', 'electronic',\n",
       "       'electropop', 'emo', 'entehno', 'epicmetal', 'estrada', 'ethnic',\n",
       "       'eurofolk', 'european', 'experimental', 'extrememetal', 'fado',\n",
       "       'fairytail', 'film', 'fitness', 'flamenco', 'folk', 'folklore',\n",
       "       'folkmetal', 'folkrock', 'folktronica', 'forró', 'frankreich',\n",
       "       'französisch', 'french', 'funk', 'future', 'gangsta', 'garage',\n",
       "       'german', 'ghazal', 'gitarre', 'glitch', 'gospel', 'gothic',\n",
       "       'grime', 'grunge', 'gypsy', 'handsup', \"hard'n'heavy\", 'hardcore',\n",
       "       'hardstyle', 'hardtechno', 'hiphop', 'historisch', 'holiday',\n",
       "       'horror', 'house', 'hymn', 'idm', 'independent', 'indian', 'indie',\n",
       "       'indipop', 'industrial', 'inspirational', 'instrumental',\n",
       "       'international', 'irish', 'jam', 'japanese', 'jazz', 'jewish',\n",
       "       'jpop', 'jungle', 'k-pop', 'karadeniz', 'karaoke', 'kayokyoku',\n",
       "       'korean', 'laiko', 'latin', 'latino', 'leftfield', 'local',\n",
       "       'lounge', 'loungeelectronic', 'lovers', 'malaysian', 'mandopop',\n",
       "       'marschmusik', 'meditative', 'mediterranean', 'melodic', 'metal',\n",
       "       'metalcore', 'mexican', 'middle', 'minimal', 'miscellaneous',\n",
       "       'modern', 'mood', 'mpb', 'muslim', 'native', 'neoklassik', 'neue',\n",
       "       'new', 'newage', 'newwave', 'nu', 'nujazz', 'numetal', 'oceania',\n",
       "       'old', 'opera', 'orchestral', 'other', 'piano', 'podcasts', 'pop',\n",
       "       'popdance', 'popelectronic', 'popeurodance', 'poprussian', 'post',\n",
       "       'posthardcore', 'postrock', 'power', 'progmetal', 'progressive',\n",
       "       'psychedelic', 'punjabi', 'punk', 'quebecois', 'ragga', 'ram',\n",
       "       'rancheras', 'rap', 'rave', 'reggae', 'reggaeton', 'regional',\n",
       "       'relax', 'religious', 'retro', 'rhythm', 'rnb', 'rnr', 'rock',\n",
       "       'rockabilly', 'rockalternative', 'rockindie', 'rockother',\n",
       "       'romance', 'roots', 'ruspop', 'rusrap', 'rusrock', 'russian',\n",
       "       'salsa', 'samba', 'scenic', 'schlager', 'self', 'sertanejo',\n",
       "       'shanson', 'shoegazing', 'showtunes', 'singer', 'ska', 'skarock',\n",
       "       'slow', 'smooth', 'soft', 'soul', 'soulful', 'sound', 'soundtrack',\n",
       "       'southern', 'specialty', 'speech', 'spiritual', 'sport',\n",
       "       'stonerrock', 'surf', 'swing', 'synthpop', 'synthrock',\n",
       "       'sängerportrait', 'tango', 'tanzorchester', 'taraftar', 'tatar',\n",
       "       'tech', 'techno', 'teen', 'thrash', 'top', 'traditional',\n",
       "       'tradjazz', 'trance', 'tribal', 'trip', 'triphop', 'tropical',\n",
       "       'türk', 'türkçe', 'ukrrock', 'unknown', 'urban', 'uzbek',\n",
       "       'variété', 'vi', 'videogame', 'vocal', 'western', 'world',\n",
       "       'worldbeat', 'ïîï'], dtype=object)"
      ]
     },
     "metadata": {},
     "output_type": "display_data"
    },
    {
     "name": "stdout",
     "output_type": "stream",
     "text": [
      "Итого кол-во уникальных значений: 286\n"
     ]
    }
   ],
   "source": [
    "# Проверка на неявные дубликаты\n",
    "print_unique(df, 'genre_name')"
   ]
  },
  {
   "cell_type": "markdown",
   "metadata": {
    "pycharm": {
     "name": "#%% md\n"
    }
   },
   "source": [
    "Просмотрим общую информацию об измененной таблице:"
   ]
  },
  {
   "cell_type": "code",
   "execution_count": 18,
   "metadata": {
    "pycharm": {
     "name": "#%%\n"
    }
   },
   "outputs": [
    {
     "name": "stdout",
     "output_type": "stream",
     "text": [
      "<class 'pandas.core.frame.DataFrame'>\n",
      "RangeIndex: 61253 entries, 0 to 61252\n",
      "Data columns (total 7 columns):\n",
      "user_id        61253 non-null object\n",
      "track_name     61253 non-null object\n",
      "artist_name    61253 non-null object\n",
      "genre_name     61253 non-null object\n",
      "city           61253 non-null object\n",
      "time           61253 non-null object\n",
      "weekday        61253 non-null object\n",
      "dtypes: object(7)\n",
      "memory usage: 3.3+ MB\n",
      "--------------------------------------------------\n",
      "Число уникальных значений:\n",
      "user_id              41748\n",
      "track_name           47246\n",
      "artist_name          43606\n",
      "genre_name             286\n",
      "city                     2\n",
      "time                 20392\n",
      "weekday                  3\n"
     ]
    }
   ],
   "source": [
    "# получение общей информации о данных в таблице df\n",
    "df.info()\n",
    "\n",
    "print_count_unique(df)"
   ]
  },
  {
   "cell_type": "markdown",
   "metadata": {
    "id": "jz6a9-7HQUDd",
    "pycharm": {
     "name": "#%% md\n"
    }
   },
   "source": [
    "**Выводы**\n",
    "\n",
    "Предобработка обнаружила три проблемы в данных:\n",
    "\n",
    "- нарушения в стиле заголовков,\n",
    "- пропущенные значения,\n",
    "- дубликаты — явные и неявные.\n",
    "\n",
    "Исправили заголовки, чтобы упростить работу с таблицей. Без дубликатов исследование станет более точным.\n",
    "\n",
    "Пропущенные значения заменили на `'unknown'`. Ещё предстоит увидеть, не повредят ли исследованию пропуски в колонке `genre`.\n",
    "\n",
    "Теперь можно перейти к проверке гипотез."
   ]
  },
  {
   "cell_type": "markdown",
   "metadata": {
    "id": "WttZHXH0SqKk",
    "pycharm": {
     "name": "#%% md\n"
    }
   },
   "source": [
    "## Проверка гипотез"
   ]
  },
  {
   "cell_type": "markdown",
   "metadata": {
    "id": "Im936VVi_Zcu",
    "pycharm": {
     "name": "#%% md\n"
    }
   },
   "source": [
    "### Сравнение поведения пользователей двух столиц"
   ]
  },
  {
   "cell_type": "markdown",
   "metadata": {
    "id": "nwt_MuaL_Zcu",
    "pycharm": {
     "name": "#%% md\n"
    }
   },
   "source": [
    "Первая гипотеза утверждает, что пользователи по-разному слушают музыку в Москве и Санкт-Петербурге. Проверим это предположение по данным о трёх днях недели — понедельнике, среде и пятнице. Для этого:\n",
    "\n",
    "* Разделим пользователей Москвы и Санкт-Петербурга\n",
    "* Сравним, сколько треков послушала каждая группа пользователей в понедельник, среду и пятницу.\n"
   ]
  },
  {
   "cell_type": "markdown",
   "metadata": {
    "id": "8Dw_YMmT_Zcu",
    "pycharm": {
     "name": "#%% md\n"
    }
   },
   "source": [
    "Для тренировки сначала выполним каждый из расчётов по отдельности. \n",
    "\n",
    "Оценим активность пользователей в каждом городе. Сгруппируем данные по городу и посчитайте прослушивания в каждой группе.\n",
    "\n"
   ]
  },
  {
   "cell_type": "code",
   "execution_count": 19,
   "metadata": {
    "id": "0_Qs96oh_Zcu",
    "pycharm": {
     "name": "#%%\n"
    }
   },
   "outputs": [
    {
     "data": {
      "text/plain": [
       "city\n",
       "Moscow              42741\n",
       "Saint-Petersburg    18512\n",
       "Name: user_id, dtype: int64"
      ]
     },
     "execution_count": 19,
     "metadata": {},
     "output_type": "execute_result"
    }
   ],
   "source": [
    "# Подсчёт прослушиваний в каждом городе\n",
    "df.groupby('city')['user_id'].count()"
   ]
  },
  {
   "cell_type": "markdown",
   "metadata": {
    "id": "dzli3w8o_Zcu",
    "pycharm": {
     "name": "#%% md\n"
    }
   },
   "source": [
    "В Москве прослушиваний больше, чем в Петербурге. Из этого не следует, что московские пользователи чаще слушают музыку. Просто самих пользователей в Москве больше.\n",
    "\n",
    "Теперь сгруппируем данные по дню недели и подсчитайте прослушивания в понедельник, среду и пятницу. Учтите, что в данных есть информация только о прослушиваниях только за эти дни.\n"
   ]
  },
  {
   "cell_type": "code",
   "execution_count": 20,
   "metadata": {
    "id": "uZMKjiJz_Zcu",
    "pycharm": {
     "name": "#%%\n"
    }
   },
   "outputs": [
    {
     "data": {
      "text/plain": [
       "weekday\n",
       "Friday       21840\n",
       "Monday       21354\n",
       "Wednesday    18059\n",
       "Name: user_id, dtype: int64"
      ]
     },
     "execution_count": 20,
     "metadata": {},
     "output_type": "execute_result"
    }
   ],
   "source": [
    "# Подсчёт прослушиваний в каждый из трёх дней\n",
    "df.groupby('weekday')['user_id'].count()"
   ]
  },
  {
   "cell_type": "markdown",
   "metadata": {
    "id": "cC2tNrlL_Zcu",
    "pycharm": {
     "name": "#%% md\n"
    }
   },
   "source": [
    "В среднем пользователи из двух городов менее активны по средам. Но картина может измениться, если рассмотреть каждый город в отдельности."
   ]
  },
  {
   "cell_type": "markdown",
   "metadata": {
    "id": "POzs8bGa_Zcu",
    "pycharm": {
     "name": "#%% md\n"
    }
   },
   "source": [
    "Мы видели, как работает группировка по городу и по дням недели. Теперь напишем функцию, которая объединит два эти расчёта.\n",
    "\n",
    "Создадим функцию `number_tracks()`, которая посчитает прослушивания для заданного дня и города. Ей понадобятся два параметра:\n",
    "* день недели,\n",
    "* название города.\n",
    "\n",
    "В функции сохраните в переменную строки исходной таблицы, у которых значение:\n",
    "  * в колонке `day` равно параметру `day`,\n",
    "  * в колонке `city` равно параметру `city`.\n",
    "\n",
    "Для этого применим последовательную фильтрацию с логической индексацией.\n",
    "\n",
    "Затем посчитаем значения в столбце `user_id` получившейся таблицы. Результат сохраним в новую переменную. Вернем эту переменную из функции."
   ]
  },
  {
   "cell_type": "code",
   "execution_count": 21,
   "metadata": {
    "id": "Nz3GdQB1_Zcu",
    "pycharm": {
     "name": "#%%\n"
    }
   },
   "outputs": [],
   "source": [
    "# <создание функции number_tracks()>\n",
    "# Объявляется функция с двумя параметрами: day, city.\n",
    "# В переменной track_list сохраняются те строки таблицы df, для которых \n",
    "# значение в столбце 'day' равно параметру day и одновременно значение\n",
    "# в столбце 'city' равно параметру city (используйте последовательную фильтрацию\n",
    "# с помощью логической индексации).\n",
    "# В переменной track_list_count сохраняется число значений столбца 'user_id',\n",
    "# рассчитанное методом count() для таблицы track_list.\n",
    "# Функция возвращает число - значение track_list_count.\n",
    "\n",
    "# Функция для подсчёта прослушиваний для конкретного города и дня.\n",
    "# С помощью последовательной фильтрации с логической индексацией она \n",
    "# сначала получит из исходной таблицы строки с нужным днём,\n",
    "# затем из результата отфильтрует строки с нужным городом,\n",
    "# методом count() посчитает количество значений в колонке user_id. \n",
    "# Это количество функция вернёт в качестве результата\n",
    "def number_tracks(data_frame, city, weekday):\n",
    "    track_list = data_frame[data_frame['city'] == city]\n",
    "    track_list = track_list[track_list['weekday'] == weekday]\n",
    "    track_list_count = track_list['user_id'].count()\n",
    "    return track_list_count"
   ]
  },
  {
   "cell_type": "markdown",
   "metadata": {
    "id": "ytf7xFrFJQ2r",
    "pycharm": {
     "name": "#%% md\n"
    }
   },
   "source": [
    "Вызовем `number_tracks()` шесть раз, меняя значение параметров — так, чтобы получить данные для каждого города в каждый из трёх дней."
   ]
  },
  {
   "cell_type": "code",
   "execution_count": 22,
   "metadata": {
    "pycharm": {
     "name": "#%%\n"
    }
   },
   "outputs": [
    {
     "name": "stdout",
     "output_type": "stream",
     "text": [
      "['Wednesday', 'Friday', 'Monday']\n"
     ]
    }
   ],
   "source": [
    "# Таблица результатов первого исследования\n",
    "result_1 = [['Москва'],['Санкт-Петербург']]\n",
    "\n",
    "# Параметры выборки:\n",
    "cities = ['Moscow', 'Saint-Petersburg']\n",
    "all_days = list(df['weekday'].unique())\n",
    "print(all_days)\n",
    "\n",
    "# Заполонение таблицы результатов первого исследования:\n",
    "for i in range(len(cities)):\n",
    "    for day in all_days:\n",
    "        result_1[i].append(number_tracks(df, cities[i], day))"
   ]
  },
  {
   "cell_type": "markdown",
   "metadata": {
    "id": "7QXffbO-_Zcu",
    "pycharm": {
     "name": "#%% md\n"
    }
   },
   "source": [
    "Создадим c помощью конструктора `pd.DataFrame` таблицу, где\n",
    "* названия колонок — `['city', 'monday', 'wednesday', 'friday']`;\n",
    "* данные — результаты, которые вы получили с помощью `number_tracks`."
   ]
  },
  {
   "cell_type": "code",
   "execution_count": 29,
   "metadata": {
    "id": "APAcLpOr_Zcu",
    "pycharm": {
     "name": "#%%\n"
    }
   },
   "outputs": [
    {
     "data": {
      "text/html": [
       "<div>\n",
       "<style scoped>\n",
       "    .dataframe tbody tr th:only-of-type {\n",
       "        vertical-align: middle;\n",
       "    }\n",
       "\n",
       "    .dataframe tbody tr th {\n",
       "        vertical-align: top;\n",
       "    }\n",
       "\n",
       "    .dataframe thead th {\n",
       "        text-align: right;\n",
       "    }\n",
       "</style>\n",
       "<table border=\"1\" class=\"dataframe\">\n",
       "  <thead>\n",
       "    <tr style=\"text-align: right;\">\n",
       "      <th></th>\n",
       "      <th>city</th>\n",
       "      <th>monday</th>\n",
       "      <th>wednesday</th>\n",
       "      <th>friday</th>\n",
       "    </tr>\n",
       "  </thead>\n",
       "  <tbody>\n",
       "    <tr>\n",
       "      <td>0</td>\n",
       "      <td>Москва</td>\n",
       "      <td>11056</td>\n",
       "      <td>15945</td>\n",
       "      <td>15740</td>\n",
       "    </tr>\n",
       "    <tr>\n",
       "      <td>1</td>\n",
       "      <td>Санкт-Петербург</td>\n",
       "      <td>7003</td>\n",
       "      <td>5895</td>\n",
       "      <td>5614</td>\n",
       "    </tr>\n",
       "  </tbody>\n",
       "</table>\n",
       "</div>"
      ],
      "text/plain": [
       "              city  monday  wednesday  friday\n",
       "0           Москва   11056      15945   15740\n",
       "1  Санкт-Петербург    7003       5895    5614"
      ]
     },
     "execution_count": 29,
     "metadata": {},
     "output_type": "execute_result"
    }
   ],
   "source": [
    "# Таблица с результатами\n",
    "result_1_columns = ['city', 'monday', 'wednesday', 'friday']\n",
    "table_1 = pd.DataFrame(data=result_1, columns=result_1_columns)\n",
    "table_1"
   ]
  },
  {
   "cell_type": "markdown",
   "metadata": {
    "id": "-EgPIHYu_Zcu",
    "pycharm": {
     "name": "#%% md\n"
    }
   },
   "source": [
    "**Выводы**\n",
    "\n",
    "Данные показывают разницу поведения пользователей:\n",
    "\n",
    "- В Москве пик прослушиваний приходится на понедельник и пятницу, а в среду заметен спад.\n",
    "- В Петербурге, наоборот, больше слушают музыку по средам. Активность в понедельник и пятницу здесь почти в равной мере уступает среде.\n",
    "\n",
    "Значит, данные говорят в пользу первой гипотезы."
   ]
  },
  {
   "cell_type": "markdown",
   "metadata": {
    "id": "atZAxtq4_Zcu",
    "pycharm": {
     "name": "#%% md\n"
    }
   },
   "source": [
    "### Музыка в начале и в конце недели"
   ]
  },
  {
   "cell_type": "markdown",
   "metadata": {
    "id": "eXrQqXFH_Zcu",
    "pycharm": {
     "name": "#%% md\n"
    }
   },
   "source": [
    "Согласно второй гипотезе, утром в понедельник в Москве преобладают одни жанры, а в Петербурге — другие. Так же и вечером пятницы преобладают разные жанры — в зависимости от города."
   ]
  },
  {
   "cell_type": "markdown",
   "metadata": {
    "id": "S8UcW6Hw_Zcu",
    "pycharm": {
     "name": "#%% md\n"
    }
   },
   "source": [
    "Сохраним таблицы с данными в две переменные:\n",
    "* по Москве — в `moscow_general`;\n",
    "* по Санкт-Петербургу — в `spb_general`."
   ]
  },
  {
   "cell_type": "code",
   "execution_count": 30,
   "metadata": {
    "id": "qeaFfM_P_Zcu",
    "pycharm": {
     "name": "#%%\n"
    }
   },
   "outputs": [],
   "source": [
    "# получение таблицы moscow_general из тех строк таблицы df, \n",
    "# для которых значение в столбце 'city' равно 'Moscow'\n",
    "moscow_general = df[df['city'] == 'Moscow']"
   ]
  },
  {
   "cell_type": "code",
   "execution_count": 31,
   "metadata": {
    "id": "ORaVRKto_Zcu",
    "pycharm": {
     "name": "#%%\n"
    }
   },
   "outputs": [],
   "source": [
    "# получение таблицы spb_general из тех строк таблицы df,\n",
    "# для которых значение в столбце 'city' равно 'Saint-Petersburg'\n",
    "spb_general = df[df['city'] == 'Saint-Petersburg']"
   ]
  },
  {
   "cell_type": "markdown",
   "metadata": {
    "id": "MEJV-CX2_Zcu",
    "pycharm": {
     "name": "#%% md\n"
    }
   },
   "source": [
    "Создадим функцию `genre_weekday()` с четырьмя параметрами:\n",
    "* таблица (датафрейм) с данными,\n",
    "* день недели,\n",
    "* начальная временная метка в формате 'hh:mm', \n",
    "* последняя временная метка в формате 'hh:mm'.\n",
    "\n",
    "Функция должна вернуть информацию о топ-10 жанров тех треков, которые прослушивали в указанный день, в промежутке между двумя отметками времени."
   ]
  },
  {
   "cell_type": "code",
   "execution_count": 32,
   "metadata": {
    "id": "laJT9BYl_Zcu",
    "pycharm": {
     "name": "#%%\n"
    }
   },
   "outputs": [],
   "source": [
    "# Объявление функции genre_weekday() с параметрами table, day, time1, time2,\n",
    "# которая возвращает информацию о самых популярных жанрах в указанный день в\n",
    "# заданное время:\n",
    "# 1) в переменную genre_df сохраняются те строки переданного датафрейма table, для\n",
    "#    которых одновременно:\n",
    "#    - значение в столбце day равно значению аргумента day\n",
    "#    - значение в столбце time больше значения аргумента time1\n",
    "#    - значение в столбце time меньше значения аргумента time2\n",
    "#    Используйте последовательную фильтрацию с помощью логической индексации.\n",
    "# 2) сгруппировать датафрейм genre_df по столбцу genre, взять один из его\n",
    "#    столбцов и посчитать методом count() количество записей для каждого из\n",
    "#    присутствующих жанров, получившийся Series записать в переменную\n",
    "#    genre_df_count\n",
    "# 3) отсортировать genre_df_count по убыванию встречаемости и сохранить\n",
    "#    в переменную genre_df_sorted\n",
    "# 4) вернуть Series из 10 первых значений genre_df_sorted, это будут топ-10\n",
    "#    популярных жанров (в указанный день, в заданное время)\n",
    "def genre_weekday(data_frame, weekday, time1, time2):\n",
    "    genre_df = data_frame[data_frame['weekday'] == weekday]\n",
    "    genre_df = genre_df[genre_df['time'] > time1]\n",
    "    genre_df = genre_df[genre_df['time'] < time2]\n",
    "    genre_df_count = genre_df.groupby('genre_name')['genre_name'].count()\n",
    "    genre_df_sorted = genre_df_count.sort_values(ascending=False)\n",
    "    return genre_df_sorted.head(10)"
   ]
  },
  {
   "cell_type": "markdown",
   "metadata": {
    "id": "la2s2_PF_Zcu",
    "pycharm": {
     "name": "#%% md\n"
    }
   },
   "source": [
    "Cравним результаты функции `genre_weekday()` для Москвы и Санкт-Петербурга в понедельник утром (с 7:00 до 11:00) и в пятницу вечером (с 17:00 до 23:00):"
   ]
  },
  {
   "cell_type": "code",
   "execution_count": 33,
   "metadata": {
    "id": "yz7itPUQ_Zcu",
    "pycharm": {
     "name": "#%%\n"
    }
   },
   "outputs": [
    {
     "data": {
      "text/plain": [
       "genre_name\n",
       "pop            781\n",
       "dance          549\n",
       "electronic     480\n",
       "rock           474\n",
       "hiphop         286\n",
       "ruspop         186\n",
       "world          181\n",
       "rusrap         175\n",
       "alternative    164\n",
       "unknown        161\n",
       "Name: genre_name, dtype: int64"
      ]
     },
     "execution_count": 33,
     "metadata": {},
     "output_type": "execute_result"
    }
   ],
   "source": [
    "# вызов функции для утра понедельника в Москве (вместо df — таблица moscow_general)\n",
    "# объекты, хранящие время, являются строками и сравниваются как строки\n",
    "# пример вызова: genre_weekday(moscow_general, 'Monday', '07:00', '11:00')\n",
    "genre_weekday(moscow_general, 'Monday', '07:00', '11:00')"
   ]
  },
  {
   "cell_type": "code",
   "execution_count": 34,
   "metadata": {
    "id": "kwUcHPdy_Zcu",
    "pycharm": {
     "name": "#%%\n"
    }
   },
   "outputs": [
    {
     "data": {
      "text/plain": [
       "genre_name\n",
       "pop            218\n",
       "dance          182\n",
       "rock           162\n",
       "electronic     147\n",
       "hiphop          80\n",
       "ruspop          64\n",
       "alternative     58\n",
       "rusrap          55\n",
       "jazz            44\n",
       "classical       40\n",
       "Name: genre_name, dtype: int64"
      ]
     },
     "execution_count": 34,
     "metadata": {},
     "output_type": "execute_result"
    }
   ],
   "source": [
    "# вызов функции для утра понедельника в Петербурге (вместо df — таблица spb_general)\n",
    "genre_weekday(spb_general, 'Monday', '07:00', '11:00')"
   ]
  },
  {
   "cell_type": "code",
   "execution_count": 35,
   "metadata": {
    "id": "EzXVRE1o_Zcu",
    "pycharm": {
     "name": "#%%\n"
    }
   },
   "outputs": [
    {
     "data": {
      "text/plain": [
       "genre_name\n",
       "pop            713\n",
       "rock           517\n",
       "dance          495\n",
       "electronic     482\n",
       "hiphop         273\n",
       "world          208\n",
       "ruspop         170\n",
       "alternative    163\n",
       "classical      163\n",
       "rusrap         142\n",
       "Name: genre_name, dtype: int64"
      ]
     },
     "execution_count": 35,
     "metadata": {},
     "output_type": "execute_result"
    }
   ],
   "source": [
    "# вызов функции для вечера пятницы в Москве\n",
    "genre_weekday(moscow_general, 'Friday', '17:00', '23:00')"
   ]
  },
  {
   "cell_type": "code",
   "execution_count": 36,
   "metadata": {
    "id": "JZaEKu5v_Zcu",
    "pycharm": {
     "name": "#%%\n"
    }
   },
   "outputs": [
    {
     "data": {
      "text/plain": [
       "genre_name\n",
       "pop            256\n",
       "rock           216\n",
       "electronic     216\n",
       "dance          210\n",
       "hiphop          97\n",
       "alternative     63\n",
       "jazz            61\n",
       "classical       60\n",
       "rusrap          59\n",
       "world           54\n",
       "Name: genre_name, dtype: int64"
      ]
     },
     "execution_count": 36,
     "metadata": {},
     "output_type": "execute_result"
    }
   ],
   "source": [
    "# вызов функции для вечера пятницы в Петербурге\n",
    "genre_weekday(spb_general, 'Friday', '17:00', '23:00')"
   ]
  },
  {
   "cell_type": "markdown",
   "metadata": {
    "id": "wrCe4MNX_Zcu",
    "pycharm": {
     "name": "#%% md\n"
    }
   },
   "source": [
    "**Выводы**\n",
    "\n",
    "Если сравнить топ-10 жанров в понедельник утром, можно сделать такие выводы:\n",
    "\n",
    "1. В Москве и Петербурге слушают похожую музыку. Единственное отличие — в московский рейтинг вошёл жанр “world”, а в петербургский — джаз и классика.\n",
    "\n",
    "2. В Москве пропущенных значений оказалось так много, что значение `'unknown'` заняло десятое место среди самых популярных жанров. Значит, пропущенные значения занимают существенную долю в данных и угрожают достоверности исследования.\n",
    "\n",
    "Вечер пятницы не меняет эту картину. Некоторые жанры поднимаются немного выше, другие спускаются, но в целом топ-10 остаётся тем же самым.\n",
    "\n",
    "Таким образом, вторая гипотеза подтвердилась лишь частично:\n",
    "* Пользователи слушают похожую музыку в начале недели и в конце.\n",
    "* Разница между Москвой и Петербургом не слишком выражена. В Москве чаще слушают русскую популярную музыку, в Петербурге — джаз.\n",
    "\n",
    "Однако пропуски в данных ставят под сомнение этот результат. В Москве их так много, что рейтинг топ-10 мог бы выглядеть иначе, если бы не утерянные  данные о жанрах."
   ]
  },
  {
   "cell_type": "markdown",
   "metadata": {
    "id": "JolODAqr_Zcu",
    "pycharm": {
     "name": "#%% md\n"
    }
   },
   "source": [
    "### Жанровые предпочтения в Москве и Петербурге\n",
    "\n",
    "Гипотеза: Петербург — столица рэпа, музыку этого жанра там слушают чаще, чем в Москве.  А Москва — город контрастов, в котором, тем не менее, преобладает поп-музыка."
   ]
  },
  {
   "cell_type": "markdown",
   "metadata": {
    "id": "DlegSvaT_Zcu",
    "pycharm": {
     "name": "#%% md\n"
    }
   },
   "source": [
    "Сгруппируем таблицу `moscow_general` по жанру и посчитаем прослушивания треков каждого жанра методом `count()`. Затем отсортируем результат в порядке убывания и сохраните его в таблице `moscow_genres`."
   ]
  },
  {
   "cell_type": "code",
   "execution_count": 37,
   "metadata": {
    "id": "r19lIPke_Zcu",
    "pycharm": {
     "name": "#%%\n"
    }
   },
   "outputs": [],
   "source": [
    "# одной строкой: группировка таблицы moscow_general по столбцу 'genre', \n",
    "# подсчёт числа значений 'genre' в этой группировке методом count(), \n",
    "# сортировка получившегося Series в порядке убывания и сохранение в moscow_genres\n",
    "moscow_genres = moscow_general.groupby('genre_name')['genre_name'].count().sort_values(ascending=False)\n",
    "\n",
    "moscow_genres_df = pd.DataFrame(moscow_genres)\n",
    "moscow_genres_df.set_axis(['count'], axis='columns', inplace=True)\n",
    "\n",
    "moscow_genres_df = moscow_genres_df.reset_index()\n",
    "moscow_genres_df['percent'] = moscow_genres_df['count'].apply(lambda x: round(x/moscow_genres_df['count'].sum()*100, 3))\n",
    "\n",
    "#moscow_genres_comb = pd.concat([moscow_genres, moscow_genres_percent], axis=1, ignore_index=True).rename(columns={0: 'absolute', 1:'percent'}).reset_index()\n"
   ]
  },
  {
   "cell_type": "markdown",
   "metadata": {
    "id": "6kMuomxTiIr8",
    "pycharm": {
     "name": "#%% md\n"
    }
   },
   "source": [
    "Выведите на экран первые десять строк `moscow_genres`:"
   ]
  },
  {
   "cell_type": "code",
   "execution_count": 38,
   "metadata": {
    "id": "WhCSooF8_Zcv",
    "pycharm": {
     "name": "#%%\n"
    }
   },
   "outputs": [
    {
     "data": {
      "text/html": [
       "<div>\n",
       "<style scoped>\n",
       "    .dataframe tbody tr th:only-of-type {\n",
       "        vertical-align: middle;\n",
       "    }\n",
       "\n",
       "    .dataframe tbody tr th {\n",
       "        vertical-align: top;\n",
       "    }\n",
       "\n",
       "    .dataframe thead th {\n",
       "        text-align: right;\n",
       "    }\n",
       "</style>\n",
       "<table border=\"1\" class=\"dataframe\">\n",
       "  <thead>\n",
       "    <tr style=\"text-align: right;\">\n",
       "      <th></th>\n",
       "      <th>genre_name</th>\n",
       "      <th>count</th>\n",
       "      <th>percent</th>\n",
       "    </tr>\n",
       "  </thead>\n",
       "  <tbody>\n",
       "    <tr>\n",
       "      <td>0</td>\n",
       "      <td>pop</td>\n",
       "      <td>5892</td>\n",
       "      <td>13.785</td>\n",
       "    </tr>\n",
       "    <tr>\n",
       "      <td>1</td>\n",
       "      <td>dance</td>\n",
       "      <td>4435</td>\n",
       "      <td>10.376</td>\n",
       "    </tr>\n",
       "    <tr>\n",
       "      <td>2</td>\n",
       "      <td>rock</td>\n",
       "      <td>3965</td>\n",
       "      <td>9.277</td>\n",
       "    </tr>\n",
       "    <tr>\n",
       "      <td>3</td>\n",
       "      <td>electronic</td>\n",
       "      <td>3786</td>\n",
       "      <td>8.858</td>\n",
       "    </tr>\n",
       "    <tr>\n",
       "      <td>4</td>\n",
       "      <td>hiphop</td>\n",
       "      <td>2096</td>\n",
       "      <td>4.904</td>\n",
       "    </tr>\n",
       "    <tr>\n",
       "      <td>5</td>\n",
       "      <td>classical</td>\n",
       "      <td>1616</td>\n",
       "      <td>3.781</td>\n",
       "    </tr>\n",
       "    <tr>\n",
       "      <td>6</td>\n",
       "      <td>world</td>\n",
       "      <td>1432</td>\n",
       "      <td>3.350</td>\n",
       "    </tr>\n",
       "    <tr>\n",
       "      <td>7</td>\n",
       "      <td>alternative</td>\n",
       "      <td>1379</td>\n",
       "      <td>3.226</td>\n",
       "    </tr>\n",
       "    <tr>\n",
       "      <td>8</td>\n",
       "      <td>ruspop</td>\n",
       "      <td>1372</td>\n",
       "      <td>3.210</td>\n",
       "    </tr>\n",
       "    <tr>\n",
       "      <td>9</td>\n",
       "      <td>rusrap</td>\n",
       "      <td>1161</td>\n",
       "      <td>2.716</td>\n",
       "    </tr>\n",
       "  </tbody>\n",
       "</table>\n",
       "</div>"
      ],
      "text/plain": [
       "    genre_name  count  percent\n",
       "0          pop   5892   13.785\n",
       "1        dance   4435   10.376\n",
       "2         rock   3965    9.277\n",
       "3   electronic   3786    8.858\n",
       "4       hiphop   2096    4.904\n",
       "5    classical   1616    3.781\n",
       "6        world   1432    3.350\n",
       "7  alternative   1379    3.226\n",
       "8       ruspop   1372    3.210\n",
       "9       rusrap   1161    2.716"
      ]
     },
     "metadata": {},
     "output_type": "display_data"
    }
   ],
   "source": [
    "# просмотр первых 10 строк moscow_genres\n",
    "display(moscow_genres_df.head(10))"
   ]
  },
  {
   "cell_type": "markdown",
   "metadata": {
    "id": "cnPG2vnN_Zcv",
    "pycharm": {
     "name": "#%% md\n"
    }
   },
   "source": [
    "Теперь повторим то же и для Петербурга.\n",
    "\n",
    "Сгруппируем таблицу `spb_general` по жанру. Посчитаем прослушивания треков каждого жанра. Результат отсортируем в порядке убывания и сохраним в таблице `spb_genres`:\n"
   ]
  },
  {
   "cell_type": "code",
   "execution_count": 39,
   "metadata": {
    "id": "gluLIpE7_Zcv",
    "pycharm": {
     "name": "#%%\n"
    }
   },
   "outputs": [],
   "source": [
    "# одной строкой: группировка таблицы spb_general по столбцу 'genre', \n",
    "# подсчёт числа значений 'genre' в этой группировке методом count(), \n",
    "# сортировка получившегося Series в порядке убывания и сохранение в spb_genres\n",
    "spb_genres = spb_general.groupby('genre_name')['genre_name'].count().sort_values(ascending=False)\n",
    "\n",
    "spb_genres_df = pd.DataFrame(spb_genres)\n",
    "spb_genres_df.set_axis(['count'], axis='columns', inplace=True)\n",
    "\n",
    "spb_genres_df = spb_genres_df.reset_index()\n",
    "spb_genres_df['percent'] = spb_genres_df['count'].apply(lambda x: round(x/spb_genres_df['count'].sum()*100, 3))"
   ]
  },
  {
   "cell_type": "markdown",
   "metadata": {
    "id": "5Doha_ODgyQ8",
    "pycharm": {
     "name": "#%% md\n"
    }
   },
   "source": [
    "Выведем на экран первые десять строк `spb_genres`:"
   ]
  },
  {
   "cell_type": "code",
   "execution_count": 40,
   "metadata": {
    "id": "uaGJHjVU_Zcv",
    "pycharm": {
     "name": "#%%\n"
    }
   },
   "outputs": [
    {
     "data": {
      "text/html": [
       "<div>\n",
       "<style scoped>\n",
       "    .dataframe tbody tr th:only-of-type {\n",
       "        vertical-align: middle;\n",
       "    }\n",
       "\n",
       "    .dataframe tbody tr th {\n",
       "        vertical-align: top;\n",
       "    }\n",
       "\n",
       "    .dataframe thead th {\n",
       "        text-align: right;\n",
       "    }\n",
       "</style>\n",
       "<table border=\"1\" class=\"dataframe\">\n",
       "  <thead>\n",
       "    <tr style=\"text-align: right;\">\n",
       "      <th></th>\n",
       "      <th>genre_name</th>\n",
       "      <th>count</th>\n",
       "      <th>percent</th>\n",
       "    </tr>\n",
       "  </thead>\n",
       "  <tbody>\n",
       "    <tr>\n",
       "      <td>0</td>\n",
       "      <td>pop</td>\n",
       "      <td>2431</td>\n",
       "      <td>13.132</td>\n",
       "    </tr>\n",
       "    <tr>\n",
       "      <td>1</td>\n",
       "      <td>dance</td>\n",
       "      <td>1932</td>\n",
       "      <td>10.436</td>\n",
       "    </tr>\n",
       "    <tr>\n",
       "      <td>2</td>\n",
       "      <td>rock</td>\n",
       "      <td>1879</td>\n",
       "      <td>10.150</td>\n",
       "    </tr>\n",
       "    <tr>\n",
       "      <td>3</td>\n",
       "      <td>electronic</td>\n",
       "      <td>1737</td>\n",
       "      <td>9.383</td>\n",
       "    </tr>\n",
       "    <tr>\n",
       "      <td>4</td>\n",
       "      <td>hiphop</td>\n",
       "      <td>960</td>\n",
       "      <td>5.186</td>\n",
       "    </tr>\n",
       "    <tr>\n",
       "      <td>5</td>\n",
       "      <td>alternative</td>\n",
       "      <td>649</td>\n",
       "      <td>3.506</td>\n",
       "    </tr>\n",
       "    <tr>\n",
       "      <td>6</td>\n",
       "      <td>classical</td>\n",
       "      <td>646</td>\n",
       "      <td>3.490</td>\n",
       "    </tr>\n",
       "    <tr>\n",
       "      <td>7</td>\n",
       "      <td>rusrap</td>\n",
       "      <td>564</td>\n",
       "      <td>3.047</td>\n",
       "    </tr>\n",
       "    <tr>\n",
       "      <td>8</td>\n",
       "      <td>ruspop</td>\n",
       "      <td>538</td>\n",
       "      <td>2.906</td>\n",
       "    </tr>\n",
       "    <tr>\n",
       "      <td>9</td>\n",
       "      <td>world</td>\n",
       "      <td>515</td>\n",
       "      <td>2.782</td>\n",
       "    </tr>\n",
       "  </tbody>\n",
       "</table>\n",
       "</div>"
      ],
      "text/plain": [
       "    genre_name  count  percent\n",
       "0          pop   2431   13.132\n",
       "1        dance   1932   10.436\n",
       "2         rock   1879   10.150\n",
       "3   electronic   1737    9.383\n",
       "4       hiphop    960    5.186\n",
       "5  alternative    649    3.506\n",
       "6    classical    646    3.490\n",
       "7       rusrap    564    3.047\n",
       "8       ruspop    538    2.906\n",
       "9        world    515    2.782"
      ]
     },
     "execution_count": 40,
     "metadata": {},
     "output_type": "execute_result"
    }
   ],
   "source": [
    "# просмотр первых 10 строк spb_genres\n",
    "spb_genres_df.head(10)"
   ]
  },
  {
   "cell_type": "markdown",
   "metadata": {
    "id": "RY51YJYu_Zcv",
    "pycharm": {
     "name": "#%% md\n"
    }
   },
   "source": [
    "**Выводы**"
   ]
  },
  {
   "cell_type": "markdown",
   "metadata": {
    "id": "nVhnJEm__Zcv",
    "pycharm": {
     "name": "#%% md\n"
    }
   },
   "source": [
    "Гипотеза опровергнута.\n",
    "\n",
    "В Москве и Петербурге предпочитают одинаковые жанры музыки:\n",
    "* Перечень топ-10 жанров идентичен\n",
    "* Топ 5 жанров имеют одинаковое распределение процентов прослешивания: 13%, 10%, 10%, 9%, 5%\n",
    "* Остальные 5 жанров из топ 10 имеют распределение прослушивания порядка 3%\n",
    "* Слабое подтвержение гипотезы имеется в опережении pop жанра в москве на 0,5%, а rock жанра в Питере на 1 %\n",
    "\n",
    "\n"
   ]
  },
  {
   "cell_type": "markdown",
   "metadata": {
    "id": "ykKQ0N65_Zcv",
    "pycharm": {
     "name": "#%% md\n"
    }
   },
   "source": [
    "## Итоги исследования"
   ]
  },
  {
   "cell_type": "markdown",
   "metadata": {
    "id": "tjUwbHb3_Zcv",
    "pycharm": {
     "name": "#%% md\n"
    }
   },
   "source": [
    "Мы проверили три гипотезы и установили:\n",
    "\n",
    "1. День недели по-разному влияет на активность пользователей в Москве и Петербурге. \n",
    "\n",
    "Первая гипотеза полностью подтвердилась.\n",
    "\n",
    "2. Музыкальные предпочтения не сильно меняются в течение недели — будь то Москва или Петербург. Небольшие различия заметны в начале недели, по понедельникам:\n",
    "* в Москве слушают музыку жанра “world”,\n",
    "* в Петербурге — джаз и классику.\n",
    "\n",
    "Таким образом, вторая гипотеза подтвердилась лишь отчасти. Этот результат мог оказаться иным, если бы не пропуски в данных.\n",
    "\n",
    "3. Во вкусах пользователей Москвы и Петербурга больше общего чем различий. Вопреки ожиданиям, предпочтения жанров в Петербурге напоминают московские.\n",
    "\n",
    "Третья гипотеза не подтвердилась. Если различия в предпочтениях и существуют, на основной массе пользователей они незаметны.\n",
    "\n",
    "**На практике исследования содержат проверки статистических гипотез.**\n",
    "Из данных одного сервиса не всегда можно сделать вывод о всех жителях города.\n",
    "Проверки статистических гипотез покажут, насколько они достоверны, исходя из имеющихся данных. "
   ]
  },
  {
   "cell_type": "markdown",
   "metadata": {
    "pycharm": {
     "name": "#%% md\n"
    }
   },
   "source": [
    "## Дополнительнео исследование:\n",
    "\n",
    "**Гипотеза:**\n",
    "\n",
    "4. Если число прослушиваний имеет пики в течение дня, то в это время можно добавлять рекламу\n"
   ]
  },
  {
   "cell_type": "code",
   "execution_count": 41,
   "metadata": {
    "pycharm": {
     "name": "#%%\n"
    }
   },
   "outputs": [
    {
     "data": {
      "text/plain": [
       "<matplotlib.axes._subplots.AxesSubplot at 0x7f70255d7b90>"
      ]
     },
     "execution_count": 41,
     "metadata": {},
     "output_type": "execute_result"
    },
    {
     "data": {
      "image/png": "[encoded data removed]",
      "text/plain": [
       "<Figure size 432x288 with 1 Axes>"
      ]
     },
     "metadata": {
      "needs_background": "light"
     },
     "output_type": "display_data"
    }
   ],
   "source": [
    "import seaborn as sb\n",
    "\n",
    "df['hour'] = df['time'].apply(lambda x: int(x.split(':')[0]))\n",
    "#display(df.head(10))\n",
    "\n",
    "hours = df.groupby(['hour', 'weekday'])['city'].count().reset_index()\n",
    "\n",
    "for i in range(24):\n",
    "    if not i in hours['hour'].unique():\n",
    "        for day in all_days:\n",
    "            hours = hours.append({'hour': i, 'weekday': day, 'city': 0}, ignore_index=True)\n",
    "\n",
    "sb.barplot(x=hours['hour'], y=hours['city'], hue=hours['weekday'])\n",
    "\n",
    "#display(hours)"
   ]
  },
  {
   "cell_type": "markdown",
   "metadata": {
    "pycharm": {
     "name": "#%% md\n"
    }
   },
   "source": [
    "**Выводы:**\n",
    "\n",
    "Действительно прослушивание композиций независимо от дня недели имеет три пика прослушивания музыки с 8 до 10 часов, с 13 до 15 часов и с 20 до 23 часов"
   ]
  }
 ],
 "metadata": {
  "ExecuteTimeLog": [
   {
    "duration": 1069,
    "start_time": "2021-11-01T08:53:01.168Z"
   },
   {
    "duration": 4103,
    "start_time": "2021-11-01T08:53:02.338Z"
   },
   {
    "duration": -355,
    "start_time": "2021-11-01T08:53:06.798Z"
   },
   {
    "duration": 201,
    "start_time": "2021-11-01T08:53:18.724Z"
   },
   {
    "duration": 29,
    "start_time": "2021-11-01T08:53:27.687Z"
   },
   {
    "duration": 35,
    "start_time": "2021-11-01T08:54:07.546Z"
   },
   {
    "duration": 583,
    "start_time": "2021-11-02T02:28:00.815Z"
   },
   {
    "duration": 2,
    "start_time": "2021-11-02T02:28:02.329Z"
   },
   {
    "duration": 147,
    "start_time": "2021-11-02T02:28:03.596Z"
   },
   {
    "duration": 18,
    "start_time": "2021-11-02T02:28:04.896Z"
   },
   {
    "duration": 4,
    "start_time": "2021-11-02T02:31:49.528Z"
   },
   {
    "duration": 292,
    "start_time": "2021-11-02T02:34:53.474Z"
   },
   {
    "duration": 23,
    "start_time": "2021-11-02T02:35:06.872Z"
   },
   {
    "duration": 4,
    "start_time": "2021-11-02T02:35:22.384Z"
   },
   {
    "duration": 29,
    "start_time": "2021-11-02T02:35:57.936Z"
   },
   {
    "duration": 24,
    "start_time": "2021-11-02T02:36:09.300Z"
   },
   {
    "duration": 23,
    "start_time": "2021-11-02T02:36:14.211Z"
   },
   {
    "duration": 19,
    "start_time": "2021-11-02T02:39:36.081Z"
   },
   {
    "duration": 23,
    "start_time": "2021-11-02T02:39:51.739Z"
   },
   {
    "duration": 60,
    "start_time": "2021-11-02T02:40:22.614Z"
   },
   {
    "duration": 57,
    "start_time": "2021-11-02T02:40:27.420Z"
   },
   {
    "duration": 71,
    "start_time": "2021-11-02T02:41:31.668Z"
   },
   {
    "duration": 52,
    "start_time": "2021-11-02T02:41:55.087Z"
   },
   {
    "duration": 7,
    "start_time": "2021-11-02T02:42:25.851Z"
   },
   {
    "duration": 244,
    "start_time": "2021-11-02T02:43:16.235Z"
   },
   {
    "duration": 37,
    "start_time": "2021-11-02T02:43:24.376Z"
   },
   {
    "duration": 40,
    "start_time": "2021-11-02T02:43:32.461Z"
   },
   {
    "duration": 73,
    "start_time": "2021-11-02T02:45:00.479Z"
   },
   {
    "duration": 601,
    "start_time": "2021-11-02T02:45:57.791Z"
   },
   {
    "duration": 76,
    "start_time": "2021-11-02T02:46:27.423Z"
   },
   {
    "duration": 39,
    "start_time": "2021-11-02T02:46:34.501Z"
   },
   {
    "duration": 98,
    "start_time": "2021-11-02T02:47:30.625Z"
   },
   {
    "duration": 83,
    "start_time": "2021-11-02T02:47:35.729Z"
   },
   {
    "duration": 39,
    "start_time": "2021-11-02T02:49:01.222Z"
   },
   {
    "duration": 72,
    "start_time": "2021-11-02T02:53:42.316Z"
   },
   {
    "duration": 3,
    "start_time": "2021-11-02T02:54:03.995Z"
   },
   {
    "duration": 28,
    "start_time": "2021-11-02T02:55:33.866Z"
   },
   {
    "duration": 37,
    "start_time": "2021-11-02T02:55:46.240Z"
   },
   {
    "duration": 28,
    "start_time": "2021-11-02T02:56:07.919Z"
   },
   {
    "duration": 38,
    "start_time": "2021-11-02T02:56:09.177Z"
   },
   {
    "duration": 12,
    "start_time": "2021-11-02T02:56:26.963Z"
   },
   {
    "duration": 37,
    "start_time": "2021-11-02T02:56:28.313Z"
   },
   {
    "duration": 24,
    "start_time": "2021-11-02T03:03:17.866Z"
   },
   {
    "duration": 23,
    "start_time": "2021-11-02T03:03:47.600Z"
   },
   {
    "duration": 601,
    "start_time": "2021-11-02T03:11:59.757Z"
   },
   {
    "duration": 150,
    "start_time": "2021-11-02T03:12:01.607Z"
   },
   {
    "duration": 16,
    "start_time": "2021-11-02T03:12:02.988Z"
   },
   {
    "duration": 24,
    "start_time": "2021-11-02T03:12:05.844Z"
   },
   {
    "duration": 5,
    "start_time": "2021-11-02T03:12:16.335Z"
   },
   {
    "duration": 23,
    "start_time": "2021-11-02T03:12:19.123Z"
   },
   {
    "duration": 5,
    "start_time": "2021-11-02T03:12:21.935Z"
   },
   {
    "duration": 22,
    "start_time": "2021-11-02T03:12:23.354Z"
   },
   {
    "duration": 21,
    "start_time": "2021-11-02T03:12:26.305Z"
   },
   {
    "duration": 22,
    "start_time": "2021-11-02T03:12:27.835Z"
   },
   {
    "duration": 62,
    "start_time": "2021-11-02T03:12:30.636Z"
   },
   {
    "duration": 73,
    "start_time": "2021-11-02T03:12:31.932Z"
   },
   {
    "duration": 52,
    "start_time": "2021-11-02T03:12:33.496Z"
   },
   {
    "duration": 39,
    "start_time": "2021-11-02T03:12:36.979Z"
   },
   {
    "duration": 3,
    "start_time": "2021-11-02T03:12:41.211Z"
   },
   {
    "duration": 11,
    "start_time": "2021-11-02T03:12:42.047Z"
   },
   {
    "duration": 38,
    "start_time": "2021-11-02T03:12:43.330Z"
   },
   {
    "duration": 352,
    "start_time": "2021-11-02T03:13:50.661Z"
   },
   {
    "duration": 71,
    "start_time": "2021-11-02T03:14:05.521Z"
   },
   {
    "duration": 74,
    "start_time": "2021-11-02T03:14:13.801Z"
   },
   {
    "duration": 599,
    "start_time": "2021-11-02T03:14:33.226Z"
   },
   {
    "duration": 147,
    "start_time": "2021-11-02T03:14:34.406Z"
   },
   {
    "duration": 19,
    "start_time": "2021-11-02T03:14:35.194Z"
   },
   {
    "duration": 25,
    "start_time": "2021-11-02T03:14:36.011Z"
   },
   {
    "duration": 5,
    "start_time": "2021-11-02T03:14:37.915Z"
   },
   {
    "duration": 24,
    "start_time": "2021-11-02T03:14:40.423Z"
   },
   {
    "duration": 4,
    "start_time": "2021-11-02T03:14:41.291Z"
   },
   {
    "duration": 23,
    "start_time": "2021-11-02T03:15:32.455Z"
   },
   {
    "duration": 18,
    "start_time": "2021-11-02T03:15:35.251Z"
   },
   {
    "duration": 23,
    "start_time": "2021-11-02T03:15:37.437Z"
   },
   {
    "duration": 57,
    "start_time": "2021-11-02T03:15:39.741Z"
   },
   {
    "duration": 72,
    "start_time": "2021-11-02T03:15:41.632Z"
   },
   {
    "duration": 52,
    "start_time": "2021-11-02T03:15:42.668Z"
   },
   {
    "duration": 71,
    "start_time": "2021-11-02T03:15:44.309Z"
   },
   {
    "duration": 3,
    "start_time": "2021-11-02T03:15:48.991Z"
   },
   {
    "duration": 12,
    "start_time": "2021-11-02T03:15:50.698Z"
   },
   {
    "duration": 37,
    "start_time": "2021-11-02T03:15:52.941Z"
   },
   {
    "duration": 79,
    "start_time": "2021-11-02T03:18:46.519Z"
   },
   {
    "duration": 40,
    "start_time": "2021-11-02T03:18:55.657Z"
   },
   {
    "duration": 39,
    "start_time": "2021-11-02T03:19:18.043Z"
   },
   {
    "duration": 683,
    "start_time": "2021-11-02T03:19:37.584Z"
   },
   {
    "duration": 146,
    "start_time": "2021-11-02T03:19:38.269Z"
   },
   {
    "duration": 16,
    "start_time": "2021-11-02T03:19:38.417Z"
   },
   {
    "duration": 24,
    "start_time": "2021-11-02T03:19:38.435Z"
   },
   {
    "duration": 4,
    "start_time": "2021-11-02T03:19:38.462Z"
   },
   {
    "duration": 24,
    "start_time": "2021-11-02T03:19:38.468Z"
   },
   {
    "duration": 4,
    "start_time": "2021-11-02T03:19:38.494Z"
   },
   {
    "duration": 30,
    "start_time": "2021-11-02T03:19:38.500Z"
   },
   {
    "duration": 17,
    "start_time": "2021-11-02T03:19:38.532Z"
   },
   {
    "duration": 28,
    "start_time": "2021-11-02T03:19:38.551Z"
   },
   {
    "duration": 120,
    "start_time": "2021-11-02T03:19:38.580Z"
   },
   {
    "duration": 78,
    "start_time": "2021-11-02T03:19:38.702Z"
   },
   {
    "duration": 55,
    "start_time": "2021-11-02T03:19:41.259Z"
   },
   {
    "duration": 40,
    "start_time": "2021-11-02T03:19:43.218Z"
   },
   {
    "duration": 40,
    "start_time": "2021-11-02T03:20:00.919Z"
   },
   {
    "duration": 22,
    "start_time": "2021-11-02T03:20:04.697Z"
   },
   {
    "duration": 38,
    "start_time": "2021-11-02T03:20:09.609Z"
   },
   {
    "duration": 3,
    "start_time": "2021-11-02T03:20:14.568Z"
   },
   {
    "duration": 11,
    "start_time": "2021-11-02T03:20:16.676Z"
   },
   {
    "duration": 39,
    "start_time": "2021-11-02T03:20:19.145Z"
   },
   {
    "duration": 22,
    "start_time": "2021-11-02T03:20:22.562Z"
   },
   {
    "duration": 420,
    "start_time": "2021-11-02T08:13:29.054Z"
   },
   {
    "duration": 732,
    "start_time": "2021-11-02T08:13:35.816Z"
   },
   {
    "duration": 194,
    "start_time": "2021-11-02T08:13:36.550Z"
   },
   {
    "duration": 26,
    "start_time": "2021-11-02T08:13:36.747Z"
   },
   {
    "duration": 54,
    "start_time": "2021-11-02T08:13:36.776Z"
   },
   {
    "duration": 7,
    "start_time": "2021-11-02T08:13:36.832Z"
   },
   {
    "duration": 32,
    "start_time": "2021-11-02T08:13:36.841Z"
   },
   {
    "duration": 9,
    "start_time": "2021-11-02T08:13:36.875Z"
   },
   {
    "duration": 70,
    "start_time": "2021-11-02T08:13:36.886Z"
   },
   {
    "duration": 21,
    "start_time": "2021-11-02T08:13:36.961Z"
   },
   {
    "duration": 50,
    "start_time": "2021-11-02T08:13:36.985Z"
   },
   {
    "duration": 100,
    "start_time": "2021-11-02T08:13:37.038Z"
   },
   {
    "duration": 95,
    "start_time": "2021-11-02T08:13:37.140Z"
   },
   {
    "duration": 86,
    "start_time": "2021-11-02T08:13:37.237Z"
   },
   {
    "duration": 61,
    "start_time": "2021-11-02T08:13:37.325Z"
   },
   {
    "duration": 6,
    "start_time": "2021-11-02T08:13:37.388Z"
   },
   {
    "duration": 43,
    "start_time": "2021-11-02T08:13:37.396Z"
   },
   {
    "duration": 83,
    "start_time": "2021-11-02T08:13:37.442Z"
   },
   {
    "duration": 32,
    "start_time": "2021-11-02T08:13:37.529Z"
   },
   {
    "duration": 30,
    "start_time": "2021-11-02T08:13:49.090Z"
   },
   {
    "duration": 30,
    "start_time": "2021-11-02T08:13:56.859Z"
   },
   {
    "duration": 39,
    "start_time": "2021-11-02T08:16:20.891Z"
   },
   {
    "duration": 7,
    "start_time": "2021-11-02T08:20:52.248Z"
   },
   {
    "duration": 16,
    "start_time": "2021-11-02T08:24:27.389Z"
   },
   {
    "duration": 4,
    "start_time": "2021-11-02T08:24:34.626Z"
   },
   {
    "duration": 43,
    "start_time": "2021-11-02T08:29:59.160Z"
   },
   {
    "duration": 11,
    "start_time": "2021-11-02T08:30:13.490Z"
   },
   {
    "duration": 5,
    "start_time": "2021-11-02T08:30:31.357Z"
   },
   {
    "duration": 632,
    "start_time": "2021-11-02T08:30:32.354Z"
   },
   {
    "duration": 4,
    "start_time": "2021-11-02T08:31:18.038Z"
   },
   {
    "duration": 96,
    "start_time": "2021-11-02T08:31:19.006Z"
   },
   {
    "duration": 6,
    "start_time": "2021-11-02T08:35:17.661Z"
   },
   {
    "duration": 12,
    "start_time": "2021-11-02T08:35:30.173Z"
   },
   {
    "duration": 6,
    "start_time": "2021-11-02T08:35:45.586Z"
   },
   {
    "duration": 3,
    "start_time": "2021-11-02T08:35:48.213Z"
   },
   {
    "duration": 3,
    "start_time": "2021-11-02T08:36:26.574Z"
   },
   {
    "duration": 3,
    "start_time": "2021-11-02T08:36:30.196Z"
   },
   {
    "duration": 3,
    "start_time": "2021-11-02T08:36:33.650Z"
   },
   {
    "duration": 3,
    "start_time": "2021-11-02T08:36:36.460Z"
   },
   {
    "duration": 4,
    "start_time": "2021-11-02T08:36:39.201Z"
   },
   {
    "duration": 102,
    "start_time": "2021-11-02T08:37:41.300Z"
   },
   {
    "duration": 3,
    "start_time": "2021-11-02T08:37:42.241Z"
   },
   {
    "duration": 3,
    "start_time": "2021-11-02T08:37:42.428Z"
   },
   {
    "duration": 3,
    "start_time": "2021-11-02T08:37:42.615Z"
   },
   {
    "duration": 3,
    "start_time": "2021-11-02T08:37:42.789Z"
   },
   {
    "duration": 4,
    "start_time": "2021-11-02T08:37:42.969Z"
   },
   {
    "duration": 3,
    "start_time": "2021-11-02T08:37:43.312Z"
   },
   {
    "duration": 12,
    "start_time": "2021-11-02T08:37:44.177Z"
   },
   {
    "duration": 39,
    "start_time": "2021-11-02T08:41:24.505Z"
   },
   {
    "duration": 14,
    "start_time": "2021-11-02T08:41:29.188Z"
   },
   {
    "duration": 16,
    "start_time": "2021-11-02T08:41:47.251Z"
   },
   {
    "duration": 5,
    "start_time": "2021-11-02T08:43:34.794Z"
   },
   {
    "duration": 103,
    "start_time": "2021-11-02T08:43:35.583Z"
   },
   {
    "duration": 15,
    "start_time": "2021-11-02T08:44:24.191Z"
   },
   {
    "duration": 15,
    "start_time": "2021-11-02T08:44:25.026Z"
   },
   {
    "duration": 5,
    "start_time": "2021-11-02T08:44:26.079Z"
   },
   {
    "duration": 104,
    "start_time": "2021-11-02T08:44:27.036Z"
   },
   {
    "duration": 3,
    "start_time": "2021-11-02T08:44:27.495Z"
   },
   {
    "duration": 3,
    "start_time": "2021-11-02T08:44:28.054Z"
   },
   {
    "duration": 4,
    "start_time": "2021-11-02T08:44:28.494Z"
   },
   {
    "duration": 3,
    "start_time": "2021-11-02T08:44:28.697Z"
   },
   {
    "duration": 4,
    "start_time": "2021-11-02T08:44:28.888Z"
   },
   {
    "duration": 4,
    "start_time": "2021-11-02T08:44:29.075Z"
   },
   {
    "duration": 12,
    "start_time": "2021-11-02T08:44:30.185Z"
   },
   {
    "duration": 15,
    "start_time": "2021-11-02T08:45:55.229Z"
   },
   {
    "duration": 12,
    "start_time": "2021-11-02T08:46:11.646Z"
   },
   {
    "duration": 7,
    "start_time": "2021-11-02T08:50:58.419Z"
   },
   {
    "duration": 590,
    "start_time": "2021-11-02T08:51:50.381Z"
   },
   {
    "duration": 6,
    "start_time": "2021-11-02T08:52:38.483Z"
   },
   {
    "duration": 24,
    "start_time": "2021-11-02T08:52:39.266Z"
   },
   {
    "duration": 9,
    "start_time": "2021-11-02T08:52:53.194Z"
   },
   {
    "duration": 23,
    "start_time": "2021-11-02T08:52:53.781Z"
   },
   {
    "duration": 7,
    "start_time": "2021-11-02T08:52:57.657Z"
   },
   {
    "duration": 24,
    "start_time": "2021-11-02T08:52:58.081Z"
   },
   {
    "duration": 18,
    "start_time": "2021-11-02T08:53:13.337Z"
   },
   {
    "duration": 25,
    "start_time": "2021-11-02T08:53:24.882Z"
   },
   {
    "duration": 32,
    "start_time": "2021-11-02T08:53:39.136Z"
   },
   {
    "duration": 24,
    "start_time": "2021-11-02T08:53:47.709Z"
   },
   {
    "duration": 17,
    "start_time": "2021-11-02T08:56:22.928Z"
   },
   {
    "duration": 14,
    "start_time": "2021-11-02T08:56:23.195Z"
   },
   {
    "duration": 6,
    "start_time": "2021-11-02T08:56:24.038Z"
   },
   {
    "duration": 26,
    "start_time": "2021-11-02T08:56:24.775Z"
   },
   {
    "duration": 18,
    "start_time": "2021-11-02T08:56:25.092Z"
   },
   {
    "duration": 23,
    "start_time": "2021-11-02T08:56:25.381Z"
   },
   {
    "duration": 16,
    "start_time": "2021-11-02T08:56:25.884Z"
   },
   {
    "duration": 11,
    "start_time": "2021-11-02T08:59:01.892Z"
   },
   {
    "duration": 16,
    "start_time": "2021-11-02T08:59:10.910Z"
   },
   {
    "duration": 11,
    "start_time": "2021-11-02T08:59:15.441Z"
   },
   {
    "duration": 8,
    "start_time": "2021-11-02T08:59:22.056Z"
   },
   {
    "duration": 8,
    "start_time": "2021-11-02T08:59:32.971Z"
   },
   {
    "duration": 6,
    "start_time": "2021-11-02T08:59:42.161Z"
   },
   {
    "duration": 9,
    "start_time": "2021-11-02T09:00:01.052Z"
   },
   {
    "duration": 7,
    "start_time": "2021-11-02T09:00:10.551Z"
   },
   {
    "duration": 17,
    "start_time": "2021-11-02T09:03:36.286Z"
   },
   {
    "duration": 9,
    "start_time": "2021-11-02T09:03:37.241Z"
   },
   {
    "duration": 38,
    "start_time": "2021-11-02T09:04:15.252Z"
   },
   {
    "duration": 21,
    "start_time": "2021-11-02T09:04:34.200Z"
   },
   {
    "duration": 30,
    "start_time": "2021-11-02T09:05:04.055Z"
   },
   {
    "duration": 24,
    "start_time": "2021-11-02T09:05:08.589Z"
   },
   {
    "duration": 20,
    "start_time": "2021-11-02T09:05:13.072Z"
   },
   {
    "duration": 10,
    "start_time": "2021-11-02T09:05:16.220Z"
   },
   {
    "duration": 21,
    "start_time": "2021-11-02T09:05:23.113Z"
   },
   {
    "duration": 10,
    "start_time": "2021-11-02T09:05:24.387Z"
   },
   {
    "duration": 20,
    "start_time": "2021-11-02T09:05:50.781Z"
   },
   {
    "duration": 10,
    "start_time": "2021-11-02T09:05:51.524Z"
   },
   {
    "duration": 133,
    "start_time": "2021-11-02T09:08:55.139Z"
   },
   {
    "duration": 22,
    "start_time": "2021-11-02T09:09:00.785Z"
   },
   {
    "duration": 11,
    "start_time": "2021-11-02T09:09:02.086Z"
   },
   {
    "duration": 18,
    "start_time": "2021-11-02T09:09:12.819Z"
   },
   {
    "duration": 8,
    "start_time": "2021-11-02T09:09:14.078Z"
   },
   {
    "duration": 15,
    "start_time": "2021-11-02T09:09:17.514Z"
   },
   {
    "duration": 7,
    "start_time": "2021-11-02T09:09:18.268Z"
   },
   {
    "duration": 21,
    "start_time": "2021-11-02T09:09:28.924Z"
   },
   {
    "duration": 10,
    "start_time": "2021-11-02T09:09:29.700Z"
   },
   {
    "duration": 17,
    "start_time": "2021-11-02T09:09:36.789Z"
   },
   {
    "duration": 9,
    "start_time": "2021-11-02T09:09:37.507Z"
   },
   {
    "duration": 17,
    "start_time": "2021-11-02T09:10:08.088Z"
   },
   {
    "duration": 7,
    "start_time": "2021-11-02T09:10:08.810Z"
   },
   {
    "duration": 11,
    "start_time": "2021-11-02T09:10:19.781Z"
   },
   {
    "duration": 17,
    "start_time": "2021-11-02T09:10:28.341Z"
   },
   {
    "duration": 11,
    "start_time": "2021-11-02T09:10:28.911Z"
   },
   {
    "duration": 20,
    "start_time": "2021-11-02T09:10:39.014Z"
   },
   {
    "duration": 17,
    "start_time": "2021-11-02T09:10:39.561Z"
   },
   {
    "duration": 14,
    "start_time": "2021-11-02T09:10:56.782Z"
   },
   {
    "duration": 13,
    "start_time": "2021-11-02T09:10:57.608Z"
   },
   {
    "duration": 12,
    "start_time": "2021-11-02T09:11:53.304Z"
   },
   {
    "duration": 11,
    "start_time": "2021-11-02T09:11:53.855Z"
   },
   {
    "duration": 33,
    "start_time": "2021-11-02T09:13:16.342Z"
   },
   {
    "duration": 10,
    "start_time": "2021-11-02T09:13:17.160Z"
   },
   {
    "duration": 308,
    "start_time": "2021-11-02T09:13:42.598Z"
   },
   {
    "duration": 324,
    "start_time": "2021-11-02T09:14:23.891Z"
   },
   {
    "duration": 13,
    "start_time": "2021-11-02T09:14:37.424Z"
   },
   {
    "duration": 13,
    "start_time": "2021-11-02T09:14:41.797Z"
   },
   {
    "duration": 14,
    "start_time": "2021-11-02T09:14:42.546Z"
   },
   {
    "duration": 317,
    "start_time": "2021-11-02T09:15:07.334Z"
   },
   {
    "duration": 16,
    "start_time": "2021-11-02T09:15:07.809Z"
   },
   {
    "duration": 21,
    "start_time": "2021-11-02T09:15:25.111Z"
   },
   {
    "duration": 13,
    "start_time": "2021-11-02T09:15:26.174Z"
   },
   {
    "duration": 22,
    "start_time": "2021-11-02T09:15:35.728Z"
   },
   {
    "duration": 12,
    "start_time": "2021-11-02T09:15:36.288Z"
   },
   {
    "duration": 13,
    "start_time": "2021-11-02T09:15:42.708Z"
   },
   {
    "duration": 13,
    "start_time": "2021-11-02T09:15:43.209Z"
   },
   {
    "duration": 31,
    "start_time": "2021-11-02T09:16:05.071Z"
   },
   {
    "duration": 22,
    "start_time": "2021-11-02T09:16:05.671Z"
   },
   {
    "duration": 29,
    "start_time": "2021-11-02T09:16:17.556Z"
   },
   {
    "duration": 23,
    "start_time": "2021-11-02T09:16:18.078Z"
   },
   {
    "duration": 13,
    "start_time": "2021-11-02T09:19:55.152Z"
   },
   {
    "duration": 14,
    "start_time": "2021-11-02T09:19:55.808Z"
   },
   {
    "duration": 1133,
    "start_time": "2021-11-02T09:21:19.818Z"
   },
   {
    "duration": 332,
    "start_time": "2021-11-02T09:21:20.622Z"
   },
   {
    "duration": 1152,
    "start_time": "2021-11-02T09:21:46.177Z"
   },
   {
    "duration": 12,
    "start_time": "2021-11-02T09:21:47.335Z"
   },
   {
    "duration": 12,
    "start_time": "2021-11-02T09:21:59.542Z"
   },
   {
    "duration": 12,
    "start_time": "2021-11-02T09:22:00.740Z"
   },
   {
    "duration": 12,
    "start_time": "2021-11-02T09:22:04.195Z"
   },
   {
    "duration": 326,
    "start_time": "2021-11-02T09:24:10.562Z"
   },
   {
    "duration": 322,
    "start_time": "2021-11-02T09:24:53.729Z"
   },
   {
    "duration": 23,
    "start_time": "2021-11-02T09:25:03.663Z"
   },
   {
    "duration": 13,
    "start_time": "2021-11-02T09:25:04.477Z"
   },
   {
    "duration": 43,
    "start_time": "2021-11-02T09:27:53.066Z"
   },
   {
    "duration": 14,
    "start_time": "2021-11-02T09:27:57.835Z"
   },
   {
    "duration": 28,
    "start_time": "2021-11-02T09:28:21.137Z"
   },
   {
    "duration": 42,
    "start_time": "2021-11-02T09:28:40.534Z"
   },
   {
    "duration": 43,
    "start_time": "2021-11-02T09:28:42.111Z"
   },
   {
    "duration": 22,
    "start_time": "2021-11-02T09:29:10.737Z"
   },
   {
    "duration": 371,
    "start_time": "2021-11-02T09:29:11.725Z"
   },
   {
    "duration": 10,
    "start_time": "2021-11-02T09:29:19.852Z"
   },
   {
    "duration": 27,
    "start_time": "2021-11-02T09:31:36.762Z"
   },
   {
    "duration": 40,
    "start_time": "2021-11-02T09:32:23.430Z"
   },
   {
    "duration": 21,
    "start_time": "2021-11-02T09:36:46.303Z"
   },
   {
    "duration": 8419,
    "start_time": "2021-11-02T09:48:14.150Z"
   },
   {
    "duration": 362,
    "start_time": "2021-11-02T09:48:22.209Z"
   },
   {
    "duration": 291,
    "start_time": "2021-11-02T09:48:44.444Z"
   },
   {
    "duration": 9348,
    "start_time": "2021-11-02T09:48:50.094Z"
   },
   {
    "duration": 8956,
    "start_time": "2021-11-02T09:49:24.476Z"
   },
   {
    "duration": 20,
    "start_time": "2021-11-02T09:51:38.759Z"
   },
   {
    "duration": 20,
    "start_time": "2021-11-02T09:51:41.252Z"
   },
   {
    "duration": 10,
    "start_time": "2021-11-02T09:51:42.015Z"
   },
   {
    "duration": 305,
    "start_time": "2021-11-02T10:30:11.556Z"
   },
   {
    "duration": 301,
    "start_time": "2021-11-02T10:30:12.602Z"
   },
   {
    "duration": 310,
    "start_time": "2021-11-02T10:30:32.948Z"
   },
   {
    "duration": 33,
    "start_time": "2021-11-02T10:33:53.311Z"
   },
   {
    "duration": 41,
    "start_time": "2021-11-02T10:34:09.702Z"
   },
   {
    "duration": 33,
    "start_time": "2021-11-02T10:34:36.870Z"
   },
   {
    "duration": 39,
    "start_time": "2021-11-02T10:36:26.693Z"
   },
   {
    "duration": 103,
    "start_time": "2021-11-02T10:36:35.062Z"
   },
   {
    "duration": 32,
    "start_time": "2021-11-02T10:36:41.406Z"
   },
   {
    "duration": 40,
    "start_time": "2021-11-02T10:45:27.088Z"
   },
   {
    "duration": 47,
    "start_time": "2021-11-02T10:46:14.837Z"
   },
   {
    "duration": 49,
    "start_time": "2021-11-02T10:46:24.200Z"
   },
   {
    "duration": 51,
    "start_time": "2021-11-02T10:47:10.597Z"
   },
   {
    "duration": 59,
    "start_time": "2021-11-02T10:47:43.700Z"
   },
   {
    "duration": 125,
    "start_time": "2021-11-02T10:48:06.987Z"
   },
   {
    "duration": 40,
    "start_time": "2021-11-02T10:48:10.404Z"
   },
   {
    "duration": 40,
    "start_time": "2021-11-02T10:48:59.606Z"
   },
   {
    "duration": 42,
    "start_time": "2021-11-02T10:49:07.791Z"
   },
   {
    "duration": 41,
    "start_time": "2021-11-02T10:49:14.242Z"
   },
   {
    "duration": 42,
    "start_time": "2021-11-02T10:49:20.228Z"
   },
   {
    "duration": 50,
    "start_time": "2021-11-02T10:50:00.698Z"
   },
   {
    "duration": 49,
    "start_time": "2021-11-02T10:50:54.326Z"
   },
   {
    "duration": 49,
    "start_time": "2021-11-02T10:51:33.386Z"
   },
   {
    "duration": 36,
    "start_time": "2021-11-02T10:52:17.488Z"
   },
   {
    "duration": 33,
    "start_time": "2021-11-02T10:52:43.851Z"
   },
   {
    "duration": 37,
    "start_time": "2021-11-02T11:05:17.011Z"
   },
   {
    "duration": 37,
    "start_time": "2021-11-02T11:06:55.581Z"
   },
   {
    "duration": 38,
    "start_time": "2021-11-02T11:07:32.701Z"
   },
   {
    "duration": 38,
    "start_time": "2021-11-02T11:07:44.248Z"
   },
   {
    "duration": 304,
    "start_time": "2021-11-02T11:07:56.106Z"
   },
   {
    "duration": 41,
    "start_time": "2021-11-02T11:08:25.712Z"
   },
   {
    "duration": 316,
    "start_time": "2021-11-02T11:09:02.845Z"
   },
   {
    "duration": 308,
    "start_time": "2021-11-02T11:09:15.719Z"
   },
   {
    "duration": 28,
    "start_time": "2021-11-02T11:09:27.800Z"
   },
   {
    "duration": 397,
    "start_time": "2021-11-02T11:09:48.068Z"
   },
   {
    "duration": 389,
    "start_time": "2021-11-02T11:10:10.914Z"
   },
   {
    "duration": 29,
    "start_time": "2021-11-02T11:10:19.752Z"
   },
   {
    "duration": 28,
    "start_time": "2021-11-02T11:10:33.736Z"
   },
   {
    "duration": 27,
    "start_time": "2021-11-02T11:10:46.136Z"
   },
   {
    "duration": 384,
    "start_time": "2021-11-02T11:12:33.420Z"
   },
   {
    "duration": 43,
    "start_time": "2021-11-02T11:12:44.049Z"
   },
   {
    "duration": 311,
    "start_time": "2021-11-02T11:13:07.368Z"
   },
   {
    "duration": 25,
    "start_time": "2021-11-02T11:13:17.155Z"
   },
   {
    "duration": 356,
    "start_time": "2021-11-02T11:13:30.912Z"
   },
   {
    "duration": 25,
    "start_time": "2021-11-02T11:13:46.815Z"
   },
   {
    "duration": 1219,
    "start_time": "2021-11-02T11:18:17.025Z"
   },
   {
    "duration": 1225,
    "start_time": "2021-11-02T11:18:28.386Z"
   },
   {
    "duration": 23,
    "start_time": "2021-11-02T11:18:38.626Z"
   },
   {
    "duration": 29,
    "start_time": "2021-11-02T11:18:56.059Z"
   },
   {
    "duration": 310,
    "start_time": "2021-11-02T11:19:16.940Z"
   },
   {
    "duration": 29,
    "start_time": "2021-11-02T11:19:31.498Z"
   },
   {
    "duration": 27,
    "start_time": "2021-11-02T11:20:39.461Z"
   },
   {
    "duration": 18,
    "start_time": "2021-11-02T11:31:20.638Z"
   },
   {
    "duration": 615,
    "start_time": "2021-11-02T11:32:21.008Z"
   },
   {
    "duration": 22,
    "start_time": "2021-11-02T11:32:42.456Z"
   },
   {
    "duration": 23,
    "start_time": "2021-11-02T11:33:50.922Z"
   },
   {
    "duration": 1299,
    "start_time": "2021-11-02T11:34:20.748Z"
   },
   {
    "duration": 23,
    "start_time": "2021-11-02T11:34:32.741Z"
   },
   {
    "duration": 1659,
    "start_time": "2021-11-02T11:34:52.243Z"
   },
   {
    "duration": 50,
    "start_time": "2021-11-02T11:35:20.619Z"
   },
   {
    "duration": 52,
    "start_time": "2021-11-02T11:35:58.932Z"
   },
   {
    "duration": 52,
    "start_time": "2021-11-02T11:36:08.489Z"
   },
   {
    "duration": 57,
    "start_time": "2021-11-02T11:37:42.519Z"
   },
   {
    "duration": 54,
    "start_time": "2021-11-02T11:37:52.483Z"
   },
   {
    "duration": 53,
    "start_time": "2021-11-02T11:39:21.832Z"
   },
   {
    "duration": 59,
    "start_time": "2021-11-02T11:39:28.326Z"
   },
   {
    "duration": 11,
    "start_time": "2021-11-02T11:40:30.480Z"
   },
   {
    "duration": 51,
    "start_time": "2021-11-02T11:40:32.706Z"
   },
   {
    "duration": 12,
    "start_time": "2021-11-02T11:40:33.801Z"
   },
   {
    "duration": 12,
    "start_time": "2021-11-02T11:41:17.151Z"
   },
   {
    "duration": 14,
    "start_time": "2021-11-02T11:42:11.356Z"
   },
   {
    "duration": 54,
    "start_time": "2021-11-02T11:42:55.081Z"
   },
   {
    "duration": 13,
    "start_time": "2021-11-02T11:42:56.321Z"
   },
   {
    "duration": 12,
    "start_time": "2021-11-02T11:43:14.853Z"
   },
   {
    "duration": 49,
    "start_time": "2021-11-02T11:43:23.351Z"
   },
   {
    "duration": 12,
    "start_time": "2021-11-02T11:43:24.045Z"
   },
   {
    "duration": 48,
    "start_time": "2021-11-02T11:43:37.507Z"
   },
   {
    "duration": 47,
    "start_time": "2021-11-02T11:43:41.192Z"
   },
   {
    "duration": 12,
    "start_time": "2021-11-02T11:43:41.805Z"
   },
   {
    "duration": 11,
    "start_time": "2021-11-02T11:43:50.001Z"
   },
   {
    "duration": 637,
    "start_time": "2021-11-03T02:27:11.209Z"
   },
   {
    "duration": 143,
    "start_time": "2021-11-03T02:27:11.848Z"
   },
   {
    "duration": 18,
    "start_time": "2021-11-03T02:27:11.993Z"
   },
   {
    "duration": 28,
    "start_time": "2021-11-03T02:27:12.013Z"
   },
   {
    "duration": 5,
    "start_time": "2021-11-03T02:27:12.043Z"
   },
   {
    "duration": 48,
    "start_time": "2021-11-03T02:27:12.050Z"
   },
   {
    "duration": 5,
    "start_time": "2021-11-03T02:27:12.100Z"
   },
   {
    "duration": 23,
    "start_time": "2021-11-03T02:27:12.108Z"
   },
   {
    "duration": 43,
    "start_time": "2021-11-03T02:27:12.134Z"
   },
   {
    "duration": 24,
    "start_time": "2021-11-03T02:27:12.179Z"
   },
   {
    "duration": 83,
    "start_time": "2021-11-03T02:27:12.205Z"
   },
   {
    "duration": 74,
    "start_time": "2021-11-03T02:27:12.290Z"
   },
   {
    "duration": 62,
    "start_time": "2021-11-03T02:27:12.365Z"
   },
   {
    "duration": 57,
    "start_time": "2021-11-03T02:27:12.428Z"
   },
   {
    "duration": 3,
    "start_time": "2021-11-03T02:27:12.487Z"
   },
   {
    "duration": 13,
    "start_time": "2021-11-03T02:27:12.492Z"
   },
   {
    "duration": 40,
    "start_time": "2021-11-03T02:27:12.507Z"
   },
   {
    "duration": 48,
    "start_time": "2021-11-03T02:27:12.549Z"
   },
   {
    "duration": 12,
    "start_time": "2021-11-03T02:27:12.599Z"
   },
   {
    "duration": 12,
    "start_time": "2021-11-03T02:27:12.613Z"
   },
   {
    "duration": 4,
    "start_time": "2021-11-03T02:27:12.627Z"
   },
   {
    "duration": 120,
    "start_time": "2021-11-03T02:27:12.633Z"
   },
   {
    "duration": 2,
    "start_time": "2021-11-03T02:27:12.758Z"
   },
   {
    "duration": 14,
    "start_time": "2021-11-03T02:27:12.763Z"
   },
   {
    "duration": 4,
    "start_time": "2021-11-03T02:27:12.779Z"
   },
   {
    "duration": 8,
    "start_time": "2021-11-03T02:27:12.784Z"
   },
   {
    "duration": 4,
    "start_time": "2021-11-03T02:27:12.793Z"
   },
   {
    "duration": 4,
    "start_time": "2021-11-03T02:27:12.799Z"
   },
   {
    "duration": 10,
    "start_time": "2021-11-03T02:27:12.804Z"
   },
   {
    "duration": 14,
    "start_time": "2021-11-03T02:27:12.816Z"
   },
   {
    "duration": 9,
    "start_time": "2021-11-03T02:27:12.832Z"
   },
   {
    "duration": 4,
    "start_time": "2021-11-03T02:27:12.843Z"
   },
   {
    "duration": 46,
    "start_time": "2021-11-03T02:27:12.849Z"
   },
   {
    "duration": 14,
    "start_time": "2021-11-03T02:27:12.896Z"
   },
   {
    "duration": 17,
    "start_time": "2021-11-03T02:27:12.912Z"
   },
   {
    "duration": 46,
    "start_time": "2021-11-03T02:27:12.931Z"
   },
   {
    "duration": 1680,
    "start_time": "2021-11-03T02:27:12.979Z"
   },
   {
    "duration": 1100,
    "start_time": "2021-11-03T02:27:13.561Z"
   },
   {
    "duration": 1100,
    "start_time": "2021-11-03T02:27:13.562Z"
   },
   {
    "duration": 1100,
    "start_time": "2021-11-03T02:27:13.563Z"
   },
   {
    "duration": 28,
    "start_time": "2021-11-03T02:27:57.404Z"
   },
   {
    "duration": 8,
    "start_time": "2021-11-03T02:27:59.522Z"
   },
   {
    "duration": 22,
    "start_time": "2021-11-03T02:28:03.779Z"
   },
   {
    "duration": 8,
    "start_time": "2021-11-03T02:28:04.882Z"
   },
   {
    "duration": 118,
    "start_time": "2021-11-03T02:41:31.324Z"
   },
   {
    "duration": 24,
    "start_time": "2021-11-03T02:41:37.488Z"
   },
   {
    "duration": 23,
    "start_time": "2021-11-03T02:41:45.286Z"
   },
   {
    "duration": 23,
    "start_time": "2021-11-03T02:41:58.479Z"
   },
   {
    "duration": 23,
    "start_time": "2021-11-03T02:42:22.232Z"
   },
   {
    "duration": 24,
    "start_time": "2021-11-03T02:42:26.469Z"
   },
   {
    "duration": 381,
    "start_time": "2021-11-03T02:42:47.994Z"
   },
   {
    "duration": 60,
    "start_time": "2021-11-03T02:42:54.503Z"
   },
   {
    "duration": 116,
    "start_time": "2021-11-03T02:43:02.119Z"
   },
   {
    "duration": 57,
    "start_time": "2021-11-03T02:43:04.951Z"
   },
   {
    "duration": 116,
    "start_time": "2021-11-03T02:43:57.226Z"
   },
   {
    "duration": 56,
    "start_time": "2021-11-03T02:44:10.038Z"
   },
   {
    "duration": 58,
    "start_time": "2021-11-03T02:44:18.097Z"
   },
   {
    "duration": 58,
    "start_time": "2021-11-03T02:44:27.804Z"
   },
   {
    "duration": 59,
    "start_time": "2021-11-03T02:44:34.666Z"
   },
   {
    "duration": 66,
    "start_time": "2021-11-03T02:45:13.893Z"
   },
   {
    "duration": 58,
    "start_time": "2021-11-03T02:45:22.653Z"
   },
   {
    "duration": 598,
    "start_time": "2021-11-03T02:46:00.511Z"
   },
   {
    "duration": 155,
    "start_time": "2021-11-03T02:46:01.110Z"
   },
   {
    "duration": 17,
    "start_time": "2021-11-03T02:46:01.268Z"
   },
   {
    "duration": 66,
    "start_time": "2021-11-03T02:46:01.287Z"
   },
   {
    "duration": 4,
    "start_time": "2021-11-03T02:46:01.355Z"
   },
   {
    "duration": 36,
    "start_time": "2021-11-03T02:46:01.360Z"
   },
   {
    "duration": 7,
    "start_time": "2021-11-03T02:46:01.398Z"
   },
   {
    "duration": 24,
    "start_time": "2021-11-03T02:46:01.407Z"
   },
   {
    "duration": 43,
    "start_time": "2021-11-03T02:46:01.434Z"
   },
   {
    "duration": 24,
    "start_time": "2021-11-03T02:46:01.479Z"
   },
   {
    "duration": 74,
    "start_time": "2021-11-03T02:46:01.504Z"
   },
   {
    "duration": 75,
    "start_time": "2021-11-03T02:46:01.579Z"
   },
   {
    "duration": 65,
    "start_time": "2021-11-03T02:46:01.656Z"
   },
   {
    "duration": 54,
    "start_time": "2021-11-03T02:46:01.723Z"
   },
   {
    "duration": 3,
    "start_time": "2021-11-03T02:46:01.779Z"
   },
   {
    "duration": 15,
    "start_time": "2021-11-03T02:46:01.783Z"
   },
   {
    "duration": 40,
    "start_time": "2021-11-03T02:46:01.799Z"
   },
   {
    "duration": 44,
    "start_time": "2021-11-03T02:46:01.841Z"
   },
   {
    "duration": 15,
    "start_time": "2021-11-03T02:46:01.887Z"
   },
   {
    "duration": 10,
    "start_time": "2021-11-03T02:46:01.904Z"
   },
   {
    "duration": 3,
    "start_time": "2021-11-03T02:46:01.916Z"
   },
   {
    "duration": 95,
    "start_time": "2021-11-03T02:46:01.921Z"
   },
   {
    "duration": 2,
    "start_time": "2021-11-03T02:46:02.018Z"
   },
   {
    "duration": 21,
    "start_time": "2021-11-03T02:46:02.022Z"
   },
   {
    "duration": 16,
    "start_time": "2021-11-03T02:46:02.044Z"
   },
   {
    "duration": 10,
    "start_time": "2021-11-03T02:46:02.062Z"
   },
   {
    "duration": 14,
    "start_time": "2021-11-03T02:46:02.076Z"
   },
   {
    "duration": 17,
    "start_time": "2021-11-03T02:46:02.092Z"
   },
   {
    "duration": 18,
    "start_time": "2021-11-03T02:46:02.110Z"
   },
   {
    "duration": 22,
    "start_time": "2021-11-03T02:46:02.130Z"
   },
   {
    "duration": 19,
    "start_time": "2021-11-03T02:46:02.154Z"
   },
   {
    "duration": 14,
    "start_time": "2021-11-03T02:46:02.175Z"
   },
   {
    "duration": 29,
    "start_time": "2021-11-03T02:46:02.190Z"
   },
   {
    "duration": 13,
    "start_time": "2021-11-03T02:46:02.221Z"
   },
   {
    "duration": 17,
    "start_time": "2021-11-03T02:46:02.236Z"
   },
   {
    "duration": 13,
    "start_time": "2021-11-03T02:46:02.255Z"
   },
   {
    "duration": 34,
    "start_time": "2021-11-03T02:46:02.270Z"
   },
   {
    "duration": 7,
    "start_time": "2021-11-03T02:46:02.306Z"
   },
   {
    "duration": 29,
    "start_time": "2021-11-03T02:46:02.315Z"
   },
   {
    "duration": 8,
    "start_time": "2021-11-03T02:46:02.346Z"
   },
   {
    "duration": 59,
    "start_time": "2021-11-03T02:48:09.817Z"
   },
   {
    "duration": 619,
    "start_time": "2021-11-03T02:48:22.202Z"
   },
   {
    "duration": 167,
    "start_time": "2021-11-03T02:48:22.823Z"
   },
   {
    "duration": 20,
    "start_time": "2021-11-03T02:48:22.993Z"
   },
   {
    "duration": 92,
    "start_time": "2021-11-03T02:48:23.015Z"
   },
   {
    "duration": 5,
    "start_time": "2021-11-03T02:48:23.109Z"
   },
   {
    "duration": 23,
    "start_time": "2021-11-03T02:48:23.116Z"
   },
   {
    "duration": 5,
    "start_time": "2021-11-03T02:48:23.141Z"
   },
   {
    "duration": 49,
    "start_time": "2021-11-03T02:48:23.150Z"
   },
   {
    "duration": 20,
    "start_time": "2021-11-03T02:48:23.203Z"
   },
   {
    "duration": 24,
    "start_time": "2021-11-03T02:48:23.225Z"
   },
   {
    "duration": 61,
    "start_time": "2021-11-03T02:48:23.278Z"
   },
   {
    "duration": 97,
    "start_time": "2021-11-03T02:48:23.341Z"
   },
   {
    "duration": 66,
    "start_time": "2021-11-03T02:48:23.440Z"
   },
   {
    "duration": 42,
    "start_time": "2021-11-03T02:48:23.508Z"
   },
   {
    "duration": 4,
    "start_time": "2021-11-03T02:48:23.552Z"
   },
   {
    "duration": 14,
    "start_time": "2021-11-03T02:48:23.576Z"
   },
   {
    "duration": 42,
    "start_time": "2021-11-03T02:48:23.592Z"
   },
   {
    "duration": 45,
    "start_time": "2021-11-03T02:48:23.636Z"
   },
   {
    "duration": 12,
    "start_time": "2021-11-03T02:48:23.683Z"
   },
   {
    "duration": 13,
    "start_time": "2021-11-03T02:48:23.697Z"
   },
   {
    "duration": 4,
    "start_time": "2021-11-03T02:48:23.712Z"
   },
   {
    "duration": 111,
    "start_time": "2021-11-03T02:48:23.718Z"
   },
   {
    "duration": 2,
    "start_time": "2021-11-03T02:48:23.834Z"
   },
   {
    "duration": 3,
    "start_time": "2021-11-03T02:48:23.839Z"
   },
   {
    "duration": 6,
    "start_time": "2021-11-03T02:48:23.844Z"
   },
   {
    "duration": 4,
    "start_time": "2021-11-03T02:48:23.852Z"
   },
   {
    "duration": 20,
    "start_time": "2021-11-03T02:48:23.858Z"
   },
   {
    "duration": 4,
    "start_time": "2021-11-03T02:48:23.880Z"
   },
   {
    "duration": 10,
    "start_time": "2021-11-03T02:48:23.886Z"
   },
   {
    "duration": 12,
    "start_time": "2021-11-03T02:48:23.898Z"
   },
   {
    "duration": 10,
    "start_time": "2021-11-03T02:48:23.912Z"
   },
   {
    "duration": 5,
    "start_time": "2021-11-03T02:48:23.924Z"
   },
   {
    "duration": 60,
    "start_time": "2021-11-03T02:48:23.931Z"
   },
   {
    "duration": 14,
    "start_time": "2021-11-03T02:48:23.993Z"
   },
   {
    "duration": 20,
    "start_time": "2021-11-03T02:48:24.009Z"
   },
   {
    "duration": 48,
    "start_time": "2021-11-03T02:48:24.031Z"
   },
   {
    "duration": 31,
    "start_time": "2021-11-03T02:48:24.081Z"
   },
   {
    "duration": 9,
    "start_time": "2021-11-03T02:48:24.114Z"
   },
   {
    "duration": 52,
    "start_time": "2021-11-03T02:48:24.125Z"
   },
   {
    "duration": 8,
    "start_time": "2021-11-03T02:48:24.179Z"
   },
   {
    "duration": 56,
    "start_time": "2021-11-03T02:48:38.413Z"
   },
   {
    "duration": 1229,
    "start_time": "2021-11-03T02:54:38.439Z"
   },
   {
    "duration": 387,
    "start_time": "2021-11-03T02:54:57.691Z"
   },
   {
    "duration": 353,
    "start_time": "2021-11-03T02:55:13.156Z"
   },
   {
    "duration": 126,
    "start_time": "2021-11-03T02:55:52.510Z"
   },
   {
    "duration": 51,
    "start_time": "2021-11-03T02:55:55.663Z"
   },
   {
    "duration": 10938,
    "start_time": "2021-11-03T02:56:52.240Z"
   },
   {
    "duration": 1135,
    "start_time": "2021-11-03T02:57:15.532Z"
   },
   {
    "duration": 8832,
    "start_time": "2021-11-03T02:57:22.806Z"
   },
   {
    "duration": 1410,
    "start_time": "2021-11-03T02:57:33.202Z"
   },
   {
    "duration": 1395,
    "start_time": "2021-11-03T02:58:54.906Z"
   },
   {
    "duration": 1536,
    "start_time": "2021-11-03T02:59:18.082Z"
   },
   {
    "duration": 131,
    "start_time": "2021-11-03T03:00:05.238Z"
   },
   {
    "duration": 1431,
    "start_time": "2021-11-03T03:00:10.911Z"
   },
   {
    "duration": 255,
    "start_time": "2021-11-03T03:01:17.439Z"
   },
   {
    "duration": 1544,
    "start_time": "2021-11-03T03:07:48.273Z"
   },
   {
    "duration": 1421,
    "start_time": "2021-11-03T03:08:06.130Z"
   },
   {
    "duration": 267,
    "start_time": "2021-11-03T03:08:22.739Z"
   },
   {
    "duration": 458,
    "start_time": "2021-11-03T03:10:46.275Z"
   },
   {
    "duration": 1440,
    "start_time": "2021-11-03T03:11:16.970Z"
   },
   {
    "duration": 275,
    "start_time": "2021-11-03T03:11:29.413Z"
   },
   {
    "duration": 1752,
    "start_time": "2021-11-03T03:12:14.461Z"
   },
   {
    "duration": 1689,
    "start_time": "2021-11-03T03:12:48.493Z"
   },
   {
    "duration": 426,
    "start_time": "2021-11-03T03:18:41.379Z"
   },
   {
    "duration": 269,
    "start_time": "2021-11-03T03:18:51.930Z"
   },
   {
    "duration": 98,
    "start_time": "2021-11-03T03:20:24.838Z"
   },
   {
    "duration": 84,
    "start_time": "2021-11-03T03:20:40.947Z"
   },
   {
    "duration": 84,
    "start_time": "2021-11-03T03:21:08.893Z"
   },
   {
    "duration": 86,
    "start_time": "2021-11-03T03:21:38.423Z"
   },
   {
    "duration": 107,
    "start_time": "2021-11-03T03:22:09.771Z"
   },
   {
    "duration": 86,
    "start_time": "2021-11-03T03:22:23.086Z"
   },
   {
    "duration": 9477,
    "start_time": "2021-11-03T03:23:58.013Z"
   },
   {
    "duration": 1147,
    "start_time": "2021-11-03T03:24:33.665Z"
   },
   {
    "duration": 9799,
    "start_time": "2021-11-03T03:24:59.020Z"
   },
   {
    "duration": 83,
    "start_time": "2021-11-03T03:25:31.254Z"
   },
   {
    "duration": 1153,
    "start_time": "2021-11-03T03:26:00.747Z"
   },
   {
    "duration": 8711,
    "start_time": "2021-11-03T03:26:03.263Z"
   },
   {
    "duration": 83,
    "start_time": "2021-11-03T03:26:31.535Z"
   },
   {
    "duration": 9123,
    "start_time": "2021-11-03T03:26:42.858Z"
   },
   {
    "duration": 81,
    "start_time": "2021-11-03T03:26:58.418Z"
   },
   {
    "duration": 83,
    "start_time": "2021-11-03T03:27:29.321Z"
   },
   {
    "duration": 86,
    "start_time": "2021-11-03T03:27:48.000Z"
   },
   {
    "duration": 428,
    "start_time": "2021-11-03T03:27:58.782Z"
   },
   {
    "duration": 373,
    "start_time": "2021-11-03T03:28:20.506Z"
   },
   {
    "duration": 357,
    "start_time": "2021-11-03T03:33:11.515Z"
   },
   {
    "duration": 9592,
    "start_time": "2021-11-03T03:34:00.979Z"
   },
   {
    "duration": 355,
    "start_time": "2021-11-03T03:34:16.662Z"
   },
   {
    "duration": 357,
    "start_time": "2021-11-03T03:34:43.632Z"
   },
   {
    "duration": 451,
    "start_time": "2021-11-03T03:35:01.946Z"
   },
   {
    "duration": 346,
    "start_time": "2021-11-03T03:35:23.891Z"
   },
   {
    "duration": 352,
    "start_time": "2021-11-03T03:35:32.413Z"
   },
   {
    "duration": 412,
    "start_time": "2021-11-03T03:37:00.260Z"
   },
   {
    "duration": 397,
    "start_time": "2021-11-03T03:37:30.056Z"
   },
   {
    "duration": 393,
    "start_time": "2021-11-03T03:38:06.888Z"
   },
   {
    "duration": 706,
    "start_time": "2021-11-03T03:38:59.170Z"
   },
   {
    "duration": 118,
    "start_time": "2021-11-03T03:39:51.287Z"
   },
   {
    "duration": 724,
    "start_time": "2021-11-03T03:40:02.545Z"
   },
   {
    "duration": 657,
    "start_time": "2021-11-03T03:41:06.621Z"
   },
   {
    "duration": 639,
    "start_time": "2021-11-03T03:41:13.739Z"
   },
   {
    "duration": 741,
    "start_time": "2021-11-03T03:41:32.350Z"
   },
   {
    "duration": 614,
    "start_time": "2021-11-03T03:41:46.099Z"
   },
   {
    "duration": 148,
    "start_time": "2021-11-03T03:41:50.845Z"
   },
   {
    "duration": 619,
    "start_time": "2021-11-03T03:41:54.329Z"
   },
   {
    "duration": 633,
    "start_time": "2021-11-03T03:42:13.013Z"
   },
   {
    "duration": 727,
    "start_time": "2021-11-03T03:42:18.831Z"
   },
   {
    "duration": 82,
    "start_time": "2021-11-03T03:44:21.369Z"
   },
   {
    "duration": 596,
    "start_time": "2021-11-03T03:44:42.518Z"
   },
   {
    "duration": 144,
    "start_time": "2021-11-03T03:44:43.115Z"
   },
   {
    "duration": 22,
    "start_time": "2021-11-03T03:44:43.261Z"
   },
   {
    "duration": 73,
    "start_time": "2021-11-03T03:44:43.285Z"
   },
   {
    "duration": 19,
    "start_time": "2021-11-03T03:44:43.359Z"
   },
   {
    "duration": 22,
    "start_time": "2021-11-03T03:44:43.380Z"
   },
   {
    "duration": 6,
    "start_time": "2021-11-03T03:44:43.404Z"
   },
   {
    "duration": 26,
    "start_time": "2021-11-03T03:44:43.412Z"
   },
   {
    "duration": 38,
    "start_time": "2021-11-03T03:44:43.441Z"
   },
   {
    "duration": 23,
    "start_time": "2021-11-03T03:44:43.481Z"
   },
   {
    "duration": 77,
    "start_time": "2021-11-03T03:44:43.505Z"
   },
   {
    "duration": 70,
    "start_time": "2021-11-03T03:44:43.583Z"
   },
   {
    "duration": 59,
    "start_time": "2021-11-03T03:44:43.655Z"
   },
   {
    "duration": 39,
    "start_time": "2021-11-03T03:44:43.716Z"
   },
   {
    "duration": 21,
    "start_time": "2021-11-03T03:44:43.757Z"
   },
   {
    "duration": 17,
    "start_time": "2021-11-03T03:44:43.779Z"
   },
   {
    "duration": 43,
    "start_time": "2021-11-03T03:44:43.798Z"
   },
   {
    "duration": 76,
    "start_time": "2021-11-03T03:44:43.843Z"
   },
   {
    "duration": 13,
    "start_time": "2021-11-03T03:44:43.921Z"
   },
   {
    "duration": 11,
    "start_time": "2021-11-03T03:44:43.937Z"
   },
   {
    "duration": 5,
    "start_time": "2021-11-03T03:44:43.976Z"
   },
   {
    "duration": 104,
    "start_time": "2021-11-03T03:44:43.983Z"
   },
   {
    "duration": 2,
    "start_time": "2021-11-03T03:44:44.089Z"
   },
   {
    "duration": 4,
    "start_time": "2021-11-03T03:44:44.093Z"
   },
   {
    "duration": 5,
    "start_time": "2021-11-03T03:44:44.099Z"
   },
   {
    "duration": 6,
    "start_time": "2021-11-03T03:44:44.106Z"
   },
   {
    "duration": 6,
    "start_time": "2021-11-03T03:44:44.115Z"
   },
   {
    "duration": 7,
    "start_time": "2021-11-03T03:44:44.122Z"
   },
   {
    "duration": 9,
    "start_time": "2021-11-03T03:44:44.131Z"
   },
   {
    "duration": 14,
    "start_time": "2021-11-03T03:44:44.141Z"
   },
   {
    "duration": 25,
    "start_time": "2021-11-03T03:44:44.157Z"
   },
   {
    "duration": 4,
    "start_time": "2021-11-03T03:44:44.184Z"
   },
   {
    "duration": 29,
    "start_time": "2021-11-03T03:44:44.190Z"
   },
   {
    "duration": 13,
    "start_time": "2021-11-03T03:44:44.220Z"
   },
   {
    "duration": 16,
    "start_time": "2021-11-03T03:44:44.235Z"
   },
   {
    "duration": 35,
    "start_time": "2021-11-03T03:44:44.252Z"
   },
   {
    "duration": 28,
    "start_time": "2021-11-03T03:44:44.289Z"
   },
   {
    "duration": 7,
    "start_time": "2021-11-03T03:44:44.319Z"
   },
   {
    "duration": 54,
    "start_time": "2021-11-03T03:44:44.328Z"
   },
   {
    "duration": 7,
    "start_time": "2021-11-03T03:44:44.384Z"
   },
   {
    "duration": 1257,
    "start_time": "2021-11-03T03:44:44.393Z"
   },
   {
    "duration": 627,
    "start_time": "2021-11-03T03:52:50.763Z"
   },
   {
    "duration": 928,
    "start_time": "2021-11-03T08:12:40.069Z"
   },
   {
    "duration": 194,
    "start_time": "2021-11-03T08:12:41.000Z"
   },
   {
    "duration": 24,
    "start_time": "2021-11-03T08:12:41.197Z"
   },
   {
    "duration": 111,
    "start_time": "2021-11-03T08:12:41.224Z"
   },
   {
    "duration": 5,
    "start_time": "2021-11-03T08:12:41.337Z"
   },
   {
    "duration": 49,
    "start_time": "2021-11-03T08:12:41.344Z"
   },
   {
    "duration": 5,
    "start_time": "2021-11-03T08:12:41.396Z"
   },
   {
    "duration": 32,
    "start_time": "2021-11-03T08:12:41.405Z"
   },
   {
    "duration": 53,
    "start_time": "2021-11-03T08:12:41.440Z"
   },
   {
    "duration": 31,
    "start_time": "2021-11-03T08:12:41.495Z"
   },
   {
    "duration": 105,
    "start_time": "2021-11-03T08:12:41.528Z"
   },
   {
    "duration": 114,
    "start_time": "2021-11-03T08:12:41.635Z"
   },
   {
    "duration": 96,
    "start_time": "2021-11-03T08:12:41.751Z"
   },
   {
    "duration": 83,
    "start_time": "2021-11-03T08:12:41.850Z"
   },
   {
    "duration": 5,
    "start_time": "2021-11-03T08:12:41.935Z"
   },
   {
    "duration": 24,
    "start_time": "2021-11-03T08:12:41.942Z"
   },
   {
    "duration": 72,
    "start_time": "2021-11-03T08:12:41.968Z"
   },
   {
    "duration": 101,
    "start_time": "2021-11-03T08:12:42.042Z"
   },
   {
    "duration": 38,
    "start_time": "2021-11-03T08:12:42.145Z"
   },
   {
    "duration": 15,
    "start_time": "2021-11-03T08:12:42.186Z"
   },
   {
    "duration": 5,
    "start_time": "2021-11-03T08:12:42.203Z"
   },
   {
    "duration": 131,
    "start_time": "2021-11-03T08:12:42.211Z"
   },
   {
    "duration": 3,
    "start_time": "2021-11-03T08:12:42.347Z"
   },
   {
    "duration": 6,
    "start_time": "2021-11-03T08:12:42.353Z"
   },
   {
    "duration": 21,
    "start_time": "2021-11-03T08:12:42.361Z"
   },
   {
    "duration": 12,
    "start_time": "2021-11-03T08:12:42.384Z"
   },
   {
    "duration": 7,
    "start_time": "2021-11-03T08:12:42.398Z"
   },
   {
    "duration": 7,
    "start_time": "2021-11-03T08:12:42.407Z"
   },
   {
    "duration": 15,
    "start_time": "2021-11-03T08:12:42.416Z"
   },
   {
    "duration": 21,
    "start_time": "2021-11-03T08:12:42.433Z"
   },
   {
    "duration": 31,
    "start_time": "2021-11-03T08:12:42.456Z"
   },
   {
    "duration": 5,
    "start_time": "2021-11-03T08:12:42.490Z"
   },
   {
    "duration": 33,
    "start_time": "2021-11-03T08:12:42.497Z"
   },
   {
    "duration": 17,
    "start_time": "2021-11-03T08:12:42.532Z"
   },
   {
    "duration": 51,
    "start_time": "2021-11-03T08:12:42.551Z"
   },
   {
    "duration": 18,
    "start_time": "2021-11-03T08:12:42.605Z"
   },
   {
    "duration": 83,
    "start_time": "2021-11-03T08:12:42.626Z"
   },
   {
    "duration": 13,
    "start_time": "2021-11-03T08:12:42.712Z"
   },
   {
    "duration": 65,
    "start_time": "2021-11-03T08:12:42.728Z"
   },
   {
    "duration": 11,
    "start_time": "2021-11-03T08:12:42.796Z"
   },
   {
    "duration": 1837,
    "start_time": "2021-11-03T08:12:42.811Z"
   }
  ],
  "colab": {
   "collapsed_sections": [
    "E0vqbgi9ay0H",
    "VUC88oWjTJw2"
   ],
   "name": "yandex_music_project_2021.2.ipynb",
   "provenance": []
  },
  "kernelspec": {
   "display_name": "Python 3 (ipykernel)",
   "language": "python",
   "name": "python3"
  },
  "language_info": {
   "codemirror_mode": {
    "name": "ipython",
    "version": 3
   },
   "file_extension": ".py",
   "mimetype": "text/x-python",
   "name": "python",
   "nbconvert_exporter": "python",
   "pygments_lexer": "ipython3",
   "version": "3.10.4"
  },
  "toc": {
   "base_numbering": 1,
   "nav_menu": {},
   "number_sections": true,
   "sideBar": true,
   "skip_h1_title": true,
   "title_cell": "Table of Contents",
   "title_sidebar": "Contents",
   "toc_cell": true,
   "toc_position": {},
   "toc_section_display": true,
   "toc_window_display": true
  },
  "varInspector": {
   "cols": {
    "lenName": 16,
    "lenType": 16,
    "lenVar": 40
   },
   "kernels_config": {
    "python": {
     "delete_cmd_postfix": "",
     "delete_cmd_prefix": "del ",
     "library": "var_list.py",
     "varRefreshCmd": "print(var_dic_list())"
    },
    "r": {
     "delete_cmd_postfix": ") ",
     "delete_cmd_prefix": "rm(",
     "library": "var_list.r",
     "varRefreshCmd": "cat(var_dic_list()) "
    }
   },
   "types_to_exclude": [
    "module",
    "function",
    "builtin_function_or_method",
    "instance",
    "_Feature"
   ],
   "window_display": false
  }
 },
 "nbformat": 4,
 "nbformat_minor": 1
}
