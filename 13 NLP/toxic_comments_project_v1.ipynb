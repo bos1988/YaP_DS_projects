{
 "cells": [
  {
   "cell_type": "markdown",
   "metadata": {
    "toc": true
   },
   "source": [
    "<h1>Table of Contents<span class=\"tocSkip\"></span></h1>\n",
    "<div class=\"toc\"><ul class=\"toc-item\"><li><span><a href=\"#Цель-исследования\" data-toc-modified-id=\"Цель-исследования-1\"><span class=\"toc-item-num\">1&nbsp;&nbsp;</span>Цель исследования</a></span></li><li><span><a href=\"#Исходные-данные\" data-toc-modified-id=\"Исходные-данные-2\"><span class=\"toc-item-num\">2&nbsp;&nbsp;</span>Исходные данные</a></span><ul class=\"toc-item\"><li><span><a href=\"#Подключаемые-модули\" data-toc-modified-id=\"Подключаемые-модули-2.1\"><span class=\"toc-item-num\">2.1&nbsp;&nbsp;</span>Подключаемые модули</a></span></li><li><span><a href=\"#Общие-параметры\" data-toc-modified-id=\"Общие-параметры-2.2\"><span class=\"toc-item-num\">2.2&nbsp;&nbsp;</span>Общие параметры</a></span></li><li><span><a href=\"#Функции\" data-toc-modified-id=\"Функции-2.3\"><span class=\"toc-item-num\">2.3&nbsp;&nbsp;</span>Функции</a></span></li></ul></li><li><span><a href=\"#Получение-данных\" data-toc-modified-id=\"Получение-данных-3\"><span class=\"toc-item-num\">3&nbsp;&nbsp;</span>Получение данных</a></span><ul class=\"toc-item\"><li><span><a href=\"#Чтение-данных-из-файла\" data-toc-modified-id=\"Чтение-данных-из-файла-3.1\"><span class=\"toc-item-num\">3.1&nbsp;&nbsp;</span>Чтение данных из файла</a></span></li><li><span><a href=\"#Описание-данных\" data-toc-modified-id=\"Описание-данных-3.2\"><span class=\"toc-item-num\">3.2&nbsp;&nbsp;</span>Описание данных</a></span></li><li><span><a href=\"#Общая-информация\" data-toc-modified-id=\"Общая-информация-3.3\"><span class=\"toc-item-num\">3.3&nbsp;&nbsp;</span>Общая информация</a></span></li><li><span><a href=\"#Выводы\" data-toc-modified-id=\"Выводы-3.4\"><span class=\"toc-item-num\">3.4&nbsp;&nbsp;</span>Выводы</a></span></li></ul></li><li><span><a href=\"#Анализ-данных\" data-toc-modified-id=\"Анализ-данных-4\"><span class=\"toc-item-num\">4&nbsp;&nbsp;</span>Анализ данных</a></span><ul class=\"toc-item\"><li><span><a href=\"#Длина-текста\" data-toc-modified-id=\"Длина-текста-4.1\"><span class=\"toc-item-num\">4.1&nbsp;&nbsp;</span>Длина текста</a></span></li><li><span><a href=\"#Оценка-дисбаланса\" data-toc-modified-id=\"Оценка-дисбаланса-4.2\"><span class=\"toc-item-num\">4.2&nbsp;&nbsp;</span>Оценка дисбаланса</a></span></li><li><span><a href=\"#Вывод-по-анализу-данных\" data-toc-modified-id=\"Вывод-по-анализу-данных-4.3\"><span class=\"toc-item-num\">4.3&nbsp;&nbsp;</span>Вывод по анализу данных</a></span></li></ul></li><li><span><a href=\"#Подготовка-данных\" data-toc-modified-id=\"Подготовка-данных-5\"><span class=\"toc-item-num\">5&nbsp;&nbsp;</span>Подготовка данных</a></span><ul class=\"toc-item\"><li><span><a href=\"#Функция-подготовки-данных\" data-toc-modified-id=\"Функция-подготовки-данных-5.1\"><span class=\"toc-item-num\">5.1&nbsp;&nbsp;</span>Функция подготовки данных</a></span></li><li><span><a href=\"#Отделим-тестовую-часть\" data-toc-modified-id=\"Отделим-тестовую-часть-5.2\"><span class=\"toc-item-num\">5.2&nbsp;&nbsp;</span>Отделим тестовую часть</a></span></li></ul></li><li><span><a href=\"#Исследование-задачи\" data-toc-modified-id=\"Исследование-задачи-6\"><span class=\"toc-item-num\">6&nbsp;&nbsp;</span>Исследование задачи</a></span><ul class=\"toc-item\"><li><span><a href=\"#Подбор-базовой-модели\" data-toc-modified-id=\"Подбор-базовой-модели-6.1\"><span class=\"toc-item-num\">6.1&nbsp;&nbsp;</span>Подбор базовой модели</a></span></li><li><span><a href=\"#Подбор-гиперпараметров\" data-toc-modified-id=\"Подбор-гиперпараметров-6.2\"><span class=\"toc-item-num\">6.2&nbsp;&nbsp;</span>Подбор гиперпараметров</a></span><ul class=\"toc-item\"><li><span><a href=\"#Логистическая-регрессия\" data-toc-modified-id=\"Логистическая-регрессия-6.2.1\"><span class=\"toc-item-num\">6.2.1&nbsp;&nbsp;</span>Логистическая регрессия</a></span></li><li><span><a href=\"#Логистическая-регрессия-с-градиентным-спуском\" data-toc-modified-id=\"Логистическая-регрессия-с-градиентным-спуском-6.2.2\"><span class=\"toc-item-num\">6.2.2&nbsp;&nbsp;</span>Логистическая регрессия с градиентным спуском</a></span></li><li><span><a href=\"#Градиентный-бустинг\" data-toc-modified-id=\"Градиентный-бустинг-6.2.3\"><span class=\"toc-item-num\">6.2.3&nbsp;&nbsp;</span>Градиентный бустинг</a></span></li></ul></li><li><span><a href=\"#Выбор-лучшей-модели\" data-toc-modified-id=\"Выбор-лучшей-модели-6.3\"><span class=\"toc-item-num\">6.3&nbsp;&nbsp;</span>Выбор лучшей модели</a></span></li></ul></li><li><span><a href=\"#Тестирование-модели\" data-toc-modified-id=\"Тестирование-модели-7\"><span class=\"toc-item-num\">7&nbsp;&nbsp;</span>Тестирование модели</a></span><ul class=\"toc-item\"><li><span><a href=\"#Тестовые-признаки\" data-toc-modified-id=\"Тестовые-признаки-7.1\"><span class=\"toc-item-num\">7.1&nbsp;&nbsp;</span>Тестовые признаки</a></span></li><li><span><a href=\"#Градиентный-бустинг\" data-toc-modified-id=\"Градиентный-бустинг-7.2\"><span class=\"toc-item-num\">7.2&nbsp;&nbsp;</span>Градиентный бустинг</a></span><ul class=\"toc-item\"><li><span><a href=\"#Обучение-модели\" data-toc-modified-id=\"Обучение-модели-7.2.1\"><span class=\"toc-item-num\">7.2.1&nbsp;&nbsp;</span>Обучение модели</a></span></li><li><span><a href=\"#Проверка-модели\" data-toc-modified-id=\"Проверка-модели-7.2.2\"><span class=\"toc-item-num\">7.2.2&nbsp;&nbsp;</span>Проверка модели</a></span></li></ul></li><li><span><a href=\"#Логистическая-регрессия\" data-toc-modified-id=\"Логистическая-регрессия-7.3\"><span class=\"toc-item-num\">7.3&nbsp;&nbsp;</span>Логистическая регрессия</a></span><ul class=\"toc-item\"><li><span><a href=\"#Обучение-модели\" data-toc-modified-id=\"Обучение-модели-7.3.1\"><span class=\"toc-item-num\">7.3.1&nbsp;&nbsp;</span>Обучение модели</a></span></li><li><span><a href=\"#Проверка-модели\" data-toc-modified-id=\"Проверка-модели-7.3.2\"><span class=\"toc-item-num\">7.3.2&nbsp;&nbsp;</span>Проверка модели</a></span></li></ul></li><li><span><a href=\"#Рабочая-модель\" data-toc-modified-id=\"Рабочая-модель-7.4\"><span class=\"toc-item-num\">7.4&nbsp;&nbsp;</span>Рабочая модель</a></span></li><li><span><a href=\"#Проверка-модели-на-адекватность\" data-toc-modified-id=\"Проверка-модели-на-адекватность-7.5\"><span class=\"toc-item-num\">7.5&nbsp;&nbsp;</span>Проверка модели на адекватность</a></span></li></ul></li><li><span><a href=\"#Рабочий-код\" data-toc-modified-id=\"Рабочий-код-8\"><span class=\"toc-item-num\">8&nbsp;&nbsp;</span>Рабочий код</a></span></li><li><span><a href=\"#Общие-выводы\" data-toc-modified-id=\"Общие-выводы-9\"><span class=\"toc-item-num\">9&nbsp;&nbsp;</span>Общие выводы</a></span></li></ul></div>"
   ]
  },
  {
   "cell_type": "code",
   "execution_count": 1,
   "metadata": {
    "pycharm": {
     "name": "#%%\n"
    }
   },
   "outputs": [],
   "source": [
    "import time\n",
    "START_PROJECT = time.time()"
   ]
  },
  {
   "cell_type": "markdown",
   "metadata": {
    "pycharm": {
     "name": "#%% md\n"
    }
   },
   "source": [
    "# Классификация комментариев"
   ]
  },
  {
   "cell_type": "markdown",
   "metadata": {
    "pycharm": {
     "name": "#%% md\n"
    }
   },
   "source": [
    "Интернет-магазин «Викишоп» запускает новый сервис. Теперь пользователи могут редактировать и дополнять описания товаров, как в вики-сообществах. То есть клиенты предлагают свои правки и комментируют изменения других. Магазину нужен инструмент, который будет искать токсичные комментарии и отправлять их на модерацию. \n",
    "\n",
    "Обучите модель классифицировать комментарии на позитивные и негативные. В вашем распоряжении набор данных с разметкой о токсичности правок.\n",
    "\n",
    "Постройте модель со значением метрики качества *F1* не меньше 0.75. \n",
    "\n",
    "**Инструкция по выполнению проекта**\n",
    "\n",
    "1. Загрузите и подготовьте данные.\n",
    "2. Обучите разные модели. \n",
    "3. Сделайте выводы.\n",
    "\n",
    "Для выполнения проекта применять *BERT* необязательно, но вы можете попробовать.\n",
    "\n",
    "**Описание данных**\n",
    "\n",
    "Данные находятся в файле `toxic_comments.csv`. Столбец *text* в нём содержит текст комментария, а *toxic* — целевой признак."
   ]
  },
  {
   "cell_type": "markdown",
   "metadata": {
    "pycharm": {
     "name": "#%% md\n"
    }
   },
   "source": [
    "## Цель исследования"
   ]
  },
  {
   "cell_type": "markdown",
   "metadata": {
    "pycharm": {
     "name": "#%% md\n"
    }
   },
   "source": [
    "1. Создать модель, определяющую токсичные комментарии.\n",
    "1. Добиться показателей метрики модели F1 более 0.75 на тестовой выборке."
   ]
  },
  {
   "cell_type": "markdown",
   "metadata": {
    "pycharm": {
     "name": "#%% md\n"
    }
   },
   "source": [
    "## Исходные данные"
   ]
  },
  {
   "cell_type": "markdown",
   "metadata": {
    "pycharm": {
     "name": "#%% md\n"
    }
   },
   "source": [
    "### Подключаемые модули"
   ]
  },
  {
   "cell_type": "code",
   "execution_count": 2,
   "metadata": {
    "pycharm": {
     "name": "#%%\n"
    }
   },
   "outputs": [],
   "source": [
    "# Main\n",
    "# ---------------------------------------------------------------------\n",
    "import time\n",
    "import pandas as pd\n",
    "import numpy as np"
   ]
  },
  {
   "cell_type": "code",
   "execution_count": 3,
   "metadata": {
    "pycharm": {
     "name": "#%%\n"
    }
   },
   "outputs": [],
   "source": [
    "# Plotting\n",
    "# ---------------------------------------------------------------------\n",
    "import matplotlib.pyplot as plt\n",
    "from matplotlib.gridspec import GridSpec"
   ]
  },
  {
   "cell_type": "code",
   "execution_count": 4,
   "metadata": {
    "pycharm": {
     "name": "#%%\n"
    }
   },
   "outputs": [],
   "source": [
    "# gradient boosting\n",
    "# ---------------------------------------------------------------------\n",
    "from lightgbm import LGBMClassifier"
   ]
  },
  {
   "cell_type": "code",
   "execution_count": 5,
   "metadata": {
    "pycharm": {
     "name": "#%%\n"
    }
   },
   "outputs": [],
   "source": [
    "# sklearn\n",
    "# ---------------------------------------------------------------------\n",
    "from sklearn.tree import DecisionTreeClassifier\n",
    "from sklearn.ensemble import RandomForestClassifier\n",
    "from sklearn.linear_model import LogisticRegression\n",
    "from sklearn.linear_model import SGDClassifier\n",
    "\n",
    "from sklearn.dummy import DummyClassifier\n",
    "\n",
    "from sklearn.pipeline import Pipeline\n",
    "\n",
    "from sklearn.model_selection import train_test_split\n",
    "from sklearn.model_selection import cross_val_score\n",
    "from sklearn.model_selection import GridSearchCV\n",
    "\n",
    "from sklearn.metrics import f1_score\n",
    "from sklearn.metrics import ConfusionMatrixDisplay"
   ]
  },
  {
   "cell_type": "code",
   "execution_count": 6,
   "metadata": {
    "pycharm": {
     "name": "#%%\n"
    }
   },
   "outputs": [],
   "source": [
    "# texts\n",
    "import re\n",
    "\n",
    "import nltk\n",
    "from nltk.corpus import stopwords\n",
    "\n",
    "from sklearn.feature_extraction.text import CountVectorizer\n",
    "from sklearn.feature_extraction.text import TfidfVectorizer"
   ]
  },
  {
   "cell_type": "code",
   "execution_count": 7,
   "metadata": {
    "pycharm": {
     "name": "#%%\n"
    },
    "scrolled": true
   },
   "outputs": [
    {
     "name": "stdout",
     "output_type": "stream",
     "text": [
      "Requirement already satisfied: spacy in c:\\users\\project\\appdata\\local\\programs\\python\\python39\\lib\\site-packages (3.2.4)\n",
      "Requirement already satisfied: spacy-loggers<2.0.0,>=1.0.0 in c:\\users\\project\\appdata\\local\\programs\\python\\python39\\lib\\site-packages (from spacy) (1.0.2)\n",
      "Requirement already satisfied: requests<3.0.0,>=2.13.0 in c:\\users\\project\\appdata\\local\\programs\\python\\python39\\lib\\site-packages (from spacy) (2.26.0)\n",
      "Requirement already satisfied: cymem<2.1.0,>=2.0.2 in c:\\users\\project\\appdata\\local\\programs\\python\\python39\\lib\\site-packages (from spacy) (2.0.6)\n",
      "Requirement already satisfied: tqdm<5.0.0,>=4.38.0 in c:\\users\\project\\appdata\\local\\programs\\python\\python39\\lib\\site-packages (from spacy) (4.64.0)\n",
      "Requirement already satisfied: jinja2 in c:\\users\\project\\appdata\\local\\programs\\python\\python39\\lib\\site-packages (from spacy) (3.0.1)\n",
      "Requirement already satisfied: click<8.1.0 in c:\\users\\project\\appdata\\local\\programs\\python\\python39\\lib\\site-packages (from spacy) (8.0.4)\n",
      "Requirement already satisfied: pydantic!=1.8,!=1.8.1,<1.9.0,>=1.7.4 in c:\\users\\project\\appdata\\local\\programs\\python\\python39\\lib\\site-packages (from spacy) (1.8.2)\n",
      "Requirement already satisfied: typer<0.5.0,>=0.3.0 in c:\\users\\project\\appdata\\local\\programs\\python\\python39\\lib\\site-packages (from spacy) (0.4.1)\n",
      "Requirement already satisfied: spacy-legacy<3.1.0,>=3.0.8 in c:\\users\\project\\appdata\\local\\programs\\python\\python39\\lib\\site-packages (from spacy) (3.0.9)\n",
      "Requirement already satisfied: wasabi<1.1.0,>=0.8.1 in c:\\users\\project\\appdata\\local\\programs\\python\\python39\\lib\\site-packages (from spacy) (0.9.1)\n",
      "Requirement already satisfied: packaging>=20.0 in c:\\users\\project\\appdata\\local\\programs\\python\\python39\\lib\\site-packages (from spacy) (21.3)\n",
      "Requirement already satisfied: murmurhash<1.1.0,>=0.28.0 in c:\\users\\project\\appdata\\local\\programs\\python\\python39\\lib\\site-packages (from spacy) (1.0.6)\n",
      "Requirement already satisfied: blis<0.8.0,>=0.4.0 in c:\\users\\project\\appdata\\local\\programs\\python\\python39\\lib\\site-packages (from spacy) (0.7.7)\n",
      "Requirement already satisfied: setuptools in c:\\users\\project\\appdata\\local\\programs\\python\\python39\\lib\\site-packages (from spacy) (57.4.0)\n",
      "Requirement already satisfied: preshed<3.1.0,>=3.0.2 in c:\\users\\project\\appdata\\local\\programs\\python\\python39\\lib\\site-packages (from spacy) (3.0.6)\n",
      "Requirement already satisfied: srsly<3.0.0,>=2.4.1 in c:\\users\\project\\appdata\\local\\programs\\python\\python39\\lib\\site-packages (from spacy) (2.4.3)\n",
      "Requirement already satisfied: catalogue<2.1.0,>=2.0.6 in c:\\users\\project\\appdata\\local\\programs\\python\\python39\\lib\\site-packages (from spacy) (2.0.7)\n",
      "Requirement already satisfied: thinc<8.1.0,>=8.0.12 in c:\\users\\project\\appdata\\local\\programs\\python\\python39\\lib\\site-packages (from spacy) (8.0.15)\n",
      "Requirement already satisfied: langcodes<4.0.0,>=3.2.0 in c:\\users\\project\\appdata\\local\\programs\\python\\python39\\lib\\site-packages (from spacy) (3.3.0)\n",
      "Requirement already satisfied: numpy>=1.15.0 in c:\\users\\project\\appdata\\local\\programs\\python\\python39\\lib\\site-packages (from spacy) (1.21.2)\n",
      "Requirement already satisfied: pathy>=0.3.5 in c:\\users\\project\\appdata\\local\\programs\\python\\python39\\lib\\site-packages (from spacy) (0.6.1)\n",
      "Requirement already satisfied: colorama in c:\\users\\project\\appdata\\local\\programs\\python\\python39\\lib\\site-packages (from click<8.1.0->spacy) (0.4.4)\n",
      "Requirement already satisfied: pyparsing!=3.0.5,>=2.0.2 in c:\\users\\project\\appdata\\local\\programs\\python\\python39\\lib\\site-packages (from packaging>=20.0->spacy) (2.4.7)\n",
      "Requirement already satisfied: smart-open<6.0.0,>=5.0.0 in c:\\users\\project\\appdata\\local\\programs\\python\\python39\\lib\\site-packages (from pathy>=0.3.5->spacy) (5.2.1)\n",
      "Requirement already satisfied: typing-extensions>=3.7.4.3 in c:\\users\\project\\appdata\\local\\programs\\python\\python39\\lib\\site-packages (from pydantic!=1.8,!=1.8.1,<1.9.0,>=1.7.4->spacy) (4.1.1)\n",
      "Requirement already satisfied: charset-normalizer~=2.0.0 in c:\\users\\project\\appdata\\local\\programs\\python\\python39\\lib\\site-packages (from requests<3.0.0,>=2.13.0->spacy) (2.0.7)\n",
      "Requirement already satisfied: idna<4,>=2.5 in c:\\users\\project\\appdata\\local\\programs\\python\\python39\\lib\\site-packages (from requests<3.0.0,>=2.13.0->spacy) (3.3)\n",
      "Requirement already satisfied: certifi>=2017.4.17 in c:\\users\\project\\appdata\\local\\programs\\python\\python39\\lib\\site-packages (from requests<3.0.0,>=2.13.0->spacy) (2021.10.8)\n",
      "Requirement already satisfied: urllib3<1.27,>=1.21.1 in c:\\users\\project\\appdata\\local\\programs\\python\\python39\\lib\\site-packages (from requests<3.0.0,>=2.13.0->spacy) (1.26.7)\n",
      "Requirement already satisfied: MarkupSafe>=2.0 in c:\\users\\project\\appdata\\local\\programs\\python\\python39\\lib\\site-packages (from jinja2->spacy) (2.0.1)\n"
     ]
    }
   ],
   "source": [
    "# spaCy lemmatization\n",
    "\n",
    "# Install spaCy\n",
    "!pip install spacy\n",
    "\n",
    "#Importing required modules\n",
    "import spacy\n",
    "\n",
    "# Initialize spacy 'en' model, keeping only tagger component needed for lemmatization\n",
    "nlp = spacy.load('en_core_web_sm', disable=['parser', 'ner'])"
   ]
  },
  {
   "cell_type": "markdown",
   "metadata": {
    "pycharm": {
     "name": "#%% md\n"
    }
   },
   "source": [
    "### Общие параметры"
   ]
  },
  {
   "cell_type": "code",
   "execution_count": 9,
   "metadata": {
    "pycharm": {
     "name": "#%%\n"
    }
   },
   "outputs": [],
   "source": [
    "TABLE_SIZE = 100\n",
    "YANDEX_STORAGE = None\n",
    "TARGET_COL = 'toxic'"
   ]
  },
  {
   "cell_type": "markdown",
   "metadata": {
    "pycharm": {
     "name": "#%% md\n"
    }
   },
   "source": [
    "### Функции"
   ]
  },
  {
   "cell_type": "markdown",
   "metadata": {
    "pycharm": {
     "name": "#%% md\n"
    }
   },
   "source": [
    "Инструменты"
   ]
  },
  {
   "cell_type": "code",
   "execution_count": 10,
   "metadata": {
    "pycharm": {
     "name": "#%%\n"
    }
   },
   "outputs": [],
   "source": [
    "# формат текста для output\n",
    "class text:\n",
    "    END = '\\x1b[0m'\n",
    "    BOLD = '\\x1b[1m'\n",
    "    \n",
    "    UNDERLINE = '\\x1b[4m'\n",
    "    \n",
    "    NEGATIVE = '\\x1b[7m'\n",
    "\n",
    "    GREY = '\\x1b[30m'\n",
    "    RED = '\\x1b[31m'\n",
    "    GREEN = '\\x1b[32m'\n",
    "    YELLOW = '\\x1b[33m'\n",
    "    BLUE = '\\x1b[34m'\n",
    "    PURPLE = '\\x1b[35m'\n",
    "    CYAN = '\\x1b[36m'\n",
    "    SILVER = '\\x1b[37m'\n",
    "    BLACK = '\\x1b[39m'\n",
    "    \n",
    "    BG_GREY = '\\x1b[40m'\n",
    "    BG_RED = '\\x1b[41m'\n",
    "    BG_GREEN = '\\x1b[42m'\n",
    "    BG_YELLOW = '\\x1b[43m'\n",
    "    BG_BLUE = '\\x1b[44m'\n",
    "    BG_PURPLE = '\\x1b[45m'\n",
    "    BG_CYAN = '\\x1b[46m'\n",
    "    BG_SILVER = '\\x1b[47m'\n",
    "    \n",
    "    DARKGREY = '\\x1b[90m'\n",
    "    DARKRED = '\\x1b[91m'\n",
    "    DARKGREEN = '\\x1b[92m'\n",
    "    DARKYELLOW = '\\x1b[93m'\n",
    "    DARKBLUE = '\\x1b[94m'\n",
    "    DARKPURPLE = '\\x1b[95m'\n",
    "    DARKCYAN = '\\x1b[96m'\n",
    "    DARKSILVER = '\\x1b[97m'\n",
    "    \n",
    "    BG_DARKGREY = '\\x1b[100m'\n",
    "    BG_DARKRED = '\\x1b[101m'\n",
    "    BG_DARKGREEN = '\\x1b[102m'\n",
    "    BG_DARKYELLOW = '\\x1b[103m'\n",
    "    BG_DARKBLUE = '\\x1b[104m'\n",
    "    BG_DARKPURPLE = '\\x1b[105m'\n",
    "    BG_DARKCYAN = '\\x1b[106m'\n",
    "    BG_DARKSILVER = '\\x1b[107m'\n",
    "    \n",
    "    END_B = '\\x1b[21m'\n",
    "    END_U = '\\x1b[24m'\n",
    "    END_NEGATIVE = '\\x1b[27m'\n",
    "    END_C = '\\x1b[39m'\n",
    "    END_BG = '\\x1b[49m'"
   ]
  },
  {
   "cell_type": "code",
   "execution_count": 11,
   "metadata": {
    "pycharm": {
     "name": "#%%\n"
    }
   },
   "outputs": [],
   "source": [
    "def rename_pipeline_params(params_pipeline):\n",
    "    result = {}\n",
    "    for p, val in params_pipeline.items():\n",
    "        param = p.split('__')[1]\n",
    "        result[param] = val\n",
    "    return result"
   ]
  },
  {
   "cell_type": "markdown",
   "metadata": {
    "pycharm": {
     "name": "#%% md\n"
    }
   },
   "source": [
    "Информирование"
   ]
  },
  {
   "cell_type": "code",
   "execution_count": 12,
   "metadata": {
    "pycharm": {
     "name": "#%%\n"
    }
   },
   "outputs": [],
   "source": [
    "# вывод таблицы описания данных\n",
    "def print_description(df):\n",
    "    len_index = max([len(i) for i in df])\n",
    "    for ind, name in enumerate(df):\n",
    "        end = '' if len(description[name]) < TABLE_SIZE else '...'\n",
    "        print(f'{str(ind).ljust(3)} {name.ljust(len_index)} - {description[name][:TABLE_SIZE]}{end}')"
   ]
  },
  {
   "cell_type": "code",
   "execution_count": 13,
   "metadata": {
    "pycharm": {
     "name": "#%%\n"
    }
   },
   "outputs": [],
   "source": [
    "# общая информация об исходной таблице\n",
    "def start_information(df):\n",
    "    result = []\n",
    "    for col in df:\n",
    "        result.append([\n",
    "            col, df[col].count(), df[col].isna().sum(),\n",
    "            df[col].dtype, df[col].nunique(), df[col].sample(10).values,\n",
    "        ])\n",
    "        if str(df[col].dtype)[:3] in ('intflo'):\n",
    "            result[-1].extend([df[col].min(), df[col].max()])\n",
    "        else:\n",
    "            result[-1].extend(['-', '-'])\n",
    "        result[-1].append(description[col])\n",
    "    \n",
    "    res = pd.DataFrame(result, columns=['Name', 'Count', 'NA', 'Type', 'Unique', 'Sample', 'min', 'max', 'description'])\n",
    "    res.index = res['Name']\n",
    "    res = res.drop('Name', axis=1)\n",
    "    display(res)\n",
    "    print(f'Размер таблицы: {text.BOLD} {df.shape} {text.END}')\n",
    "    print(f'Целевой признак: {text.BOLD} {TARGET_COL} {text.END}')"
   ]
  },
  {
   "cell_type": "code",
   "execution_count": 14,
   "metadata": {
    "pycharm": {
     "name": "#%%\n"
    }
   },
   "outputs": [],
   "source": [
    "# остаток данных\n",
    "def show_remains(data):\n",
    "    display((pd.DataFrame(data.shape, columns=['остаток']).T / original_shape).rename(columns={0:'Строк', 1:'Столбцов'}).style.format({'Строк': '{:.1%}', 'Столбцов': '{:.1%}'}))"
   ]
  },
  {
   "cell_type": "markdown",
   "metadata": {
    "pycharm": {
     "name": "#%% md\n"
    }
   },
   "source": [
    "Презентации"
   ]
  },
  {
   "cell_type": "code",
   "execution_count": 15,
   "metadata": {
    "pycharm": {
     "name": "#%%\n"
    }
   },
   "outputs": [],
   "source": [
    "def hist_box_describe(df, col, subtitle='', xlabel=None, ylabel=None, data=None, bins=None, figsize=(8, 8), **kwargs):\n",
    "    if type(data) == type(None):\n",
    "        data = df[col]\n",
    "    if xlabel == None:\n",
    "        try:\n",
    "            xlabel = description[col]\n",
    "        except:\n",
    "            pass\n",
    "    if bins == None:\n",
    "        bins = data.nunique()\n",
    "    \n",
    "    fig = plt.figure()\n",
    "    \n",
    "    # Разделение fig на зоны разных размеров:\n",
    "    gs1 = GridSpec(5, 1, left=0.05, right=0.95, hspace=0.03)\n",
    "    # (y, x) - размеры сетки (высота, ширина)\n",
    "    # left - расположние левой границы всей сетки (топа margin)\n",
    "    # right - расположние правой границы всей сетки (топа margin)\n",
    "    # wspace, hspace - зазоры между графиками (вертикальный, горизонтальный)\n",
    "    ax1 = fig.add_subplot(gs1[:1, :]) # (срез по Y, срез по X)\n",
    "    ax2 = fig.add_subplot(gs1[1:, :])\n",
    "    \n",
    "    # Построение графиков:\n",
    "    data.plot(ax=ax1, kind='box', vert=False, widths=0.6, **kwargs)\n",
    "    data.plot(ax=ax2, kind='hist', grid=True, bins=bins, **kwargs)\n",
    "    \n",
    "    # Различные настройки графиков:\n",
    "    fig.set_figwidth(figsize[0])\n",
    "    fig.set_figheight(figsize[1])\n",
    "    #fig.suptitle(f'Распределение показателя \"{xlabel}\"', fontsize = 16)\n",
    "    \n",
    "    ax1.xaxis.tick_top()\n",
    "    ax2.minorticks_on()\n",
    "    ax2.grid(which='major',\n",
    "            color = 'grey', \n",
    "            linewidth = 1.2)\n",
    "    ax2.grid(which='minor', \n",
    "            color = 'grey', \n",
    "            linestyle = ':')\n",
    "    \n",
    "    ax1.set_yticklabels([''])\n",
    "    ax2.set_xlabel(xlabel, fontsize = 14)\n",
    "    ax2.set_ylabel('Количество значений', fontsize = 14)\n",
    "    ax1.tick_params(labelsize = 12)\n",
    "    ax2.tick_params(labelsize = 12)\n",
    "    ax1.set_title(f'Распределение показателя \"{xlabel}\"{subtitle}', pad=15, fontsize = 16)\n",
    "\n",
    "    x = ax2.get_xbound()\n",
    "    y = ax2.get_ybound()\n",
    "    x_coord = x[0] + (x[1]-x[0])/figsize[0]*figsize[1]*0.03 if data.mean() < data.quantile(0.5) else x[1] - (x[1]-x[0])/figsize[0]*figsize[1]*0.29\n",
    "    y_coord = y[1] - (y[1]-y[0])*0.35\n",
    "    ax2.text(x_coord, y_coord, str(data.describe()),\n",
    "        rotation = 0,\n",
    "        fontsize = figsize[1]*1.2,\n",
    "        bbox = {'facecolor':'white', 'boxstyle': 'round', 'pad': 1}\n",
    "            )"
   ]
  },
  {
   "cell_type": "markdown",
   "metadata": {
    "pycharm": {
     "name": "#%% md\n"
    }
   },
   "source": [
    "Машинное обучение:"
   ]
  },
  {
   "cell_type": "code",
   "execution_count": 16,
   "metadata": {
    "pycharm": {
     "name": "#%%\n"
    }
   },
   "outputs": [],
   "source": [
    "# выделение целевого признака:\n",
    "def xy_split(data, target_column):\n",
    "    return data.drop(columns=[target_column], axis=1), data[target_column]"
   ]
  },
  {
   "cell_type": "code",
   "execution_count": 17,
   "metadata": {
    "pycharm": {
     "name": "#%%\n"
    }
   },
   "outputs": [],
   "source": [
    "# выделение целевого признака:\n",
    "def research_test_split(df, test_size=0.2, random_state=12345):\n",
    "    df_research, df_test = train_test_split(df, test_size=test_size, random_state=random_state)\n",
    "    print()\n",
    "    display(pd.DataFrame({\n",
    "        'Выборка:': ['Исследовательская', 'Тестовая'],\n",
    "        'Количество значений:': [df_research.shape[0], df_test.shape[0]],\n",
    "        'Доля выборки:': [df_research.shape[0] / df.shape[0], df_test.shape[0] / df.shape[0]]\n",
    "            }).style.format({'Количество значений': '{:.0f}', 'Доля выборки:': '{:.2%}'})\n",
    "         )\n",
    "    return df_research, df_test"
   ]
  },
  {
   "cell_type": "code",
   "execution_count": 18,
   "metadata": {
    "pycharm": {
     "name": "#%%\n"
    }
   },
   "outputs": [],
   "source": [
    "#gscv.cv_results_\n",
    "def grid_search_cv(X, y, model, parameters, scoring=None, cv=5, plot=False):\n",
    "    verbose = (0, 3)[plot]\n",
    "    gscv = GridSearchCV(model, parameters, scoring=scoring, cv=cv, n_jobs=-1, verbose=verbose)\n",
    "    gscv.fit(X, y)\n",
    "    results = {\n",
    "        'iterations': len(gscv.cv_results_['params']),\n",
    "        'score': gscv.best_score_,\n",
    "        'parameters': gscv.best_params_\n",
    "    }\n",
    "    return results"
   ]
  },
  {
   "cell_type": "code",
   "execution_count": 19,
   "metadata": {
    "pycharm": {
     "name": "#%%\n"
    }
   },
   "outputs": [],
   "source": [
    "# Рабочая версия с обработкой Pipeline\n",
    "# Проходит не по всей сетке, а пока растет значение метрики (Бейесовская оптимизация).\n",
    "# Если метрика не растет на протажении хвоста (max_tail) цикл заканчивается\n",
    "# На вход подается Класс модели, исследуемые гиперапараметры в виде словаря\n",
    "# Работает быстрее, чем GridSearchCV\n",
    "def ascending_grid(df_features, df_target, func, parameters, scoring=None, plot=False, subtitle='', max_tail=None, cv=5, n_jobs=-1, **kwargs):\n",
    "    #cv = 5 #при значении 5 результаты отличаются от результатов при значении > 10 ! но по умолчанию в cross_val_score стоит 5, поэтому оставим по умоланию 5\n",
    "    steps = 100\n",
    "    iterator = 0\n",
    "    best_score = -1_000_000\n",
    "    best_param = parameters\n",
    "    tail = 0\n",
    "    if max_tail == None:\n",
    "        max_tail = 1 if 5 - len(parameters) < 1 else 5 - len(parameters)\n",
    "    \n",
    "    param = list(parameters.keys())[0]\n",
    "    start = parameters[param][0]\n",
    "    sep = parameters[param][1]\n",
    "    \n",
    "    if len(parameters) == 1:\n",
    "        for p in np.arange(start, start+steps*sep, sep):\n",
    "            set_param = {param: p}\n",
    "            if type(func) == Pipeline:\n",
    "                model = func\n",
    "                model_name = model.get_params().get(\"steps\")[-1][0]\n",
    "                # Гиперпараметры (стандартные random_state=123, n_jobs=n_jobs задаются извне):\n",
    "                # Текущая настройка\n",
    "                model.set_params(**{model_name+'__'+param: p})\n",
    "                # **kwargs\n",
    "                params_temp = {}\n",
    "                for key, val in kwargs.items():\n",
    "                    params_temp[model_name+'__'+key] = val\n",
    "                model.set_params(**params_temp)\n",
    "            else:\n",
    "                model = func(random_state=123, n_jobs=n_jobs, **set_param, **kwargs)\n",
    "            scores = cross_val_score(model, df_features, df_target, scoring=scoring, cv=cv)\n",
    "            score = scores.mean()\n",
    "            iterator += len(scores)\n",
    "            if plot:\n",
    "                print(f'{p} >>> {set_param} {kwargs} - {score:.4f}')\n",
    "\n",
    "            if score > best_score:\n",
    "                best_score = score\n",
    "                set_param.update(kwargs)\n",
    "                best_param = set_param\n",
    "                tail = 0\n",
    "            else:\n",
    "                tail += 1\n",
    "            if tail >= max_tail:\n",
    "                break\n",
    "    else:\n",
    "        # рекурсия\n",
    "        parameters_minus = parameters.copy()\n",
    "        del parameters_minus[param]\n",
    "        for p in np.arange(start, start+steps*sep, sep):\n",
    "            set_param = {param: p}\n",
    "            result = ascending_grid(df_features, df_target, func, parameters_minus,\n",
    "                                    scoring=scoring, plot=plot, subtitle=subtitle, max_tail=max_tail, cv=cv,\n",
    "                                    **set_param, **kwargs)\n",
    "            iterator += result['iterations']\n",
    "            score = result['score']\n",
    "            \n",
    "            # Сокращение нижней границы поиска (предыдущее лучшее минус 2 промежутка)\n",
    "            for key in result['parameters'].keys():\n",
    "                try:\n",
    "                    new_start = result['parameters'][key] - parameters_minus[key][1]*2\n",
    "                    if parameters_minus[key][0] < new_start:\n",
    "                        parameters_minus[key][0] = result['parameters'][key] - parameters_minus[key][1] * (max_tail + 1)\n",
    "                except:\n",
    "                    pass\n",
    "            \n",
    "            if score > best_score:\n",
    "                best_score = score\n",
    "                best_param = result['parameters']\n",
    "                tail = 0\n",
    "            else:\n",
    "                tail += 1\n",
    "            if tail >= max_tail:\n",
    "                break\n",
    "        \n",
    "        if plot:\n",
    "            print('best_score =', best_score)\n",
    "            print('best_param =', best_param)\n",
    "    if plot:\n",
    "        print('-'*TABLE_SIZE)\n",
    "    return ({'iterations': iterator, 'score':best_score, 'parameters':best_param})"
   ]
  },
  {
   "cell_type": "code",
   "execution_count": 20,
   "metadata": {
    "pycharm": {
     "name": "#%%\n"
    }
   },
   "outputs": [],
   "source": [
    "# Кросс-валидация с результатом для одной модели\n",
    "def cross_val_base(model_name, model, X, y, scoring, print_res=True):\n",
    "    time_start = time.time()\n",
    "    scores = cross_val_score(model, X, y, scoring=scoring, cv=5)\n",
    "    if print_res:\n",
    "        print(f'Среднее значение метрики {scoring} для базовой модели {text.BOLD}{model_name}:\\n{text.BG_SILVER} {scoring} = {scores.mean():.4f} {text.END}')\n",
    "        print('-'*TABLE_SIZE)\n",
    "        return\n",
    "    return (model_name, scores.mean(), time.time() - time_start)"
   ]
  },
  {
   "cell_type": "code",
   "execution_count": 21,
   "metadata": {
    "pycharm": {
     "name": "#%%\n"
    }
   },
   "outputs": [],
   "source": [
    "# вывод таблицы сравнения\n",
    "def get_selection_model_results(results, score_name = 'Score'):\n",
    "    res = pd.DataFrame(results, columns = ['Model', score_name, 'Time']).sort_values(by=score_name, ascending=False)\n",
    "    \n",
    "    res['rating_score'] = res.apply(\n",
    "        lambda row: round((row[score_name] - res[score_name].min()) / (res[score_name].max() - res[score_name].min()), 3)\n",
    "        , axis=1)\n",
    "    res['rating_time'] = res.apply(\n",
    "        lambda row: round(-(row['Time'] - res['Time'].min()) / (res['Time'].max() - res['Time'].min()), 3)\n",
    "        , axis=1)\n",
    "    res['rating_total'] = res['rating_score'] + res['rating_time']\n",
    "    \n",
    "    return res"
   ]
  },
  {
   "cell_type": "markdown",
   "metadata": {
    "pycharm": {
     "name": "#%% md\n"
    }
   },
   "source": [
    "## Получение данных"
   ]
  },
  {
   "cell_type": "markdown",
   "metadata": {
    "pycharm": {
     "name": "#%% md\n"
    }
   },
   "source": [
    "### Чтение данных из файла"
   ]
  },
  {
   "cell_type": "code",
   "execution_count": 22,
   "metadata": {
    "pycharm": {
     "name": "#%%\n"
    }
   },
   "outputs": [],
   "source": [
    "file = 'toxic_comments.csv'"
   ]
  },
  {
   "cell_type": "code",
   "execution_count": 23,
   "metadata": {
    "pycharm": {
     "name": "#%%\n"
    }
   },
   "outputs": [],
   "source": [
    "df = pd.read_csv(f'{YANDEX_STORAGE}{file}')"
   ]
  },
  {
   "cell_type": "markdown",
   "metadata": {
    "pycharm": {
     "name": "#%% md\n"
    }
   },
   "source": [
    "### Описание данных"
   ]
  },
  {
   "cell_type": "markdown",
   "metadata": {
    "pycharm": {
     "name": "#%% md\n"
    }
   },
   "source": [
    "Создадим словарь описания данных на основании предоставленного описания"
   ]
  },
  {
   "cell_type": "code",
   "execution_count": 24,
   "metadata": {
    "pycharm": {
     "name": "#%%\n"
    }
   },
   "outputs": [],
   "source": [
    "# Создадим словарь описания данных\n",
    "description = {\n",
    "    'text' : 'текст комментария',\n",
    "    'toxic' : 'токсичность комментария',\n",
    "}"
   ]
  },
  {
   "cell_type": "markdown",
   "metadata": {
    "pycharm": {
     "name": "#%% md\n"
    }
   },
   "source": [
    "Выведем словарь описания данных"
   ]
  },
  {
   "cell_type": "code",
   "execution_count": 25,
   "metadata": {
    "pycharm": {
     "name": "#%%\n"
    }
   },
   "outputs": [
    {
     "name": "stdout",
     "output_type": "stream",
     "text": [
      "0   text  - текст комментария\n",
      "1   toxic - токсичность комментария\n"
     ]
    }
   ],
   "source": [
    "print_description(df)"
   ]
  },
  {
   "cell_type": "markdown",
   "metadata": {
    "pycharm": {
     "name": "#%% md\n"
    }
   },
   "source": [
    "### Общая информация"
   ]
  },
  {
   "cell_type": "code",
   "execution_count": 26,
   "metadata": {
    "pycharm": {
     "name": "#%%\n"
    }
   },
   "outputs": [
    {
     "data": {
      "text/html": [
       "<div>\n",
       "<style scoped>\n",
       "    .dataframe tbody tr th:only-of-type {\n",
       "        vertical-align: middle;\n",
       "    }\n",
       "\n",
       "    .dataframe tbody tr th {\n",
       "        vertical-align: top;\n",
       "    }\n",
       "\n",
       "    .dataframe thead th {\n",
       "        text-align: right;\n",
       "    }\n",
       "</style>\n",
       "<table border=\"1\" class=\"dataframe\">\n",
       "  <thead>\n",
       "    <tr style=\"text-align: right;\">\n",
       "      <th></th>\n",
       "      <th>Count</th>\n",
       "      <th>NA</th>\n",
       "      <th>Type</th>\n",
       "      <th>Unique</th>\n",
       "      <th>Sample</th>\n",
       "      <th>min</th>\n",
       "      <th>max</th>\n",
       "      <th>description</th>\n",
       "    </tr>\n",
       "    <tr>\n",
       "      <th>Name</th>\n",
       "      <th></th>\n",
       "      <th></th>\n",
       "      <th></th>\n",
       "      <th></th>\n",
       "      <th></th>\n",
       "      <th></th>\n",
       "      <th></th>\n",
       "      <th></th>\n",
       "    </tr>\n",
       "  </thead>\n",
       "  <tbody>\n",
       "    <tr>\n",
       "      <th>text</th>\n",
       "      <td>159571</td>\n",
       "      <td>0</td>\n",
       "      <td>object</td>\n",
       "      <td>159571</td>\n",
       "      <td>[yes that is good, kill ic and just use icor.,...</td>\n",
       "      <td>-</td>\n",
       "      <td>-</td>\n",
       "      <td>текст комментария</td>\n",
       "    </tr>\n",
       "    <tr>\n",
       "      <th>toxic</th>\n",
       "      <td>159571</td>\n",
       "      <td>0</td>\n",
       "      <td>int64</td>\n",
       "      <td>2</td>\n",
       "      <td>[0, 1, 0, 0, 0, 0, 0, 0, 0, 0]</td>\n",
       "      <td>0</td>\n",
       "      <td>1</td>\n",
       "      <td>токсичность комментария</td>\n",
       "    </tr>\n",
       "  </tbody>\n",
       "</table>\n",
       "</div>"
      ],
      "text/plain": [
       "        Count  NA    Type  Unique  \\\n",
       "Name                                \n",
       "text   159571   0  object  159571   \n",
       "toxic  159571   0   int64       2   \n",
       "\n",
       "                                                  Sample min max  \\\n",
       "Name                                                               \n",
       "text   [yes that is good, kill ic and just use icor.,...   -   -   \n",
       "toxic                     [0, 1, 0, 0, 0, 0, 0, 0, 0, 0]   0   1   \n",
       "\n",
       "                   description  \n",
       "Name                            \n",
       "text         текст комментария  \n",
       "toxic  токсичность комментария  "
      ]
     },
     "metadata": {},
     "output_type": "display_data"
    },
    {
     "name": "stdout",
     "output_type": "stream",
     "text": [
      "Размер таблицы: \u001b[1m (159571, 2) \u001b[0m\n",
      "Целевой признак: \u001b[1m toxic \u001b[0m\n"
     ]
    }
   ],
   "source": [
    "start_information(df)"
   ]
  },
  {
   "cell_type": "code",
   "execution_count": 27,
   "metadata": {
    "pycharm": {
     "name": "#%%\n"
    }
   },
   "outputs": [],
   "source": [
    "# Исходный размер таблицы:\n",
    "original_shape = df.shape"
   ]
  },
  {
   "cell_type": "markdown",
   "metadata": {
    "pycharm": {
     "name": "#%% md\n"
    }
   },
   "source": [
    "### Выводы"
   ]
  },
  {
   "cell_type": "markdown",
   "metadata": {
    "pycharm": {
     "name": "#%% md\n"
    }
   },
   "source": [
    "В таблице данных\n",
    "**`159 571` строк и `2` колонки**\n",
    "\n",
    "---\n",
    "---\n",
    "\n",
    "Данные представляют из себя коменнтарии к описанию товара интернет магазина и информацию об оценке комментария (позитивный/негативный).\n",
    "\n",
    "**СТРУКТУРА ДАННЫХ:**\n",
    "\n",
    "1. Названия колонок в правильной форме (змеиный регистр)\n",
    "2. Явных дубликатов нет, поскольку количество уникальных значений комментариев = количеству записей\n",
    "3. Пропуски в данных отстутствуют\n",
    "\n",
    "\n",
    "4. По **`типам данных`** колонки можно ***разделить***:\n",
    "    - **Текстовые:** текст комментария [text]\n",
    "    - **Булевые:** является ли комментарий позитвным [toxic]\n",
    "\n",
    "\n",
    "5. **`Типы данных`** соттветствуют содержимому\n",
    "\n",
    "7. Смыслове (логические) взаимосвязи не наблюдаются\n"
   ]
  },
  {
   "cell_type": "markdown",
   "metadata": {
    "pycharm": {
     "name": "#%% md\n"
    }
   },
   "source": [
    "Данные не нуждаются в предобработке, поэтому перейдем сразу к анализу."
   ]
  },
  {
   "cell_type": "markdown",
   "metadata": {
    "pycharm": {
     "name": "#%% md\n"
    }
   },
   "source": [
    "## Анализ данных"
   ]
  },
  {
   "cell_type": "markdown",
   "metadata": {
    "pycharm": {
     "name": "#%% md\n"
    }
   },
   "source": [
    "Создадим обработанный набор данных:"
   ]
  },
  {
   "cell_type": "code",
   "execution_count": 28,
   "metadata": {
    "pycharm": {
     "name": "#%%\n"
    }
   },
   "outputs": [],
   "source": [
    "df_clean = df.copy()"
   ]
  },
  {
   "cell_type": "markdown",
   "metadata": {
    "pycharm": {
     "name": "#%% md\n"
    }
   },
   "source": [
    "**На следующищ этапах формируется набор `df_clean`**"
   ]
  },
  {
   "cell_type": "markdown",
   "metadata": {
    "pycharm": {
     "name": "#%% md\n"
    }
   },
   "source": [
    "Сохраним оригинальный набор исходных данных (не будем проводить какие-либо изменения в нем)."
   ]
  },
  {
   "cell_type": "markdown",
   "metadata": {
    "pycharm": {
     "name": "#%% md\n"
    }
   },
   "source": [
    "### Длина текста"
   ]
  },
  {
   "cell_type": "markdown",
   "metadata": {
    "pycharm": {
     "name": "#%% md\n"
    }
   },
   "source": [
    "Добавим данные по длине текста комментария и проанализируем их:"
   ]
  },
  {
   "cell_type": "code",
   "execution_count": 29,
   "metadata": {
    "pycharm": {
     "name": "#%%\n"
    }
   },
   "outputs": [],
   "source": [
    "df_clean['text_len'] = df_clean['text'].apply(len)\n",
    "description['text_len'] = 'Количество символов в тексте'"
   ]
  },
  {
   "cell_type": "code",
   "execution_count": 30,
   "metadata": {
    "pycharm": {
     "name": "#%%\n"
    }
   },
   "outputs": [
    {
     "data": {
      "image/png": "[encoded data removed]",
      "text/plain": [
       "<Figure size 576x576 with 2 Axes>"
      ]
     },
     "metadata": {
      "needs_background": "light"
     },
     "output_type": "display_data"
    }
   ],
   "source": [
    "hist_box_describe(df_clean, 'text_len',bins=100)"
   ]
  },
  {
   "cell_type": "markdown",
   "metadata": {
    "pycharm": {
     "name": "#%% md\n"
    }
   },
   "source": [
    "**Вывод:**\n",
    "\n",
    "- Диапазон значений приемлимый.\n",
    "- Минимальное число символов в тексте комментария составляет **6**\n",
    "- Максимальное число символов в тексте комментария составляет **5000**\n",
    "- Среднее число (медиана) символов в тексте комментария составляет **205**\n",
    "- Распределение Пуассона."
   ]
  },
  {
   "cell_type": "markdown",
   "metadata": {
    "pycharm": {
     "name": "#%% md\n"
    }
   },
   "source": [
    "### Оценка дисбаланса"
   ]
  },
  {
   "cell_type": "markdown",
   "metadata": {
    "pycharm": {
     "name": "#%% md\n"
    }
   },
   "source": [
    "Проверим распределение значений по целевому признаку."
   ]
  },
  {
   "cell_type": "code",
   "execution_count": 31,
   "metadata": {
    "pycharm": {
     "name": "#%%\n"
    }
   },
   "outputs": [
    {
     "data": {
      "text/html": [
       "<style type=\"text/css\">\n",
       "</style>\n",
       "<table id=\"T_a0393_\">\n",
       "  <thead>\n",
       "    <tr>\n",
       "      <th class=\"blank level0\" >&nbsp;</th>\n",
       "      <th class=\"col_heading level0 col0\" >Кол-во значений</th>\n",
       "      <th class=\"col_heading level0 col1\" >Процент распределения</th>\n",
       "    </tr>\n",
       "  </thead>\n",
       "  <tbody>\n",
       "    <tr>\n",
       "      <th id=\"T_a0393_level0_row0\" class=\"row_heading level0 row0\" >0</th>\n",
       "      <td id=\"T_a0393_row0_col0\" class=\"data row0 col0\" >143346</td>\n",
       "      <td id=\"T_a0393_row0_col1\" class=\"data row0 col1\" >89.83%</td>\n",
       "    </tr>\n",
       "    <tr>\n",
       "      <th id=\"T_a0393_level0_row1\" class=\"row_heading level0 row1\" >1</th>\n",
       "      <td id=\"T_a0393_row1_col0\" class=\"data row1 col0\" >16225</td>\n",
       "      <td id=\"T_a0393_row1_col1\" class=\"data row1 col1\" >10.17%</td>\n",
       "    </tr>\n",
       "  </tbody>\n",
       "</table>\n"
      ],
      "text/plain": [
       "<pandas.io.formats.style.Styler at 0x20d40013b20>"
      ]
     },
     "execution_count": 31,
     "metadata": {},
     "output_type": "execute_result"
    }
   ],
   "source": [
    "pd.concat([df[TARGET_COL].value_counts().rename('Кол-во значений'), df[TARGET_COL].value_counts(normalize=True).rename('Процент распределения')], axis=1).style.format({'Процент распределения':'{:.2%}'})"
   ]
  },
  {
   "cell_type": "markdown",
   "metadata": {
    "pycharm": {
     "name": "#%% md\n"
    }
   },
   "source": [
    "Данные перекошены в сторону нулевого признака.\n",
    "\n",
    "Данных с положительными целевым признаком в **9 раз** меньше данных с отрицательным целевым признаком."
   ]
  },
  {
   "cell_type": "markdown",
   "metadata": {
    "pycharm": {
     "name": "#%% md\n"
    }
   },
   "source": [
    "Воспользуемся методами выравнивания дисбаланса:\n",
    "1. Параметр **class_weight='balanced'** для модели\n"
   ]
  },
  {
   "cell_type": "markdown",
   "metadata": {
    "pycharm": {
     "name": "#%% md\n"
    }
   },
   "source": [
    "### Вывод по анализу данных"
   ]
  },
  {
   "cell_type": "markdown",
   "metadata": {
    "pycharm": {
     "name": "#%% md\n"
    }
   },
   "source": [
    "1. Число символов в комментариях имеют допустимые значения\n",
    "1. Имеется дисбалланс классов (0/1 = 1/9).\n",
    "1. Данные сохранены на 100%."
   ]
  },
  {
   "cell_type": "code",
   "execution_count": 32,
   "metadata": {
    "pycharm": {
     "name": "#%%\n"
    },
    "scrolled": true
   },
   "outputs": [
    {
     "data": {
      "text/html": [
       "<style type=\"text/css\">\n",
       "</style>\n",
       "<table id=\"T_55063_\">\n",
       "  <thead>\n",
       "    <tr>\n",
       "      <th class=\"blank level0\" >&nbsp;</th>\n",
       "      <th class=\"col_heading level0 col0\" >Строк</th>\n",
       "      <th class=\"col_heading level0 col1\" >Столбцов</th>\n",
       "    </tr>\n",
       "  </thead>\n",
       "  <tbody>\n",
       "    <tr>\n",
       "      <th id=\"T_55063_level0_row0\" class=\"row_heading level0 row0\" >остаток</th>\n",
       "      <td id=\"T_55063_row0_col0\" class=\"data row0 col0\" >100.0%</td>\n",
       "      <td id=\"T_55063_row0_col1\" class=\"data row0 col1\" >150.0%</td>\n",
       "    </tr>\n",
       "  </tbody>\n",
       "</table>\n"
      ],
      "text/plain": [
       "<pandas.io.formats.style.Styler at 0x20d4005cdc0>"
      ]
     },
     "metadata": {},
     "output_type": "display_data"
    }
   ],
   "source": [
    "show_remains(df_clean)"
   ]
  },
  {
   "cell_type": "markdown",
   "metadata": {
    "pycharm": {
     "name": "#%% md\n"
    }
   },
   "source": [
    "## Подготовка данных"
   ]
  },
  {
   "cell_type": "markdown",
   "metadata": {
    "pycharm": {
     "name": "#%% md\n"
    }
   },
   "source": [
    "### Функция подготовки данных"
   ]
  },
  {
   "cell_type": "markdown",
   "metadata": {
    "pycharm": {
     "name": "#%% md\n"
    }
   },
   "source": [
    "Произведем лемматизацию и очистку текста"
   ]
  },
  {
   "cell_type": "markdown",
   "metadata": {
    "pycharm": {
     "name": "#%% md\n"
    }
   },
   "source": [
    "\\* *В сравнении spaCy и WordNetLemmatizer - spaCy дала лучшие результаты на базовых моделях. Применим spaCy*"
   ]
  },
  {
   "cell_type": "code",
   "execution_count": 33,
   "metadata": {
    "pycharm": {
     "name": "#%%\n"
    }
   },
   "outputs": [],
   "source": [
    "def lemmatize(text):\n",
    "    doc = nlp(text)\n",
    "    return \" \".join([token.lemma_ for token in doc])"
   ]
  },
  {
   "cell_type": "code",
   "execution_count": 34,
   "metadata": {
    "pycharm": {
     "name": "#%%\n"
    }
   },
   "outputs": [],
   "source": [
    "def clear_text(text):\n",
    "    text = re.sub(r'[^a-zA-Z]', ' ', text)\n",
    "    text = text.lower()\n",
    "    return ' '.join(text.split())"
   ]
  },
  {
   "cell_type": "code",
   "execution_count": 35,
   "metadata": {
    "pycharm": {
     "name": "#%%\n"
    }
   },
   "outputs": [],
   "source": [
    "def make_tokens(text):\n",
    "    return clear_text(lemmatize(text))"
   ]
  },
  {
   "cell_type": "markdown",
   "metadata": {
    "pycharm": {
     "name": "#%% md\n"
    }
   },
   "source": [
    "Произведем обработку текста:"
   ]
  },
  {
   "cell_type": "code",
   "execution_count": 36,
   "metadata": {
    "pycharm": {
     "name": "#%%\n"
    }
   },
   "outputs": [
    {
     "name": "stdout",
     "output_type": "stream",
     "text": [
      "Wall time: 9min 47s\n"
     ]
    }
   ],
   "source": [
    "%%time\n",
    "df_clean['lemm_text'] = df_clean['text'].apply(make_tokens)\n",
    "description['lemm_text'] = 'лемматизированный текст'"
   ]
  },
  {
   "cell_type": "markdown",
   "metadata": {
    "pycharm": {
     "name": "#%% md\n"
    }
   },
   "source": [
    "Проверим:"
   ]
  },
  {
   "cell_type": "code",
   "execution_count": 37,
   "metadata": {
    "pycharm": {
     "name": "#%%\n"
    }
   },
   "outputs": [
    {
     "data": {
      "text/html": [
       "<div>\n",
       "<style scoped>\n",
       "    .dataframe tbody tr th:only-of-type {\n",
       "        vertical-align: middle;\n",
       "    }\n",
       "\n",
       "    .dataframe tbody tr th {\n",
       "        vertical-align: top;\n",
       "    }\n",
       "\n",
       "    .dataframe thead th {\n",
       "        text-align: right;\n",
       "    }\n",
       "</style>\n",
       "<table border=\"1\" class=\"dataframe\">\n",
       "  <thead>\n",
       "    <tr style=\"text-align: right;\">\n",
       "      <th></th>\n",
       "      <th>text</th>\n",
       "      <th>toxic</th>\n",
       "      <th>text_len</th>\n",
       "      <th>lemm_text</th>\n",
       "    </tr>\n",
       "  </thead>\n",
       "  <tbody>\n",
       "    <tr>\n",
       "      <th>132988</th>\n",
       "      <td>February 2012 \\n Hello, and welcome to Wikiped...</td>\n",
       "      <td>0</td>\n",
       "      <td>573</td>\n",
       "      <td>february hello and welcome to wikipedia i noti...</td>\n",
       "    </tr>\n",
       "    <tr>\n",
       "      <th>95608</th>\n",
       "      <td>\"\\n\\nThank-you Nimbus, I'm becoming increasing...</td>\n",
       "      <td>0</td>\n",
       "      <td>131</td>\n",
       "      <td>thank you nimbus i be become increasingly awar...</td>\n",
       "    </tr>\n",
       "    <tr>\n",
       "      <th>96082</th>\n",
       "      <td>I notice he deleted my comments on his Talk Pa...</td>\n",
       "      <td>0</td>\n",
       "      <td>220</td>\n",
       "      <td>i notice he delete my comment on his talk page...</td>\n",
       "    </tr>\n",
       "    <tr>\n",
       "      <th>46264</th>\n",
       "      <td>Per the template usage notes I posted above, t...</td>\n",
       "      <td>0</td>\n",
       "      <td>152</td>\n",
       "      <td>per the template usage note i post above the e...</td>\n",
       "    </tr>\n",
       "    <tr>\n",
       "      <th>118004</th>\n",
       "      <td>Sometimes you have to warn someone to dial it ...</td>\n",
       "      <td>0</td>\n",
       "      <td>158</td>\n",
       "      <td>sometimes you have to warn someone to dial it ...</td>\n",
       "    </tr>\n",
       "    <tr>\n",
       "      <th>154078</th>\n",
       "      <td>\"\\n\\n Trivia lesson  \\n\\nOk, I’m going to enjo...</td>\n",
       "      <td>0</td>\n",
       "      <td>4765</td>\n",
       "      <td>trivia lesson ok i m go to enjoy this here we ...</td>\n",
       "    </tr>\n",
       "    <tr>\n",
       "      <th>92846</th>\n",
       "      <td>i change the bumblebeez page because it is inc...</td>\n",
       "      <td>0</td>\n",
       "      <td>200</td>\n",
       "      <td>i change the bumblebeez page because it be inc...</td>\n",
       "    </tr>\n",
       "    <tr>\n",
       "      <th>103869</th>\n",
       "      <td>understand you can't manage? You are pathetic....</td>\n",
       "      <td>1</td>\n",
       "      <td>53</td>\n",
       "      <td>understand you can not manage you be pathetic</td>\n",
       "    </tr>\n",
       "    <tr>\n",
       "      <th>53999</th>\n",
       "      <td>June 2007\\n  Talk / Contribs</td>\n",
       "      <td>0</td>\n",
       "      <td>27</td>\n",
       "      <td>june talk contribs</td>\n",
       "    </tr>\n",
       "    <tr>\n",
       "      <th>8201</th>\n",
       "      <td>REDIRECT Talk:Parliamentary Select Committees ...</td>\n",
       "      <td>0</td>\n",
       "      <td>67</td>\n",
       "      <td>redirect talk parliamentary select committees ...</td>\n",
       "    </tr>\n",
       "  </tbody>\n",
       "</table>\n",
       "</div>"
      ],
      "text/plain": [
       "                                                     text  toxic  text_len  \\\n",
       "132988  February 2012 \\n Hello, and welcome to Wikiped...      0       573   \n",
       "95608   \"\\n\\nThank-you Nimbus, I'm becoming increasing...      0       131   \n",
       "96082   I notice he deleted my comments on his Talk Pa...      0       220   \n",
       "46264   Per the template usage notes I posted above, t...      0       152   \n",
       "118004  Sometimes you have to warn someone to dial it ...      0       158   \n",
       "154078  \"\\n\\n Trivia lesson  \\n\\nOk, I’m going to enjo...      0      4765   \n",
       "92846   i change the bumblebeez page because it is inc...      0       200   \n",
       "103869  understand you can't manage? You are pathetic....      1        53   \n",
       "53999                        June 2007\\n  Talk / Contribs      0        27   \n",
       "8201    REDIRECT Talk:Parliamentary Select Committees ...      0        67   \n",
       "\n",
       "                                                lemm_text  \n",
       "132988  february hello and welcome to wikipedia i noti...  \n",
       "95608   thank you nimbus i be become increasingly awar...  \n",
       "96082   i notice he delete my comment on his talk page...  \n",
       "46264   per the template usage note i post above the e...  \n",
       "118004  sometimes you have to warn someone to dial it ...  \n",
       "154078  trivia lesson ok i m go to enjoy this here we ...  \n",
       "92846   i change the bumblebeez page because it be inc...  \n",
       "103869      understand you can not manage you be pathetic  \n",
       "53999                                  june talk contribs  \n",
       "8201    redirect talk parliamentary select committees ...  "
      ]
     },
     "execution_count": 37,
     "metadata": {},
     "output_type": "execute_result"
    }
   ],
   "source": [
    "df_clean.sample(10)"
   ]
  },
  {
   "cell_type": "markdown",
   "metadata": {
    "pycharm": {
     "name": "#%% md\n"
    }
   },
   "source": [
    "### Отделим тестовую часть"
   ]
  },
  {
   "cell_type": "markdown",
   "metadata": {
    "pycharm": {
     "name": "#%% md\n"
    }
   },
   "source": [
    "Предварительно определим тестовую выборку. Оставим ее для окончательной проверки."
   ]
  },
  {
   "cell_type": "code",
   "execution_count": 38,
   "metadata": {
    "pycharm": {
     "name": "#%%\n"
    }
   },
   "outputs": [
    {
     "name": "stdout",
     "output_type": "stream",
     "text": [
      "\n"
     ]
    },
    {
     "data": {
      "text/html": [
       "<style type=\"text/css\">\n",
       "</style>\n",
       "<table id=\"T_2028f_\">\n",
       "  <thead>\n",
       "    <tr>\n",
       "      <th class=\"blank level0\" >&nbsp;</th>\n",
       "      <th class=\"col_heading level0 col0\" >Выборка:</th>\n",
       "      <th class=\"col_heading level0 col1\" >Количество значений:</th>\n",
       "      <th class=\"col_heading level0 col2\" >Доля выборки:</th>\n",
       "    </tr>\n",
       "  </thead>\n",
       "  <tbody>\n",
       "    <tr>\n",
       "      <th id=\"T_2028f_level0_row0\" class=\"row_heading level0 row0\" >0</th>\n",
       "      <td id=\"T_2028f_row0_col0\" class=\"data row0 col0\" >Исследовательская</td>\n",
       "      <td id=\"T_2028f_row0_col1\" class=\"data row0 col1\" >127656</td>\n",
       "      <td id=\"T_2028f_row0_col2\" class=\"data row0 col2\" >80.00%</td>\n",
       "    </tr>\n",
       "    <tr>\n",
       "      <th id=\"T_2028f_level0_row1\" class=\"row_heading level0 row1\" >1</th>\n",
       "      <td id=\"T_2028f_row1_col0\" class=\"data row1 col0\" >Тестовая</td>\n",
       "      <td id=\"T_2028f_row1_col1\" class=\"data row1 col1\" >31915</td>\n",
       "      <td id=\"T_2028f_row1_col2\" class=\"data row1 col2\" >20.00%</td>\n",
       "    </tr>\n",
       "  </tbody>\n",
       "</table>\n"
      ],
      "text/plain": [
       "<pandas.io.formats.style.Styler at 0x20d3ff05820>"
      ]
     },
     "metadata": {},
     "output_type": "display_data"
    }
   ],
   "source": [
    "df_research_cl, df_test_cl = research_test_split(df_clean, test_size=0.2)"
   ]
  },
  {
   "cell_type": "markdown",
   "metadata": {
    "pycharm": {
     "name": "#%% md\n"
    }
   },
   "source": [
    "Перепроверим дисбаланс в исследовательской выборке:"
   ]
  },
  {
   "cell_type": "code",
   "execution_count": 39,
   "metadata": {
    "pycharm": {
     "name": "#%%\n"
    }
   },
   "outputs": [
    {
     "data": {
      "text/html": [
       "<style type=\"text/css\">\n",
       "</style>\n",
       "<table id=\"T_6c5a2_\">\n",
       "  <thead>\n",
       "    <tr>\n",
       "      <th class=\"blank level0\" >&nbsp;</th>\n",
       "      <th class=\"col_heading level0 col0\" >Кол-во значений</th>\n",
       "      <th class=\"col_heading level0 col1\" >Процент распределения</th>\n",
       "    </tr>\n",
       "  </thead>\n",
       "  <tbody>\n",
       "    <tr>\n",
       "      <th id=\"T_6c5a2_level0_row0\" class=\"row_heading level0 row0\" >0</th>\n",
       "      <td id=\"T_6c5a2_row0_col0\" class=\"data row0 col0\" >114670</td>\n",
       "      <td id=\"T_6c5a2_row0_col1\" class=\"data row0 col1\" >89.83%</td>\n",
       "    </tr>\n",
       "    <tr>\n",
       "      <th id=\"T_6c5a2_level0_row1\" class=\"row_heading level0 row1\" >1</th>\n",
       "      <td id=\"T_6c5a2_row1_col0\" class=\"data row1 col0\" >12986</td>\n",
       "      <td id=\"T_6c5a2_row1_col1\" class=\"data row1 col1\" >10.17%</td>\n",
       "    </tr>\n",
       "  </tbody>\n",
       "</table>\n"
      ],
      "text/plain": [
       "<pandas.io.formats.style.Styler at 0x20d3e3c21c0>"
      ]
     },
     "execution_count": 39,
     "metadata": {},
     "output_type": "execute_result"
    }
   ],
   "source": [
    "pd.concat([df_research_cl[TARGET_COL].value_counts().rename('Кол-во значений'), df_research_cl[TARGET_COL].value_counts(normalize=True).rename('Процент распределения')], axis=1).style.format({'Процент распределения':'{:.2%}'})"
   ]
  },
  {
   "cell_type": "markdown",
   "metadata": {
    "pycharm": {
     "name": "#%% md\n"
    }
   },
   "source": [
    "Дисбаланс в исследовательской выборке сохранен"
   ]
  },
  {
   "cell_type": "code",
   "execution_count": 40,
   "metadata": {
    "pycharm": {
     "name": "#%%\n"
    }
   },
   "outputs": [],
   "source": [
    "del df_clean"
   ]
  },
  {
   "cell_type": "markdown",
   "metadata": {
    "pycharm": {
     "name": "#%% md\n"
    }
   },
   "source": [
    "## Исследование задачи"
   ]
  },
  {
   "cell_type": "markdown",
   "metadata": {
    "pycharm": {
     "name": "#%% md\n"
    }
   },
   "source": [
    "Выделим целевой признак и набор обучающих признаков из *исследовательского* набора данных"
   ]
  },
  {
   "cell_type": "code",
   "execution_count": 41,
   "metadata": {
    "pycharm": {
     "name": "#%%\n"
    }
   },
   "outputs": [
    {
     "data": {
      "text/plain": [
       "'toxic'"
      ]
     },
     "execution_count": 41,
     "metadata": {},
     "output_type": "execute_result"
    }
   ],
   "source": [
    "TARGET_COL"
   ]
  },
  {
   "cell_type": "code",
   "execution_count": 42,
   "metadata": {
    "pycharm": {
     "name": "#%%\n"
    }
   },
   "outputs": [],
   "source": [
    "X_cl = df_research_cl['lemm_text']"
   ]
  },
  {
   "cell_type": "code",
   "execution_count": 43,
   "metadata": {
    "pycharm": {
     "name": "#%%\n"
    }
   },
   "outputs": [],
   "source": [
    "y_cl = df_research_cl[TARGET_COL]"
   ]
  },
  {
   "cell_type": "code",
   "execution_count": 44,
   "metadata": {
    "pycharm": {
     "name": "#%%\n"
    }
   },
   "outputs": [
    {
     "data": {
      "text/plain": [
       "45800     i have offer as well but he must do my map fir...\n",
       "94209     your bias orthodox view have no more merit tha...\n",
       "135210    thank you very much for your quick respond and...\n",
       "89158     i move this page when i do i find another link...\n",
       "61233     gray powell article nominate for deletion nomi...\n",
       "Name: lemm_text, dtype: object"
      ]
     },
     "execution_count": 44,
     "metadata": {},
     "output_type": "execute_result"
    }
   ],
   "source": [
    "X_cl.head()"
   ]
  },
  {
   "cell_type": "code",
   "execution_count": 45,
   "metadata": {
    "pycharm": {
     "name": "#%%\n"
    }
   },
   "outputs": [
    {
     "data": {
      "text/plain": [
       "45800     0\n",
       "94209     0\n",
       "135210    0\n",
       "89158     0\n",
       "61233     0\n",
       "Name: toxic, dtype: int64"
      ]
     },
     "execution_count": 45,
     "metadata": {},
     "output_type": "execute_result"
    }
   ],
   "source": [
    "y_cl.head()"
   ]
  },
  {
   "cell_type": "markdown",
   "metadata": {
    "pycharm": {
     "name": "#%% md\n"
    }
   },
   "source": [
    "Установим искомую метрику"
   ]
  },
  {
   "cell_type": "code",
   "execution_count": 46,
   "metadata": {
    "pycharm": {
     "name": "#%%\n"
    }
   },
   "outputs": [],
   "source": [
    "scoring = 'f1'"
   ]
  },
  {
   "cell_type": "code",
   "execution_count": 47,
   "metadata": {
    "pycharm": {
     "name": "#%%\n"
    }
   },
   "outputs": [],
   "source": [
    "del df_research_cl"
   ]
  },
  {
   "cell_type": "markdown",
   "metadata": {
    "pycharm": {
     "name": "#%% md\n"
    }
   },
   "source": [
    "### Подбор базовой модели"
   ]
  },
  {
   "cell_type": "markdown",
   "metadata": {
    "pycharm": {
     "name": "#%% md\n"
    }
   },
   "source": [
    "Оценим работу базовых моделей:"
   ]
  },
  {
   "cell_type": "code",
   "execution_count": 48,
   "metadata": {
    "pycharm": {
     "name": "#%%\n"
    }
   },
   "outputs": [],
   "source": [
    "# стандартные параметры базовой модели:\n",
    "std_param = {\n",
    "    'random_state': 123,\n",
    "    'n_jobs': -1,\n",
    "    'class_weight': 'balanced'\n",
    "}"
   ]
  },
  {
   "cell_type": "markdown",
   "metadata": {
    "pycharm": {
     "name": "#%% md\n"
    }
   },
   "source": [
    "Будем векторизировать слова двумя способами:\n",
    "- мешок слов\n",
    "- оценка важности слова величиной TF-IDF\n",
    "\n",
    "При этом убираем слова без смысловой нагрузки (стоп-стова)"
   ]
  },
  {
   "cell_type": "code",
   "execution_count": 49,
   "metadata": {
    "pycharm": {
     "name": "#%%\n"
    }
   },
   "outputs": [
    {
     "name": "stderr",
     "output_type": "stream",
     "text": [
      "[nltk_data] Downloading package stopwords to\n",
      "[nltk_data]     C:\\Users\\Project\\AppData\\Roaming\\nltk_data...\n",
      "[nltk_data]   Package stopwords is already up-to-date!\n"
     ]
    }
   ],
   "source": [
    "nltk.download('stopwords')\n",
    "stop_words = set(stopwords.words('english'))"
   ]
  },
  {
   "cell_type": "code",
   "execution_count": 50,
   "metadata": {
    "pycharm": {
     "name": "#%%\n"
    }
   },
   "outputs": [],
   "source": [
    "results = []"
   ]
  },
  {
   "cell_type": "code",
   "execution_count": 51,
   "metadata": {
    "pycharm": {
     "name": "#%%\n"
    }
   },
   "outputs": [
    {
     "name": "stdout",
     "output_type": "stream",
     "text": [
      "Wall time: 2min 58s\n"
     ]
    }
   ],
   "source": [
    "%%time\n",
    "results.append(\n",
    "    cross_val_base('DecisionTreeClassifier_count',\n",
    "                   Pipeline([\n",
    "                       (\"count_vect\", CountVectorizer(stop_words=stop_words)),\n",
    "                       (\"model\", DecisionTreeClassifier(random_state=123, class_weight='balanced'))\n",
    "                   ]),\n",
    "                   X_cl, y_cl,\n",
    "                   scoring,\n",
    "                   print_res=False)\n",
    ")"
   ]
  },
  {
   "cell_type": "code",
   "execution_count": 52,
   "metadata": {
    "pycharm": {
     "name": "#%%\n"
    }
   },
   "outputs": [
    {
     "name": "stdout",
     "output_type": "stream",
     "text": [
      "Wall time: 40.7 s\n"
     ]
    }
   ],
   "source": [
    "%%time\n",
    "results.append(\n",
    "    cross_val_base('RandomForestClassifier_count',\n",
    "                   Pipeline([\n",
    "                       (\"count_vect\", CountVectorizer(stop_words=stop_words)),\n",
    "                       (\"model\", RandomForestClassifier(n_estimators=10, **std_param))\n",
    "                   ]),\n",
    "                   X_cl, y_cl,\n",
    "                   scoring,\n",
    "                   print_res=False)\n",
    ")"
   ]
  },
  {
   "cell_type": "code",
   "execution_count": 53,
   "metadata": {
    "pycharm": {
     "name": "#%%\n"
    }
   },
   "outputs": [
    {
     "name": "stdout",
     "output_type": "stream",
     "text": [
      "Wall time: 26 s\n"
     ]
    }
   ],
   "source": [
    "%%time\n",
    "results.append(\n",
    "    cross_val_base('LogisticRegression_count',\n",
    "                   Pipeline([\n",
    "                       (\"count_vect\", CountVectorizer(stop_words=stop_words)),\n",
    "                       (\"model\", LogisticRegression(**std_param))\n",
    "                   ]),\n",
    "                   X_cl, y_cl,\n",
    "                   scoring,\n",
    "                   print_res=False)\n",
    ")"
   ]
  },
  {
   "cell_type": "code",
   "execution_count": 54,
   "metadata": {
    "pycharm": {
     "name": "#%%\n"
    }
   },
   "outputs": [
    {
     "name": "stdout",
     "output_type": "stream",
     "text": [
      "Wall time: 17.8 s\n"
     ]
    }
   ],
   "source": [
    "%%time\n",
    "results.append(\n",
    "    cross_val_base('SGDClassifier_count',\n",
    "                   Pipeline([\n",
    "                       (\"count_vect\", CountVectorizer(stop_words=stop_words)),\n",
    "                       (\"model\", SGDClassifier(**std_param))\n",
    "                   ]),\n",
    "                   X_cl, y_cl,\n",
    "                   scoring,\n",
    "                   print_res=False)\n",
    ")"
   ]
  },
  {
   "cell_type": "code",
   "execution_count": 55,
   "metadata": {
    "pycharm": {
     "name": "#%%\n"
    }
   },
   "outputs": [
    {
     "name": "stdout",
     "output_type": "stream",
     "text": [
      "Wall time: 28.8 s\n"
     ]
    }
   ],
   "source": [
    "%%time\n",
    "results.append(\n",
    "    cross_val_base('LGBMClassifier_count',\n",
    "                   Pipeline([\n",
    "                       (\"count_vect\", CountVectorizer(stop_words=stop_words, dtype=np.float64)),\n",
    "                       (\"model\", LGBMClassifier(**std_param))\n",
    "                   ]),\n",
    "                   X_cl, y_cl,\n",
    "                   scoring,\n",
    "                   print_res=False)\n",
    ")"
   ]
  },
  {
   "cell_type": "code",
   "execution_count": 56,
   "metadata": {
    "pycharm": {
     "name": "#%%\n"
    }
   },
   "outputs": [
    {
     "name": "stdout",
     "output_type": "stream",
     "text": [
      "Wall time: 4min\n"
     ]
    }
   ],
   "source": [
    "%%time\n",
    "results.append(\n",
    "    cross_val_base('DecisionTreeClassifier_tf_idf',\n",
    "                   Pipeline([\n",
    "                       (\"tf_idf\", TfidfVectorizer(stop_words=stop_words)),\n",
    "                       (\"model\", DecisionTreeClassifier(random_state=123, class_weight='balanced'))\n",
    "                   ]),\n",
    "                   X_cl, y_cl,\n",
    "                   scoring,\n",
    "                   print_res=False)\n",
    ")"
   ]
  },
  {
   "cell_type": "code",
   "execution_count": 57,
   "metadata": {
    "pycharm": {
     "name": "#%%\n"
    }
   },
   "outputs": [
    {
     "name": "stdout",
     "output_type": "stream",
     "text": [
      "Wall time: 37.3 s\n"
     ]
    }
   ],
   "source": [
    "%%time\n",
    "results.append(\n",
    "    cross_val_base('RandomForestClassifier_tf_idf',\n",
    "                   Pipeline([\n",
    "                       (\"tf_idf\", TfidfVectorizer(stop_words=stop_words)),\n",
    "                       (\"model\", RandomForestClassifier(n_estimators=10, **std_param))\n",
    "                   ]),\n",
    "                   X_cl, y_cl,\n",
    "                   scoring,\n",
    "                   print_res=False)\n",
    ")"
   ]
  },
  {
   "cell_type": "code",
   "execution_count": 58,
   "metadata": {
    "pycharm": {
     "name": "#%%\n"
    }
   },
   "outputs": [
    {
     "name": "stdout",
     "output_type": "stream",
     "text": [
      "Wall time: 25.9 s\n"
     ]
    }
   ],
   "source": [
    "%%time\n",
    "results.append(\n",
    "    cross_val_base('LogisticRegression_tf_idf',\n",
    "                   Pipeline([\n",
    "                       (\"tf_idf\", TfidfVectorizer(stop_words=stop_words)),\n",
    "                       (\"model\", LogisticRegression(**std_param))\n",
    "                   ]),\n",
    "                   X_cl, y_cl,\n",
    "                   scoring,\n",
    "                   print_res=False)\n",
    ")"
   ]
  },
  {
   "cell_type": "code",
   "execution_count": 59,
   "metadata": {
    "pycharm": {
     "name": "#%%\n"
    }
   },
   "outputs": [
    {
     "name": "stdout",
     "output_type": "stream",
     "text": [
      "Wall time: 16.5 s\n"
     ]
    }
   ],
   "source": [
    "%%time\n",
    "results.append(\n",
    "    cross_val_base('SGDClassifier_tf_idf',\n",
    "                   Pipeline([\n",
    "                       (\"tf_idf\", TfidfVectorizer(stop_words=stop_words)),\n",
    "                       (\"model\", SGDClassifier(**std_param))\n",
    "                   ]),\n",
    "                   X_cl, y_cl,\n",
    "                   scoring,\n",
    "                   print_res=False)\n",
    ")"
   ]
  },
  {
   "cell_type": "code",
   "execution_count": 60,
   "metadata": {
    "pycharm": {
     "name": "#%%\n"
    }
   },
   "outputs": [
    {
     "name": "stdout",
     "output_type": "stream",
     "text": [
      "Wall time: 56.6 s\n"
     ]
    }
   ],
   "source": [
    "%%time\n",
    "results.append(\n",
    "    cross_val_base('LGBMClassifier_tf_idf',\n",
    "                   Pipeline([\n",
    "                       (\"tf_idf\",TfidfVectorizer(stop_words=stop_words)),\n",
    "                       (\"model\", LGBMClassifier(**std_param))\n",
    "                   ]),\n",
    "                   X_cl, y_cl,\n",
    "                   scoring,\n",
    "                   print_res=False)\n",
    ")"
   ]
  },
  {
   "cell_type": "markdown",
   "metadata": {
    "pycharm": {
     "name": "#%% md\n"
    }
   },
   "source": [
    "Сводная таблица работы базовых моделей:"
   ]
  },
  {
   "cell_type": "code",
   "execution_count": 61,
   "metadata": {
    "pycharm": {
     "name": "#%%\n"
    },
    "scrolled": false
   },
   "outputs": [
    {
     "data": {
      "text/html": [
       "<div>\n",
       "<style scoped>\n",
       "    .dataframe tbody tr th:only-of-type {\n",
       "        vertical-align: middle;\n",
       "    }\n",
       "\n",
       "    .dataframe tbody tr th {\n",
       "        vertical-align: top;\n",
       "    }\n",
       "\n",
       "    .dataframe thead th {\n",
       "        text-align: right;\n",
       "    }\n",
       "</style>\n",
       "<table border=\"1\" class=\"dataframe\">\n",
       "  <thead>\n",
       "    <tr style=\"text-align: right;\">\n",
       "      <th></th>\n",
       "      <th>Model</th>\n",
       "      <th>F1_score</th>\n",
       "      <th>Time</th>\n",
       "      <th>rating_score</th>\n",
       "      <th>rating_time</th>\n",
       "      <th>rating_total</th>\n",
       "    </tr>\n",
       "  </thead>\n",
       "  <tbody>\n",
       "    <tr>\n",
       "      <th>2</th>\n",
       "      <td>LogisticRegression_count</td>\n",
       "      <td>0.759498</td>\n",
       "      <td>26.038672</td>\n",
       "      <td>1.000</td>\n",
       "      <td>-0.043</td>\n",
       "      <td>0.957</td>\n",
       "    </tr>\n",
       "    <tr>\n",
       "      <th>3</th>\n",
       "      <td>SGDClassifier_count</td>\n",
       "      <td>0.752573</td>\n",
       "      <td>17.778570</td>\n",
       "      <td>0.958</td>\n",
       "      <td>-0.006</td>\n",
       "      <td>0.952</td>\n",
       "    </tr>\n",
       "    <tr>\n",
       "      <th>7</th>\n",
       "      <td>LogisticRegression_tf_idf</td>\n",
       "      <td>0.750117</td>\n",
       "      <td>25.871125</td>\n",
       "      <td>0.943</td>\n",
       "      <td>-0.042</td>\n",
       "      <td>0.901</td>\n",
       "    </tr>\n",
       "    <tr>\n",
       "      <th>9</th>\n",
       "      <td>LGBMClassifier_tf_idf</td>\n",
       "      <td>0.738672</td>\n",
       "      <td>56.567222</td>\n",
       "      <td>0.873</td>\n",
       "      <td>-0.178</td>\n",
       "      <td>0.695</td>\n",
       "    </tr>\n",
       "    <tr>\n",
       "      <th>4</th>\n",
       "      <td>LGBMClassifier_count</td>\n",
       "      <td>0.738642</td>\n",
       "      <td>28.750254</td>\n",
       "      <td>0.873</td>\n",
       "      <td>-0.055</td>\n",
       "      <td>0.818</td>\n",
       "    </tr>\n",
       "    <tr>\n",
       "      <th>8</th>\n",
       "      <td>SGDClassifier_tf_idf</td>\n",
       "      <td>0.737682</td>\n",
       "      <td>16.497821</td>\n",
       "      <td>0.867</td>\n",
       "      <td>-0.000</td>\n",
       "      <td>0.867</td>\n",
       "    </tr>\n",
       "    <tr>\n",
       "      <th>0</th>\n",
       "      <td>DecisionTreeClassifier_count</td>\n",
       "      <td>0.663506</td>\n",
       "      <td>178.246248</td>\n",
       "      <td>0.417</td>\n",
       "      <td>-0.721</td>\n",
       "      <td>-0.304</td>\n",
       "    </tr>\n",
       "    <tr>\n",
       "      <th>5</th>\n",
       "      <td>DecisionTreeClassifier_tf_idf</td>\n",
       "      <td>0.658409</td>\n",
       "      <td>240.984216</td>\n",
       "      <td>0.386</td>\n",
       "      <td>-1.000</td>\n",
       "      <td>-0.614</td>\n",
       "    </tr>\n",
       "    <tr>\n",
       "      <th>1</th>\n",
       "      <td>RandomForestClassifier_count</td>\n",
       "      <td>0.606424</td>\n",
       "      <td>40.683417</td>\n",
       "      <td>0.070</td>\n",
       "      <td>-0.108</td>\n",
       "      <td>-0.038</td>\n",
       "    </tr>\n",
       "    <tr>\n",
       "      <th>6</th>\n",
       "      <td>RandomForestClassifier_tf_idf</td>\n",
       "      <td>0.594878</td>\n",
       "      <td>37.295112</td>\n",
       "      <td>0.000</td>\n",
       "      <td>-0.093</td>\n",
       "      <td>-0.093</td>\n",
       "    </tr>\n",
       "  </tbody>\n",
       "</table>\n",
       "</div>"
      ],
      "text/plain": [
       "                           Model  F1_score        Time  rating_score  \\\n",
       "2       LogisticRegression_count  0.759498   26.038672         1.000   \n",
       "3            SGDClassifier_count  0.752573   17.778570         0.958   \n",
       "7      LogisticRegression_tf_idf  0.750117   25.871125         0.943   \n",
       "9          LGBMClassifier_tf_idf  0.738672   56.567222         0.873   \n",
       "4           LGBMClassifier_count  0.738642   28.750254         0.873   \n",
       "8           SGDClassifier_tf_idf  0.737682   16.497821         0.867   \n",
       "0   DecisionTreeClassifier_count  0.663506  178.246248         0.417   \n",
       "5  DecisionTreeClassifier_tf_idf  0.658409  240.984216         0.386   \n",
       "1   RandomForestClassifier_count  0.606424   40.683417         0.070   \n",
       "6  RandomForestClassifier_tf_idf  0.594878   37.295112         0.000   \n",
       "\n",
       "   rating_time  rating_total  \n",
       "2       -0.043         0.957  \n",
       "3       -0.006         0.952  \n",
       "7       -0.042         0.901  \n",
       "9       -0.178         0.695  \n",
       "4       -0.055         0.818  \n",
       "8       -0.000         0.867  \n",
       "0       -0.721        -0.304  \n",
       "5       -1.000        -0.614  \n",
       "1       -0.108        -0.038  \n",
       "6       -0.093        -0.093  "
      ]
     },
     "execution_count": 61,
     "metadata": {},
     "output_type": "execute_result"
    }
   ],
   "source": [
    "get_selection_model_results(results, score_name='F1_score')"
   ]
  },
  {
   "cell_type": "code",
   "execution_count": 62,
   "metadata": {
    "pycharm": {
     "name": "#%%\n"
    }
   },
   "outputs": [],
   "source": [
    "del results"
   ]
  },
  {
   "cell_type": "markdown",
   "metadata": {
    "pycharm": {
     "name": "#%% md\n"
    }
   },
   "source": [
    "Простой мешок слов (без FT-IDF) показывает лучшие результаты. Будем использовать `CountVectorizer`.\n",
    "\n",
    "Выберем для дальнейшего анализа 3 лучших (по метрике) модели:\n",
    "- LogisticRegression\n",
    "- LGBMClassifier\n",
    "- SGDClassifier"
   ]
  },
  {
   "cell_type": "markdown",
   "metadata": {
    "pycharm": {
     "name": "#%% md\n"
    }
   },
   "source": [
    "### Подбор гиперпараметров"
   ]
  },
  {
   "cell_type": "markdown",
   "metadata": {
    "pycharm": {
     "name": "#%% md\n"
    }
   },
   "source": [
    "#### Логистическая регрессия"
   ]
  },
  {
   "cell_type": "code",
   "execution_count": 63,
   "metadata": {
    "pycharm": {
     "name": "#%%\n"
    }
   },
   "outputs": [
    {
     "name": "stdout",
     "output_type": "stream",
     "text": [
      "Wall time: 37.4 s\n"
     ]
    }
   ],
   "source": [
    "%%time\n",
    "parameters = {\n",
    "#     'model__penalty': ['l1', 'l2'],   # Если использовать l1, то ядро падает\n",
    "    'model__C': [0.01, 0.1, 1, 10, 100],\n",
    "    }\n",
    "\n",
    "search_LogisticRegression = grid_search_cv(\n",
    "    X_cl, y_cl,\n",
    "    Pipeline([\n",
    "        (\"count_vect\", CountVectorizer(stop_words=stop_words)),\n",
    "        (\"model\", LogisticRegression(**std_param))\n",
    "            ]),\n",
    "    parameters, scoring=scoring)"
   ]
  },
  {
   "cell_type": "code",
   "execution_count": 64,
   "metadata": {
    "pycharm": {
     "name": "#%%\n"
    },
    "scrolled": true
   },
   "outputs": [
    {
     "data": {
      "text/plain": [
       "{'iterations': 5, 'score': 0.7594977557063327, 'parameters': {'model__C': 1}}"
      ]
     },
     "execution_count": 64,
     "metadata": {},
     "output_type": "execute_result"
    }
   ],
   "source": [
    "search_LogisticRegression"
   ]
  },
  {
   "cell_type": "markdown",
   "metadata": {
    "pycharm": {
     "name": "#%% md\n"
    }
   },
   "source": [
    "Можно найти более точно оптимальный параметр `C`:"
   ]
  },
  {
   "cell_type": "code",
   "execution_count": 65,
   "metadata": {
    "pycharm": {
     "name": "#%%\n"
    }
   },
   "outputs": [
    {
     "name": "stdout",
     "output_type": "stream",
     "text": [
      "\n",
      "0.2 >>> {'C': 0.2} {} - 0.7566\n",
      "0.30000000000000004 >>> {'C': 0.30000000000000004} {} - 0.7585\n",
      "0.4000000000000001 >>> {'C': 0.4000000000000001} {} - 0.7598\n",
      "0.5000000000000001 >>> {'C': 0.5000000000000001} {} - 0.7593\n",
      "0.6000000000000001 >>> {'C': 0.6000000000000001} {} - 0.7591\n",
      "0.7000000000000002 >>> {'C': 0.7000000000000002} {} - 0.7596\n",
      "0.8000000000000003 >>> {'C': 0.8000000000000003} {} - 0.7601\n",
      "0.9000000000000001 >>> {'C': 0.9000000000000001} {} - 0.7596\n",
      "1.0000000000000002 >>> {'C': 1.0000000000000002} {} - 0.7596\n",
      "1.1000000000000003 >>> {'C': 1.1000000000000003} {} - 0.7604\n",
      "1.2000000000000004 >>> {'C': 1.2000000000000004} {} - 0.7602\n",
      "1.3000000000000003 >>> {'C': 1.3000000000000003} {} - 0.7593\n",
      "1.4000000000000004 >>> {'C': 1.4000000000000004} {} - 0.7594\n",
      "1.5000000000000004 >>> {'C': 1.5000000000000004} {} - 0.7581\n",
      "----------------------------------------------------------------------------------------------------\n",
      "Wall time: 6min 3s\n",
      "\n"
     ]
    }
   ],
   "source": [
    "# %%time\n",
    "# parameters = {\n",
    "#     'C': [0.2, 0.1],\n",
    "#     }\n",
    "\n",
    "# search_LogisticRegression = ascending_grid(\n",
    "#     X_cl, y_cl,\n",
    "#     Pipeline([\n",
    "#         (\"count_vect\", CountVectorizer(stop_words=stop_words)),\n",
    "#         (\"model\", LogisticRegression(**std_param))\n",
    "#             ]),\n",
    "#     parameters, scoring=scoring,\n",
    "#     plot=True, cv=5)\n",
    "\n",
    "# Результат работы ячейки:\n",
    "print('''\n",
    "0.2 >>> {'C': 0.2} {} - 0.7566\n",
    "0.30000000000000004 >>> {'C': 0.30000000000000004} {} - 0.7585\n",
    "0.4000000000000001 >>> {'C': 0.4000000000000001} {} - 0.7598\n",
    "0.5000000000000001 >>> {'C': 0.5000000000000001} {} - 0.7593\n",
    "0.6000000000000001 >>> {'C': 0.6000000000000001} {} - 0.7591\n",
    "0.7000000000000002 >>> {'C': 0.7000000000000002} {} - 0.7596\n",
    "0.8000000000000003 >>> {'C': 0.8000000000000003} {} - 0.7601\n",
    "0.9000000000000001 >>> {'C': 0.9000000000000001} {} - 0.7596\n",
    "1.0000000000000002 >>> {'C': 1.0000000000000002} {} - 0.7596\n",
    "1.1000000000000003 >>> {'C': 1.1000000000000003} {} - 0.7604\n",
    "1.2000000000000004 >>> {'C': 1.2000000000000004} {} - 0.7602\n",
    "1.3000000000000003 >>> {'C': 1.3000000000000003} {} - 0.7593\n",
    "1.4000000000000004 >>> {'C': 1.4000000000000004} {} - 0.7594\n",
    "1.5000000000000004 >>> {'C': 1.5000000000000004} {} - 0.7581\n",
    "----------------------------------------------------------------------------------------------------\n",
    "Wall time: 6min 3s\n",
    "''')\n",
    "\n",
    "search_LogisticRegression = {\n",
    "    'iterations': 70,\n",
    "    'score': 0.7604458287002487,\n",
    "    'parameters': \n",
    "        {'C': 1.1}\n",
    "}"
   ]
  },
  {
   "cell_type": "code",
   "execution_count": 66,
   "metadata": {
    "pycharm": {
     "name": "#%%\n"
    }
   },
   "outputs": [
    {
     "data": {
      "text/plain": [
       "{'iterations': 70, 'score': 0.7604458287002487, 'parameters': {'C': 1.1}}"
      ]
     },
     "execution_count": 66,
     "metadata": {},
     "output_type": "execute_result"
    }
   ],
   "source": [
    "search_LogisticRegression"
   ]
  },
  {
   "cell_type": "markdown",
   "metadata": {
    "pycharm": {
     "name": "#%% md\n"
    }
   },
   "source": [
    "Оптимальные гиперапараметры для модели Логистической регресии:"
   ]
  },
  {
   "cell_type": "code",
   "execution_count": 67,
   "metadata": {
    "pycharm": {
     "name": "#%%\n"
    }
   },
   "outputs": [],
   "source": [
    "best_LogisticRegression = search_LogisticRegression['parameters']"
   ]
  },
  {
   "cell_type": "code",
   "execution_count": 68,
   "metadata": {
    "pycharm": {
     "name": "#%%\n"
    }
   },
   "outputs": [
    {
     "data": {
      "text/plain": [
       "{'C': 1.1}"
      ]
     },
     "execution_count": 68,
     "metadata": {},
     "output_type": "execute_result"
    }
   ],
   "source": [
    "best_LogisticRegression"
   ]
  },
  {
   "cell_type": "markdown",
   "metadata": {
    "pycharm": {
     "name": "#%% md\n"
    }
   },
   "source": [
    "#### Логистическая регрессия с градиентным спуском"
   ]
  },
  {
   "cell_type": "code",
   "execution_count": 69,
   "metadata": {
    "pycharm": {
     "name": "#%%\n"
    }
   },
   "outputs": [
    {
     "name": "stdout",
     "output_type": "stream",
     "text": [
      "\n",
      "Wall time: 2min 53s\n",
      "\n"
     ]
    }
   ],
   "source": [
    "# %%time\n",
    "# parameters = {\n",
    "#     'model__penalty': ['l1', 'l2'],\n",
    "#     'model__alpha': [1, 1e-01, 1e-02, 1e-03, 1e-04, 1e-05, 1e-06, 1e-07],\n",
    "#     }\n",
    "\n",
    "# search_SGDClassifier = grid_search_cv(\n",
    "#     X_cl, y_cl,\n",
    "#     Pipeline([\n",
    "#         (\"count_vect\", CountVectorizer(stop_words=stop_words)),\n",
    "#         (\"model\", SGDClassifier(**std_param))\n",
    "#             ]),\n",
    "#     parameters, scoring=scoring)\n",
    "\n",
    "# Результат работы ячейки:\n",
    "print('''\n",
    "Wall time: 2min 53s\n",
    "''')\n",
    "\n",
    "search_SGDClassifier = {\n",
    "    'iterations': 16,\n",
    "    'score': 0.7525733929990851,\n",
    "    'parameters': \n",
    "        {'model__alpha': 0.0001, 'model__penalty': 'l2'}\n",
    "}"
   ]
  },
  {
   "cell_type": "code",
   "execution_count": 70,
   "metadata": {
    "pycharm": {
     "name": "#%%\n"
    }
   },
   "outputs": [
    {
     "data": {
      "text/plain": [
       "{'iterations': 16,\n",
       " 'score': 0.7525733929990851,\n",
       " 'parameters': {'model__alpha': 0.0001, 'model__penalty': 'l2'}}"
      ]
     },
     "execution_count": 70,
     "metadata": {},
     "output_type": "execute_result"
    }
   ],
   "source": [
    "search_SGDClassifier"
   ]
  },
  {
   "cell_type": "markdown",
   "metadata": {
    "pycharm": {
     "name": "#%% md\n"
    }
   },
   "source": [
    "Оптимальные гиперапараметры для модели Логистической регресии с градиентным спуском:"
   ]
  },
  {
   "cell_type": "code",
   "execution_count": 71,
   "metadata": {
    "pycharm": {
     "name": "#%%\n"
    }
   },
   "outputs": [],
   "source": [
    "best_SGDClassifier = rename_pipeline_params(search_SGDClassifier['parameters'])"
   ]
  },
  {
   "cell_type": "code",
   "execution_count": 72,
   "metadata": {
    "pycharm": {
     "name": "#%%\n"
    }
   },
   "outputs": [
    {
     "data": {
      "text/plain": [
       "{'alpha': 0.0001, 'penalty': 'l2'}"
      ]
     },
     "execution_count": 72,
     "metadata": {},
     "output_type": "execute_result"
    }
   ],
   "source": [
    "best_SGDClassifier"
   ]
  },
  {
   "cell_type": "markdown",
   "metadata": {
    "pycharm": {
     "name": "#%% md\n"
    }
   },
   "source": [
    "#### Градиентный бустинг"
   ]
  },
  {
   "cell_type": "code",
   "execution_count": 73,
   "metadata": {
    "pycharm": {
     "name": "#%%\n"
    },
    "scrolled": false
   },
   "outputs": [
    {
     "name": "stdout",
     "output_type": "stream",
     "text": [
      "\n",
      "Wall time: 43min 17s\n",
      "\n"
     ]
    }
   ],
   "source": [
    "# %%time\n",
    "# parameters = {\n",
    "#     'learning_rate': [0.1, 0.1],\n",
    "#     'max_depth': [10, 5],\n",
    "#     }\n",
    "\n",
    "# search_LGBMClassifier = ascending_grid(\n",
    "#     X_cl, y_cl,\n",
    "#     Pipeline([\n",
    "#         (\"count_vect\", CountVectorizer(stop_words=stop_words, dtype=np.float64)),\n",
    "#         (\"model\", LGBMClassifier(**std_param))\n",
    "#             ]),\n",
    "#     parameters, scoring=scoring,\n",
    "#     plot=True, cv=5, n_estimators=150, num_leaves=150)\n",
    "\n",
    "# Результат работы ячейки:\n",
    "print('''\n",
    "Wall time: 43min 17s\n",
    "''')\n",
    "\n",
    "search_LGBMClassifier = {\n",
    "    'iterations': 270,\n",
    "    'score': 0.7833001421285626,\n",
    "    'parameters': {\n",
    "        'max_depth': 85,\n",
    "        'learning_rate': 0.3,\n",
    "        'n_estimators': 150,\n",
    "        'num_leaves': 150\n",
    "    }\n",
    "}"
   ]
  },
  {
   "cell_type": "code",
   "execution_count": 74,
   "metadata": {
    "pycharm": {
     "name": "#%%\n"
    }
   },
   "outputs": [
    {
     "data": {
      "text/plain": [
       "{'iterations': 270,\n",
       " 'score': 0.7833001421285626,\n",
       " 'parameters': {'max_depth': 85,\n",
       "  'learning_rate': 0.3,\n",
       "  'n_estimators': 150,\n",
       "  'num_leaves': 150}}"
      ]
     },
     "execution_count": 74,
     "metadata": {},
     "output_type": "execute_result"
    }
   ],
   "source": [
    "search_LGBMClassifier"
   ]
  },
  {
   "cell_type": "markdown",
   "metadata": {
    "pycharm": {
     "name": "#%% md\n"
    }
   },
   "source": [
    "Оптимальные гиперапараметры для модели Градиентного бустинга:"
   ]
  },
  {
   "cell_type": "code",
   "execution_count": 75,
   "metadata": {
    "pycharm": {
     "name": "#%%\n"
    }
   },
   "outputs": [],
   "source": [
    "best_LGBMClassifier = search_LGBMClassifier['parameters']"
   ]
  },
  {
   "cell_type": "code",
   "execution_count": 76,
   "metadata": {
    "pycharm": {
     "name": "#%%\n"
    }
   },
   "outputs": [
    {
     "data": {
      "text/plain": [
       "{'max_depth': 85, 'learning_rate': 0.3, 'n_estimators': 150, 'num_leaves': 150}"
      ]
     },
     "execution_count": 76,
     "metadata": {},
     "output_type": "execute_result"
    }
   ],
   "source": [
    "best_LGBMClassifier"
   ]
  },
  {
   "cell_type": "markdown",
   "metadata": {
    "pycharm": {
     "name": "#%% md\n"
    }
   },
   "source": [
    "### Выбор лучшей модели"
   ]
  },
  {
   "cell_type": "markdown",
   "metadata": {
    "pycharm": {
     "name": "#%% md\n"
    }
   },
   "source": [
    "Сравним работу двух лучших ранее отобранных моделей с подобранными оптимальными гиперпараметрами:"
   ]
  },
  {
   "cell_type": "code",
   "execution_count": 77,
   "metadata": {
    "pycharm": {
     "name": "#%%\n"
    }
   },
   "outputs": [],
   "source": [
    "results = []"
   ]
  },
  {
   "cell_type": "code",
   "execution_count": 78,
   "metadata": {
    "pycharm": {
     "name": "#%%\n"
    }
   },
   "outputs": [
    {
     "name": "stdout",
     "output_type": "stream",
     "text": [
      "Wall time: 26.1 s\n"
     ]
    }
   ],
   "source": [
    "%%time\n",
    "results.append(\n",
    "    cross_val_base('LogisticRegression',\n",
    "                   Pipeline([\n",
    "                       (\"count_vect\", CountVectorizer(stop_words=stop_words)),\n",
    "                       (\"model\", LogisticRegression(**std_param, **best_LogisticRegression))\n",
    "                   ]),\n",
    "                   X_cl, y_cl,\n",
    "                   scoring,\n",
    "                   print_res=False)\n",
    ")"
   ]
  },
  {
   "cell_type": "code",
   "execution_count": 79,
   "metadata": {
    "pycharm": {
     "name": "#%%\n"
    }
   },
   "outputs": [
    {
     "name": "stdout",
     "output_type": "stream",
     "text": [
      "Wall time: 18 s\n"
     ]
    }
   ],
   "source": [
    "%%time\n",
    "results.append(\n",
    "    cross_val_base('SGDClassifier',\n",
    "                   Pipeline([\n",
    "                       (\"count_vect\", CountVectorizer(stop_words=stop_words)),\n",
    "                       (\"model\", SGDClassifier(**std_param, **best_SGDClassifier))\n",
    "                   ]),\n",
    "                   X_cl, y_cl,\n",
    "                   scoring,\n",
    "                   print_res=False)\n",
    ")"
   ]
  },
  {
   "cell_type": "code",
   "execution_count": 80,
   "metadata": {
    "pycharm": {
     "name": "#%%\n"
    }
   },
   "outputs": [
    {
     "name": "stdout",
     "output_type": "stream",
     "text": [
      "Wall time: 47.6 s\n"
     ]
    }
   ],
   "source": [
    "%%time\n",
    "results.append(\n",
    "    cross_val_base('LGBMClassifier',\n",
    "                   Pipeline([\n",
    "                       (\"count_vect\", CountVectorizer(stop_words=stop_words, dtype=np.float64)),\n",
    "                       (\"model\", LGBMClassifier(**std_param, **best_LGBMClassifier))\n",
    "                   ]),\n",
    "                   X_cl, y_cl,\n",
    "                   scoring,\n",
    "                   print_res=False)\n",
    ")"
   ]
  },
  {
   "cell_type": "code",
   "execution_count": 81,
   "metadata": {
    "pycharm": {
     "name": "#%%\n"
    }
   },
   "outputs": [
    {
     "data": {
      "text/html": [
       "<div>\n",
       "<style scoped>\n",
       "    .dataframe tbody tr th:only-of-type {\n",
       "        vertical-align: middle;\n",
       "    }\n",
       "\n",
       "    .dataframe tbody tr th {\n",
       "        vertical-align: top;\n",
       "    }\n",
       "\n",
       "    .dataframe thead th {\n",
       "        text-align: right;\n",
       "    }\n",
       "</style>\n",
       "<table border=\"1\" class=\"dataframe\">\n",
       "  <thead>\n",
       "    <tr style=\"text-align: right;\">\n",
       "      <th></th>\n",
       "      <th>Model</th>\n",
       "      <th>F1_score</th>\n",
       "      <th>Time</th>\n",
       "      <th>rating_score</th>\n",
       "      <th>rating_time</th>\n",
       "      <th>rating_total</th>\n",
       "    </tr>\n",
       "  </thead>\n",
       "  <tbody>\n",
       "    <tr>\n",
       "      <th>2</th>\n",
       "      <td>LGBMClassifier</td>\n",
       "      <td>0.783300</td>\n",
       "      <td>47.577582</td>\n",
       "      <td>1.000</td>\n",
       "      <td>-1.000</td>\n",
       "      <td>0.000</td>\n",
       "    </tr>\n",
       "    <tr>\n",
       "      <th>0</th>\n",
       "      <td>LogisticRegression</td>\n",
       "      <td>0.760726</td>\n",
       "      <td>26.133497</td>\n",
       "      <td>0.265</td>\n",
       "      <td>-0.274</td>\n",
       "      <td>-0.009</td>\n",
       "    </tr>\n",
       "    <tr>\n",
       "      <th>1</th>\n",
       "      <td>SGDClassifier</td>\n",
       "      <td>0.752573</td>\n",
       "      <td>18.028281</td>\n",
       "      <td>0.000</td>\n",
       "      <td>-0.000</td>\n",
       "      <td>0.000</td>\n",
       "    </tr>\n",
       "  </tbody>\n",
       "</table>\n",
       "</div>"
      ],
      "text/plain": [
       "                Model  F1_score       Time  rating_score  rating_time  \\\n",
       "2      LGBMClassifier  0.783300  47.577582         1.000       -1.000   \n",
       "0  LogisticRegression  0.760726  26.133497         0.265       -0.274   \n",
       "1       SGDClassifier  0.752573  18.028281         0.000       -0.000   \n",
       "\n",
       "   rating_total  \n",
       "2         0.000  \n",
       "0        -0.009  \n",
       "1         0.000  "
      ]
     },
     "execution_count": 81,
     "metadata": {},
     "output_type": "execute_result"
    }
   ],
   "source": [
    "get_selection_model_results(results, score_name='F1_score')"
   ]
  },
  {
   "cell_type": "markdown",
   "metadata": {
    "pycharm": {
     "name": "#%% md\n"
    }
   },
   "source": [
    "Модель Логистической регрессии на отобранном наборе параметров дает хорошую метрику и работает быстро.\n",
    "\n",
    "Модель Градиентного бустинга на отобранном наборе параметров дает лучшую метрику, но работает медленнее.\n",
    "\n",
    "Протестируем две эти модели"
   ]
  },
  {
   "cell_type": "code",
   "execution_count": 82,
   "metadata": {
    "pycharm": {
     "name": "#%%\n"
    }
   },
   "outputs": [],
   "source": [
    "del results"
   ]
  },
  {
   "cell_type": "code",
   "execution_count": 83,
   "metadata": {
    "pycharm": {
     "name": "#%%\n"
    }
   },
   "outputs": [],
   "source": [
    "del search_LogisticRegression\n",
    "# del best_LogisticRegression\n",
    "\n",
    "del search_SGDClassifier\n",
    "del best_SGDClassifier\n",
    "\n",
    "del search_LGBMClassifier\n",
    "# del best_LGBMClassifier"
   ]
  },
  {
   "cell_type": "markdown",
   "metadata": {
    "pycharm": {
     "name": "#%% md\n"
    }
   },
   "source": [
    "## Тестирование модели"
   ]
  },
  {
   "cell_type": "markdown",
   "metadata": {
    "pycharm": {
     "name": "#%% md\n"
    }
   },
   "source": [
    "### Тестовые признаки"
   ]
  },
  {
   "cell_type": "markdown",
   "metadata": {
    "pycharm": {
     "name": "#%% md\n"
    }
   },
   "source": [
    "Выделим целевой признак и набор обучающих признаков из *тестового* набора данных"
   ]
  },
  {
   "cell_type": "code",
   "execution_count": 84,
   "metadata": {
    "pycharm": {
     "name": "#%%\n"
    }
   },
   "outputs": [],
   "source": [
    "X_test = df_test_cl['lemm_text']"
   ]
  },
  {
   "cell_type": "code",
   "execution_count": 85,
   "metadata": {
    "pycharm": {
     "name": "#%%\n"
    }
   },
   "outputs": [],
   "source": [
    "y_test = df_test_cl[TARGET_COL]"
   ]
  },
  {
   "cell_type": "code",
   "execution_count": 86,
   "metadata": {
    "pycharm": {
     "name": "#%%\n"
    }
   },
   "outputs": [],
   "source": [
    "del df_test_cl"
   ]
  },
  {
   "cell_type": "markdown",
   "metadata": {
    "pycharm": {
     "name": "#%% md\n"
    }
   },
   "source": [
    "### Градиентный бустинг"
   ]
  },
  {
   "cell_type": "markdown",
   "metadata": {
    "pycharm": {
     "name": "#%% md\n"
    }
   },
   "source": [
    "#### Обучение модели"
   ]
  },
  {
   "cell_type": "markdown",
   "metadata": {
    "pycharm": {
     "name": "#%% md\n"
    }
   },
   "source": [
    "Обучим подобранную модель:\n",
    "\n",
    "**Градиентный бустинг с гиперпараметрами:**\n",
    "\n",
    "- `learning_rate` = **0.3**\n",
    "- `max_depth` = **85**\n",
    "- `max_depth` = **150**\n",
    "- `n_estimators` = **150**"
   ]
  },
  {
   "cell_type": "code",
   "execution_count": 87,
   "metadata": {
    "pycharm": {
     "name": "#%%\n"
    }
   },
   "outputs": [
    {
     "name": "stdout",
     "output_type": "stream",
     "text": [
      "Wall time: 10.4 s\n"
     ]
    },
    {
     "data": {
      "text/plain": [
       "Pipeline(steps=[('count_vect',\n",
       "                 CountVectorizer(dtype=<class 'numpy.float64'>,\n",
       "                                 stop_words={'a', 'about', 'above', 'after',\n",
       "                                             'again', 'against', 'ain', 'all',\n",
       "                                             'am', 'an', 'and', 'any', 'are',\n",
       "                                             'aren', \"aren't\", 'as', 'at', 'be',\n",
       "                                             'because', 'been', 'before',\n",
       "                                             'being', 'below', 'between',\n",
       "                                             'both', 'but', 'by', 'can',\n",
       "                                             'couldn', \"couldn't\", ...})),\n",
       "                ('model',\n",
       "                 LGBMClassifier(class_weight='balanced', learning_rate=0.3,\n",
       "                                max_depth=85, n_estimators=150, num_leaves=150,\n",
       "                                random_state=123))])"
      ]
     },
     "execution_count": 87,
     "metadata": {},
     "output_type": "execute_result"
    }
   ],
   "source": [
    "%%time\n",
    "model_LGBM = Pipeline([\n",
    "    (\"count_vect\", CountVectorizer(stop_words=stop_words, dtype=np.float64)),\n",
    "    (\"model\", LGBMClassifier(**std_param, **best_LGBMClassifier))\n",
    "        ])\n",
    "model_LGBM.fit(X_cl, y_cl)"
   ]
  },
  {
   "cell_type": "markdown",
   "metadata": {
    "pycharm": {
     "name": "#%% md\n"
    }
   },
   "source": [
    "#### Проверка модели"
   ]
  },
  {
   "cell_type": "markdown",
   "metadata": {
    "pycharm": {
     "name": "#%% md\n"
    }
   },
   "source": [
    "Получим предсказания для обучающй и валидной выборки:"
   ]
  },
  {
   "cell_type": "code",
   "execution_count": 88,
   "metadata": {
    "pycharm": {
     "name": "#%%\n"
    }
   },
   "outputs": [],
   "source": [
    "predictions_train = model_LGBM.predict(X_cl)\n",
    "predictions_test = model_LGBM.predict(X_test)"
   ]
  },
  {
   "cell_type": "code",
   "execution_count": 89,
   "metadata": {
    "pycharm": {
     "name": "#%%\n"
    }
   },
   "outputs": [
    {
     "data": {
      "text/plain": [
       "<sklearn.metrics._plot.confusion_matrix.ConfusionMatrixDisplay at 0x20d59cc50a0>"
      ]
     },
     "execution_count": 89,
     "metadata": {},
     "output_type": "execute_result"
    },
    {
     "data": {
      "image/png": "[encoded data removed]",
      "text/plain": [
       "<Figure size 432x288 with 2 Axes>"
      ]
     },
     "metadata": {
      "needs_background": "light"
     },
     "output_type": "display_data"
    }
   ],
   "source": [
    "ConfusionMatrixDisplay.from_predictions(y_test, predictions_test)"
   ]
  },
  {
   "cell_type": "markdown",
   "metadata": {
    "pycharm": {
     "name": "#%% md\n"
    }
   },
   "source": [
    "Получим значения метрики `f1` для обучающй и валидной выборки."
   ]
  },
  {
   "cell_type": "code",
   "execution_count": 90,
   "metadata": {
    "pycharm": {
     "name": "#%%\n"
    }
   },
   "outputs": [],
   "source": [
    "f1_train = f1_score(y_cl, predictions_train)\n",
    "f1_test = f1_score(y_test, predictions_test)"
   ]
  },
  {
   "cell_type": "code",
   "execution_count": 91,
   "metadata": {
    "pycharm": {
     "name": "#%%\n"
    }
   },
   "outputs": [
    {
     "name": "stdout",
     "output_type": "stream",
     "text": [
      "---------------------------------------------------------------------------------------------------- \n",
      "\n",
      "Метрика F1 на обучающей выборке: \u001b[1m\u001b[46m 0.9586 \u001b[0m\n",
      "\n",
      "Метрика F1 на тестовой выборке: \u001b[1m\u001b[46m 0.7750 \u001b[0m\n",
      "\n",
      "---------------------------------------------------------------------------------------------------- \n",
      "\n"
     ]
    }
   ],
   "source": [
    "print('-'*TABLE_SIZE, '\\n')\n",
    "print(f'Метрика F1 на обучающей выборке: {text.BOLD}{text.BG_CYAN} {f1_train:.4f} {text.END}\\n')\n",
    "print(f'Метрика F1 на тестовой выборке: {text.BOLD}{text.BG_CYAN} {f1_test:.4f} {text.END}\\n')\n",
    "print('-'*TABLE_SIZE, '\\n')"
   ]
  },
  {
   "cell_type": "markdown",
   "metadata": {
    "pycharm": {
     "name": "#%% md\n"
    }
   },
   "source": [
    "### Логистическая регрессия"
   ]
  },
  {
   "cell_type": "markdown",
   "metadata": {
    "pycharm": {
     "name": "#%% md\n"
    }
   },
   "source": [
    "#### Обучение модели"
   ]
  },
  {
   "cell_type": "markdown",
   "metadata": {
    "pycharm": {
     "name": "#%% md\n"
    }
   },
   "source": [
    "Обучим лучшую подобранную модель:\n",
    "\n",
    "**Линейная регрессия с гиперпараметрами:**\n",
    "\n",
    "- `С` = **1.1**\n",
    "- `penalty` = **l2**"
   ]
  },
  {
   "cell_type": "code",
   "execution_count": 92,
   "metadata": {
    "pycharm": {
     "name": "#%%\n"
    }
   },
   "outputs": [
    {
     "data": {
      "text/plain": [
       "Pipeline(steps=[('count_vect',\n",
       "                 CountVectorizer(stop_words={'a', 'about', 'above', 'after',\n",
       "                                             'again', 'against', 'ain', 'all',\n",
       "                                             'am', 'an', 'and', 'any', 'are',\n",
       "                                             'aren', \"aren't\", 'as', 'at', 'be',\n",
       "                                             'because', 'been', 'before',\n",
       "                                             'being', 'below', 'between',\n",
       "                                             'both', 'but', 'by', 'can',\n",
       "                                             'couldn', \"couldn't\", ...})),\n",
       "                ('model',\n",
       "                 LogisticRegression(C=1.1, class_weight='balanced', n_jobs=-1,\n",
       "                                    random_state=123))])"
      ]
     },
     "execution_count": 92,
     "metadata": {},
     "output_type": "execute_result"
    }
   ],
   "source": [
    "model_log = Pipeline([\n",
    "    (\"count_vect\", CountVectorizer(stop_words=stop_words)),\n",
    "    (\"model\", LogisticRegression(**std_param, **best_LogisticRegression))\n",
    "        ])\n",
    "model_log.fit(X_cl, y_cl)"
   ]
  },
  {
   "cell_type": "markdown",
   "metadata": {
    "pycharm": {
     "name": "#%% md\n"
    }
   },
   "source": [
    "#### Проверка модели"
   ]
  },
  {
   "cell_type": "markdown",
   "metadata": {
    "pycharm": {
     "name": "#%% md\n"
    }
   },
   "source": [
    "Получим предсказания для обучающй и валидной выборки:"
   ]
  },
  {
   "cell_type": "code",
   "execution_count": 93,
   "metadata": {
    "pycharm": {
     "name": "#%%\n"
    }
   },
   "outputs": [],
   "source": [
    "predictions_train = model_log.predict(X_cl)\n",
    "predictions_test = model_log.predict(X_test)"
   ]
  },
  {
   "cell_type": "code",
   "execution_count": 94,
   "metadata": {
    "pycharm": {
     "name": "#%%\n"
    }
   },
   "outputs": [
    {
     "data": {
      "text/plain": [
       "<sklearn.metrics._plot.confusion_matrix.ConfusionMatrixDisplay at 0x20d404feca0>"
      ]
     },
     "execution_count": 94,
     "metadata": {},
     "output_type": "execute_result"
    },
    {
     "data": {
      "image/png": "[encoded data removed]",
      "text/plain": [
       "<Figure size 432x288 with 2 Axes>"
      ]
     },
     "metadata": {
      "needs_background": "light"
     },
     "output_type": "display_data"
    }
   ],
   "source": [
    "ConfusionMatrixDisplay.from_predictions(y_test, predictions_test)"
   ]
  },
  {
   "cell_type": "markdown",
   "metadata": {
    "pycharm": {
     "name": "#%% md\n"
    }
   },
   "source": [
    "Получим значения метрики `f1` для обучающй и валидной выборки."
   ]
  },
  {
   "cell_type": "code",
   "execution_count": 95,
   "metadata": {
    "pycharm": {
     "name": "#%%\n"
    }
   },
   "outputs": [],
   "source": [
    "f1_train = f1_score(y_cl, predictions_train)\n",
    "f1_test = f1_score(y_test, predictions_test)"
   ]
  },
  {
   "cell_type": "code",
   "execution_count": 96,
   "metadata": {
    "pycharm": {
     "name": "#%%\n"
    }
   },
   "outputs": [
    {
     "name": "stdout",
     "output_type": "stream",
     "text": [
      "---------------------------------------------------------------------------------------------------- \n",
      "\n",
      "Метрика F1 на обучающей выборке: \u001b[1m\u001b[46m 0.8879 \u001b[0m\n",
      "\n",
      "Метрика F1 на тестовой выборке: \u001b[1m\u001b[46m 0.7559 \u001b[0m\n",
      "\n",
      "---------------------------------------------------------------------------------------------------- \n",
      "\n"
     ]
    }
   ],
   "source": [
    "print('-'*TABLE_SIZE, '\\n')\n",
    "print(f'Метрика F1 на обучающей выборке: {text.BOLD}{text.BG_CYAN} {f1_train:.4f} {text.END}\\n')\n",
    "print(f'Метрика F1 на тестовой выборке: {text.BOLD}{text.BG_CYAN} {f1_test:.4f} {text.END}\\n')\n",
    "print('-'*TABLE_SIZE, '\\n')"
   ]
  },
  {
   "cell_type": "markdown",
   "metadata": {
    "pycharm": {
     "name": "#%% md\n"
    }
   },
   "source": [
    "### Рабочая модель"
   ]
  },
  {
   "cell_type": "markdown",
   "metadata": {
    "pycharm": {
     "name": "#%% md\n"
    }
   },
   "source": [
    "**Модель Градиентного бустинга работатет лучше и на валидации и на тесте.**"
   ]
  },
  {
   "cell_type": "markdown",
   "metadata": {
    "pycharm": {
     "name": "#%% md\n"
    }
   },
   "source": [
    "### Проверка модели на адекватность"
   ]
  },
  {
   "cell_type": "markdown",
   "metadata": {
    "pycharm": {
     "name": "#%% md\n"
    }
   },
   "source": [
    "Воспользуемся классом DummyClassifier для определения значения ключевой метрики модели на случайных целевых признках:"
   ]
  },
  {
   "cell_type": "code",
   "execution_count": 97,
   "metadata": {
    "pycharm": {
     "name": "#%%\n"
    }
   },
   "outputs": [
    {
     "name": "stdout",
     "output_type": "stream",
     "text": [
      "Метрика f1 для случайной модели: 0.1638\n"
     ]
    }
   ],
   "source": [
    "dummy_clf = DummyClassifier(strategy=\"uniform\", random_state=123)\n",
    "dummy_clf.fit(X_cl, y_cl)\n",
    "dummy_predictions = dummy_clf.predict(X_test)\n",
    "dummy_f1 = f1_score(y_test, dummy_predictions)\n",
    "print(f'Метрика f1 для случайной модели: {dummy_f1:.4f}')"
   ]
  },
  {
   "cell_type": "markdown",
   "metadata": {
    "pycharm": {
     "name": "#%% md\n"
    }
   },
   "source": [
    "Метрика `f1` на случайных ответах на уровне 0.16, соответстенно рабочая модель с метрикой `f1` на уровне 0.77 имеет предсказательную силу."
   ]
  },
  {
   "cell_type": "code",
   "execution_count": 98,
   "metadata": {
    "pycharm": {
     "name": "#%%\n"
    }
   },
   "outputs": [
    {
     "name": "stdout",
     "output_type": "stream",
     "text": [
      "Метрика f1 для константной модели: 0.1843\n"
     ]
    }
   ],
   "source": [
    "constant_predictions = pd.Series(1, index=X_test.index)\n",
    "constant_f1 = f1_score(y_test, constant_predictions)\n",
    "print(f'Метрика f1 для константной модели: {constant_f1:.4f}')"
   ]
  },
  {
   "cell_type": "markdown",
   "metadata": {
    "pycharm": {
     "name": "#%% md\n"
    }
   },
   "source": [
    "В рабочей модели значения метрик выше чем на случайной или константной модели, соответственно рабочая модель проходит проверку на адекватность."
   ]
  },
  {
   "cell_type": "code",
   "execution_count": 99,
   "metadata": {
    "pycharm": {
     "name": "#%%\n"
    }
   },
   "outputs": [],
   "source": [
    "del dummy_clf\n",
    "del constant_predictions\n",
    "del X_cl\n",
    "del y_cl\n",
    "del X_test\n",
    "del y_test"
   ]
  },
  {
   "cell_type": "markdown",
   "metadata": {
    "pycharm": {
     "name": "#%% md\n"
    }
   },
   "source": [
    "## Рабочий код"
   ]
  },
  {
   "cell_type": "markdown",
   "metadata": {
    "pycharm": {
     "name": "#%% md\n"
    }
   },
   "source": [
    "Функции обработки:"
   ]
  },
  {
   "cell_type": "code",
   "execution_count": 100,
   "metadata": {
    "pycharm": {
     "name": "#%%\n"
    }
   },
   "outputs": [],
   "source": [
    "def train_preparation(df_inp):\n",
    "    df = df_inp.copy()\n",
    "    result = df['text'].apply(lambda x: clear_text(lemmatize(x)))\n",
    "    \n",
    "    return result"
   ]
  },
  {
   "cell_type": "code",
   "execution_count": 101,
   "metadata": {
    "pycharm": {
     "name": "#%%\n"
    }
   },
   "outputs": [],
   "source": [
    "def get_model(df_train):\n",
    "    \n",
    "    model = Pipeline([\n",
    "        (\"count_vect\", CountVectorizer(stop_words=stop_words, dtype=np.float64)),\n",
    "        (\"model\", LGBMClassifier(\n",
    "            random_state = 123,\n",
    "            n_jobs = -1,\n",
    "            class_weight = 'balanced',\n",
    "            learning_rate = 0.3,\n",
    "            max_depth = 85,\n",
    "            num_leaves = 150,\n",
    "            n_estimators = 150,\n",
    "            ))\n",
    "        ])\n",
    "    \n",
    "    X_train = train_preparation(df_train)\n",
    "    y_train = df_train['toxic']\n",
    "    model.fit(X_train, y_train)\n",
    "    \n",
    "    return model"
   ]
  },
  {
   "cell_type": "code",
   "execution_count": 102,
   "metadata": {
    "pycharm": {
     "name": "#%%\n"
    }
   },
   "outputs": [],
   "source": [
    "def get_predictions(df_inp, work_model):\n",
    "    X_test = train_preparation(df_inp)\n",
    "    return work_model.predict(X_test)"
   ]
  },
  {
   "cell_type": "markdown",
   "metadata": {
    "pycharm": {
     "name": "#%% md\n"
    }
   },
   "source": [
    "Создадим наборы данных максимально приближенные к реальному использованию модели предсказаний. Т.е. предварительно необработанные."
   ]
  },
  {
   "cell_type": "markdown",
   "metadata": {
    "pycharm": {
     "name": "#%% md\n"
    }
   },
   "source": [
    "**1. Разделим исходный (загруженный из файла) набор данных на обучающую и тестовую выборки**"
   ]
  },
  {
   "cell_type": "code",
   "execution_count": 103,
   "metadata": {
    "pycharm": {
     "name": "#%%\n"
    }
   },
   "outputs": [
    {
     "name": "stdout",
     "output_type": "stream",
     "text": [
      "\n"
     ]
    },
    {
     "data": {
      "text/html": [
       "<style type=\"text/css\">\n",
       "</style>\n",
       "<table id=\"T_57cdb_\">\n",
       "  <thead>\n",
       "    <tr>\n",
       "      <th class=\"blank level0\" >&nbsp;</th>\n",
       "      <th class=\"col_heading level0 col0\" >Выборка:</th>\n",
       "      <th class=\"col_heading level0 col1\" >Количество значений:</th>\n",
       "      <th class=\"col_heading level0 col2\" >Доля выборки:</th>\n",
       "    </tr>\n",
       "  </thead>\n",
       "  <tbody>\n",
       "    <tr>\n",
       "      <th id=\"T_57cdb_level0_row0\" class=\"row_heading level0 row0\" >0</th>\n",
       "      <td id=\"T_57cdb_row0_col0\" class=\"data row0 col0\" >Исследовательская</td>\n",
       "      <td id=\"T_57cdb_row0_col1\" class=\"data row0 col1\" >127656</td>\n",
       "      <td id=\"T_57cdb_row0_col2\" class=\"data row0 col2\" >80.00%</td>\n",
       "    </tr>\n",
       "    <tr>\n",
       "      <th id=\"T_57cdb_level0_row1\" class=\"row_heading level0 row1\" >1</th>\n",
       "      <td id=\"T_57cdb_row1_col0\" class=\"data row1 col0\" >Тестовая</td>\n",
       "      <td id=\"T_57cdb_row1_col1\" class=\"data row1 col1\" >31915</td>\n",
       "      <td id=\"T_57cdb_row1_col2\" class=\"data row1 col2\" >20.00%</td>\n",
       "    </tr>\n",
       "  </tbody>\n",
       "</table>\n"
      ],
      "text/plain": [
       "<pandas.io.formats.style.Styler at 0x20d3e652670>"
      ]
     },
     "metadata": {},
     "output_type": "display_data"
    }
   ],
   "source": [
    "df_train_life, df_test_life = research_test_split(df)"
   ]
  },
  {
   "cell_type": "markdown",
   "metadata": {
    "pycharm": {
     "name": "#%% md\n"
    }
   },
   "source": [
    "**2. Отделим целевой признак от тестовой выборки**"
   ]
  },
  {
   "cell_type": "code",
   "execution_count": 104,
   "metadata": {
    "pycharm": {
     "name": "#%%\n"
    }
   },
   "outputs": [],
   "source": [
    "X_life, y_life = xy_split(df_test_life, 'toxic')"
   ]
  },
  {
   "cell_type": "markdown",
   "metadata": {
    "pycharm": {
     "name": "#%% md\n"
    }
   },
   "source": [
    "**3. Создадим и обучим модель используя исходный набор данных и функции обработки**"
   ]
  },
  {
   "cell_type": "code",
   "execution_count": 105,
   "metadata": {
    "pycharm": {
     "name": "#%%\n"
    }
   },
   "outputs": [],
   "source": [
    "time_start_learning = time.time()"
   ]
  },
  {
   "cell_type": "code",
   "execution_count": 106,
   "metadata": {
    "pycharm": {
     "name": "#%%\n"
    }
   },
   "outputs": [],
   "source": [
    "work_model = get_model(df_train_life)"
   ]
  },
  {
   "cell_type": "code",
   "execution_count": 107,
   "metadata": {
    "pycharm": {
     "name": "#%%\n"
    }
   },
   "outputs": [
    {
     "data": {
      "text/plain": [
       "Pipeline(steps=[('count_vect',\n",
       "                 CountVectorizer(dtype=<class 'numpy.float64'>,\n",
       "                                 stop_words={'a', 'about', 'above', 'after',\n",
       "                                             'again', 'against', 'ain', 'all',\n",
       "                                             'am', 'an', 'and', 'any', 'are',\n",
       "                                             'aren', \"aren't\", 'as', 'at', 'be',\n",
       "                                             'because', 'been', 'before',\n",
       "                                             'being', 'below', 'between',\n",
       "                                             'both', 'but', 'by', 'can',\n",
       "                                             'couldn', \"couldn't\", ...})),\n",
       "                ('model',\n",
       "                 LGBMClassifier(class_weight='balanced', learning_rate=0.3,\n",
       "                                max_depth=85, n_estimators=150, num_leaves=150,\n",
       "                                random_state=123))])"
      ]
     },
     "execution_count": 107,
     "metadata": {},
     "output_type": "execute_result"
    }
   ],
   "source": [
    "work_model"
   ]
  },
  {
   "cell_type": "code",
   "execution_count": 108,
   "metadata": {
    "pycharm": {
     "name": "#%%\n"
    }
   },
   "outputs": [
    {
     "name": "stdout",
     "output_type": "stream",
     "text": [
      "Время обучения модели: 492.467 сек\n"
     ]
    }
   ],
   "source": [
    "print(f'Время обучения модели: {round(time.time() - time_start_learning, 3)} сек')"
   ]
  },
  {
   "cell_type": "markdown",
   "metadata": {
    "pycharm": {
     "name": "#%% md\n"
    }
   },
   "source": [
    "**4. Получим предсказания на входном наборе данных**"
   ]
  },
  {
   "cell_type": "code",
   "execution_count": 109,
   "metadata": {
    "pycharm": {
     "name": "#%%\n"
    }
   },
   "outputs": [],
   "source": [
    "time_start_predictions = time.time()"
   ]
  },
  {
   "cell_type": "code",
   "execution_count": 110,
   "metadata": {
    "pycharm": {
     "name": "#%%\n"
    }
   },
   "outputs": [],
   "source": [
    "predictions_life = get_predictions(X_life, work_model)"
   ]
  },
  {
   "cell_type": "code",
   "execution_count": 111,
   "metadata": {
    "pycharm": {
     "name": "#%%\n"
    },
    "scrolled": true
   },
   "outputs": [
    {
     "name": "stdout",
     "output_type": "stream",
     "text": [
      "Время предсказания модели: 129.121 сек\n"
     ]
    }
   ],
   "source": [
    "print(f'Время предсказания модели: {round(time.time() - time_start_predictions, 3)} сек')"
   ]
  },
  {
   "cell_type": "markdown",
   "metadata": {
    "pycharm": {
     "name": "#%% md\n"
    }
   },
   "source": [
    "**Проверим метрики**"
   ]
  },
  {
   "cell_type": "code",
   "execution_count": 112,
   "metadata": {
    "pycharm": {
     "name": "#%%\n"
    }
   },
   "outputs": [
    {
     "name": "stdout",
     "output_type": "stream",
     "text": [
      "---------------------------------------------------------------------------------------------------- \n",
      "\n",
      "Метрика F1: \u001b[1m\u001b[46m 0.7750 \u001b[0m\n",
      "\n",
      "---------------------------------------------------------------------------------------------------- \n",
      "\n"
     ]
    }
   ],
   "source": [
    "print('-'*TABLE_SIZE, '\\n')\n",
    "print(f'Метрика F1: {text.BOLD}{text.BG_CYAN} {f1_score(y_life, predictions_life):.4f} {text.END}\\n')\n",
    "print('-'*TABLE_SIZE, '\\n')"
   ]
  },
  {
   "cell_type": "markdown",
   "metadata": {
    "pycharm": {
     "name": "#%% md\n"
    }
   },
   "source": [
    "**Вывод:**\n",
    "\n",
    "- Точность предсказания высокая\n",
    "- Время обучения высокое *\n",
    "- Время предказания высокое *\n",
    "- \\* *скорость обучения/предсказания не ставилась в целях исследования*"
   ]
  },
  {
   "cell_type": "markdown",
   "metadata": {
    "pycharm": {
     "name": "#%% md\n"
    }
   },
   "source": [
    "## Общие выводы"
   ]
  },
  {
   "cell_type": "markdown",
   "metadata": {
    "pycharm": {
     "name": "#%% md\n"
    }
   },
   "source": [
    "**1. Загружен набор комментариев с разметкой о токсичности и подготовлен к работе с моделями**\n",
    "- В среднем тексты комментариев содержат 400 символов, но есть и выбросы с количеством символов до 5000.\n",
    "- Тексты комментариев леммаизированы с помощью билиотеки `spaCy`.\n",
    "- Преобразование текстов техникой `мешка слов` имеет преимущество перед техникой `оценки важности слова величиной TF-IDF`\n",
    "\n",
    "**2. Пободрана модель предсказания токсичности комментария:**\n",
    "\n",
    "***LGBMRegressor(class_weight='balanced', learning_rate=0.3, max_depth=85, n_estimators=150, num_leaves=150, random_state=123)***\n",
    "- Модель градиентного бустинга имеет лучшую точность предсказаний, но скорость работы ниже других рассматриваемых моделей\n",
    "- Для модели градиентного бустинга подобраны гиперапараметры, создан рабочий код, проверена работоспособность на тестовой выборке\n",
    "- Качество предсказаний, выраженное в метрике F1, составило порядка 0.775"
   ]
  },
  {
   "cell_type": "code",
   "execution_count": 113,
   "metadata": {
    "pycharm": {
     "name": "#%%\n"
    }
   },
   "outputs": [],
   "source": [
    "END_PROJECT = time.time()"
   ]
  },
  {
   "cell_type": "code",
   "execution_count": 114,
   "metadata": {
    "pycharm": {
     "name": "#%%\n"
    }
   },
   "outputs": [
    {
     "name": "stdout",
     "output_type": "stream",
     "text": [
      "Время вычисления проекта:\n",
      "\u001b[1m\u001b[46m 0 ч 34 мин 11 сек \u001b[0m\n"
     ]
    }
   ],
   "source": [
    "full_time = END_PROJECT - START_PROJECT\n",
    "hour = int(full_time / 3600)\n",
    "print(f'Время вычисления проекта:\\n{text.BOLD}{text.BG_CYAN} {hour} ч {time.localtime(full_time)[4]} мин {time.localtime(full_time)[5]} сек {text.END}')"
   ]
  },
  {
   "cell_type": "markdown",
   "metadata": {
    "pycharm": {
     "name": "#%% md\n"
    }
   },
   "source": [
    "---"
   ]
  }
 ],
 "metadata": {
  "ExecuteTimeLog": [
   {
    "duration": 134,
    "start_time": "2022-03-28T08:19:05.036Z"
   },
   {
    "duration": 503,
    "start_time": "2022-03-28T08:20:54.786Z"
   },
   {
    "duration": 1793,
    "start_time": "2022-03-28T08:21:00.953Z"
   },
   {
    "duration": 472,
    "start_time": "2022-03-28T08:23:27.160Z"
   },
   {
    "duration": 3,
    "start_time": "2022-03-28T08:23:35.287Z"
   },
   {
    "duration": 2,
    "start_time": "2022-03-28T08:25:05.814Z"
   },
   {
    "duration": 4,
    "start_time": "2022-03-28T08:25:30.955Z"
   },
   {
    "duration": 4,
    "start_time": "2022-03-28T08:25:45.129Z"
   },
   {
    "duration": 4,
    "start_time": "2022-03-28T08:25:52.114Z"
   },
   {
    "duration": 8,
    "start_time": "2022-03-28T08:25:59.107Z"
   },
   {
    "duration": 11,
    "start_time": "2022-03-28T08:27:02.356Z"
   },
   {
    "duration": 4,
    "start_time": "2022-03-28T08:27:57.177Z"
   },
   {
    "duration": 1827,
    "start_time": "2022-03-28T08:28:02.448Z"
   },
   {
    "duration": 4,
    "start_time": "2022-03-28T08:30:14.435Z"
   },
   {
    "duration": 8,
    "start_time": "2022-03-28T08:30:17.694Z"
   },
   {
    "duration": 5,
    "start_time": "2022-03-28T08:32:02.995Z"
   },
   {
    "duration": 4,
    "start_time": "2022-03-28T08:32:10.110Z"
   },
   {
    "duration": 5,
    "start_time": "2022-03-28T08:32:11.323Z"
   },
   {
    "duration": 6,
    "start_time": "2022-03-28T08:33:22.493Z"
   },
   {
    "duration": 7,
    "start_time": "2022-03-28T08:33:31.563Z"
   },
   {
    "duration": 9,
    "start_time": "2022-03-28T08:33:39.704Z"
   },
   {
    "duration": 11,
    "start_time": "2022-03-28T08:33:51.228Z"
   },
   {
    "duration": 143,
    "start_time": "2022-03-28T08:34:33.509Z"
   },
   {
    "duration": 123,
    "start_time": "2022-03-28T08:34:48.169Z"
   },
   {
    "duration": 7,
    "start_time": "2022-03-28T08:35:12.272Z"
   },
   {
    "duration": 13,
    "start_time": "2022-03-28T08:35:21.412Z"
   },
   {
    "duration": 116,
    "start_time": "2022-03-28T08:35:30.087Z"
   },
   {
    "duration": 14,
    "start_time": "2022-03-28T08:35:33.806Z"
   },
   {
    "duration": 16,
    "start_time": "2022-03-28T08:35:41.727Z"
   },
   {
    "duration": 19,
    "start_time": "2022-03-28T08:35:44.132Z"
   },
   {
    "duration": 14,
    "start_time": "2022-03-28T08:35:54.899Z"
   },
   {
    "duration": 18,
    "start_time": "2022-03-28T08:35:57.549Z"
   },
   {
    "duration": 117,
    "start_time": "2022-03-28T08:36:07.070Z"
   },
   {
    "duration": 13,
    "start_time": "2022-03-28T08:36:14.833Z"
   },
   {
    "duration": 122,
    "start_time": "2022-03-28T08:36:26.807Z"
   },
   {
    "duration": 14,
    "start_time": "2022-03-28T08:36:44.326Z"
   },
   {
    "duration": 4,
    "start_time": "2022-03-28T08:36:58.899Z"
   },
   {
    "duration": 5,
    "start_time": "2022-03-28T08:36:59.530Z"
   },
   {
    "duration": 5,
    "start_time": "2022-03-28T08:37:08.310Z"
   },
   {
    "duration": 6,
    "start_time": "2022-03-28T08:37:09.324Z"
   },
   {
    "duration": 6,
    "start_time": "2022-03-28T08:37:19.615Z"
   },
   {
    "duration": 6,
    "start_time": "2022-03-28T08:38:27.843Z"
   },
   {
    "duration": 30,
    "start_time": "2022-03-28T08:38:30.124Z"
   },
   {
    "duration": 178,
    "start_time": "2022-03-28T08:38:31.047Z"
   },
   {
    "duration": 535,
    "start_time": "2022-03-28T08:38:32.201Z"
   },
   {
    "duration": 4,
    "start_time": "2022-03-28T08:38:32.738Z"
   },
   {
    "duration": 5,
    "start_time": "2022-03-28T08:38:34.270Z"
   },
   {
    "duration": 130,
    "start_time": "2022-03-28T08:39:20.339Z"
   },
   {
    "duration": 300,
    "start_time": "2022-03-28T08:51:59.352Z"
   },
   {
    "duration": 208,
    "start_time": "2022-03-28T08:52:07.393Z"
   },
   {
    "duration": 132,
    "start_time": "2022-03-28T08:52:13.813Z"
   },
   {
    "duration": 133,
    "start_time": "2022-03-28T08:52:16.974Z"
   },
   {
    "duration": 184,
    "start_time": "2022-03-28T08:52:22.310Z"
   },
   {
    "duration": 198,
    "start_time": "2022-03-28T08:52:36.754Z"
   },
   {
    "duration": 193,
    "start_time": "2022-03-28T08:52:43.650Z"
   },
   {
    "duration": 143,
    "start_time": "2022-03-28T08:52:59.249Z"
   },
   {
    "duration": 24,
    "start_time": "2022-03-28T08:53:04.086Z"
   },
   {
    "duration": 190,
    "start_time": "2022-03-28T08:53:26.235Z"
   },
   {
    "duration": 135,
    "start_time": "2022-03-28T08:53:52.294Z"
   },
   {
    "duration": 67,
    "start_time": "2022-03-28T09:39:25.561Z"
   },
   {
    "duration": 477,
    "start_time": "2022-03-28T09:39:32.892Z"
   },
   {
    "duration": 1216,
    "start_time": "2022-03-28T09:39:33.371Z"
   },
   {
    "duration": 518,
    "start_time": "2022-03-28T09:39:34.589Z"
   },
   {
    "duration": 5,
    "start_time": "2022-03-28T09:39:35.109Z"
   },
   {
    "duration": 9,
    "start_time": "2022-03-28T09:39:35.118Z"
   },
   {
    "duration": 6,
    "start_time": "2022-03-28T09:39:35.130Z"
   },
   {
    "duration": 10,
    "start_time": "2022-03-28T09:39:35.139Z"
   },
   {
    "duration": 31,
    "start_time": "2022-03-28T09:39:35.151Z"
   },
   {
    "duration": 10,
    "start_time": "2022-03-28T09:39:35.184Z"
   },
   {
    "duration": 15,
    "start_time": "2022-03-28T09:39:35.197Z"
   },
   {
    "duration": 26,
    "start_time": "2022-03-28T09:39:35.214Z"
   },
   {
    "duration": 2624,
    "start_time": "2022-03-28T09:39:35.242Z"
   },
   {
    "duration": 13,
    "start_time": "2022-03-28T09:39:37.869Z"
   },
   {
    "duration": 9,
    "start_time": "2022-03-28T09:39:37.886Z"
   },
   {
    "duration": 4,
    "start_time": "2022-03-28T09:39:45.570Z"
   },
   {
    "duration": 10,
    "start_time": "2022-03-28T09:39:45.578Z"
   },
   {
    "duration": 14,
    "start_time": "2022-03-28T09:39:45.590Z"
   },
   {
    "duration": 6,
    "start_time": "2022-03-28T09:39:45.607Z"
   },
   {
    "duration": 15,
    "start_time": "2022-03-28T09:39:45.616Z"
   },
   {
    "duration": 10,
    "start_time": "2022-03-28T09:39:45.633Z"
   },
   {
    "duration": 16,
    "start_time": "2022-03-28T09:39:45.645Z"
   },
   {
    "duration": 10,
    "start_time": "2022-03-28T09:39:45.663Z"
   },
   {
    "duration": 22,
    "start_time": "2022-03-28T09:39:45.675Z"
   },
   {
    "duration": 22,
    "start_time": "2022-03-28T09:39:45.700Z"
   },
   {
    "duration": 21,
    "start_time": "2022-03-28T09:39:45.724Z"
   },
   {
    "duration": 2051,
    "start_time": "2022-03-28T09:39:45.747Z"
   },
   {
    "duration": 7,
    "start_time": "2022-03-28T09:39:47.801Z"
   },
   {
    "duration": 28,
    "start_time": "2022-03-28T09:39:47.810Z"
   },
   {
    "duration": 44,
    "start_time": "2022-03-28T09:39:47.840Z"
   },
   {
    "duration": 247,
    "start_time": "2022-03-28T09:39:47.888Z"
   },
   {
    "duration": 598,
    "start_time": "2022-03-28T09:39:48.137Z"
   },
   {
    "duration": 5,
    "start_time": "2022-03-28T09:39:48.737Z"
   },
   {
    "duration": 17,
    "start_time": "2022-03-28T09:39:48.744Z"
   },
   {
    "duration": 6,
    "start_time": "2022-03-28T09:39:49.694Z"
   },
   {
    "duration": 68,
    "start_time": "2022-03-28T09:50:50.739Z"
   },
   {
    "duration": 5,
    "start_time": "2022-03-28T09:51:36.066Z"
   },
   {
    "duration": 6,
    "start_time": "2022-03-28T09:51:47.830Z"
   },
   {
    "duration": 193,
    "start_time": "2022-03-28T09:51:55.521Z"
   },
   {
    "duration": 4,
    "start_time": "2022-03-28T09:52:02.813Z"
   },
   {
    "duration": 7,
    "start_time": "2022-03-28T09:52:07.266Z"
   },
   {
    "duration": 658,
    "start_time": "2022-03-28T09:52:20.305Z"
   },
   {
    "duration": 4,
    "start_time": "2022-03-28T09:53:39.189Z"
   },
   {
    "duration": 1033,
    "start_time": "2022-03-28T09:53:55.542Z"
   },
   {
    "duration": 776,
    "start_time": "2022-03-28T09:54:01.396Z"
   },
   {
    "duration": 4,
    "start_time": "2022-03-28T09:54:03.258Z"
   },
   {
    "duration": 5,
    "start_time": "2022-03-28T09:54:18.222Z"
   },
   {
    "duration": 6,
    "start_time": "2022-03-28T09:54:25.801Z"
   },
   {
    "duration": 167,
    "start_time": "2022-03-28T09:54:39.299Z"
   },
   {
    "duration": 6,
    "start_time": "2022-03-28T09:54:45.462Z"
   },
   {
    "duration": 6,
    "start_time": "2022-03-28T09:54:49.892Z"
   },
   {
    "duration": 329,
    "start_time": "2022-03-28T09:55:31.516Z"
   },
   {
    "duration": 8,
    "start_time": "2022-03-28T09:56:41.898Z"
   },
   {
    "duration": 382,
    "start_time": "2022-03-28T09:56:53.860Z"
   },
   {
    "duration": 9,
    "start_time": "2022-03-28T10:00:56.152Z"
   },
   {
    "duration": 371,
    "start_time": "2022-03-28T10:09:33.622Z"
   },
   {
    "duration": 13,
    "start_time": "2022-03-28T10:12:15.092Z"
   },
   {
    "duration": 512,
    "start_time": "2022-03-28T10:12:18.397Z"
   },
   {
    "duration": 14,
    "start_time": "2022-03-28T10:12:35.881Z"
   },
   {
    "duration": 537,
    "start_time": "2022-03-28T10:12:39.254Z"
   },
   {
    "duration": 13,
    "start_time": "2022-03-28T10:19:14.469Z"
   },
   {
    "duration": 328,
    "start_time": "2022-03-28T10:19:20.262Z"
   },
   {
    "duration": 421,
    "start_time": "2022-03-28T10:19:28.999Z"
   },
   {
    "duration": 11,
    "start_time": "2022-03-28T10:19:57.407Z"
   },
   {
    "duration": 325,
    "start_time": "2022-03-28T10:20:01.203Z"
   },
   {
    "duration": 469,
    "start_time": "2022-03-28T10:20:02.148Z"
   },
   {
    "duration": 6,
    "start_time": "2022-03-28T10:23:49.271Z"
   },
   {
    "duration": 10,
    "start_time": "2022-03-28T10:23:52.769Z"
   },
   {
    "duration": 386,
    "start_time": "2022-03-28T10:23:59.126Z"
   },
   {
    "duration": 426,
    "start_time": "2022-03-28T10:24:02.882Z"
   },
   {
    "duration": 11,
    "start_time": "2022-03-28T10:25:18.323Z"
   },
   {
    "duration": 329,
    "start_time": "2022-03-28T10:25:22.787Z"
   },
   {
    "duration": 421,
    "start_time": "2022-03-28T10:25:25.536Z"
   },
   {
    "duration": 7,
    "start_time": "2022-03-28T10:25:37.441Z"
   },
   {
    "duration": 12,
    "start_time": "2022-03-28T10:26:00.346Z"
   },
   {
    "duration": 377,
    "start_time": "2022-03-28T10:26:03.546Z"
   },
   {
    "duration": 459,
    "start_time": "2022-03-28T10:26:05.723Z"
   },
   {
    "duration": 328,
    "start_time": "2022-03-28T10:26:57.359Z"
   },
   {
    "duration": 625,
    "start_time": "2022-03-28T10:27:04.535Z"
   },
   {
    "duration": 475,
    "start_time": "2022-03-28T10:27:36.132Z"
   },
   {
    "duration": 429,
    "start_time": "2022-03-28T10:27:42.139Z"
   },
   {
    "duration": 280,
    "start_time": "2022-03-28T10:27:59.214Z"
   },
   {
    "duration": 259,
    "start_time": "2022-03-28T10:28:06.511Z"
   },
   {
    "duration": 158,
    "start_time": "2022-03-28T10:28:16.708Z"
   },
   {
    "duration": 210,
    "start_time": "2022-03-28T10:28:28.948Z"
   },
   {
    "duration": 166,
    "start_time": "2022-03-28T10:29:01.080Z"
   },
   {
    "duration": 172,
    "start_time": "2022-03-28T10:29:07.527Z"
   },
   {
    "duration": 174,
    "start_time": "2022-03-28T10:29:16.750Z"
   },
   {
    "duration": 573,
    "start_time": "2022-03-28T10:29:25.178Z"
   },
   {
    "duration": 11,
    "start_time": "2022-03-28T10:29:44.136Z"
   },
   {
    "duration": 324,
    "start_time": "2022-03-28T10:29:49.321Z"
   },
   {
    "duration": 337,
    "start_time": "2022-03-28T10:29:51.782Z"
   },
   {
    "duration": 428,
    "start_time": "2022-03-28T10:29:57.274Z"
   },
   {
    "duration": 13,
    "start_time": "2022-03-28T10:30:13.327Z"
   },
   {
    "duration": 359,
    "start_time": "2022-03-28T10:30:17.884Z"
   },
   {
    "duration": 351,
    "start_time": "2022-03-28T10:30:18.862Z"
   },
   {
    "duration": 717,
    "start_time": "2022-03-28T10:30:20.290Z"
   },
   {
    "duration": 5,
    "start_time": "2022-03-28T10:33:36.135Z"
   },
   {
    "duration": 7,
    "start_time": "2022-03-28T10:33:38.567Z"
   },
   {
    "duration": 4,
    "start_time": "2022-03-28T10:33:43.708Z"
   },
   {
    "duration": 8,
    "start_time": "2022-03-28T10:33:44.781Z"
   },
   {
    "duration": 4,
    "start_time": "2022-03-28T10:33:46.068Z"
   },
   {
    "duration": 7,
    "start_time": "2022-03-28T10:33:47.161Z"
   },
   {
    "duration": 410,
    "start_time": "2022-03-28T10:36:01.103Z"
   },
   {
    "duration": 326,
    "start_time": "2022-03-28T10:36:57.037Z"
   },
   {
    "duration": 330,
    "start_time": "2022-03-28T10:37:01.956Z"
   },
   {
    "duration": 319,
    "start_time": "2022-03-28T10:43:06.139Z"
   },
   {
    "duration": 5,
    "start_time": "2022-03-28T10:43:13.781Z"
   },
   {
    "duration": 12,
    "start_time": "2022-03-28T10:44:22.104Z"
   },
   {
    "duration": 131,
    "start_time": "2022-03-28T10:44:38.059Z"
   },
   {
    "duration": 131,
    "start_time": "2022-03-28T10:44:49.218Z"
   },
   {
    "duration": 127,
    "start_time": "2022-03-28T10:45:51.473Z"
   },
   {
    "duration": 124,
    "start_time": "2022-03-28T10:46:14.049Z"
   },
   {
    "duration": 127,
    "start_time": "2022-03-28T10:46:21.160Z"
   },
   {
    "duration": 163,
    "start_time": "2022-03-28T10:47:07.172Z"
   },
   {
    "duration": 121,
    "start_time": "2022-03-28T10:47:15.843Z"
   },
   {
    "duration": 132,
    "start_time": "2022-03-28T10:47:20.650Z"
   },
   {
    "duration": 127,
    "start_time": "2022-03-28T10:47:22.509Z"
   },
   {
    "duration": 130,
    "start_time": "2022-03-28T10:47:30.645Z"
   },
   {
    "duration": 125,
    "start_time": "2022-03-28T10:47:35.082Z"
   },
   {
    "duration": 234,
    "start_time": "2022-03-28T10:47:57.986Z"
   },
   {
    "duration": 241,
    "start_time": "2022-03-28T10:48:06.230Z"
   },
   {
    "duration": 141,
    "start_time": "2022-03-28T10:48:26.790Z"
   },
   {
    "duration": 153,
    "start_time": "2022-03-28T10:48:38.882Z"
   },
   {
    "duration": 146,
    "start_time": "2022-03-28T10:48:54.708Z"
   },
   {
    "duration": 144,
    "start_time": "2022-03-28T10:49:18.865Z"
   },
   {
    "duration": 150,
    "start_time": "2022-03-28T10:50:05.638Z"
   },
   {
    "duration": 223,
    "start_time": "2022-03-28T10:51:27.360Z"
   },
   {
    "duration": 171,
    "start_time": "2022-03-28T10:52:08.280Z"
   },
   {
    "duration": 322,
    "start_time": "2022-03-28T10:52:13.876Z"
   },
   {
    "duration": 1636,
    "start_time": "2022-03-28T10:52:23.973Z"
   },
   {
    "duration": 133,
    "start_time": "2022-03-28T10:52:40.724Z"
   },
   {
    "duration": 434,
    "start_time": "2022-03-29T01:31:16.673Z"
   },
   {
    "duration": 940,
    "start_time": "2022-03-29T01:31:17.109Z"
   },
   {
    "duration": 368,
    "start_time": "2022-03-29T01:31:18.051Z"
   },
   {
    "duration": 2,
    "start_time": "2022-03-29T01:31:18.422Z"
   },
   {
    "duration": 4,
    "start_time": "2022-03-29T01:31:18.426Z"
   },
   {
    "duration": 5,
    "start_time": "2022-03-29T01:31:18.432Z"
   },
   {
    "duration": 4,
    "start_time": "2022-03-29T01:31:18.439Z"
   },
   {
    "duration": 7,
    "start_time": "2022-03-29T01:31:18.444Z"
   },
   {
    "duration": 4,
    "start_time": "2022-03-29T01:31:18.453Z"
   },
   {
    "duration": 8,
    "start_time": "2022-03-29T01:31:18.459Z"
   },
   {
    "duration": 35,
    "start_time": "2022-03-29T01:31:18.469Z"
   },
   {
    "duration": 7,
    "start_time": "2022-03-29T01:31:18.505Z"
   },
   {
    "duration": 5066,
    "start_time": "2022-03-29T01:31:18.513Z"
   },
   {
    "duration": 4,
    "start_time": "2022-03-29T01:31:23.580Z"
   },
   {
    "duration": 17,
    "start_time": "2022-03-29T01:31:23.586Z"
   },
   {
    "duration": 17,
    "start_time": "2022-03-29T01:31:23.605Z"
   },
   {
    "duration": 148,
    "start_time": "2022-03-29T01:31:23.623Z"
   },
   {
    "duration": 449,
    "start_time": "2022-03-29T01:31:23.773Z"
   },
   {
    "duration": 3,
    "start_time": "2022-03-29T01:31:24.224Z"
   },
   {
    "duration": 5,
    "start_time": "2022-03-29T01:31:24.229Z"
   },
   {
    "duration": 66,
    "start_time": "2022-03-29T01:31:24.235Z"
   },
   {
    "duration": 3,
    "start_time": "2022-03-29T01:31:24.303Z"
   },
   {
    "duration": 8,
    "start_time": "2022-03-29T01:31:24.307Z"
   },
   {
    "duration": 3,
    "start_time": "2022-03-29T01:31:24.316Z"
   },
   {
    "duration": 6,
    "start_time": "2022-03-29T01:31:24.320Z"
   },
   {
    "duration": 590,
    "start_time": "2022-03-29T01:31:24.327Z"
   },
   {
    "duration": 498,
    "start_time": "2022-03-29T01:31:24.918Z"
   },
   {
    "duration": 294,
    "start_time": "2022-03-29T01:31:25.419Z"
   },
   {
    "duration": 3,
    "start_time": "2022-03-29T01:31:25.715Z"
   },
   {
    "duration": 108,
    "start_time": "2022-03-29T01:31:25.720Z"
   },
   {
    "duration": 175,
    "start_time": "2022-03-29T01:31:25.829Z"
   },
   {
    "duration": 107,
    "start_time": "2022-03-29T01:32:02.776Z"
   },
   {
    "duration": 10,
    "start_time": "2022-03-29T01:32:05.658Z"
   },
   {
    "duration": 5,
    "start_time": "2022-03-29T01:32:09.558Z"
   },
   {
    "duration": 9,
    "start_time": "2022-03-29T01:32:13.332Z"
   },
   {
    "duration": 5,
    "start_time": "2022-03-29T01:32:15.471Z"
   },
   {
    "duration": 9,
    "start_time": "2022-03-29T01:34:07.370Z"
   },
   {
    "duration": 9,
    "start_time": "2022-03-29T01:34:34.064Z"
   },
   {
    "duration": 410,
    "start_time": "2022-03-29T01:34:38.367Z"
   },
   {
    "duration": 4,
    "start_time": "2022-03-29T01:45:00.428Z"
   },
   {
    "duration": 220,
    "start_time": "2022-03-29T01:45:16.186Z"
   },
   {
    "duration": 3,
    "start_time": "2022-03-29T01:45:23.217Z"
   },
   {
    "duration": 3,
    "start_time": "2022-03-29T01:45:23.230Z"
   },
   {
    "duration": 5,
    "start_time": "2022-03-29T01:45:23.235Z"
   },
   {
    "duration": 4,
    "start_time": "2022-03-29T01:45:23.241Z"
   },
   {
    "duration": 4,
    "start_time": "2022-03-29T01:45:23.247Z"
   },
   {
    "duration": 5,
    "start_time": "2022-03-29T01:45:23.253Z"
   },
   {
    "duration": 8,
    "start_time": "2022-03-29T01:45:23.260Z"
   },
   {
    "duration": 13,
    "start_time": "2022-03-29T01:45:23.270Z"
   },
   {
    "duration": 8,
    "start_time": "2022-03-29T01:45:23.285Z"
   },
   {
    "duration": 18,
    "start_time": "2022-03-29T01:45:23.295Z"
   },
   {
    "duration": 18,
    "start_time": "2022-03-29T01:45:23.315Z"
   },
   {
    "duration": 13,
    "start_time": "2022-03-29T01:45:23.335Z"
   },
   {
    "duration": 4676,
    "start_time": "2022-03-29T01:45:23.350Z"
   },
   {
    "duration": 4,
    "start_time": "2022-03-29T01:45:28.027Z"
   },
   {
    "duration": 6,
    "start_time": "2022-03-29T01:45:28.033Z"
   },
   {
    "duration": 16,
    "start_time": "2022-03-29T01:45:28.040Z"
   },
   {
    "duration": 150,
    "start_time": "2022-03-29T01:45:28.058Z"
   },
   {
    "duration": 424,
    "start_time": "2022-03-29T01:45:28.210Z"
   },
   {
    "duration": 4,
    "start_time": "2022-03-29T01:45:28.636Z"
   },
   {
    "duration": 17,
    "start_time": "2022-03-29T01:45:28.641Z"
   },
   {
    "duration": 45,
    "start_time": "2022-03-29T01:45:28.659Z"
   },
   {
    "duration": 3,
    "start_time": "2022-03-29T01:45:28.706Z"
   },
   {
    "duration": 14,
    "start_time": "2022-03-29T01:45:28.711Z"
   },
   {
    "duration": 9,
    "start_time": "2022-03-29T01:45:28.727Z"
   },
   {
    "duration": 11,
    "start_time": "2022-03-29T01:45:28.738Z"
   },
   {
    "duration": 386,
    "start_time": "2022-03-29T01:45:28.750Z"
   },
   {
    "duration": 399,
    "start_time": "2022-03-29T01:45:29.138Z"
   },
   {
    "duration": 249,
    "start_time": "2022-03-29T01:45:29.538Z"
   },
   {
    "duration": 14,
    "start_time": "2022-03-29T01:45:29.788Z"
   },
   {
    "duration": 90,
    "start_time": "2022-03-29T01:45:29.803Z"
   },
   {
    "duration": 143,
    "start_time": "2022-03-29T01:45:29.901Z"
   },
   {
    "duration": 6,
    "start_time": "2022-03-29T01:45:33.873Z"
   },
   {
    "duration": 412,
    "start_time": "2022-03-29T01:45:35.747Z"
   },
   {
    "duration": 2683,
    "start_time": "2022-03-29T01:46:00.905Z"
   },
   {
    "duration": 21,
    "start_time": "2022-03-29T01:46:14.970Z"
   },
   {
    "duration": 85,
    "start_time": "2022-03-29T01:46:26.431Z"
   },
   {
    "duration": 20,
    "start_time": "2022-03-29T01:46:34.891Z"
   },
   {
    "duration": 214,
    "start_time": "2022-03-29T01:50:12.463Z"
   },
   {
    "duration": 260,
    "start_time": "2022-03-29T01:50:22.853Z"
   },
   {
    "duration": 5,
    "start_time": "2022-03-29T01:52:11.040Z"
   },
   {
    "duration": 11,
    "start_time": "2022-03-29T01:52:30.927Z"
   },
   {
    "duration": 2634,
    "start_time": "2022-03-29T01:53:16.030Z"
   },
   {
    "duration": 12,
    "start_time": "2022-03-29T01:53:44.133Z"
   },
   {
    "duration": 11,
    "start_time": "2022-03-29T01:53:53.478Z"
   },
   {
    "duration": 200,
    "start_time": "2022-03-29T01:54:04.917Z"
   },
   {
    "duration": 2864,
    "start_time": "2022-03-29T01:54:12.030Z"
   },
   {
    "duration": 183,
    "start_time": "2022-03-29T01:55:31.582Z"
   },
   {
    "duration": 2532,
    "start_time": "2022-03-29T01:55:37.845Z"
   },
   {
    "duration": 1329,
    "start_time": "2022-03-29T01:56:12.879Z"
   },
   {
    "duration": 5,
    "start_time": "2022-03-29T01:56:48.851Z"
   },
   {
    "duration": 33,
    "start_time": "2022-03-29T01:56:56.873Z"
   },
   {
    "duration": 31,
    "start_time": "2022-03-29T01:57:14.304Z"
   },
   {
    "duration": 34,
    "start_time": "2022-03-29T01:57:26.338Z"
   },
   {
    "duration": 4,
    "start_time": "2022-03-29T01:58:47.149Z"
   },
   {
    "duration": 89,
    "start_time": "2022-03-29T01:59:08.904Z"
   },
   {
    "duration": 6,
    "start_time": "2022-03-29T02:00:55.731Z"
   },
   {
    "duration": 15,
    "start_time": "2022-03-29T02:11:52.180Z"
   },
   {
    "duration": 257,
    "start_time": "2022-03-29T02:12:22.487Z"
   },
   {
    "duration": 6,
    "start_time": "2022-03-29T02:14:50.974Z"
   },
   {
    "duration": 13,
    "start_time": "2022-03-29T02:15:04.334Z"
   },
   {
    "duration": 7,
    "start_time": "2022-03-29T02:15:08.071Z"
   },
   {
    "duration": 11,
    "start_time": "2022-03-29T02:15:45.684Z"
   },
   {
    "duration": 11,
    "start_time": "2022-03-29T02:16:03.259Z"
   },
   {
    "duration": 11,
    "start_time": "2022-03-29T02:16:12.037Z"
   },
   {
    "duration": 13,
    "start_time": "2022-03-29T02:16:23.961Z"
   },
   {
    "duration": 8,
    "start_time": "2022-03-29T02:16:38.508Z"
   },
   {
    "duration": 7,
    "start_time": "2022-03-29T02:16:55.931Z"
   },
   {
    "duration": 5,
    "start_time": "2022-03-29T02:17:02.389Z"
   },
   {
    "duration": 10,
    "start_time": "2022-03-29T02:17:17.987Z"
   },
   {
    "duration": 6,
    "start_time": "2022-03-29T02:17:23.624Z"
   },
   {
    "duration": 8,
    "start_time": "2022-03-29T02:17:32.342Z"
   },
   {
    "duration": 15,
    "start_time": "2022-03-29T02:17:56.674Z"
   },
   {
    "duration": 6,
    "start_time": "2022-03-29T02:19:20.292Z"
   },
   {
    "duration": 8,
    "start_time": "2022-03-29T02:19:38.860Z"
   },
   {
    "duration": 8,
    "start_time": "2022-03-29T02:20:15.638Z"
   },
   {
    "duration": 6,
    "start_time": "2022-03-29T02:20:32.127Z"
   },
   {
    "duration": 7,
    "start_time": "2022-03-29T02:21:45.553Z"
   },
   {
    "duration": 7,
    "start_time": "2022-03-29T02:22:24.094Z"
   },
   {
    "duration": 7,
    "start_time": "2022-03-29T02:22:34.924Z"
   },
   {
    "duration": 168,
    "start_time": "2022-03-29T02:23:18.459Z"
   },
   {
    "duration": 6,
    "start_time": "2022-03-29T02:23:23.385Z"
   },
   {
    "duration": 155,
    "start_time": "2022-03-29T02:23:27.495Z"
   },
   {
    "duration": 3,
    "start_time": "2022-03-29T02:23:37.620Z"
   },
   {
    "duration": 166,
    "start_time": "2022-03-29T02:23:48.594Z"
   },
   {
    "duration": 4,
    "start_time": "2022-03-29T02:23:52.596Z"
   },
   {
    "duration": 162,
    "start_time": "2022-03-29T02:24:02.098Z"
   },
   {
    "duration": 4,
    "start_time": "2022-03-29T02:24:05.304Z"
   },
   {
    "duration": 338,
    "start_time": "2022-03-29T02:24:10.585Z"
   },
   {
    "duration": 4,
    "start_time": "2022-03-29T02:24:16.546Z"
   },
   {
    "duration": 3,
    "start_time": "2022-03-29T02:24:23.858Z"
   },
   {
    "duration": 5,
    "start_time": "2022-03-29T02:24:33.547Z"
   },
   {
    "duration": 5,
    "start_time": "2022-03-29T02:24:51.366Z"
   },
   {
    "duration": 6,
    "start_time": "2022-03-29T02:25:23.984Z"
   },
   {
    "duration": 154,
    "start_time": "2022-03-29T02:25:58.910Z"
   },
   {
    "duration": 6,
    "start_time": "2022-03-29T02:26:02.265Z"
   },
   {
    "duration": 6,
    "start_time": "2022-03-29T02:26:16.725Z"
   },
   {
    "duration": 649,
    "start_time": "2022-03-29T02:28:04.755Z"
   },
   {
    "duration": 3563,
    "start_time": "2022-03-29T02:28:25.931Z"
   },
   {
    "duration": 178,
    "start_time": "2022-03-29T02:28:51.420Z"
   },
   {
    "duration": 211,
    "start_time": "2022-03-29T02:28:59.282Z"
   },
   {
    "duration": 192,
    "start_time": "2022-03-29T02:29:08.253Z"
   },
   {
    "duration": 282,
    "start_time": "2022-03-29T02:29:21.572Z"
   },
   {
    "duration": 287,
    "start_time": "2022-03-29T02:29:28.571Z"
   },
   {
    "duration": 3995,
    "start_time": "2022-03-29T02:35:59.615Z"
   },
   {
    "duration": 1684,
    "start_time": "2022-03-29T02:36:05.685Z"
   },
   {
    "duration": 2387,
    "start_time": "2022-03-29T02:36:18.897Z"
   },
   {
    "duration": 820,
    "start_time": "2022-03-29T02:36:36.968Z"
   },
   {
    "duration": 445,
    "start_time": "2022-03-29T07:24:50.301Z"
   },
   {
    "duration": 1018,
    "start_time": "2022-03-29T07:24:50.748Z"
   },
   {
    "duration": 315,
    "start_time": "2022-03-29T07:24:51.768Z"
   },
   {
    "duration": 2,
    "start_time": "2022-03-29T07:24:52.085Z"
   },
   {
    "duration": 6,
    "start_time": "2022-03-29T07:24:52.090Z"
   },
   {
    "duration": 6,
    "start_time": "2022-03-29T07:24:52.098Z"
   },
   {
    "duration": 5,
    "start_time": "2022-03-29T07:24:52.106Z"
   },
   {
    "duration": 17,
    "start_time": "2022-03-29T07:24:52.112Z"
   },
   {
    "duration": 8,
    "start_time": "2022-03-29T07:24:52.131Z"
   },
   {
    "duration": 8,
    "start_time": "2022-03-29T07:24:52.141Z"
   },
   {
    "duration": 11,
    "start_time": "2022-03-29T07:24:52.151Z"
   },
   {
    "duration": 8,
    "start_time": "2022-03-29T07:24:52.164Z"
   },
   {
    "duration": 1666,
    "start_time": "2022-03-29T07:24:52.174Z"
   },
   {
    "duration": 4,
    "start_time": "2022-03-29T07:24:53.843Z"
   },
   {
    "duration": 8,
    "start_time": "2022-03-29T07:24:53.849Z"
   },
   {
    "duration": 22,
    "start_time": "2022-03-29T07:24:53.858Z"
   },
   {
    "duration": 162,
    "start_time": "2022-03-29T07:24:53.881Z"
   },
   {
    "duration": 534,
    "start_time": "2022-03-29T07:24:54.045Z"
   },
   {
    "duration": 4,
    "start_time": "2022-03-29T07:24:54.580Z"
   },
   {
    "duration": 27,
    "start_time": "2022-03-29T07:24:54.586Z"
   },
   {
    "duration": 74,
    "start_time": "2022-03-29T07:24:54.615Z"
   },
   {
    "duration": 3,
    "start_time": "2022-03-29T07:24:54.691Z"
   },
   {
    "duration": 22,
    "start_time": "2022-03-29T07:24:54.695Z"
   },
   {
    "duration": 24,
    "start_time": "2022-03-29T07:24:54.720Z"
   },
   {
    "duration": 14,
    "start_time": "2022-03-29T07:24:54.746Z"
   },
   {
    "duration": 501,
    "start_time": "2022-03-29T07:24:54.761Z"
   },
   {
    "duration": 540,
    "start_time": "2022-03-29T07:24:55.263Z"
   },
   {
    "duration": 349,
    "start_time": "2022-03-29T07:24:55.804Z"
   },
   {
    "duration": 4,
    "start_time": "2022-03-29T07:24:56.154Z"
   },
   {
    "duration": 126,
    "start_time": "2022-03-29T07:24:56.159Z"
   },
   {
    "duration": 189,
    "start_time": "2022-03-29T07:24:56.287Z"
   },
   {
    "duration": 116,
    "start_time": "2022-03-29T07:24:56.478Z"
   },
   {
    "duration": 222,
    "start_time": "2022-03-29T07:24:56.596Z"
   },
   {
    "duration": 97,
    "start_time": "2022-03-29T07:24:56.819Z"
   },
   {
    "duration": 15,
    "start_time": "2022-03-29T07:24:56.917Z"
   },
   {
    "duration": 34,
    "start_time": "2022-03-29T07:24:56.934Z"
   },
   {
    "duration": 7,
    "start_time": "2022-03-29T07:24:56.970Z"
   },
   {
    "duration": 12,
    "start_time": "2022-03-29T07:24:56.979Z"
   },
   {
    "duration": 283,
    "start_time": "2022-03-29T07:25:09.837Z"
   },
   {
    "duration": 6,
    "start_time": "2022-03-29T07:26:03.730Z"
   },
   {
    "duration": 6,
    "start_time": "2022-03-29T07:26:31.203Z"
   },
   {
    "duration": 6,
    "start_time": "2022-03-29T07:26:45.148Z"
   },
   {
    "duration": 6,
    "start_time": "2022-03-29T07:26:58.122Z"
   },
   {
    "duration": 4243,
    "start_time": "2022-03-29T07:27:23.191Z"
   },
   {
    "duration": 12428,
    "start_time": "2022-03-29T07:28:10.379Z"
   },
   {
    "duration": 324,
    "start_time": "2022-03-29T07:28:25.584Z"
   },
   {
    "duration": 99,
    "start_time": "2022-03-29T07:41:40.226Z"
   },
   {
    "duration": 14,
    "start_time": "2022-03-29T07:42:16.603Z"
   },
   {
    "duration": 1110,
    "start_time": "2022-03-29T07:42:21.587Z"
   },
   {
    "duration": 241,
    "start_time": "2022-03-29T07:43:02.546Z"
   },
   {
    "duration": 238,
    "start_time": "2022-03-29T07:43:20.407Z"
   },
   {
    "duration": 41,
    "start_time": "2022-03-29T07:43:48.470Z"
   },
   {
    "duration": 537,
    "start_time": "2022-03-29T07:44:24.206Z"
   },
   {
    "duration": 356,
    "start_time": "2022-03-29T08:19:25.214Z"
   },
   {
    "duration": 875,
    "start_time": "2022-03-29T08:19:25.572Z"
   },
   {
    "duration": 403,
    "start_time": "2022-03-29T08:19:26.449Z"
   },
   {
    "duration": 3,
    "start_time": "2022-03-29T08:19:26.853Z"
   },
   {
    "duration": 4,
    "start_time": "2022-03-29T08:19:26.859Z"
   },
   {
    "duration": 6,
    "start_time": "2022-03-29T08:19:26.864Z"
   },
   {
    "duration": 3,
    "start_time": "2022-03-29T08:19:26.880Z"
   },
   {
    "duration": 9,
    "start_time": "2022-03-29T08:19:26.884Z"
   },
   {
    "duration": 7,
    "start_time": "2022-03-29T08:19:26.894Z"
   },
   {
    "duration": 8,
    "start_time": "2022-03-29T08:19:26.902Z"
   },
   {
    "duration": 8,
    "start_time": "2022-03-29T08:19:26.911Z"
   },
   {
    "duration": 7,
    "start_time": "2022-03-29T08:19:26.920Z"
   },
   {
    "duration": 1664,
    "start_time": "2022-03-29T08:19:26.928Z"
   },
   {
    "duration": 4,
    "start_time": "2022-03-29T08:19:28.595Z"
   },
   {
    "duration": 9,
    "start_time": "2022-03-29T08:19:28.600Z"
   },
   {
    "duration": 19,
    "start_time": "2022-03-29T08:19:28.610Z"
   },
   {
    "duration": 151,
    "start_time": "2022-03-29T08:19:28.630Z"
   },
   {
    "duration": 480,
    "start_time": "2022-03-29T08:19:28.782Z"
   },
   {
    "duration": 3,
    "start_time": "2022-03-29T08:19:29.264Z"
   },
   {
    "duration": 3,
    "start_time": "2022-03-29T08:19:29.281Z"
   },
   {
    "duration": 47,
    "start_time": "2022-03-29T08:19:29.286Z"
   },
   {
    "duration": 3,
    "start_time": "2022-03-29T08:19:29.335Z"
   },
   {
    "duration": 10,
    "start_time": "2022-03-29T08:19:29.339Z"
   },
   {
    "duration": 8,
    "start_time": "2022-03-29T08:19:29.350Z"
   },
   {
    "duration": 23,
    "start_time": "2022-03-29T08:19:29.359Z"
   },
   {
    "duration": 430,
    "start_time": "2022-03-29T08:19:29.383Z"
   },
   {
    "duration": 461,
    "start_time": "2022-03-29T08:19:29.814Z"
   },
   {
    "duration": 298,
    "start_time": "2022-03-29T08:19:30.276Z"
   },
   {
    "duration": 4,
    "start_time": "2022-03-29T08:19:30.581Z"
   },
   {
    "duration": 136,
    "start_time": "2022-03-29T08:19:30.586Z"
   },
   {
    "duration": 170,
    "start_time": "2022-03-29T08:19:30.723Z"
   },
   {
    "duration": 101,
    "start_time": "2022-03-29T08:19:30.895Z"
   },
   {
    "duration": 206,
    "start_time": "2022-03-29T08:19:30.998Z"
   },
   {
    "duration": 92,
    "start_time": "2022-03-29T08:19:31.205Z"
   },
   {
    "duration": 8,
    "start_time": "2022-03-29T08:19:31.299Z"
   },
   {
    "duration": 47,
    "start_time": "2022-03-29T08:19:31.308Z"
   },
   {
    "duration": 7,
    "start_time": "2022-03-29T08:19:31.356Z"
   },
   {
    "duration": 29,
    "start_time": "2022-03-29T08:19:31.365Z"
   },
   {
    "duration": 267,
    "start_time": "2022-03-29T08:19:31.396Z"
   },
   {
    "duration": 40,
    "start_time": "2022-03-29T08:19:31.665Z"
   },
   {
    "duration": 339,
    "start_time": "2022-03-29T08:20:13.844Z"
   },
   {
    "duration": 355,
    "start_time": "2022-03-29T08:20:24.564Z"
   },
   {
    "duration": 411,
    "start_time": "2022-03-29T08:20:37.832Z"
   },
   {
    "duration": 386,
    "start_time": "2022-03-29T08:20:41.421Z"
   },
   {
    "duration": 409,
    "start_time": "2022-03-29T08:20:44.507Z"
   },
   {
    "duration": 473,
    "start_time": "2022-03-29T08:20:47.223Z"
   },
   {
    "duration": 644,
    "start_time": "2022-03-29T08:20:54.299Z"
   },
   {
    "duration": 649,
    "start_time": "2022-03-29T08:22:19.488Z"
   },
   {
    "duration": 654,
    "start_time": "2022-03-29T08:22:38.555Z"
   },
   {
    "duration": 262,
    "start_time": "2022-03-29T08:22:46.711Z"
   },
   {
    "duration": 573,
    "start_time": "2022-03-29T08:23:42.869Z"
   },
   {
    "duration": 542,
    "start_time": "2022-03-29T08:24:13.189Z"
   },
   {
    "duration": 807,
    "start_time": "2022-03-29T08:24:43.300Z"
   },
   {
    "duration": 18,
    "start_time": "2022-03-29T08:24:47.684Z"
   },
   {
    "duration": 7,
    "start_time": "2022-03-29T08:27:59.263Z"
   },
   {
    "duration": 0,
    "start_time": "2022-03-29T08:29:31.584Z"
   },
   {
    "duration": 0,
    "start_time": "2022-03-29T08:29:31.585Z"
   },
   {
    "duration": 5,
    "start_time": "2022-03-29T08:29:33.606Z"
   },
   {
    "duration": 61,
    "start_time": "2022-03-29T08:29:35.148Z"
   },
   {
    "duration": 6,
    "start_time": "2022-03-29T08:29:57.262Z"
   },
   {
    "duration": 50,
    "start_time": "2022-03-29T08:29:57.633Z"
   },
   {
    "duration": 6,
    "start_time": "2022-03-29T08:30:05.112Z"
   },
   {
    "duration": 36376,
    "start_time": "2022-03-29T08:30:05.539Z"
   },
   {
    "duration": 4,
    "start_time": "2022-03-29T08:30:45.549Z"
   },
   {
    "duration": 554,
    "start_time": "2022-03-29T08:30:46.000Z"
   },
   {
    "duration": 5,
    "start_time": "2022-03-29T08:31:13.878Z"
   },
   {
    "duration": 6,
    "start_time": "2022-03-29T08:31:19.821Z"
   },
   {
    "duration": 360,
    "start_time": "2022-03-29T08:31:20.476Z"
   },
   {
    "duration": 413,
    "start_time": "2022-03-29T08:31:41.950Z"
   },
   {
    "duration": 6,
    "start_time": "2022-03-29T08:32:56.449Z"
   },
   {
    "duration": 423,
    "start_time": "2022-03-29T08:32:57.574Z"
   },
   {
    "duration": 5,
    "start_time": "2022-03-29T08:33:17.692Z"
   },
   {
    "duration": 420,
    "start_time": "2022-03-29T08:33:17.706Z"
   },
   {
    "duration": 5,
    "start_time": "2022-03-29T08:33:27.355Z"
   },
   {
    "duration": 639,
    "start_time": "2022-03-29T08:33:27.709Z"
   },
   {
    "duration": 5,
    "start_time": "2022-03-29T08:33:32.407Z"
   },
   {
    "duration": 633,
    "start_time": "2022-03-29T08:33:33.087Z"
   },
   {
    "duration": 7,
    "start_time": "2022-03-29T08:33:45.020Z"
   },
   {
    "duration": 695,
    "start_time": "2022-03-29T08:33:45.558Z"
   },
   {
    "duration": 6,
    "start_time": "2022-03-29T08:34:06.641Z"
   },
   {
    "duration": 437,
    "start_time": "2022-03-29T08:34:06.953Z"
   },
   {
    "duration": 5,
    "start_time": "2022-03-29T08:34:21.698Z"
   },
   {
    "duration": 420,
    "start_time": "2022-03-29T08:34:22.100Z"
   },
   {
    "duration": 5,
    "start_time": "2022-03-29T08:35:40.337Z"
   },
   {
    "duration": 710,
    "start_time": "2022-03-29T08:35:40.704Z"
   },
   {
    "duration": 7,
    "start_time": "2022-03-29T08:36:23.482Z"
   },
   {
    "duration": 456,
    "start_time": "2022-03-29T08:36:24.038Z"
   },
   {
    "duration": 7,
    "start_time": "2022-03-29T08:36:33.165Z"
   },
   {
    "duration": 630,
    "start_time": "2022-03-29T08:36:33.461Z"
   },
   {
    "duration": 5,
    "start_time": "2022-03-29T08:36:40.728Z"
   },
   {
    "duration": 728,
    "start_time": "2022-03-29T08:36:40.895Z"
   },
   {
    "duration": 7,
    "start_time": "2022-03-29T08:36:58.883Z"
   },
   {
    "duration": 424,
    "start_time": "2022-03-29T08:36:59.257Z"
   },
   {
    "duration": 5,
    "start_time": "2022-03-29T08:37:08.164Z"
   },
   {
    "duration": 602,
    "start_time": "2022-03-29T08:37:08.572Z"
   },
   {
    "duration": 6,
    "start_time": "2022-03-29T08:37:13.756Z"
   },
   {
    "duration": 582,
    "start_time": "2022-03-29T08:37:14.002Z"
   },
   {
    "duration": 5,
    "start_time": "2022-03-29T08:37:31.081Z"
   },
   {
    "duration": 416,
    "start_time": "2022-03-29T08:37:31.497Z"
   },
   {
    "duration": 4,
    "start_time": "2022-03-29T08:38:29.456Z"
   },
   {
    "duration": 659,
    "start_time": "2022-03-29T08:39:00.114Z"
   },
   {
    "duration": 6,
    "start_time": "2022-03-29T08:40:04.360Z"
   },
   {
    "duration": 7,
    "start_time": "2022-03-29T08:40:26.556Z"
   },
   {
    "duration": 230,
    "start_time": "2022-03-29T08:40:31.820Z"
   },
   {
    "duration": 472,
    "start_time": "2022-03-29T08:40:40.214Z"
   },
   {
    "duration": 513,
    "start_time": "2022-03-29T08:40:49.727Z"
   },
   {
    "duration": 529,
    "start_time": "2022-03-29T08:40:54.197Z"
   },
   {
    "duration": 322,
    "start_time": "2022-03-29T08:41:27.730Z"
   },
   {
    "duration": 341,
    "start_time": "2022-03-29T08:42:04.088Z"
   },
   {
    "duration": 381,
    "start_time": "2022-03-29T08:42:19.443Z"
   },
   {
    "duration": 407,
    "start_time": "2022-03-29T08:42:26.625Z"
   },
   {
    "duration": 15,
    "start_time": "2022-03-29T08:44:50.473Z"
   },
   {
    "duration": 29,
    "start_time": "2022-03-29T08:44:56.762Z"
   },
   {
    "duration": 8,
    "start_time": "2022-03-29T08:46:03.230Z"
   },
   {
    "duration": 6,
    "start_time": "2022-03-29T08:48:32.946Z"
   },
   {
    "duration": 8,
    "start_time": "2022-03-29T08:48:38.832Z"
   },
   {
    "duration": 601,
    "start_time": "2022-03-29T08:50:07.869Z"
   },
   {
    "duration": 493,
    "start_time": "2022-03-29T08:50:15.031Z"
   },
   {
    "duration": 373,
    "start_time": "2022-03-29T08:50:27.744Z"
   },
   {
    "duration": 7,
    "start_time": "2022-03-29T08:51:03.438Z"
   },
   {
    "duration": 247,
    "start_time": "2022-03-29T08:51:53.160Z"
   },
   {
    "duration": 5,
    "start_time": "2022-03-29T08:52:11.940Z"
   },
   {
    "duration": 4,
    "start_time": "2022-03-29T08:52:44.531Z"
   },
   {
    "duration": 15,
    "start_time": "2022-03-29T08:52:54.230Z"
   },
   {
    "duration": 96,
    "start_time": "2022-03-29T08:53:06.451Z"
   },
   {
    "duration": 18,
    "start_time": "2022-03-29T08:53:16.811Z"
   },
   {
    "duration": 10,
    "start_time": "2022-03-29T08:53:30.098Z"
   },
   {
    "duration": 373,
    "start_time": "2022-03-29T08:53:47.442Z"
   },
   {
    "duration": 269,
    "start_time": "2022-03-29T08:53:52.950Z"
   },
   {
    "duration": 450,
    "start_time": "2022-03-29T08:53:55.100Z"
   },
   {
    "duration": 9,
    "start_time": "2022-03-29T08:54:16.661Z"
   },
   {
    "duration": 34,
    "start_time": "2022-03-29T08:54:22.164Z"
   },
   {
    "duration": 38,
    "start_time": "2022-03-29T08:54:39.588Z"
   },
   {
    "duration": 50,
    "start_time": "2022-03-29T08:55:02.306Z"
   },
   {
    "duration": 34,
    "start_time": "2022-03-29T08:55:06.681Z"
   },
   {
    "duration": 34,
    "start_time": "2022-03-29T08:55:12.989Z"
   },
   {
    "duration": 34,
    "start_time": "2022-03-29T08:55:39.045Z"
   },
   {
    "duration": 35,
    "start_time": "2022-03-29T08:55:53.757Z"
   },
   {
    "duration": 61,
    "start_time": "2022-03-29T08:56:00.169Z"
   },
   {
    "duration": 37,
    "start_time": "2022-03-29T08:56:56.118Z"
   },
   {
    "duration": 34,
    "start_time": "2022-03-29T08:57:04.311Z"
   },
   {
    "duration": 34,
    "start_time": "2022-03-29T08:57:14.281Z"
   },
   {
    "duration": 33,
    "start_time": "2022-03-29T08:57:21.617Z"
   },
   {
    "duration": 36,
    "start_time": "2022-03-29T08:57:32.215Z"
   },
   {
    "duration": 10,
    "start_time": "2022-03-29T08:57:40.025Z"
   },
   {
    "duration": 6,
    "start_time": "2022-03-29T08:57:53.273Z"
   },
   {
    "duration": 44,
    "start_time": "2022-03-29T08:59:26.178Z"
   },
   {
    "duration": 33,
    "start_time": "2022-03-29T09:02:38.965Z"
   },
   {
    "duration": 31,
    "start_time": "2022-03-29T09:03:16.714Z"
   },
   {
    "duration": 32,
    "start_time": "2022-03-29T09:03:51.370Z"
   },
   {
    "duration": 182,
    "start_time": "2022-03-29T09:05:47.857Z"
   },
   {
    "duration": 9,
    "start_time": "2022-03-29T09:05:52.660Z"
   },
   {
    "duration": 9,
    "start_time": "2022-03-29T09:06:00.415Z"
   },
   {
    "duration": 35,
    "start_time": "2022-03-29T09:06:03.962Z"
   },
   {
    "duration": 36,
    "start_time": "2022-03-29T09:06:24.843Z"
   },
   {
    "duration": 4,
    "start_time": "2022-03-29T09:08:17.001Z"
   },
   {
    "duration": 68,
    "start_time": "2022-03-29T09:08:36.035Z"
   },
   {
    "duration": 3,
    "start_time": "2022-03-29T09:08:56.235Z"
   },
   {
    "duration": 66,
    "start_time": "2022-03-29T09:08:57.288Z"
   },
   {
    "duration": 4,
    "start_time": "2022-03-29T09:09:08.460Z"
   },
   {
    "duration": 67,
    "start_time": "2022-03-29T09:09:08.953Z"
   },
   {
    "duration": 4,
    "start_time": "2022-03-29T09:09:13.791Z"
   },
   {
    "duration": 46,
    "start_time": "2022-03-29T09:09:14.231Z"
   },
   {
    "duration": 4,
    "start_time": "2022-03-29T09:09:20.996Z"
   },
   {
    "duration": 65,
    "start_time": "2022-03-29T09:09:21.953Z"
   },
   {
    "duration": 6,
    "start_time": "2022-03-29T09:09:27.872Z"
   },
   {
    "duration": 69,
    "start_time": "2022-03-29T09:09:28.494Z"
   },
   {
    "duration": 71,
    "start_time": "2022-03-29T09:09:49.217Z"
   },
   {
    "duration": 66,
    "start_time": "2022-03-29T09:10:01.878Z"
   },
   {
    "duration": 63,
    "start_time": "2022-03-29T09:10:13.328Z"
   },
   {
    "duration": 3,
    "start_time": "2022-03-29T09:10:27.717Z"
   },
   {
    "duration": 68,
    "start_time": "2022-03-29T09:10:28.185Z"
   },
   {
    "duration": 66,
    "start_time": "2022-03-29T09:10:30.193Z"
   },
   {
    "duration": 62,
    "start_time": "2022-03-29T09:10:32.460Z"
   },
   {
    "duration": 61,
    "start_time": "2022-03-29T09:10:35.034Z"
   },
   {
    "duration": 92,
    "start_time": "2022-03-29T09:10:43.058Z"
   },
   {
    "duration": 79,
    "start_time": "2022-03-29T09:10:59.941Z"
   },
   {
    "duration": 23,
    "start_time": "2022-03-29T09:11:14.079Z"
   },
   {
    "duration": 182,
    "start_time": "2022-03-29T09:12:53.679Z"
   },
   {
    "duration": 355,
    "start_time": "2022-03-29T09:13:00.245Z"
   },
   {
    "duration": 21,
    "start_time": "2022-03-29T09:13:28.150Z"
   },
   {
    "duration": 5,
    "start_time": "2022-03-29T09:14:56.053Z"
   },
   {
    "duration": 10,
    "start_time": "2022-03-29T09:14:58.396Z"
   },
   {
    "duration": 10,
    "start_time": "2022-03-29T09:15:06.310Z"
   },
   {
    "duration": 10,
    "start_time": "2022-03-29T09:15:14.190Z"
   },
   {
    "duration": 16,
    "start_time": "2022-03-29T09:15:24.747Z"
   },
   {
    "duration": 3,
    "start_time": "2022-03-29T09:15:40.376Z"
   },
   {
    "duration": 72,
    "start_time": "2022-03-29T09:15:41.101Z"
   },
   {
    "duration": 3,
    "start_time": "2022-03-29T09:15:56.621Z"
   },
   {
    "duration": 65,
    "start_time": "2022-03-29T09:15:57.109Z"
   },
   {
    "duration": 63,
    "start_time": "2022-03-29T09:16:02.744Z"
   },
   {
    "duration": 98,
    "start_time": "2022-03-29T09:16:05.547Z"
   },
   {
    "duration": 67,
    "start_time": "2022-03-29T09:16:10.417Z"
   },
   {
    "duration": 65,
    "start_time": "2022-03-29T09:16:12.626Z"
   },
   {
    "duration": 76,
    "start_time": "2022-03-29T09:16:15.989Z"
   },
   {
    "duration": 20,
    "start_time": "2022-03-29T09:16:18.049Z"
   },
   {
    "duration": 20,
    "start_time": "2022-03-29T09:16:21.984Z"
   },
   {
    "duration": 4826,
    "start_time": "2022-03-29T09:17:46.041Z"
   },
   {
    "duration": 4692,
    "start_time": "2022-03-29T09:20:02.474Z"
   },
   {
    "duration": 0,
    "start_time": "2022-03-29T09:20:15.292Z"
   },
   {
    "duration": 698,
    "start_time": "2022-03-29T09:20:18.823Z"
   },
   {
    "duration": 1418,
    "start_time": "2022-03-29T09:20:20.676Z"
   },
   {
    "duration": 704,
    "start_time": "2022-03-29T09:21:10.869Z"
   },
   {
    "duration": 839,
    "start_time": "2022-03-29T09:25:28.150Z"
   },
   {
    "duration": 917,
    "start_time": "2022-03-29T09:25:32.138Z"
   },
   {
    "duration": 984,
    "start_time": "2022-03-29T09:25:36.852Z"
   },
   {
    "duration": 947,
    "start_time": "2022-03-29T09:25:43.050Z"
   },
   {
    "duration": 6,
    "start_time": "2022-03-29T09:26:20.863Z"
   },
   {
    "duration": 5,
    "start_time": "2022-03-29T09:26:33.362Z"
   },
   {
    "duration": 27,
    "start_time": "2022-03-29T09:26:49.381Z"
   },
   {
    "duration": 19,
    "start_time": "2022-03-29T09:32:23.647Z"
   },
   {
    "duration": 6,
    "start_time": "2022-03-29T09:32:43.906Z"
   },
   {
    "duration": 175,
    "start_time": "2022-03-29T09:32:53.925Z"
   },
   {
    "duration": 12015,
    "start_time": "2022-03-29T09:32:58.304Z"
   },
   {
    "duration": 33,
    "start_time": "2022-03-29T09:33:48.965Z"
   },
   {
    "duration": 32,
    "start_time": "2022-03-29T09:33:55.553Z"
   },
   {
    "duration": 31,
    "start_time": "2022-03-29T09:34:18.530Z"
   },
   {
    "duration": 30,
    "start_time": "2022-03-29T09:34:25.884Z"
   },
   {
    "duration": 33,
    "start_time": "2022-03-29T09:34:40.045Z"
   },
   {
    "duration": 52,
    "start_time": "2022-03-29T09:34:54.001Z"
   },
   {
    "duration": 1091,
    "start_time": "2022-03-29T09:37:07.926Z"
   },
   {
    "duration": 1019,
    "start_time": "2022-03-29T09:37:14.565Z"
   },
   {
    "duration": 1808,
    "start_time": "2022-03-29T09:37:21.394Z"
   },
   {
    "duration": 1636,
    "start_time": "2022-03-29T09:37:31.107Z"
   },
   {
    "duration": 1588,
    "start_time": "2022-03-29T09:37:41.469Z"
   },
   {
    "duration": 1353,
    "start_time": "2022-03-29T09:38:00.700Z"
   },
   {
    "duration": 705,
    "start_time": "2022-03-29T09:39:37.078Z"
   },
   {
    "duration": 707,
    "start_time": "2022-03-29T09:39:40.262Z"
   },
   {
    "duration": 956,
    "start_time": "2022-03-29T09:39:44.056Z"
   },
   {
    "duration": 725,
    "start_time": "2022-03-29T09:39:49.360Z"
   },
   {
    "duration": 695,
    "start_time": "2022-03-29T09:39:54.093Z"
   },
   {
    "duration": 7,
    "start_time": "2022-03-29T09:41:57.479Z"
   },
   {
    "duration": 8,
    "start_time": "2022-03-29T09:42:57.967Z"
   },
   {
    "duration": 10,
    "start_time": "2022-03-29T09:43:44.057Z"
   },
   {
    "duration": 8,
    "start_time": "2022-03-29T09:43:48.006Z"
   },
   {
    "duration": 7,
    "start_time": "2022-03-29T09:43:55.058Z"
   },
   {
    "duration": 2,
    "start_time": "2022-03-29T09:44:13.090Z"
   },
   {
    "duration": 6,
    "start_time": "2022-03-29T09:44:13.094Z"
   },
   {
    "duration": 5,
    "start_time": "2022-03-29T09:44:13.101Z"
   },
   {
    "duration": 4,
    "start_time": "2022-03-29T09:44:13.108Z"
   },
   {
    "duration": 6,
    "start_time": "2022-03-29T09:44:13.113Z"
   },
   {
    "duration": 13,
    "start_time": "2022-03-29T09:44:13.120Z"
   },
   {
    "duration": 13,
    "start_time": "2022-03-29T09:44:13.135Z"
   },
   {
    "duration": 3,
    "start_time": "2022-03-29T09:44:13.182Z"
   },
   {
    "duration": 6,
    "start_time": "2022-03-29T09:44:13.186Z"
   },
   {
    "duration": 7,
    "start_time": "2022-03-29T09:44:13.195Z"
   },
   {
    "duration": 9,
    "start_time": "2022-03-29T09:44:13.204Z"
   },
   {
    "duration": 7,
    "start_time": "2022-03-29T09:44:13.214Z"
   },
   {
    "duration": 6,
    "start_time": "2022-03-29T09:44:13.222Z"
   },
   {
    "duration": 1430,
    "start_time": "2022-03-29T09:44:13.230Z"
   },
   {
    "duration": 3,
    "start_time": "2022-03-29T09:44:14.662Z"
   },
   {
    "duration": 31,
    "start_time": "2022-03-29T09:44:14.666Z"
   },
   {
    "duration": 30,
    "start_time": "2022-03-29T09:44:14.699Z"
   },
   {
    "duration": 130,
    "start_time": "2022-03-29T09:44:14.732Z"
   },
   {
    "duration": 443,
    "start_time": "2022-03-29T09:44:14.863Z"
   },
   {
    "duration": 4,
    "start_time": "2022-03-29T09:44:15.307Z"
   },
   {
    "duration": 7,
    "start_time": "2022-03-29T09:44:15.312Z"
   },
   {
    "duration": 27,
    "start_time": "2022-03-29T09:44:15.321Z"
   },
   {
    "duration": 3,
    "start_time": "2022-03-29T09:44:15.350Z"
   },
   {
    "duration": 30,
    "start_time": "2022-03-29T09:44:15.354Z"
   },
   {
    "duration": 3,
    "start_time": "2022-03-29T09:44:15.385Z"
   },
   {
    "duration": 5,
    "start_time": "2022-03-29T09:44:15.391Z"
   },
   {
    "duration": 408,
    "start_time": "2022-03-29T09:44:15.397Z"
   },
   {
    "duration": 461,
    "start_time": "2022-03-29T09:44:15.806Z"
   },
   {
    "duration": 285,
    "start_time": "2022-03-29T09:44:16.269Z"
   },
   {
    "duration": 4,
    "start_time": "2022-03-29T09:44:16.556Z"
   },
   {
    "duration": 112,
    "start_time": "2022-03-29T09:44:16.562Z"
   },
   {
    "duration": 161,
    "start_time": "2022-03-29T09:44:16.680Z"
   },
   {
    "duration": 68,
    "start_time": "2022-03-29T09:44:16.843Z"
   },
   {
    "duration": 223,
    "start_time": "2022-03-29T09:44:16.913Z"
   },
   {
    "duration": 93,
    "start_time": "2022-03-29T09:44:17.138Z"
   },
   {
    "duration": 6,
    "start_time": "2022-03-29T09:44:17.233Z"
   },
   {
    "duration": 16,
    "start_time": "2022-03-29T09:44:17.241Z"
   },
   {
    "duration": 25,
    "start_time": "2022-03-29T09:44:17.260Z"
   },
   {
    "duration": 6,
    "start_time": "2022-03-29T09:44:17.287Z"
   },
   {
    "duration": 7,
    "start_time": "2022-03-29T09:44:18.928Z"
   },
   {
    "duration": 9,
    "start_time": "2022-03-29T09:44:19.304Z"
   },
   {
    "duration": 7,
    "start_time": "2022-03-29T09:45:06.348Z"
   },
   {
    "duration": 6,
    "start_time": "2022-03-29T09:45:13.190Z"
   },
   {
    "duration": 7,
    "start_time": "2022-03-29T09:45:31.243Z"
   },
   {
    "duration": 5,
    "start_time": "2022-03-29T09:45:36.894Z"
   },
   {
    "duration": 6,
    "start_time": "2022-03-29T09:45:39.975Z"
   },
   {
    "duration": 168,
    "start_time": "2022-03-29T09:45:44.615Z"
   },
   {
    "duration": 7,
    "start_time": "2022-03-29T09:45:48.711Z"
   },
   {
    "duration": 7,
    "start_time": "2022-03-29T09:46:01.274Z"
   },
   {
    "duration": 48,
    "start_time": "2022-03-29T10:01:25.160Z"
   },
   {
    "duration": 450,
    "start_time": "2022-03-29T10:01:29.358Z"
   },
   {
    "duration": 1130,
    "start_time": "2022-03-29T10:01:29.810Z"
   },
   {
    "duration": 459,
    "start_time": "2022-03-29T10:01:30.942Z"
   },
   {
    "duration": 3,
    "start_time": "2022-03-29T10:01:31.404Z"
   },
   {
    "duration": 5,
    "start_time": "2022-03-29T10:01:31.408Z"
   },
   {
    "duration": 7,
    "start_time": "2022-03-29T10:01:31.415Z"
   },
   {
    "duration": 13,
    "start_time": "2022-03-29T10:01:31.423Z"
   },
   {
    "duration": 9,
    "start_time": "2022-03-29T10:01:31.438Z"
   },
   {
    "duration": 6,
    "start_time": "2022-03-29T10:01:31.449Z"
   },
   {
    "duration": 8,
    "start_time": "2022-03-29T10:01:31.458Z"
   },
   {
    "duration": 14,
    "start_time": "2022-03-29T10:01:31.468Z"
   },
   {
    "duration": 17,
    "start_time": "2022-03-29T10:01:31.484Z"
   },
   {
    "duration": 4,
    "start_time": "2022-03-29T10:01:31.502Z"
   },
   {
    "duration": 3767,
    "start_time": "2022-03-29T10:01:31.508Z"
   },
   {
    "duration": 3,
    "start_time": "2022-03-29T10:01:35.277Z"
   },
   {
    "duration": 10,
    "start_time": "2022-03-29T10:01:35.281Z"
   },
   {
    "duration": 17,
    "start_time": "2022-03-29T10:01:35.293Z"
   },
   {
    "duration": 132,
    "start_time": "2022-03-29T10:01:35.311Z"
   },
   {
    "duration": 447,
    "start_time": "2022-03-29T10:01:35.445Z"
   },
   {
    "duration": 9,
    "start_time": "2022-03-29T10:01:35.893Z"
   },
   {
    "duration": 8,
    "start_time": "2022-03-29T10:01:35.903Z"
   },
   {
    "duration": 48,
    "start_time": "2022-03-29T10:01:35.913Z"
   },
   {
    "duration": 2,
    "start_time": "2022-03-29T10:01:35.963Z"
   },
   {
    "duration": 6,
    "start_time": "2022-03-29T10:01:35.967Z"
   },
   {
    "duration": 8,
    "start_time": "2022-03-29T10:01:35.974Z"
   },
   {
    "duration": 19,
    "start_time": "2022-03-29T10:01:35.983Z"
   },
   {
    "duration": 471,
    "start_time": "2022-03-29T10:01:36.004Z"
   },
   {
    "duration": 504,
    "start_time": "2022-03-29T10:01:36.479Z"
   },
   {
    "duration": 297,
    "start_time": "2022-03-29T10:01:36.985Z"
   },
   {
    "duration": 4,
    "start_time": "2022-03-29T10:01:37.283Z"
   },
   {
    "duration": 114,
    "start_time": "2022-03-29T10:01:37.288Z"
   },
   {
    "duration": 183,
    "start_time": "2022-03-29T10:01:37.403Z"
   },
   {
    "duration": 115,
    "start_time": "2022-03-29T10:01:37.587Z"
   },
   {
    "duration": 231,
    "start_time": "2022-03-29T10:01:37.703Z"
   },
   {
    "duration": 95,
    "start_time": "2022-03-29T10:01:37.936Z"
   },
   {
    "duration": 186,
    "start_time": "2022-03-29T10:01:38.032Z"
   },
   {
    "duration": 41,
    "start_time": "2022-03-29T10:01:38.220Z"
   },
   {
    "duration": 6,
    "start_time": "2022-03-29T10:01:38.262Z"
   },
   {
    "duration": 6,
    "start_time": "2022-03-29T10:01:38.270Z"
   },
   {
    "duration": 37,
    "start_time": "2022-03-29T10:01:38.278Z"
   },
   {
    "duration": 33,
    "start_time": "2022-03-29T10:01:39.282Z"
   },
   {
    "duration": 61,
    "start_time": "2022-03-29T10:01:39.762Z"
   },
   {
    "duration": 6,
    "start_time": "2022-03-29T10:34:19.913Z"
   },
   {
    "duration": 112,
    "start_time": "2022-03-29T10:35:59.430Z"
   },
   {
    "duration": 9,
    "start_time": "2022-03-29T10:36:14.455Z"
   },
   {
    "duration": 7,
    "start_time": "2022-03-29T10:36:27.279Z"
   },
   {
    "duration": 6,
    "start_time": "2022-03-29T10:37:07.002Z"
   },
   {
    "duration": 6,
    "start_time": "2022-03-29T10:37:17.181Z"
   },
   {
    "duration": 7,
    "start_time": "2022-03-29T10:37:22.510Z"
   },
   {
    "duration": 6,
    "start_time": "2022-03-29T10:37:31.548Z"
   },
   {
    "duration": 7,
    "start_time": "2022-03-29T10:37:41.663Z"
   },
   {
    "duration": 7,
    "start_time": "2022-03-29T10:41:01.673Z"
   },
   {
    "duration": 32,
    "start_time": "2022-03-29T10:52:58.239Z"
   },
   {
    "duration": 33,
    "start_time": "2022-03-29T10:53:58.159Z"
   },
   {
    "duration": 60,
    "start_time": "2022-03-29T10:54:08.646Z"
   },
   {
    "duration": 61,
    "start_time": "2022-03-29T10:54:14.101Z"
   },
   {
    "duration": 68,
    "start_time": "2022-03-29T10:55:09.122Z"
   },
   {
    "duration": 62,
    "start_time": "2022-03-29T10:55:20.332Z"
   },
   {
    "duration": 214,
    "start_time": "2022-03-29T10:56:55.527Z"
   },
   {
    "duration": 62,
    "start_time": "2022-03-29T10:57:32.350Z"
   },
   {
    "duration": 5,
    "start_time": "2022-03-29T10:57:35.606Z"
   },
   {
    "duration": 5,
    "start_time": "2022-03-29T10:58:47.864Z"
   },
   {
    "duration": 5,
    "start_time": "2022-03-29T11:01:03.337Z"
   },
   {
    "duration": 3,
    "start_time": "2022-03-29T11:05:44.188Z"
   },
   {
    "duration": 5,
    "start_time": "2022-03-29T11:05:46.747Z"
   },
   {
    "duration": 38,
    "start_time": "2022-03-29T11:06:45.228Z"
   },
   {
    "duration": 5,
    "start_time": "2022-03-29T11:06:48.827Z"
   },
   {
    "duration": 60,
    "start_time": "2022-03-29T11:07:22.087Z"
   },
   {
    "duration": 238,
    "start_time": "2022-03-29T11:07:40.407Z"
   },
   {
    "duration": 599,
    "start_time": "2022-03-29T11:07:44.367Z"
   },
   {
    "duration": 386,
    "start_time": "2022-03-29T11:07:47.215Z"
   },
   {
    "duration": 286,
    "start_time": "2022-03-29T11:07:48.869Z"
   },
   {
    "duration": 11,
    "start_time": "2022-03-29T11:07:51.087Z"
   },
   {
    "duration": 446,
    "start_time": "2022-03-29T11:07:52.407Z"
   },
   {
    "duration": 3,
    "start_time": "2022-03-29T11:07:55.235Z"
   },
   {
    "duration": 71,
    "start_time": "2022-03-29T11:07:58.355Z"
   },
   {
    "duration": 67,
    "start_time": "2022-03-29T11:08:01.217Z"
   },
   {
    "duration": 62,
    "start_time": "2022-03-29T11:08:03.281Z"
   },
   {
    "duration": 66,
    "start_time": "2022-03-29T11:08:04.814Z"
   },
   {
    "duration": 66,
    "start_time": "2022-03-29T11:08:06.222Z"
   },
   {
    "duration": 63,
    "start_time": "2022-03-29T11:08:07.742Z"
   },
   {
    "duration": 18,
    "start_time": "2022-03-29T11:08:09.241Z"
   },
   {
    "duration": 1218,
    "start_time": "2022-03-29T11:08:11.652Z"
   },
   {
    "duration": 28,
    "start_time": "2022-03-29T11:08:14.950Z"
   },
   {
    "duration": 1575,
    "start_time": "2022-03-29T11:08:16.959Z"
   },
   {
    "duration": 724,
    "start_time": "2022-03-29T11:08:21.049Z"
   },
   {
    "duration": 729,
    "start_time": "2022-03-29T11:08:24.180Z"
   },
   {
    "duration": 799,
    "start_time": "2022-03-29T11:09:14.639Z"
   },
   {
    "duration": 675,
    "start_time": "2022-03-29T11:09:26.308Z"
   },
   {
    "duration": 5,
    "start_time": "2022-03-29T11:09:29.064Z"
   },
   {
    "duration": 4,
    "start_time": "2022-03-29T11:09:35.436Z"
   },
   {
    "duration": 3,
    "start_time": "2022-03-29T11:09:42.668Z"
   },
   {
    "duration": 4,
    "start_time": "2022-03-29T11:10:37.334Z"
   },
   {
    "duration": 3,
    "start_time": "2022-03-29T11:10:42.849Z"
   },
   {
    "duration": 3,
    "start_time": "2022-03-29T11:10:47.769Z"
   },
   {
    "duration": 2,
    "start_time": "2022-03-29T11:11:05.002Z"
   },
   {
    "duration": 16,
    "start_time": "2022-03-29T11:11:15.282Z"
   },
   {
    "duration": 3,
    "start_time": "2022-03-29T11:13:33.370Z"
   },
   {
    "duration": 4,
    "start_time": "2022-03-29T11:13:39.904Z"
   },
   {
    "duration": 13,
    "start_time": "2022-03-29T11:13:49.614Z"
   },
   {
    "duration": 3,
    "start_time": "2022-03-29T11:14:09.438Z"
   },
   {
    "duration": 13,
    "start_time": "2022-03-29T11:14:09.857Z"
   },
   {
    "duration": 4,
    "start_time": "2022-03-29T11:14:45.242Z"
   },
   {
    "duration": 19,
    "start_time": "2022-03-29T11:14:45.580Z"
   },
   {
    "duration": 13,
    "start_time": "2022-03-29T11:15:02.085Z"
   },
   {
    "duration": 6,
    "start_time": "2022-03-29T11:15:13.160Z"
   },
   {
    "duration": 8,
    "start_time": "2022-03-29T11:15:25.693Z"
   },
   {
    "duration": 175,
    "start_time": "2022-03-29T11:15:44.113Z"
   },
   {
    "duration": 4,
    "start_time": "2022-03-29T11:15:49.489Z"
   },
   {
    "duration": 6,
    "start_time": "2022-03-29T11:15:51.633Z"
   },
   {
    "duration": 4,
    "start_time": "2022-03-29T11:16:06.414Z"
   },
   {
    "duration": 8,
    "start_time": "2022-03-29T11:16:07.101Z"
   },
   {
    "duration": 8,
    "start_time": "2022-03-29T11:16:07.752Z"
   },
   {
    "duration": 4,
    "start_time": "2022-03-29T11:17:44.786Z"
   },
   {
    "duration": 19,
    "start_time": "2022-03-29T11:17:45.187Z"
   },
   {
    "duration": 9,
    "start_time": "2022-03-29T11:18:01.404Z"
   },
   {
    "duration": 12,
    "start_time": "2022-03-29T11:18:25.806Z"
   },
   {
    "duration": 4,
    "start_time": "2022-03-29T11:21:28.151Z"
   },
   {
    "duration": 194,
    "start_time": "2022-03-29T11:21:29.675Z"
   },
   {
    "duration": 13,
    "start_time": "2022-03-29T11:21:57.728Z"
   },
   {
    "duration": 7,
    "start_time": "2022-03-29T11:22:09.882Z"
   },
   {
    "duration": 15,
    "start_time": "2022-03-29T11:22:15.972Z"
   },
   {
    "duration": 7,
    "start_time": "2022-03-29T11:22:43.394Z"
   },
   {
    "duration": 3,
    "start_time": "2022-03-29T11:22:51.884Z"
   },
   {
    "duration": 8,
    "start_time": "2022-03-29T11:22:54.122Z"
   },
   {
    "duration": 3,
    "start_time": "2022-03-29T11:23:34.178Z"
   },
   {
    "duration": 7,
    "start_time": "2022-03-29T11:23:34.482Z"
   },
   {
    "duration": 3,
    "start_time": "2022-03-29T11:23:52.907Z"
   },
   {
    "duration": 7,
    "start_time": "2022-03-29T11:23:53.254Z"
   },
   {
    "duration": 8,
    "start_time": "2022-03-29T11:25:10.759Z"
   },
   {
    "duration": 430,
    "start_time": "2022-03-30T00:23:42.224Z"
   },
   {
    "duration": 920,
    "start_time": "2022-03-30T00:23:43.535Z"
   },
   {
    "duration": 268,
    "start_time": "2022-03-30T00:23:44.456Z"
   },
   {
    "duration": 2,
    "start_time": "2022-03-30T00:23:44.726Z"
   },
   {
    "duration": 2,
    "start_time": "2022-03-30T00:23:53.375Z"
   },
   {
    "duration": 3,
    "start_time": "2022-03-30T00:23:59.983Z"
   },
   {
    "duration": 7,
    "start_time": "2022-03-30T00:24:01.276Z"
   },
   {
    "duration": 3,
    "start_time": "2022-03-30T00:24:02.969Z"
   },
   {
    "duration": 5,
    "start_time": "2022-03-30T00:24:03.961Z"
   },
   {
    "duration": 3,
    "start_time": "2022-03-30T00:24:06.170Z"
   },
   {
    "duration": 8,
    "start_time": "2022-03-30T00:24:08.556Z"
   },
   {
    "duration": 10,
    "start_time": "2022-03-30T00:24:10.459Z"
   },
   {
    "duration": 5,
    "start_time": "2022-03-30T00:24:12.274Z"
   },
   {
    "duration": 3,
    "start_time": "2022-03-30T00:24:13.965Z"
   },
   {
    "duration": 1571,
    "start_time": "2022-03-30T00:24:14.591Z"
   },
   {
    "duration": 4,
    "start_time": "2022-03-30T00:24:16.672Z"
   },
   {
    "duration": 6,
    "start_time": "2022-03-30T00:24:17.898Z"
   },
   {
    "duration": 16,
    "start_time": "2022-03-30T00:24:19.210Z"
   },
   {
    "duration": 136,
    "start_time": "2022-03-30T00:24:20.035Z"
   },
   {
    "duration": 487,
    "start_time": "2022-03-30T00:24:20.616Z"
   },
   {
    "duration": 4,
    "start_time": "2022-03-30T00:24:21.335Z"
   },
   {
    "duration": 4,
    "start_time": "2022-03-30T00:24:22.104Z"
   },
   {
    "duration": 57,
    "start_time": "2022-03-30T00:24:54.704Z"
   },
   {
    "duration": 3,
    "start_time": "2022-03-30T00:25:00.477Z"
   },
   {
    "duration": 6,
    "start_time": "2022-03-30T00:25:02.592Z"
   },
   {
    "duration": 3,
    "start_time": "2022-03-30T00:25:05.491Z"
   },
   {
    "duration": 4,
    "start_time": "2022-03-30T00:25:07.122Z"
   },
   {
    "duration": 483,
    "start_time": "2022-03-30T00:25:08.765Z"
   },
   {
    "duration": 533,
    "start_time": "2022-03-30T00:25:12.157Z"
   },
   {
    "duration": 292,
    "start_time": "2022-03-30T00:25:14.545Z"
   },
   {
    "duration": 4,
    "start_time": "2022-03-30T00:25:17.865Z"
   },
   {
    "duration": 99,
    "start_time": "2022-03-30T00:25:26.758Z"
   },
   {
    "duration": 179,
    "start_time": "2022-03-30T00:25:33.593Z"
   },
   {
    "duration": 238,
    "start_time": "2022-03-30T00:27:29.651Z"
   },
   {
    "duration": 86,
    "start_time": "2022-03-30T00:27:42.346Z"
   },
   {
    "duration": 242,
    "start_time": "2022-03-30T00:28:00.025Z"
   },
   {
    "duration": 86,
    "start_time": "2022-03-30T00:28:04.995Z"
   },
   {
    "duration": 6,
    "start_time": "2022-03-30T00:28:08.687Z"
   },
   {
    "duration": 32,
    "start_time": "2022-03-30T00:28:15.817Z"
   },
   {
    "duration": 7,
    "start_time": "2022-03-30T00:31:33.236Z"
   },
   {
    "duration": 8,
    "start_time": "2022-03-30T00:31:45.322Z"
   },
   {
    "duration": 61,
    "start_time": "2022-03-30T00:33:56.432Z"
   },
   {
    "duration": 5,
    "start_time": "2022-03-30T00:33:57.894Z"
   },
   {
    "duration": 5,
    "start_time": "2022-03-30T00:34:10.137Z"
   },
   {
    "duration": 48,
    "start_time": "2022-03-30T00:35:05.575Z"
   },
   {
    "duration": 60,
    "start_time": "2022-03-30T00:35:12.974Z"
   },
   {
    "duration": 21,
    "start_time": "2022-03-30T00:38:13.591Z"
   },
   {
    "duration": 6,
    "start_time": "2022-03-30T00:38:16.486Z"
   },
   {
    "duration": 7,
    "start_time": "2022-03-30T00:38:17.474Z"
   },
   {
    "duration": 4,
    "start_time": "2022-03-30T00:38:24.825Z"
   },
   {
    "duration": 59,
    "start_time": "2022-03-30T00:38:50.954Z"
   },
   {
    "duration": 104,
    "start_time": "2022-03-30T00:40:10.344Z"
   },
   {
    "duration": 93,
    "start_time": "2022-03-30T00:40:49.645Z"
   },
   {
    "duration": 57,
    "start_time": "2022-03-30T00:40:56.503Z"
   },
   {
    "duration": 234,
    "start_time": "2022-03-30T00:41:50.298Z"
   },
   {
    "duration": 671,
    "start_time": "2022-03-30T00:41:58.932Z"
   },
   {
    "duration": 54,
    "start_time": "2022-03-30T00:44:42.482Z"
   },
   {
    "duration": 414,
    "start_time": "2022-03-30T00:44:57.524Z"
   },
   {
    "duration": 520,
    "start_time": "2022-03-30T00:45:48.305Z"
   },
   {
    "duration": 696,
    "start_time": "2022-03-30T00:45:56.201Z"
   },
   {
    "duration": 545,
    "start_time": "2022-03-30T00:46:31.566Z"
   },
   {
    "duration": 513,
    "start_time": "2022-03-30T00:46:38.639Z"
   },
   {
    "duration": 633,
    "start_time": "2022-03-30T00:46:47.568Z"
   },
   {
    "duration": 512,
    "start_time": "2022-03-30T00:47:02.514Z"
   },
   {
    "duration": 513,
    "start_time": "2022-03-30T00:47:35.427Z"
   },
   {
    "duration": 610,
    "start_time": "2022-03-30T00:50:01.033Z"
   },
   {
    "duration": 349,
    "start_time": "2022-03-30T00:50:19.890Z"
   },
   {
    "duration": 12,
    "start_time": "2022-03-30T00:50:32.149Z"
   },
   {
    "duration": 467,
    "start_time": "2022-03-30T00:53:18.500Z"
   },
   {
    "duration": 4,
    "start_time": "2022-03-30T01:00:35.746Z"
   },
   {
    "duration": 65,
    "start_time": "2022-03-30T01:00:39.867Z"
   },
   {
    "duration": 64,
    "start_time": "2022-03-30T01:01:43.672Z"
   },
   {
    "duration": 63,
    "start_time": "2022-03-30T01:01:48.472Z"
   },
   {
    "duration": 60,
    "start_time": "2022-03-30T01:01:54.577Z"
   },
   {
    "duration": 62,
    "start_time": "2022-03-30T01:01:57.369Z"
   },
   {
    "duration": 63,
    "start_time": "2022-03-30T01:02:00.247Z"
   },
   {
    "duration": 16,
    "start_time": "2022-03-30T01:02:02.840Z"
   },
   {
    "duration": 1005,
    "start_time": "2022-03-30T01:16:41.237Z"
   },
   {
    "duration": 419,
    "start_time": "2022-03-30T01:28:20.645Z"
   },
   {
    "duration": 772,
    "start_time": "2022-03-30T01:28:21.066Z"
   },
   {
    "duration": 272,
    "start_time": "2022-03-30T01:28:21.839Z"
   },
   {
    "duration": 2,
    "start_time": "2022-03-30T01:28:22.113Z"
   },
   {
    "duration": 6,
    "start_time": "2022-03-30T01:28:22.117Z"
   },
   {
    "duration": 5,
    "start_time": "2022-03-30T01:28:22.125Z"
   },
   {
    "duration": 12,
    "start_time": "2022-03-30T01:28:22.132Z"
   },
   {
    "duration": 7,
    "start_time": "2022-03-30T01:28:22.146Z"
   },
   {
    "duration": 9,
    "start_time": "2022-03-30T01:28:22.154Z"
   },
   {
    "duration": 9,
    "start_time": "2022-03-30T01:28:22.165Z"
   },
   {
    "duration": 9,
    "start_time": "2022-03-30T01:28:22.175Z"
   },
   {
    "duration": 8,
    "start_time": "2022-03-30T01:28:22.186Z"
   },
   {
    "duration": 6,
    "start_time": "2022-03-30T01:28:22.196Z"
   },
   {
    "duration": 1734,
    "start_time": "2022-03-30T01:28:22.203Z"
   },
   {
    "duration": 4,
    "start_time": "2022-03-30T01:28:23.938Z"
   },
   {
    "duration": 11,
    "start_time": "2022-03-30T01:28:23.944Z"
   },
   {
    "duration": 19,
    "start_time": "2022-03-30T01:28:23.957Z"
   },
   {
    "duration": 146,
    "start_time": "2022-03-30T01:28:23.978Z"
   },
   {
    "duration": 494,
    "start_time": "2022-03-30T01:28:24.126Z"
   },
   {
    "duration": 4,
    "start_time": "2022-03-30T01:28:24.622Z"
   },
   {
    "duration": 13,
    "start_time": "2022-03-30T01:28:24.628Z"
   },
   {
    "duration": 58,
    "start_time": "2022-03-30T01:28:29.876Z"
   },
   {
    "duration": 3,
    "start_time": "2022-03-30T01:28:51.576Z"
   },
   {
    "duration": 5,
    "start_time": "2022-03-30T01:28:56.447Z"
   },
   {
    "duration": 3,
    "start_time": "2022-03-30T01:29:03.962Z"
   },
   {
    "duration": 5,
    "start_time": "2022-03-30T01:29:07.372Z"
   },
   {
    "duration": 492,
    "start_time": "2022-03-30T01:29:15.917Z"
   },
   {
    "duration": 557,
    "start_time": "2022-03-30T01:29:38.726Z"
   },
   {
    "duration": 302,
    "start_time": "2022-03-30T01:29:45.763Z"
   },
   {
    "duration": 5,
    "start_time": "2022-03-30T01:29:48.841Z"
   },
   {
    "duration": 100,
    "start_time": "2022-03-30T01:29:56.748Z"
   },
   {
    "duration": 183,
    "start_time": "2022-03-30T01:30:04.219Z"
   },
   {
    "duration": 119,
    "start_time": "2022-03-30T01:30:11.629Z"
   },
   {
    "duration": 108,
    "start_time": "2022-03-30T01:30:19.539Z"
   },
   {
    "duration": 211,
    "start_time": "2022-03-30T01:30:24.732Z"
   },
   {
    "duration": 86,
    "start_time": "2022-03-30T01:30:31.300Z"
   },
   {
    "duration": 6,
    "start_time": "2022-03-30T01:30:37.634Z"
   },
   {
    "duration": 19,
    "start_time": "2022-03-30T01:31:01.316Z"
   },
   {
    "duration": 48,
    "start_time": "2022-03-30T01:31:04.536Z"
   },
   {
    "duration": 7,
    "start_time": "2022-03-30T01:31:14.689Z"
   },
   {
    "duration": 7,
    "start_time": "2022-03-30T01:31:23.097Z"
   },
   {
    "duration": 4,
    "start_time": "2022-03-30T01:32:14.585Z"
   },
   {
    "duration": 60,
    "start_time": "2022-03-30T01:32:19.063Z"
   },
   {
    "duration": 93,
    "start_time": "2022-03-30T01:32:36.032Z"
   },
   {
    "duration": 58,
    "start_time": "2022-03-30T01:32:39.031Z"
   },
   {
    "duration": 241,
    "start_time": "2022-03-30T01:32:46.255Z"
   },
   {
    "duration": 636,
    "start_time": "2022-03-30T01:32:52.915Z"
   },
   {
    "duration": 5,
    "start_time": "2022-03-30T01:35:55.488Z"
   },
   {
    "duration": 450,
    "start_time": "2022-03-30T01:36:02.135Z"
   },
   {
    "duration": 527,
    "start_time": "2022-03-30T01:37:21.150Z"
   },
   {
    "duration": 426,
    "start_time": "2022-03-30T01:37:37.896Z"
   },
   {
    "duration": 633,
    "start_time": "2022-03-30T01:37:49.255Z"
   },
   {
    "duration": 412,
    "start_time": "2022-03-30T01:37:55.077Z"
   },
   {
    "duration": 348,
    "start_time": "2022-03-30T01:38:10.305Z"
   },
   {
    "duration": 11,
    "start_time": "2022-03-30T01:38:15.567Z"
   },
   {
    "duration": 574,
    "start_time": "2022-03-30T01:38:20.399Z"
   },
   {
    "duration": 3,
    "start_time": "2022-03-30T01:38:24.714Z"
   },
   {
    "duration": 64,
    "start_time": "2022-03-30T01:38:29.021Z"
   },
   {
    "duration": 65,
    "start_time": "2022-03-30T01:38:33.599Z"
   },
   {
    "duration": 61,
    "start_time": "2022-03-30T01:38:37.543Z"
   },
   {
    "duration": 60,
    "start_time": "2022-03-30T01:38:41.224Z"
   },
   {
    "duration": 62,
    "start_time": "2022-03-30T01:38:44.085Z"
   },
   {
    "duration": 58,
    "start_time": "2022-03-30T01:38:47.566Z"
   },
   {
    "duration": 15,
    "start_time": "2022-03-30T01:38:51.054Z"
   },
   {
    "duration": 943,
    "start_time": "2022-03-30T01:38:55.159Z"
   },
   {
    "duration": 4,
    "start_time": "2022-03-30T01:39:14.613Z"
   },
   {
    "duration": 8,
    "start_time": "2022-03-30T01:39:22.451Z"
   },
   {
    "duration": 30,
    "start_time": "2022-03-30T01:41:13.096Z"
   },
   {
    "duration": 83,
    "start_time": "2022-03-30T01:41:25.218Z"
   },
   {
    "duration": 17,
    "start_time": "2022-03-30T01:41:36.763Z"
   },
   {
    "duration": 9,
    "start_time": "2022-03-30T01:42:29.589Z"
   },
   {
    "duration": 31,
    "start_time": "2022-03-30T01:43:50.678Z"
   },
   {
    "duration": 16,
    "start_time": "2022-03-30T01:43:57.064Z"
   },
   {
    "duration": 12,
    "start_time": "2022-03-30T01:44:07.782Z"
   },
   {
    "duration": 15,
    "start_time": "2022-03-30T01:44:17.519Z"
   },
   {
    "duration": 16,
    "start_time": "2022-03-30T01:44:23.344Z"
   },
   {
    "duration": 15,
    "start_time": "2022-03-30T01:44:26.277Z"
   },
   {
    "duration": 13,
    "start_time": "2022-03-30T01:44:29.023Z"
   },
   {
    "duration": 12,
    "start_time": "2022-03-30T01:44:31.783Z"
   },
   {
    "duration": 12,
    "start_time": "2022-03-30T01:44:43.454Z"
   },
   {
    "duration": 11,
    "start_time": "2022-03-30T01:45:18.389Z"
   },
   {
    "duration": 1644,
    "start_time": "2022-03-30T01:49:31.017Z"
   },
   {
    "duration": 11,
    "start_time": "2022-03-30T01:52:18.179Z"
   },
   {
    "duration": 1637,
    "start_time": "2022-03-30T01:52:21.320Z"
   },
   {
    "duration": 6,
    "start_time": "2022-03-30T01:52:40.440Z"
   },
   {
    "duration": 9,
    "start_time": "2022-03-30T01:52:54.552Z"
   },
   {
    "duration": 9,
    "start_time": "2022-03-30T01:53:00.025Z"
   },
   {
    "duration": 8,
    "start_time": "2022-03-30T01:53:06.752Z"
   },
   {
    "duration": 1044,
    "start_time": "2022-03-30T01:55:15.456Z"
   },
   {
    "duration": 7,
    "start_time": "2022-03-30T01:55:44.455Z"
   },
   {
    "duration": 29,
    "start_time": "2022-03-30T01:55:59.629Z"
   },
   {
    "duration": 1135,
    "start_time": "2022-03-30T01:56:06.650Z"
   },
   {
    "duration": 779,
    "start_time": "2022-03-30T01:58:39.186Z"
   },
   {
    "duration": 716,
    "start_time": "2022-03-30T01:58:46.130Z"
   },
   {
    "duration": 762,
    "start_time": "2022-03-30T02:00:48.182Z"
   },
   {
    "duration": 905,
    "start_time": "2022-03-30T02:02:14.317Z"
   },
   {
    "duration": 8,
    "start_time": "2022-03-30T02:04:22.099Z"
   },
   {
    "duration": 4,
    "start_time": "2022-03-30T02:04:25.753Z"
   },
   {
    "duration": 33,
    "start_time": "2022-03-30T02:04:58.248Z"
   },
   {
    "duration": 794,
    "start_time": "2022-03-30T02:05:06.938Z"
   },
   {
    "duration": 42,
    "start_time": "2022-03-30T02:06:49.517Z"
   },
   {
    "duration": 7,
    "start_time": "2022-03-30T02:06:51.787Z"
   },
   {
    "duration": 6,
    "start_time": "2022-03-30T02:06:52.579Z"
   },
   {
    "duration": 3,
    "start_time": "2022-03-30T02:06:53.156Z"
   },
   {
    "duration": 62,
    "start_time": "2022-03-30T02:06:53.691Z"
   },
   {
    "duration": 87,
    "start_time": "2022-03-30T02:06:54.356Z"
   },
   {
    "duration": 59,
    "start_time": "2022-03-30T02:06:54.876Z"
   },
   {
    "duration": 248,
    "start_time": "2022-03-30T02:06:56.554Z"
   },
   {
    "duration": 438,
    "start_time": "2022-03-30T02:07:00.136Z"
   },
   {
    "duration": 522,
    "start_time": "2022-03-30T02:07:02.900Z"
   },
   {
    "duration": 554,
    "start_time": "2022-03-30T02:07:06.776Z"
   },
   {
    "duration": 356,
    "start_time": "2022-03-30T02:07:07.332Z"
   },
   {
    "duration": 12,
    "start_time": "2022-03-30T02:07:09.486Z"
   },
   {
    "duration": 433,
    "start_time": "2022-03-30T02:07:10.795Z"
   },
   {
    "duration": 3,
    "start_time": "2022-03-30T02:07:13.324Z"
   },
   {
    "duration": 74,
    "start_time": "2022-03-30T02:07:17.284Z"
   },
   {
    "duration": 63,
    "start_time": "2022-03-30T02:07:38.018Z"
   },
   {
    "duration": 59,
    "start_time": "2022-03-30T02:07:39.066Z"
   },
   {
    "duration": 57,
    "start_time": "2022-03-30T02:07:40.878Z"
   },
   {
    "duration": 61,
    "start_time": "2022-03-30T02:07:41.491Z"
   },
   {
    "duration": 59,
    "start_time": "2022-03-30T02:07:43.732Z"
   },
   {
    "duration": 17,
    "start_time": "2022-03-30T02:07:44.674Z"
   },
   {
    "duration": 1021,
    "start_time": "2022-03-30T02:07:49.667Z"
   },
   {
    "duration": 31,
    "start_time": "2022-03-30T02:07:52.267Z"
   },
   {
    "duration": 16,
    "start_time": "2022-03-30T02:07:52.715Z"
   },
   {
    "duration": 11,
    "start_time": "2022-03-30T02:07:53.138Z"
   },
   {
    "duration": 1445,
    "start_time": "2022-03-30T02:07:57.865Z"
   },
   {
    "duration": 8,
    "start_time": "2022-03-30T02:08:11.099Z"
   },
   {
    "duration": 38,
    "start_time": "2022-03-30T02:08:12.842Z"
   },
   {
    "duration": 888,
    "start_time": "2022-03-30T02:08:14.571Z"
   },
   {
    "duration": 700,
    "start_time": "2022-03-30T02:08:24.769Z"
   },
   {
    "duration": 744,
    "start_time": "2022-03-30T02:08:29.096Z"
   },
   {
    "duration": 7,
    "start_time": "2022-03-30T02:08:36.563Z"
   },
   {
    "duration": 28,
    "start_time": "2022-03-30T02:08:37.169Z"
   },
   {
    "duration": 706,
    "start_time": "2022-03-30T02:08:43.337Z"
   },
   {
    "duration": 794,
    "start_time": "2022-03-30T02:09:02.882Z"
   },
   {
    "duration": 8,
    "start_time": "2022-03-30T02:11:10.161Z"
   },
   {
    "duration": 400,
    "start_time": "2022-03-30T02:11:58.862Z"
   },
   {
    "duration": 52,
    "start_time": "2022-03-30T02:12:50.638Z"
   },
   {
    "duration": 5,
    "start_time": "2022-03-30T02:17:47.918Z"
   },
   {
    "duration": 3,
    "start_time": "2022-03-30T02:18:07.941Z"
   },
   {
    "duration": 7,
    "start_time": "2022-03-30T02:21:08.009Z"
   },
   {
    "duration": 567,
    "start_time": "2022-03-30T07:23:47.981Z"
   },
   {
    "duration": 1383,
    "start_time": "2022-03-30T07:23:48.551Z"
   },
   {
    "duration": 590,
    "start_time": "2022-03-30T07:23:49.936Z"
   },
   {
    "duration": 3,
    "start_time": "2022-03-30T07:23:50.530Z"
   },
   {
    "duration": 10,
    "start_time": "2022-03-30T07:23:50.535Z"
   },
   {
    "duration": 8,
    "start_time": "2022-03-30T07:23:50.548Z"
   },
   {
    "duration": 8,
    "start_time": "2022-03-30T07:23:50.558Z"
   },
   {
    "duration": 19,
    "start_time": "2022-03-30T07:23:50.568Z"
   },
   {
    "duration": 17,
    "start_time": "2022-03-30T07:23:50.590Z"
   },
   {
    "duration": 13,
    "start_time": "2022-03-30T07:23:50.611Z"
   },
   {
    "duration": 15,
    "start_time": "2022-03-30T07:23:50.626Z"
   },
   {
    "duration": 41,
    "start_time": "2022-03-30T07:23:50.643Z"
   },
   {
    "duration": 5,
    "start_time": "2022-03-30T07:23:50.687Z"
   },
   {
    "duration": 2059,
    "start_time": "2022-03-30T07:23:50.695Z"
   },
   {
    "duration": 7,
    "start_time": "2022-03-30T07:23:52.756Z"
   },
   {
    "duration": 26,
    "start_time": "2022-03-30T07:23:52.765Z"
   },
   {
    "duration": 32,
    "start_time": "2022-03-30T07:23:52.795Z"
   },
   {
    "duration": 221,
    "start_time": "2022-03-30T07:23:52.829Z"
   },
   {
    "duration": 705,
    "start_time": "2022-03-30T07:23:53.052Z"
   },
   {
    "duration": 5,
    "start_time": "2022-03-30T07:23:53.759Z"
   },
   {
    "duration": 32,
    "start_time": "2022-03-30T07:23:53.766Z"
   },
   {
    "duration": 67,
    "start_time": "2022-03-30T07:23:53.800Z"
   },
   {
    "duration": 5,
    "start_time": "2022-03-30T07:23:53.869Z"
   },
   {
    "duration": 9,
    "start_time": "2022-03-30T07:23:53.885Z"
   },
   {
    "duration": 9,
    "start_time": "2022-03-30T07:23:53.897Z"
   },
   {
    "duration": 10,
    "start_time": "2022-03-30T07:23:53.908Z"
   },
   {
    "duration": 810,
    "start_time": "2022-03-30T07:23:53.920Z"
   },
   {
    "duration": 910,
    "start_time": "2022-03-30T07:23:54.737Z"
   },
   {
    "duration": 434,
    "start_time": "2022-03-30T07:23:55.650Z"
   },
   {
    "duration": 7,
    "start_time": "2022-03-30T07:23:56.088Z"
   },
   {
    "duration": 178,
    "start_time": "2022-03-30T07:23:56.098Z"
   },
   {
    "duration": 262,
    "start_time": "2022-03-30T07:23:56.278Z"
   },
   {
    "duration": 174,
    "start_time": "2022-03-30T07:23:56.542Z"
   },
   {
    "duration": 385,
    "start_time": "2022-03-30T07:23:56.719Z"
   },
   {
    "duration": 137,
    "start_time": "2022-03-30T07:23:57.106Z"
   },
   {
    "duration": 8,
    "start_time": "2022-03-30T07:23:57.245Z"
   },
   {
    "duration": 42,
    "start_time": "2022-03-30T07:23:57.256Z"
   },
   {
    "duration": 43,
    "start_time": "2022-03-30T07:23:57.301Z"
   },
   {
    "duration": 9,
    "start_time": "2022-03-30T07:23:57.347Z"
   },
   {
    "duration": 31,
    "start_time": "2022-03-30T07:23:57.358Z"
   },
   {
    "duration": 16,
    "start_time": "2022-03-30T07:23:57.391Z"
   },
   {
    "duration": 118,
    "start_time": "2022-03-30T07:23:57.409Z"
   },
   {
    "duration": 176,
    "start_time": "2022-03-30T07:23:57.529Z"
   },
   {
    "duration": 98,
    "start_time": "2022-03-30T07:23:57.707Z"
   },
   {
    "duration": 405,
    "start_time": "2022-03-30T07:23:57.808Z"
   },
   {
    "duration": 1060,
    "start_time": "2022-03-30T07:23:58.215Z"
   },
   {
    "duration": 1068,
    "start_time": "2022-03-30T07:23:59.285Z"
   },
   {
    "duration": 830,
    "start_time": "2022-03-30T07:24:00.356Z"
   },
   {
    "duration": 674,
    "start_time": "2022-03-30T07:24:01.190Z"
   },
   {
    "duration": 37,
    "start_time": "2022-03-30T07:24:01.866Z"
   },
   {
    "duration": 1018,
    "start_time": "2022-03-30T07:24:01.906Z"
   },
   {
    "duration": 5,
    "start_time": "2022-03-30T07:24:02.927Z"
   },
   {
    "duration": 132,
    "start_time": "2022-03-30T07:24:02.935Z"
   },
   {
    "duration": 131,
    "start_time": "2022-03-30T07:24:03.069Z"
   },
   {
    "duration": 105,
    "start_time": "2022-03-30T07:24:03.202Z"
   },
   {
    "duration": 112,
    "start_time": "2022-03-30T07:24:03.309Z"
   },
   {
    "duration": 117,
    "start_time": "2022-03-30T07:24:03.424Z"
   },
   {
    "duration": 101,
    "start_time": "2022-03-30T07:24:03.543Z"
   },
   {
    "duration": 48,
    "start_time": "2022-03-30T07:24:03.646Z"
   },
   {
    "duration": 1751,
    "start_time": "2022-03-30T07:24:03.698Z"
   },
   {
    "duration": 60,
    "start_time": "2022-03-30T07:24:05.451Z"
   },
   {
    "duration": 21,
    "start_time": "2022-03-30T07:24:05.513Z"
   },
   {
    "duration": 15,
    "start_time": "2022-03-30T07:24:05.537Z"
   },
   {
    "duration": 2761,
    "start_time": "2022-03-30T07:24:05.555Z"
   },
   {
    "duration": 8,
    "start_time": "2022-03-30T07:24:08.319Z"
   },
   {
    "duration": 89,
    "start_time": "2022-03-30T07:24:08.329Z"
   },
   {
    "duration": 1203,
    "start_time": "2022-03-30T07:24:08.420Z"
   },
   {
    "duration": 1401,
    "start_time": "2022-03-30T07:24:09.625Z"
   },
   {
    "duration": 1319,
    "start_time": "2022-03-30T07:24:11.029Z"
   },
   {
    "duration": 12,
    "start_time": "2022-03-30T07:24:12.351Z"
   },
   {
    "duration": 87,
    "start_time": "2022-03-30T07:24:12.366Z"
   },
   {
    "duration": 1445,
    "start_time": "2022-03-30T07:24:12.455Z"
   },
   {
    "duration": 1160,
    "start_time": "2022-03-30T07:24:13.903Z"
   },
   {
    "duration": 582,
    "start_time": "2022-03-30T07:24:15.066Z"
   },
   {
    "duration": 82,
    "start_time": "2022-03-30T07:24:15.650Z"
   },
   {
    "duration": 208,
    "start_time": "2022-03-30T07:24:21.801Z"
   },
   {
    "duration": 12,
    "start_time": "2022-03-30T07:25:04.896Z"
   },
   {
    "duration": 5,
    "start_time": "2022-03-30T07:25:13.343Z"
   },
   {
    "duration": 7,
    "start_time": "2022-03-30T07:25:18.977Z"
   },
   {
    "duration": 5,
    "start_time": "2022-03-30T07:29:22.040Z"
   },
   {
    "duration": 13,
    "start_time": "2022-03-30T07:31:51.897Z"
   },
   {
    "duration": 5,
    "start_time": "2022-03-30T07:31:57.146Z"
   },
   {
    "duration": 10,
    "start_time": "2022-03-30T07:31:58.140Z"
   },
   {
    "duration": 29,
    "start_time": "2022-03-30T07:31:59.997Z"
   },
   {
    "duration": 19,
    "start_time": "2022-03-30T07:32:00.826Z"
   },
   {
    "duration": 1395,
    "start_time": "2022-03-30T07:33:20.765Z"
   },
   {
    "duration": 25,
    "start_time": "2022-03-30T07:33:23.513Z"
   },
   {
    "duration": 552,
    "start_time": "2022-03-30T07:35:42.062Z"
   },
   {
    "duration": 6,
    "start_time": "2022-03-30T07:37:43.372Z"
   },
   {
    "duration": 431,
    "start_time": "2022-03-30T07:37:43.705Z"
   },
   {
    "duration": 5,
    "start_time": "2022-03-30T07:38:03.405Z"
   },
   {
    "duration": 434,
    "start_time": "2022-03-30T07:38:03.802Z"
   },
   {
    "duration": 5,
    "start_time": "2022-03-30T07:38:16.215Z"
   },
   {
    "duration": 455,
    "start_time": "2022-03-30T07:38:17.059Z"
   },
   {
    "duration": 6,
    "start_time": "2022-03-30T07:38:29.896Z"
   },
   {
    "duration": 463,
    "start_time": "2022-03-30T07:38:30.369Z"
   },
   {
    "duration": 6,
    "start_time": "2022-03-30T07:38:33.419Z"
   },
   {
    "duration": 455,
    "start_time": "2022-03-30T07:38:33.726Z"
   },
   {
    "duration": 9,
    "start_time": "2022-03-30T07:38:43.989Z"
   },
   {
    "duration": 445,
    "start_time": "2022-03-30T07:38:44.366Z"
   },
   {
    "duration": 6,
    "start_time": "2022-03-30T07:39:10.701Z"
   },
   {
    "duration": 426,
    "start_time": "2022-03-30T07:39:11.061Z"
   },
   {
    "duration": 5,
    "start_time": "2022-03-30T07:39:39.565Z"
   },
   {
    "duration": 421,
    "start_time": "2022-03-30T07:39:40.178Z"
   },
   {
    "duration": 6,
    "start_time": "2022-03-30T07:40:18.840Z"
   },
   {
    "duration": 6080,
    "start_time": "2022-03-30T07:40:19.285Z"
   },
   {
    "duration": 5,
    "start_time": "2022-03-30T07:40:40.210Z"
   },
   {
    "duration": 9019,
    "start_time": "2022-03-30T07:40:40.696Z"
   },
   {
    "duration": 153,
    "start_time": "2022-03-30T07:43:18.048Z"
   },
   {
    "duration": 0,
    "start_time": "2022-03-30T07:43:18.204Z"
   },
   {
    "duration": 10,
    "start_time": "2022-03-30T07:43:39.397Z"
   },
   {
    "duration": 6,
    "start_time": "2022-03-30T07:44:07.966Z"
   },
   {
    "duration": 437,
    "start_time": "2022-03-30T07:44:09.167Z"
   },
   {
    "duration": 7,
    "start_time": "2022-03-30T07:44:47.411Z"
   },
   {
    "duration": 405,
    "start_time": "2022-03-30T07:44:47.868Z"
   },
   {
    "duration": 7,
    "start_time": "2022-03-30T07:44:55.398Z"
   },
   {
    "duration": 428,
    "start_time": "2022-03-30T07:44:56.858Z"
   },
   {
    "duration": 7,
    "start_time": "2022-03-30T07:47:12.602Z"
   },
   {
    "duration": 380,
    "start_time": "2022-03-30T07:47:13.196Z"
   },
   {
    "duration": 7,
    "start_time": "2022-03-30T07:47:33.564Z"
   },
   {
    "duration": 473,
    "start_time": "2022-03-30T07:47:34.078Z"
   },
   {
    "duration": 7,
    "start_time": "2022-03-30T07:47:52.117Z"
   },
   {
    "duration": 407,
    "start_time": "2022-03-30T07:47:52.563Z"
   },
   {
    "duration": 8,
    "start_time": "2022-03-30T07:48:40.319Z"
   },
   {
    "duration": 519,
    "start_time": "2022-03-30T07:48:40.593Z"
   },
   {
    "duration": 7,
    "start_time": "2022-03-30T07:48:55.669Z"
   },
   {
    "duration": 415,
    "start_time": "2022-03-30T07:48:56.333Z"
   },
   {
    "duration": 7,
    "start_time": "2022-03-30T07:49:06.472Z"
   },
   {
    "duration": 441,
    "start_time": "2022-03-30T07:49:06.896Z"
   },
   {
    "duration": 7,
    "start_time": "2022-03-30T07:49:23.068Z"
   },
   {
    "duration": 401,
    "start_time": "2022-03-30T07:49:23.470Z"
   },
   {
    "duration": 140,
    "start_time": "2022-03-30T07:50:06.306Z"
   },
   {
    "duration": 7,
    "start_time": "2022-03-30T07:50:10.997Z"
   },
   {
    "duration": 415,
    "start_time": "2022-03-30T07:50:11.468Z"
   },
   {
    "duration": 6,
    "start_time": "2022-03-30T07:50:31.543Z"
   },
   {
    "duration": 435,
    "start_time": "2022-03-30T07:50:31.981Z"
   },
   {
    "duration": 7,
    "start_time": "2022-03-30T07:50:36.197Z"
   },
   {
    "duration": 413,
    "start_time": "2022-03-30T07:50:36.699Z"
   },
   {
    "duration": 7,
    "start_time": "2022-03-30T07:51:43.433Z"
   },
   {
    "duration": 411,
    "start_time": "2022-03-30T07:51:43.864Z"
   },
   {
    "duration": 5,
    "start_time": "2022-03-30T08:05:40.351Z"
   },
   {
    "duration": 95,
    "start_time": "2022-03-30T08:05:52.262Z"
   },
   {
    "duration": 4,
    "start_time": "2022-03-30T08:07:38.169Z"
   },
   {
    "duration": 51,
    "start_time": "2022-03-30T08:07:45.617Z"
   },
   {
    "duration": 7,
    "start_time": "2022-03-30T08:07:51.625Z"
   },
   {
    "duration": 31,
    "start_time": "2022-03-30T08:07:56.160Z"
   },
   {
    "duration": 7,
    "start_time": "2022-03-30T08:08:03.223Z"
   },
   {
    "duration": 4,
    "start_time": "2022-03-30T08:08:48.108Z"
   },
   {
    "duration": 3,
    "start_time": "2022-03-30T08:08:54.304Z"
   },
   {
    "duration": 20,
    "start_time": "2022-03-30T08:12:42.582Z"
   },
   {
    "duration": 15,
    "start_time": "2022-03-30T08:13:28.743Z"
   },
   {
    "duration": 29,
    "start_time": "2022-03-30T08:13:43.363Z"
   },
   {
    "duration": 95,
    "start_time": "2022-03-30T08:14:00.206Z"
   },
   {
    "duration": 32,
    "start_time": "2022-03-30T08:14:00.577Z"
   },
   {
    "duration": 7,
    "start_time": "2022-03-30T08:14:01.639Z"
   },
   {
    "duration": 4,
    "start_time": "2022-03-30T08:14:02.261Z"
   },
   {
    "duration": 4,
    "start_time": "2022-03-30T08:14:03.827Z"
   },
   {
    "duration": 14,
    "start_time": "2022-03-30T08:14:09.299Z"
   },
   {
    "duration": 91,
    "start_time": "2022-03-30T08:14:19.205Z"
   },
   {
    "duration": 25,
    "start_time": "2022-03-30T08:14:19.399Z"
   },
   {
    "duration": 7,
    "start_time": "2022-03-30T08:14:19.964Z"
   },
   {
    "duration": 4,
    "start_time": "2022-03-30T08:14:21.426Z"
   },
   {
    "duration": 3,
    "start_time": "2022-03-30T08:14:22.096Z"
   },
   {
    "duration": 2005,
    "start_time": "2022-03-30T08:14:23.019Z"
   },
   {
    "duration": 6,
    "start_time": "2022-03-30T08:17:37.004Z"
   },
   {
    "duration": 40,
    "start_time": "2022-03-30T08:24:36.439Z"
   },
   {
    "duration": 45,
    "start_time": "2022-03-30T08:24:44.063Z"
   },
   {
    "duration": 287,
    "start_time": "2022-03-30T08:24:48.082Z"
   },
   {
    "duration": 167,
    "start_time": "2022-03-30T08:24:52.872Z"
   },
   {
    "duration": 40,
    "start_time": "2022-03-30T08:24:55.727Z"
   },
   {
    "duration": 2902,
    "start_time": "2022-03-30T08:25:28.455Z"
   },
   {
    "duration": 120,
    "start_time": "2022-03-30T08:25:52.169Z"
   },
   {
    "duration": 21,
    "start_time": "2022-03-30T08:26:54.552Z"
   },
   {
    "duration": 42,
    "start_time": "2022-03-30T08:27:37.808Z"
   },
   {
    "duration": 36,
    "start_time": "2022-03-30T08:27:45.221Z"
   },
   {
    "duration": 38,
    "start_time": "2022-03-30T08:28:16.834Z"
   },
   {
    "duration": 533,
    "start_time": "2022-03-30T08:39:18.802Z"
   },
   {
    "duration": 1447,
    "start_time": "2022-03-30T08:39:19.338Z"
   },
   {
    "duration": 618,
    "start_time": "2022-03-30T08:39:20.788Z"
   },
   {
    "duration": 3,
    "start_time": "2022-03-30T08:39:21.409Z"
   },
   {
    "duration": 18,
    "start_time": "2022-03-30T08:39:21.415Z"
   },
   {
    "duration": 8,
    "start_time": "2022-03-30T08:39:21.436Z"
   },
   {
    "duration": 13,
    "start_time": "2022-03-30T08:39:21.446Z"
   },
   {
    "duration": 11,
    "start_time": "2022-03-30T08:39:21.462Z"
   },
   {
    "duration": 12,
    "start_time": "2022-03-30T08:39:21.476Z"
   },
   {
    "duration": 15,
    "start_time": "2022-03-30T08:39:21.490Z"
   },
   {
    "duration": 16,
    "start_time": "2022-03-30T08:39:21.507Z"
   },
   {
    "duration": 21,
    "start_time": "2022-03-30T08:39:21.526Z"
   },
   {
    "duration": 28,
    "start_time": "2022-03-30T08:39:21.550Z"
   },
   {
    "duration": 2286,
    "start_time": "2022-03-30T08:39:21.586Z"
   },
   {
    "duration": 9,
    "start_time": "2022-03-30T08:39:23.875Z"
   },
   {
    "duration": 31,
    "start_time": "2022-03-30T08:39:23.886Z"
   },
   {
    "duration": 35,
    "start_time": "2022-03-30T08:39:23.920Z"
   },
   {
    "duration": 189,
    "start_time": "2022-03-30T08:39:23.957Z"
   },
   {
    "duration": 718,
    "start_time": "2022-03-30T08:39:24.148Z"
   },
   {
    "duration": 15,
    "start_time": "2022-03-30T08:39:24.868Z"
   },
   {
    "duration": 6,
    "start_time": "2022-03-30T08:39:24.885Z"
   },
   {
    "duration": 70,
    "start_time": "2022-03-30T08:39:24.893Z"
   },
   {
    "duration": 21,
    "start_time": "2022-03-30T08:39:24.966Z"
   },
   {
    "duration": 16,
    "start_time": "2022-03-30T08:39:24.989Z"
   },
   {
    "duration": 17,
    "start_time": "2022-03-30T08:39:25.007Z"
   },
   {
    "duration": 18,
    "start_time": "2022-03-30T08:39:25.027Z"
   },
   {
    "duration": 887,
    "start_time": "2022-03-30T08:39:25.047Z"
   },
   {
    "duration": 948,
    "start_time": "2022-03-30T08:39:25.936Z"
   },
   {
    "duration": 403,
    "start_time": "2022-03-30T08:39:26.887Z"
   },
   {
    "duration": 6,
    "start_time": "2022-03-30T08:39:27.292Z"
   },
   {
    "duration": 189,
    "start_time": "2022-03-30T08:39:27.300Z"
   },
   {
    "duration": 237,
    "start_time": "2022-03-30T08:39:27.492Z"
   },
   {
    "duration": 181,
    "start_time": "2022-03-30T08:39:27.731Z"
   },
   {
    "duration": 438,
    "start_time": "2022-03-30T08:39:27.915Z"
   },
   {
    "duration": 129,
    "start_time": "2022-03-30T08:39:28.356Z"
   },
   {
    "duration": 8,
    "start_time": "2022-03-30T08:39:28.488Z"
   },
   {
    "duration": 12,
    "start_time": "2022-03-30T08:39:28.499Z"
   },
   {
    "duration": 25,
    "start_time": "2022-03-30T08:39:28.513Z"
   },
   {
    "duration": 43,
    "start_time": "2022-03-30T08:39:28.541Z"
   },
   {
    "duration": 9,
    "start_time": "2022-03-30T08:39:28.587Z"
   },
   {
    "duration": 5,
    "start_time": "2022-03-30T08:39:28.605Z"
   },
   {
    "duration": 131,
    "start_time": "2022-03-30T08:39:28.613Z"
   },
   {
    "duration": 175,
    "start_time": "2022-03-30T08:39:28.747Z"
   },
   {
    "duration": 96,
    "start_time": "2022-03-30T08:39:28.925Z"
   },
   {
    "duration": 378,
    "start_time": "2022-03-30T08:39:29.024Z"
   },
   {
    "duration": 997,
    "start_time": "2022-03-30T08:39:29.404Z"
   },
   {
    "duration": 958,
    "start_time": "2022-03-30T08:39:30.404Z"
   },
   {
    "duration": 767,
    "start_time": "2022-03-30T08:39:31.365Z"
   },
   {
    "duration": 777,
    "start_time": "2022-03-30T08:39:32.136Z"
   },
   {
    "duration": 14,
    "start_time": "2022-03-30T08:39:32.916Z"
   },
   {
    "duration": 1003,
    "start_time": "2022-03-30T08:39:32.932Z"
   },
   {
    "duration": 6,
    "start_time": "2022-03-30T08:39:33.938Z"
   },
   {
    "duration": 120,
    "start_time": "2022-03-30T08:39:33.947Z"
   },
   {
    "duration": 158,
    "start_time": "2022-03-30T08:39:34.069Z"
   },
   {
    "duration": 156,
    "start_time": "2022-03-30T08:39:34.229Z"
   },
   {
    "duration": 155,
    "start_time": "2022-03-30T08:39:34.388Z"
   },
   {
    "duration": 111,
    "start_time": "2022-03-30T08:39:34.546Z"
   },
   {
    "duration": 169,
    "start_time": "2022-03-30T08:39:34.660Z"
   },
   {
    "duration": 27,
    "start_time": "2022-03-30T08:39:34.833Z"
   },
   {
    "duration": 2060,
    "start_time": "2022-03-30T08:39:34.885Z"
   },
   {
    "duration": 58,
    "start_time": "2022-03-30T08:39:36.948Z"
   },
   {
    "duration": 27,
    "start_time": "2022-03-30T08:39:37.008Z"
   },
   {
    "duration": 19,
    "start_time": "2022-03-30T08:39:37.037Z"
   },
   {
    "duration": 2667,
    "start_time": "2022-03-30T08:39:37.059Z"
   },
   {
    "duration": 9,
    "start_time": "2022-03-30T08:39:39.728Z"
   },
   {
    "duration": 83,
    "start_time": "2022-03-30T08:39:39.739Z"
   },
   {
    "duration": 1505,
    "start_time": "2022-03-30T08:39:39.824Z"
   },
   {
    "duration": 1694,
    "start_time": "2022-03-30T08:39:41.333Z"
   },
   {
    "duration": 1471,
    "start_time": "2022-03-30T08:39:43.031Z"
   },
   {
    "duration": 11,
    "start_time": "2022-03-30T08:39:44.505Z"
   },
   {
    "duration": 76,
    "start_time": "2022-03-30T08:39:44.519Z"
   },
   {
    "duration": 1311,
    "start_time": "2022-03-30T08:39:44.597Z"
   },
   {
    "duration": 1004,
    "start_time": "2022-03-30T08:39:45.910Z"
   },
   {
    "duration": 537,
    "start_time": "2022-03-30T08:39:46.916Z"
   },
   {
    "duration": 72,
    "start_time": "2022-03-30T08:39:47.456Z"
   },
   {
    "duration": 9,
    "start_time": "2022-03-30T08:39:47.530Z"
   },
   {
    "duration": 3,
    "start_time": "2022-03-30T08:39:47.542Z"
   },
   {
    "duration": 39,
    "start_time": "2022-03-30T08:39:47.547Z"
   },
   {
    "duration": 26,
    "start_time": "2022-03-30T08:39:47.589Z"
   },
   {
    "duration": 32,
    "start_time": "2022-03-30T08:39:47.617Z"
   },
   {
    "duration": 139,
    "start_time": "2022-03-30T08:39:47.651Z"
   },
   {
    "duration": 45,
    "start_time": "2022-03-30T08:39:47.792Z"
   },
   {
    "duration": 105,
    "start_time": "2022-03-30T08:39:47.839Z"
   },
   {
    "duration": 1300,
    "start_time": "2022-03-30T08:39:47.947Z"
   },
   {
    "duration": 36,
    "start_time": "2022-03-30T08:39:49.249Z"
   },
   {
    "duration": 8,
    "start_time": "2022-03-30T08:39:49.287Z"
   },
   {
    "duration": 505,
    "start_time": "2022-03-30T08:39:49.297Z"
   },
   {
    "duration": 407,
    "start_time": "2022-03-30T08:39:55.835Z"
   },
   {
    "duration": 170,
    "start_time": "2022-03-30T08:40:03.412Z"
   },
   {
    "duration": 8,
    "start_time": "2022-03-30T08:40:09.163Z"
   },
   {
    "duration": 5,
    "start_time": "2022-03-30T08:40:53.780Z"
   },
   {
    "duration": 96,
    "start_time": "2022-03-30T08:40:54.224Z"
   },
   {
    "duration": 24,
    "start_time": "2022-03-30T08:40:54.618Z"
   },
   {
    "duration": 7,
    "start_time": "2022-03-30T08:40:56.180Z"
   },
   {
    "duration": 5,
    "start_time": "2022-03-30T08:40:57.266Z"
   },
   {
    "duration": 4,
    "start_time": "2022-03-30T08:40:57.986Z"
   },
   {
    "duration": 3,
    "start_time": "2022-03-30T08:41:14.028Z"
   },
   {
    "duration": 20,
    "start_time": "2022-03-30T08:41:24.870Z"
   },
   {
    "duration": 12863,
    "start_time": "2022-03-30T08:41:29.627Z"
   },
   {
    "duration": 13873,
    "start_time": "2022-03-30T08:42:13.632Z"
   },
   {
    "duration": 653,
    "start_time": "2022-03-30T08:42:39.109Z"
   },
   {
    "duration": 12798,
    "start_time": "2022-03-30T08:42:57.785Z"
   },
   {
    "duration": 6,
    "start_time": "2022-03-30T08:44:08.616Z"
   },
   {
    "duration": 13296,
    "start_time": "2022-03-30T08:44:20.191Z"
   },
   {
    "duration": 6,
    "start_time": "2022-03-30T08:44:33.490Z"
   },
   {
    "duration": 122972,
    "start_time": "2022-03-30T08:44:46.760Z"
   },
   {
    "duration": 5,
    "start_time": "2022-03-30T08:46:49.735Z"
   },
   {
    "duration": 10,
    "start_time": "2022-03-30T08:47:00.016Z"
   },
   {
    "duration": 59623,
    "start_time": "2022-03-30T08:47:08.956Z"
   },
   {
    "duration": 5,
    "start_time": "2022-03-30T08:48:08.584Z"
   },
   {
    "duration": 12,
    "start_time": "2022-03-30T08:48:08.591Z"
   },
   {
    "duration": 60173,
    "start_time": "2022-03-30T08:49:26.295Z"
   },
   {
    "duration": 58106,
    "start_time": "2022-03-30T08:51:27.014Z"
   },
   {
    "duration": 178,
    "start_time": "2022-03-30T08:52:59.157Z"
   },
   {
    "duration": 186826,
    "start_time": "2022-03-30T08:53:06.065Z"
   },
   {
    "duration": 7,
    "start_time": "2022-03-30T08:59:49.882Z"
   },
   {
    "duration": 27757,
    "start_time": "2022-03-30T09:00:17.494Z"
   },
   {
    "duration": 4,
    "start_time": "2022-03-30T09:00:55.423Z"
   },
   {
    "duration": 56882,
    "start_time": "2022-03-30T09:00:59.988Z"
   },
   {
    "duration": 5,
    "start_time": "2022-03-30T09:02:37.055Z"
   },
   {
    "duration": 5,
    "start_time": "2022-03-30T09:03:14.580Z"
   },
   {
    "duration": 1242289,
    "start_time": "2022-03-30T09:03:31.233Z"
   },
   {
    "duration": 237,
    "start_time": "2022-03-30T09:24:13.525Z"
   },
   {
    "duration": 363750,
    "start_time": "2022-03-30T09:25:31.650Z"
   },
   {
    "duration": 7,
    "start_time": "2022-04-01T11:18:15.781Z"
   },
   {
    "duration": 400,
    "start_time": "2022-04-01T11:18:18.812Z"
   },
   {
    "duration": 997,
    "start_time": "2022-04-01T11:19:10.318Z"
   },
   {
    "duration": 772,
    "start_time": "2022-04-01T11:19:12.271Z"
   },
   {
    "duration": 109,
    "start_time": "2022-04-01T11:19:13.045Z"
   },
   {
    "duration": 2,
    "start_time": "2022-04-01T11:19:31.066Z"
   },
   {
    "duration": 2,
    "start_time": "2022-04-01T11:19:32.596Z"
   },
   {
    "duration": 3,
    "start_time": "2022-04-01T11:19:33.965Z"
   },
   {
    "duration": 5,
    "start_time": "2022-04-01T11:19:35.485Z"
   },
   {
    "duration": 3,
    "start_time": "2022-04-01T11:19:36.701Z"
   },
   {
    "duration": 3,
    "start_time": "2022-04-01T11:19:37.098Z"
   },
   {
    "duration": 3,
    "start_time": "2022-04-01T11:19:37.291Z"
   },
   {
    "duration": 8,
    "start_time": "2022-04-01T11:19:37.489Z"
   },
   {
    "duration": 8,
    "start_time": "2022-04-01T11:19:37.926Z"
   },
   {
    "duration": 5,
    "start_time": "2022-04-01T11:19:38.203Z"
   },
   {
    "duration": 4,
    "start_time": "2022-04-01T11:19:38.756Z"
   },
   {
    "duration": 11,
    "start_time": "2022-04-01T11:19:39.006Z"
   },
   {
    "duration": 4,
    "start_time": "2022-04-01T11:19:39.722Z"
   },
   {
    "duration": 6,
    "start_time": "2022-04-01T11:19:40.007Z"
   },
   {
    "duration": 3,
    "start_time": "2022-04-01T11:19:41.085Z"
   },
   {
    "duration": 3146,
    "start_time": "2022-04-01T11:19:41.533Z"
   },
   {
    "duration": 4,
    "start_time": "2022-04-01T11:19:44.864Z"
   },
   {
    "duration": 5,
    "start_time": "2022-04-01T11:19:47.296Z"
   },
   {
    "duration": 16,
    "start_time": "2022-04-01T11:19:48.995Z"
   },
   {
    "duration": 134,
    "start_time": "2022-04-01T11:19:50.090Z"
   },
   {
    "duration": 484,
    "start_time": "2022-04-01T11:19:50.438Z"
   },
   {
    "duration": 4,
    "start_time": "2022-04-01T11:19:51.732Z"
   },
   {
    "duration": 3,
    "start_time": "2022-04-01T11:19:52.156Z"
   },
   {
    "duration": 47,
    "start_time": "2022-04-01T11:19:55.093Z"
   },
   {
    "duration": 3,
    "start_time": "2022-04-01T11:19:56.396Z"
   },
   {
    "duration": 4,
    "start_time": "2022-04-01T11:19:56.876Z"
   },
   {
    "duration": 2,
    "start_time": "2022-04-01T11:19:58.292Z"
   },
   {
    "duration": 5,
    "start_time": "2022-04-01T11:19:58.513Z"
   },
   {
    "duration": 434,
    "start_time": "2022-04-01T11:19:58.997Z"
   },
   {
    "duration": 492,
    "start_time": "2022-04-01T11:19:59.861Z"
   },
   {
    "duration": 299,
    "start_time": "2022-04-01T11:20:01.721Z"
   },
   {
    "duration": 4,
    "start_time": "2022-04-01T11:20:02.022Z"
   },
   {
    "duration": 94,
    "start_time": "2022-04-01T11:20:04.512Z"
   },
   {
    "duration": 185,
    "start_time": "2022-04-01T11:20:04.896Z"
   },
   {
    "duration": 100,
    "start_time": "2022-04-01T11:20:08.091Z"
   },
   {
    "duration": 214,
    "start_time": "2022-04-01T11:20:08.994Z"
   },
   {
    "duration": 107,
    "start_time": "2022-04-01T11:20:11.402Z"
   },
   {
    "duration": 5,
    "start_time": "2022-04-01T11:20:12.594Z"
   },
   {
    "duration": 6,
    "start_time": "2022-04-01T11:20:14.573Z"
   },
   {
    "duration": 16,
    "start_time": "2022-04-01T11:20:15.543Z"
   },
   {
    "duration": 6,
    "start_time": "2022-04-01T11:20:17.846Z"
   },
   {
    "duration": 6,
    "start_time": "2022-04-01T11:20:19.192Z"
   },
   {
    "duration": 4,
    "start_time": "2022-04-01T11:20:21.178Z"
   },
   {
    "duration": 63,
    "start_time": "2022-04-01T11:20:22.874Z"
   },
   {
    "duration": 90,
    "start_time": "2022-04-01T11:20:23.772Z"
   },
   {
    "duration": 55,
    "start_time": "2022-04-01T11:20:24.428Z"
   },
   {
    "duration": 253,
    "start_time": "2022-04-01T11:20:26.758Z"
   },
   {
    "duration": 552,
    "start_time": "2022-04-01T11:20:29.277Z"
   },
   {
    "duration": 497,
    "start_time": "2022-04-01T11:20:33.042Z"
   },
   {
    "duration": 404,
    "start_time": "2022-04-01T11:20:35.622Z"
   },
   {
    "duration": 440,
    "start_time": "2022-04-01T11:20:37.642Z"
   },
   {
    "duration": 10,
    "start_time": "2022-04-01T11:20:39.775Z"
   },
   {
    "duration": 504,
    "start_time": "2022-04-01T11:20:41.803Z"
   },
   {
    "duration": 4,
    "start_time": "2022-04-01T11:20:44.245Z"
   },
   {
    "duration": 64,
    "start_time": "2022-04-01T11:20:44.963Z"
   },
   {
    "duration": 65,
    "start_time": "2022-04-01T11:20:46.793Z"
   },
   {
    "duration": 63,
    "start_time": "2022-04-01T11:20:48.569Z"
   },
   {
    "duration": 61,
    "start_time": "2022-04-01T11:20:50.637Z"
   },
   {
    "duration": 64,
    "start_time": "2022-04-01T11:20:51.467Z"
   },
   {
    "duration": 56,
    "start_time": "2022-04-01T11:20:52.464Z"
   },
   {
    "duration": 16,
    "start_time": "2022-04-01T11:20:54.691Z"
   },
   {
    "duration": 995,
    "start_time": "2022-04-01T11:20:57.203Z"
   },
   {
    "duration": 26,
    "start_time": "2022-04-01T11:21:00.183Z"
   },
   {
    "duration": 18,
    "start_time": "2022-04-01T11:21:00.892Z"
   },
   {
    "duration": 11,
    "start_time": "2022-04-01T11:21:02.468Z"
   },
   {
    "duration": 1572,
    "start_time": "2022-04-01T11:21:04.949Z"
   },
   {
    "duration": 31,
    "start_time": "2022-04-01T11:21:28.657Z"
   },
   {
    "duration": 742,
    "start_time": "2022-04-01T11:21:30.296Z"
   },
   {
    "duration": 768,
    "start_time": "2022-04-01T11:21:31.040Z"
   },
   {
    "duration": 724,
    "start_time": "2022-04-01T11:21:33.305Z"
   },
   {
    "duration": 896,
    "start_time": "2022-04-01T11:21:37.306Z"
   },
   {
    "duration": 28,
    "start_time": "2022-04-01T11:21:40.329Z"
   },
   {
    "duration": 738,
    "start_time": "2022-04-01T11:21:41.439Z"
   },
   {
    "duration": 676,
    "start_time": "2022-04-01T11:21:44.486Z"
   },
   {
    "duration": 379,
    "start_time": "2022-04-01T11:22:29.827Z"
   },
   {
    "duration": 55,
    "start_time": "2022-04-01T11:22:33.165Z"
   },
   {
    "duration": 5,
    "start_time": "2022-04-01T11:22:35.256Z"
   },
   {
    "duration": 3,
    "start_time": "2022-04-01T11:22:38.327Z"
   },
   {
    "duration": 7,
    "start_time": "2022-04-01T11:22:40.277Z"
   },
   {
    "duration": 15,
    "start_time": "2022-04-01T11:22:42.162Z"
   },
   {
    "duration": 21,
    "start_time": "2022-04-01T11:22:42.587Z"
   },
   {
    "duration": 4,
    "start_time": "2022-04-01T11:22:45.224Z"
   },
   {
    "duration": 99,
    "start_time": "2022-04-01T11:22:45.560Z"
   },
   {
    "duration": 69,
    "start_time": "2022-04-01T11:22:49.581Z"
   },
   {
    "duration": 595,
    "start_time": "2022-04-01T11:22:52.423Z"
   },
   {
    "duration": 15,
    "start_time": "2022-04-01T11:22:53.122Z"
   },
   {
    "duration": 4,
    "start_time": "2022-04-01T11:22:56.164Z"
   },
   {
    "duration": 327,
    "start_time": "2022-04-01T11:22:56.748Z"
   },
   {
    "duration": 3,
    "start_time": "2022-04-01T11:23:04.809Z"
   },
   {
    "duration": 1044,
    "start_time": "2022-04-01T11:23:07.410Z"
   },
   {
    "duration": 16,
    "start_time": "2022-04-01T11:23:11.088Z"
   },
   {
    "duration": 4,
    "start_time": "2022-04-01T11:23:15.653Z"
   },
   {
    "duration": 80,
    "start_time": "2022-04-01T11:23:16.115Z"
   },
   {
    "duration": 14,
    "start_time": "2022-04-01T11:23:18.240Z"
   },
   {
    "duration": 4,
    "start_time": "2022-04-01T11:23:20.980Z"
   },
   {
    "duration": 2,
    "start_time": "2022-04-01T11:23:24.125Z"
   },
   {
    "duration": 3,
    "start_time": "2022-04-01T11:23:26.381Z"
   },
   {
    "duration": 3,
    "start_time": "2022-04-01T11:23:26.934Z"
   },
   {
    "duration": 4,
    "start_time": "2022-04-01T11:23:29.459Z"
   },
   {
    "duration": 383641,
    "start_time": "2022-04-01T11:23:32.661Z"
   },
   {
    "duration": 55936,
    "start_time": "2022-04-01T11:30:06.041Z"
   },
   {
    "duration": 49,
    "start_time": "2022-04-01T11:31:01.980Z"
   },
   {
    "duration": 37,
    "start_time": "2022-04-01T11:31:02.031Z"
   },
   {
    "duration": 3,
    "start_time": "2022-04-01T11:32:33.607Z"
   },
   {
    "duration": 110979,
    "start_time": "2022-04-01T11:32:34.025Z"
   },
   {
    "duration": 5,
    "start_time": "2022-04-01T11:34:25.006Z"
   },
   {
    "duration": 16,
    "start_time": "2022-04-01T11:34:25.013Z"
   },
   {
    "duration": 11183,
    "start_time": "2022-04-01T11:34:25.032Z"
   },
   {
    "duration": 85,
    "start_time": "2022-04-01T11:34:36.216Z"
   },
   {
    "duration": 20,
    "start_time": "2022-04-01T11:34:36.303Z"
   },
   {
    "duration": 7,
    "start_time": "2022-04-01T11:34:36.325Z"
   },
   {
    "duration": 32889,
    "start_time": "2022-04-01T11:34:36.333Z"
   },
   {
    "duration": 81,
    "start_time": "2022-04-01T11:35:09.224Z"
   },
   {
    "duration": 14,
    "start_time": "2022-04-01T11:35:09.307Z"
   },
   {
    "duration": 2,
    "start_time": "2022-04-01T11:35:39.493Z"
   },
   {
    "duration": 2,
    "start_time": "2022-04-01T11:35:39.954Z"
   },
   {
    "duration": 133591,
    "start_time": "2022-04-01T11:35:54.018Z"
   },
   {
    "duration": 680603,
    "start_time": "2022-04-01T11:38:07.611Z"
   },
   {
    "duration": 5,
    "start_time": "2022-04-01T11:49:28.216Z"
   },
   {
    "duration": 413,
    "start_time": "2022-04-01T11:49:28.222Z"
   },
   {
    "duration": 41,
    "start_time": "2022-04-01T11:49:28.638Z"
   },
   {
    "duration": 4,
    "start_time": "2022-04-01T11:49:28.700Z"
   },
   {
    "duration": 67949,
    "start_time": "2022-04-01T11:49:28.705Z"
   },
   {
    "duration": 13,
    "start_time": "2022-04-01T11:50:36.656Z"
   },
   {
    "duration": 0,
    "start_time": "2022-04-01T11:50:36.671Z"
   },
   {
    "duration": 0,
    "start_time": "2022-04-01T11:50:36.672Z"
   },
   {
    "duration": 0,
    "start_time": "2022-04-01T11:50:36.673Z"
   },
   {
    "duration": 0,
    "start_time": "2022-04-01T11:50:36.674Z"
   },
   {
    "duration": 0,
    "start_time": "2022-04-01T11:50:36.678Z"
   },
   {
    "duration": 6,
    "start_time": "2022-04-01T11:50:48.453Z"
   },
   {
    "duration": 10,
    "start_time": "2022-04-01T11:51:47.825Z"
   },
   {
    "duration": 500,
    "start_time": "2022-04-01T11:51:50.489Z"
   },
   {
    "duration": 785,
    "start_time": "2022-04-01T11:51:50.991Z"
   },
   {
    "duration": 3,
    "start_time": "2022-04-01T11:52:49.715Z"
   },
   {
    "duration": 416,
    "start_time": "2022-04-01T11:52:50.435Z"
   },
   {
    "duration": 5,
    "start_time": "2022-04-01T11:52:52.891Z"
   },
   {
    "duration": 3,
    "start_time": "2022-04-01T11:52:54.199Z"
   },
   {
    "duration": 4,
    "start_time": "2022-04-01T11:52:55.120Z"
   },
   {
    "duration": 6,
    "start_time": "2022-04-01T11:52:57.101Z"
   },
   {
    "duration": 5,
    "start_time": "2022-04-01T11:52:58.539Z"
   },
   {
    "duration": 4,
    "start_time": "2022-04-01T11:52:58.882Z"
   },
   {
    "duration": 4,
    "start_time": "2022-04-01T11:52:59.062Z"
   },
   {
    "duration": 9,
    "start_time": "2022-04-01T11:52:59.230Z"
   },
   {
    "duration": 11,
    "start_time": "2022-04-01T11:52:59.593Z"
   },
   {
    "duration": 5,
    "start_time": "2022-04-01T11:52:59.781Z"
   },
   {
    "duration": 3,
    "start_time": "2022-04-01T11:53:00.157Z"
   },
   {
    "duration": 20,
    "start_time": "2022-04-01T11:53:00.354Z"
   },
   {
    "duration": 4,
    "start_time": "2022-04-01T11:53:00.544Z"
   },
   {
    "duration": 6,
    "start_time": "2022-04-01T11:53:00.747Z"
   },
   {
    "duration": 2,
    "start_time": "2022-04-01T11:53:02.480Z"
   },
   {
    "duration": 1888,
    "start_time": "2022-04-01T11:53:02.899Z"
   },
   {
    "duration": 4,
    "start_time": "2022-04-01T11:53:04.789Z"
   },
   {
    "duration": 6,
    "start_time": "2022-04-01T11:53:06.228Z"
   },
   {
    "duration": 18,
    "start_time": "2022-04-01T11:53:08.259Z"
   },
   {
    "duration": 130,
    "start_time": "2022-04-01T11:53:08.537Z"
   },
   {
    "duration": 477,
    "start_time": "2022-04-01T11:53:08.792Z"
   },
   {
    "duration": 5,
    "start_time": "2022-04-01T11:53:09.271Z"
   },
   {
    "duration": 4,
    "start_time": "2022-04-01T11:53:10.921Z"
   },
   {
    "duration": 48,
    "start_time": "2022-04-01T11:53:19.240Z"
   },
   {
    "duration": 3,
    "start_time": "2022-04-01T11:53:22.207Z"
   },
   {
    "duration": 6,
    "start_time": "2022-04-01T11:53:24.176Z"
   },
   {
    "duration": 3,
    "start_time": "2022-04-01T11:53:28.011Z"
   },
   {
    "duration": 5,
    "start_time": "2022-04-01T11:53:28.361Z"
   },
   {
    "duration": 461,
    "start_time": "2022-04-01T11:53:30.170Z"
   },
   {
    "duration": 491,
    "start_time": "2022-04-01T11:53:35.447Z"
   },
   {
    "duration": 312,
    "start_time": "2022-04-01T11:53:37.073Z"
   },
   {
    "duration": 4,
    "start_time": "2022-04-01T11:53:48.751Z"
   },
   {
    "duration": 100,
    "start_time": "2022-04-01T11:53:52.670Z"
   },
   {
    "duration": 176,
    "start_time": "2022-04-01T11:53:56.280Z"
   },
   {
    "duration": 98,
    "start_time": "2022-04-01T11:53:59.724Z"
   },
   {
    "duration": 246,
    "start_time": "2022-04-01T11:54:00.888Z"
   },
   {
    "duration": 121,
    "start_time": "2022-04-01T11:54:04.726Z"
   },
   {
    "duration": 6,
    "start_time": "2022-04-01T11:54:07.755Z"
   },
   {
    "duration": 7,
    "start_time": "2022-04-01T11:54:10.205Z"
   },
   {
    "duration": 8,
    "start_time": "2022-04-01T11:55:28.025Z"
   },
   {
    "duration": 119,
    "start_time": "2022-04-01T11:55:48.582Z"
   },
   {
    "duration": 9,
    "start_time": "2022-04-01T11:55:54.270Z"
   },
   {
    "duration": 8,
    "start_time": "2022-04-01T11:56:07.861Z"
   },
   {
    "duration": 2,
    "start_time": "2022-04-01T11:56:19.475Z"
   },
   {
    "duration": 9,
    "start_time": "2022-04-01T11:56:19.485Z"
   },
   {
    "duration": 9,
    "start_time": "2022-04-01T11:56:19.496Z"
   },
   {
    "duration": 14,
    "start_time": "2022-04-01T11:56:19.507Z"
   },
   {
    "duration": 12,
    "start_time": "2022-04-01T11:56:19.523Z"
   },
   {
    "duration": 6,
    "start_time": "2022-04-01T11:56:19.537Z"
   },
   {
    "duration": 5,
    "start_time": "2022-04-01T11:56:19.545Z"
   },
   {
    "duration": 6,
    "start_time": "2022-04-01T11:56:19.551Z"
   },
   {
    "duration": 20,
    "start_time": "2022-04-01T11:56:19.558Z"
   },
   {
    "duration": 3,
    "start_time": "2022-04-01T11:56:19.602Z"
   },
   {
    "duration": 8,
    "start_time": "2022-04-01T11:56:19.608Z"
   },
   {
    "duration": 14,
    "start_time": "2022-04-01T11:56:19.618Z"
   },
   {
    "duration": 21,
    "start_time": "2022-04-01T11:56:19.633Z"
   },
   {
    "duration": 19,
    "start_time": "2022-04-01T11:56:19.656Z"
   },
   {
    "duration": 12,
    "start_time": "2022-04-01T11:56:19.679Z"
   },
   {
    "duration": 14,
    "start_time": "2022-04-01T11:56:19.701Z"
   },
   {
    "duration": 12,
    "start_time": "2022-04-01T11:56:19.717Z"
   },
   {
    "duration": 12,
    "start_time": "2022-04-01T11:56:19.731Z"
   },
   {
    "duration": 7,
    "start_time": "2022-04-01T11:56:19.745Z"
   },
   {
    "duration": 5060,
    "start_time": "2022-04-01T11:56:19.755Z"
   },
   {
    "duration": 5,
    "start_time": "2022-04-01T11:56:24.817Z"
   },
   {
    "duration": 25,
    "start_time": "2022-04-01T11:56:24.824Z"
   },
   {
    "duration": 29,
    "start_time": "2022-04-01T11:56:24.851Z"
   },
   {
    "duration": 237,
    "start_time": "2022-04-01T11:56:24.882Z"
   },
   {
    "duration": 718,
    "start_time": "2022-04-01T11:56:25.121Z"
   },
   {
    "duration": 4,
    "start_time": "2022-04-01T11:56:25.841Z"
   },
   {
    "duration": 21,
    "start_time": "2022-04-01T11:56:25.847Z"
   },
   {
    "duration": 25,
    "start_time": "2022-04-01T11:56:25.870Z"
   },
   {
    "duration": 5,
    "start_time": "2022-04-01T11:56:25.897Z"
   },
   {
    "duration": 17,
    "start_time": "2022-04-01T11:56:25.904Z"
   },
   {
    "duration": 18,
    "start_time": "2022-04-01T11:56:25.922Z"
   },
   {
    "duration": 19,
    "start_time": "2022-04-01T11:56:25.942Z"
   },
   {
    "duration": 472,
    "start_time": "2022-04-01T11:56:25.962Z"
   },
   {
    "duration": 505,
    "start_time": "2022-04-01T11:56:26.436Z"
   },
   {
    "duration": 275,
    "start_time": "2022-04-01T11:56:26.942Z"
   },
   {
    "duration": 5,
    "start_time": "2022-04-01T11:56:27.219Z"
   },
   {
    "duration": 123,
    "start_time": "2022-04-01T11:56:27.226Z"
   },
   {
    "duration": 161,
    "start_time": "2022-04-01T11:56:27.351Z"
   },
   {
    "duration": 87,
    "start_time": "2022-04-01T11:56:27.514Z"
   },
   {
    "duration": 225,
    "start_time": "2022-04-01T11:56:27.603Z"
   },
   {
    "duration": 92,
    "start_time": "2022-04-01T11:56:27.830Z"
   },
   {
    "duration": 10,
    "start_time": "2022-04-01T11:56:27.926Z"
   },
   {
    "duration": 23,
    "start_time": "2022-04-01T11:56:27.937Z"
   },
   {
    "duration": 31,
    "start_time": "2022-04-01T11:56:29.919Z"
   },
   {
    "duration": 6,
    "start_time": "2022-04-01T11:56:30.286Z"
   },
   {
    "duration": 6,
    "start_time": "2022-04-01T11:56:33.364Z"
   },
   {
    "duration": 8,
    "start_time": "2022-04-01T11:56:35.502Z"
   },
   {
    "duration": 5,
    "start_time": "2022-04-01T11:56:38.068Z"
   },
   {
    "duration": 60,
    "start_time": "2022-04-01T11:56:39.051Z"
   },
   {
    "duration": 93,
    "start_time": "2022-04-01T11:56:40.852Z"
   },
   {
    "duration": 55,
    "start_time": "2022-04-01T11:56:42.314Z"
   },
   {
    "duration": 230,
    "start_time": "2022-04-01T11:56:45.432Z"
   },
   {
    "duration": 547,
    "start_time": "2022-04-01T11:56:46.978Z"
   },
   {
    "duration": 487,
    "start_time": "2022-04-01T11:56:47.838Z"
   },
   {
    "duration": 404,
    "start_time": "2022-04-01T11:56:50.641Z"
   },
   {
    "duration": 314,
    "start_time": "2022-04-01T11:56:52.654Z"
   },
   {
    "duration": 10,
    "start_time": "2022-04-01T11:56:55.386Z"
   },
   {
    "duration": 546,
    "start_time": "2022-04-01T11:57:16.315Z"
   },
   {
    "duration": 4,
    "start_time": "2022-04-01T11:57:18.796Z"
   },
   {
    "duration": 128,
    "start_time": "2022-04-01T11:57:23.617Z"
   },
   {
    "duration": 105,
    "start_time": "2022-04-01T11:57:26.678Z"
   },
   {
    "duration": 114,
    "start_time": "2022-04-01T11:57:29.277Z"
   },
   {
    "duration": 109,
    "start_time": "2022-04-01T11:57:31.318Z"
   },
   {
    "duration": 108,
    "start_time": "2022-04-01T11:57:33.029Z"
   },
   {
    "duration": 115,
    "start_time": "2022-04-01T11:57:34.998Z"
   },
   {
    "duration": 19,
    "start_time": "2022-04-01T11:57:35.997Z"
   },
   {
    "duration": 975,
    "start_time": "2022-04-01T11:57:38.107Z"
   },
   {
    "duration": 29,
    "start_time": "2022-04-01T11:57:40.125Z"
   },
   {
    "duration": 17,
    "start_time": "2022-04-01T11:57:41.454Z"
   },
   {
    "duration": 12,
    "start_time": "2022-04-01T11:57:42.161Z"
   },
   {
    "duration": 1520,
    "start_time": "2022-04-01T11:57:44.428Z"
   },
   {
    "duration": 30,
    "start_time": "2022-04-01T11:57:47.990Z"
   },
   {
    "duration": 731,
    "start_time": "2022-04-01T11:57:49.314Z"
   },
   {
    "duration": 1014,
    "start_time": "2022-04-01T11:57:55.729Z"
   },
   {
    "duration": 1577,
    "start_time": "2022-04-01T11:57:59.133Z"
   },
   {
    "duration": 41,
    "start_time": "2022-04-01T11:58:00.713Z"
   },
   {
    "duration": 1252,
    "start_time": "2022-04-01T11:58:01.056Z"
   },
   {
    "duration": 902,
    "start_time": "2022-04-01T11:58:02.842Z"
   },
   {
    "duration": 453,
    "start_time": "2022-04-01T11:58:06.740Z"
   },
   {
    "duration": 59,
    "start_time": "2022-04-01T11:58:07.195Z"
   },
   {
    "duration": 6,
    "start_time": "2022-04-01T11:58:09.637Z"
   },
   {
    "duration": 4,
    "start_time": "2022-04-01T11:58:11.948Z"
   },
   {
    "duration": 10,
    "start_time": "2022-04-01T11:58:14.461Z"
   },
   {
    "duration": 18,
    "start_time": "2022-04-01T11:58:38.786Z"
   },
   {
    "duration": 23,
    "start_time": "2022-04-01T11:58:39.187Z"
   },
   {
    "duration": 4,
    "start_time": "2022-04-01T11:58:42.017Z"
   },
   {
    "duration": 101,
    "start_time": "2022-04-01T11:58:42.487Z"
   },
   {
    "duration": 91,
    "start_time": "2022-04-01T11:58:45.547Z"
   },
   {
    "duration": 971,
    "start_time": "2022-04-01T11:58:56.161Z"
   },
   {
    "duration": 17,
    "start_time": "2022-04-01T11:58:57.134Z"
   },
   {
    "duration": 4,
    "start_time": "2022-04-01T11:59:01.490Z"
   },
   {
    "duration": 373,
    "start_time": "2022-04-01T11:59:02.033Z"
   },
   {
    "duration": 4,
    "start_time": "2022-04-01T12:02:07.470Z"
   },
   {
    "duration": 1337,
    "start_time": "2022-04-01T12:02:09.102Z"
   },
   {
    "duration": 22,
    "start_time": "2022-04-01T12:02:11.584Z"
   },
   {
    "duration": 6,
    "start_time": "2022-04-01T12:02:12.968Z"
   },
   {
    "duration": 5,
    "start_time": "2022-04-01T12:02:34.780Z"
   },
   {
    "duration": 85,
    "start_time": "2022-04-01T12:02:56.581Z"
   },
   {
    "duration": 21,
    "start_time": "2022-04-01T12:02:57.593Z"
   },
   {
    "duration": 5,
    "start_time": "2022-04-01T12:02:58.999Z"
   },
   {
    "duration": 3,
    "start_time": "2022-04-01T12:02:59.900Z"
   },
   {
    "duration": 3,
    "start_time": "2022-04-01T12:03:04.620Z"
   },
   {
    "duration": 3,
    "start_time": "2022-04-01T12:03:05.260Z"
   },
   {
    "duration": 4,
    "start_time": "2022-04-01T12:03:14.953Z"
   },
   {
    "duration": 10,
    "start_time": "2022-04-01T12:19:51.170Z"
   },
   {
    "duration": 68,
    "start_time": "2022-04-02T03:08:17.930Z"
   },
   {
    "duration": 4,
    "start_time": "2022-04-02T03:17:46.901Z"
   },
   {
    "duration": 552,
    "start_time": "2022-04-02T03:17:46.937Z"
   },
   {
    "duration": 1287,
    "start_time": "2022-04-02T03:17:47.491Z"
   },
   {
    "duration": 658,
    "start_time": "2022-04-02T03:17:48.780Z"
   },
   {
    "duration": 4,
    "start_time": "2022-04-02T03:17:49.441Z"
   },
   {
    "duration": 6,
    "start_time": "2022-04-02T03:17:49.447Z"
   },
   {
    "duration": 5,
    "start_time": "2022-04-02T03:17:49.455Z"
   },
   {
    "duration": 8,
    "start_time": "2022-04-02T03:17:49.462Z"
   },
   {
    "duration": 8,
    "start_time": "2022-04-02T03:17:49.472Z"
   },
   {
    "duration": 5,
    "start_time": "2022-04-02T03:17:49.483Z"
   },
   {
    "duration": 5,
    "start_time": "2022-04-02T03:17:49.491Z"
   },
   {
    "duration": 12,
    "start_time": "2022-04-02T03:17:49.498Z"
   },
   {
    "duration": 14,
    "start_time": "2022-04-02T03:17:49.512Z"
   },
   {
    "duration": 8,
    "start_time": "2022-04-02T03:17:49.528Z"
   },
   {
    "duration": 3,
    "start_time": "2022-04-02T03:17:49.573Z"
   },
   {
    "duration": 17,
    "start_time": "2022-04-02T03:17:49.579Z"
   },
   {
    "duration": 8,
    "start_time": "2022-04-02T03:17:49.599Z"
   },
   {
    "duration": 25,
    "start_time": "2022-04-02T03:17:49.609Z"
   },
   {
    "duration": 5,
    "start_time": "2022-04-02T03:17:49.636Z"
   },
   {
    "duration": 2026,
    "start_time": "2022-04-02T03:17:49.643Z"
   },
   {
    "duration": 6,
    "start_time": "2022-04-02T03:17:51.671Z"
   },
   {
    "duration": 11,
    "start_time": "2022-04-02T03:17:51.679Z"
   },
   {
    "duration": 29,
    "start_time": "2022-04-02T03:17:51.692Z"
   },
   {
    "duration": 187,
    "start_time": "2022-04-02T03:17:51.723Z"
   },
   {
    "duration": 643,
    "start_time": "2022-04-02T03:17:51.913Z"
   },
   {
    "duration": 19,
    "start_time": "2022-04-02T03:17:52.559Z"
   },
   {
    "duration": 23,
    "start_time": "2022-04-02T03:17:52.581Z"
   },
   {
    "duration": 88,
    "start_time": "2022-04-02T03:17:52.606Z"
   },
   {
    "duration": 4,
    "start_time": "2022-04-02T03:17:52.703Z"
   },
   {
    "duration": 21,
    "start_time": "2022-04-02T03:17:52.710Z"
   },
   {
    "duration": 32,
    "start_time": "2022-04-02T03:17:52.733Z"
   },
   {
    "duration": 26,
    "start_time": "2022-04-02T03:17:52.767Z"
   },
   {
    "duration": 694,
    "start_time": "2022-04-02T03:17:52.795Z"
   },
   {
    "duration": 783,
    "start_time": "2022-04-02T03:17:53.491Z"
   },
   {
    "duration": 387,
    "start_time": "2022-04-02T03:17:54.276Z"
   },
   {
    "duration": 5,
    "start_time": "2022-04-02T03:17:54.674Z"
   },
   {
    "duration": 165,
    "start_time": "2022-04-02T03:17:54.681Z"
   },
   {
    "duration": 249,
    "start_time": "2022-04-02T03:17:54.848Z"
   },
   {
    "duration": 178,
    "start_time": "2022-04-02T03:17:55.099Z"
   },
   {
    "duration": 356,
    "start_time": "2022-04-02T03:17:55.279Z"
   },
   {
    "duration": 115,
    "start_time": "2022-04-02T03:17:55.638Z"
   },
   {
    "duration": 20,
    "start_time": "2022-04-02T03:17:55.755Z"
   },
   {
    "duration": 31,
    "start_time": "2022-04-02T03:17:55.777Z"
   },
   {
    "duration": 62,
    "start_time": "2022-04-02T03:17:55.810Z"
   },
   {
    "duration": 10,
    "start_time": "2022-04-02T03:17:55.875Z"
   },
   {
    "duration": 31,
    "start_time": "2022-04-02T03:17:55.888Z"
   },
   {
    "duration": 9,
    "start_time": "2022-04-02T03:17:55.921Z"
   },
   {
    "duration": 21,
    "start_time": "2022-04-02T03:17:55.932Z"
   },
   {
    "duration": 97,
    "start_time": "2022-04-02T03:17:55.955Z"
   },
   {
    "duration": 145,
    "start_time": "2022-04-02T03:17:56.054Z"
   },
   {
    "duration": 90,
    "start_time": "2022-04-02T03:17:56.201Z"
   },
   {
    "duration": 363,
    "start_time": "2022-04-02T03:17:56.293Z"
   },
   {
    "duration": 977,
    "start_time": "2022-04-02T03:17:56.658Z"
   },
   {
    "duration": 1010,
    "start_time": "2022-04-02T03:17:57.638Z"
   },
   {
    "duration": 742,
    "start_time": "2022-04-02T03:17:58.651Z"
   },
   {
    "duration": 606,
    "start_time": "2022-04-02T03:17:59.395Z"
   },
   {
    "duration": 13,
    "start_time": "2022-04-02T03:18:00.003Z"
   },
   {
    "duration": 904,
    "start_time": "2022-04-02T03:18:00.018Z"
   },
   {
    "duration": 4,
    "start_time": "2022-04-02T03:18:00.924Z"
   },
   {
    "duration": 123,
    "start_time": "2022-04-02T03:18:00.930Z"
   },
   {
    "duration": 93,
    "start_time": "2022-04-02T03:18:01.055Z"
   },
   {
    "duration": 98,
    "start_time": "2022-04-02T03:18:01.150Z"
   },
   {
    "duration": 102,
    "start_time": "2022-04-02T03:18:01.251Z"
   },
   {
    "duration": 105,
    "start_time": "2022-04-02T03:18:01.355Z"
   },
   {
    "duration": 85,
    "start_time": "2022-04-02T03:18:01.474Z"
   },
   {
    "duration": 27,
    "start_time": "2022-04-02T03:18:01.573Z"
   },
   {
    "duration": 1660,
    "start_time": "2022-04-02T03:18:01.602Z"
   },
   {
    "duration": 53,
    "start_time": "2022-04-02T03:18:03.265Z"
   },
   {
    "duration": 21,
    "start_time": "2022-04-02T03:18:03.320Z"
   },
   {
    "duration": 33,
    "start_time": "2022-04-02T03:18:03.344Z"
   },
   {
    "duration": 2711,
    "start_time": "2022-04-02T03:18:03.379Z"
   },
   {
    "duration": 54,
    "start_time": "2022-04-02T03:18:06.092Z"
   },
   {
    "duration": 1116,
    "start_time": "2022-04-02T03:18:06.149Z"
   },
   {
    "duration": 1123,
    "start_time": "2022-04-02T03:18:07.267Z"
   },
   {
    "duration": 1284,
    "start_time": "2022-04-02T03:18:08.393Z"
   },
   {
    "duration": 59,
    "start_time": "2022-04-02T03:18:09.680Z"
   },
   {
    "duration": 1139,
    "start_time": "2022-04-02T03:18:09.741Z"
   },
   {
    "duration": 977,
    "start_time": "2022-04-02T03:18:10.883Z"
   },
   {
    "duration": 534,
    "start_time": "2022-04-02T03:18:11.863Z"
   },
   {
    "duration": 76,
    "start_time": "2022-04-02T03:18:12.400Z"
   },
   {
    "duration": 8,
    "start_time": "2022-04-02T03:18:12.479Z"
   },
   {
    "duration": 6,
    "start_time": "2022-04-02T03:18:12.489Z"
   },
   {
    "duration": 10,
    "start_time": "2022-04-02T03:18:12.504Z"
   },
   {
    "duration": 26,
    "start_time": "2022-04-02T03:18:24.277Z"
   },
   {
    "duration": 33,
    "start_time": "2022-04-02T03:18:25.220Z"
   },
   {
    "duration": 7,
    "start_time": "2022-04-02T03:18:37.141Z"
   },
   {
    "duration": 13,
    "start_time": "2022-04-02T03:21:07.778Z"
   },
   {
    "duration": 89,
    "start_time": "2022-04-02T03:21:09.169Z"
   },
   {
    "duration": 830,
    "start_time": "2022-04-02T03:21:13.135Z"
   },
   {
    "duration": 23,
    "start_time": "2022-04-02T03:21:13.968Z"
   },
   {
    "duration": 6,
    "start_time": "2022-04-02T03:21:16.937Z"
   },
   {
    "duration": 457,
    "start_time": "2022-04-02T03:21:17.219Z"
   },
   {
    "duration": 5,
    "start_time": "2022-04-02T03:21:19.676Z"
   },
   {
    "duration": 1311,
    "start_time": "2022-04-02T03:21:22.444Z"
   },
   {
    "duration": 22,
    "start_time": "2022-04-02T03:21:24.934Z"
   },
   {
    "duration": 4,
    "start_time": "2022-04-02T03:21:25.602Z"
   },
   {
    "duration": 5,
    "start_time": "2022-04-02T03:21:30.320Z"
   },
   {
    "duration": 69,
    "start_time": "2022-04-02T03:21:31.161Z"
   },
   {
    "duration": 22,
    "start_time": "2022-04-02T03:21:33.416Z"
   },
   {
    "duration": 7,
    "start_time": "2022-04-02T03:21:35.637Z"
   },
   {
    "duration": 4,
    "start_time": "2022-04-02T03:21:37.484Z"
   },
   {
    "duration": 3,
    "start_time": "2022-04-02T03:21:38.179Z"
   },
   {
    "duration": 4,
    "start_time": "2022-04-02T03:21:46.180Z"
   },
   {
    "duration": 5,
    "start_time": "2022-04-02T03:21:46.952Z"
   },
   {
    "duration": 9,
    "start_time": "2022-04-02T03:21:51.112Z"
   },
   {
    "duration": 5,
    "start_time": "2022-04-02T03:22:33.922Z"
   },
   {
    "duration": 789808,
    "start_time": "2022-04-02T03:22:43.693Z"
   },
   {
    "duration": 4,
    "start_time": "2022-04-02T03:46:02.757Z"
   },
   {
    "duration": 496313,
    "start_time": "2022-04-02T03:46:18.873Z"
   },
   {
    "duration": 74834,
    "start_time": "2022-04-02T03:57:07.516Z"
   },
   {
    "duration": 48,
    "start_time": "2022-04-02T03:58:29.415Z"
   },
   {
    "duration": 68,
    "start_time": "2022-04-02T03:58:30.484Z"
   },
   {
    "duration": 5,
    "start_time": "2022-04-02T03:58:47.576Z"
   },
   {
    "duration": 147327,
    "start_time": "2022-04-02T03:58:49.908Z"
   },
   {
    "duration": 6,
    "start_time": "2022-04-02T04:01:17.238Z"
   },
   {
    "duration": 33,
    "start_time": "2022-04-02T04:01:17.246Z"
   },
   {
    "duration": 4,
    "start_time": "2022-04-02T04:01:17.282Z"
   },
   {
    "duration": 10392,
    "start_time": "2022-04-02T04:01:17.288Z"
   },
   {
    "duration": 6,
    "start_time": "2022-04-02T04:01:27.682Z"
   },
   {
    "duration": 90,
    "start_time": "2022-04-02T04:01:27.691Z"
   },
   {
    "duration": 4,
    "start_time": "2022-04-02T04:01:27.783Z"
   },
   {
    "duration": 43601,
    "start_time": "2022-04-02T04:01:27.789Z"
   },
   {
    "duration": 5,
    "start_time": "2022-04-02T04:02:11.394Z"
   },
   {
    "duration": 15,
    "start_time": "2022-04-02T04:02:11.475Z"
   },
   {
    "duration": 3,
    "start_time": "2022-04-02T04:03:44.952Z"
   },
   {
    "duration": 4,
    "start_time": "2022-04-02T04:04:17.220Z"
   },
   {
    "duration": 9,
    "start_time": "2022-04-02T04:04:26.214Z"
   },
   {
    "duration": 4,
    "start_time": "2022-04-02T04:04:49.707Z"
   },
   {
    "duration": 4,
    "start_time": "2022-04-02T04:04:50.308Z"
   },
   {
    "duration": 163572,
    "start_time": "2022-04-02T04:04:55.818Z"
   },
   {
    "duration": 95607,
    "start_time": "2022-04-02T04:07:39.392Z"
   },
   {
    "duration": 5,
    "start_time": "2022-04-02T04:09:15.007Z"
   },
   {
    "duration": 361,
    "start_time": "2022-04-02T04:09:15.014Z"
   },
   {
    "duration": 45,
    "start_time": "2022-04-02T04:09:15.378Z"
   },
   {
    "duration": 3,
    "start_time": "2022-04-02T04:09:15.425Z"
   },
   {
    "duration": 5,
    "start_time": "2022-04-02T04:11:11.496Z"
   },
   {
    "duration": 2106602,
    "start_time": "2022-04-02T04:11:25.206Z"
   },
   {
    "duration": 17,
    "start_time": "2022-04-02T04:46:31.810Z"
   },
   {
    "duration": 327,
    "start_time": "2022-04-02T04:46:31.829Z"
   },
   {
    "duration": 10,
    "start_time": "2022-04-02T05:05:52.152Z"
   },
   {
    "duration": 492,
    "start_time": "2022-04-02T05:05:52.184Z"
   },
   {
    "duration": 985,
    "start_time": "2022-04-02T05:05:52.679Z"
   },
   {
    "duration": 507,
    "start_time": "2022-04-02T05:05:53.673Z"
   },
   {
    "duration": 3,
    "start_time": "2022-04-02T05:05:54.183Z"
   },
   {
    "duration": 6,
    "start_time": "2022-04-02T05:05:54.188Z"
   },
   {
    "duration": 6,
    "start_time": "2022-04-02T05:05:54.196Z"
   },
   {
    "duration": 7,
    "start_time": "2022-04-02T05:05:54.204Z"
   },
   {
    "duration": 9,
    "start_time": "2022-04-02T05:05:54.213Z"
   },
   {
    "duration": 4,
    "start_time": "2022-04-02T05:05:54.224Z"
   },
   {
    "duration": 4,
    "start_time": "2022-04-02T05:05:54.233Z"
   },
   {
    "duration": 44,
    "start_time": "2022-04-02T05:05:54.239Z"
   },
   {
    "duration": 13,
    "start_time": "2022-04-02T05:05:54.286Z"
   },
   {
    "duration": 10,
    "start_time": "2022-04-02T05:05:54.301Z"
   },
   {
    "duration": 6,
    "start_time": "2022-04-02T05:05:54.313Z"
   },
   {
    "duration": 53,
    "start_time": "2022-04-02T05:05:54.321Z"
   },
   {
    "duration": 9,
    "start_time": "2022-04-02T05:05:54.376Z"
   },
   {
    "duration": 9,
    "start_time": "2022-04-02T05:05:54.387Z"
   },
   {
    "duration": 5,
    "start_time": "2022-04-02T05:05:54.398Z"
   },
   {
    "duration": 1894,
    "start_time": "2022-04-02T05:05:54.405Z"
   },
   {
    "duration": 5,
    "start_time": "2022-04-02T05:05:56.301Z"
   },
   {
    "duration": 16,
    "start_time": "2022-04-02T05:05:56.308Z"
   },
   {
    "duration": 25,
    "start_time": "2022-04-02T05:05:56.326Z"
   },
   {
    "duration": 184,
    "start_time": "2022-04-02T05:05:56.353Z"
   },
   {
    "duration": 673,
    "start_time": "2022-04-02T05:05:56.539Z"
   },
   {
    "duration": 6,
    "start_time": "2022-04-02T05:05:57.214Z"
   },
   {
    "duration": 10,
    "start_time": "2022-04-02T05:05:57.222Z"
   },
   {
    "duration": 80,
    "start_time": "2022-04-02T05:05:57.234Z"
   },
   {
    "duration": 4,
    "start_time": "2022-04-02T05:05:57.320Z"
   },
   {
    "duration": 8,
    "start_time": "2022-04-02T05:05:57.326Z"
   },
   {
    "duration": 7,
    "start_time": "2022-04-02T05:05:57.336Z"
   },
   {
    "duration": 30,
    "start_time": "2022-04-02T05:05:57.345Z"
   },
   {
    "duration": 660,
    "start_time": "2022-04-02T05:05:57.378Z"
   },
   {
    "duration": 746,
    "start_time": "2022-04-02T05:05:58.040Z"
   },
   {
    "duration": 394,
    "start_time": "2022-04-02T05:05:58.789Z"
   },
   {
    "duration": 5,
    "start_time": "2022-04-02T05:05:59.185Z"
   },
   {
    "duration": 165,
    "start_time": "2022-04-02T05:05:59.191Z"
   },
   {
    "duration": 241,
    "start_time": "2022-04-02T05:05:59.358Z"
   },
   {
    "duration": 163,
    "start_time": "2022-04-02T05:05:59.601Z"
   },
   {
    "duration": 333,
    "start_time": "2022-04-02T05:05:59.766Z"
   },
   {
    "duration": 117,
    "start_time": "2022-04-02T05:06:00.101Z"
   },
   {
    "duration": 8,
    "start_time": "2022-04-02T05:06:00.220Z"
   },
   {
    "duration": 24,
    "start_time": "2022-04-02T05:06:00.230Z"
   },
   {
    "duration": 36,
    "start_time": "2022-04-02T05:06:00.256Z"
   },
   {
    "duration": 10,
    "start_time": "2022-04-02T05:06:00.294Z"
   },
   {
    "duration": 13,
    "start_time": "2022-04-02T05:06:00.307Z"
   },
   {
    "duration": 13,
    "start_time": "2022-04-02T05:06:00.323Z"
   },
   {
    "duration": 7,
    "start_time": "2022-04-02T05:06:00.338Z"
   },
   {
    "duration": 112,
    "start_time": "2022-04-02T05:06:00.347Z"
   },
   {
    "duration": 160,
    "start_time": "2022-04-02T05:06:00.461Z"
   },
   {
    "duration": 91,
    "start_time": "2022-04-02T05:06:00.624Z"
   },
   {
    "duration": 381,
    "start_time": "2022-04-02T05:06:00.717Z"
   },
   {
    "duration": 997,
    "start_time": "2022-04-02T05:06:01.100Z"
   },
   {
    "duration": 974,
    "start_time": "2022-04-02T05:06:02.099Z"
   },
   {
    "duration": 756,
    "start_time": "2022-04-02T05:06:03.075Z"
   },
   {
    "duration": 615,
    "start_time": "2022-04-02T05:06:03.833Z"
   },
   {
    "duration": 30,
    "start_time": "2022-04-02T05:06:04.450Z"
   },
   {
    "duration": 893,
    "start_time": "2022-04-02T05:06:04.482Z"
   },
   {
    "duration": 5,
    "start_time": "2022-04-02T05:06:05.377Z"
   },
   {
    "duration": 106,
    "start_time": "2022-04-02T05:06:05.384Z"
   },
   {
    "duration": 100,
    "start_time": "2022-04-02T05:06:05.493Z"
   },
   {
    "duration": 98,
    "start_time": "2022-04-02T05:06:05.595Z"
   },
   {
    "duration": 97,
    "start_time": "2022-04-02T05:06:05.695Z"
   },
   {
    "duration": 97,
    "start_time": "2022-04-02T05:06:05.794Z"
   },
   {
    "duration": 99,
    "start_time": "2022-04-02T05:06:05.893Z"
   },
   {
    "duration": 27,
    "start_time": "2022-04-02T05:06:05.994Z"
   },
   {
    "duration": 1570,
    "start_time": "2022-04-02T05:06:06.024Z"
   },
   {
    "duration": 54,
    "start_time": "2022-04-02T05:06:07.597Z"
   },
   {
    "duration": 26,
    "start_time": "2022-04-02T05:06:07.654Z"
   },
   {
    "duration": 18,
    "start_time": "2022-04-02T05:06:07.683Z"
   },
   {
    "duration": 2503,
    "start_time": "2022-04-02T05:06:07.703Z"
   },
   {
    "duration": 72,
    "start_time": "2022-04-02T05:06:10.209Z"
   },
   {
    "duration": 1124,
    "start_time": "2022-04-02T05:06:10.283Z"
   },
   {
    "duration": 1130,
    "start_time": "2022-04-02T05:06:11.410Z"
   },
   {
    "duration": 1351,
    "start_time": "2022-04-02T05:06:12.543Z"
   },
   {
    "duration": 53,
    "start_time": "2022-04-02T05:06:13.896Z"
   },
   {
    "duration": 1115,
    "start_time": "2022-04-02T05:06:13.951Z"
   },
   {
    "duration": 981,
    "start_time": "2022-04-02T05:06:15.068Z"
   },
   {
    "duration": 535,
    "start_time": "2022-04-02T05:06:16.052Z"
   },
   {
    "duration": 59,
    "start_time": "2022-04-02T05:06:16.589Z"
   },
   {
    "duration": 25,
    "start_time": "2022-04-02T05:06:16.650Z"
   },
   {
    "duration": 6,
    "start_time": "2022-04-02T05:06:16.678Z"
   },
   {
    "duration": 9,
    "start_time": "2022-04-02T05:06:16.697Z"
   },
   {
    "duration": 24,
    "start_time": "2022-04-02T05:06:16.709Z"
   },
   {
    "duration": 61,
    "start_time": "2022-04-02T05:06:16.735Z"
   },
   {
    "duration": 15,
    "start_time": "2022-04-02T05:06:16.799Z"
   },
   {
    "duration": 119,
    "start_time": "2022-04-02T05:06:16.816Z"
   },
   {
    "duration": 833,
    "start_time": "2022-04-02T05:06:16.938Z"
   },
   {
    "duration": 25,
    "start_time": "2022-04-02T05:06:17.773Z"
   },
   {
    "duration": 7,
    "start_time": "2022-04-02T05:06:17.801Z"
   },
   {
    "duration": 485,
    "start_time": "2022-04-02T05:06:17.811Z"
   },
   {
    "duration": 6,
    "start_time": "2022-04-02T05:06:18.299Z"
   },
   {
    "duration": 1279,
    "start_time": "2022-04-02T05:06:18.307Z"
   },
   {
    "duration": 23,
    "start_time": "2022-04-02T05:06:19.588Z"
   },
   {
    "duration": 9,
    "start_time": "2022-04-02T05:06:19.613Z"
   },
   {
    "duration": 15,
    "start_time": "2022-04-02T05:06:19.624Z"
   },
   {
    "duration": 96,
    "start_time": "2022-04-02T05:06:19.642Z"
   },
   {
    "duration": 22,
    "start_time": "2022-04-02T05:06:19.741Z"
   },
   {
    "duration": 6,
    "start_time": "2022-04-02T05:06:19.774Z"
   },
   {
    "duration": 14,
    "start_time": "2022-04-02T05:06:19.783Z"
   },
   {
    "duration": 18,
    "start_time": "2022-04-02T05:06:19.799Z"
   },
   {
    "duration": 15,
    "start_time": "2022-04-02T05:06:19.819Z"
   },
   {
    "duration": 14,
    "start_time": "2022-04-02T05:06:19.836Z"
   },
   {
    "duration": 25,
    "start_time": "2022-04-02T05:06:19.852Z"
   },
   {
    "duration": 502620,
    "start_time": "2022-04-02T05:06:19.879Z"
   },
   {
    "duration": 74972,
    "start_time": "2022-04-02T05:14:42.502Z"
   },
   {
    "duration": 49,
    "start_time": "2022-04-02T05:15:57.476Z"
   },
   {
    "duration": 88,
    "start_time": "2022-04-02T05:15:57.527Z"
   },
   {
    "duration": 4,
    "start_time": "2022-04-02T05:15:57.618Z"
   },
   {
    "duration": 150404,
    "start_time": "2022-04-02T05:15:57.624Z"
   },
   {
    "duration": 7,
    "start_time": "2022-04-02T05:18:28.030Z"
   },
   {
    "duration": 35,
    "start_time": "2022-04-02T05:18:28.039Z"
   },
   {
    "duration": 4,
    "start_time": "2022-04-02T05:18:28.076Z"
   },
   {
    "duration": 10397,
    "start_time": "2022-04-02T05:18:28.082Z"
   },
   {
    "duration": 7,
    "start_time": "2022-04-02T05:18:38.481Z"
   },
   {
    "duration": 37,
    "start_time": "2022-04-02T05:18:38.490Z"
   },
   {
    "duration": 4,
    "start_time": "2022-04-02T05:18:38.574Z"
   },
   {
    "duration": 38802,
    "start_time": "2022-04-02T05:18:38.580Z"
   },
   {
    "duration": 6,
    "start_time": "2022-04-02T05:19:17.384Z"
   },
   {
    "duration": 14,
    "start_time": "2022-04-02T05:19:17.392Z"
   },
   {
    "duration": 4,
    "start_time": "2022-04-02T05:19:17.408Z"
   },
   {
    "duration": 3,
    "start_time": "2022-04-02T05:19:17.474Z"
   },
   {
    "duration": 7,
    "start_time": "2022-04-02T05:19:17.479Z"
   },
   {
    "duration": 5,
    "start_time": "2022-04-02T05:19:17.488Z"
   },
   {
    "duration": 163817,
    "start_time": "2022-04-02T05:19:17.495Z"
   },
   {
    "duration": 100125,
    "start_time": "2022-04-02T05:22:01.374Z"
   },
   {
    "duration": 4,
    "start_time": "2022-04-02T05:23:41.501Z"
   },
   {
    "duration": 8,
    "start_time": "2022-04-02T05:23:41.507Z"
   },
   {
    "duration": 379,
    "start_time": "2022-04-02T05:23:41.516Z"
   },
   {
    "duration": 43,
    "start_time": "2022-04-02T05:23:41.897Z"
   },
   {
    "duration": 3,
    "start_time": "2022-04-02T05:23:41.942Z"
   },
   {
    "duration": 28,
    "start_time": "2022-04-02T05:23:41.947Z"
   },
   {
    "duration": 2082122,
    "start_time": "2022-04-02T05:23:41.977Z"
   },
   {
    "duration": 17,
    "start_time": "2022-04-02T05:58:24.101Z"
   },
   {
    "duration": 316,
    "start_time": "2022-04-02T05:58:24.121Z"
   },
   {
    "duration": 3,
    "start_time": "2022-04-02T05:58:24.440Z"
   },
   {
    "duration": 9,
    "start_time": "2022-04-02T05:58:24.445Z"
   },
   {
    "duration": 4,
    "start_time": "2022-04-02T05:58:24.474Z"
   },
   {
    "duration": 6,
    "start_time": "2022-04-02T05:58:24.481Z"
   },
   {
    "duration": 6,
    "start_time": "2022-04-02T05:58:24.489Z"
   },
   {
    "duration": 3762108,
    "start_time": "2022-04-02T05:58:24.497Z"
   },
   {
    "duration": 28,
    "start_time": "2022-04-02T07:01:06.607Z"
   },
   {
    "duration": 48,
    "start_time": "2022-04-02T07:01:06.637Z"
   },
   {
    "duration": 468,
    "start_time": "2022-04-02T07:01:06.687Z"
   },
   {
    "duration": 4,
    "start_time": "2022-04-02T07:01:07.157Z"
   },
   {
    "duration": 491901,
    "start_time": "2022-04-02T07:01:07.174Z"
   },
   {
    "duration": 6,
    "start_time": "2022-04-02T07:09:19.077Z"
   },
   {
    "duration": 19,
    "start_time": "2022-04-02T07:09:19.085Z"
   },
   {
    "duration": 355477,
    "start_time": "2022-04-02T07:09:19.106Z"
   },
   {
    "duration": 4,
    "start_time": "2022-04-02T07:15:14.585Z"
   },
   {
    "duration": 13,
    "start_time": "2022-04-02T07:15:14.591Z"
   },
   {
    "duration": 4,
    "start_time": "2022-04-02T07:15:14.606Z"
   },
   {
    "duration": 18767,
    "start_time": "2022-04-02T07:15:14.612Z"
   },
   {
    "duration": 5592,
    "start_time": "2022-04-02T07:15:33.382Z"
   },
   {
    "duration": 434,
    "start_time": "2022-04-02T07:15:38.977Z"
   },
   {
    "duration": 433,
    "start_time": "2022-04-02T07:15:39.414Z"
   },
   {
    "duration": 9,
    "start_time": "2022-04-02T07:15:39.850Z"
   },
   {
    "duration": 8,
    "start_time": "2022-04-02T07:15:39.874Z"
   },
   {
    "duration": 8,
    "start_time": "2022-04-02T07:15:39.884Z"
   },
   {
    "duration": 4,
    "start_time": "2022-04-02T07:15:39.894Z"
   },
   {
    "duration": 8,
    "start_time": "2022-04-02T07:15:39.900Z"
   },
   {
    "duration": 6,
    "start_time": "2022-04-02T07:15:39.910Z"
   },
   {
    "duration": 56,
    "start_time": "2022-04-02T07:15:39.918Z"
   },
   {
    "duration": 4,
    "start_time": "2022-04-02T07:15:39.976Z"
   },
   {
    "duration": 256,
    "start_time": "2022-04-02T07:15:39.982Z"
   },
   {
    "duration": 15,
    "start_time": "2022-04-02T07:15:40.240Z"
   },
   {
    "duration": 4,
    "start_time": "2022-04-02T07:15:40.274Z"
   },
   {
    "duration": 13708,
    "start_time": "2022-04-02T07:15:40.280Z"
   },
   {
    "duration": 5,
    "start_time": "2022-04-02T07:15:53.991Z"
   },
   {
    "duration": 5,
    "start_time": "2022-04-02T07:15:54.075Z"
   },
   {
    "duration": 4,
    "start_time": "2022-04-02T07:15:54.083Z"
   },
   {
    "duration": 1289,
    "start_time": "2022-04-02T07:15:54.089Z"
   },
   {
    "duration": 5,
    "start_time": "2022-04-02T07:15:55.381Z"
   },
   {
    "duration": 14,
    "start_time": "2022-04-02T07:15:55.388Z"
   },
   {
    "duration": 6,
    "start_time": "2022-04-02T07:15:55.404Z"
   },
   {
    "duration": 65,
    "start_time": "2022-04-02T07:15:55.412Z"
   },
   {
    "duration": 4,
    "start_time": "2022-04-02T07:15:55.479Z"
   },
   {
    "duration": 6,
    "start_time": "2022-04-02T07:15:55.486Z"
   },
   {
    "duration": 163,
    "start_time": "2022-04-02T09:06:24.642Z"
   },
   {
    "duration": 3,
    "start_time": "2022-04-02T09:06:30.654Z"
   },
   {
    "duration": 419,
    "start_time": "2022-04-02T09:06:33.106Z"
   },
   {
    "duration": 878,
    "start_time": "2022-04-02T09:06:34.255Z"
   },
   {
    "duration": 297,
    "start_time": "2022-04-02T09:06:35.135Z"
   },
   {
    "duration": 3,
    "start_time": "2022-04-02T09:06:35.433Z"
   },
   {
    "duration": 3,
    "start_time": "2022-04-02T09:06:36.475Z"
   },
   {
    "duration": 3,
    "start_time": "2022-04-02T09:06:37.708Z"
   },
   {
    "duration": 6,
    "start_time": "2022-04-02T09:07:03.709Z"
   },
   {
    "duration": 16,
    "start_time": "2022-04-02T09:07:09.736Z"
   },
   {
    "duration": 183,
    "start_time": "2022-04-02T09:07:13.073Z"
   },
   {
    "duration": 11,
    "start_time": "2022-04-02T09:08:53.380Z"
   },
   {
    "duration": 18,
    "start_time": "2022-04-02T09:08:56.782Z"
   },
   {
    "duration": 19,
    "start_time": "2022-04-02T09:08:59.496Z"
   },
   {
    "duration": 184,
    "start_time": "2022-04-02T09:09:01.909Z"
   },
   {
    "duration": 3,
    "start_time": "2022-04-02T09:26:30.039Z"
   },
   {
    "duration": 3,
    "start_time": "2022-04-02T09:26:30.096Z"
   },
   {
    "duration": 3,
    "start_time": "2022-04-02T09:26:30.113Z"
   },
   {
    "duration": 13,
    "start_time": "2022-04-02T09:26:30.117Z"
   },
   {
    "duration": 3,
    "start_time": "2022-04-02T09:26:30.143Z"
   },
   {
    "duration": 9,
    "start_time": "2022-04-02T09:26:30.147Z"
   },
   {
    "duration": 8,
    "start_time": "2022-04-02T09:26:30.158Z"
   },
   {
    "duration": 9,
    "start_time": "2022-04-02T09:26:30.171Z"
   },
   {
    "duration": 6,
    "start_time": "2022-04-02T09:26:30.188Z"
   },
   {
    "duration": 4,
    "start_time": "2022-04-02T09:26:30.218Z"
   },
   {
    "duration": 3,
    "start_time": "2022-04-02T09:26:30.233Z"
   },
   {
    "duration": 8,
    "start_time": "2022-04-02T09:26:30.241Z"
   },
   {
    "duration": 9,
    "start_time": "2022-04-02T09:26:30.270Z"
   },
   {
    "duration": 5,
    "start_time": "2022-04-02T09:26:30.291Z"
   },
   {
    "duration": 3,
    "start_time": "2022-04-02T09:26:30.308Z"
   },
   {
    "duration": 12,
    "start_time": "2022-04-02T09:26:30.313Z"
   },
   {
    "duration": 12,
    "start_time": "2022-04-02T09:26:30.327Z"
   },
   {
    "duration": 11,
    "start_time": "2022-04-02T09:26:30.341Z"
   },
   {
    "duration": 3,
    "start_time": "2022-04-02T09:26:30.362Z"
   },
   {
    "duration": 2610,
    "start_time": "2022-04-02T09:26:30.368Z"
   },
   {
    "duration": 3,
    "start_time": "2022-04-02T09:26:32.980Z"
   },
   {
    "duration": 8,
    "start_time": "2022-04-02T09:26:32.985Z"
   },
   {
    "duration": 13,
    "start_time": "2022-04-02T09:26:32.996Z"
   },
   {
    "duration": 153,
    "start_time": "2022-04-02T09:26:33.011Z"
   },
   {
    "duration": 469,
    "start_time": "2022-04-02T09:26:33.166Z"
   },
   {
    "duration": 3,
    "start_time": "2022-04-02T09:26:33.637Z"
   },
   {
    "duration": 5,
    "start_time": "2022-04-02T09:26:33.642Z"
   },
   {
    "duration": 54,
    "start_time": "2022-04-02T09:26:33.649Z"
   },
   {
    "duration": 3,
    "start_time": "2022-04-02T09:26:33.706Z"
   },
   {
    "duration": 24,
    "start_time": "2022-04-02T09:26:33.710Z"
   },
   {
    "duration": 3,
    "start_time": "2022-04-02T09:26:33.737Z"
   },
   {
    "duration": 7,
    "start_time": "2022-04-02T09:26:33.742Z"
   },
   {
    "duration": 472,
    "start_time": "2022-04-02T09:26:33.750Z"
   },
   {
    "duration": 488,
    "start_time": "2022-04-02T09:26:34.232Z"
   },
   {
    "duration": 363,
    "start_time": "2022-04-02T09:26:34.722Z"
   },
   {
    "duration": 4,
    "start_time": "2022-04-02T09:26:35.087Z"
   },
   {
    "duration": 117,
    "start_time": "2022-04-02T09:26:35.092Z"
   },
   {
    "duration": 175,
    "start_time": "2022-04-02T09:26:35.211Z"
   },
   {
    "duration": 105,
    "start_time": "2022-04-02T09:26:35.387Z"
   },
   {
    "duration": 203,
    "start_time": "2022-04-02T09:26:35.494Z"
   },
   {
    "duration": 89,
    "start_time": "2022-04-02T09:26:35.699Z"
   },
   {
    "duration": 6,
    "start_time": "2022-04-02T09:26:35.789Z"
   },
   {
    "duration": 8,
    "start_time": "2022-04-02T09:26:35.797Z"
   },
   {
    "duration": 35,
    "start_time": "2022-04-02T09:26:35.806Z"
   },
   {
    "duration": 5,
    "start_time": "2022-04-02T09:26:35.843Z"
   },
   {
    "duration": 8,
    "start_time": "2022-04-02T09:26:35.850Z"
   },
   {
    "duration": 5,
    "start_time": "2022-04-02T09:26:35.863Z"
   },
   {
    "duration": 7,
    "start_time": "2022-04-02T09:26:35.870Z"
   },
   {
    "duration": 89,
    "start_time": "2022-04-02T09:26:35.878Z"
   },
   {
    "duration": 95,
    "start_time": "2022-04-02T09:26:35.969Z"
   },
   {
    "duration": 57,
    "start_time": "2022-04-02T09:26:36.065Z"
   },
   {
    "duration": 254,
    "start_time": "2022-04-02T09:26:36.123Z"
   },
   {
    "duration": 483,
    "start_time": "2022-04-02T09:26:36.379Z"
   },
   {
    "duration": 940,
    "start_time": "2022-04-02T09:26:36.864Z"
   },
   {
    "duration": 747,
    "start_time": "2022-04-02T09:26:37.807Z"
   },
   {
    "duration": 717,
    "start_time": "2022-04-02T09:26:38.556Z"
   },
   {
    "duration": 12,
    "start_time": "2022-04-02T09:26:39.275Z"
   },
   {
    "duration": 780,
    "start_time": "2022-04-02T09:26:39.290Z"
   },
   {
    "duration": 4,
    "start_time": "2022-04-02T09:26:40.072Z"
   },
   {
    "duration": 83,
    "start_time": "2022-04-02T09:26:40.077Z"
   },
   {
    "duration": 78,
    "start_time": "2022-04-02T09:26:40.161Z"
   },
   {
    "duration": 65,
    "start_time": "2022-04-02T09:26:40.241Z"
   },
   {
    "duration": 82,
    "start_time": "2022-04-02T09:26:40.307Z"
   },
   {
    "duration": 78,
    "start_time": "2022-04-02T09:26:40.391Z"
   },
   {
    "duration": 100,
    "start_time": "2022-04-02T09:26:40.471Z"
   },
   {
    "duration": 16,
    "start_time": "2022-04-02T09:26:40.573Z"
   },
   {
    "duration": 1027,
    "start_time": "2022-04-02T09:26:40.591Z"
   },
   {
    "duration": 27,
    "start_time": "2022-04-02T09:26:41.619Z"
   },
   {
    "duration": 18,
    "start_time": "2022-04-02T09:26:41.648Z"
   },
   {
    "duration": 11,
    "start_time": "2022-04-02T09:26:41.668Z"
   },
   {
    "duration": 1551,
    "start_time": "2022-04-02T09:26:41.681Z"
   },
   {
    "duration": 30,
    "start_time": "2022-04-02T09:26:43.234Z"
   },
   {
    "duration": 752,
    "start_time": "2022-04-02T09:26:43.266Z"
   },
   {
    "duration": 846,
    "start_time": "2022-04-02T09:26:44.019Z"
   },
   {
    "duration": 769,
    "start_time": "2022-04-02T09:26:44.867Z"
   },
   {
    "duration": 29,
    "start_time": "2022-04-02T09:26:45.637Z"
   },
   {
    "duration": 751,
    "start_time": "2022-04-02T09:26:45.667Z"
   },
   {
    "duration": 681,
    "start_time": "2022-04-02T09:26:46.421Z"
   },
   {
    "duration": 353,
    "start_time": "2022-04-02T09:26:47.104Z"
   },
   {
    "duration": 50,
    "start_time": "2022-04-02T09:26:47.459Z"
   },
   {
    "duration": 21,
    "start_time": "2022-04-02T09:26:47.511Z"
   },
   {
    "duration": 3,
    "start_time": "2022-04-02T09:26:47.535Z"
   },
   {
    "duration": 15,
    "start_time": "2022-04-02T09:26:47.540Z"
   },
   {
    "duration": 17,
    "start_time": "2022-04-02T09:26:47.558Z"
   },
   {
    "duration": 30,
    "start_time": "2022-04-02T09:26:47.578Z"
   },
   {
    "duration": 14,
    "start_time": "2022-04-02T09:26:47.634Z"
   },
   {
    "duration": 142,
    "start_time": "2022-04-02T09:26:47.650Z"
   },
   {
    "duration": 936,
    "start_time": "2022-04-02T09:26:47.794Z"
   },
   {
    "duration": 23,
    "start_time": "2022-04-02T09:26:48.733Z"
   },
   {
    "duration": 6,
    "start_time": "2022-04-02T09:26:48.758Z"
   },
   {
    "duration": 582,
    "start_time": "2022-04-02T09:26:48.765Z"
   },
   {
    "duration": 5,
    "start_time": "2022-04-02T09:26:49.349Z"
   },
   {
    "duration": 1348,
    "start_time": "2022-04-02T09:26:49.356Z"
   },
   {
    "duration": 31,
    "start_time": "2022-04-02T09:26:50.706Z"
   },
   {
    "duration": 4,
    "start_time": "2022-04-02T09:26:50.739Z"
   },
   {
    "duration": 6,
    "start_time": "2022-04-02T09:26:50.744Z"
   },
   {
    "duration": 105,
    "start_time": "2022-04-02T09:26:50.751Z"
   },
   {
    "duration": 14,
    "start_time": "2022-04-02T09:26:50.858Z"
   },
   {
    "duration": 7,
    "start_time": "2022-04-02T09:26:50.874Z"
   },
   {
    "duration": 4,
    "start_time": "2022-04-02T09:26:50.883Z"
   },
   {
    "duration": 3,
    "start_time": "2022-04-02T09:26:50.892Z"
   },
   {
    "duration": 4,
    "start_time": "2022-04-02T09:26:50.896Z"
   },
   {
    "duration": 3,
    "start_time": "2022-04-02T09:26:50.933Z"
   },
   {
    "duration": 5,
    "start_time": "2022-04-02T09:26:50.938Z"
   },
   {
    "duration": 2,
    "start_time": "2022-04-02T09:27:36.248Z"
   },
   {
    "duration": 77,
    "start_time": "2022-04-02T09:27:36.962Z"
   },
   {
    "duration": 3,
    "start_time": "2022-04-02T09:27:42.167Z"
   },
   {
    "duration": 3,
    "start_time": "2022-04-02T09:27:42.851Z"
   },
   {
    "duration": 5,
    "start_time": "2022-04-02T09:27:48.093Z"
   },
   {
    "duration": 248,
    "start_time": "2022-04-02T09:27:51.800Z"
   },
   {
    "duration": 32,
    "start_time": "2022-04-02T09:27:55.124Z"
   },
   {
    "duration": 2,
    "start_time": "2022-04-02T09:27:56.263Z"
   },
   {
    "duration": 3,
    "start_time": "2022-04-02T09:28:02.181Z"
   },
   {
    "duration": 5,
    "start_time": "2022-04-02T09:28:03.025Z"
   },
   {
    "duration": 10,
    "start_time": "2022-04-02T09:28:05.650Z"
   },
   {
    "duration": 170,
    "start_time": "2022-04-02T09:28:11.794Z"
   },
   {
    "duration": 3,
    "start_time": "2022-04-02T09:28:15.614Z"
   },
   {
    "duration": 4,
    "start_time": "2022-04-02T09:28:16.343Z"
   },
   {
    "duration": 4,
    "start_time": "2022-04-02T09:28:18.662Z"
   },
   {
    "duration": 3,
    "start_time": "2022-04-02T09:28:20.420Z"
   },
   {
    "duration": 4,
    "start_time": "2022-04-02T09:28:24.748Z"
   },
   {
    "duration": 119,
    "start_time": "2022-04-02T09:28:27.631Z"
   },
   {
    "duration": 18,
    "start_time": "2022-04-02T09:28:30.346Z"
   },
   {
    "duration": 18,
    "start_time": "2022-04-02T09:28:40.521Z"
   },
   {
    "duration": 176,
    "start_time": "2022-04-02T09:28:44.558Z"
   },
   {
    "duration": 2,
    "start_time": "2022-04-02T09:28:55.695Z"
   },
   {
    "duration": 388496,
    "start_time": "2022-04-02T09:29:01.238Z"
   },
   {
    "duration": 10083,
    "start_time": "2022-04-02T09:38:02.915Z"
   },
   {
    "duration": 304356,
    "start_time": "2022-04-02T09:38:19.985Z"
   },
   {
    "duration": 317826,
    "start_time": "2022-04-02T09:44:33.619Z"
   },
   {
    "duration": 4,
    "start_time": "2022-04-02T09:49:51.447Z"
   },
   {
    "duration": 82,
    "start_time": "2022-04-02T09:49:51.452Z"
   },
   {
    "duration": 4,
    "start_time": "2022-04-02T09:50:56.818Z"
   },
   {
    "duration": 4,
    "start_time": "2022-04-02T09:51:01.057Z"
   },
   {
    "duration": 11,
    "start_time": "2022-04-02T09:51:22.676Z"
   },
   {
    "duration": 3,
    "start_time": "2022-04-02T09:51:27.531Z"
   },
   {
    "duration": 2,
    "start_time": "2022-04-02T09:51:29.339Z"
   },
   {
    "duration": 5,
    "start_time": "2022-04-02T09:51:32.226Z"
   },
   {
    "duration": 2,
    "start_time": "2022-04-02T09:51:32.567Z"
   },
   {
    "duration": 13428,
    "start_time": "2022-04-02T09:51:34.918Z"
   },
   {
    "duration": 2997,
    "start_time": "2022-04-02T09:51:48.348Z"
   },
   {
    "duration": 322,
    "start_time": "2022-04-02T09:51:51.347Z"
   },
   {
    "duration": 240,
    "start_time": "2022-04-02T09:51:57.626Z"
   },
   {
    "duration": 8,
    "start_time": "2022-04-02T09:52:00.282Z"
   },
   {
    "duration": 5,
    "start_time": "2022-04-02T09:52:03.570Z"
   },
   {
    "duration": 7,
    "start_time": "2022-04-02T09:52:19.231Z"
   },
   {
    "duration": 2,
    "start_time": "2022-04-02T09:52:22.405Z"
   },
   {
    "duration": 5,
    "start_time": "2022-04-02T09:54:22.335Z"
   },
   {
    "duration": 5,
    "start_time": "2022-04-02T09:54:23.266Z"
   },
   {
    "duration": 4,
    "start_time": "2022-04-02T09:54:24.882Z"
   },
   {
    "duration": 3,
    "start_time": "2022-04-02T09:54:25.554Z"
   },
   {
    "duration": 158,
    "start_time": "2022-04-02T09:54:28.513Z"
   },
   {
    "duration": 11,
    "start_time": "2022-04-02T09:54:31.624Z"
   },
   {
    "duration": 3,
    "start_time": "2022-04-02T09:54:32.719Z"
   },
   {
    "duration": 35514,
    "start_time": "2022-04-02T09:54:33.831Z"
   },
   {
    "duration": 5,
    "start_time": "2022-04-02T09:55:09.348Z"
   },
   {
    "duration": 6,
    "start_time": "2022-04-02T09:55:09.354Z"
   },
   {
    "duration": 3,
    "start_time": "2022-04-02T09:55:12.248Z"
   },
   {
    "duration": 745,
    "start_time": "2022-04-02T09:55:13.594Z"
   },
   {
    "duration": 4,
    "start_time": "2022-04-02T09:55:14.391Z"
   },
   {
    "duration": 8,
    "start_time": "2022-04-02T09:55:17.738Z"
   },
   {
    "duration": 5,
    "start_time": "2022-04-02T09:55:31.001Z"
   },
   {
    "duration": 8,
    "start_time": "2022-04-02T09:55:31.761Z"
   },
   {
    "duration": 10,
    "start_time": "2022-04-02T10:02:45.790Z"
   },
   {
    "duration": 6,
    "start_time": "2022-04-02T10:03:34.906Z"
   },
   {
    "duration": 7,
    "start_time": "2022-04-02T10:03:39.022Z"
   },
   {
    "duration": 7,
    "start_time": "2022-04-02T10:09:47.622Z"
   },
   {
    "duration": 413,
    "start_time": "2022-04-02T10:09:47.631Z"
   },
   {
    "duration": 863,
    "start_time": "2022-04-02T10:09:48.045Z"
   },
   {
    "duration": 313,
    "start_time": "2022-04-02T10:09:48.910Z"
   },
   {
    "duration": 7,
    "start_time": "2022-04-02T10:09:49.226Z"
   },
   {
    "duration": 3,
    "start_time": "2022-04-02T10:09:49.234Z"
   },
   {
    "duration": 5,
    "start_time": "2022-04-02T10:09:49.239Z"
   },
   {
    "duration": 6,
    "start_time": "2022-04-02T10:09:49.245Z"
   },
   {
    "duration": 6,
    "start_time": "2022-04-02T10:09:49.253Z"
   },
   {
    "duration": 6,
    "start_time": "2022-04-02T10:09:49.261Z"
   },
   {
    "duration": 5,
    "start_time": "2022-04-02T10:09:49.268Z"
   },
   {
    "duration": 8,
    "start_time": "2022-04-02T10:09:49.274Z"
   },
   {
    "duration": 9,
    "start_time": "2022-04-02T10:09:49.283Z"
   },
   {
    "duration": 38,
    "start_time": "2022-04-02T10:09:49.295Z"
   },
   {
    "duration": 3,
    "start_time": "2022-04-02T10:09:49.335Z"
   },
   {
    "duration": 12,
    "start_time": "2022-04-02T10:09:49.339Z"
   },
   {
    "duration": 10,
    "start_time": "2022-04-02T10:09:49.353Z"
   },
   {
    "duration": 7,
    "start_time": "2022-04-02T10:09:49.365Z"
   },
   {
    "duration": 6,
    "start_time": "2022-04-02T10:09:49.373Z"
   },
   {
    "duration": 1888,
    "start_time": "2022-04-02T10:09:49.380Z"
   },
   {
    "duration": 3,
    "start_time": "2022-04-02T10:09:51.271Z"
   },
   {
    "duration": 18,
    "start_time": "2022-04-02T10:09:51.277Z"
   },
   {
    "duration": 27,
    "start_time": "2022-04-02T10:09:51.297Z"
   },
   {
    "duration": 126,
    "start_time": "2022-04-02T10:09:51.326Z"
   },
   {
    "duration": 485,
    "start_time": "2022-04-02T10:09:51.454Z"
   },
   {
    "duration": 4,
    "start_time": "2022-04-02T10:09:51.941Z"
   },
   {
    "duration": 6,
    "start_time": "2022-04-02T10:09:51.947Z"
   },
   {
    "duration": 53,
    "start_time": "2022-04-02T10:09:51.955Z"
   },
   {
    "duration": 24,
    "start_time": "2022-04-02T10:09:52.010Z"
   },
   {
    "duration": 7,
    "start_time": "2022-04-02T10:09:52.036Z"
   },
   {
    "duration": 4,
    "start_time": "2022-04-02T10:09:52.045Z"
   },
   {
    "duration": 9,
    "start_time": "2022-04-02T10:09:52.051Z"
   },
   {
    "duration": 491,
    "start_time": "2022-04-02T10:09:52.062Z"
   },
   {
    "duration": 530,
    "start_time": "2022-04-02T10:09:52.555Z"
   },
   {
    "duration": 289,
    "start_time": "2022-04-02T10:09:53.086Z"
   },
   {
    "duration": 4,
    "start_time": "2022-04-02T10:09:53.376Z"
   },
   {
    "duration": 113,
    "start_time": "2022-04-02T10:09:53.381Z"
   },
   {
    "duration": 176,
    "start_time": "2022-04-02T10:09:53.496Z"
   },
   {
    "duration": 114,
    "start_time": "2022-04-02T10:09:53.674Z"
   },
   {
    "duration": 212,
    "start_time": "2022-04-02T10:09:53.789Z"
   },
   {
    "duration": 89,
    "start_time": "2022-04-02T10:09:54.007Z"
   },
   {
    "duration": 5,
    "start_time": "2022-04-02T10:09:54.098Z"
   },
   {
    "duration": 9,
    "start_time": "2022-04-02T10:09:54.104Z"
   },
   {
    "duration": 32,
    "start_time": "2022-04-02T10:09:54.115Z"
   },
   {
    "duration": 5,
    "start_time": "2022-04-02T10:09:54.149Z"
   },
   {
    "duration": 10,
    "start_time": "2022-04-02T10:09:54.155Z"
   },
   {
    "duration": 8,
    "start_time": "2022-04-02T10:09:54.167Z"
   },
   {
    "duration": 14,
    "start_time": "2022-04-02T10:09:54.176Z"
   },
   {
    "duration": 73,
    "start_time": "2022-04-02T10:09:54.192Z"
   },
   {
    "duration": 96,
    "start_time": "2022-04-02T10:09:54.266Z"
   },
   {
    "duration": 56,
    "start_time": "2022-04-02T10:09:54.364Z"
   },
   {
    "duration": 252,
    "start_time": "2022-04-02T10:09:54.422Z"
   },
   {
    "duration": 571,
    "start_time": "2022-04-02T10:09:54.676Z"
   },
   {
    "duration": 498,
    "start_time": "2022-04-02T10:09:55.249Z"
   },
   {
    "duration": 412,
    "start_time": "2022-04-02T10:09:55.749Z"
   },
   {
    "duration": 353,
    "start_time": "2022-04-02T10:09:56.163Z"
   },
   {
    "duration": 19,
    "start_time": "2022-04-02T10:09:56.517Z"
   },
   {
    "duration": 539,
    "start_time": "2022-04-02T10:09:56.538Z"
   },
   {
    "duration": 3,
    "start_time": "2022-04-02T10:09:57.079Z"
   },
   {
    "duration": 90,
    "start_time": "2022-04-02T10:09:57.085Z"
   },
   {
    "duration": 82,
    "start_time": "2022-04-02T10:09:57.177Z"
   },
   {
    "duration": 75,
    "start_time": "2022-04-02T10:09:57.261Z"
   },
   {
    "duration": 59,
    "start_time": "2022-04-02T10:09:57.338Z"
   },
   {
    "duration": 77,
    "start_time": "2022-04-02T10:09:57.399Z"
   },
   {
    "duration": 66,
    "start_time": "2022-04-02T10:09:57.478Z"
   },
   {
    "duration": 16,
    "start_time": "2022-04-02T10:09:57.546Z"
   },
   {
    "duration": 917,
    "start_time": "2022-04-02T10:09:57.564Z"
   },
   {
    "duration": 27,
    "start_time": "2022-04-02T10:09:58.483Z"
   },
   {
    "duration": 16,
    "start_time": "2022-04-02T10:09:58.511Z"
   },
   {
    "duration": 11,
    "start_time": "2022-04-02T10:09:58.533Z"
   },
   {
    "duration": 1504,
    "start_time": "2022-04-02T10:09:58.545Z"
   },
   {
    "duration": 31,
    "start_time": "2022-04-02T10:10:00.051Z"
   },
   {
    "duration": 740,
    "start_time": "2022-04-02T10:10:00.084Z"
   },
   {
    "duration": 727,
    "start_time": "2022-04-02T10:10:00.825Z"
   },
   {
    "duration": 919,
    "start_time": "2022-04-02T10:10:01.553Z"
   },
   {
    "duration": 32,
    "start_time": "2022-04-02T10:10:02.474Z"
   },
   {
    "duration": 725,
    "start_time": "2022-04-02T10:10:02.508Z"
   },
   {
    "duration": 664,
    "start_time": "2022-04-02T10:10:03.235Z"
   },
   {
    "duration": 360,
    "start_time": "2022-04-02T10:10:03.901Z"
   },
   {
    "duration": 50,
    "start_time": "2022-04-02T10:10:04.262Z"
   },
   {
    "duration": 20,
    "start_time": "2022-04-02T10:10:04.314Z"
   },
   {
    "duration": 3,
    "start_time": "2022-04-02T10:10:04.336Z"
   },
   {
    "duration": 10,
    "start_time": "2022-04-02T10:10:04.341Z"
   },
   {
    "duration": 19,
    "start_time": "2022-04-02T10:10:04.353Z"
   },
   {
    "duration": 19,
    "start_time": "2022-04-02T10:10:04.374Z"
   },
   {
    "duration": 38,
    "start_time": "2022-04-02T10:10:04.395Z"
   },
   {
    "duration": 74,
    "start_time": "2022-04-02T10:10:04.436Z"
   },
   {
    "duration": 779,
    "start_time": "2022-04-02T10:10:04.512Z"
   },
   {
    "duration": 14,
    "start_time": "2022-04-02T10:10:05.293Z"
   },
   {
    "duration": 5,
    "start_time": "2022-04-02T10:10:05.308Z"
   },
   {
    "duration": 352,
    "start_time": "2022-04-02T10:10:05.334Z"
   },
   {
    "duration": 3,
    "start_time": "2022-04-02T10:10:05.688Z"
   },
   {
    "duration": 1147,
    "start_time": "2022-04-02T10:10:05.693Z"
   },
   {
    "duration": 12,
    "start_time": "2022-04-02T10:10:06.843Z"
   },
   {
    "duration": 3,
    "start_time": "2022-04-02T10:10:06.857Z"
   },
   {
    "duration": 8,
    "start_time": "2022-04-02T10:10:06.862Z"
   },
   {
    "duration": 106,
    "start_time": "2022-04-02T10:10:06.871Z"
   },
   {
    "duration": 14,
    "start_time": "2022-04-02T10:10:06.979Z"
   },
   {
    "duration": 7,
    "start_time": "2022-04-02T10:10:06.995Z"
   },
   {
    "duration": 5,
    "start_time": "2022-04-02T10:10:07.004Z"
   },
   {
    "duration": 23,
    "start_time": "2022-04-02T10:10:07.010Z"
   },
   {
    "duration": 12,
    "start_time": "2022-04-02T10:10:07.035Z"
   },
   {
    "duration": 9,
    "start_time": "2022-04-02T10:10:07.049Z"
   },
   {
    "duration": 6,
    "start_time": "2022-04-02T10:10:07.060Z"
   },
   {
    "duration": 395472,
    "start_time": "2022-04-02T10:10:07.068Z"
   },
   {
    "duration": 56875,
    "start_time": "2022-04-02T10:16:42.541Z"
   },
   {
    "duration": 46,
    "start_time": "2022-04-02T10:17:39.417Z"
   },
   {
    "duration": 46,
    "start_time": "2022-04-02T10:17:39.465Z"
   },
   {
    "duration": 20,
    "start_time": "2022-04-02T10:17:39.513Z"
   },
   {
    "duration": 119503,
    "start_time": "2022-04-02T10:17:39.536Z"
   },
   {
    "duration": 3,
    "start_time": "2022-04-02T10:19:39.041Z"
   },
   {
    "duration": 12,
    "start_time": "2022-04-02T10:19:39.046Z"
   },
   {
    "duration": 3,
    "start_time": "2022-04-02T10:19:39.060Z"
   },
   {
    "duration": 7779,
    "start_time": "2022-04-02T10:19:39.064Z"
   },
   {
    "duration": 5,
    "start_time": "2022-04-02T10:19:46.845Z"
   },
   {
    "duration": 97,
    "start_time": "2022-04-02T10:19:46.852Z"
   },
   {
    "duration": 4,
    "start_time": "2022-04-02T10:19:46.951Z"
   },
   {
    "duration": 55790,
    "start_time": "2022-04-02T10:19:46.957Z"
   },
   {
    "duration": 85,
    "start_time": "2022-04-02T10:20:42.749Z"
   },
   {
    "duration": 13,
    "start_time": "2022-04-02T10:20:42.836Z"
   },
   {
    "duration": 4,
    "start_time": "2022-04-02T10:20:42.851Z"
   },
   {
    "duration": 3,
    "start_time": "2022-04-02T10:20:42.862Z"
   },
   {
    "duration": 5,
    "start_time": "2022-04-02T10:20:42.867Z"
   },
   {
    "duration": 5,
    "start_time": "2022-04-02T10:20:42.873Z"
   },
   {
    "duration": 152373,
    "start_time": "2022-04-02T10:20:42.880Z"
   },
   {
    "duration": 78589,
    "start_time": "2022-04-02T10:23:15.255Z"
   },
   {
    "duration": 3,
    "start_time": "2022-04-02T10:24:33.846Z"
   },
   {
    "duration": 7,
    "start_time": "2022-04-02T10:24:33.850Z"
   },
   {
    "duration": 248,
    "start_time": "2022-04-02T10:24:33.859Z"
   },
   {
    "duration": 47,
    "start_time": "2022-04-02T10:24:34.109Z"
   },
   {
    "duration": 2,
    "start_time": "2022-04-02T10:24:34.158Z"
   },
   {
    "duration": 5,
    "start_time": "2022-04-02T10:24:34.162Z"
   },
   {
    "duration": 7,
    "start_time": "2022-04-02T10:24:34.169Z"
   },
   {
    "duration": 11,
    "start_time": "2022-04-02T10:24:34.178Z"
   },
   {
    "duration": 188,
    "start_time": "2022-04-02T10:24:34.191Z"
   },
   {
    "duration": 2,
    "start_time": "2022-04-02T10:24:34.381Z"
   },
   {
    "duration": 6,
    "start_time": "2022-04-02T10:24:34.385Z"
   },
   {
    "duration": 5,
    "start_time": "2022-04-02T10:24:34.392Z"
   },
   {
    "duration": 5,
    "start_time": "2022-04-02T10:24:34.399Z"
   },
   {
    "duration": 27,
    "start_time": "2022-04-02T10:24:34.405Z"
   },
   {
    "duration": 11,
    "start_time": "2022-04-02T10:24:34.435Z"
   },
   {
    "duration": 21,
    "start_time": "2022-04-02T10:24:34.447Z"
   },
   {
    "duration": 19,
    "start_time": "2022-04-02T10:24:34.470Z"
   },
   {
    "duration": 208,
    "start_time": "2022-04-02T10:24:34.491Z"
   },
   {
    "duration": 4,
    "start_time": "2022-04-02T10:24:34.701Z"
   },
   {
    "duration": 6,
    "start_time": "2022-04-02T10:24:34.707Z"
   },
   {
    "duration": 24,
    "start_time": "2022-04-02T10:24:34.714Z"
   },
   {
    "duration": 3,
    "start_time": "2022-04-02T10:24:34.740Z"
   },
   {
    "duration": 270999,
    "start_time": "2022-04-02T10:24:34.745Z"
   },
   {
    "duration": 3,
    "start_time": "2022-04-02T10:29:05.746Z"
   },
   {
    "duration": 10,
    "start_time": "2022-04-02T10:29:05.751Z"
   },
   {
    "duration": 6,
    "start_time": "2022-04-02T10:29:05.763Z"
   },
   {
    "duration": 10664,
    "start_time": "2022-04-02T10:29:05.771Z"
   },
   {
    "duration": 2813,
    "start_time": "2022-04-02T10:29:16.437Z"
   },
   {
    "duration": 265,
    "start_time": "2022-04-02T10:29:19.334Z"
   },
   {
    "duration": 366,
    "start_time": "2022-04-02T10:29:19.600Z"
   },
   {
    "duration": 8,
    "start_time": "2022-04-02T10:29:19.967Z"
   },
   {
    "duration": 9,
    "start_time": "2022-04-02T10:29:19.976Z"
   },
   {
    "duration": 10,
    "start_time": "2022-04-02T10:29:19.987Z"
   },
   {
    "duration": 5,
    "start_time": "2022-04-02T10:29:19.998Z"
   },
   {
    "duration": 29,
    "start_time": "2022-04-02T10:29:20.004Z"
   },
   {
    "duration": 10,
    "start_time": "2022-04-02T10:29:20.035Z"
   },
   {
    "duration": 8,
    "start_time": "2022-04-02T10:29:20.047Z"
   },
   {
    "duration": 10,
    "start_time": "2022-04-02T10:29:20.056Z"
   },
   {
    "duration": 165,
    "start_time": "2022-04-02T10:29:20.068Z"
   },
   {
    "duration": 12,
    "start_time": "2022-04-02T10:29:20.234Z"
   },
   {
    "duration": 3,
    "start_time": "2022-04-02T10:29:20.247Z"
   },
   {
    "duration": 10496,
    "start_time": "2022-04-02T10:29:20.251Z"
   },
   {
    "duration": 84,
    "start_time": "2022-04-02T10:29:30.749Z"
   },
   {
    "duration": 4,
    "start_time": "2022-04-02T10:29:30.835Z"
   },
   {
    "duration": 7,
    "start_time": "2022-04-02T10:29:30.841Z"
   },
   {
    "duration": 784,
    "start_time": "2022-04-02T10:29:30.849Z"
   },
   {
    "duration": 4,
    "start_time": "2022-04-02T10:29:31.635Z"
   },
   {
    "duration": 8,
    "start_time": "2022-04-02T10:29:31.641Z"
   },
   {
    "duration": 8,
    "start_time": "2022-04-02T10:29:31.651Z"
   },
   {
    "duration": 8,
    "start_time": "2022-04-02T10:29:31.660Z"
   },
   {
    "duration": 4,
    "start_time": "2022-04-02T10:29:31.670Z"
   },
   {
    "duration": 5,
    "start_time": "2022-04-02T10:29:31.675Z"
   },
   {
    "duration": 8,
    "start_time": "2022-04-03T19:19:29.097Z"
   },
   {
    "duration": 436,
    "start_time": "2022-04-03T19:19:29.109Z"
   },
   {
    "duration": 821,
    "start_time": "2022-04-03T19:19:29.547Z"
   },
   {
    "duration": 3428,
    "start_time": "2022-04-03T19:19:30.370Z"
   },
   {
    "duration": 3,
    "start_time": "2022-04-03T19:19:33.801Z"
   },
   {
    "duration": 5,
    "start_time": "2022-04-03T19:19:33.806Z"
   },
   {
    "duration": 4,
    "start_time": "2022-04-03T19:19:33.813Z"
   },
   {
    "duration": 7,
    "start_time": "2022-04-03T19:19:33.819Z"
   },
   {
    "duration": 12,
    "start_time": "2022-04-03T19:19:33.828Z"
   },
   {
    "duration": 6,
    "start_time": "2022-04-03T19:19:33.842Z"
   },
   {
    "duration": 6,
    "start_time": "2022-04-03T19:19:33.850Z"
   },
   {
    "duration": 8,
    "start_time": "2022-04-03T19:19:33.857Z"
   },
   {
    "duration": 10,
    "start_time": "2022-04-03T19:19:33.867Z"
   },
   {
    "duration": 31,
    "start_time": "2022-04-03T19:19:33.878Z"
   },
   {
    "duration": 5,
    "start_time": "2022-04-03T19:19:33.911Z"
   },
   {
    "duration": 12,
    "start_time": "2022-04-03T19:19:33.917Z"
   },
   {
    "duration": 7,
    "start_time": "2022-04-03T19:19:33.930Z"
   },
   {
    "duration": 8,
    "start_time": "2022-04-03T19:19:33.938Z"
   },
   {
    "duration": 6,
    "start_time": "2022-04-03T19:19:33.947Z"
   },
   {
    "duration": 1794,
    "start_time": "2022-04-03T19:19:33.954Z"
   },
   {
    "duration": 4,
    "start_time": "2022-04-03T19:19:35.750Z"
   },
   {
    "duration": 12,
    "start_time": "2022-04-03T19:19:35.755Z"
   },
   {
    "duration": 17,
    "start_time": "2022-04-03T19:19:35.769Z"
   },
   {
    "duration": 152,
    "start_time": "2022-04-03T19:19:35.788Z"
   },
   {
    "duration": 458,
    "start_time": "2022-04-03T19:19:35.942Z"
   },
   {
    "duration": 8,
    "start_time": "2022-04-03T19:19:36.401Z"
   },
   {
    "duration": 6,
    "start_time": "2022-04-03T19:19:36.411Z"
   },
   {
    "duration": 55,
    "start_time": "2022-04-03T19:19:36.418Z"
   },
   {
    "duration": 4,
    "start_time": "2022-04-03T19:19:36.477Z"
   },
   {
    "duration": 27,
    "start_time": "2022-04-03T19:19:36.482Z"
   },
   {
    "duration": 3,
    "start_time": "2022-04-03T19:19:36.511Z"
   },
   {
    "duration": 7,
    "start_time": "2022-04-03T19:19:36.515Z"
   },
   {
    "duration": 471,
    "start_time": "2022-04-03T19:19:36.524Z"
   },
   {
    "duration": 488,
    "start_time": "2022-04-03T19:19:36.997Z"
   },
   {
    "duration": 301,
    "start_time": "2022-04-03T19:19:37.486Z"
   },
   {
    "duration": 20,
    "start_time": "2022-04-03T19:19:37.789Z"
   },
   {
    "duration": 104,
    "start_time": "2022-04-03T19:19:37.811Z"
   },
   {
    "duration": 191,
    "start_time": "2022-04-03T19:19:37.917Z"
   },
   {
    "duration": 111,
    "start_time": "2022-04-03T19:19:38.110Z"
   },
   {
    "duration": 210,
    "start_time": "2022-04-03T19:19:38.222Z"
   },
   {
    "duration": 95,
    "start_time": "2022-04-03T19:19:38.434Z"
   },
   {
    "duration": 5,
    "start_time": "2022-04-03T19:19:38.531Z"
   },
   {
    "duration": 9,
    "start_time": "2022-04-03T19:19:38.538Z"
   },
   {
    "duration": 17,
    "start_time": "2022-04-03T19:19:38.548Z"
   },
   {
    "duration": 5,
    "start_time": "2022-04-03T19:19:38.567Z"
   },
   {
    "duration": 8,
    "start_time": "2022-04-03T19:19:38.573Z"
   },
   {
    "duration": 6,
    "start_time": "2022-04-03T19:19:38.609Z"
   },
   {
    "duration": 3,
    "start_time": "2022-04-03T19:19:38.616Z"
   },
   {
    "duration": 65,
    "start_time": "2022-04-03T19:19:38.621Z"
   },
   {
    "duration": 108,
    "start_time": "2022-04-03T19:19:38.687Z"
   },
   {
    "duration": 58,
    "start_time": "2022-04-03T19:19:38.808Z"
   },
   {
    "duration": 253,
    "start_time": "2022-04-03T19:19:38.867Z"
   },
   {
    "duration": 615,
    "start_time": "2022-04-03T19:19:39.122Z"
   },
   {
    "duration": 574,
    "start_time": "2022-04-03T19:19:39.739Z"
   },
   {
    "duration": 459,
    "start_time": "2022-04-03T19:19:40.314Z"
   },
   {
    "duration": 373,
    "start_time": "2022-04-03T19:19:40.774Z"
   },
   {
    "duration": 9,
    "start_time": "2022-04-03T19:19:41.148Z"
   },
   {
    "duration": 574,
    "start_time": "2022-04-03T19:19:41.159Z"
   },
   {
    "duration": 3,
    "start_time": "2022-04-03T19:19:41.735Z"
   },
   {
    "duration": 79,
    "start_time": "2022-04-03T19:19:41.740Z"
   },
   {
    "duration": 67,
    "start_time": "2022-04-03T19:19:41.821Z"
   },
   {
    "duration": 80,
    "start_time": "2022-04-03T19:19:41.889Z"
   },
   {
    "duration": 78,
    "start_time": "2022-04-03T19:19:41.970Z"
   },
   {
    "duration": 80,
    "start_time": "2022-04-03T19:19:42.049Z"
   },
   {
    "duration": 62,
    "start_time": "2022-04-03T19:19:42.131Z"
   },
   {
    "duration": 30,
    "start_time": "2022-04-03T19:19:42.194Z"
   },
   {
    "duration": 999,
    "start_time": "2022-04-03T19:19:42.226Z"
   },
   {
    "duration": 27,
    "start_time": "2022-04-03T19:19:43.227Z"
   },
   {
    "duration": 17,
    "start_time": "2022-04-03T19:19:43.256Z"
   },
   {
    "duration": 10,
    "start_time": "2022-04-03T19:19:43.274Z"
   },
   {
    "duration": 1637,
    "start_time": "2022-04-03T19:19:43.308Z"
   },
   {
    "duration": 31,
    "start_time": "2022-04-03T19:19:44.946Z"
   },
   {
    "duration": 750,
    "start_time": "2022-04-03T19:19:44.979Z"
   },
   {
    "duration": 743,
    "start_time": "2022-04-03T19:19:45.731Z"
   },
   {
    "duration": 933,
    "start_time": "2022-04-03T19:19:46.476Z"
   },
   {
    "duration": 33,
    "start_time": "2022-04-03T19:19:47.410Z"
   },
   {
    "duration": 773,
    "start_time": "2022-04-03T19:19:47.444Z"
   },
   {
    "duration": 676,
    "start_time": "2022-04-03T19:19:48.219Z"
   },
   {
    "duration": 381,
    "start_time": "2022-04-03T19:19:48.897Z"
   },
   {
    "duration": 59,
    "start_time": "2022-04-03T19:19:49.280Z"
   },
   {
    "duration": 4,
    "start_time": "2022-04-03T19:19:49.341Z"
   },
   {
    "duration": 10,
    "start_time": "2022-04-03T19:19:49.346Z"
   },
   {
    "duration": 7,
    "start_time": "2022-04-03T19:19:49.364Z"
   },
   {
    "duration": 36,
    "start_time": "2022-04-03T19:19:49.373Z"
   },
   {
    "duration": 19,
    "start_time": "2022-04-03T19:19:49.411Z"
   },
   {
    "duration": 12,
    "start_time": "2022-04-03T19:19:49.431Z"
   },
   {
    "duration": 84,
    "start_time": "2022-04-03T19:19:49.444Z"
   },
   {
    "duration": 609,
    "start_time": "2022-04-03T19:19:49.530Z"
   },
   {
    "duration": 14,
    "start_time": "2022-04-03T19:19:50.141Z"
   },
   {
    "duration": 4,
    "start_time": "2022-04-03T19:19:50.157Z"
   },
   {
    "duration": 351,
    "start_time": "2022-04-03T19:19:50.162Z"
   },
   {
    "duration": 3,
    "start_time": "2022-04-03T19:19:50.515Z"
   },
   {
    "duration": 937,
    "start_time": "2022-04-03T19:19:50.519Z"
   },
   {
    "duration": 15,
    "start_time": "2022-04-03T19:19:51.458Z"
   },
   {
    "duration": 3,
    "start_time": "2022-04-03T19:19:51.475Z"
   },
   {
    "duration": 30,
    "start_time": "2022-04-03T19:19:51.479Z"
   },
   {
    "duration": 66,
    "start_time": "2022-04-03T19:19:51.510Z"
   },
   {
    "duration": 13,
    "start_time": "2022-04-03T19:19:51.577Z"
   },
   {
    "duration": 18,
    "start_time": "2022-04-03T19:19:51.592Z"
   },
   {
    "duration": 4,
    "start_time": "2022-04-03T19:19:51.612Z"
   },
   {
    "duration": 5,
    "start_time": "2022-04-03T19:19:51.617Z"
   },
   {
    "duration": 9,
    "start_time": "2022-04-03T19:19:51.623Z"
   },
   {
    "duration": 4,
    "start_time": "2022-04-03T19:19:51.634Z"
   },
   {
    "duration": 6,
    "start_time": "2022-04-03T19:19:51.640Z"
   },
   {
    "duration": 7,
    "start_time": "2022-04-03T20:04:04.583Z"
   },
   {
    "duration": 455,
    "start_time": "2022-04-03T20:04:04.596Z"
   },
   {
    "duration": 802,
    "start_time": "2022-04-03T20:04:05.053Z"
   },
   {
    "duration": 2992,
    "start_time": "2022-04-03T20:04:05.857Z"
   },
   {
    "duration": 2,
    "start_time": "2022-04-03T20:04:08.852Z"
   },
   {
    "duration": 6,
    "start_time": "2022-04-03T20:04:08.856Z"
   },
   {
    "duration": 5,
    "start_time": "2022-04-03T20:04:08.863Z"
   },
   {
    "duration": 6,
    "start_time": "2022-04-03T20:04:08.869Z"
   },
   {
    "duration": 9,
    "start_time": "2022-04-03T20:04:08.876Z"
   },
   {
    "duration": 5,
    "start_time": "2022-04-03T20:04:08.887Z"
   },
   {
    "duration": 4,
    "start_time": "2022-04-03T20:04:08.894Z"
   },
   {
    "duration": 7,
    "start_time": "2022-04-03T20:04:08.900Z"
   },
   {
    "duration": 9,
    "start_time": "2022-04-03T20:04:08.909Z"
   },
   {
    "duration": 7,
    "start_time": "2022-04-03T20:04:08.919Z"
   },
   {
    "duration": 4,
    "start_time": "2022-04-03T20:04:08.928Z"
   },
   {
    "duration": 12,
    "start_time": "2022-04-03T20:04:08.934Z"
   },
   {
    "duration": 6,
    "start_time": "2022-04-03T20:04:08.948Z"
   },
   {
    "duration": 7,
    "start_time": "2022-04-03T20:04:08.955Z"
   },
   {
    "duration": 4,
    "start_time": "2022-04-03T20:04:08.964Z"
   },
   {
    "duration": 1561,
    "start_time": "2022-04-03T20:04:08.970Z"
   },
   {
    "duration": 4,
    "start_time": "2022-04-03T20:04:10.533Z"
   },
   {
    "duration": 10,
    "start_time": "2022-04-03T20:04:10.539Z"
   },
   {
    "duration": 18,
    "start_time": "2022-04-03T20:04:10.550Z"
   },
   {
    "duration": 151,
    "start_time": "2022-04-03T20:04:10.570Z"
   },
   {
    "duration": 456,
    "start_time": "2022-04-03T20:04:10.723Z"
   },
   {
    "duration": 4,
    "start_time": "2022-04-03T20:04:11.181Z"
   },
   {
    "duration": 5,
    "start_time": "2022-04-03T20:04:11.187Z"
   },
   {
    "duration": 52,
    "start_time": "2022-04-03T20:04:11.208Z"
   },
   {
    "duration": 4,
    "start_time": "2022-04-03T20:04:11.264Z"
   },
   {
    "duration": 7,
    "start_time": "2022-04-03T20:04:11.269Z"
   },
   {
    "duration": 3,
    "start_time": "2022-04-03T20:04:11.278Z"
   },
   {
    "duration": 29,
    "start_time": "2022-04-03T20:04:11.282Z"
   },
   {
    "duration": 457,
    "start_time": "2022-04-03T20:04:11.313Z"
   },
   {
    "duration": 496,
    "start_time": "2022-04-03T20:04:11.772Z"
   },
   {
    "duration": 299,
    "start_time": "2022-04-03T20:04:12.270Z"
   },
   {
    "duration": 4,
    "start_time": "2022-04-03T20:04:12.571Z"
   },
   {
    "duration": 121,
    "start_time": "2022-04-03T20:04:12.577Z"
   },
   {
    "duration": 181,
    "start_time": "2022-04-03T20:04:12.700Z"
   },
   {
    "duration": 115,
    "start_time": "2022-04-03T20:04:12.883Z"
   },
   {
    "duration": 236,
    "start_time": "2022-04-03T20:04:13.000Z"
   },
   {
    "duration": 94,
    "start_time": "2022-04-03T20:04:13.238Z"
   },
   {
    "duration": 5,
    "start_time": "2022-04-03T20:04:13.334Z"
   },
   {
    "duration": 13,
    "start_time": "2022-04-03T20:04:13.341Z"
   },
   {
    "duration": 54,
    "start_time": "2022-04-03T20:04:13.355Z"
   },
   {
    "duration": 5,
    "start_time": "2022-04-03T20:04:13.411Z"
   },
   {
    "duration": 11,
    "start_time": "2022-04-03T20:04:13.417Z"
   },
   {
    "duration": 6,
    "start_time": "2022-04-03T20:04:13.430Z"
   },
   {
    "duration": 4,
    "start_time": "2022-04-03T20:04:13.437Z"
   },
   {
    "duration": 90,
    "start_time": "2022-04-03T20:04:13.443Z"
   },
   {
    "duration": 104,
    "start_time": "2022-04-03T20:04:13.535Z"
   },
   {
    "duration": 58,
    "start_time": "2022-04-03T20:04:13.641Z"
   },
   {
    "duration": 260,
    "start_time": "2022-04-03T20:04:13.709Z"
   },
   {
    "duration": 664,
    "start_time": "2022-04-03T20:04:13.971Z"
   },
   {
    "duration": 581,
    "start_time": "2022-04-03T20:04:14.637Z"
   },
   {
    "duration": 470,
    "start_time": "2022-04-03T20:04:15.220Z"
   },
   {
    "duration": 386,
    "start_time": "2022-04-03T20:04:15.691Z"
   },
   {
    "duration": 10,
    "start_time": "2022-04-03T20:04:16.079Z"
   },
   {
    "duration": 599,
    "start_time": "2022-04-03T20:04:16.090Z"
   },
   {
    "duration": 3,
    "start_time": "2022-04-03T20:04:16.691Z"
   },
   {
    "duration": 68,
    "start_time": "2022-04-03T20:04:16.708Z"
   },
   {
    "duration": 82,
    "start_time": "2022-04-03T20:04:16.778Z"
   },
   {
    "duration": 76,
    "start_time": "2022-04-03T20:04:16.861Z"
   },
   {
    "duration": 73,
    "start_time": "2022-04-03T20:04:16.938Z"
   },
   {
    "duration": 73,
    "start_time": "2022-04-03T20:04:17.013Z"
   },
   {
    "duration": 73,
    "start_time": "2022-04-03T20:04:17.088Z"
   },
   {
    "duration": 16,
    "start_time": "2022-04-03T20:04:17.162Z"
   },
   {
    "duration": 983,
    "start_time": "2022-04-03T20:04:17.180Z"
   },
   {
    "duration": 26,
    "start_time": "2022-04-03T20:04:18.165Z"
   },
   {
    "duration": 25,
    "start_time": "2022-04-03T20:04:18.193Z"
   },
   {
    "duration": 10,
    "start_time": "2022-04-03T20:04:18.220Z"
   },
   {
    "duration": 1646,
    "start_time": "2022-04-03T20:04:18.232Z"
   },
   {
    "duration": 39,
    "start_time": "2022-04-03T20:04:19.880Z"
   },
   {
    "duration": 746,
    "start_time": "2022-04-03T20:04:19.921Z"
   },
   {
    "duration": 790,
    "start_time": "2022-04-03T20:04:20.669Z"
   },
   {
    "duration": 934,
    "start_time": "2022-04-03T20:04:21.461Z"
   },
   {
    "duration": 39,
    "start_time": "2022-04-03T20:04:22.397Z"
   },
   {
    "duration": 773,
    "start_time": "2022-04-03T20:04:22.438Z"
   },
   {
    "duration": 682,
    "start_time": "2022-04-03T20:04:23.213Z"
   },
   {
    "duration": 383,
    "start_time": "2022-04-03T20:04:23.897Z"
   },
   {
    "duration": 57,
    "start_time": "2022-04-03T20:04:24.282Z"
   },
   {
    "duration": 5,
    "start_time": "2022-04-03T20:04:24.340Z"
   },
   {
    "duration": 5,
    "start_time": "2022-04-03T20:04:24.346Z"
   },
   {
    "duration": 7,
    "start_time": "2022-04-03T20:04:24.358Z"
   },
   {
    "duration": 19,
    "start_time": "2022-04-03T20:04:24.366Z"
   },
   {
    "duration": 20,
    "start_time": "2022-04-03T20:04:24.409Z"
   },
   {
    "duration": 12,
    "start_time": "2022-04-03T20:04:24.430Z"
   },
   {
    "duration": 85,
    "start_time": "2022-04-03T20:04:24.443Z"
   },
   {
    "duration": 597,
    "start_time": "2022-04-03T20:04:24.530Z"
   },
   {
    "duration": 14,
    "start_time": "2022-04-03T20:04:25.129Z"
   },
   {
    "duration": 4,
    "start_time": "2022-04-03T20:04:25.144Z"
   },
   {
    "duration": 350,
    "start_time": "2022-04-03T20:04:25.149Z"
   },
   {
    "duration": 3,
    "start_time": "2022-04-03T20:04:25.508Z"
   },
   {
    "duration": 963,
    "start_time": "2022-04-03T20:04:25.513Z"
   },
   {
    "duration": 13,
    "start_time": "2022-04-03T20:04:26.478Z"
   },
   {
    "duration": 17,
    "start_time": "2022-04-03T20:04:26.492Z"
   },
   {
    "duration": 7,
    "start_time": "2022-04-03T20:04:26.511Z"
   },
   {
    "duration": 68,
    "start_time": "2022-04-03T20:04:26.519Z"
   },
   {
    "duration": 31,
    "start_time": "2022-04-03T20:04:26.589Z"
   },
   {
    "duration": 4,
    "start_time": "2022-04-03T20:04:26.622Z"
   },
   {
    "duration": 4,
    "start_time": "2022-04-03T20:04:26.628Z"
   },
   {
    "duration": 13,
    "start_time": "2022-04-03T20:04:26.633Z"
   },
   {
    "duration": 5,
    "start_time": "2022-04-03T20:04:26.648Z"
   },
   {
    "duration": 4,
    "start_time": "2022-04-03T20:04:26.655Z"
   },
   {
    "duration": 6,
    "start_time": "2022-04-03T20:04:26.660Z"
   },
   {
    "duration": 72,
    "start_time": "2022-04-03T20:08:09.516Z"
   },
   {
    "duration": 7,
    "start_time": "2022-04-03T20:11:12.448Z"
   },
   {
    "duration": 417,
    "start_time": "2022-04-03T20:11:12.459Z"
   },
   {
    "duration": 798,
    "start_time": "2022-04-03T20:11:12.878Z"
   },
   {
    "duration": 2963,
    "start_time": "2022-04-03T20:11:13.677Z"
   },
   {
    "duration": 3,
    "start_time": "2022-04-03T20:11:16.642Z"
   },
   {
    "duration": 6,
    "start_time": "2022-04-03T20:11:16.647Z"
   },
   {
    "duration": 5,
    "start_time": "2022-04-03T20:11:16.654Z"
   },
   {
    "duration": 6,
    "start_time": "2022-04-03T20:11:16.660Z"
   },
   {
    "duration": 11,
    "start_time": "2022-04-03T20:11:16.667Z"
   },
   {
    "duration": 7,
    "start_time": "2022-04-03T20:11:16.680Z"
   },
   {
    "duration": 5,
    "start_time": "2022-04-03T20:11:16.688Z"
   },
   {
    "duration": 8,
    "start_time": "2022-04-03T20:11:16.695Z"
   },
   {
    "duration": 11,
    "start_time": "2022-04-03T20:11:16.704Z"
   },
   {
    "duration": 12,
    "start_time": "2022-04-03T20:11:16.716Z"
   },
   {
    "duration": 4,
    "start_time": "2022-04-03T20:11:16.731Z"
   },
   {
    "duration": 11,
    "start_time": "2022-04-03T20:11:16.736Z"
   },
   {
    "duration": 8,
    "start_time": "2022-04-03T20:11:16.749Z"
   },
   {
    "duration": 11,
    "start_time": "2022-04-03T20:11:16.759Z"
   },
   {
    "duration": 7,
    "start_time": "2022-04-03T20:11:16.771Z"
   },
   {
    "duration": 2846,
    "start_time": "2022-04-03T20:11:16.779Z"
   },
   {
    "duration": 5,
    "start_time": "2022-04-03T20:11:19.627Z"
   },
   {
    "duration": 7,
    "start_time": "2022-04-03T20:11:19.634Z"
   },
   {
    "duration": 17,
    "start_time": "2022-04-03T20:11:19.643Z"
   },
   {
    "duration": 164,
    "start_time": "2022-04-03T20:11:19.662Z"
   },
   {
    "duration": 495,
    "start_time": "2022-04-03T20:11:19.828Z"
   },
   {
    "duration": 4,
    "start_time": "2022-04-03T20:11:20.325Z"
   },
   {
    "duration": 6,
    "start_time": "2022-04-03T20:11:20.330Z"
   },
   {
    "duration": 53,
    "start_time": "2022-04-03T20:11:20.337Z"
   },
   {
    "duration": 17,
    "start_time": "2022-04-03T20:11:20.392Z"
   },
   {
    "duration": 5,
    "start_time": "2022-04-03T20:11:20.410Z"
   },
   {
    "duration": 4,
    "start_time": "2022-04-03T20:11:20.417Z"
   },
   {
    "duration": 10,
    "start_time": "2022-04-03T20:11:20.422Z"
   },
   {
    "duration": 483,
    "start_time": "2022-04-03T20:11:20.434Z"
   },
   {
    "duration": 534,
    "start_time": "2022-04-03T20:11:20.919Z"
   },
   {
    "duration": 297,
    "start_time": "2022-04-03T20:11:21.455Z"
   },
   {
    "duration": 4,
    "start_time": "2022-04-03T20:11:21.754Z"
   },
   {
    "duration": 115,
    "start_time": "2022-04-03T20:11:21.760Z"
   },
   {
    "duration": 189,
    "start_time": "2022-04-03T20:11:21.878Z"
   },
   {
    "duration": 115,
    "start_time": "2022-04-03T20:11:22.069Z"
   },
   {
    "duration": 208,
    "start_time": "2022-04-03T20:11:22.185Z"
   },
   {
    "duration": 94,
    "start_time": "2022-04-03T20:11:22.394Z"
   },
   {
    "duration": 17,
    "start_time": "2022-04-03T20:11:22.493Z"
   },
   {
    "duration": 10,
    "start_time": "2022-04-03T20:11:22.512Z"
   },
   {
    "duration": 16,
    "start_time": "2022-04-03T20:11:22.524Z"
   },
   {
    "duration": 5,
    "start_time": "2022-04-03T20:11:22.542Z"
   },
   {
    "duration": 8,
    "start_time": "2022-04-03T20:11:22.548Z"
   },
   {
    "duration": 5,
    "start_time": "2022-04-03T20:11:22.558Z"
   },
   {
    "duration": 4,
    "start_time": "2022-04-03T20:11:22.564Z"
   },
   {
    "duration": 89,
    "start_time": "2022-04-03T20:11:22.569Z"
   },
   {
    "duration": 95,
    "start_time": "2022-04-03T20:11:22.660Z"
   },
   {
    "duration": 64,
    "start_time": "2022-04-03T20:11:22.756Z"
   },
   {
    "duration": 241,
    "start_time": "2022-04-03T20:11:22.822Z"
   },
   {
    "duration": 629,
    "start_time": "2022-04-03T20:11:23.064Z"
   },
   {
    "duration": 555,
    "start_time": "2022-04-03T20:11:23.694Z"
   },
   {
    "duration": 472,
    "start_time": "2022-04-03T20:11:24.250Z"
   },
   {
    "duration": 375,
    "start_time": "2022-04-03T20:11:24.723Z"
   },
   {
    "duration": 9,
    "start_time": "2022-04-03T20:11:25.108Z"
   },
   {
    "duration": 570,
    "start_time": "2022-04-03T20:11:25.119Z"
   },
   {
    "duration": 3,
    "start_time": "2022-04-03T20:11:25.691Z"
   },
   {
    "duration": 64,
    "start_time": "2022-04-03T20:11:25.708Z"
   },
   {
    "duration": 77,
    "start_time": "2022-04-03T20:11:25.773Z"
   },
   {
    "duration": 75,
    "start_time": "2022-04-03T20:11:25.851Z"
   },
   {
    "duration": 58,
    "start_time": "2022-04-03T20:11:25.928Z"
   },
   {
    "duration": 71,
    "start_time": "2022-04-03T20:11:25.987Z"
   },
   {
    "duration": 75,
    "start_time": "2022-04-03T20:11:26.060Z"
   },
   {
    "duration": 15,
    "start_time": "2022-04-03T20:11:26.137Z"
   },
   {
    "duration": 978,
    "start_time": "2022-04-03T20:11:26.153Z"
   },
   {
    "duration": 27,
    "start_time": "2022-04-03T20:11:27.133Z"
   },
   {
    "duration": 15,
    "start_time": "2022-04-03T20:11:27.162Z"
   },
   {
    "duration": 35,
    "start_time": "2022-04-03T20:11:27.179Z"
   },
   {
    "duration": 1612,
    "start_time": "2022-04-03T20:11:27.215Z"
   },
   {
    "duration": 31,
    "start_time": "2022-04-03T20:11:28.828Z"
   },
   {
    "duration": 761,
    "start_time": "2022-04-03T20:11:28.861Z"
   },
   {
    "duration": 744,
    "start_time": "2022-04-03T20:11:29.624Z"
   },
   {
    "duration": 924,
    "start_time": "2022-04-03T20:11:30.370Z"
   },
   {
    "duration": 30,
    "start_time": "2022-04-03T20:11:31.308Z"
   },
   {
    "duration": 723,
    "start_time": "2022-04-03T20:11:31.340Z"
   },
   {
    "duration": 719,
    "start_time": "2022-04-03T20:11:32.064Z"
   },
   {
    "duration": 371,
    "start_time": "2022-04-03T20:11:32.784Z"
   },
   {
    "duration": 56,
    "start_time": "2022-04-03T20:11:33.156Z"
   },
   {
    "duration": 4,
    "start_time": "2022-04-03T20:11:33.214Z"
   },
   {
    "duration": 5,
    "start_time": "2022-04-03T20:11:33.220Z"
   },
   {
    "duration": 12,
    "start_time": "2022-04-03T20:11:33.226Z"
   },
   {
    "duration": 14,
    "start_time": "2022-04-03T20:11:33.239Z"
   },
   {
    "duration": 19,
    "start_time": "2022-04-03T20:11:33.254Z"
   },
   {
    "duration": 41,
    "start_time": "2022-04-03T20:11:33.275Z"
   },
   {
    "duration": 71,
    "start_time": "2022-04-03T20:11:33.318Z"
   },
   {
    "duration": 590,
    "start_time": "2022-04-03T20:11:33.390Z"
   },
   {
    "duration": 14,
    "start_time": "2022-04-03T20:11:33.981Z"
   },
   {
    "duration": 4,
    "start_time": "2022-04-03T20:11:34.009Z"
   },
   {
    "duration": 353,
    "start_time": "2022-04-03T20:11:34.015Z"
   },
   {
    "duration": 3,
    "start_time": "2022-04-03T20:11:34.370Z"
   },
   {
    "duration": 934,
    "start_time": "2022-04-03T20:11:34.375Z"
   },
   {
    "duration": 13,
    "start_time": "2022-04-03T20:11:35.310Z"
   },
   {
    "duration": 3,
    "start_time": "2022-04-03T20:11:35.325Z"
   },
   {
    "duration": 5,
    "start_time": "2022-04-03T20:11:35.330Z"
   },
   {
    "duration": 91,
    "start_time": "2022-04-03T20:11:35.337Z"
   },
   {
    "duration": 15,
    "start_time": "2022-04-03T20:11:35.430Z"
   },
   {
    "duration": 4,
    "start_time": "2022-04-03T20:11:35.447Z"
   },
   {
    "duration": 3,
    "start_time": "2022-04-03T20:11:35.453Z"
   },
   {
    "duration": 6,
    "start_time": "2022-04-03T20:11:35.457Z"
   },
   {
    "duration": 4,
    "start_time": "2022-04-03T20:11:35.464Z"
   },
   {
    "duration": 6,
    "start_time": "2022-04-03T20:11:35.469Z"
   },
   {
    "duration": 33,
    "start_time": "2022-04-03T20:11:35.476Z"
   },
   {
    "duration": 7,
    "start_time": "2022-04-03T20:13:28.983Z"
   },
   {
    "duration": 457,
    "start_time": "2022-04-03T20:13:28.994Z"
   },
   {
    "duration": 756,
    "start_time": "2022-04-03T20:13:29.453Z"
   },
   {
    "duration": 3041,
    "start_time": "2022-04-03T20:13:30.211Z"
   },
   {
    "duration": 3,
    "start_time": "2022-04-03T20:13:33.254Z"
   },
   {
    "duration": 6,
    "start_time": "2022-04-03T20:13:33.259Z"
   },
   {
    "duration": 5,
    "start_time": "2022-04-03T20:13:33.267Z"
   },
   {
    "duration": 6,
    "start_time": "2022-04-03T20:13:33.273Z"
   },
   {
    "duration": 5,
    "start_time": "2022-04-03T20:13:33.281Z"
   },
   {
    "duration": 5,
    "start_time": "2022-04-03T20:13:33.288Z"
   },
   {
    "duration": 3,
    "start_time": "2022-04-03T20:13:33.296Z"
   },
   {
    "duration": 9,
    "start_time": "2022-04-03T20:13:33.301Z"
   },
   {
    "duration": 9,
    "start_time": "2022-04-03T20:13:33.313Z"
   },
   {
    "duration": 7,
    "start_time": "2022-04-03T20:13:33.324Z"
   },
   {
    "duration": 4,
    "start_time": "2022-04-03T20:13:33.332Z"
   },
   {
    "duration": 11,
    "start_time": "2022-04-03T20:13:33.338Z"
   },
   {
    "duration": 8,
    "start_time": "2022-04-03T20:13:33.351Z"
   },
   {
    "duration": 8,
    "start_time": "2022-04-03T20:13:33.361Z"
   },
   {
    "duration": 6,
    "start_time": "2022-04-03T20:13:33.371Z"
   },
   {
    "duration": 1429,
    "start_time": "2022-04-03T20:13:33.378Z"
   },
   {
    "duration": 4,
    "start_time": "2022-04-03T20:13:34.809Z"
   },
   {
    "duration": 8,
    "start_time": "2022-04-03T20:13:34.815Z"
   },
   {
    "duration": 17,
    "start_time": "2022-04-03T20:13:34.824Z"
   },
   {
    "duration": 157,
    "start_time": "2022-04-03T20:13:34.842Z"
   },
   {
    "duration": 456,
    "start_time": "2022-04-03T20:13:35.001Z"
   },
   {
    "duration": 4,
    "start_time": "2022-04-03T20:13:35.459Z"
   },
   {
    "duration": 5,
    "start_time": "2022-04-03T20:13:35.465Z"
   },
   {
    "duration": 73,
    "start_time": "2022-04-03T20:13:35.472Z"
   },
   {
    "duration": 3,
    "start_time": "2022-04-03T20:13:35.551Z"
   },
   {
    "duration": 8,
    "start_time": "2022-04-03T20:13:35.556Z"
   },
   {
    "duration": 5,
    "start_time": "2022-04-03T20:13:35.566Z"
   },
   {
    "duration": 8,
    "start_time": "2022-04-03T20:13:35.573Z"
   },
   {
    "duration": 452,
    "start_time": "2022-04-03T20:13:35.582Z"
   },
   {
    "duration": 497,
    "start_time": "2022-04-03T20:13:36.036Z"
   },
   {
    "duration": 301,
    "start_time": "2022-04-03T20:13:36.534Z"
   },
   {
    "duration": 4,
    "start_time": "2022-04-03T20:13:36.837Z"
   },
   {
    "duration": 119,
    "start_time": "2022-04-03T20:13:36.843Z"
   },
   {
    "duration": 181,
    "start_time": "2022-04-03T20:13:36.964Z"
   },
   {
    "duration": 112,
    "start_time": "2022-04-03T20:13:37.147Z"
   },
   {
    "duration": 213,
    "start_time": "2022-04-03T20:13:37.261Z"
   },
   {
    "duration": 96,
    "start_time": "2022-04-03T20:13:37.476Z"
   },
   {
    "duration": 6,
    "start_time": "2022-04-03T20:13:37.574Z"
   },
   {
    "duration": 26,
    "start_time": "2022-04-03T20:13:37.582Z"
   },
   {
    "duration": 15,
    "start_time": "2022-04-03T20:13:37.610Z"
   },
   {
    "duration": 6,
    "start_time": "2022-04-03T20:13:37.627Z"
   },
   {
    "duration": 8,
    "start_time": "2022-04-03T20:13:37.635Z"
   },
   {
    "duration": 8,
    "start_time": "2022-04-03T20:13:37.644Z"
   },
   {
    "duration": 5,
    "start_time": "2022-04-03T20:13:37.653Z"
   },
   {
    "duration": 94,
    "start_time": "2022-04-03T20:13:37.660Z"
   },
   {
    "duration": 101,
    "start_time": "2022-04-03T20:13:37.756Z"
   },
   {
    "duration": 63,
    "start_time": "2022-04-03T20:13:37.859Z"
   },
   {
    "duration": 252,
    "start_time": "2022-04-03T20:13:37.924Z"
   },
   {
    "duration": 607,
    "start_time": "2022-04-03T20:13:38.178Z"
   },
   {
    "duration": 552,
    "start_time": "2022-04-03T20:13:38.788Z"
   },
   {
    "duration": 457,
    "start_time": "2022-04-03T20:13:39.341Z"
   },
   {
    "duration": 354,
    "start_time": "2022-04-03T20:13:39.810Z"
   },
   {
    "duration": 11,
    "start_time": "2022-04-03T20:13:40.166Z"
   },
   {
    "duration": 581,
    "start_time": "2022-04-03T20:13:40.179Z"
   },
   {
    "duration": 4,
    "start_time": "2022-04-03T20:13:40.761Z"
   },
   {
    "duration": 80,
    "start_time": "2022-04-03T20:13:40.766Z"
   },
   {
    "duration": 77,
    "start_time": "2022-04-03T20:13:40.848Z"
   },
   {
    "duration": 59,
    "start_time": "2022-04-03T20:13:40.926Z"
   },
   {
    "duration": 72,
    "start_time": "2022-04-03T20:13:40.987Z"
   },
   {
    "duration": 79,
    "start_time": "2022-04-03T20:13:41.060Z"
   },
   {
    "duration": 70,
    "start_time": "2022-04-03T20:13:41.140Z"
   },
   {
    "duration": 16,
    "start_time": "2022-04-03T20:13:41.212Z"
   },
   {
    "duration": 986,
    "start_time": "2022-04-03T20:13:41.230Z"
   },
   {
    "duration": 26,
    "start_time": "2022-04-03T20:13:42.217Z"
   },
   {
    "duration": 16,
    "start_time": "2022-04-03T20:13:42.244Z"
   },
   {
    "duration": 9,
    "start_time": "2022-04-03T20:13:42.262Z"
   },
   {
    "duration": 1655,
    "start_time": "2022-04-03T20:13:42.273Z"
   },
   {
    "duration": 30,
    "start_time": "2022-04-03T20:13:43.930Z"
   },
   {
    "duration": 758,
    "start_time": "2022-04-03T20:13:43.962Z"
   },
   {
    "duration": 741,
    "start_time": "2022-04-03T20:13:44.722Z"
   },
   {
    "duration": 898,
    "start_time": "2022-04-03T20:13:45.464Z"
   },
   {
    "duration": 45,
    "start_time": "2022-04-03T20:13:46.364Z"
   },
   {
    "duration": 737,
    "start_time": "2022-04-03T20:13:46.410Z"
   },
   {
    "duration": 643,
    "start_time": "2022-04-03T20:13:47.149Z"
   },
   {
    "duration": 373,
    "start_time": "2022-04-03T20:13:47.794Z"
   },
   {
    "duration": 58,
    "start_time": "2022-04-03T20:13:48.168Z"
   },
   {
    "duration": 4,
    "start_time": "2022-04-03T20:13:48.228Z"
   },
   {
    "duration": 4,
    "start_time": "2022-04-03T20:13:48.234Z"
   },
   {
    "duration": 7,
    "start_time": "2022-04-03T20:13:48.243Z"
   },
   {
    "duration": 15,
    "start_time": "2022-04-03T20:13:48.252Z"
   },
   {
    "duration": 44,
    "start_time": "2022-04-03T20:13:48.268Z"
   },
   {
    "duration": 9,
    "start_time": "2022-04-03T20:13:48.314Z"
   },
   {
    "duration": 85,
    "start_time": "2022-04-03T20:13:48.325Z"
   },
   {
    "duration": 577,
    "start_time": "2022-04-03T20:13:48.412Z"
   },
   {
    "duration": 23,
    "start_time": "2022-04-03T20:13:48.991Z"
   },
   {
    "duration": 5,
    "start_time": "2022-04-03T20:13:49.015Z"
   },
   {
    "duration": 353,
    "start_time": "2022-04-03T20:13:49.021Z"
   },
   {
    "duration": 3,
    "start_time": "2022-04-03T20:13:49.376Z"
   },
   {
    "duration": 928,
    "start_time": "2022-04-03T20:13:49.381Z"
   },
   {
    "duration": 13,
    "start_time": "2022-04-03T20:13:50.310Z"
   },
   {
    "duration": 5,
    "start_time": "2022-04-03T20:13:50.324Z"
   },
   {
    "duration": 5,
    "start_time": "2022-04-03T20:13:50.331Z"
   },
   {
    "duration": 106,
    "start_time": "2022-04-03T20:13:50.337Z"
   },
   {
    "duration": 15,
    "start_time": "2022-04-03T20:13:50.445Z"
   },
   {
    "duration": 8,
    "start_time": "2022-04-03T20:13:50.462Z"
   },
   {
    "duration": 4,
    "start_time": "2022-04-03T20:13:50.471Z"
   },
   {
    "duration": 5,
    "start_time": "2022-04-03T20:13:50.477Z"
   },
   {
    "duration": 26,
    "start_time": "2022-04-03T20:13:50.483Z"
   },
   {
    "duration": 5,
    "start_time": "2022-04-03T20:13:50.510Z"
   },
   {
    "duration": 4,
    "start_time": "2022-04-03T20:13:50.517Z"
   },
   {
    "duration": 7,
    "start_time": "2022-04-03T20:14:17.926Z"
   },
   {
    "duration": 387,
    "start_time": "2022-04-03T20:14:17.935Z"
   },
   {
    "duration": 770,
    "start_time": "2022-04-03T20:14:18.324Z"
   },
   {
    "duration": 2758,
    "start_time": "2022-04-03T20:14:19.096Z"
   },
   {
    "duration": 3,
    "start_time": "2022-04-03T20:14:21.856Z"
   },
   {
    "duration": 7,
    "start_time": "2022-04-03T20:14:21.861Z"
   },
   {
    "duration": 5,
    "start_time": "2022-04-03T20:14:21.869Z"
   },
   {
    "duration": 6,
    "start_time": "2022-04-03T20:14:21.875Z"
   },
   {
    "duration": 8,
    "start_time": "2022-04-03T20:14:21.882Z"
   },
   {
    "duration": 5,
    "start_time": "2022-04-03T20:14:21.891Z"
   },
   {
    "duration": 3,
    "start_time": "2022-04-03T20:14:21.899Z"
   },
   {
    "duration": 8,
    "start_time": "2022-04-03T20:14:21.904Z"
   },
   {
    "duration": 9,
    "start_time": "2022-04-03T20:14:21.914Z"
   },
   {
    "duration": 8,
    "start_time": "2022-04-03T20:14:21.924Z"
   },
   {
    "duration": 5,
    "start_time": "2022-04-03T20:14:21.934Z"
   },
   {
    "duration": 11,
    "start_time": "2022-04-03T20:14:21.941Z"
   },
   {
    "duration": 6,
    "start_time": "2022-04-03T20:14:21.953Z"
   },
   {
    "duration": 7,
    "start_time": "2022-04-03T20:14:21.961Z"
   },
   {
    "duration": 4,
    "start_time": "2022-04-03T20:14:21.970Z"
   },
   {
    "duration": 1662,
    "start_time": "2022-04-03T20:14:21.975Z"
   },
   {
    "duration": 3,
    "start_time": "2022-04-03T20:14:23.639Z"
   },
   {
    "duration": 9,
    "start_time": "2022-04-03T20:14:23.644Z"
   },
   {
    "duration": 17,
    "start_time": "2022-04-03T20:14:23.655Z"
   },
   {
    "duration": 147,
    "start_time": "2022-04-03T20:14:23.673Z"
   },
   {
    "duration": 445,
    "start_time": "2022-04-03T20:14:23.822Z"
   },
   {
    "duration": 3,
    "start_time": "2022-04-03T20:14:24.269Z"
   },
   {
    "duration": 8,
    "start_time": "2022-04-03T20:14:24.273Z"
   },
   {
    "duration": 3,
    "start_time": "2022-04-03T20:22:35.985Z"
   },
   {
    "duration": 2,
    "start_time": "2022-04-03T20:22:35.997Z"
   },
   {
    "duration": 7,
    "start_time": "2022-04-03T20:22:36.003Z"
   },
   {
    "duration": 10,
    "start_time": "2022-04-03T20:22:36.012Z"
   },
   {
    "duration": 6,
    "start_time": "2022-04-03T20:22:36.023Z"
   },
   {
    "duration": 5,
    "start_time": "2022-04-03T20:22:36.031Z"
   },
   {
    "duration": 5,
    "start_time": "2022-04-03T20:22:36.037Z"
   },
   {
    "duration": 6,
    "start_time": "2022-04-03T20:22:36.044Z"
   },
   {
    "duration": 6,
    "start_time": "2022-04-03T20:22:36.051Z"
   },
   {
    "duration": 5,
    "start_time": "2022-04-03T20:22:36.059Z"
   },
   {
    "duration": 7,
    "start_time": "2022-04-03T20:22:36.065Z"
   },
   {
    "duration": 7,
    "start_time": "2022-04-03T20:22:46.525Z"
   },
   {
    "duration": 386,
    "start_time": "2022-04-03T20:22:46.534Z"
   },
   {
    "duration": 676,
    "start_time": "2022-04-03T20:22:46.921Z"
   },
   {
    "duration": 3225,
    "start_time": "2022-04-03T20:22:47.599Z"
   },
   {
    "duration": 3,
    "start_time": "2022-04-03T20:22:50.826Z"
   },
   {
    "duration": 5,
    "start_time": "2022-04-03T20:22:50.831Z"
   },
   {
    "duration": 7,
    "start_time": "2022-04-03T20:22:50.838Z"
   },
   {
    "duration": 6,
    "start_time": "2022-04-03T20:22:50.847Z"
   },
   {
    "duration": 5,
    "start_time": "2022-04-03T20:22:50.855Z"
   },
   {
    "duration": 4,
    "start_time": "2022-04-03T20:22:50.862Z"
   },
   {
    "duration": 4,
    "start_time": "2022-04-03T20:22:50.868Z"
   },
   {
    "duration": 8,
    "start_time": "2022-04-03T20:27:48.646Z"
   },
   {
    "duration": 8,
    "start_time": "2022-04-03T20:31:38.265Z"
   },
   {
    "duration": 5,
    "start_time": "2022-04-03T20:31:40.019Z"
   },
   {
    "duration": 109,
    "start_time": "2022-04-03T20:33:24.173Z"
   },
   {
    "duration": 9,
    "start_time": "2022-04-03T20:33:50.593Z"
   },
   {
    "duration": 3,
    "start_time": "2022-04-03T20:33:52.441Z"
   },
   {
    "duration": 2939,
    "start_time": "2022-04-03T20:33:53.340Z"
   },
   {
    "duration": 128,
    "start_time": "2022-04-03T20:34:05.474Z"
   },
   {
    "duration": 121,
    "start_time": "2022-04-03T20:34:09.370Z"
   },
   {
    "duration": 167,
    "start_time": "2022-04-03T20:34:23.272Z"
   },
   {
    "duration": 121,
    "start_time": "2022-04-03T20:34:28.558Z"
   },
   {
    "duration": 165,
    "start_time": "2022-04-03T20:34:39.576Z"
   },
   {
    "duration": 86,
    "start_time": "2022-04-03T20:34:42.000Z"
   },
   {
    "duration": 10,
    "start_time": "2022-04-03T20:38:30.057Z"
   },
   {
    "duration": 12,
    "start_time": "2022-04-03T20:45:56.955Z"
   },
   {
    "duration": 4,
    "start_time": "2022-04-03T20:46:02.568Z"
   },
   {
    "duration": 6,
    "start_time": "2022-04-03T20:46:04.815Z"
   },
   {
    "duration": 2,
    "start_time": "2022-04-03T20:52:41.774Z"
   },
   {
    "duration": 3,
    "start_time": "2022-04-03T20:52:41.785Z"
   },
   {
    "duration": 4,
    "start_time": "2022-04-03T20:52:41.791Z"
   },
   {
    "duration": 6,
    "start_time": "2022-04-03T20:52:41.797Z"
   },
   {
    "duration": 5,
    "start_time": "2022-04-03T20:52:41.805Z"
   },
   {
    "duration": 5,
    "start_time": "2022-04-03T20:52:41.812Z"
   },
   {
    "duration": 3,
    "start_time": "2022-04-03T20:52:41.820Z"
   },
   {
    "duration": 8,
    "start_time": "2022-04-03T20:52:41.824Z"
   },
   {
    "duration": 5,
    "start_time": "2022-04-03T20:52:41.834Z"
   },
   {
    "duration": 4,
    "start_time": "2022-04-03T20:52:41.841Z"
   },
   {
    "duration": 5,
    "start_time": "2022-04-03T20:52:41.847Z"
   },
   {
    "duration": 9,
    "start_time": "2022-04-03T20:52:41.854Z"
   },
   {
    "duration": 9,
    "start_time": "2022-04-03T20:52:41.865Z"
   },
   {
    "duration": 7,
    "start_time": "2022-04-03T20:52:41.910Z"
   },
   {
    "duration": 4,
    "start_time": "2022-04-03T20:52:41.919Z"
   },
   {
    "duration": 17,
    "start_time": "2022-04-03T20:52:41.925Z"
   },
   {
    "duration": 8,
    "start_time": "2022-04-03T20:52:41.944Z"
   },
   {
    "duration": 9,
    "start_time": "2022-04-03T20:52:41.953Z"
   },
   {
    "duration": 3,
    "start_time": "2022-04-03T20:55:03.570Z"
   },
   {
    "duration": 3074,
    "start_time": "2022-04-03T20:55:03.777Z"
   },
   {
    "duration": 3,
    "start_time": "2022-04-03T20:57:38.277Z"
   },
   {
    "duration": 5,
    "start_time": "2022-04-03T20:57:39.834Z"
   },
   {
    "duration": 2,
    "start_time": "2022-04-03T21:19:36.741Z"
   },
   {
    "duration": 2,
    "start_time": "2022-04-03T21:19:36.748Z"
   },
   {
    "duration": 2,
    "start_time": "2022-04-03T21:19:36.754Z"
   },
   {
    "duration": 5,
    "start_time": "2022-04-03T21:19:36.760Z"
   },
   {
    "duration": 6,
    "start_time": "2022-04-03T21:19:36.767Z"
   },
   {
    "duration": 3,
    "start_time": "2022-04-03T21:19:36.775Z"
   },
   {
    "duration": 4,
    "start_time": "2022-04-03T21:19:36.780Z"
   },
   {
    "duration": 7,
    "start_time": "2022-04-03T21:19:36.788Z"
   },
   {
    "duration": 6,
    "start_time": "2022-04-03T21:19:36.797Z"
   },
   {
    "duration": 5,
    "start_time": "2022-04-03T21:19:36.805Z"
   },
   {
    "duration": 5,
    "start_time": "2022-04-03T21:19:36.811Z"
   },
   {
    "duration": 9,
    "start_time": "2022-04-03T21:19:36.818Z"
   },
   {
    "duration": 11,
    "start_time": "2022-04-03T21:19:36.829Z"
   },
   {
    "duration": 4,
    "start_time": "2022-04-03T21:19:36.843Z"
   },
   {
    "duration": 4,
    "start_time": "2022-04-03T21:19:36.849Z"
   },
   {
    "duration": 12,
    "start_time": "2022-04-03T21:19:36.856Z"
   },
   {
    "duration": 7,
    "start_time": "2022-04-03T21:19:36.910Z"
   },
   {
    "duration": 7,
    "start_time": "2022-04-03T21:19:36.919Z"
   },
   {
    "duration": 5,
    "start_time": "2022-04-03T21:19:36.927Z"
   },
   {
    "duration": 1603,
    "start_time": "2022-04-03T21:19:36.934Z"
   },
   {
    "duration": 4,
    "start_time": "2022-04-03T21:19:38.538Z"
   },
   {
    "duration": 9,
    "start_time": "2022-04-03T21:19:38.543Z"
   },
   {
    "duration": 13,
    "start_time": "2022-04-03T21:19:38.554Z"
   },
   {
    "duration": 151,
    "start_time": "2022-04-03T21:19:38.568Z"
   },
   {
    "duration": 437,
    "start_time": "2022-04-03T21:19:38.720Z"
   },
   {
    "duration": 3,
    "start_time": "2022-04-03T21:19:39.159Z"
   },
   {
    "duration": 5,
    "start_time": "2022-04-03T21:19:39.164Z"
   },
   {
    "duration": 39,
    "start_time": "2022-04-03T21:19:39.171Z"
   },
   {
    "duration": 3,
    "start_time": "2022-04-03T21:19:51.141Z"
   },
   {
    "duration": 3,
    "start_time": "2022-04-03T21:19:57.108Z"
   },
   {
    "duration": 5,
    "start_time": "2022-04-03T21:19:59.453Z"
   },
   {
    "duration": 3,
    "start_time": "2022-04-03T21:20:11.528Z"
   },
   {
    "duration": 5,
    "start_time": "2022-04-03T21:20:12.922Z"
   },
   {
    "duration": 388,
    "start_time": "2022-04-03T21:22:38.163Z"
   },
   {
    "duration": 256,
    "start_time": "2022-04-03T21:22:48.578Z"
   },
   {
    "duration": 4,
    "start_time": "2022-04-03T21:22:51.884Z"
   },
   {
    "duration": 375,
    "start_time": "2022-04-03T21:26:28.037Z"
   },
   {
    "duration": 411,
    "start_time": "2022-04-03T21:26:29.034Z"
   },
   {
    "duration": 248,
    "start_time": "2022-04-03T21:26:30.238Z"
   },
   {
    "duration": 4,
    "start_time": "2022-04-03T21:26:31.130Z"
   },
   {
    "duration": 95,
    "start_time": "2022-04-03T21:26:34.514Z"
   },
   {
    "duration": 146,
    "start_time": "2022-04-03T21:26:38.841Z"
   },
   {
    "duration": 65,
    "start_time": "2022-04-03T21:27:14.049Z"
   },
   {
    "duration": 207,
    "start_time": "2022-04-03T21:27:19.324Z"
   },
   {
    "duration": 85,
    "start_time": "2022-04-03T21:32:50.095Z"
   },
   {
    "duration": 6,
    "start_time": "2022-04-03T21:32:52.137Z"
   },
   {
    "duration": 7,
    "start_time": "2022-04-03T21:33:00.316Z"
   },
   {
    "duration": 14,
    "start_time": "2022-04-03T21:34:32.438Z"
   },
   {
    "duration": 5,
    "start_time": "2022-04-03T21:34:33.012Z"
   },
   {
    "duration": 6,
    "start_time": "2022-04-03T21:35:51.776Z"
   },
   {
    "duration": 6,
    "start_time": "2022-04-03T21:35:55.464Z"
   },
   {
    "duration": 4,
    "start_time": "2022-04-03T21:36:07.373Z"
   },
   {
    "duration": 61,
    "start_time": "2022-04-03T21:36:11.136Z"
   },
   {
    "duration": 85,
    "start_time": "2022-04-03T21:36:15.970Z"
   },
   {
    "duration": 58,
    "start_time": "2022-04-03T21:36:22.119Z"
   },
   {
    "duration": 244,
    "start_time": "2022-04-03T21:39:13.260Z"
   },
   {
    "duration": 71,
    "start_time": "2022-04-03T21:40:00.648Z"
   },
   {
    "duration": 11,
    "start_time": "2022-04-03T21:53:55.127Z"
   },
   {
    "duration": 3,
    "start_time": "2022-04-03T21:54:01.307Z"
   },
   {
    "duration": 27,
    "start_time": "2022-04-03T21:54:13.273Z"
   },
   {
    "duration": 32,
    "start_time": "2022-04-03T21:54:21.191Z"
   },
   {
    "duration": 29,
    "start_time": "2022-04-03T21:54:27.169Z"
   },
   {
    "duration": 15,
    "start_time": "2022-04-03T21:54:35.862Z"
   },
   {
    "duration": 5,
    "start_time": "2022-04-03T21:54:46.536Z"
   },
   {
    "duration": 9,
    "start_time": "2022-04-03T21:55:31.917Z"
   },
   {
    "duration": 70,
    "start_time": "2022-04-03T21:55:34.543Z"
   },
   {
    "duration": 18,
    "start_time": "2022-04-03T21:56:21.792Z"
   },
   {
    "duration": 10,
    "start_time": "2022-04-03T21:57:16.345Z"
   },
   {
    "duration": 16,
    "start_time": "2022-04-03T21:57:27.812Z"
   },
   {
    "duration": 2,
    "start_time": "2022-04-03T21:57:48.948Z"
   },
   {
    "duration": 3,
    "start_time": "2022-04-03T21:57:48.958Z"
   },
   {
    "duration": 3,
    "start_time": "2022-04-03T21:57:48.963Z"
   },
   {
    "duration": 3,
    "start_time": "2022-04-03T21:57:48.970Z"
   },
   {
    "duration": 6,
    "start_time": "2022-04-03T21:57:48.975Z"
   },
   {
    "duration": 5,
    "start_time": "2022-04-03T21:57:48.982Z"
   },
   {
    "duration": 4,
    "start_time": "2022-04-03T21:57:48.988Z"
   },
   {
    "duration": 5,
    "start_time": "2022-04-03T21:57:48.996Z"
   },
   {
    "duration": 6,
    "start_time": "2022-04-03T21:57:49.003Z"
   },
   {
    "duration": 4,
    "start_time": "2022-04-03T21:57:49.011Z"
   },
   {
    "duration": 5,
    "start_time": "2022-04-03T21:57:49.016Z"
   },
   {
    "duration": 7,
    "start_time": "2022-04-03T21:57:49.023Z"
   },
   {
    "duration": 8,
    "start_time": "2022-04-03T21:57:49.032Z"
   },
   {
    "duration": 6,
    "start_time": "2022-04-03T21:57:49.042Z"
   },
   {
    "duration": 4,
    "start_time": "2022-04-03T21:57:49.049Z"
   },
   {
    "duration": 11,
    "start_time": "2022-04-03T21:57:49.054Z"
   },
   {
    "duration": 16,
    "start_time": "2022-04-03T21:57:49.067Z"
   },
   {
    "duration": 27,
    "start_time": "2022-04-03T21:57:49.084Z"
   },
   {
    "duration": 4,
    "start_time": "2022-04-03T21:57:49.113Z"
   },
   {
    "duration": 3110,
    "start_time": "2022-04-03T21:57:49.119Z"
   },
   {
    "duration": 3,
    "start_time": "2022-04-03T21:57:52.231Z"
   },
   {
    "duration": 9,
    "start_time": "2022-04-03T21:57:52.235Z"
   },
   {
    "duration": 13,
    "start_time": "2022-04-03T21:57:52.245Z"
   },
   {
    "duration": 141,
    "start_time": "2022-04-03T21:57:52.259Z"
   },
   {
    "duration": 440,
    "start_time": "2022-04-03T21:57:52.408Z"
   },
   {
    "duration": 4,
    "start_time": "2022-04-03T21:57:52.849Z"
   },
   {
    "duration": 6,
    "start_time": "2022-04-03T21:57:52.855Z"
   },
   {
    "duration": 22,
    "start_time": "2022-04-03T21:57:52.864Z"
   },
   {
    "duration": 21,
    "start_time": "2022-04-03T21:57:52.888Z"
   },
   {
    "duration": 6,
    "start_time": "2022-04-03T21:57:52.910Z"
   },
   {
    "duration": 4,
    "start_time": "2022-04-03T21:57:52.917Z"
   },
   {
    "duration": 7,
    "start_time": "2022-04-03T21:57:52.923Z"
   },
   {
    "duration": 445,
    "start_time": "2022-04-03T21:57:52.932Z"
   },
   {
    "duration": 448,
    "start_time": "2022-04-03T21:57:53.379Z"
   },
   {
    "duration": 272,
    "start_time": "2022-04-03T21:57:53.828Z"
   },
   {
    "duration": 7,
    "start_time": "2022-04-03T21:57:54.102Z"
   },
   {
    "duration": 102,
    "start_time": "2022-04-03T21:57:54.111Z"
   },
   {
    "duration": 158,
    "start_time": "2022-04-03T21:57:54.214Z"
   },
   {
    "duration": 75,
    "start_time": "2022-04-03T21:57:54.374Z"
   },
   {
    "duration": 213,
    "start_time": "2022-04-03T21:57:54.450Z"
   },
   {
    "duration": 90,
    "start_time": "2022-04-03T21:57:54.665Z"
   },
   {
    "duration": 5,
    "start_time": "2022-04-03T21:57:54.756Z"
   },
   {
    "duration": 8,
    "start_time": "2022-04-03T21:57:54.762Z"
   },
   {
    "duration": 16,
    "start_time": "2022-04-03T21:57:54.772Z"
   },
   {
    "duration": 6,
    "start_time": "2022-04-03T21:57:54.808Z"
   },
   {
    "duration": 8,
    "start_time": "2022-04-03T21:57:54.815Z"
   },
   {
    "duration": 5,
    "start_time": "2022-04-03T21:57:54.825Z"
   },
   {
    "duration": 4,
    "start_time": "2022-04-03T21:57:54.831Z"
   },
   {
    "duration": 81,
    "start_time": "2022-04-03T21:57:54.836Z"
   },
   {
    "duration": 96,
    "start_time": "2022-04-03T21:57:54.918Z"
   },
   {
    "duration": 56,
    "start_time": "2022-04-03T21:57:55.015Z"
   },
   {
    "duration": 251,
    "start_time": "2022-04-03T21:57:55.072Z"
   },
   {
    "duration": 534,
    "start_time": "2022-04-03T21:57:55.327Z"
   },
   {
    "duration": 555,
    "start_time": "2022-04-03T21:57:55.863Z"
   },
   {
    "duration": 562,
    "start_time": "2022-04-03T21:57:56.419Z"
   },
   {
    "duration": 359,
    "start_time": "2022-04-03T21:57:56.982Z"
   },
   {
    "duration": 9,
    "start_time": "2022-04-03T21:57:57.342Z"
   },
   {
    "duration": 467,
    "start_time": "2022-04-03T21:57:57.353Z"
   },
   {
    "duration": 4,
    "start_time": "2022-04-03T21:57:57.821Z"
   },
   {
    "duration": 71,
    "start_time": "2022-04-03T21:57:57.826Z"
   },
   {
    "duration": 75,
    "start_time": "2022-04-03T21:57:57.898Z"
   },
   {
    "duration": 79,
    "start_time": "2022-04-03T21:57:57.975Z"
   },
   {
    "duration": 75,
    "start_time": "2022-04-03T21:57:58.056Z"
   },
   {
    "duration": 60,
    "start_time": "2022-04-03T21:57:58.133Z"
   },
   {
    "duration": 65,
    "start_time": "2022-04-03T21:57:58.195Z"
   },
   {
    "duration": 15,
    "start_time": "2022-04-03T21:57:58.262Z"
   },
   {
    "duration": 1086,
    "start_time": "2022-04-03T21:57:58.279Z"
   },
   {
    "duration": 26,
    "start_time": "2022-04-03T21:57:59.367Z"
   },
   {
    "duration": 27,
    "start_time": "2022-04-03T21:57:59.395Z"
   },
   {
    "duration": 10,
    "start_time": "2022-04-03T21:57:59.423Z"
   },
   {
    "duration": 1489,
    "start_time": "2022-04-03T21:57:59.434Z"
   },
   {
    "duration": 30,
    "start_time": "2022-04-03T21:58:00.925Z"
   },
   {
    "duration": 890,
    "start_time": "2022-04-03T21:58:00.957Z"
   },
   {
    "duration": 780,
    "start_time": "2022-04-03T21:58:01.849Z"
   },
   {
    "duration": 790,
    "start_time": "2022-04-03T21:58:02.631Z"
   },
   {
    "duration": 29,
    "start_time": "2022-04-03T21:58:03.423Z"
   },
   {
    "duration": 1265,
    "start_time": "2022-04-03T21:58:03.454Z"
   },
   {
    "duration": 994,
    "start_time": "2022-04-03T21:58:04.721Z"
   },
   {
    "duration": 386,
    "start_time": "2022-04-03T21:58:05.717Z"
   },
   {
    "duration": 49,
    "start_time": "2022-04-03T21:58:06.105Z"
   },
   {
    "duration": 5,
    "start_time": "2022-04-03T21:58:06.156Z"
   },
   {
    "duration": 3,
    "start_time": "2022-04-03T21:58:06.163Z"
   },
   {
    "duration": 8,
    "start_time": "2022-04-03T21:58:06.167Z"
   },
   {
    "duration": 46,
    "start_time": "2022-04-03T21:58:06.176Z"
   },
   {
    "duration": 20,
    "start_time": "2022-04-03T21:58:06.224Z"
   },
   {
    "duration": 9,
    "start_time": "2022-04-03T21:58:06.246Z"
   },
   {
    "duration": 5,
    "start_time": "2022-04-03T21:58:30.997Z"
   },
   {
    "duration": 524,
    "start_time": "2022-04-03T21:58:40.052Z"
   },
   {
    "duration": 4,
    "start_time": "2022-04-03T21:58:45.023Z"
   },
   {
    "duration": 333,
    "start_time": "2022-04-03T21:58:47.076Z"
   },
   {
    "duration": 3,
    "start_time": "2022-04-03T21:58:53.718Z"
   },
   {
    "duration": 14,
    "start_time": "2022-04-03T21:59:05.605Z"
   },
   {
    "duration": 14,
    "start_time": "2022-04-03T21:59:12.738Z"
   },
   {
    "duration": 3,
    "start_time": "2022-04-03T21:59:21.403Z"
   },
   {
    "duration": 8,
    "start_time": "2022-04-03T22:00:04.664Z"
   },
   {
    "duration": 401,
    "start_time": "2022-04-03T22:00:04.673Z"
   },
   {
    "duration": 747,
    "start_time": "2022-04-03T22:00:05.076Z"
   },
   {
    "duration": 2985,
    "start_time": "2022-04-03T22:00:05.825Z"
   },
   {
    "duration": 3,
    "start_time": "2022-04-03T22:00:08.813Z"
   },
   {
    "duration": 5,
    "start_time": "2022-04-03T22:00:08.817Z"
   },
   {
    "duration": 5,
    "start_time": "2022-04-03T22:00:08.824Z"
   },
   {
    "duration": 6,
    "start_time": "2022-04-03T22:00:08.830Z"
   },
   {
    "duration": 6,
    "start_time": "2022-04-03T22:00:08.837Z"
   },
   {
    "duration": 5,
    "start_time": "2022-04-03T22:00:08.845Z"
   },
   {
    "duration": 5,
    "start_time": "2022-04-03T22:00:08.852Z"
   },
   {
    "duration": 8,
    "start_time": "2022-04-03T22:00:08.859Z"
   },
   {
    "duration": 10,
    "start_time": "2022-04-03T22:00:08.868Z"
   },
   {
    "duration": 35,
    "start_time": "2022-04-03T22:00:08.879Z"
   },
   {
    "duration": 4,
    "start_time": "2022-04-03T22:00:08.916Z"
   },
   {
    "duration": 12,
    "start_time": "2022-04-03T22:00:08.922Z"
   },
   {
    "duration": 7,
    "start_time": "2022-04-03T22:00:08.936Z"
   },
   {
    "duration": 12,
    "start_time": "2022-04-03T22:00:08.945Z"
   },
   {
    "duration": 4,
    "start_time": "2022-04-03T22:00:08.959Z"
   },
   {
    "duration": 1337,
    "start_time": "2022-04-03T22:00:08.964Z"
   },
   {
    "duration": 6,
    "start_time": "2022-04-03T22:00:10.303Z"
   },
   {
    "duration": 11,
    "start_time": "2022-04-03T22:00:10.310Z"
   },
   {
    "duration": 17,
    "start_time": "2022-04-03T22:00:10.322Z"
   },
   {
    "duration": 141,
    "start_time": "2022-04-03T22:00:10.341Z"
   },
   {
    "duration": 465,
    "start_time": "2022-04-03T22:00:10.484Z"
   },
   {
    "duration": 4,
    "start_time": "2022-04-03T22:00:10.951Z"
   },
   {
    "duration": 7,
    "start_time": "2022-04-03T22:00:10.956Z"
   },
   {
    "duration": 73,
    "start_time": "2022-04-03T22:00:10.964Z"
   },
   {
    "duration": 3,
    "start_time": "2022-04-03T22:00:11.042Z"
   },
   {
    "duration": 9,
    "start_time": "2022-04-03T22:00:11.046Z"
   },
   {
    "duration": 3,
    "start_time": "2022-04-03T22:00:11.057Z"
   },
   {
    "duration": 7,
    "start_time": "2022-04-03T22:00:11.061Z"
   },
   {
    "duration": 491,
    "start_time": "2022-04-03T22:00:11.070Z"
   },
   {
    "duration": 523,
    "start_time": "2022-04-03T22:00:11.563Z"
   },
   {
    "duration": 295,
    "start_time": "2022-04-03T22:00:12.088Z"
   },
   {
    "duration": 3,
    "start_time": "2022-04-03T22:00:12.385Z"
   },
   {
    "duration": 119,
    "start_time": "2022-04-03T22:00:12.390Z"
   },
   {
    "duration": 185,
    "start_time": "2022-04-03T22:00:12.511Z"
   },
   {
    "duration": 121,
    "start_time": "2022-04-03T22:00:12.698Z"
   },
   {
    "duration": 243,
    "start_time": "2022-04-03T22:00:12.820Z"
   },
   {
    "duration": 96,
    "start_time": "2022-04-03T22:00:13.065Z"
   },
   {
    "duration": 6,
    "start_time": "2022-04-03T22:00:13.163Z"
   },
   {
    "duration": 9,
    "start_time": "2022-04-03T22:00:13.171Z"
   },
   {
    "duration": 56,
    "start_time": "2022-04-03T22:00:13.181Z"
   },
   {
    "duration": 6,
    "start_time": "2022-04-03T22:00:13.238Z"
   },
   {
    "duration": 11,
    "start_time": "2022-04-03T22:00:13.245Z"
   },
   {
    "duration": 8,
    "start_time": "2022-04-03T22:00:13.257Z"
   },
   {
    "duration": 4,
    "start_time": "2022-04-03T22:00:13.267Z"
   },
   {
    "duration": 79,
    "start_time": "2022-04-03T22:00:13.272Z"
   },
   {
    "duration": 100,
    "start_time": "2022-04-03T22:00:13.353Z"
   },
   {
    "duration": 66,
    "start_time": "2022-04-03T22:00:13.455Z"
   },
   {
    "duration": 256,
    "start_time": "2022-04-03T22:00:13.522Z"
   },
   {
    "duration": 635,
    "start_time": "2022-04-03T22:00:13.780Z"
   },
   {
    "duration": 570,
    "start_time": "2022-04-03T22:00:14.417Z"
   },
   {
    "duration": 472,
    "start_time": "2022-04-03T22:00:14.989Z"
   },
   {
    "duration": 390,
    "start_time": "2022-04-03T22:00:15.463Z"
   },
   {
    "duration": 10,
    "start_time": "2022-04-03T22:00:15.855Z"
   },
   {
    "duration": 627,
    "start_time": "2022-04-03T22:00:15.867Z"
   },
   {
    "duration": 13,
    "start_time": "2022-04-03T22:00:16.496Z"
   },
   {
    "duration": 72,
    "start_time": "2022-04-03T22:00:16.511Z"
   },
   {
    "duration": 82,
    "start_time": "2022-04-03T22:00:16.584Z"
   },
   {
    "duration": 86,
    "start_time": "2022-04-03T22:00:16.669Z"
   },
   {
    "duration": 77,
    "start_time": "2022-04-03T22:00:16.757Z"
   },
   {
    "duration": 79,
    "start_time": "2022-04-03T22:00:16.836Z"
   },
   {
    "duration": 64,
    "start_time": "2022-04-03T22:00:16.917Z"
   },
   {
    "duration": 40,
    "start_time": "2022-04-03T22:00:16.983Z"
   },
   {
    "duration": 1026,
    "start_time": "2022-04-03T22:00:17.025Z"
   },
   {
    "duration": 31,
    "start_time": "2022-04-03T22:00:18.053Z"
   },
   {
    "duration": 36,
    "start_time": "2022-04-03T22:00:18.086Z"
   },
   {
    "duration": 14,
    "start_time": "2022-04-03T22:00:18.124Z"
   },
   {
    "duration": 1728,
    "start_time": "2022-04-03T22:00:18.140Z"
   },
   {
    "duration": 47,
    "start_time": "2022-04-03T22:00:19.871Z"
   },
   {
    "duration": 779,
    "start_time": "2022-04-03T22:00:19.920Z"
   },
   {
    "duration": 744,
    "start_time": "2022-04-03T22:00:20.708Z"
   },
   {
    "duration": 941,
    "start_time": "2022-04-03T22:00:21.454Z"
   },
   {
    "duration": 34,
    "start_time": "2022-04-03T22:00:22.408Z"
   },
   {
    "duration": 793,
    "start_time": "2022-04-03T22:00:22.444Z"
   },
   {
    "duration": 678,
    "start_time": "2022-04-03T22:00:23.239Z"
   },
   {
    "duration": 415,
    "start_time": "2022-04-03T22:00:23.919Z"
   },
   {
    "duration": 51,
    "start_time": "2022-04-03T22:00:24.336Z"
   },
   {
    "duration": 4,
    "start_time": "2022-04-03T22:00:24.389Z"
   },
   {
    "duration": 3,
    "start_time": "2022-04-03T22:00:24.408Z"
   },
   {
    "duration": 7,
    "start_time": "2022-04-03T22:00:24.416Z"
   },
   {
    "duration": 16,
    "start_time": "2022-04-03T22:00:24.425Z"
   },
   {
    "duration": 9,
    "start_time": "2022-04-03T22:00:24.443Z"
   },
   {
    "duration": 96,
    "start_time": "2022-04-03T22:00:24.454Z"
   },
   {
    "duration": 602,
    "start_time": "2022-04-03T22:00:24.552Z"
   },
   {
    "duration": 14,
    "start_time": "2022-04-03T22:00:25.156Z"
   },
   {
    "duration": 4,
    "start_time": "2022-04-03T22:00:25.172Z"
   },
   {
    "duration": 366,
    "start_time": "2022-04-03T22:00:25.178Z"
   },
   {
    "duration": 4,
    "start_time": "2022-04-03T22:00:25.545Z"
   },
   {
    "duration": 998,
    "start_time": "2022-04-03T22:00:25.550Z"
   },
   {
    "duration": 13,
    "start_time": "2022-04-03T22:00:26.550Z"
   },
   {
    "duration": 6,
    "start_time": "2022-04-03T22:00:26.565Z"
   },
   {
    "duration": 3,
    "start_time": "2022-04-03T22:01:02.363Z"
   },
   {
    "duration": 4,
    "start_time": "2022-04-03T22:01:45.960Z"
   },
   {
    "duration": 66,
    "start_time": "2022-04-03T22:01:47.400Z"
   },
   {
    "duration": 4,
    "start_time": "2022-04-03T22:03:07.043Z"
   },
   {
    "duration": 2,
    "start_time": "2022-04-03T22:03:08.979Z"
   },
   {
    "duration": 2,
    "start_time": "2022-04-03T22:03:09.467Z"
   },
   {
    "duration": 3,
    "start_time": "2022-04-03T22:03:16.647Z"
   },
   {
    "duration": 3,
    "start_time": "2022-04-03T22:03:18.031Z"
   },
   {
    "duration": 3,
    "start_time": "2022-04-03T22:03:21.153Z"
   },
   {
    "duration": 7,
    "start_time": "2022-04-03T22:06:44.541Z"
   },
   {
    "duration": 391,
    "start_time": "2022-04-03T22:06:44.555Z"
   },
   {
    "duration": 769,
    "start_time": "2022-04-03T22:06:44.948Z"
   },
   {
    "duration": 3130,
    "start_time": "2022-04-03T22:06:45.719Z"
   },
   {
    "duration": 3,
    "start_time": "2022-04-03T22:06:48.850Z"
   },
   {
    "duration": 5,
    "start_time": "2022-04-03T22:06:48.855Z"
   },
   {
    "duration": 4,
    "start_time": "2022-04-03T22:06:48.862Z"
   },
   {
    "duration": 5,
    "start_time": "2022-04-03T22:06:48.867Z"
   },
   {
    "duration": 7,
    "start_time": "2022-04-03T22:06:48.874Z"
   },
   {
    "duration": 5,
    "start_time": "2022-04-03T22:06:48.882Z"
   },
   {
    "duration": 4,
    "start_time": "2022-04-03T22:06:48.888Z"
   },
   {
    "duration": 7,
    "start_time": "2022-04-03T22:06:48.894Z"
   },
   {
    "duration": 8,
    "start_time": "2022-04-03T22:06:48.903Z"
   },
   {
    "duration": 7,
    "start_time": "2022-04-03T22:06:48.913Z"
   },
   {
    "duration": 3,
    "start_time": "2022-04-03T22:06:48.924Z"
   },
   {
    "duration": 12,
    "start_time": "2022-04-03T22:06:48.928Z"
   },
   {
    "duration": 7,
    "start_time": "2022-04-03T22:06:48.941Z"
   },
   {
    "duration": 6,
    "start_time": "2022-04-03T22:06:48.949Z"
   },
   {
    "duration": 5,
    "start_time": "2022-04-03T22:06:48.956Z"
   },
   {
    "duration": 1665,
    "start_time": "2022-04-03T22:06:48.962Z"
   },
   {
    "duration": 3,
    "start_time": "2022-04-03T22:06:50.629Z"
   },
   {
    "duration": 8,
    "start_time": "2022-04-03T22:06:50.634Z"
   },
   {
    "duration": 16,
    "start_time": "2022-04-03T22:06:50.644Z"
   },
   {
    "duration": 156,
    "start_time": "2022-04-03T22:06:50.661Z"
   },
   {
    "duration": 470,
    "start_time": "2022-04-03T22:06:50.819Z"
   },
   {
    "duration": 4,
    "start_time": "2022-04-03T22:06:51.290Z"
   },
   {
    "duration": 15,
    "start_time": "2022-04-03T22:06:51.295Z"
   },
   {
    "duration": 56,
    "start_time": "2022-04-03T22:06:51.311Z"
   },
   {
    "duration": 4,
    "start_time": "2022-04-03T22:06:51.368Z"
   },
   {
    "duration": 11,
    "start_time": "2022-04-03T22:06:51.373Z"
   },
   {
    "duration": 5,
    "start_time": "2022-04-03T22:06:51.385Z"
   },
   {
    "duration": 20,
    "start_time": "2022-04-03T22:06:51.391Z"
   },
   {
    "duration": 475,
    "start_time": "2022-04-03T22:06:51.413Z"
   },
   {
    "duration": 502,
    "start_time": "2022-04-03T22:06:51.890Z"
   },
   {
    "duration": 292,
    "start_time": "2022-04-03T22:06:52.393Z"
   },
   {
    "duration": 3,
    "start_time": "2022-04-03T22:06:52.687Z"
   },
   {
    "duration": 110,
    "start_time": "2022-04-03T22:06:52.692Z"
   },
   {
    "duration": 182,
    "start_time": "2022-04-03T22:06:52.803Z"
   },
   {
    "duration": 123,
    "start_time": "2022-04-03T22:06:52.987Z"
   },
   {
    "duration": 216,
    "start_time": "2022-04-03T22:06:53.112Z"
   },
   {
    "duration": 89,
    "start_time": "2022-04-03T22:06:53.330Z"
   },
   {
    "duration": 16,
    "start_time": "2022-04-03T22:06:53.425Z"
   },
   {
    "duration": 10,
    "start_time": "2022-04-03T22:06:53.443Z"
   },
   {
    "duration": 18,
    "start_time": "2022-04-03T22:06:53.454Z"
   },
   {
    "duration": 6,
    "start_time": "2022-04-03T22:06:53.474Z"
   },
   {
    "duration": 8,
    "start_time": "2022-04-03T22:06:53.481Z"
   },
   {
    "duration": 6,
    "start_time": "2022-04-03T22:06:53.509Z"
   },
   {
    "duration": 4,
    "start_time": "2022-04-03T22:06:53.516Z"
   },
   {
    "duration": 64,
    "start_time": "2022-04-03T22:06:53.521Z"
   },
   {
    "duration": 105,
    "start_time": "2022-04-03T22:06:53.587Z"
   },
   {
    "duration": 65,
    "start_time": "2022-04-03T22:06:53.693Z"
   },
   {
    "duration": 255,
    "start_time": "2022-04-03T22:06:53.760Z"
   },
   {
    "duration": 618,
    "start_time": "2022-04-03T22:06:54.017Z"
   },
   {
    "duration": 542,
    "start_time": "2022-04-03T22:06:54.636Z"
   },
   {
    "duration": 442,
    "start_time": "2022-04-03T22:06:55.179Z"
   },
   {
    "duration": 362,
    "start_time": "2022-04-03T22:06:55.623Z"
   },
   {
    "duration": 23,
    "start_time": "2022-04-03T22:06:55.986Z"
   },
   {
    "duration": 598,
    "start_time": "2022-04-03T22:06:56.011Z"
   },
   {
    "duration": 3,
    "start_time": "2022-04-03T22:06:56.611Z"
   },
   {
    "duration": 70,
    "start_time": "2022-04-03T22:06:56.616Z"
   },
   {
    "duration": 84,
    "start_time": "2022-04-03T22:06:56.687Z"
   },
   {
    "duration": 75,
    "start_time": "2022-04-03T22:06:56.773Z"
   },
   {
    "duration": 77,
    "start_time": "2022-04-03T22:06:56.850Z"
   },
   {
    "duration": 63,
    "start_time": "2022-04-03T22:06:56.928Z"
   },
   {
    "duration": 71,
    "start_time": "2022-04-03T22:06:56.992Z"
   },
   {
    "duration": 17,
    "start_time": "2022-04-03T22:06:57.064Z"
   },
   {
    "duration": 969,
    "start_time": "2022-04-03T22:06:57.082Z"
   },
   {
    "duration": 27,
    "start_time": "2022-04-03T22:06:58.053Z"
   },
   {
    "duration": 33,
    "start_time": "2022-04-03T22:06:58.082Z"
   },
   {
    "duration": 11,
    "start_time": "2022-04-03T22:06:58.116Z"
   },
   {
    "duration": 1611,
    "start_time": "2022-04-03T22:06:58.129Z"
   },
   {
    "duration": 33,
    "start_time": "2022-04-03T22:06:59.741Z"
   },
   {
    "duration": 741,
    "start_time": "2022-04-03T22:06:59.776Z"
   },
   {
    "duration": 729,
    "start_time": "2022-04-03T22:07:00.519Z"
   },
   {
    "duration": 941,
    "start_time": "2022-04-03T22:07:01.250Z"
   },
   {
    "duration": 41,
    "start_time": "2022-04-03T22:07:02.192Z"
   },
   {
    "duration": 761,
    "start_time": "2022-04-03T22:07:02.235Z"
   },
   {
    "duration": 690,
    "start_time": "2022-04-03T22:07:02.998Z"
   },
   {
    "duration": 371,
    "start_time": "2022-04-03T22:07:03.690Z"
   },
   {
    "duration": 57,
    "start_time": "2022-04-03T22:07:04.062Z"
   },
   {
    "duration": 4,
    "start_time": "2022-04-03T22:07:04.121Z"
   },
   {
    "duration": 3,
    "start_time": "2022-04-03T22:07:04.127Z"
   },
   {
    "duration": 10,
    "start_time": "2022-04-03T22:07:04.132Z"
   },
   {
    "duration": 16,
    "start_time": "2022-04-03T22:07:04.143Z"
   },
   {
    "duration": 48,
    "start_time": "2022-04-03T22:07:04.161Z"
   },
   {
    "duration": 9,
    "start_time": "2022-04-03T22:07:04.211Z"
   },
   {
    "duration": 89,
    "start_time": "2022-04-03T22:07:04.221Z"
   },
   {
    "duration": 652,
    "start_time": "2022-04-03T22:07:04.312Z"
   },
   {
    "duration": 15,
    "start_time": "2022-04-03T22:07:04.965Z"
   },
   {
    "duration": 4,
    "start_time": "2022-04-03T22:07:04.982Z"
   },
   {
    "duration": 365,
    "start_time": "2022-04-03T22:07:04.987Z"
   },
   {
    "duration": 3,
    "start_time": "2022-04-03T22:07:05.354Z"
   },
   {
    "duration": 992,
    "start_time": "2022-04-03T22:07:05.359Z"
   },
   {
    "duration": 13,
    "start_time": "2022-04-03T22:07:06.353Z"
   },
   {
    "duration": 6,
    "start_time": "2022-04-03T22:07:06.368Z"
   },
   {
    "duration": 6,
    "start_time": "2022-04-03T22:07:06.375Z"
   },
   {
    "duration": 89,
    "start_time": "2022-04-03T22:07:06.382Z"
   },
   {
    "duration": 14,
    "start_time": "2022-04-03T22:07:06.473Z"
   },
   {
    "duration": 4,
    "start_time": "2022-04-03T22:07:06.488Z"
   },
   {
    "duration": 2,
    "start_time": "2022-04-03T22:07:06.509Z"
   },
   {
    "duration": 5,
    "start_time": "2022-04-03T22:07:06.513Z"
   },
   {
    "duration": 4,
    "start_time": "2022-04-03T22:07:06.519Z"
   },
   {
    "duration": 4,
    "start_time": "2022-04-03T22:07:06.525Z"
   },
   {
    "duration": 4,
    "start_time": "2022-04-03T22:07:06.530Z"
   },
   {
    "duration": 105,
    "start_time": "2022-04-03T22:08:41.741Z"
   },
   {
    "duration": 3,
    "start_time": "2022-04-03T22:08:46.387Z"
   },
   {
    "duration": 465,
    "start_time": "2022-04-03T22:08:46.392Z"
   },
   {
    "duration": 765,
    "start_time": "2022-04-03T22:08:46.859Z"
   },
   {
    "duration": 3047,
    "start_time": "2022-04-03T22:08:47.626Z"
   },
   {
    "duration": 3,
    "start_time": "2022-04-03T22:08:50.675Z"
   },
   {
    "duration": 5,
    "start_time": "2022-04-03T22:08:50.679Z"
   },
   {
    "duration": 5,
    "start_time": "2022-04-03T22:08:50.685Z"
   },
   {
    "duration": 6,
    "start_time": "2022-04-03T22:08:50.691Z"
   },
   {
    "duration": 8,
    "start_time": "2022-04-03T22:08:50.698Z"
   },
   {
    "duration": 5,
    "start_time": "2022-04-03T22:08:50.707Z"
   },
   {
    "duration": 6,
    "start_time": "2022-04-03T22:08:50.713Z"
   },
   {
    "duration": 8,
    "start_time": "2022-04-03T22:08:50.720Z"
   },
   {
    "duration": 8,
    "start_time": "2022-04-03T22:08:50.730Z"
   },
   {
    "duration": 4,
    "start_time": "2022-04-03T22:08:50.742Z"
   },
   {
    "duration": 4,
    "start_time": "2022-04-03T22:08:50.748Z"
   },
   {
    "duration": 11,
    "start_time": "2022-04-03T22:08:50.754Z"
   },
   {
    "duration": 6,
    "start_time": "2022-04-03T22:08:50.767Z"
   },
   {
    "duration": 39,
    "start_time": "2022-04-03T22:08:50.775Z"
   },
   {
    "duration": 5,
    "start_time": "2022-04-03T22:08:50.815Z"
   },
   {
    "duration": 2818,
    "start_time": "2022-04-03T22:08:50.822Z"
   },
   {
    "duration": 3,
    "start_time": "2022-04-03T22:08:53.642Z"
   },
   {
    "duration": 9,
    "start_time": "2022-04-03T22:08:53.646Z"
   },
   {
    "duration": 17,
    "start_time": "2022-04-03T22:08:53.656Z"
   },
   {
    "duration": 149,
    "start_time": "2022-04-03T22:08:53.674Z"
   },
   {
    "duration": 449,
    "start_time": "2022-04-03T22:08:53.824Z"
   },
   {
    "duration": 4,
    "start_time": "2022-04-03T22:08:54.274Z"
   },
   {
    "duration": 6,
    "start_time": "2022-04-03T22:08:54.280Z"
   },
   {
    "duration": 71,
    "start_time": "2022-04-03T22:08:54.287Z"
   },
   {
    "duration": 3,
    "start_time": "2022-04-03T22:08:54.359Z"
   },
   {
    "duration": 7,
    "start_time": "2022-04-03T22:08:54.364Z"
   },
   {
    "duration": 3,
    "start_time": "2022-04-03T22:08:54.373Z"
   },
   {
    "duration": 7,
    "start_time": "2022-04-03T22:08:54.377Z"
   },
   {
    "duration": 485,
    "start_time": "2022-04-03T22:08:54.385Z"
   },
   {
    "duration": 492,
    "start_time": "2022-04-03T22:08:54.872Z"
   },
   {
    "duration": 286,
    "start_time": "2022-04-03T22:08:55.366Z"
   },
   {
    "duration": 3,
    "start_time": "2022-04-03T22:08:55.653Z"
   },
   {
    "duration": 114,
    "start_time": "2022-04-03T22:08:55.658Z"
   },
   {
    "duration": 186,
    "start_time": "2022-04-03T22:08:55.774Z"
   },
   {
    "duration": 125,
    "start_time": "2022-04-03T22:08:55.962Z"
   },
   {
    "duration": 246,
    "start_time": "2022-04-03T22:08:56.088Z"
   },
   {
    "duration": 97,
    "start_time": "2022-04-03T22:08:56.340Z"
   },
   {
    "duration": 5,
    "start_time": "2022-04-03T22:08:56.439Z"
   },
   {
    "duration": 9,
    "start_time": "2022-04-03T22:08:56.445Z"
   },
   {
    "duration": 54,
    "start_time": "2022-04-03T22:08:56.455Z"
   },
   {
    "duration": 5,
    "start_time": "2022-04-03T22:08:56.511Z"
   },
   {
    "duration": 12,
    "start_time": "2022-04-03T22:08:56.517Z"
   },
   {
    "duration": 5,
    "start_time": "2022-04-03T22:08:56.531Z"
   },
   {
    "duration": 4,
    "start_time": "2022-04-03T22:08:56.538Z"
   },
   {
    "duration": 85,
    "start_time": "2022-04-03T22:08:56.543Z"
   },
   {
    "duration": 94,
    "start_time": "2022-04-03T22:08:56.630Z"
   },
   {
    "duration": 59,
    "start_time": "2022-04-03T22:08:56.726Z"
   },
   {
    "duration": 262,
    "start_time": "2022-04-03T22:08:56.786Z"
   },
   {
    "duration": 627,
    "start_time": "2022-04-03T22:08:57.050Z"
   },
   {
    "duration": 550,
    "start_time": "2022-04-03T22:08:57.679Z"
   },
   {
    "duration": 451,
    "start_time": "2022-04-03T22:08:58.230Z"
   },
   {
    "duration": 367,
    "start_time": "2022-04-03T22:08:58.683Z"
   },
   {
    "duration": 11,
    "start_time": "2022-04-03T22:08:59.052Z"
   },
   {
    "duration": 593,
    "start_time": "2022-04-03T22:08:59.065Z"
   },
   {
    "duration": 4,
    "start_time": "2022-04-03T22:08:59.659Z"
   },
   {
    "duration": 79,
    "start_time": "2022-04-03T22:08:59.664Z"
   },
   {
    "duration": 73,
    "start_time": "2022-04-03T22:08:59.745Z"
   },
   {
    "duration": 64,
    "start_time": "2022-04-03T22:08:59.820Z"
   },
   {
    "duration": 76,
    "start_time": "2022-04-03T22:08:59.886Z"
   },
   {
    "duration": 76,
    "start_time": "2022-04-03T22:08:59.964Z"
   },
   {
    "duration": 69,
    "start_time": "2022-04-03T22:09:00.041Z"
   },
   {
    "duration": 25,
    "start_time": "2022-04-03T22:09:00.112Z"
   },
   {
    "duration": 1003,
    "start_time": "2022-04-03T22:09:00.139Z"
   },
   {
    "duration": 28,
    "start_time": "2022-04-03T22:09:01.143Z"
   },
   {
    "duration": 17,
    "start_time": "2022-04-03T22:09:01.172Z"
   },
   {
    "duration": 11,
    "start_time": "2022-04-03T22:09:01.208Z"
   },
   {
    "duration": 1614,
    "start_time": "2022-04-03T22:09:01.221Z"
   },
   {
    "duration": 32,
    "start_time": "2022-04-03T22:09:02.837Z"
   },
   {
    "duration": 748,
    "start_time": "2022-04-03T22:09:02.871Z"
   },
   {
    "duration": 758,
    "start_time": "2022-04-03T22:09:03.621Z"
   },
   {
    "duration": 934,
    "start_time": "2022-04-03T22:09:04.380Z"
   },
   {
    "duration": 35,
    "start_time": "2022-04-03T22:09:05.316Z"
   },
   {
    "duration": 774,
    "start_time": "2022-04-03T22:09:05.353Z"
   },
   {
    "duration": 681,
    "start_time": "2022-04-03T22:09:06.128Z"
   },
   {
    "duration": 401,
    "start_time": "2022-04-03T22:09:06.810Z"
   },
   {
    "duration": 50,
    "start_time": "2022-04-03T22:09:07.212Z"
   },
   {
    "duration": 5,
    "start_time": "2022-04-03T22:09:07.264Z"
   },
   {
    "duration": 3,
    "start_time": "2022-04-03T22:09:07.270Z"
   },
   {
    "duration": 35,
    "start_time": "2022-04-03T22:09:07.275Z"
   },
   {
    "duration": 16,
    "start_time": "2022-04-03T22:09:07.312Z"
   },
   {
    "duration": 20,
    "start_time": "2022-04-03T22:09:07.330Z"
   },
   {
    "duration": 10,
    "start_time": "2022-04-03T22:09:07.352Z"
   },
   {
    "duration": 99,
    "start_time": "2022-04-03T22:09:07.364Z"
   },
   {
    "duration": 613,
    "start_time": "2022-04-03T22:09:07.464Z"
   },
   {
    "duration": 15,
    "start_time": "2022-04-03T22:09:08.079Z"
   },
   {
    "duration": 4,
    "start_time": "2022-04-03T22:09:08.108Z"
   },
   {
    "duration": 356,
    "start_time": "2022-04-03T22:09:08.114Z"
   },
   {
    "duration": 3,
    "start_time": "2022-04-03T22:09:08.472Z"
   },
   {
    "duration": 992,
    "start_time": "2022-04-03T22:09:08.477Z"
   },
   {
    "duration": 15,
    "start_time": "2022-04-03T22:09:09.471Z"
   },
   {
    "duration": 21,
    "start_time": "2022-04-03T22:09:09.488Z"
   },
   {
    "duration": 4,
    "start_time": "2022-04-03T22:09:09.511Z"
   },
   {
    "duration": 71,
    "start_time": "2022-04-03T22:09:09.516Z"
   },
   {
    "duration": 27,
    "start_time": "2022-04-03T22:09:09.589Z"
   },
   {
    "duration": 5,
    "start_time": "2022-04-03T22:09:09.617Z"
   },
   {
    "duration": 4,
    "start_time": "2022-04-03T22:09:09.624Z"
   },
   {
    "duration": 5,
    "start_time": "2022-04-03T22:09:09.629Z"
   },
   {
    "duration": 7,
    "start_time": "2022-04-03T22:09:09.636Z"
   },
   {
    "duration": 5,
    "start_time": "2022-04-03T22:09:09.645Z"
   },
   {
    "duration": 4,
    "start_time": "2022-04-03T22:09:09.651Z"
   },
   {
    "duration": 7,
    "start_time": "2022-04-03T22:10:52.192Z"
   },
   {
    "duration": 431,
    "start_time": "2022-04-03T22:10:52.203Z"
   },
   {
    "duration": 759,
    "start_time": "2022-04-03T22:10:52.636Z"
   },
   {
    "duration": 3072,
    "start_time": "2022-04-03T22:10:53.396Z"
   },
   {
    "duration": 3,
    "start_time": "2022-04-03T22:10:56.470Z"
   },
   {
    "duration": 4,
    "start_time": "2022-04-03T22:10:56.475Z"
   },
   {
    "duration": 4,
    "start_time": "2022-04-03T22:10:56.481Z"
   },
   {
    "duration": 7,
    "start_time": "2022-04-03T22:10:56.486Z"
   },
   {
    "duration": 6,
    "start_time": "2022-04-03T22:10:56.494Z"
   },
   {
    "duration": 4,
    "start_time": "2022-04-03T22:10:56.502Z"
   },
   {
    "duration": 4,
    "start_time": "2022-04-03T22:10:56.508Z"
   },
   {
    "duration": 7,
    "start_time": "2022-04-03T22:10:56.513Z"
   },
   {
    "duration": 12,
    "start_time": "2022-04-03T22:10:56.521Z"
   },
   {
    "duration": 18,
    "start_time": "2022-04-03T22:10:56.534Z"
   },
   {
    "duration": 12,
    "start_time": "2022-04-03T22:10:56.553Z"
   },
   {
    "duration": 12,
    "start_time": "2022-04-03T22:10:56.567Z"
   },
   {
    "duration": 34,
    "start_time": "2022-04-03T22:10:56.580Z"
   },
   {
    "duration": 33,
    "start_time": "2022-04-03T22:10:56.616Z"
   },
   {
    "duration": 21,
    "start_time": "2022-04-03T22:10:56.651Z"
   },
   {
    "duration": 3413,
    "start_time": "2022-04-03T22:10:56.673Z"
   },
   {
    "duration": 3,
    "start_time": "2022-04-03T22:11:00.088Z"
   },
   {
    "duration": 16,
    "start_time": "2022-04-03T22:11:00.093Z"
   },
   {
    "duration": 16,
    "start_time": "2022-04-03T22:11:00.111Z"
   },
   {
    "duration": 145,
    "start_time": "2022-04-03T22:11:00.128Z"
   },
   {
    "duration": 486,
    "start_time": "2022-04-03T22:11:00.275Z"
   },
   {
    "duration": 4,
    "start_time": "2022-04-03T22:11:00.763Z"
   },
   {
    "duration": 8,
    "start_time": "2022-04-03T22:11:00.768Z"
   },
   {
    "duration": 72,
    "start_time": "2022-04-03T22:11:00.778Z"
   },
   {
    "duration": 3,
    "start_time": "2022-04-03T22:11:00.855Z"
   },
   {
    "duration": 8,
    "start_time": "2022-04-03T22:11:00.859Z"
   },
   {
    "duration": 5,
    "start_time": "2022-04-03T22:11:00.868Z"
   },
   {
    "duration": 7,
    "start_time": "2022-04-03T22:11:00.874Z"
   },
   {
    "duration": 475,
    "start_time": "2022-04-03T22:11:00.883Z"
   },
   {
    "duration": 561,
    "start_time": "2022-04-03T22:11:01.360Z"
   },
   {
    "duration": 312,
    "start_time": "2022-04-03T22:11:01.923Z"
   },
   {
    "duration": 4,
    "start_time": "2022-04-03T22:11:02.236Z"
   },
   {
    "duration": 123,
    "start_time": "2022-04-03T22:11:02.242Z"
   },
   {
    "duration": 195,
    "start_time": "2022-04-03T22:11:02.367Z"
   },
   {
    "duration": 125,
    "start_time": "2022-04-03T22:11:02.564Z"
   },
   {
    "duration": 225,
    "start_time": "2022-04-03T22:11:02.690Z"
   },
   {
    "duration": 98,
    "start_time": "2022-04-03T22:11:02.916Z"
   },
   {
    "duration": 5,
    "start_time": "2022-04-03T22:11:03.016Z"
   },
   {
    "duration": 8,
    "start_time": "2022-04-03T22:11:03.023Z"
   },
   {
    "duration": 16,
    "start_time": "2022-04-03T22:11:03.033Z"
   },
   {
    "duration": 6,
    "start_time": "2022-04-03T22:11:03.051Z"
   },
   {
    "duration": 8,
    "start_time": "2022-04-03T22:11:03.059Z"
   },
   {
    "duration": 45,
    "start_time": "2022-04-03T22:11:03.069Z"
   },
   {
    "duration": 10,
    "start_time": "2022-04-03T22:11:03.116Z"
   },
   {
    "duration": 62,
    "start_time": "2022-04-03T22:11:03.127Z"
   },
   {
    "duration": 107,
    "start_time": "2022-04-03T22:11:03.191Z"
   },
   {
    "duration": 64,
    "start_time": "2022-04-03T22:11:03.300Z"
   },
   {
    "duration": 251,
    "start_time": "2022-04-03T22:11:03.366Z"
   },
   {
    "duration": 633,
    "start_time": "2022-04-03T22:11:03.619Z"
   },
   {
    "duration": 581,
    "start_time": "2022-04-03T22:11:04.254Z"
   },
   {
    "duration": 459,
    "start_time": "2022-04-03T22:11:04.836Z"
   },
   {
    "duration": 370,
    "start_time": "2022-04-03T22:11:05.309Z"
   },
   {
    "duration": 13,
    "start_time": "2022-04-03T22:11:05.680Z"
   },
   {
    "duration": 586,
    "start_time": "2022-04-03T22:11:05.710Z"
   },
   {
    "duration": 3,
    "start_time": "2022-04-03T22:11:06.309Z"
   },
   {
    "duration": 67,
    "start_time": "2022-04-03T22:11:06.314Z"
   },
   {
    "duration": 81,
    "start_time": "2022-04-03T22:11:06.383Z"
   },
   {
    "duration": 78,
    "start_time": "2022-04-03T22:11:06.466Z"
   },
   {
    "duration": 78,
    "start_time": "2022-04-03T22:11:06.546Z"
   },
   {
    "duration": 60,
    "start_time": "2022-04-03T22:11:06.627Z"
   },
   {
    "duration": 78,
    "start_time": "2022-04-03T22:11:06.689Z"
   },
   {
    "duration": 19,
    "start_time": "2022-04-03T22:11:06.769Z"
   },
   {
    "duration": 945,
    "start_time": "2022-04-03T22:11:06.810Z"
   },
   {
    "duration": 30,
    "start_time": "2022-04-03T22:11:07.758Z"
   },
   {
    "duration": 31,
    "start_time": "2022-04-03T22:11:07.790Z"
   },
   {
    "duration": 12,
    "start_time": "2022-04-03T22:11:07.823Z"
   },
   {
    "duration": 1711,
    "start_time": "2022-04-03T22:11:07.837Z"
   },
   {
    "duration": 32,
    "start_time": "2022-04-03T22:11:09.550Z"
   },
   {
    "duration": 791,
    "start_time": "2022-04-03T22:11:09.584Z"
   },
   {
    "duration": 801,
    "start_time": "2022-04-03T22:11:10.377Z"
   },
   {
    "duration": 940,
    "start_time": "2022-04-03T22:11:11.180Z"
   },
   {
    "duration": 34,
    "start_time": "2022-04-03T22:11:12.121Z"
   },
   {
    "duration": 797,
    "start_time": "2022-04-03T22:11:12.156Z"
   },
   {
    "duration": 747,
    "start_time": "2022-04-03T22:11:12.955Z"
   },
   {
    "duration": 400,
    "start_time": "2022-04-03T22:11:13.708Z"
   },
   {
    "duration": 52,
    "start_time": "2022-04-03T22:11:14.110Z"
   },
   {
    "duration": 5,
    "start_time": "2022-04-03T22:11:14.164Z"
   },
   {
    "duration": 3,
    "start_time": "2022-04-03T22:11:14.171Z"
   },
   {
    "duration": 8,
    "start_time": "2022-04-03T22:11:14.209Z"
   },
   {
    "duration": 15,
    "start_time": "2022-04-03T22:11:14.219Z"
   },
   {
    "duration": 21,
    "start_time": "2022-04-03T22:11:14.236Z"
   },
   {
    "duration": 9,
    "start_time": "2022-04-03T22:11:14.259Z"
   },
   {
    "duration": 104,
    "start_time": "2022-04-03T22:11:14.269Z"
   },
   {
    "duration": 659,
    "start_time": "2022-04-03T22:11:14.375Z"
   },
   {
    "duration": 15,
    "start_time": "2022-04-03T22:11:15.036Z"
   },
   {
    "duration": 7,
    "start_time": "2022-04-03T22:11:15.053Z"
   },
   {
    "duration": 370,
    "start_time": "2022-04-03T22:11:15.061Z"
   },
   {
    "duration": 3,
    "start_time": "2022-04-03T22:11:15.432Z"
   },
   {
    "duration": 1013,
    "start_time": "2022-04-03T22:11:15.437Z"
   },
   {
    "duration": 14,
    "start_time": "2022-04-03T22:11:16.452Z"
   },
   {
    "duration": 3,
    "start_time": "2022-04-03T22:11:16.467Z"
   },
   {
    "duration": 5,
    "start_time": "2022-04-03T22:11:16.472Z"
   },
   {
    "duration": 114,
    "start_time": "2022-04-03T22:11:16.479Z"
   },
   {
    "duration": 20,
    "start_time": "2022-04-03T22:11:16.595Z"
   },
   {
    "duration": 6,
    "start_time": "2022-04-03T22:11:16.616Z"
   },
   {
    "duration": 4,
    "start_time": "2022-04-03T22:11:16.623Z"
   },
   {
    "duration": 4,
    "start_time": "2022-04-03T22:11:16.629Z"
   },
   {
    "duration": 5,
    "start_time": "2022-04-03T22:11:16.634Z"
   },
   {
    "duration": 4,
    "start_time": "2022-04-03T22:11:16.640Z"
   },
   {
    "duration": 4,
    "start_time": "2022-04-03T22:11:16.646Z"
   },
   {
    "duration": 47,
    "start_time": "2022-04-03T22:11:32.059Z"
   },
   {
    "duration": 0,
    "start_time": "2022-04-03T22:11:32.108Z"
   },
   {
    "duration": 0,
    "start_time": "2022-04-03T22:11:32.109Z"
   },
   {
    "duration": 0,
    "start_time": "2022-04-03T22:11:32.111Z"
   },
   {
    "duration": 0,
    "start_time": "2022-04-03T22:11:32.112Z"
   },
   {
    "duration": 0,
    "start_time": "2022-04-03T22:11:32.112Z"
   },
   {
    "duration": 0,
    "start_time": "2022-04-03T22:11:32.113Z"
   },
   {
    "duration": 0,
    "start_time": "2022-04-03T22:11:32.115Z"
   },
   {
    "duration": 0,
    "start_time": "2022-04-03T22:11:32.116Z"
   },
   {
    "duration": 0,
    "start_time": "2022-04-03T22:11:32.117Z"
   },
   {
    "duration": 0,
    "start_time": "2022-04-03T22:11:32.118Z"
   },
   {
    "duration": 0,
    "start_time": "2022-04-03T22:11:32.119Z"
   },
   {
    "duration": 0,
    "start_time": "2022-04-03T22:11:32.120Z"
   },
   {
    "duration": 0,
    "start_time": "2022-04-03T22:11:32.120Z"
   },
   {
    "duration": 0,
    "start_time": "2022-04-03T22:11:32.121Z"
   },
   {
    "duration": 0,
    "start_time": "2022-04-03T22:11:32.122Z"
   },
   {
    "duration": 0,
    "start_time": "2022-04-03T22:11:32.123Z"
   },
   {
    "duration": 0,
    "start_time": "2022-04-03T22:11:32.124Z"
   },
   {
    "duration": 0,
    "start_time": "2022-04-03T22:11:32.125Z"
   },
   {
    "duration": 0,
    "start_time": "2022-04-03T22:11:32.126Z"
   },
   {
    "duration": 0,
    "start_time": "2022-04-03T22:11:32.127Z"
   },
   {
    "duration": 0,
    "start_time": "2022-04-03T22:11:32.128Z"
   },
   {
    "duration": 0,
    "start_time": "2022-04-03T22:11:32.128Z"
   },
   {
    "duration": 0,
    "start_time": "2022-04-03T22:11:32.129Z"
   },
   {
    "duration": 0,
    "start_time": "2022-04-03T22:11:32.130Z"
   },
   {
    "duration": 0,
    "start_time": "2022-04-03T22:11:32.131Z"
   },
   {
    "duration": 0,
    "start_time": "2022-04-03T22:11:32.132Z"
   },
   {
    "duration": 0,
    "start_time": "2022-04-03T22:11:32.133Z"
   },
   {
    "duration": 0,
    "start_time": "2022-04-03T22:11:32.133Z"
   },
   {
    "duration": 0,
    "start_time": "2022-04-03T22:11:32.134Z"
   },
   {
    "duration": 0,
    "start_time": "2022-04-03T22:11:32.135Z"
   },
   {
    "duration": 0,
    "start_time": "2022-04-03T22:11:32.136Z"
   },
   {
    "duration": 0,
    "start_time": "2022-04-03T22:11:32.137Z"
   },
   {
    "duration": 0,
    "start_time": "2022-04-03T22:11:32.138Z"
   },
   {
    "duration": 0,
    "start_time": "2022-04-03T22:11:32.139Z"
   },
   {
    "duration": 440,
    "start_time": "2022-04-03T22:12:13.685Z"
   },
   {
    "duration": 793,
    "start_time": "2022-04-03T22:12:14.127Z"
   },
   {
    "duration": 2867,
    "start_time": "2022-04-03T22:12:14.921Z"
   },
   {
    "duration": 3,
    "start_time": "2022-04-03T22:12:17.790Z"
   },
   {
    "duration": 6,
    "start_time": "2022-04-03T22:12:17.794Z"
   },
   {
    "duration": 8,
    "start_time": "2022-04-03T22:12:17.801Z"
   },
   {
    "duration": 6,
    "start_time": "2022-04-03T22:12:17.810Z"
   },
   {
    "duration": 7,
    "start_time": "2022-04-03T22:12:17.817Z"
   },
   {
    "duration": 4,
    "start_time": "2022-04-03T22:12:17.826Z"
   },
   {
    "duration": 5,
    "start_time": "2022-04-03T22:12:17.831Z"
   },
   {
    "duration": 8,
    "start_time": "2022-04-03T22:12:17.933Z"
   },
   {
    "duration": 9,
    "start_time": "2022-04-03T22:12:18.509Z"
   },
   {
    "duration": 5,
    "start_time": "2022-04-03T22:12:18.743Z"
   },
   {
    "duration": 3,
    "start_time": "2022-04-03T22:12:19.132Z"
   },
   {
    "duration": 11,
    "start_time": "2022-04-03T22:12:19.259Z"
   },
   {
    "duration": 4,
    "start_time": "2022-04-03T22:12:19.457Z"
   },
   {
    "duration": 6,
    "start_time": "2022-04-03T22:12:19.662Z"
   },
   {
    "duration": 2,
    "start_time": "2022-04-03T22:12:21.110Z"
   },
   {
    "duration": 1400,
    "start_time": "2022-04-03T22:12:21.336Z"
   },
   {
    "duration": 4,
    "start_time": "2022-04-03T22:12:25.202Z"
   },
   {
    "duration": 5,
    "start_time": "2022-04-03T22:12:25.565Z"
   },
   {
    "duration": 17,
    "start_time": "2022-04-03T22:12:26.460Z"
   },
   {
    "duration": 131,
    "start_time": "2022-04-03T22:12:26.646Z"
   },
   {
    "duration": 471,
    "start_time": "2022-04-03T22:12:28.340Z"
   },
   {
    "duration": 55,
    "start_time": "2022-04-03T22:12:36.412Z"
   },
   {
    "duration": 4,
    "start_time": "2022-04-03T22:12:42.158Z"
   },
   {
    "duration": 3,
    "start_time": "2022-04-03T22:12:47.042Z"
   },
   {
    "duration": 3,
    "start_time": "2022-04-03T22:12:50.946Z"
   },
   {
    "duration": 447,
    "start_time": "2022-04-03T22:12:52.885Z"
   },
   {
    "duration": 534,
    "start_time": "2022-04-03T22:12:55.793Z"
   },
   {
    "duration": 182,
    "start_time": "2022-04-03T22:13:06.037Z"
   },
   {
    "duration": 165,
    "start_time": "2022-04-03T22:13:11.093Z"
   },
   {
    "duration": 44,
    "start_time": "2022-04-03T22:13:19.973Z"
   },
   {
    "duration": 12,
    "start_time": "2022-04-03T22:13:20.383Z"
   },
   {
    "duration": 118,
    "start_time": "2022-04-03T22:13:34.443Z"
   },
   {
    "duration": 28,
    "start_time": "2022-04-03T22:14:08.169Z"
   },
   {
    "duration": 32,
    "start_time": "2022-04-03T22:14:17.138Z"
   },
   {
    "duration": 29,
    "start_time": "2022-04-03T22:14:27.017Z"
   },
   {
    "duration": 3,
    "start_time": "2022-04-03T22:14:41.207Z"
   },
   {
    "duration": 14,
    "start_time": "2022-04-03T22:14:45.497Z"
   },
   {
    "duration": 5,
    "start_time": "2022-04-03T22:15:32.635Z"
   },
   {
    "duration": 9,
    "start_time": "2022-04-03T22:15:41.345Z"
   },
   {
    "duration": 549,
    "start_time": "2022-04-03T22:15:46.143Z"
   },
   {
    "duration": 4,
    "start_time": "2022-04-03T22:15:51.932Z"
   },
   {
    "duration": 367,
    "start_time": "2022-04-03T22:15:52.778Z"
   },
   {
    "duration": 3,
    "start_time": "2022-04-03T22:15:55.258Z"
   },
   {
    "duration": 75,
    "start_time": "2022-04-03T22:15:57.438Z"
   },
   {
    "duration": 5,
    "start_time": "2022-04-03T22:16:38.103Z"
   },
   {
    "duration": 3,
    "start_time": "2022-04-03T22:16:40.468Z"
   },
   {
    "duration": 83,
    "start_time": "2022-04-03T22:16:41.045Z"
   },
   {
    "duration": 2,
    "start_time": "2022-04-03T22:16:46.643Z"
   },
   {
    "duration": 3,
    "start_time": "2022-04-03T22:16:47.367Z"
   },
   {
    "duration": 7,
    "start_time": "2022-04-03T22:18:30.722Z"
   },
   {
    "duration": 412,
    "start_time": "2022-04-03T22:18:30.731Z"
   },
   {
    "duration": 788,
    "start_time": "2022-04-03T22:18:31.144Z"
   },
   {
    "duration": 2964,
    "start_time": "2022-04-03T22:18:31.934Z"
   },
   {
    "duration": 3,
    "start_time": "2022-04-03T22:18:34.900Z"
   },
   {
    "duration": 7,
    "start_time": "2022-04-03T22:18:34.904Z"
   },
   {
    "duration": 7,
    "start_time": "2022-04-03T22:18:34.913Z"
   },
   {
    "duration": 5,
    "start_time": "2022-04-03T22:18:34.922Z"
   },
   {
    "duration": 10,
    "start_time": "2022-04-03T22:18:34.929Z"
   },
   {
    "duration": 10,
    "start_time": "2022-04-03T22:18:34.940Z"
   },
   {
    "duration": 9,
    "start_time": "2022-04-03T22:18:34.951Z"
   },
   {
    "duration": 9,
    "start_time": "2022-04-03T22:18:34.961Z"
   },
   {
    "duration": 12,
    "start_time": "2022-04-03T22:18:34.971Z"
   },
   {
    "duration": 12,
    "start_time": "2022-04-03T22:18:34.984Z"
   },
   {
    "duration": 11,
    "start_time": "2022-04-03T22:18:34.997Z"
   },
   {
    "duration": 18,
    "start_time": "2022-04-03T22:18:35.010Z"
   },
   {
    "duration": 16,
    "start_time": "2022-04-03T22:18:35.030Z"
   },
   {
    "duration": 8,
    "start_time": "2022-04-03T22:18:35.048Z"
   },
   {
    "duration": 7,
    "start_time": "2022-04-03T22:18:35.058Z"
   },
   {
    "duration": 1284,
    "start_time": "2022-04-03T22:18:35.067Z"
   },
   {
    "duration": 3,
    "start_time": "2022-04-03T22:18:36.353Z"
   },
   {
    "duration": 13,
    "start_time": "2022-04-03T22:18:36.358Z"
   },
   {
    "duration": 20,
    "start_time": "2022-04-03T22:18:36.372Z"
   },
   {
    "duration": 141,
    "start_time": "2022-04-03T22:18:36.396Z"
   },
   {
    "duration": 477,
    "start_time": "2022-04-03T22:18:36.539Z"
   },
   {
    "duration": 4,
    "start_time": "2022-04-03T22:18:37.017Z"
   },
   {
    "duration": 19,
    "start_time": "2022-04-03T22:18:37.023Z"
   },
   {
    "duration": 62,
    "start_time": "2022-04-03T22:18:37.044Z"
   },
   {
    "duration": 4,
    "start_time": "2022-04-03T22:18:37.107Z"
   },
   {
    "duration": 12,
    "start_time": "2022-04-03T22:18:37.113Z"
   },
   {
    "duration": 18,
    "start_time": "2022-04-03T22:18:37.127Z"
   },
   {
    "duration": 9,
    "start_time": "2022-04-03T22:18:37.146Z"
   },
   {
    "duration": 445,
    "start_time": "2022-04-03T22:18:37.156Z"
   },
   {
    "duration": 524,
    "start_time": "2022-04-03T22:18:37.603Z"
   },
   {
    "duration": 292,
    "start_time": "2022-04-03T22:18:38.129Z"
   },
   {
    "duration": 3,
    "start_time": "2022-04-03T22:18:38.423Z"
   },
   {
    "duration": 113,
    "start_time": "2022-04-03T22:18:38.428Z"
   },
   {
    "duration": 187,
    "start_time": "2022-04-03T22:18:38.543Z"
   },
   {
    "duration": 117,
    "start_time": "2022-04-03T22:18:38.732Z"
   },
   {
    "duration": 218,
    "start_time": "2022-04-03T22:18:38.851Z"
   },
   {
    "duration": 98,
    "start_time": "2022-04-03T22:18:39.071Z"
   },
   {
    "duration": 5,
    "start_time": "2022-04-03T22:18:39.171Z"
   },
   {
    "duration": 8,
    "start_time": "2022-04-03T22:18:39.178Z"
   },
   {
    "duration": 36,
    "start_time": "2022-04-03T22:18:39.188Z"
   },
   {
    "duration": 6,
    "start_time": "2022-04-03T22:18:39.226Z"
   },
   {
    "duration": 8,
    "start_time": "2022-04-03T22:18:39.233Z"
   },
   {
    "duration": 6,
    "start_time": "2022-04-03T22:18:39.243Z"
   },
   {
    "duration": 5,
    "start_time": "2022-04-03T22:18:39.251Z"
   },
   {
    "duration": 91,
    "start_time": "2022-04-03T22:18:39.257Z"
   },
   {
    "duration": 99,
    "start_time": "2022-04-03T22:18:39.349Z"
   },
   {
    "duration": 59,
    "start_time": "2022-04-03T22:18:39.450Z"
   },
   {
    "duration": 244,
    "start_time": "2022-04-03T22:18:39.511Z"
   },
   {
    "duration": 603,
    "start_time": "2022-04-03T22:18:39.756Z"
   },
   {
    "duration": 577,
    "start_time": "2022-04-03T22:18:40.361Z"
   },
   {
    "duration": 468,
    "start_time": "2022-04-03T22:18:40.940Z"
   },
   {
    "duration": 375,
    "start_time": "2022-04-03T22:18:41.410Z"
   },
   {
    "duration": 28,
    "start_time": "2022-04-03T22:18:41.787Z"
   },
   {
    "duration": 564,
    "start_time": "2022-04-03T22:18:41.817Z"
   },
   {
    "duration": 3,
    "start_time": "2022-04-03T22:18:42.384Z"
   },
   {
    "duration": 63,
    "start_time": "2022-04-03T22:18:42.409Z"
   },
   {
    "duration": 83,
    "start_time": "2022-04-03T22:18:42.474Z"
   },
   {
    "duration": 68,
    "start_time": "2022-04-03T22:18:42.559Z"
   },
   {
    "duration": 57,
    "start_time": "2022-04-03T22:18:42.628Z"
   },
   {
    "duration": 74,
    "start_time": "2022-04-03T22:18:42.686Z"
   },
   {
    "duration": 77,
    "start_time": "2022-04-03T22:18:42.761Z"
   },
   {
    "duration": 16,
    "start_time": "2022-04-03T22:18:42.839Z"
   },
   {
    "duration": 1005,
    "start_time": "2022-04-03T22:18:42.857Z"
   },
   {
    "duration": 28,
    "start_time": "2022-04-03T22:18:43.863Z"
   },
   {
    "duration": 16,
    "start_time": "2022-04-03T22:18:43.908Z"
   },
   {
    "duration": 11,
    "start_time": "2022-04-03T22:18:43.926Z"
   },
   {
    "duration": 1604,
    "start_time": "2022-04-03T22:18:43.938Z"
   },
   {
    "duration": 30,
    "start_time": "2022-04-03T22:18:45.544Z"
   },
   {
    "duration": 737,
    "start_time": "2022-04-03T22:18:45.575Z"
   },
   {
    "duration": 731,
    "start_time": "2022-04-03T22:18:46.314Z"
   },
   {
    "duration": 873,
    "start_time": "2022-04-03T22:18:47.047Z"
   },
   {
    "duration": 30,
    "start_time": "2022-04-03T22:18:47.922Z"
   },
   {
    "duration": 765,
    "start_time": "2022-04-03T22:18:47.953Z"
   },
   {
    "duration": 668,
    "start_time": "2022-04-03T22:18:48.720Z"
   },
   {
    "duration": 430,
    "start_time": "2022-04-03T22:18:49.390Z"
   },
   {
    "duration": 107,
    "start_time": "2022-04-03T22:18:49.822Z"
   },
   {
    "duration": 4,
    "start_time": "2022-04-03T22:18:49.931Z"
   },
   {
    "duration": 3,
    "start_time": "2022-04-03T22:18:49.937Z"
   },
   {
    "duration": 10,
    "start_time": "2022-04-03T22:18:49.942Z"
   },
   {
    "duration": 66,
    "start_time": "2022-04-03T22:18:49.953Z"
   },
   {
    "duration": 19,
    "start_time": "2022-04-03T22:18:50.020Z"
   },
   {
    "duration": 10,
    "start_time": "2022-04-03T22:18:50.041Z"
   },
   {
    "duration": 121,
    "start_time": "2022-04-03T22:18:50.108Z"
   },
   {
    "duration": 1088,
    "start_time": "2022-04-03T22:18:50.231Z"
   },
   {
    "duration": 16,
    "start_time": "2022-04-03T22:18:51.321Z"
   },
   {
    "duration": 6,
    "start_time": "2022-04-03T22:18:51.339Z"
   },
   {
    "duration": 349,
    "start_time": "2022-04-03T22:18:51.346Z"
   },
   {
    "duration": 12,
    "start_time": "2022-04-03T22:18:51.697Z"
   },
   {
    "duration": 920,
    "start_time": "2022-04-03T22:18:51.711Z"
   },
   {
    "duration": 14,
    "start_time": "2022-04-03T22:18:52.633Z"
   },
   {
    "duration": 3,
    "start_time": "2022-04-03T22:18:52.649Z"
   },
   {
    "duration": 5,
    "start_time": "2022-04-03T22:18:52.654Z"
   },
   {
    "duration": 112,
    "start_time": "2022-04-03T22:18:52.661Z"
   },
   {
    "duration": 14,
    "start_time": "2022-04-03T22:18:52.775Z"
   },
   {
    "duration": 5,
    "start_time": "2022-04-03T22:18:52.791Z"
   },
   {
    "duration": 4,
    "start_time": "2022-04-03T22:18:52.809Z"
   },
   {
    "duration": 4,
    "start_time": "2022-04-03T22:18:52.815Z"
   },
   {
    "duration": 5,
    "start_time": "2022-04-03T22:18:52.820Z"
   },
   {
    "duration": 5,
    "start_time": "2022-04-03T22:18:52.826Z"
   },
   {
    "duration": 4,
    "start_time": "2022-04-03T22:18:52.832Z"
   },
   {
    "duration": 7,
    "start_time": "2022-04-03T22:24:47.417Z"
   },
   {
    "duration": 438,
    "start_time": "2022-04-03T22:24:47.427Z"
   },
   {
    "duration": 744,
    "start_time": "2022-04-03T22:24:47.867Z"
   },
   {
    "duration": 3082,
    "start_time": "2022-04-03T22:24:48.613Z"
   },
   {
    "duration": 2,
    "start_time": "2022-04-03T22:24:51.697Z"
   },
   {
    "duration": 7,
    "start_time": "2022-04-03T22:24:51.700Z"
   },
   {
    "duration": 4,
    "start_time": "2022-04-03T22:24:51.708Z"
   },
   {
    "duration": 6,
    "start_time": "2022-04-03T22:24:51.713Z"
   },
   {
    "duration": 8,
    "start_time": "2022-04-03T22:24:51.720Z"
   },
   {
    "duration": 7,
    "start_time": "2022-04-03T22:24:51.729Z"
   },
   {
    "duration": 3,
    "start_time": "2022-04-03T22:24:51.738Z"
   },
   {
    "duration": 8,
    "start_time": "2022-04-03T22:24:51.742Z"
   },
   {
    "duration": 9,
    "start_time": "2022-04-03T22:24:51.751Z"
   },
   {
    "duration": 8,
    "start_time": "2022-04-03T22:24:51.761Z"
   },
   {
    "duration": 4,
    "start_time": "2022-04-03T22:24:51.770Z"
   },
   {
    "duration": 35,
    "start_time": "2022-04-03T22:24:51.776Z"
   },
   {
    "duration": 7,
    "start_time": "2022-04-03T22:24:51.813Z"
   },
   {
    "duration": 7,
    "start_time": "2022-04-03T22:24:51.821Z"
   },
   {
    "duration": 10,
    "start_time": "2022-04-03T22:24:51.830Z"
   },
   {
    "duration": 1443,
    "start_time": "2022-04-03T22:24:51.841Z"
   },
   {
    "duration": 3,
    "start_time": "2022-04-03T22:24:53.286Z"
   },
   {
    "duration": 17,
    "start_time": "2022-04-03T22:24:53.290Z"
   },
   {
    "duration": 16,
    "start_time": "2022-04-03T22:24:53.308Z"
   },
   {
    "duration": 138,
    "start_time": "2022-04-03T22:24:53.325Z"
   },
   {
    "duration": 481,
    "start_time": "2022-04-03T22:24:53.465Z"
   },
   {
    "duration": 4,
    "start_time": "2022-04-03T22:24:53.947Z"
   },
   {
    "duration": 6,
    "start_time": "2022-04-03T22:24:53.953Z"
   },
   {
    "duration": 73,
    "start_time": "2022-04-03T22:24:53.960Z"
   },
   {
    "duration": 3,
    "start_time": "2022-04-03T22:24:54.037Z"
   },
   {
    "duration": 7,
    "start_time": "2022-04-03T22:24:54.041Z"
   },
   {
    "duration": 4,
    "start_time": "2022-04-03T22:24:54.050Z"
   },
   {
    "duration": 5,
    "start_time": "2022-04-03T22:24:54.056Z"
   },
   {
    "duration": 468,
    "start_time": "2022-04-03T22:24:54.063Z"
   },
   {
    "duration": 513,
    "start_time": "2022-04-03T22:24:54.533Z"
   },
   {
    "duration": 286,
    "start_time": "2022-04-03T22:24:55.047Z"
   },
   {
    "duration": 4,
    "start_time": "2022-04-03T22:24:55.334Z"
   },
   {
    "duration": 120,
    "start_time": "2022-04-03T22:24:55.339Z"
   },
   {
    "duration": 176,
    "start_time": "2022-04-03T22:24:55.460Z"
   },
   {
    "duration": 121,
    "start_time": "2022-04-03T22:24:55.637Z"
   },
   {
    "duration": 212,
    "start_time": "2022-04-03T22:24:55.759Z"
   },
   {
    "duration": 89,
    "start_time": "2022-04-03T22:24:55.972Z"
   },
   {
    "duration": 5,
    "start_time": "2022-04-03T22:24:56.063Z"
   },
   {
    "duration": 10,
    "start_time": "2022-04-03T22:24:56.070Z"
   },
   {
    "duration": 38,
    "start_time": "2022-04-03T22:24:56.081Z"
   },
   {
    "duration": 6,
    "start_time": "2022-04-03T22:24:56.120Z"
   },
   {
    "duration": 8,
    "start_time": "2022-04-03T22:24:56.127Z"
   },
   {
    "duration": 5,
    "start_time": "2022-04-03T22:24:56.137Z"
   },
   {
    "duration": 3,
    "start_time": "2022-04-03T22:24:56.143Z"
   },
   {
    "duration": 79,
    "start_time": "2022-04-03T22:24:56.148Z"
   },
   {
    "duration": 92,
    "start_time": "2022-04-03T22:24:56.229Z"
   },
   {
    "duration": 54,
    "start_time": "2022-04-03T22:24:56.323Z"
   },
   {
    "duration": 248,
    "start_time": "2022-04-03T22:24:56.379Z"
   },
   {
    "duration": 602,
    "start_time": "2022-04-03T22:24:56.629Z"
   },
   {
    "duration": 554,
    "start_time": "2022-04-03T22:24:57.233Z"
   },
   {
    "duration": 447,
    "start_time": "2022-04-03T22:24:57.789Z"
   },
   {
    "duration": 372,
    "start_time": "2022-04-03T22:24:58.237Z"
   },
   {
    "duration": 11,
    "start_time": "2022-04-03T22:24:58.610Z"
   },
   {
    "duration": 598,
    "start_time": "2022-04-03T22:24:58.622Z"
   },
   {
    "duration": 4,
    "start_time": "2022-04-03T22:24:59.222Z"
   },
   {
    "duration": 69,
    "start_time": "2022-04-03T22:24:59.227Z"
   },
   {
    "duration": 67,
    "start_time": "2022-04-03T22:24:59.309Z"
   },
   {
    "duration": 80,
    "start_time": "2022-04-03T22:24:59.378Z"
   },
   {
    "duration": 75,
    "start_time": "2022-04-03T22:24:59.460Z"
   },
   {
    "duration": 77,
    "start_time": "2022-04-03T22:24:59.536Z"
   },
   {
    "duration": 60,
    "start_time": "2022-04-03T22:24:59.615Z"
   },
   {
    "duration": 32,
    "start_time": "2022-04-03T22:24:59.677Z"
   },
   {
    "duration": 959,
    "start_time": "2022-04-03T22:24:59.711Z"
   },
   {
    "duration": 37,
    "start_time": "2022-04-03T22:25:00.672Z"
   },
   {
    "duration": 18,
    "start_time": "2022-04-03T22:25:00.710Z"
   },
   {
    "duration": 10,
    "start_time": "2022-04-03T22:25:00.730Z"
   },
   {
    "duration": 1676,
    "start_time": "2022-04-03T22:25:00.742Z"
   },
   {
    "duration": 31,
    "start_time": "2022-04-03T22:25:02.420Z"
   },
   {
    "duration": 756,
    "start_time": "2022-04-03T22:25:02.453Z"
   },
   {
    "duration": 743,
    "start_time": "2022-04-03T22:25:03.211Z"
   },
   {
    "duration": 940,
    "start_time": "2022-04-03T22:25:03.956Z"
   },
   {
    "duration": 38,
    "start_time": "2022-04-03T22:25:04.898Z"
   },
   {
    "duration": 779,
    "start_time": "2022-04-03T22:25:04.938Z"
   },
   {
    "duration": 669,
    "start_time": "2022-04-03T22:25:05.719Z"
   },
   {
    "duration": 380,
    "start_time": "2022-04-03T22:25:06.390Z"
   },
   {
    "duration": 60,
    "start_time": "2022-04-03T22:25:06.772Z"
   },
   {
    "duration": 5,
    "start_time": "2022-04-03T22:25:06.834Z"
   },
   {
    "duration": 3,
    "start_time": "2022-04-03T22:25:06.841Z"
   },
   {
    "duration": 7,
    "start_time": "2022-04-03T22:25:06.849Z"
   },
   {
    "duration": 18,
    "start_time": "2022-04-03T22:25:06.858Z"
   },
   {
    "duration": 188,
    "start_time": "2022-04-03T22:27:23.801Z"
   },
   {
    "duration": 3,
    "start_time": "2022-04-03T22:27:34.351Z"
   },
   {
    "duration": 93,
    "start_time": "2022-04-03T22:27:39.843Z"
   },
   {
    "duration": 2,
    "start_time": "2022-04-03T22:27:55.898Z"
   },
   {
    "duration": 3,
    "start_time": "2022-04-03T22:27:56.417Z"
   },
   {
    "duration": 229,
    "start_time": "2022-04-03T22:28:02.339Z"
   },
   {
    "duration": 4,
    "start_time": "2022-04-03T22:28:17.905Z"
   },
   {
    "duration": 232,
    "start_time": "2022-04-03T22:28:22.635Z"
   },
   {
    "duration": 29,
    "start_time": "2022-04-03T22:28:25.164Z"
   },
   {
    "duration": 5,
    "start_time": "2022-04-03T22:28:30.786Z"
   },
   {
    "duration": 4,
    "start_time": "2022-04-03T22:28:33.826Z"
   },
   {
    "duration": 6,
    "start_time": "2022-04-03T22:28:35.089Z"
   },
   {
    "duration": 10,
    "start_time": "2022-04-03T22:28:36.337Z"
   },
   {
    "duration": 171,
    "start_time": "2022-04-03T22:28:36.976Z"
   },
   {
    "duration": 2,
    "start_time": "2022-04-03T22:29:19.268Z"
   },
   {
    "duration": 4,
    "start_time": "2022-04-03T22:29:21.510Z"
   },
   {
    "duration": 3,
    "start_time": "2022-04-03T22:29:23.871Z"
   },
   {
    "duration": 2,
    "start_time": "2022-04-03T22:29:25.302Z"
   },
   {
    "duration": 4,
    "start_time": "2022-04-03T22:29:28.600Z"
   },
   {
    "duration": 12,
    "start_time": "2022-04-03T22:29:30.314Z"
   },
   {
    "duration": 18,
    "start_time": "2022-04-03T22:29:31.348Z"
   },
   {
    "duration": 19,
    "start_time": "2022-04-03T22:29:32.084Z"
   },
   {
    "duration": 200,
    "start_time": "2022-04-03T22:29:35.811Z"
   },
   {
    "duration": 3,
    "start_time": "2022-04-03T22:29:55.036Z"
   },
   {
    "duration": 4,
    "start_time": "2022-04-03T22:30:03.153Z"
   },
   {
    "duration": 4,
    "start_time": "2022-04-03T22:30:04.001Z"
   },
   {
    "duration": 3,
    "start_time": "2022-04-03T22:30:05.567Z"
   },
   {
    "duration": 135,
    "start_time": "2022-04-03T22:30:09.137Z"
   },
   {
    "duration": 3,
    "start_time": "2022-04-03T22:30:29.518Z"
   },
   {
    "duration": 109930,
    "start_time": "2022-04-03T22:30:45.026Z"
   },
   {
    "duration": 3,
    "start_time": "2022-04-03T22:32:34.958Z"
   },
   {
    "duration": 14,
    "start_time": "2022-04-03T22:32:39.768Z"
   },
   {
    "duration": 2,
    "start_time": "2022-04-03T22:32:42.062Z"
   },
   {
    "duration": 11062,
    "start_time": "2022-04-03T22:32:43.461Z"
   },
   {
    "duration": 2816,
    "start_time": "2022-04-03T22:32:54.610Z"
   },
   {
    "duration": 337,
    "start_time": "2022-04-03T22:32:57.428Z"
   },
   {
    "duration": 266,
    "start_time": "2022-04-03T22:32:57.767Z"
   },
   {
    "duration": 8,
    "start_time": "2022-04-03T22:32:58.035Z"
   },
   {
    "duration": 4,
    "start_time": "2022-04-03T22:32:58.044Z"
   },
   {
    "duration": 8,
    "start_time": "2022-04-03T22:32:58.050Z"
   },
   {
    "duration": 2,
    "start_time": "2022-04-03T22:32:58.060Z"
   },
   {
    "duration": 7,
    "start_time": "2022-04-03T22:32:58.064Z"
   },
   {
    "duration": 36,
    "start_time": "2022-04-03T22:32:58.073Z"
   },
   {
    "duration": 4,
    "start_time": "2022-04-03T22:32:58.111Z"
   },
   {
    "duration": 7,
    "start_time": "2022-04-03T22:32:58.116Z"
   },
   {
    "duration": 75,
    "start_time": "2022-04-03T22:36:23.816Z"
   },
   {
    "duration": 13,
    "start_time": "2022-04-03T22:36:26.304Z"
   },
   {
    "duration": 10,
    "start_time": "2022-04-03T22:36:47.153Z"
   },
   {
    "duration": 9,
    "start_time": "2022-04-03T22:36:55.801Z"
   },
   {
    "duration": 10,
    "start_time": "2022-04-03T22:37:11.916Z"
   },
   {
    "duration": 205,
    "start_time": "2022-04-03T22:37:28.850Z"
   },
   {
    "duration": 5,
    "start_time": "2022-04-03T22:37:36.521Z"
   },
   {
    "duration": 17273,
    "start_time": "2022-04-03T22:37:45.738Z"
   },
   {
    "duration": 3005,
    "start_time": "2022-04-03T22:38:03.013Z"
   },
   {
    "duration": 413,
    "start_time": "2022-04-03T22:38:06.020Z"
   },
   {
    "duration": 258,
    "start_time": "2022-04-03T22:38:06.435Z"
   },
   {
    "duration": 22,
    "start_time": "2022-04-03T22:38:06.694Z"
   },
   {
    "duration": 11,
    "start_time": "2022-04-03T22:38:06.717Z"
   },
   {
    "duration": 7,
    "start_time": "2022-04-03T22:38:14.044Z"
   },
   {
    "duration": 5,
    "start_time": "2022-04-03T22:38:14.515Z"
   },
   {
    "duration": 7,
    "start_time": "2022-04-03T22:39:33.791Z"
   },
   {
    "duration": 6,
    "start_time": "2022-04-03T22:39:38.185Z"
   },
   {
    "duration": 4,
    "start_time": "2022-04-03T22:39:44.179Z"
   },
   {
    "duration": 4,
    "start_time": "2022-04-03T22:39:44.692Z"
   },
   {
    "duration": 4,
    "start_time": "2022-04-03T22:39:45.236Z"
   },
   {
    "duration": 5,
    "start_time": "2022-04-03T22:39:45.659Z"
   },
   {
    "duration": 151,
    "start_time": "2022-04-03T22:39:47.597Z"
   },
   {
    "duration": 11,
    "start_time": "2022-04-03T22:39:49.364Z"
   },
   {
    "duration": 2,
    "start_time": "2022-04-03T22:39:50.224Z"
   },
   {
    "duration": 11019,
    "start_time": "2022-04-03T22:39:50.703Z"
   },
   {
    "duration": 4,
    "start_time": "2022-04-03T22:40:01.723Z"
   },
   {
    "duration": 3,
    "start_time": "2022-04-03T22:40:01.810Z"
   },
   {
    "duration": 16,
    "start_time": "2022-04-03T22:40:01.814Z"
   },
   {
    "duration": 777,
    "start_time": "2022-04-03T22:40:01.832Z"
   },
   {
    "duration": 4,
    "start_time": "2022-04-03T22:40:02.611Z"
   },
   {
    "duration": 19,
    "start_time": "2022-04-03T22:40:02.618Z"
   },
   {
    "duration": 6,
    "start_time": "2022-04-03T22:40:02.639Z"
   },
   {
    "duration": 11,
    "start_time": "2022-04-03T22:40:02.646Z"
   },
   {
    "duration": 3,
    "start_time": "2022-04-03T22:41:33.532Z"
   },
   {
    "duration": 3,
    "start_time": "2022-04-03T22:41:34.845Z"
   },
   {
    "duration": 11,
    "start_time": "2022-04-04T01:05:09.733Z"
   },
   {
    "duration": 498,
    "start_time": "2022-04-04T01:05:09.772Z"
   },
   {
    "duration": 1310,
    "start_time": "2022-04-04T01:05:10.273Z"
   },
   {
    "duration": 587,
    "start_time": "2022-04-04T01:05:11.585Z"
   },
   {
    "duration": 4,
    "start_time": "2022-04-04T01:05:12.175Z"
   },
   {
    "duration": 6,
    "start_time": "2022-04-04T01:05:12.181Z"
   },
   {
    "duration": 6,
    "start_time": "2022-04-04T01:05:12.189Z"
   },
   {
    "duration": 8,
    "start_time": "2022-04-04T01:05:12.197Z"
   },
   {
    "duration": 36,
    "start_time": "2022-04-04T01:05:12.207Z"
   },
   {
    "duration": 6,
    "start_time": "2022-04-04T01:05:12.246Z"
   },
   {
    "duration": 5,
    "start_time": "2022-04-04T01:05:12.255Z"
   },
   {
    "duration": 12,
    "start_time": "2022-04-04T01:05:12.262Z"
   },
   {
    "duration": 14,
    "start_time": "2022-04-04T01:05:12.276Z"
   },
   {
    "duration": 9,
    "start_time": "2022-04-04T01:05:12.292Z"
   },
   {
    "duration": 11,
    "start_time": "2022-04-04T01:05:12.344Z"
   },
   {
    "duration": 17,
    "start_time": "2022-04-04T01:05:12.357Z"
   },
   {
    "duration": 9,
    "start_time": "2022-04-04T01:05:12.376Z"
   },
   {
    "duration": 12,
    "start_time": "2022-04-04T01:05:12.387Z"
   },
   {
    "duration": 19,
    "start_time": "2022-04-04T01:05:12.401Z"
   },
   {
    "duration": 3516,
    "start_time": "2022-04-04T01:05:12.443Z"
   },
   {
    "duration": 5,
    "start_time": "2022-04-04T01:05:15.961Z"
   },
   {
    "duration": 14,
    "start_time": "2022-04-04T01:05:15.968Z"
   },
   {
    "duration": 27,
    "start_time": "2022-04-04T01:05:15.984Z"
   },
   {
    "duration": 192,
    "start_time": "2022-04-04T01:05:16.013Z"
   },
   {
    "duration": 657,
    "start_time": "2022-04-04T01:05:16.208Z"
   },
   {
    "duration": 6,
    "start_time": "2022-04-04T01:05:16.867Z"
   },
   {
    "duration": 11,
    "start_time": "2022-04-04T01:05:16.876Z"
   },
   {
    "duration": 119,
    "start_time": "2022-04-04T01:05:16.889Z"
   },
   {
    "duration": 4,
    "start_time": "2022-04-04T01:05:17.014Z"
   },
   {
    "duration": 22,
    "start_time": "2022-04-04T01:05:17.020Z"
   },
   {
    "duration": 4,
    "start_time": "2022-04-04T01:05:17.045Z"
   },
   {
    "duration": 11,
    "start_time": "2022-04-04T01:05:17.051Z"
   },
   {
    "duration": 658,
    "start_time": "2022-04-04T01:05:17.064Z"
   },
   {
    "duration": 738,
    "start_time": "2022-04-04T01:05:17.725Z"
   },
   {
    "duration": 387,
    "start_time": "2022-04-04T01:05:18.465Z"
   },
   {
    "duration": 5,
    "start_time": "2022-04-04T01:05:18.854Z"
   },
   {
    "duration": 165,
    "start_time": "2022-04-04T01:05:18.861Z"
   },
   {
    "duration": 234,
    "start_time": "2022-04-04T01:05:19.028Z"
   },
   {
    "duration": 162,
    "start_time": "2022-04-04T01:05:19.264Z"
   },
   {
    "duration": 417,
    "start_time": "2022-04-04T01:05:19.428Z"
   },
   {
    "duration": 116,
    "start_time": "2022-04-04T01:05:19.848Z"
   },
   {
    "duration": 7,
    "start_time": "2022-04-04T01:05:19.967Z"
   },
   {
    "duration": 11,
    "start_time": "2022-04-04T01:05:19.976Z"
   },
   {
    "duration": 20,
    "start_time": "2022-04-04T01:05:19.989Z"
   },
   {
    "duration": 39,
    "start_time": "2022-04-04T01:05:20.011Z"
   },
   {
    "duration": 12,
    "start_time": "2022-04-04T01:05:20.053Z"
   },
   {
    "duration": 9,
    "start_time": "2022-04-04T01:05:20.067Z"
   },
   {
    "duration": 5,
    "start_time": "2022-04-04T01:05:20.078Z"
   },
   {
    "duration": 124,
    "start_time": "2022-04-04T01:05:20.086Z"
   },
   {
    "duration": 247,
    "start_time": "2022-04-04T01:05:20.212Z"
   },
   {
    "duration": 90,
    "start_time": "2022-04-04T01:05:20.461Z"
   },
   {
    "duration": 337,
    "start_time": "2022-04-04T01:05:20.553Z"
   },
   {
    "duration": 920,
    "start_time": "2022-04-04T01:05:20.892Z"
   },
   {
    "duration": 854,
    "start_time": "2022-04-04T01:05:21.814Z"
   },
   {
    "duration": 708,
    "start_time": "2022-04-04T01:05:22.670Z"
   },
   {
    "duration": 585,
    "start_time": "2022-04-04T01:05:23.380Z"
   },
   {
    "duration": 13,
    "start_time": "2022-04-04T01:05:23.967Z"
   },
   {
    "duration": 907,
    "start_time": "2022-04-04T01:05:23.983Z"
   },
   {
    "duration": 6,
    "start_time": "2022-04-04T01:05:24.893Z"
   },
   {
    "duration": 117,
    "start_time": "2022-04-04T01:05:24.901Z"
   },
   {
    "duration": 98,
    "start_time": "2022-04-04T01:05:25.020Z"
   },
   {
    "duration": 98,
    "start_time": "2022-04-04T01:05:25.120Z"
   },
   {
    "duration": 92,
    "start_time": "2022-04-04T01:05:25.220Z"
   },
   {
    "duration": 97,
    "start_time": "2022-04-04T01:05:25.314Z"
   },
   {
    "duration": 92,
    "start_time": "2022-04-04T01:05:25.413Z"
   },
   {
    "duration": 40,
    "start_time": "2022-04-04T01:05:25.506Z"
   },
   {
    "duration": 1526,
    "start_time": "2022-04-04T01:05:25.549Z"
   },
   {
    "duration": 53,
    "start_time": "2022-04-04T01:05:27.078Z"
   },
   {
    "duration": 27,
    "start_time": "2022-04-04T01:05:27.133Z"
   },
   {
    "duration": 17,
    "start_time": "2022-04-04T01:05:27.162Z"
   },
   {
    "duration": 2369,
    "start_time": "2022-04-04T01:05:27.182Z"
   },
   {
    "duration": 53,
    "start_time": "2022-04-04T01:05:29.554Z"
   },
   {
    "duration": 1155,
    "start_time": "2022-04-04T01:05:29.609Z"
   },
   {
    "duration": 1123,
    "start_time": "2022-04-04T01:05:30.767Z"
   },
   {
    "duration": 1304,
    "start_time": "2022-04-04T01:05:31.892Z"
   },
   {
    "duration": 72,
    "start_time": "2022-04-04T01:05:33.199Z"
   },
   {
    "duration": 1064,
    "start_time": "2022-04-04T01:05:33.273Z"
   },
   {
    "duration": 994,
    "start_time": "2022-04-04T01:05:34.340Z"
   },
   {
    "duration": 532,
    "start_time": "2022-04-04T01:05:35.336Z"
   },
   {
    "duration": 55,
    "start_time": "2022-04-04T01:05:35.870Z"
   },
   {
    "duration": 20,
    "start_time": "2022-04-04T01:05:35.927Z"
   },
   {
    "duration": 5,
    "start_time": "2022-04-04T01:05:35.949Z"
   },
   {
    "duration": 9,
    "start_time": "2022-04-04T01:05:35.966Z"
   },
   {
    "duration": 24,
    "start_time": "2022-04-04T01:05:35.977Z"
   },
   {
    "duration": 121,
    "start_time": "2022-04-04T01:05:36.004Z"
   },
   {
    "duration": 12,
    "start_time": "2022-04-04T01:05:36.143Z"
   },
   {
    "duration": 101,
    "start_time": "2022-04-04T01:05:36.157Z"
   },
   {
    "duration": 836,
    "start_time": "2022-04-04T01:05:36.260Z"
   },
   {
    "duration": 24,
    "start_time": "2022-04-04T01:05:37.098Z"
   },
   {
    "duration": 19,
    "start_time": "2022-04-04T01:05:37.124Z"
   },
   {
    "duration": 468,
    "start_time": "2022-04-04T01:05:37.145Z"
   },
   {
    "duration": 5,
    "start_time": "2022-04-04T01:05:37.615Z"
   },
   {
    "duration": 1293,
    "start_time": "2022-04-04T01:05:37.622Z"
   },
   {
    "duration": 28,
    "start_time": "2022-04-04T01:05:38.918Z"
   },
   {
    "duration": 10,
    "start_time": "2022-04-04T01:05:38.948Z"
   },
   {
    "duration": 8,
    "start_time": "2022-04-04T01:05:38.960Z"
   },
   {
    "duration": 98,
    "start_time": "2022-04-04T01:05:38.970Z"
   },
   {
    "duration": 22,
    "start_time": "2022-04-04T01:05:39.070Z"
   },
   {
    "duration": 11,
    "start_time": "2022-04-04T01:05:39.094Z"
   },
   {
    "duration": 5,
    "start_time": "2022-04-04T01:05:39.107Z"
   },
   {
    "duration": 29,
    "start_time": "2022-04-04T01:05:39.114Z"
   },
   {
    "duration": 4,
    "start_time": "2022-04-04T01:05:39.146Z"
   },
   {
    "duration": 8,
    "start_time": "2022-04-04T01:05:39.152Z"
   },
   {
    "duration": 6,
    "start_time": "2022-04-04T01:05:39.162Z"
   },
   {
    "duration": 491704,
    "start_time": "2022-04-04T01:05:39.170Z"
   },
   {
    "duration": 71411,
    "start_time": "2022-04-04T01:13:50.876Z"
   },
   {
    "duration": 61,
    "start_time": "2022-04-04T01:15:02.289Z"
   },
   {
    "duration": 64,
    "start_time": "2022-04-04T01:15:02.352Z"
   },
   {
    "duration": 25,
    "start_time": "2022-04-04T01:15:02.418Z"
   },
   {
    "duration": 140838,
    "start_time": "2022-04-04T01:15:02.445Z"
   },
   {
    "duration": 6,
    "start_time": "2022-04-04T01:17:23.286Z"
   },
   {
    "duration": 16,
    "start_time": "2022-04-04T01:17:23.294Z"
   },
   {
    "duration": 30,
    "start_time": "2022-04-04T01:17:23.312Z"
   },
   {
    "duration": 10308,
    "start_time": "2022-04-04T01:17:23.345Z"
   },
   {
    "duration": 6,
    "start_time": "2022-04-04T01:17:33.656Z"
   },
   {
    "duration": 112,
    "start_time": "2022-04-04T01:17:33.664Z"
   },
   {
    "duration": 5,
    "start_time": "2022-04-04T01:17:33.778Z"
   },
   {
    "duration": 41560,
    "start_time": "2022-04-04T01:17:33.785Z"
   },
   {
    "duration": 6,
    "start_time": "2022-04-04T01:18:15.347Z"
   },
   {
    "duration": 17,
    "start_time": "2022-04-04T01:18:15.355Z"
   },
   {
    "duration": 3,
    "start_time": "2022-04-04T01:18:15.374Z"
   },
   {
    "duration": 12,
    "start_time": "2022-04-04T01:18:15.379Z"
   },
   {
    "duration": 8,
    "start_time": "2022-04-04T01:18:15.393Z"
   },
   {
    "duration": 43,
    "start_time": "2022-04-04T01:18:15.403Z"
   },
   {
    "duration": 162518,
    "start_time": "2022-04-04T01:18:15.448Z"
   },
   {
    "duration": 91477,
    "start_time": "2022-04-04T01:20:57.968Z"
   },
   {
    "duration": 3,
    "start_time": "2022-04-04T01:22:29.448Z"
   },
   {
    "duration": 8,
    "start_time": "2022-04-04T01:22:29.453Z"
   },
   {
    "duration": 329,
    "start_time": "2022-04-04T01:22:29.464Z"
   },
   {
    "duration": 56,
    "start_time": "2022-04-04T01:22:29.796Z"
   },
   {
    "duration": 3,
    "start_time": "2022-04-04T01:22:29.855Z"
   },
   {
    "duration": 8,
    "start_time": "2022-04-04T01:22:29.860Z"
   },
   {
    "duration": 11,
    "start_time": "2022-04-04T01:22:29.870Z"
   },
   {
    "duration": 16,
    "start_time": "2022-04-04T01:22:29.883Z"
   },
   {
    "duration": 330,
    "start_time": "2022-04-04T01:22:29.901Z"
   },
   {
    "duration": 10,
    "start_time": "2022-04-04T01:22:30.233Z"
   },
   {
    "duration": 5,
    "start_time": "2022-04-04T01:22:30.245Z"
   },
   {
    "duration": 20,
    "start_time": "2022-04-04T01:22:30.252Z"
   },
   {
    "duration": 22,
    "start_time": "2022-04-04T01:22:30.274Z"
   },
   {
    "duration": 28,
    "start_time": "2022-04-04T01:22:30.298Z"
   },
   {
    "duration": 44,
    "start_time": "2022-04-04T01:22:30.329Z"
   },
   {
    "duration": 50,
    "start_time": "2022-04-04T01:22:30.375Z"
   },
   {
    "duration": 34,
    "start_time": "2022-04-04T01:22:30.428Z"
   },
   {
    "duration": 324,
    "start_time": "2022-04-04T01:22:30.465Z"
   },
   {
    "duration": 3,
    "start_time": "2022-04-04T01:22:30.791Z"
   },
   {
    "duration": 13,
    "start_time": "2022-04-04T01:22:30.796Z"
   },
   {
    "duration": 10,
    "start_time": "2022-04-04T01:22:30.811Z"
   },
   {
    "duration": 21,
    "start_time": "2022-04-04T01:22:30.823Z"
   },
   {
    "duration": 332618,
    "start_time": "2022-04-04T01:22:30.847Z"
   },
   {
    "duration": 3,
    "start_time": "2022-04-04T01:28:03.468Z"
   },
   {
    "duration": 10,
    "start_time": "2022-04-04T01:28:03.473Z"
   },
   {
    "duration": 4,
    "start_time": "2022-04-04T01:28:03.485Z"
   },
   {
    "duration": 13207,
    "start_time": "2022-04-04T01:28:03.543Z"
   },
   {
    "duration": 4902,
    "start_time": "2022-04-04T01:28:16.752Z"
   },
   {
    "duration": 461,
    "start_time": "2022-04-04T01:28:21.656Z"
   },
   {
    "duration": 502,
    "start_time": "2022-04-04T01:28:22.119Z"
   },
   {
    "duration": 21,
    "start_time": "2022-04-04T01:28:22.623Z"
   },
   {
    "duration": 6,
    "start_time": "2022-04-04T01:28:22.646Z"
   },
   {
    "duration": 10,
    "start_time": "2022-04-04T01:28:22.654Z"
   },
   {
    "duration": 7,
    "start_time": "2022-04-04T01:28:22.666Z"
   },
   {
    "duration": 7,
    "start_time": "2022-04-04T01:28:22.675Z"
   },
   {
    "duration": 8,
    "start_time": "2022-04-04T01:28:22.685Z"
   },
   {
    "duration": 48,
    "start_time": "2022-04-04T01:28:22.695Z"
   },
   {
    "duration": 4,
    "start_time": "2022-04-04T01:28:22.745Z"
   },
   {
    "duration": 237,
    "start_time": "2022-04-04T01:28:22.752Z"
   },
   {
    "duration": 17,
    "start_time": "2022-04-04T01:28:22.991Z"
   },
   {
    "duration": 5,
    "start_time": "2022-04-04T01:28:23.011Z"
   },
   {
    "duration": 15131,
    "start_time": "2022-04-04T01:28:23.019Z"
   },
   {
    "duration": 7,
    "start_time": "2022-04-04T01:28:38.152Z"
   },
   {
    "duration": 8,
    "start_time": "2022-04-04T01:28:38.162Z"
   },
   {
    "duration": 5,
    "start_time": "2022-04-04T01:28:38.172Z"
   },
   {
    "duration": 1281,
    "start_time": "2022-04-04T01:28:38.180Z"
   },
   {
    "duration": 83,
    "start_time": "2022-04-04T01:28:39.463Z"
   },
   {
    "duration": 12,
    "start_time": "2022-04-04T01:28:39.548Z"
   },
   {
    "duration": 6,
    "start_time": "2022-04-04T01:28:39.562Z"
   },
   {
    "duration": 10,
    "start_time": "2022-04-04T01:28:39.570Z"
   },
   {
    "duration": 4,
    "start_time": "2022-04-04T01:28:39.582Z"
   },
   {
    "duration": 5,
    "start_time": "2022-04-04T01:28:39.588Z"
   },
   {
    "duration": 11,
    "start_time": "2022-04-05T03:19:38.367Z"
   },
   {
    "duration": 1631,
    "start_time": "2022-04-05T03:19:38.380Z"
   },
   {
    "duration": 556,
    "start_time": "2022-04-05T03:19:40.013Z"
   },
   {
    "duration": 193,
    "start_time": "2022-04-05T03:19:40.572Z"
   },
   {
    "duration": 4,
    "start_time": "2022-04-05T03:19:40.767Z"
   },
   {
    "duration": 6,
    "start_time": "2022-04-05T03:19:40.773Z"
   },
   {
    "duration": 7,
    "start_time": "2022-04-05T03:19:40.781Z"
   },
   {
    "duration": 7,
    "start_time": "2022-04-05T03:19:40.790Z"
   },
   {
    "duration": 9,
    "start_time": "2022-04-05T03:19:40.799Z"
   },
   {
    "duration": 5,
    "start_time": "2022-04-05T03:19:40.811Z"
   },
   {
    "duration": 8,
    "start_time": "2022-04-05T03:19:40.818Z"
   },
   {
    "duration": 10,
    "start_time": "2022-04-05T03:19:40.828Z"
   },
   {
    "duration": 11,
    "start_time": "2022-04-05T03:19:40.840Z"
   },
   {
    "duration": 13,
    "start_time": "2022-04-05T03:19:40.882Z"
   },
   {
    "duration": 10,
    "start_time": "2022-04-05T03:19:40.897Z"
   },
   {
    "duration": 7,
    "start_time": "2022-04-05T03:19:40.909Z"
   },
   {
    "duration": 9,
    "start_time": "2022-04-05T03:19:40.917Z"
   },
   {
    "duration": 17,
    "start_time": "2022-04-05T03:19:40.928Z"
   },
   {
    "duration": 36,
    "start_time": "2022-04-05T03:19:40.947Z"
   },
   {
    "duration": 7,
    "start_time": "2022-04-05T03:19:40.985Z"
   },
   {
    "duration": 9,
    "start_time": "2022-04-05T03:19:40.995Z"
   },
   {
    "duration": 6,
    "start_time": "2022-04-05T03:19:41.006Z"
   },
   {
    "duration": 1563,
    "start_time": "2022-04-05T03:19:41.014Z"
   },
   {
    "duration": 12,
    "start_time": "2022-04-05T03:19:42.579Z"
   },
   {
    "duration": 15,
    "start_time": "2022-04-05T03:19:42.593Z"
   },
   {
    "duration": 1012,
    "start_time": "2022-04-05T03:19:42.610Z"
   },
   {
    "duration": 3,
    "start_time": "2022-04-05T03:19:43.625Z"
   },
   {
    "duration": 84,
    "start_time": "2022-04-05T03:19:43.635Z"
   },
   {
    "duration": 4,
    "start_time": "2022-04-05T03:19:43.721Z"
   },
   {
    "duration": 11,
    "start_time": "2022-04-05T03:19:43.727Z"
   },
   {
    "duration": 4,
    "start_time": "2022-04-05T03:19:43.740Z"
   },
   {
    "duration": 8,
    "start_time": "2022-04-05T03:19:43.747Z"
   },
   {
    "duration": 612,
    "start_time": "2022-04-05T03:19:43.782Z"
   },
   {
    "duration": 686,
    "start_time": "2022-04-05T03:19:44.397Z"
   },
   {
    "duration": 367,
    "start_time": "2022-04-05T03:19:45.085Z"
   },
   {
    "duration": 5,
    "start_time": "2022-04-05T03:19:45.454Z"
   },
   {
    "duration": 157,
    "start_time": "2022-04-05T03:19:45.461Z"
   },
   {
    "duration": 222,
    "start_time": "2022-04-05T03:19:45.621Z"
   },
   {
    "duration": 4,
    "start_time": "2022-04-05T03:19:45.845Z"
   },
   {
    "duration": 173,
    "start_time": "2022-04-05T03:19:45.851Z"
   },
   {
    "duration": 333,
    "start_time": "2022-04-05T03:19:46.026Z"
   },
   {
    "duration": 119,
    "start_time": "2022-04-05T03:19:46.362Z"
   },
   {
    "duration": 7,
    "start_time": "2022-04-05T03:19:46.484Z"
   },
   {
    "duration": 13,
    "start_time": "2022-04-05T03:19:46.494Z"
   },
   {
    "duration": 38,
    "start_time": "2022-04-05T03:19:46.509Z"
   },
   {
    "duration": 33,
    "start_time": "2022-04-05T03:19:46.549Z"
   },
   {
    "duration": 11,
    "start_time": "2022-04-05T03:19:46.585Z"
   },
   {
    "duration": 7,
    "start_time": "2022-04-05T03:19:46.599Z"
   },
   {
    "duration": 5,
    "start_time": "2022-04-05T03:19:46.608Z"
   },
   {
    "duration": 112,
    "start_time": "2022-04-05T03:19:46.616Z"
   },
   {
    "duration": 138,
    "start_time": "2022-04-05T03:19:46.730Z"
   },
   {
    "duration": 77,
    "start_time": "2022-04-05T03:19:46.871Z"
   },
   {
    "duration": 333,
    "start_time": "2022-04-05T03:19:46.951Z"
   },
   {
    "duration": 898,
    "start_time": "2022-04-05T03:19:47.286Z"
   },
   {
    "duration": 838,
    "start_time": "2022-04-05T03:19:48.186Z"
   },
   {
    "duration": 682,
    "start_time": "2022-04-05T03:19:49.026Z"
   },
   {
    "duration": 672,
    "start_time": "2022-04-05T03:19:49.710Z"
   },
   {
    "duration": 13,
    "start_time": "2022-04-05T03:19:50.384Z"
   },
   {
    "duration": 713,
    "start_time": "2022-04-05T03:19:50.399Z"
   },
   {
    "duration": 5,
    "start_time": "2022-04-05T03:19:51.114Z"
   },
   {
    "duration": 105,
    "start_time": "2022-04-05T03:19:51.121Z"
   },
   {
    "duration": 98,
    "start_time": "2022-04-05T03:19:51.228Z"
   },
   {
    "duration": 90,
    "start_time": "2022-04-05T03:19:51.328Z"
   },
   {
    "duration": 89,
    "start_time": "2022-04-05T03:19:51.420Z"
   },
   {
    "duration": 93,
    "start_time": "2022-04-05T03:19:51.512Z"
   },
   {
    "duration": 90,
    "start_time": "2022-04-05T03:19:51.607Z"
   },
   {
    "duration": 25,
    "start_time": "2022-04-05T03:19:51.699Z"
   },
   {
    "duration": 1432,
    "start_time": "2022-04-05T03:19:51.727Z"
   },
   {
    "duration": 51,
    "start_time": "2022-04-05T03:19:53.161Z"
   },
   {
    "duration": 22,
    "start_time": "2022-04-05T03:19:53.214Z"
   },
   {
    "duration": 15,
    "start_time": "2022-04-05T03:19:53.238Z"
   },
   {
    "duration": 2341,
    "start_time": "2022-04-05T03:19:53.255Z"
   },
   {
    "duration": 53,
    "start_time": "2022-04-05T03:19:55.599Z"
   },
   {
    "duration": 1128,
    "start_time": "2022-04-05T03:19:55.654Z"
   },
   {
    "duration": 1051,
    "start_time": "2022-04-05T03:19:56.784Z"
   },
   {
    "duration": 1203,
    "start_time": "2022-04-05T03:19:57.837Z"
   },
   {
    "duration": 68,
    "start_time": "2022-04-05T03:19:59.042Z"
   },
   {
    "duration": 1038,
    "start_time": "2022-04-05T03:19:59.113Z"
   },
   {
    "duration": 904,
    "start_time": "2022-04-05T03:20:00.153Z"
   },
   {
    "duration": 532,
    "start_time": "2022-04-05T03:20:01.059Z"
   },
   {
    "duration": 56,
    "start_time": "2022-04-05T03:20:01.593Z"
   },
   {
    "duration": 26,
    "start_time": "2022-04-05T03:20:01.661Z"
   },
   {
    "duration": 36,
    "start_time": "2022-04-05T03:20:01.690Z"
   },
   {
    "duration": 40,
    "start_time": "2022-04-05T03:20:01.728Z"
   },
   {
    "duration": 27,
    "start_time": "2022-04-05T03:20:01.770Z"
   },
   {
    "duration": 56,
    "start_time": "2022-04-05T03:20:01.799Z"
   },
   {
    "duration": 31,
    "start_time": "2022-04-05T03:20:01.857Z"
   },
   {
    "duration": 45,
    "start_time": "2022-04-05T03:20:01.890Z"
   },
   {
    "duration": 99,
    "start_time": "2022-04-05T03:20:01.937Z"
   },
   {
    "duration": 656,
    "start_time": "2022-04-05T03:20:02.038Z"
   },
   {
    "duration": 23,
    "start_time": "2022-04-05T03:20:02.696Z"
   },
   {
    "duration": 4,
    "start_time": "2022-04-05T03:20:02.721Z"
   },
   {
    "duration": 59,
    "start_time": "2022-04-05T03:20:02.727Z"
   },
   {
    "duration": 1131,
    "start_time": "2022-04-05T03:20:02.788Z"
   },
   {
    "duration": 19,
    "start_time": "2022-04-05T03:20:03.922Z"
   },
   {
    "duration": 482,
    "start_time": "2022-04-05T03:20:03.943Z"
   },
   {
    "duration": 78,
    "start_time": "2022-04-05T03:20:04.428Z"
   },
   {
    "duration": 7,
    "start_time": "2022-04-05T03:20:04.508Z"
   },
   {
    "duration": 1585,
    "start_time": "2022-04-05T03:20:04.517Z"
   },
   {
    "duration": 1678,
    "start_time": "2022-04-05T03:20:06.104Z"
   },
   {
    "duration": 20,
    "start_time": "2022-04-05T03:20:07.785Z"
   },
   {
    "duration": 19,
    "start_time": "2022-04-05T03:20:07.807Z"
   },
   {
    "duration": 6,
    "start_time": "2022-04-05T03:20:07.828Z"
   },
   {
    "duration": 10,
    "start_time": "2022-04-05T03:20:07.836Z"
   },
   {
    "duration": 117,
    "start_time": "2022-04-05T03:20:07.848Z"
   },
   {
    "duration": 20,
    "start_time": "2022-04-05T03:20:07.967Z"
   },
   {
    "duration": 23,
    "start_time": "2022-04-05T03:20:07.990Z"
   },
   {
    "duration": 22,
    "start_time": "2022-04-05T03:20:08.015Z"
   },
   {
    "duration": 43,
    "start_time": "2022-04-05T03:20:08.039Z"
   },
   {
    "duration": 8,
    "start_time": "2022-04-05T03:20:08.084Z"
   },
   {
    "duration": 4,
    "start_time": "2022-04-05T03:20:08.095Z"
   },
   {
    "duration": 6,
    "start_time": "2022-04-05T03:20:08.102Z"
   },
   {
    "duration": 6,
    "start_time": "2022-04-05T03:20:08.110Z"
   },
   {
    "duration": 8,
    "start_time": "2022-04-05T03:20:08.118Z"
   },
   {
    "duration": 7,
    "start_time": "2022-04-05T03:20:08.128Z"
   },
   {
    "duration": 8173,
    "start_time": "2022-04-05T03:20:08.137Z"
   },
   {
    "duration": 52474,
    "start_time": "2022-04-05T03:20:16.313Z"
   },
   {
    "duration": 109894,
    "start_time": "2022-04-05T03:21:08.790Z"
   },
   {
    "duration": 295301,
    "start_time": "2022-04-05T03:22:58.689Z"
   },
   {
    "duration": 46296,
    "start_time": "2022-04-05T03:27:53.992Z"
   },
   {
    "duration": 24,
    "start_time": "2022-04-05T03:28:40.290Z"
   },
   {
    "duration": 9,
    "start_time": "2022-04-05T03:28:40.316Z"
   },
   {
    "duration": 12,
    "start_time": "2022-04-05T03:28:40.327Z"
   },
   {
    "duration": 13016,
    "start_time": "2022-04-05T03:28:40.341Z"
   },
   {
    "duration": 146782,
    "start_time": "2022-04-05T03:28:53.359Z"
   },
   {
    "duration": 6,
    "start_time": "2022-04-05T03:31:20.144Z"
   },
   {
    "duration": 9,
    "start_time": "2022-04-05T03:31:20.152Z"
   },
   {
    "duration": 49513,
    "start_time": "2022-04-05T03:31:20.183Z"
   },
   {
    "duration": 3,
    "start_time": "2022-04-05T03:32:09.699Z"
   },
   {
    "duration": 8584,
    "start_time": "2022-04-05T03:32:09.704Z"
   },
   {
    "duration": 406403,
    "start_time": "2022-04-05T03:32:18.291Z"
   },
   {
    "duration": 8,
    "start_time": "2022-04-05T03:39:04.697Z"
   },
   {
    "duration": 9,
    "start_time": "2022-04-05T03:39:04.707Z"
   },
   {
    "duration": 143089,
    "start_time": "2022-04-05T03:39:04.717Z"
   },
   {
    "duration": 4,
    "start_time": "2022-04-05T03:41:27.808Z"
   },
   {
    "duration": 68,
    "start_time": "2022-04-05T03:41:27.814Z"
   },
   {
    "duration": 9,
    "start_time": "2022-04-05T03:41:27.884Z"
   },
   {
    "duration": 1287,
    "start_time": "2022-04-05T03:41:27.895Z"
   },
   {
    "duration": 10,
    "start_time": "2022-04-05T03:41:29.184Z"
   },
   {
    "duration": 25,
    "start_time": "2022-04-05T03:41:29.197Z"
   },
   {
    "duration": 9,
    "start_time": "2022-04-05T03:41:29.224Z"
   },
   {
    "duration": 7,
    "start_time": "2022-04-05T03:41:29.235Z"
   },
   {
    "duration": 4,
    "start_time": "2022-04-05T03:41:29.244Z"
   },
   {
    "duration": 1139722,
    "start_time": "2022-04-05T03:41:29.282Z"
   },
   {
    "duration": 22,
    "start_time": "2022-04-05T04:00:29.008Z"
   },
   {
    "duration": 5,
    "start_time": "2022-04-05T04:00:29.034Z"
   },
   {
    "duration": 43,
    "start_time": "2022-04-05T04:00:29.041Z"
   },
   {
    "duration": 541,
    "start_time": "2022-04-05T04:00:29.087Z"
   },
   {
    "duration": 4,
    "start_time": "2022-04-05T04:00:29.630Z"
   },
   {
    "duration": 23,
    "start_time": "2022-04-05T04:00:29.636Z"
   },
   {
    "duration": 23,
    "start_time": "2022-04-05T04:00:29.662Z"
   },
   {
    "duration": 8,
    "start_time": "2022-04-05T04:00:29.688Z"
   },
   {
    "duration": 6,
    "start_time": "2022-04-05T04:00:29.698Z"
   },
   {
    "duration": 4188390,
    "start_time": "2022-04-05T04:00:29.707Z"
   },
   {
    "duration": 42,
    "start_time": "2022-04-05T05:10:18.099Z"
   },
   {
    "duration": 4,
    "start_time": "2022-04-05T05:10:18.143Z"
   },
   {
    "duration": 52,
    "start_time": "2022-04-05T05:10:18.149Z"
   },
   {
    "duration": 29,
    "start_time": "2022-04-05T05:10:18.204Z"
   },
   {
    "duration": 302,
    "start_time": "2022-04-05T05:10:18.235Z"
   },
   {
    "duration": 3,
    "start_time": "2022-04-05T05:10:18.539Z"
   },
   {
    "duration": 11,
    "start_time": "2022-04-05T05:10:18.544Z"
   },
   {
    "duration": 665037,
    "start_time": "2022-04-05T05:10:18.557Z"
   },
   {
    "duration": 29,
    "start_time": "2022-04-05T05:21:23.597Z"
   },
   {
    "duration": 8,
    "start_time": "2022-04-05T05:21:23.628Z"
   },
   {
    "duration": 6,
    "start_time": "2022-04-05T05:21:23.638Z"
   },
   {
    "duration": 37,
    "start_time": "2022-04-05T05:21:23.647Z"
   },
   {
    "duration": 9,
    "start_time": "2022-04-05T05:21:23.686Z"
   },
   {
    "duration": 136247,
    "start_time": "2022-04-05T05:21:23.697Z"
   },
   {
    "duration": 88358,
    "start_time": "2022-04-05T05:23:39.946Z"
   },
   {
    "duration": 22,
    "start_time": "2022-04-05T05:25:08.306Z"
   },
   {
    "duration": 4,
    "start_time": "2022-04-05T05:25:08.330Z"
   },
   {
    "duration": 6,
    "start_time": "2022-04-05T05:25:08.383Z"
   },
   {
    "duration": 7,
    "start_time": "2022-04-05T05:25:08.391Z"
   },
   {
    "duration": 17189,
    "start_time": "2022-04-05T05:25:08.400Z"
   },
   {
    "duration": 8691,
    "start_time": "2022-04-05T05:25:25.591Z"
   },
   {
    "duration": 411,
    "start_time": "2022-04-05T05:25:34.285Z"
   },
   {
    "duration": 401,
    "start_time": "2022-04-05T05:25:34.698Z"
   },
   {
    "duration": 6,
    "start_time": "2022-04-05T05:25:35.102Z"
   },
   {
    "duration": 7,
    "start_time": "2022-04-05T05:25:35.110Z"
   },
   {
    "duration": 10,
    "start_time": "2022-04-05T05:25:35.119Z"
   },
   {
    "duration": 4,
    "start_time": "2022-04-05T05:25:35.131Z"
   },
   {
    "duration": 47,
    "start_time": "2022-04-05T05:25:35.138Z"
   },
   {
    "duration": 9,
    "start_time": "2022-04-05T05:25:35.187Z"
   },
   {
    "duration": 9,
    "start_time": "2022-04-05T05:25:35.198Z"
   },
   {
    "duration": 257,
    "start_time": "2022-04-05T05:25:35.209Z"
   },
   {
    "duration": 27,
    "start_time": "2022-04-05T05:25:35.469Z"
   },
   {
    "duration": 4,
    "start_time": "2022-04-05T05:25:35.499Z"
   },
   {
    "duration": 18783,
    "start_time": "2022-04-05T05:25:35.506Z"
   },
   {
    "duration": 13,
    "start_time": "2022-04-05T05:25:54.291Z"
   },
   {
    "duration": 7,
    "start_time": "2022-04-05T05:25:54.306Z"
   },
   {
    "duration": 6,
    "start_time": "2022-04-05T05:25:54.315Z"
   },
   {
    "duration": 2261,
    "start_time": "2022-04-05T05:25:54.324Z"
   },
   {
    "duration": 5,
    "start_time": "2022-04-05T05:25:56.587Z"
   },
   {
    "duration": 13,
    "start_time": "2022-04-05T05:25:56.594Z"
   },
   {
    "duration": 11,
    "start_time": "2022-04-05T05:25:56.609Z"
   },
   {
    "duration": 10,
    "start_time": "2022-04-05T05:25:56.622Z"
   },
   {
    "duration": 2177,
    "start_time": "2022-04-05T05:25:56.634Z"
   },
   {
    "duration": 4,
    "start_time": "2022-04-05T05:25:58.813Z"
   },
   {
    "duration": 11,
    "start_time": "2022-04-05T05:25:58.819Z"
   },
   {
    "duration": 169,
    "start_time": "2022-04-05T07:23:29.991Z"
   },
   {
    "duration": 12,
    "start_time": "2022-04-05T07:34:39.988Z"
   },
   {
    "duration": 39,
    "start_time": "2022-04-05T07:34:42.323Z"
   },
   {
    "duration": 3,
    "start_time": "2022-04-05T07:34:43.460Z"
   },
   {
    "duration": 28,
    "start_time": "2022-04-05T07:34:44.502Z"
   },
   {
    "duration": 31,
    "start_time": "2022-04-05T07:34:51.772Z"
   },
   {
    "duration": 274,
    "start_time": "2022-04-05T07:34:58.368Z"
   },
   {
    "duration": 11,
    "start_time": "2022-04-05T07:42:07.302Z"
   },
   {
    "duration": 1705,
    "start_time": "2022-04-05T07:42:07.316Z"
   },
   {
    "duration": 310,
    "start_time": "2022-04-05T07:42:09.023Z"
   },
   {
    "duration": 81,
    "start_time": "2022-04-05T07:42:09.336Z"
   },
   {
    "duration": 3,
    "start_time": "2022-04-05T07:42:09.420Z"
   },
   {
    "duration": 7,
    "start_time": "2022-04-05T07:42:09.425Z"
   },
   {
    "duration": 6,
    "start_time": "2022-04-05T07:42:09.434Z"
   },
   {
    "duration": 8,
    "start_time": "2022-04-05T07:42:09.442Z"
   },
   {
    "duration": 31,
    "start_time": "2022-04-05T07:42:09.452Z"
   },
   {
    "duration": 4,
    "start_time": "2022-04-05T07:42:09.487Z"
   },
   {
    "duration": 8,
    "start_time": "2022-04-05T07:42:09.493Z"
   },
   {
    "duration": 7,
    "start_time": "2022-04-05T07:42:09.503Z"
   },
   {
    "duration": 12,
    "start_time": "2022-04-05T07:42:09.512Z"
   },
   {
    "duration": 14,
    "start_time": "2022-04-05T07:42:09.526Z"
   },
   {
    "duration": 42,
    "start_time": "2022-04-05T07:42:09.542Z"
   },
   {
    "duration": 7,
    "start_time": "2022-04-05T07:42:09.586Z"
   },
   {
    "duration": 6,
    "start_time": "2022-04-05T07:42:09.595Z"
   },
   {
    "duration": 15,
    "start_time": "2022-04-05T07:42:09.604Z"
   },
   {
    "duration": 8,
    "start_time": "2022-04-05T07:42:09.621Z"
   },
   {
    "duration": 6,
    "start_time": "2022-04-05T07:42:09.631Z"
   },
   {
    "duration": 43,
    "start_time": "2022-04-05T07:42:09.639Z"
   },
   {
    "duration": 6,
    "start_time": "2022-04-05T07:42:09.684Z"
   },
   {
    "duration": 1910,
    "start_time": "2022-04-05T07:42:09.692Z"
   },
   {
    "duration": 7,
    "start_time": "2022-04-05T07:42:11.604Z"
   },
   {
    "duration": 20,
    "start_time": "2022-04-05T07:42:11.614Z"
   },
   {
    "duration": 1059,
    "start_time": "2022-04-05T07:42:11.636Z"
   },
   {
    "duration": 3,
    "start_time": "2022-04-05T07:42:12.698Z"
   },
   {
    "duration": 84,
    "start_time": "2022-04-05T07:42:12.708Z"
   },
   {
    "duration": 5,
    "start_time": "2022-04-05T07:42:12.794Z"
   },
   {
    "duration": 12,
    "start_time": "2022-04-05T07:42:12.801Z"
   },
   {
    "duration": 26,
    "start_time": "2022-04-05T07:42:12.815Z"
   },
   {
    "duration": 22,
    "start_time": "2022-04-05T07:42:12.843Z"
   },
   {
    "duration": 616,
    "start_time": "2022-04-05T07:42:12.867Z"
   },
   {
    "duration": 724,
    "start_time": "2022-04-05T07:42:13.485Z"
   },
   {
    "duration": 372,
    "start_time": "2022-04-05T07:42:14.211Z"
   },
   {
    "duration": 5,
    "start_time": "2022-04-05T07:42:14.585Z"
   },
   {
    "duration": 156,
    "start_time": "2022-04-05T07:42:14.592Z"
   },
   {
    "duration": 238,
    "start_time": "2022-04-05T07:42:14.751Z"
   },
   {
    "duration": 3,
    "start_time": "2022-04-05T07:42:14.992Z"
   },
   {
    "duration": 181,
    "start_time": "2022-04-05T07:42:14.997Z"
   },
   {
    "duration": 321,
    "start_time": "2022-04-05T07:42:15.181Z"
   },
   {
    "duration": 111,
    "start_time": "2022-04-05T07:42:15.504Z"
   },
   {
    "duration": 8,
    "start_time": "2022-04-05T07:42:15.617Z"
   },
   {
    "duration": 15,
    "start_time": "2022-04-05T07:42:15.627Z"
   },
   {
    "duration": 50,
    "start_time": "2022-04-05T07:42:15.644Z"
   },
   {
    "duration": 11,
    "start_time": "2022-04-05T07:42:15.696Z"
   },
   {
    "duration": 10,
    "start_time": "2022-04-05T07:42:15.709Z"
   },
   {
    "duration": 7,
    "start_time": "2022-04-05T07:42:15.722Z"
   },
   {
    "duration": 5,
    "start_time": "2022-04-05T07:42:15.731Z"
   },
   {
    "duration": 118,
    "start_time": "2022-04-05T07:42:15.738Z"
   },
   {
    "duration": 144,
    "start_time": "2022-04-05T07:42:15.858Z"
   },
   {
    "duration": 87,
    "start_time": "2022-04-05T07:42:16.004Z"
   },
   {
    "duration": 342,
    "start_time": "2022-04-05T07:42:16.094Z"
   },
   {
    "duration": 931,
    "start_time": "2022-04-05T07:42:16.438Z"
   },
   {
    "duration": 880,
    "start_time": "2022-04-05T07:42:17.371Z"
   },
   {
    "duration": 709,
    "start_time": "2022-04-05T07:42:18.253Z"
   },
   {
    "duration": 579,
    "start_time": "2022-04-05T07:42:18.964Z"
   },
   {
    "duration": 13,
    "start_time": "2022-04-05T07:42:19.545Z"
   },
   {
    "duration": 878,
    "start_time": "2022-04-05T07:42:19.561Z"
   },
   {
    "duration": 6,
    "start_time": "2022-04-05T07:42:20.442Z"
   },
   {
    "duration": 111,
    "start_time": "2022-04-05T07:42:20.450Z"
   },
   {
    "duration": 97,
    "start_time": "2022-04-05T07:42:20.564Z"
   },
   {
    "duration": 83,
    "start_time": "2022-04-05T07:42:20.682Z"
   },
   {
    "duration": 95,
    "start_time": "2022-04-05T07:42:20.767Z"
   },
   {
    "duration": 97,
    "start_time": "2022-04-05T07:42:20.864Z"
   },
   {
    "duration": 96,
    "start_time": "2022-04-05T07:42:20.963Z"
   },
   {
    "duration": 41,
    "start_time": "2022-04-05T07:42:21.062Z"
   },
   {
    "duration": 1457,
    "start_time": "2022-04-05T07:42:21.106Z"
   },
   {
    "duration": 51,
    "start_time": "2022-04-05T07:42:22.565Z"
   },
   {
    "duration": 20,
    "start_time": "2022-04-05T07:42:22.618Z"
   },
   {
    "duration": 15,
    "start_time": "2022-04-05T07:42:22.640Z"
   },
   {
    "duration": 2400,
    "start_time": "2022-04-05T07:42:22.682Z"
   },
   {
    "duration": 55,
    "start_time": "2022-04-05T07:42:25.085Z"
   },
   {
    "duration": 1130,
    "start_time": "2022-04-05T07:42:25.143Z"
   },
   {
    "duration": 1123,
    "start_time": "2022-04-05T07:42:26.276Z"
   },
   {
    "duration": 1235,
    "start_time": "2022-04-05T07:42:27.402Z"
   },
   {
    "duration": 69,
    "start_time": "2022-04-05T07:42:28.640Z"
   },
   {
    "duration": 1053,
    "start_time": "2022-04-05T07:42:28.712Z"
   },
   {
    "duration": 1068,
    "start_time": "2022-04-05T07:42:29.768Z"
   },
   {
    "duration": 519,
    "start_time": "2022-04-05T07:42:30.839Z"
   },
   {
    "duration": 73,
    "start_time": "2022-04-05T07:42:31.361Z"
   },
   {
    "duration": 7,
    "start_time": "2022-04-05T07:42:31.447Z"
   },
   {
    "duration": 25,
    "start_time": "2022-04-05T07:42:31.457Z"
   },
   {
    "duration": 19,
    "start_time": "2022-04-05T07:42:31.485Z"
   },
   {
    "duration": 18,
    "start_time": "2022-04-05T07:42:31.507Z"
   },
   {
    "duration": 39,
    "start_time": "2022-04-05T07:42:31.528Z"
   },
   {
    "duration": 22,
    "start_time": "2022-04-05T07:42:31.569Z"
   },
   {
    "duration": 22,
    "start_time": "2022-04-05T07:42:31.593Z"
   },
   {
    "duration": 96,
    "start_time": "2022-04-05T07:42:31.618Z"
   },
   {
    "duration": 668,
    "start_time": "2022-04-05T07:42:31.716Z"
   },
   {
    "duration": 22,
    "start_time": "2022-04-05T07:42:32.387Z"
   },
   {
    "duration": 6,
    "start_time": "2022-04-05T07:42:32.411Z"
   },
   {
    "duration": 39,
    "start_time": "2022-04-05T07:42:32.419Z"
   },
   {
    "duration": 1118,
    "start_time": "2022-04-05T07:42:32.482Z"
   },
   {
    "duration": 20,
    "start_time": "2022-04-05T07:42:33.603Z"
   },
   {
    "duration": 478,
    "start_time": "2022-04-05T07:42:33.625Z"
   },
   {
    "duration": 82,
    "start_time": "2022-04-05T07:42:34.105Z"
   },
   {
    "duration": 7,
    "start_time": "2022-04-05T07:42:34.189Z"
   },
   {
    "duration": 1168,
    "start_time": "2022-04-05T07:42:34.198Z"
   },
   {
    "duration": 1254,
    "start_time": "2022-04-05T07:42:35.369Z"
   },
   {
    "duration": 22,
    "start_time": "2022-04-05T07:42:36.625Z"
   },
   {
    "duration": 39,
    "start_time": "2022-04-05T07:42:36.650Z"
   },
   {
    "duration": 4,
    "start_time": "2022-04-05T07:42:36.692Z"
   },
   {
    "duration": 9,
    "start_time": "2022-04-05T07:42:36.698Z"
   },
   {
    "duration": 112,
    "start_time": "2022-04-05T07:42:36.709Z"
   },
   {
    "duration": 11,
    "start_time": "2022-04-05T07:42:36.823Z"
   },
   {
    "duration": 25,
    "start_time": "2022-04-05T07:42:36.837Z"
   },
   {
    "duration": 18,
    "start_time": "2022-04-05T07:42:36.882Z"
   },
   {
    "duration": 8,
    "start_time": "2022-04-05T07:42:36.902Z"
   },
   {
    "duration": 7,
    "start_time": "2022-04-05T07:42:36.912Z"
   },
   {
    "duration": 5,
    "start_time": "2022-04-05T07:42:36.921Z"
   },
   {
    "duration": 9,
    "start_time": "2022-04-05T07:42:36.928Z"
   },
   {
    "duration": 6,
    "start_time": "2022-04-05T07:42:36.939Z"
   },
   {
    "duration": 38,
    "start_time": "2022-04-05T07:42:36.947Z"
   },
   {
    "duration": 8,
    "start_time": "2022-04-05T07:42:36.987Z"
   },
   {
    "duration": 9067,
    "start_time": "2022-04-05T07:42:36.998Z"
   },
   {
    "duration": 53641,
    "start_time": "2022-04-05T07:42:46.067Z"
   },
   {
    "duration": 5,
    "start_time": "2022-04-05T07:43:39.710Z"
   },
   {
    "duration": 10,
    "start_time": "2022-04-05T07:43:39.717Z"
   },
   {
    "duration": 46969,
    "start_time": "2022-04-05T07:43:39.728Z"
   },
   {
    "duration": 26,
    "start_time": "2022-04-05T07:44:26.700Z"
   },
   {
    "duration": 6,
    "start_time": "2022-04-05T07:44:26.728Z"
   },
   {
    "duration": 51,
    "start_time": "2022-04-05T07:44:26.736Z"
   },
   {
    "duration": 13418,
    "start_time": "2022-04-05T07:44:26.789Z"
   },
   {
    "duration": 148428,
    "start_time": "2022-04-05T07:44:40.210Z"
   },
   {
    "duration": 8,
    "start_time": "2022-04-05T07:47:08.640Z"
   },
   {
    "duration": 31,
    "start_time": "2022-04-05T07:47:08.651Z"
   },
   {
    "duration": 50447,
    "start_time": "2022-04-05T07:47:08.684Z"
   },
   {
    "duration": 4,
    "start_time": "2022-04-05T07:47:59.134Z"
   },
   {
    "duration": 375,
    "start_time": "2022-04-05T07:47:59.142Z"
   },
   {
    "duration": 161,
    "start_time": "2022-04-05T07:47:59.519Z"
   },
   {
    "duration": 14,
    "start_time": "2022-04-05T07:47:59.682Z"
   },
   {
    "duration": 0,
    "start_time": "2022-04-05T07:47:59.699Z"
   },
   {
    "duration": 0,
    "start_time": "2022-04-05T07:47:59.701Z"
   },
   {
    "duration": 0,
    "start_time": "2022-04-05T07:47:59.703Z"
   },
   {
    "duration": 0,
    "start_time": "2022-04-05T07:47:59.705Z"
   },
   {
    "duration": 0,
    "start_time": "2022-04-05T07:47:59.707Z"
   },
   {
    "duration": 0,
    "start_time": "2022-04-05T07:47:59.709Z"
   },
   {
    "duration": 0,
    "start_time": "2022-04-05T07:47:59.711Z"
   },
   {
    "duration": 0,
    "start_time": "2022-04-05T07:47:59.713Z"
   },
   {
    "duration": 0,
    "start_time": "2022-04-05T07:47:59.715Z"
   },
   {
    "duration": 0,
    "start_time": "2022-04-05T07:47:59.717Z"
   },
   {
    "duration": 0,
    "start_time": "2022-04-05T07:47:59.719Z"
   },
   {
    "duration": 0,
    "start_time": "2022-04-05T07:47:59.721Z"
   },
   {
    "duration": 0,
    "start_time": "2022-04-05T07:47:59.723Z"
   },
   {
    "duration": 0,
    "start_time": "2022-04-05T07:47:59.725Z"
   },
   {
    "duration": 0,
    "start_time": "2022-04-05T07:47:59.727Z"
   },
   {
    "duration": 0,
    "start_time": "2022-04-05T07:47:59.783Z"
   },
   {
    "duration": 0,
    "start_time": "2022-04-05T07:47:59.785Z"
   },
   {
    "duration": 0,
    "start_time": "2022-04-05T07:47:59.787Z"
   },
   {
    "duration": 0,
    "start_time": "2022-04-05T07:47:59.790Z"
   },
   {
    "duration": 0,
    "start_time": "2022-04-05T07:47:59.791Z"
   },
   {
    "duration": 0,
    "start_time": "2022-04-05T07:47:59.794Z"
   },
   {
    "duration": 0,
    "start_time": "2022-04-05T07:47:59.797Z"
   },
   {
    "duration": 0,
    "start_time": "2022-04-05T07:47:59.798Z"
   },
   {
    "duration": 0,
    "start_time": "2022-04-05T07:47:59.801Z"
   },
   {
    "duration": 0,
    "start_time": "2022-04-05T07:47:59.803Z"
   },
   {
    "duration": 0,
    "start_time": "2022-04-05T07:47:59.805Z"
   },
   {
    "duration": 0,
    "start_time": "2022-04-05T07:47:59.807Z"
   },
   {
    "duration": 0,
    "start_time": "2022-04-05T07:47:59.809Z"
   },
   {
    "duration": 0,
    "start_time": "2022-04-05T07:47:59.811Z"
   },
   {
    "duration": 0,
    "start_time": "2022-04-05T07:47:59.813Z"
   },
   {
    "duration": 0,
    "start_time": "2022-04-05T07:47:59.815Z"
   },
   {
    "duration": 0,
    "start_time": "2022-04-05T07:47:59.817Z"
   },
   {
    "duration": 0,
    "start_time": "2022-04-05T07:47:59.882Z"
   },
   {
    "duration": 0,
    "start_time": "2022-04-05T07:47:59.884Z"
   },
   {
    "duration": 0,
    "start_time": "2022-04-05T07:47:59.886Z"
   },
   {
    "duration": 0,
    "start_time": "2022-04-05T07:47:59.888Z"
   },
   {
    "duration": 0,
    "start_time": "2022-04-05T07:47:59.890Z"
   },
   {
    "duration": 0,
    "start_time": "2022-04-05T07:47:59.892Z"
   },
   {
    "duration": 0,
    "start_time": "2022-04-05T07:47:59.894Z"
   },
   {
    "duration": 0,
    "start_time": "2022-04-05T07:47:59.896Z"
   },
   {
    "duration": 0,
    "start_time": "2022-04-05T07:47:59.897Z"
   },
   {
    "duration": 0,
    "start_time": "2022-04-05T07:47:59.899Z"
   },
   {
    "duration": 0,
    "start_time": "2022-04-05T07:47:59.901Z"
   },
   {
    "duration": 0,
    "start_time": "2022-04-05T07:47:59.903Z"
   },
   {
    "duration": 0,
    "start_time": "2022-04-05T07:47:59.904Z"
   },
   {
    "duration": 0,
    "start_time": "2022-04-05T07:47:59.906Z"
   },
   {
    "duration": 0,
    "start_time": "2022-04-05T07:47:59.908Z"
   },
   {
    "duration": 0,
    "start_time": "2022-04-05T07:47:59.909Z"
   },
   {
    "duration": 0,
    "start_time": "2022-04-05T07:47:59.911Z"
   },
   {
    "duration": 0,
    "start_time": "2022-04-05T07:47:59.913Z"
   },
   {
    "duration": 0,
    "start_time": "2022-04-05T07:47:59.915Z"
   },
   {
    "duration": 0,
    "start_time": "2022-04-05T07:47:59.917Z"
   },
   {
    "duration": 0,
    "start_time": "2022-04-05T07:47:59.918Z"
   },
   {
    "duration": 0,
    "start_time": "2022-04-05T07:47:59.982Z"
   },
   {
    "duration": 0,
    "start_time": "2022-04-05T07:47:59.984Z"
   },
   {
    "duration": 0,
    "start_time": "2022-04-05T07:47:59.985Z"
   },
   {
    "duration": 0,
    "start_time": "2022-04-05T07:47:59.987Z"
   },
   {
    "duration": 0,
    "start_time": "2022-04-05T07:47:59.988Z"
   },
   {
    "duration": 0,
    "start_time": "2022-04-05T07:47:59.990Z"
   },
   {
    "duration": 0,
    "start_time": "2022-04-05T07:47:59.991Z"
   },
   {
    "duration": 0,
    "start_time": "2022-04-05T07:47:59.992Z"
   },
   {
    "duration": 0,
    "start_time": "2022-04-05T07:47:59.994Z"
   },
   {
    "duration": 0,
    "start_time": "2022-04-05T07:47:59.995Z"
   },
   {
    "duration": 0,
    "start_time": "2022-04-05T07:47:59.997Z"
   },
   {
    "duration": 0,
    "start_time": "2022-04-05T07:47:59.998Z"
   },
   {
    "duration": 0,
    "start_time": "2022-04-05T07:48:00.000Z"
   },
   {
    "duration": 0,
    "start_time": "2022-04-05T07:48:00.001Z"
   },
   {
    "duration": 0,
    "start_time": "2022-04-05T07:48:00.003Z"
   },
   {
    "duration": 0,
    "start_time": "2022-04-05T07:48:00.004Z"
   },
   {
    "duration": 0,
    "start_time": "2022-04-05T07:48:00.006Z"
   },
   {
    "duration": 0,
    "start_time": "2022-04-05T07:48:00.008Z"
   },
   {
    "duration": 7,
    "start_time": "2022-04-05T08:18:58.256Z"
   },
   {
    "duration": 6,
    "start_time": "2022-04-05T08:19:11.266Z"
   },
   {
    "duration": 354,
    "start_time": "2022-04-05T08:19:15.047Z"
   },
   {
    "duration": 12887,
    "start_time": "2022-04-05T08:19:28.005Z"
   },
   {
    "duration": 426690,
    "start_time": "2022-04-05T08:19:54.615Z"
   },
   {
    "duration": 75,
    "start_time": "2022-04-05T08:27:01.307Z"
   },
   {
    "duration": 6,
    "start_time": "2022-04-05T08:27:01.385Z"
   },
   {
    "duration": 74812,
    "start_time": "2022-04-05T08:27:01.394Z"
   },
   {
    "duration": 4,
    "start_time": "2022-04-05T08:28:16.209Z"
   },
   {
    "duration": 5,
    "start_time": "2022-04-05T08:28:40.107Z"
   },
   {
    "duration": 5,
    "start_time": "2022-04-05T08:28:41.632Z"
   },
   {
    "duration": 1242,
    "start_time": "2022-04-05T08:28:43.149Z"
   },
   {
    "duration": 10,
    "start_time": "2022-04-05T08:28:44.394Z"
   },
   {
    "duration": 25,
    "start_time": "2022-04-05T08:28:44.406Z"
   },
   {
    "duration": 9,
    "start_time": "2022-04-05T08:28:44.434Z"
   },
   {
    "duration": 4,
    "start_time": "2022-04-05T08:28:48.328Z"
   },
   {
    "duration": 3,
    "start_time": "2022-04-05T08:28:48.928Z"
   },
   {
    "duration": 5,
    "start_time": "2022-04-05T08:28:50.961Z"
   },
   {
    "duration": 14,
    "start_time": "2022-04-05T08:28:51.286Z"
   },
   {
    "duration": 3,
    "start_time": "2022-04-05T08:28:51.777Z"
   },
   {
    "duration": 16,
    "start_time": "2022-04-05T08:28:52.166Z"
   },
   {
    "duration": 288,
    "start_time": "2022-04-05T08:28:52.540Z"
   },
   {
    "duration": 3,
    "start_time": "2022-04-05T08:28:54.638Z"
   },
   {
    "duration": 5,
    "start_time": "2022-04-05T08:28:54.865Z"
   },
   {
    "duration": 4,
    "start_time": "2022-04-05T08:28:56.181Z"
   },
   {
    "duration": 6,
    "start_time": "2022-04-05T08:28:56.970Z"
   },
   {
    "duration": 4,
    "start_time": "2022-04-05T08:28:58.114Z"
   },
   {
    "duration": 13,
    "start_time": "2022-04-05T08:28:58.352Z"
   },
   {
    "duration": 39,
    "start_time": "2022-04-05T08:29:00.136Z"
   },
   {
    "duration": 3,
    "start_time": "2022-04-05T08:29:00.618Z"
   },
   {
    "duration": 28,
    "start_time": "2022-04-05T08:29:00.863Z"
   },
   {
    "duration": 28,
    "start_time": "2022-04-05T08:29:01.222Z"
   },
   {
    "duration": 297,
    "start_time": "2022-04-05T08:29:04.570Z"
   },
   {
    "duration": 4,
    "start_time": "2022-04-05T08:29:06.204Z"
   },
   {
    "duration": 4,
    "start_time": "2022-04-05T08:29:13.896Z"
   },
   {
    "duration": 9,
    "start_time": "2022-04-05T08:29:14.151Z"
   },
   {
    "duration": 28,
    "start_time": "2022-04-05T08:29:15.937Z"
   },
   {
    "duration": 4,
    "start_time": "2022-04-05T08:29:17.654Z"
   },
   {
    "duration": 4,
    "start_time": "2022-04-05T08:29:18.260Z"
   },
   {
    "duration": 7,
    "start_time": "2022-04-05T08:29:19.385Z"
   },
   {
    "duration": 3,
    "start_time": "2022-04-05T08:29:21.663Z"
   },
   {
    "duration": 153121,
    "start_time": "2022-04-05T08:29:24.307Z"
   },
   {
    "duration": 113374,
    "start_time": "2022-04-05T08:31:57.431Z"
   },
   {
    "duration": 82899,
    "start_time": "2022-04-05T08:33:50.807Z"
   },
   {
    "duration": 79,
    "start_time": "2022-04-05T08:35:13.709Z"
   },
   {
    "duration": 5,
    "start_time": "2022-04-05T08:36:16.985Z"
   },
   {
    "duration": 6,
    "start_time": "2022-04-05T08:36:18.224Z"
   },
   {
    "duration": 3,
    "start_time": "2022-04-05T08:36:19.397Z"
   },
   {
    "duration": 23002,
    "start_time": "2022-04-05T08:36:20.699Z"
   },
   {
    "duration": 8998,
    "start_time": "2022-04-05T08:36:43.784Z"
   },
   {
    "duration": 417,
    "start_time": "2022-04-05T08:36:52.785Z"
   },
   {
    "duration": 508,
    "start_time": "2022-04-05T08:36:53.205Z"
   },
   {
    "duration": 8,
    "start_time": "2022-04-05T08:36:53.716Z"
   },
   {
    "duration": 8,
    "start_time": "2022-04-05T08:36:53.784Z"
   },
   {
    "duration": 11,
    "start_time": "2022-04-05T08:36:53.795Z"
   },
   {
    "duration": 4,
    "start_time": "2022-04-05T08:36:53.808Z"
   },
   {
    "duration": 7,
    "start_time": "2022-04-05T08:36:53.814Z"
   },
   {
    "duration": 58,
    "start_time": "2022-04-05T08:36:53.824Z"
   },
   {
    "duration": 9,
    "start_time": "2022-04-05T08:36:53.884Z"
   },
   {
    "duration": 431,
    "start_time": "2022-04-05T08:36:53.895Z"
   },
   {
    "duration": 68,
    "start_time": "2022-04-05T08:36:54.328Z"
   },
   {
    "duration": 4,
    "start_time": "2022-04-05T08:36:54.398Z"
   },
   {
    "duration": 26700,
    "start_time": "2022-04-05T08:36:54.404Z"
   },
   {
    "duration": 13,
    "start_time": "2022-04-05T08:37:21.106Z"
   },
   {
    "duration": 6,
    "start_time": "2022-04-05T08:37:21.122Z"
   },
   {
    "duration": 5,
    "start_time": "2022-04-05T08:37:21.130Z"
   },
   {
    "duration": 2177,
    "start_time": "2022-04-05T08:37:21.137Z"
   },
   {
    "duration": 5,
    "start_time": "2022-04-05T08:37:23.382Z"
   },
   {
    "duration": 16,
    "start_time": "2022-04-05T08:37:23.389Z"
   },
   {
    "duration": 10,
    "start_time": "2022-04-05T08:37:23.407Z"
   },
   {
    "duration": 17,
    "start_time": "2022-04-05T08:37:23.420Z"
   },
   {
    "duration": 2348,
    "start_time": "2022-04-05T08:37:23.439Z"
   },
   {
    "duration": 6,
    "start_time": "2022-04-05T08:37:25.790Z"
   },
   {
    "duration": 17,
    "start_time": "2022-04-05T08:37:25.798Z"
   },
   {
    "duration": 293,
    "start_time": "2022-04-05T08:37:25.817Z"
   },
   {
    "duration": 36,
    "start_time": "2022-04-05T08:59:49.504Z"
   },
   {
    "duration": 110,
    "start_time": "2022-04-05T08:59:58.535Z"
   },
   {
    "duration": 12,
    "start_time": "2022-04-05T09:00:12.393Z"
   },
   {
    "duration": 1746,
    "start_time": "2022-04-05T09:00:12.409Z"
   },
   {
    "duration": 315,
    "start_time": "2022-04-05T09:00:14.157Z"
   },
   {
    "duration": 84,
    "start_time": "2022-04-05T09:00:14.475Z"
   },
   {
    "duration": 4,
    "start_time": "2022-04-05T09:00:14.561Z"
   },
   {
    "duration": 3,
    "start_time": "2022-04-05T09:00:14.582Z"
   },
   {
    "duration": 7,
    "start_time": "2022-04-05T09:00:14.588Z"
   },
   {
    "duration": 8,
    "start_time": "2022-04-05T09:00:14.597Z"
   },
   {
    "duration": 9,
    "start_time": "2022-04-05T09:00:14.609Z"
   },
   {
    "duration": 7,
    "start_time": "2022-04-05T09:00:14.620Z"
   },
   {
    "duration": 8,
    "start_time": "2022-04-05T09:00:14.629Z"
   },
   {
    "duration": 46,
    "start_time": "2022-04-05T09:00:14.639Z"
   },
   {
    "duration": 11,
    "start_time": "2022-04-05T09:00:14.688Z"
   },
   {
    "duration": 15,
    "start_time": "2022-04-05T09:00:14.701Z"
   },
   {
    "duration": 10,
    "start_time": "2022-04-05T09:00:14.718Z"
   },
   {
    "duration": 8,
    "start_time": "2022-04-05T09:00:14.730Z"
   },
   {
    "duration": 43,
    "start_time": "2022-04-05T09:00:14.740Z"
   },
   {
    "duration": 17,
    "start_time": "2022-04-05T09:00:14.786Z"
   },
   {
    "duration": 11,
    "start_time": "2022-04-05T09:00:14.806Z"
   },
   {
    "duration": 9,
    "start_time": "2022-04-05T09:00:14.819Z"
   },
   {
    "duration": 12,
    "start_time": "2022-04-05T09:00:14.831Z"
   },
   {
    "duration": 7,
    "start_time": "2022-04-05T09:00:14.845Z"
   },
   {
    "duration": 2116,
    "start_time": "2022-04-05T09:00:14.883Z"
   },
   {
    "duration": 7,
    "start_time": "2022-04-05T09:00:17.008Z"
   },
   {
    "duration": 20,
    "start_time": "2022-04-05T09:00:17.018Z"
   },
   {
    "duration": 1241,
    "start_time": "2022-04-05T09:00:17.041Z"
   },
   {
    "duration": 5,
    "start_time": "2022-04-05T09:00:18.284Z"
   },
   {
    "duration": 95,
    "start_time": "2022-04-05T09:00:18.292Z"
   },
   {
    "duration": 5,
    "start_time": "2022-04-05T09:00:18.390Z"
   },
   {
    "duration": 9,
    "start_time": "2022-04-05T09:00:18.398Z"
   },
   {
    "duration": 4,
    "start_time": "2022-04-05T09:00:18.410Z"
   },
   {
    "duration": 10,
    "start_time": "2022-04-05T09:00:18.416Z"
   },
   {
    "duration": 677,
    "start_time": "2022-04-05T09:00:18.428Z"
   },
   {
    "duration": 725,
    "start_time": "2022-04-05T09:00:19.107Z"
   },
   {
    "duration": 390,
    "start_time": "2022-04-05T09:00:19.834Z"
   },
   {
    "duration": 6,
    "start_time": "2022-04-05T09:00:20.226Z"
   },
   {
    "duration": 169,
    "start_time": "2022-04-05T09:00:20.234Z"
   },
   {
    "duration": 383,
    "start_time": "2022-04-05T09:00:20.406Z"
   },
   {
    "duration": 4,
    "start_time": "2022-04-05T09:00:20.792Z"
   },
   {
    "duration": 203,
    "start_time": "2022-04-05T09:00:20.799Z"
   },
   {
    "duration": 405,
    "start_time": "2022-04-05T09:00:21.005Z"
   },
   {
    "duration": 118,
    "start_time": "2022-04-05T09:00:21.413Z"
   },
   {
    "duration": 8,
    "start_time": "2022-04-05T09:00:21.534Z"
   },
   {
    "duration": 12,
    "start_time": "2022-04-05T09:00:21.545Z"
   },
   {
    "duration": 20,
    "start_time": "2022-04-05T09:00:21.583Z"
   },
   {
    "duration": 11,
    "start_time": "2022-04-05T09:00:21.605Z"
   },
   {
    "duration": 11,
    "start_time": "2022-04-05T09:00:21.618Z"
   },
   {
    "duration": 10,
    "start_time": "2022-04-05T09:00:21.632Z"
   },
   {
    "duration": 42,
    "start_time": "2022-04-05T09:00:21.644Z"
   },
   {
    "duration": 96,
    "start_time": "2022-04-05T09:00:21.688Z"
   },
   {
    "duration": 144,
    "start_time": "2022-04-05T09:00:21.787Z"
   },
   {
    "duration": 86,
    "start_time": "2022-04-05T09:00:21.933Z"
   },
   {
    "duration": 348,
    "start_time": "2022-04-05T09:00:22.022Z"
   },
   {
    "duration": 923,
    "start_time": "2022-04-05T09:00:22.373Z"
   },
   {
    "duration": 899,
    "start_time": "2022-04-05T09:00:23.298Z"
   },
   {
    "duration": 731,
    "start_time": "2022-04-05T09:00:24.200Z"
   },
   {
    "duration": 587,
    "start_time": "2022-04-05T09:00:24.933Z"
   },
   {
    "duration": 14,
    "start_time": "2022-04-05T09:00:25.522Z"
   },
   {
    "duration": 875,
    "start_time": "2022-04-05T09:00:25.538Z"
   },
   {
    "duration": 5,
    "start_time": "2022-04-05T09:00:26.415Z"
   },
   {
    "duration": 115,
    "start_time": "2022-04-05T09:00:26.423Z"
   },
   {
    "duration": 99,
    "start_time": "2022-04-05T09:00:26.540Z"
   },
   {
    "duration": 105,
    "start_time": "2022-04-05T09:00:26.642Z"
   },
   {
    "duration": 96,
    "start_time": "2022-04-05T09:00:26.749Z"
   },
   {
    "duration": 98,
    "start_time": "2022-04-05T09:00:26.848Z"
   },
   {
    "duration": 157,
    "start_time": "2022-04-05T09:00:26.949Z"
   },
   {
    "duration": 37,
    "start_time": "2022-04-05T09:00:27.109Z"
   },
   {
    "duration": 2178,
    "start_time": "2022-04-05T09:00:27.149Z"
   },
   {
    "duration": 65,
    "start_time": "2022-04-05T09:00:29.349Z"
   },
   {
    "duration": 25,
    "start_time": "2022-04-05T09:00:29.417Z"
   },
   {
    "duration": 36,
    "start_time": "2022-04-05T09:00:29.446Z"
   },
   {
    "duration": 3859,
    "start_time": "2022-04-05T09:00:29.486Z"
   },
   {
    "duration": 73,
    "start_time": "2022-04-05T09:00:33.348Z"
   },
   {
    "duration": 1572,
    "start_time": "2022-04-05T09:00:33.424Z"
   },
   {
    "duration": 1555,
    "start_time": "2022-04-05T09:00:35.000Z"
   },
   {
    "duration": 1694,
    "start_time": "2022-04-05T09:00:36.558Z"
   },
   {
    "duration": 76,
    "start_time": "2022-04-05T09:00:38.255Z"
   },
   {
    "duration": 1662,
    "start_time": "2022-04-05T09:00:38.334Z"
   },
   {
    "duration": 1288,
    "start_time": "2022-04-05T09:00:39.999Z"
   },
   {
    "duration": 743,
    "start_time": "2022-04-05T09:00:41.291Z"
   },
   {
    "duration": 101,
    "start_time": "2022-04-05T09:00:42.037Z"
   },
   {
    "duration": 8,
    "start_time": "2022-04-05T09:00:42.141Z"
   },
   {
    "duration": 5,
    "start_time": "2022-04-05T09:00:42.151Z"
   },
   {
    "duration": 24,
    "start_time": "2022-04-05T09:00:42.159Z"
   },
   {
    "duration": 17,
    "start_time": "2022-04-05T09:00:42.186Z"
   },
   {
    "duration": 28,
    "start_time": "2022-04-05T09:00:42.205Z"
   },
   {
    "duration": 50,
    "start_time": "2022-04-05T09:00:42.236Z"
   },
   {
    "duration": 16,
    "start_time": "2022-04-05T09:00:42.288Z"
   },
   {
    "duration": 106,
    "start_time": "2022-04-05T09:00:42.306Z"
   },
   {
    "duration": 641,
    "start_time": "2022-04-05T09:00:42.415Z"
   },
   {
    "duration": 32,
    "start_time": "2022-04-05T09:00:43.058Z"
   },
   {
    "duration": 4,
    "start_time": "2022-04-05T09:00:43.092Z"
   },
   {
    "duration": 63,
    "start_time": "2022-04-05T09:00:43.098Z"
   },
   {
    "duration": 1153,
    "start_time": "2022-04-05T09:00:43.164Z"
   },
   {
    "duration": 19,
    "start_time": "2022-04-05T09:00:44.320Z"
   },
   {
    "duration": 479,
    "start_time": "2022-04-05T09:00:44.341Z"
   },
   {
    "duration": 86,
    "start_time": "2022-04-05T09:00:44.822Z"
   },
   {
    "duration": 9,
    "start_time": "2022-04-05T09:00:44.911Z"
   },
   {
    "duration": 1321,
    "start_time": "2022-04-05T09:00:44.923Z"
   },
   {
    "duration": 1279,
    "start_time": "2022-04-05T09:00:46.248Z"
   },
   {
    "duration": 20,
    "start_time": "2022-04-05T09:00:47.530Z"
   },
   {
    "duration": 40,
    "start_time": "2022-04-05T09:00:47.553Z"
   },
   {
    "duration": 5,
    "start_time": "2022-04-05T09:00:47.595Z"
   },
   {
    "duration": 8,
    "start_time": "2022-04-05T09:00:47.602Z"
   },
   {
    "duration": 109,
    "start_time": "2022-04-05T09:00:47.613Z"
   },
   {
    "duration": 11,
    "start_time": "2022-04-05T09:00:47.725Z"
   },
   {
    "duration": 24,
    "start_time": "2022-04-05T09:00:47.739Z"
   },
   {
    "duration": 18,
    "start_time": "2022-04-05T09:00:47.782Z"
   },
   {
    "duration": 10,
    "start_time": "2022-04-05T09:00:47.802Z"
   },
   {
    "duration": 9,
    "start_time": "2022-04-05T09:00:47.814Z"
   },
   {
    "duration": 5,
    "start_time": "2022-04-05T09:00:47.825Z"
   },
   {
    "duration": 5,
    "start_time": "2022-04-05T09:00:47.832Z"
   },
   {
    "duration": 45,
    "start_time": "2022-04-05T09:00:47.839Z"
   },
   {
    "duration": 6,
    "start_time": "2022-04-05T09:00:47.886Z"
   },
   {
    "duration": 8,
    "start_time": "2022-04-05T09:00:47.894Z"
   },
   {
    "duration": 9155,
    "start_time": "2022-04-05T09:00:47.904Z"
   },
   {
    "duration": 60246,
    "start_time": "2022-04-05T09:00:57.061Z"
   },
   {
    "duration": 5,
    "start_time": "2022-04-05T09:01:57.310Z"
   },
   {
    "duration": 18,
    "start_time": "2022-04-05T09:01:57.317Z"
   },
   {
    "duration": 749917,
    "start_time": "2022-04-05T09:01:57.338Z"
   },
   {
    "duration": 24,
    "start_time": "2022-04-05T09:14:27.258Z"
   },
   {
    "duration": 8,
    "start_time": "2022-04-05T09:14:27.285Z"
   },
   {
    "duration": 9,
    "start_time": "2022-04-05T09:14:27.295Z"
   },
   {
    "duration": 4280,
    "start_time": "2022-04-05T09:14:27.307Z"
   },
   {
    "duration": 185,
    "start_time": "2022-04-05T09:14:31.590Z"
   },
   {
    "duration": 19,
    "start_time": "2022-04-05T09:14:31.778Z"
   },
   {
    "duration": 0,
    "start_time": "2022-04-05T09:14:31.801Z"
   },
   {
    "duration": 0,
    "start_time": "2022-04-05T09:14:31.803Z"
   },
   {
    "duration": 0,
    "start_time": "2022-04-05T09:14:31.805Z"
   },
   {
    "duration": 0,
    "start_time": "2022-04-05T09:14:31.807Z"
   },
   {
    "duration": 0,
    "start_time": "2022-04-05T09:14:31.810Z"
   },
   {
    "duration": 0,
    "start_time": "2022-04-05T09:14:31.811Z"
   },
   {
    "duration": 0,
    "start_time": "2022-04-05T09:14:31.813Z"
   },
   {
    "duration": 0,
    "start_time": "2022-04-05T09:14:31.815Z"
   },
   {
    "duration": 0,
    "start_time": "2022-04-05T09:14:31.817Z"
   },
   {
    "duration": 0,
    "start_time": "2022-04-05T09:14:31.819Z"
   },
   {
    "duration": 0,
    "start_time": "2022-04-05T09:14:31.821Z"
   },
   {
    "duration": 1,
    "start_time": "2022-04-05T09:14:31.822Z"
   },
   {
    "duration": 0,
    "start_time": "2022-04-05T09:14:31.825Z"
   },
   {
    "duration": 0,
    "start_time": "2022-04-05T09:14:31.826Z"
   },
   {
    "duration": 0,
    "start_time": "2022-04-05T09:14:31.827Z"
   },
   {
    "duration": 0,
    "start_time": "2022-04-05T09:14:31.829Z"
   },
   {
    "duration": 0,
    "start_time": "2022-04-05T09:14:31.883Z"
   },
   {
    "duration": 0,
    "start_time": "2022-04-05T09:14:31.885Z"
   },
   {
    "duration": 0,
    "start_time": "2022-04-05T09:14:31.888Z"
   },
   {
    "duration": 0,
    "start_time": "2022-04-05T09:14:31.890Z"
   },
   {
    "duration": 0,
    "start_time": "2022-04-05T09:14:31.892Z"
   },
   {
    "duration": 0,
    "start_time": "2022-04-05T09:14:31.894Z"
   },
   {
    "duration": 0,
    "start_time": "2022-04-05T09:14:31.896Z"
   },
   {
    "duration": 0,
    "start_time": "2022-04-05T09:14:31.898Z"
   },
   {
    "duration": 0,
    "start_time": "2022-04-05T09:14:31.900Z"
   },
   {
    "duration": 0,
    "start_time": "2022-04-05T09:14:31.902Z"
   },
   {
    "duration": 0,
    "start_time": "2022-04-05T09:14:31.904Z"
   },
   {
    "duration": 0,
    "start_time": "2022-04-05T09:14:31.906Z"
   },
   {
    "duration": 0,
    "start_time": "2022-04-05T09:14:31.909Z"
   },
   {
    "duration": 0,
    "start_time": "2022-04-05T09:14:31.912Z"
   },
   {
    "duration": 0,
    "start_time": "2022-04-05T09:14:31.914Z"
   },
   {
    "duration": 0,
    "start_time": "2022-04-05T09:14:31.916Z"
   },
   {
    "duration": 0,
    "start_time": "2022-04-05T09:14:31.982Z"
   },
   {
    "duration": 0,
    "start_time": "2022-04-05T09:14:31.984Z"
   },
   {
    "duration": 0,
    "start_time": "2022-04-05T09:14:31.986Z"
   },
   {
    "duration": 0,
    "start_time": "2022-04-05T09:14:31.989Z"
   },
   {
    "duration": 0,
    "start_time": "2022-04-05T09:14:31.991Z"
   },
   {
    "duration": 0,
    "start_time": "2022-04-05T09:14:31.993Z"
   },
   {
    "duration": 0,
    "start_time": "2022-04-05T09:14:31.996Z"
   },
   {
    "duration": 0,
    "start_time": "2022-04-05T09:14:31.998Z"
   },
   {
    "duration": 0,
    "start_time": "2022-04-05T09:14:32.000Z"
   },
   {
    "duration": 0,
    "start_time": "2022-04-05T09:14:32.002Z"
   },
   {
    "duration": 0,
    "start_time": "2022-04-05T09:14:32.004Z"
   },
   {
    "duration": 0,
    "start_time": "2022-04-05T09:14:32.006Z"
   },
   {
    "duration": 0,
    "start_time": "2022-04-05T09:14:32.008Z"
   },
   {
    "duration": 0,
    "start_time": "2022-04-05T09:14:32.010Z"
   },
   {
    "duration": 0,
    "start_time": "2022-04-05T09:14:32.012Z"
   },
   {
    "duration": 0,
    "start_time": "2022-04-05T09:14:32.014Z"
   },
   {
    "duration": 0,
    "start_time": "2022-04-05T09:14:32.017Z"
   },
   {
    "duration": 0,
    "start_time": "2022-04-05T09:14:32.018Z"
   },
   {
    "duration": 0,
    "start_time": "2022-04-05T09:14:32.021Z"
   },
   {
    "duration": 1,
    "start_time": "2022-04-05T09:14:32.083Z"
   },
   {
    "duration": 0,
    "start_time": "2022-04-05T09:14:32.086Z"
   },
   {
    "duration": 0,
    "start_time": "2022-04-05T09:14:32.088Z"
   },
   {
    "duration": 0,
    "start_time": "2022-04-05T09:14:32.091Z"
   },
   {
    "duration": 0,
    "start_time": "2022-04-05T09:14:32.092Z"
   },
   {
    "duration": 0,
    "start_time": "2022-04-05T09:14:32.094Z"
   },
   {
    "duration": 0,
    "start_time": "2022-04-05T09:14:32.097Z"
   },
   {
    "duration": 0,
    "start_time": "2022-04-05T09:14:32.099Z"
   },
   {
    "duration": 0,
    "start_time": "2022-04-05T09:14:32.101Z"
   },
   {
    "duration": 0,
    "start_time": "2022-04-05T09:14:32.103Z"
   },
   {
    "duration": 0,
    "start_time": "2022-04-05T09:14:32.105Z"
   },
   {
    "duration": 0,
    "start_time": "2022-04-05T09:14:32.107Z"
   },
   {
    "duration": 0,
    "start_time": "2022-04-05T09:14:32.109Z"
   },
   {
    "duration": 0,
    "start_time": "2022-04-05T09:14:32.111Z"
   },
   {
    "duration": 0,
    "start_time": "2022-04-05T09:14:32.114Z"
   },
   {
    "duration": 0,
    "start_time": "2022-04-05T09:14:32.116Z"
   },
   {
    "duration": 0,
    "start_time": "2022-04-05T09:14:32.118Z"
   },
   {
    "duration": 1,
    "start_time": "2022-04-05T09:14:32.182Z"
   },
   {
    "duration": 0,
    "start_time": "2022-04-05T09:14:32.184Z"
   },
   {
    "duration": 0,
    "start_time": "2022-04-05T09:14:32.187Z"
   },
   {
    "duration": 0,
    "start_time": "2022-04-05T09:14:32.189Z"
   },
   {
    "duration": 0,
    "start_time": "2022-04-05T09:14:32.192Z"
   },
   {
    "duration": 0,
    "start_time": "2022-04-05T09:14:32.193Z"
   },
   {
    "duration": 0,
    "start_time": "2022-04-05T09:14:32.195Z"
   },
   {
    "duration": 0,
    "start_time": "2022-04-05T09:14:32.198Z"
   },
   {
    "duration": 0,
    "start_time": "2022-04-05T09:14:32.200Z"
   },
   {
    "duration": 11,
    "start_time": "2022-04-05T09:14:55.288Z"
   },
   {
    "duration": 1768,
    "start_time": "2022-04-05T09:14:55.301Z"
   },
   {
    "duration": 480,
    "start_time": "2022-04-05T09:14:57.071Z"
   },
   {
    "duration": 124,
    "start_time": "2022-04-05T09:14:57.556Z"
   },
   {
    "duration": 4,
    "start_time": "2022-04-05T09:14:57.683Z"
   },
   {
    "duration": 9,
    "start_time": "2022-04-05T09:14:57.690Z"
   },
   {
    "duration": 10,
    "start_time": "2022-04-05T09:14:57.703Z"
   },
   {
    "duration": 11,
    "start_time": "2022-04-05T09:14:57.716Z"
   },
   {
    "duration": 8,
    "start_time": "2022-04-05T09:14:57.730Z"
   },
   {
    "duration": 7,
    "start_time": "2022-04-05T09:14:57.743Z"
   },
   {
    "duration": 12,
    "start_time": "2022-04-05T09:14:57.783Z"
   },
   {
    "duration": 11,
    "start_time": "2022-04-05T09:14:57.797Z"
   },
   {
    "duration": 16,
    "start_time": "2022-04-05T09:14:57.811Z"
   },
   {
    "duration": 19,
    "start_time": "2022-04-05T09:14:57.830Z"
   },
   {
    "duration": 32,
    "start_time": "2022-04-05T09:14:57.852Z"
   },
   {
    "duration": 7,
    "start_time": "2022-04-05T09:14:57.887Z"
   },
   {
    "duration": 13,
    "start_time": "2022-04-05T09:14:57.896Z"
   },
   {
    "duration": 17,
    "start_time": "2022-04-05T09:14:57.911Z"
   },
   {
    "duration": 13,
    "start_time": "2022-04-05T09:14:57.931Z"
   },
   {
    "duration": 39,
    "start_time": "2022-04-05T09:14:57.946Z"
   },
   {
    "duration": 11,
    "start_time": "2022-04-05T09:14:57.987Z"
   },
   {
    "duration": 6,
    "start_time": "2022-04-05T09:14:58.000Z"
   },
   {
    "duration": 2145,
    "start_time": "2022-04-05T09:14:58.008Z"
   },
   {
    "duration": 5,
    "start_time": "2022-04-05T09:15:00.155Z"
   },
   {
    "duration": 27,
    "start_time": "2022-04-05T09:15:00.163Z"
   },
   {
    "duration": 1078,
    "start_time": "2022-04-05T09:15:00.193Z"
   },
   {
    "duration": 3,
    "start_time": "2022-04-05T09:15:01.282Z"
   },
   {
    "duration": 78,
    "start_time": "2022-04-05T09:15:01.292Z"
   },
   {
    "duration": 11,
    "start_time": "2022-04-05T09:15:01.372Z"
   },
   {
    "duration": 22,
    "start_time": "2022-04-05T09:15:01.385Z"
   },
   {
    "duration": 13,
    "start_time": "2022-04-05T09:15:01.409Z"
   },
   {
    "duration": 17,
    "start_time": "2022-04-05T09:15:01.424Z"
   },
   {
    "duration": 697,
    "start_time": "2022-04-05T09:15:01.443Z"
   },
   {
    "duration": 724,
    "start_time": "2022-04-05T09:15:02.143Z"
   },
   {
    "duration": 390,
    "start_time": "2022-04-05T09:15:02.869Z"
   },
   {
    "duration": 22,
    "start_time": "2022-04-05T09:15:03.261Z"
   },
   {
    "duration": 156,
    "start_time": "2022-04-05T09:15:03.286Z"
   },
   {
    "duration": 248,
    "start_time": "2022-04-05T09:15:03.444Z"
   },
   {
    "duration": 4,
    "start_time": "2022-04-05T09:15:03.694Z"
   },
   {
    "duration": 183,
    "start_time": "2022-04-05T09:15:03.700Z"
   },
   {
    "duration": 351,
    "start_time": "2022-04-05T09:15:03.886Z"
   },
   {
    "duration": 117,
    "start_time": "2022-04-05T09:15:04.240Z"
   },
   {
    "duration": 23,
    "start_time": "2022-04-05T09:15:04.359Z"
   },
   {
    "duration": 10,
    "start_time": "2022-04-05T09:15:04.384Z"
   },
   {
    "duration": 49,
    "start_time": "2022-04-05T09:15:04.397Z"
   },
   {
    "duration": 11,
    "start_time": "2022-04-05T09:15:04.448Z"
   },
   {
    "duration": 25,
    "start_time": "2022-04-05T09:15:04.461Z"
   },
   {
    "duration": 8,
    "start_time": "2022-04-05T09:15:04.489Z"
   },
   {
    "duration": 5,
    "start_time": "2022-04-05T09:15:04.500Z"
   },
   {
    "duration": 129,
    "start_time": "2022-04-05T09:15:04.507Z"
   },
   {
    "duration": 150,
    "start_time": "2022-04-05T09:15:04.638Z"
   },
   {
    "duration": 91,
    "start_time": "2022-04-05T09:15:04.791Z"
   },
   {
    "duration": 352,
    "start_time": "2022-04-05T09:15:04.884Z"
   },
   {
    "duration": 999,
    "start_time": "2022-04-05T09:15:05.238Z"
   },
   {
    "duration": 1251,
    "start_time": "2022-04-05T09:15:06.240Z"
   },
   {
    "duration": 758,
    "start_time": "2022-04-05T09:15:07.493Z"
   },
   {
    "duration": 891,
    "start_time": "2022-04-05T09:15:08.254Z"
   },
   {
    "duration": 36,
    "start_time": "2022-04-05T09:15:09.148Z"
   },
   {
    "duration": 1407,
    "start_time": "2022-04-05T09:15:09.187Z"
   },
   {
    "duration": 6,
    "start_time": "2022-04-05T09:15:10.597Z"
   },
   {
    "duration": 120,
    "start_time": "2022-04-05T09:15:10.606Z"
   },
   {
    "duration": 151,
    "start_time": "2022-04-05T09:15:10.728Z"
   },
   {
    "duration": 153,
    "start_time": "2022-04-05T09:15:10.883Z"
   },
   {
    "duration": 136,
    "start_time": "2022-04-05T09:15:11.039Z"
   },
   {
    "duration": 150,
    "start_time": "2022-04-05T09:15:11.184Z"
   },
   {
    "duration": 108,
    "start_time": "2022-04-05T09:15:11.337Z"
   },
   {
    "duration": 44,
    "start_time": "2022-04-05T09:15:11.448Z"
   },
   {
    "duration": 2121,
    "start_time": "2022-04-05T09:15:11.494Z"
   },
   {
    "duration": 65,
    "start_time": "2022-04-05T09:15:13.618Z"
   },
   {
    "duration": 29,
    "start_time": "2022-04-05T09:15:13.686Z"
   },
   {
    "duration": 21,
    "start_time": "2022-04-05T09:15:13.718Z"
   },
   {
    "duration": 2585,
    "start_time": "2022-04-05T09:15:13.742Z"
   },
   {
    "duration": 71,
    "start_time": "2022-04-05T09:15:16.329Z"
   },
   {
    "duration": 1124,
    "start_time": "2022-04-05T09:15:16.403Z"
   },
   {
    "duration": 1075,
    "start_time": "2022-04-05T09:15:17.530Z"
   },
   {
    "duration": 1258,
    "start_time": "2022-04-05T09:15:18.607Z"
   },
   {
    "duration": 62,
    "start_time": "2022-04-05T09:15:19.868Z"
   },
   {
    "duration": 1059,
    "start_time": "2022-04-05T09:15:19.933Z"
   },
   {
    "duration": 962,
    "start_time": "2022-04-05T09:15:20.994Z"
   },
   {
    "duration": 539,
    "start_time": "2022-04-05T09:15:21.958Z"
   },
   {
    "duration": 57,
    "start_time": "2022-04-05T09:15:22.499Z"
   },
   {
    "duration": 7,
    "start_time": "2022-04-05T09:15:22.590Z"
   },
   {
    "duration": 5,
    "start_time": "2022-04-05T09:15:22.600Z"
   },
   {
    "duration": 4,
    "start_time": "2022-04-05T09:15:22.608Z"
   },
   {
    "duration": 12,
    "start_time": "2022-04-05T09:15:22.615Z"
   },
   {
    "duration": 66,
    "start_time": "2022-04-05T09:15:22.629Z"
   },
   {
    "duration": 21,
    "start_time": "2022-04-05T09:15:22.697Z"
   },
   {
    "duration": 14,
    "start_time": "2022-04-05T09:15:22.720Z"
   },
   {
    "duration": 116,
    "start_time": "2022-04-05T09:15:22.736Z"
   },
   {
    "duration": 710,
    "start_time": "2022-04-05T09:15:22.855Z"
   },
   {
    "duration": 30,
    "start_time": "2022-04-05T09:15:23.567Z"
   },
   {
    "duration": 4,
    "start_time": "2022-04-05T09:15:23.600Z"
   },
   {
    "duration": 39,
    "start_time": "2022-04-05T09:15:23.607Z"
   },
   {
    "duration": 1176,
    "start_time": "2022-04-05T09:15:23.648Z"
   },
   {
    "duration": 21,
    "start_time": "2022-04-05T09:15:24.826Z"
   },
   {
    "duration": 513,
    "start_time": "2022-04-05T09:15:24.850Z"
   },
   {
    "duration": 96,
    "start_time": "2022-04-05T09:15:25.366Z"
   },
   {
    "duration": 21,
    "start_time": "2022-04-05T09:15:25.465Z"
   },
   {
    "duration": 1228,
    "start_time": "2022-04-05T09:15:25.488Z"
   },
   {
    "duration": 1319,
    "start_time": "2022-04-05T09:15:26.719Z"
   },
   {
    "duration": 42,
    "start_time": "2022-04-05T09:15:28.041Z"
   },
   {
    "duration": 20,
    "start_time": "2022-04-05T09:15:28.086Z"
   },
   {
    "duration": 9,
    "start_time": "2022-04-05T09:15:28.109Z"
   },
   {
    "duration": 9,
    "start_time": "2022-04-05T09:15:28.121Z"
   },
   {
    "duration": 127,
    "start_time": "2022-04-05T09:15:28.132Z"
   },
   {
    "duration": 14,
    "start_time": "2022-04-05T09:15:28.262Z"
   },
   {
    "duration": 23,
    "start_time": "2022-04-05T09:15:28.283Z"
   },
   {
    "duration": 20,
    "start_time": "2022-04-05T09:15:28.309Z"
   },
   {
    "duration": 8,
    "start_time": "2022-04-05T09:15:28.331Z"
   },
   {
    "duration": 46,
    "start_time": "2022-04-05T09:15:28.341Z"
   },
   {
    "duration": 6,
    "start_time": "2022-04-05T09:15:28.389Z"
   },
   {
    "duration": 7,
    "start_time": "2022-04-05T09:15:28.397Z"
   },
   {
    "duration": 8,
    "start_time": "2022-04-05T09:15:28.406Z"
   },
   {
    "duration": 9,
    "start_time": "2022-04-05T09:15:28.416Z"
   },
   {
    "duration": 13,
    "start_time": "2022-04-05T09:15:28.427Z"
   },
   {
    "duration": 8799,
    "start_time": "2022-04-05T09:15:28.442Z"
   },
   {
    "duration": 55267,
    "start_time": "2022-04-05T09:15:37.243Z"
   },
   {
    "duration": 5,
    "start_time": "2022-04-05T09:16:32.513Z"
   },
   {
    "duration": 12,
    "start_time": "2022-04-05T09:16:32.520Z"
   },
   {
    "duration": 279410,
    "start_time": "2022-04-05T09:16:32.534Z"
   },
   {
    "duration": 24,
    "start_time": "2022-04-05T09:21:11.946Z"
   },
   {
    "duration": 14,
    "start_time": "2022-04-05T09:21:11.972Z"
   },
   {
    "duration": 15,
    "start_time": "2022-04-05T09:21:11.988Z"
   },
   {
    "duration": 13830,
    "start_time": "2022-04-05T09:21:12.005Z"
   },
   {
    "duration": 22997,
    "start_time": "2022-04-05T09:21:25.838Z"
   },
   {
    "duration": 15,
    "start_time": "2022-04-05T09:21:48.838Z"
   },
   {
    "duration": 0,
    "start_time": "2022-04-05T09:21:48.856Z"
   },
   {
    "duration": 0,
    "start_time": "2022-04-05T09:21:48.858Z"
   },
   {
    "duration": 0,
    "start_time": "2022-04-05T09:21:48.859Z"
   },
   {
    "duration": 0,
    "start_time": "2022-04-05T09:21:48.860Z"
   },
   {
    "duration": 0,
    "start_time": "2022-04-05T09:21:48.862Z"
   },
   {
    "duration": 0,
    "start_time": "2022-04-05T09:21:48.864Z"
   },
   {
    "duration": 0,
    "start_time": "2022-04-05T09:21:48.865Z"
   },
   {
    "duration": 0,
    "start_time": "2022-04-05T09:21:48.882Z"
   },
   {
    "duration": 0,
    "start_time": "2022-04-05T09:21:48.883Z"
   },
   {
    "duration": 0,
    "start_time": "2022-04-05T09:21:48.884Z"
   },
   {
    "duration": 0,
    "start_time": "2022-04-05T09:21:48.886Z"
   },
   {
    "duration": 0,
    "start_time": "2022-04-05T09:21:48.888Z"
   },
   {
    "duration": 0,
    "start_time": "2022-04-05T09:21:48.890Z"
   },
   {
    "duration": 0,
    "start_time": "2022-04-05T09:21:48.891Z"
   },
   {
    "duration": 0,
    "start_time": "2022-04-05T09:21:48.892Z"
   },
   {
    "duration": 0,
    "start_time": "2022-04-05T09:21:48.894Z"
   },
   {
    "duration": 0,
    "start_time": "2022-04-05T09:21:48.896Z"
   },
   {
    "duration": 0,
    "start_time": "2022-04-05T09:21:48.897Z"
   },
   {
    "duration": 0,
    "start_time": "2022-04-05T09:21:48.899Z"
   },
   {
    "duration": 0,
    "start_time": "2022-04-05T09:21:48.901Z"
   },
   {
    "duration": 0,
    "start_time": "2022-04-05T09:21:48.903Z"
   },
   {
    "duration": 0,
    "start_time": "2022-04-05T09:21:48.905Z"
   },
   {
    "duration": 0,
    "start_time": "2022-04-05T09:21:48.906Z"
   },
   {
    "duration": 0,
    "start_time": "2022-04-05T09:21:48.908Z"
   },
   {
    "duration": 0,
    "start_time": "2022-04-05T09:21:48.909Z"
   },
   {
    "duration": 0,
    "start_time": "2022-04-05T09:21:48.911Z"
   },
   {
    "duration": 0,
    "start_time": "2022-04-05T09:21:48.912Z"
   },
   {
    "duration": 0,
    "start_time": "2022-04-05T09:21:48.914Z"
   },
   {
    "duration": 0,
    "start_time": "2022-04-05T09:21:48.915Z"
   },
   {
    "duration": 0,
    "start_time": "2022-04-05T09:21:48.917Z"
   },
   {
    "duration": 0,
    "start_time": "2022-04-05T09:21:48.982Z"
   },
   {
    "duration": 0,
    "start_time": "2022-04-05T09:21:48.983Z"
   },
   {
    "duration": 0,
    "start_time": "2022-04-05T09:21:48.985Z"
   },
   {
    "duration": 0,
    "start_time": "2022-04-05T09:21:48.987Z"
   },
   {
    "duration": 0,
    "start_time": "2022-04-05T09:21:48.988Z"
   },
   {
    "duration": 0,
    "start_time": "2022-04-05T09:21:48.990Z"
   },
   {
    "duration": 0,
    "start_time": "2022-04-05T09:21:48.992Z"
   },
   {
    "duration": 0,
    "start_time": "2022-04-05T09:21:48.994Z"
   },
   {
    "duration": 0,
    "start_time": "2022-04-05T09:21:48.995Z"
   },
   {
    "duration": 0,
    "start_time": "2022-04-05T09:21:48.996Z"
   },
   {
    "duration": 0,
    "start_time": "2022-04-05T09:21:48.997Z"
   },
   {
    "duration": 0,
    "start_time": "2022-04-05T09:21:48.999Z"
   },
   {
    "duration": 0,
    "start_time": "2022-04-05T09:21:49.000Z"
   },
   {
    "duration": 0,
    "start_time": "2022-04-05T09:21:49.001Z"
   },
   {
    "duration": 0,
    "start_time": "2022-04-05T09:21:49.003Z"
   },
   {
    "duration": 0,
    "start_time": "2022-04-05T09:21:49.004Z"
   },
   {
    "duration": 0,
    "start_time": "2022-04-05T09:21:49.006Z"
   },
   {
    "duration": 0,
    "start_time": "2022-04-05T09:21:49.007Z"
   },
   {
    "duration": 0,
    "start_time": "2022-04-05T09:21:49.009Z"
   },
   {
    "duration": 0,
    "start_time": "2022-04-05T09:21:49.010Z"
   },
   {
    "duration": 0,
    "start_time": "2022-04-05T09:21:49.011Z"
   },
   {
    "duration": 0,
    "start_time": "2022-04-05T09:21:49.012Z"
   },
   {
    "duration": 0,
    "start_time": "2022-04-05T09:21:49.014Z"
   },
   {
    "duration": 0,
    "start_time": "2022-04-05T09:21:49.015Z"
   },
   {
    "duration": 0,
    "start_time": "2022-04-05T09:21:49.016Z"
   },
   {
    "duration": 0,
    "start_time": "2022-04-05T09:21:49.018Z"
   },
   {
    "duration": 0,
    "start_time": "2022-04-05T09:21:49.019Z"
   },
   {
    "duration": 1,
    "start_time": "2022-04-05T09:21:49.088Z"
   },
   {
    "duration": 0,
    "start_time": "2022-04-05T09:21:49.090Z"
   },
   {
    "duration": 0,
    "start_time": "2022-04-05T09:21:49.092Z"
   },
   {
    "duration": 0,
    "start_time": "2022-04-05T09:21:49.094Z"
   },
   {
    "duration": 0,
    "start_time": "2022-04-05T09:21:49.096Z"
   },
   {
    "duration": 0,
    "start_time": "2022-04-05T09:21:49.098Z"
   },
   {
    "duration": 0,
    "start_time": "2022-04-05T09:21:49.099Z"
   },
   {
    "duration": 0,
    "start_time": "2022-04-05T09:21:49.101Z"
   },
   {
    "duration": 0,
    "start_time": "2022-04-05T09:21:49.103Z"
   },
   {
    "duration": 0,
    "start_time": "2022-04-05T09:21:49.104Z"
   },
   {
    "duration": 0,
    "start_time": "2022-04-05T09:21:49.106Z"
   },
   {
    "duration": 0,
    "start_time": "2022-04-05T09:21:49.108Z"
   },
   {
    "duration": 0,
    "start_time": "2022-04-05T09:21:49.110Z"
   },
   {
    "duration": 0,
    "start_time": "2022-04-05T09:21:49.111Z"
   },
   {
    "duration": 0,
    "start_time": "2022-04-05T09:21:49.112Z"
   },
   {
    "duration": 0,
    "start_time": "2022-04-05T09:21:49.114Z"
   },
   {
    "duration": 0,
    "start_time": "2022-04-05T09:21:49.116Z"
   },
   {
    "duration": 0,
    "start_time": "2022-04-05T09:21:49.117Z"
   },
   {
    "duration": 0,
    "start_time": "2022-04-05T09:21:49.119Z"
   },
   {
    "duration": 0,
    "start_time": "2022-04-05T09:21:49.183Z"
   },
   {
    "duration": 281,
    "start_time": "2022-04-05T09:21:53.714Z"
   },
   {
    "duration": 3,
    "start_time": "2022-04-05T09:21:59.662Z"
   },
   {
    "duration": 9011,
    "start_time": "2022-04-05T09:22:00.055Z"
   },
   {
    "duration": 59003,
    "start_time": "2022-04-05T09:22:09.069Z"
   },
   {
    "duration": 6,
    "start_time": "2022-04-05T09:23:10.456Z"
   },
   {
    "duration": 6,
    "start_time": "2022-04-05T09:23:10.969Z"
   },
   {
    "duration": 91206,
    "start_time": "2022-04-05T09:23:12.419Z"
   },
   {
    "duration": 11,
    "start_time": "2022-04-05T11:01:21.279Z"
   },
   {
    "duration": 1837,
    "start_time": "2022-04-05T11:01:21.292Z"
   },
   {
    "duration": 978,
    "start_time": "2022-04-05T11:01:23.132Z"
   },
   {
    "duration": 132,
    "start_time": "2022-04-05T11:01:24.114Z"
   },
   {
    "duration": 4,
    "start_time": "2022-04-05T11:01:24.249Z"
   },
   {
    "duration": 29,
    "start_time": "2022-04-05T11:01:24.256Z"
   },
   {
    "duration": 22,
    "start_time": "2022-04-05T11:01:24.288Z"
   },
   {
    "duration": 32,
    "start_time": "2022-04-05T11:01:24.313Z"
   },
   {
    "duration": 27,
    "start_time": "2022-04-05T11:01:24.350Z"
   },
   {
    "duration": 20,
    "start_time": "2022-04-05T11:01:24.380Z"
   },
   {
    "duration": 23,
    "start_time": "2022-04-05T11:01:24.403Z"
   },
   {
    "duration": 33,
    "start_time": "2022-04-05T11:01:24.428Z"
   },
   {
    "duration": 22,
    "start_time": "2022-04-05T11:01:24.463Z"
   },
   {
    "duration": 63,
    "start_time": "2022-04-05T11:01:24.488Z"
   },
   {
    "duration": 39,
    "start_time": "2022-04-05T11:01:24.553Z"
   },
   {
    "duration": 12,
    "start_time": "2022-04-05T11:01:24.595Z"
   },
   {
    "duration": 26,
    "start_time": "2022-04-05T11:01:24.610Z"
   },
   {
    "duration": 38,
    "start_time": "2022-04-05T11:01:24.638Z"
   },
   {
    "duration": 33,
    "start_time": "2022-04-05T11:01:24.678Z"
   },
   {
    "duration": 24,
    "start_time": "2022-04-05T11:01:24.714Z"
   },
   {
    "duration": 47,
    "start_time": "2022-04-05T11:01:24.741Z"
   },
   {
    "duration": 53,
    "start_time": "2022-04-05T11:01:24.790Z"
   },
   {
    "duration": 1753,
    "start_time": "2022-04-05T11:01:24.845Z"
   },
   {
    "duration": 5,
    "start_time": "2022-04-05T11:01:26.606Z"
   },
   {
    "duration": 14,
    "start_time": "2022-04-05T11:01:26.613Z"
   },
   {
    "duration": 1247,
    "start_time": "2022-04-05T11:01:26.629Z"
   },
   {
    "duration": 3,
    "start_time": "2022-04-05T11:01:27.878Z"
   },
   {
    "duration": 65,
    "start_time": "2022-04-05T11:01:27.883Z"
   },
   {
    "duration": 24,
    "start_time": "2022-04-05T11:01:27.951Z"
   },
   {
    "duration": 8,
    "start_time": "2022-04-05T11:01:27.978Z"
   },
   {
    "duration": 10,
    "start_time": "2022-04-05T11:01:27.988Z"
   },
   {
    "duration": 10,
    "start_time": "2022-04-05T11:01:28.000Z"
   },
   {
    "duration": 724,
    "start_time": "2022-04-05T11:01:28.012Z"
   },
   {
    "duration": 820,
    "start_time": "2022-04-05T11:01:28.738Z"
   },
   {
    "duration": 420,
    "start_time": "2022-04-05T11:01:29.560Z"
   },
   {
    "duration": 6,
    "start_time": "2022-04-05T11:01:29.982Z"
   },
   {
    "duration": 202,
    "start_time": "2022-04-05T11:01:29.990Z"
   },
   {
    "duration": 251,
    "start_time": "2022-04-05T11:01:30.194Z"
   },
   {
    "duration": 3,
    "start_time": "2022-04-05T11:01:30.447Z"
   },
   {
    "duration": 175,
    "start_time": "2022-04-05T11:01:30.453Z"
   },
   {
    "duration": 344,
    "start_time": "2022-04-05T11:01:30.630Z"
   },
   {
    "duration": 220,
    "start_time": "2022-04-05T11:01:30.978Z"
   },
   {
    "duration": 22,
    "start_time": "2022-04-05T11:01:31.200Z"
   },
   {
    "duration": 43,
    "start_time": "2022-04-05T11:01:31.225Z"
   },
   {
    "duration": 31,
    "start_time": "2022-04-05T11:01:31.270Z"
   },
   {
    "duration": 12,
    "start_time": "2022-04-05T11:01:31.304Z"
   },
   {
    "duration": 34,
    "start_time": "2022-04-05T11:01:31.318Z"
   },
   {
    "duration": 17,
    "start_time": "2022-04-05T11:01:31.356Z"
   },
   {
    "duration": 30,
    "start_time": "2022-04-05T11:01:31.376Z"
   },
   {
    "duration": 145,
    "start_time": "2022-04-05T11:01:31.409Z"
   },
   {
    "duration": 185,
    "start_time": "2022-04-05T11:01:31.557Z"
   },
   {
    "duration": 126,
    "start_time": "2022-04-05T11:01:31.745Z"
   },
   {
    "duration": 529,
    "start_time": "2022-04-05T11:01:31.875Z"
   },
   {
    "duration": 1456,
    "start_time": "2022-04-05T11:01:32.406Z"
   },
   {
    "duration": 932,
    "start_time": "2022-04-05T11:01:33.864Z"
   },
   {
    "duration": 752,
    "start_time": "2022-04-05T11:01:34.798Z"
   },
   {
    "duration": 729,
    "start_time": "2022-04-05T11:01:35.552Z"
   },
   {
    "duration": 14,
    "start_time": "2022-04-05T11:01:36.284Z"
   },
   {
    "duration": 798,
    "start_time": "2022-04-05T11:01:36.301Z"
   },
   {
    "duration": 4,
    "start_time": "2022-04-05T11:01:37.101Z"
   },
   {
    "duration": 132,
    "start_time": "2022-04-05T11:01:37.108Z"
   },
   {
    "duration": 115,
    "start_time": "2022-04-05T11:01:37.242Z"
   },
   {
    "duration": 114,
    "start_time": "2022-04-05T11:01:37.373Z"
   },
   {
    "duration": 101,
    "start_time": "2022-04-05T11:01:37.489Z"
   },
   {
    "duration": 111,
    "start_time": "2022-04-05T11:01:37.592Z"
   },
   {
    "duration": 99,
    "start_time": "2022-04-05T11:01:37.705Z"
   },
   {
    "duration": 23,
    "start_time": "2022-04-05T11:01:37.806Z"
   },
   {
    "duration": 1524,
    "start_time": "2022-04-05T11:01:37.831Z"
   },
   {
    "duration": 60,
    "start_time": "2022-04-05T11:01:39.377Z"
   },
   {
    "duration": 43,
    "start_time": "2022-04-05T11:01:39.440Z"
   },
   {
    "duration": 18,
    "start_time": "2022-04-05T11:01:39.486Z"
   },
   {
    "duration": 3138,
    "start_time": "2022-04-05T11:01:39.507Z"
   },
   {
    "duration": 67,
    "start_time": "2022-04-05T11:01:42.647Z"
   },
   {
    "duration": 1129,
    "start_time": "2022-04-05T11:01:42.717Z"
   },
   {
    "duration": 1193,
    "start_time": "2022-04-05T11:01:43.849Z"
   },
   {
    "duration": 1248,
    "start_time": "2022-04-05T11:01:45.044Z"
   },
   {
    "duration": 51,
    "start_time": "2022-04-05T11:01:46.294Z"
   },
   {
    "duration": 1229,
    "start_time": "2022-04-05T11:01:46.348Z"
   },
   {
    "duration": 977,
    "start_time": "2022-04-05T11:01:47.579Z"
   },
   {
    "duration": 537,
    "start_time": "2022-04-05T11:01:48.558Z"
   },
   {
    "duration": 60,
    "start_time": "2022-04-05T11:01:49.097Z"
   },
   {
    "duration": 20,
    "start_time": "2022-04-05T11:01:49.159Z"
   },
   {
    "duration": 32,
    "start_time": "2022-04-05T11:01:49.181Z"
   },
   {
    "duration": 14,
    "start_time": "2022-04-05T11:01:49.215Z"
   },
   {
    "duration": 25,
    "start_time": "2022-04-05T11:01:49.231Z"
   },
   {
    "duration": 43,
    "start_time": "2022-04-05T11:01:49.258Z"
   },
   {
    "duration": 18,
    "start_time": "2022-04-05T11:01:49.303Z"
   },
   {
    "duration": 35,
    "start_time": "2022-04-05T11:01:49.323Z"
   },
   {
    "duration": 96,
    "start_time": "2022-04-05T11:01:49.360Z"
   },
   {
    "duration": 836,
    "start_time": "2022-04-05T11:01:49.458Z"
   },
   {
    "duration": 23,
    "start_time": "2022-04-05T11:01:50.296Z"
   },
   {
    "duration": 19,
    "start_time": "2022-04-05T11:01:50.322Z"
   },
   {
    "duration": 68,
    "start_time": "2022-04-05T11:01:50.343Z"
   },
   {
    "duration": 1189,
    "start_time": "2022-04-05T11:01:50.413Z"
   },
   {
    "duration": 20,
    "start_time": "2022-04-05T11:01:51.605Z"
   },
   {
    "duration": 498,
    "start_time": "2022-04-05T11:01:51.627Z"
   },
   {
    "duration": 77,
    "start_time": "2022-04-05T11:01:52.127Z"
   },
   {
    "duration": 8,
    "start_time": "2022-04-05T11:01:52.207Z"
   },
   {
    "duration": 1202,
    "start_time": "2022-04-05T11:01:52.218Z"
   },
   {
    "duration": 1420,
    "start_time": "2022-04-05T11:01:53.422Z"
   },
   {
    "duration": 39,
    "start_time": "2022-04-05T11:01:54.844Z"
   },
   {
    "duration": 21,
    "start_time": "2022-04-05T11:01:54.886Z"
   },
   {
    "duration": 5,
    "start_time": "2022-04-05T11:01:54.910Z"
   },
   {
    "duration": 5,
    "start_time": "2022-04-05T11:01:54.918Z"
   },
   {
    "duration": 128,
    "start_time": "2022-04-05T11:01:54.925Z"
   },
   {
    "duration": 12,
    "start_time": "2022-04-05T11:01:55.055Z"
   },
   {
    "duration": 22,
    "start_time": "2022-04-05T11:01:55.074Z"
   },
   {
    "duration": 19,
    "start_time": "2022-04-05T11:01:55.099Z"
   },
   {
    "duration": 8,
    "start_time": "2022-04-05T11:01:55.120Z"
   },
   {
    "duration": 49,
    "start_time": "2022-04-05T11:01:55.130Z"
   },
   {
    "duration": 9,
    "start_time": "2022-04-05T11:01:55.181Z"
   },
   {
    "duration": 6,
    "start_time": "2022-04-05T11:01:55.192Z"
   },
   {
    "duration": 6,
    "start_time": "2022-04-05T11:01:55.200Z"
   },
   {
    "duration": 8,
    "start_time": "2022-04-05T11:01:55.208Z"
   },
   {
    "duration": 12,
    "start_time": "2022-04-05T11:01:55.218Z"
   },
   {
    "duration": 9366,
    "start_time": "2022-04-05T11:01:55.232Z"
   },
   {
    "duration": 60514,
    "start_time": "2022-04-05T11:02:04.600Z"
   },
   {
    "duration": 6,
    "start_time": "2022-04-05T11:03:05.116Z"
   },
   {
    "duration": 6,
    "start_time": "2022-04-05T11:03:05.124Z"
   },
   {
    "duration": 57254,
    "start_time": "2022-04-05T11:03:05.132Z"
   },
   {
    "duration": 27,
    "start_time": "2022-04-05T11:04:02.389Z"
   },
   {
    "duration": 20,
    "start_time": "2022-04-05T11:04:02.419Z"
   },
   {
    "duration": 18,
    "start_time": "2022-04-05T11:04:02.442Z"
   },
   {
    "duration": 14485,
    "start_time": "2022-04-05T11:04:02.463Z"
   },
   {
    "duration": 158035,
    "start_time": "2022-04-05T11:04:16.950Z"
   },
   {
    "duration": 8,
    "start_time": "2022-04-05T11:06:54.987Z"
   },
   {
    "duration": 8,
    "start_time": "2022-04-05T11:06:54.997Z"
   },
   {
    "duration": 56202,
    "start_time": "2022-04-05T11:06:55.007Z"
   },
   {
    "duration": 3,
    "start_time": "2022-04-05T11:07:51.212Z"
   },
   {
    "duration": 14463,
    "start_time": "2022-04-05T11:07:51.217Z"
   },
   {
    "duration": 418893,
    "start_time": "2022-04-05T11:08:05.682Z"
   },
   {
    "duration": 8,
    "start_time": "2022-04-05T11:15:04.578Z"
   },
   {
    "duration": 22,
    "start_time": "2022-04-05T11:15:04.588Z"
   },
   {
    "duration": 57280,
    "start_time": "2022-04-05T11:15:04.612Z"
   },
   {
    "duration": 4,
    "start_time": "2022-04-05T11:16:01.894Z"
   },
   {
    "duration": 16,
    "start_time": "2022-04-05T11:16:01.899Z"
   },
   {
    "duration": 24,
    "start_time": "2022-04-05T11:16:01.917Z"
   },
   {
    "duration": 1994,
    "start_time": "2022-04-05T11:16:01.943Z"
   },
   {
    "duration": 35,
    "start_time": "2022-04-05T11:16:03.939Z"
   },
   {
    "duration": 51,
    "start_time": "2022-04-05T11:16:03.977Z"
   },
   {
    "duration": 40,
    "start_time": "2022-04-05T11:16:04.030Z"
   },
   {
    "duration": 31,
    "start_time": "2022-04-05T11:16:04.073Z"
   },
   {
    "duration": 30,
    "start_time": "2022-04-05T11:16:04.106Z"
   },
   {
    "duration": 45,
    "start_time": "2022-04-05T11:16:04.138Z"
   },
   {
    "duration": 40,
    "start_time": "2022-04-05T11:16:04.185Z"
   },
   {
    "duration": 47,
    "start_time": "2022-04-05T11:16:04.227Z"
   },
   {
    "duration": 32,
    "start_time": "2022-04-05T11:16:04.276Z"
   },
   {
    "duration": 493,
    "start_time": "2022-04-05T11:16:04.310Z"
   },
   {
    "duration": 4,
    "start_time": "2022-04-05T11:16:04.806Z"
   },
   {
    "duration": 44,
    "start_time": "2022-04-05T11:16:04.813Z"
   },
   {
    "duration": 25,
    "start_time": "2022-04-05T11:16:04.860Z"
   },
   {
    "duration": 32,
    "start_time": "2022-04-05T11:16:04.887Z"
   },
   {
    "duration": 46,
    "start_time": "2022-04-05T11:16:04.921Z"
   },
   {
    "duration": 24,
    "start_time": "2022-04-05T11:16:04.969Z"
   },
   {
    "duration": 83,
    "start_time": "2022-04-05T11:16:04.996Z"
   },
   {
    "duration": 27,
    "start_time": "2022-04-05T11:16:05.081Z"
   },
   {
    "duration": 61,
    "start_time": "2022-04-05T11:16:05.110Z"
   },
   {
    "duration": 59,
    "start_time": "2022-04-05T11:16:05.174Z"
   },
   {
    "duration": 414,
    "start_time": "2022-04-05T11:16:05.235Z"
   },
   {
    "duration": 3,
    "start_time": "2022-04-05T11:16:05.651Z"
   },
   {
    "duration": 26,
    "start_time": "2022-04-05T11:16:05.656Z"
   },
   {
    "duration": 33,
    "start_time": "2022-04-05T11:16:05.684Z"
   },
   {
    "duration": 66,
    "start_time": "2022-04-05T11:16:05.719Z"
   },
   {
    "duration": 23,
    "start_time": "2022-04-05T11:16:05.788Z"
   },
   {
    "duration": 34,
    "start_time": "2022-04-05T11:16:05.813Z"
   },
   {
    "duration": 32,
    "start_time": "2022-04-05T11:16:05.850Z"
   },
   {
    "duration": 33,
    "start_time": "2022-04-05T11:16:05.884Z"
   },
   {
    "duration": 156382,
    "start_time": "2022-04-05T11:16:05.919Z"
   },
   {
    "duration": 131791,
    "start_time": "2022-04-05T11:18:42.303Z"
   },
   {
    "duration": 82500,
    "start_time": "2022-04-05T11:20:54.097Z"
   },
   {
    "duration": 75,
    "start_time": "2022-04-05T11:22:16.600Z"
   },
   {
    "duration": 4,
    "start_time": "2022-04-05T11:22:16.677Z"
   },
   {
    "duration": 31,
    "start_time": "2022-04-05T11:22:16.683Z"
   },
   {
    "duration": 24,
    "start_time": "2022-04-05T11:22:16.716Z"
   },
   {
    "duration": 27547,
    "start_time": "2022-04-05T11:22:16.742Z"
   },
   {
    "duration": 8700,
    "start_time": "2022-04-05T11:22:44.291Z"
   },
   {
    "duration": 466,
    "start_time": "2022-04-05T11:22:52.994Z"
   },
   {
    "duration": 417,
    "start_time": "2022-04-05T11:22:53.462Z"
   },
   {
    "duration": 8,
    "start_time": "2022-04-05T11:22:53.881Z"
   },
   {
    "duration": 16,
    "start_time": "2022-04-05T11:22:53.891Z"
   },
   {
    "duration": 11,
    "start_time": "2022-04-05T11:22:53.909Z"
   },
   {
    "duration": 8,
    "start_time": "2022-04-05T11:22:53.923Z"
   },
   {
    "duration": 8,
    "start_time": "2022-04-05T11:22:53.933Z"
   },
   {
    "duration": 37,
    "start_time": "2022-04-05T11:22:53.944Z"
   },
   {
    "duration": 10,
    "start_time": "2022-04-05T11:22:53.984Z"
   },
   {
    "duration": 248,
    "start_time": "2022-04-05T11:22:53.996Z"
   },
   {
    "duration": 32,
    "start_time": "2022-04-05T11:22:54.247Z"
   },
   {
    "duration": 4,
    "start_time": "2022-04-05T11:22:54.282Z"
   },
   {
    "duration": 39435,
    "start_time": "2022-04-05T11:22:54.289Z"
   },
   {
    "duration": 13,
    "start_time": "2022-04-05T11:23:33.774Z"
   },
   {
    "duration": 9,
    "start_time": "2022-04-05T11:23:33.790Z"
   },
   {
    "duration": 7,
    "start_time": "2022-04-05T11:23:33.801Z"
   },
   {
    "duration": 2273,
    "start_time": "2022-04-05T11:23:33.810Z"
   },
   {
    "duration": 3,
    "start_time": "2022-04-05T11:23:36.086Z"
   },
   {
    "duration": 14,
    "start_time": "2022-04-05T11:23:36.092Z"
   },
   {
    "duration": 14,
    "start_time": "2022-04-05T11:23:36.108Z"
   },
   {
    "duration": 11,
    "start_time": "2022-04-05T11:23:36.124Z"
   },
   {
    "duration": 2309,
    "start_time": "2022-04-05T11:23:36.137Z"
   },
   {
    "duration": 6,
    "start_time": "2022-04-05T11:23:38.448Z"
   },
   {
    "duration": 29,
    "start_time": "2022-04-05T11:23:38.455Z"
   },
   {
    "duration": 262,
    "start_time": "2022-04-05T11:23:38.486Z"
   },
   {
    "duration": 4,
    "start_time": "2022-04-05T11:23:38.750Z"
   },
   {
    "duration": 5,
    "start_time": "2022-04-05T11:23:38.773Z"
   },
   {
    "duration": 2403,
    "start_time": "2022-04-05T11:29:03.571Z"
   },
   {
    "duration": 2415,
    "start_time": "2022-04-05T11:30:17.354Z"
   },
   {
    "duration": 2397,
    "start_time": "2022-04-05T11:30:55.902Z"
   },
   {
    "duration": 2277,
    "start_time": "2022-04-05T11:31:30.227Z"
   },
   {
    "duration": 2333,
    "start_time": "2022-04-05T11:31:58.957Z"
   },
   {
    "duration": 2406,
    "start_time": "2022-04-05T11:32:14.120Z"
   },
   {
    "duration": 2821,
    "start_time": "2022-04-05T11:32:27.390Z"
   },
   {
    "duration": 195,
    "start_time": "2022-04-05T20:14:10.828Z"
   },
   {
    "duration": 175,
    "start_time": "2022-04-05T20:34:44.417Z"
   }
  ],
  "kernelspec": {
   "display_name": "Python 3 (ipykernel)",
   "language": "python",
   "name": "python3"
  },
  "language_info": {
   "codemirror_mode": {
    "name": "ipython",
    "version": 3
   },
   "file_extension": ".py",
   "mimetype": "text/x-python",
   "name": "python",
   "nbconvert_exporter": "python",
   "pygments_lexer": "ipython3",
   "version": "3.10.4"
  },
  "toc": {
   "base_numbering": 1,
   "nav_menu": {},
   "number_sections": true,
   "sideBar": true,
   "skip_h1_title": true,
   "title_cell": "Table of Contents",
   "title_sidebar": "Contents",
   "toc_cell": true,
   "toc_position": {
    "height": "754px",
    "left": "26px",
    "top": "111.125px",
    "width": "340.391px"
   },
   "toc_section_display": true,
   "toc_window_display": true
  },
  "varInspector": {
   "cols": {
    "lenName": 16,
    "lenType": 16,
    "lenVar": 40
   },
   "kernels_config": {
    "python": {
     "delete_cmd_postfix": "",
     "delete_cmd_prefix": "del ",
     "library": "var_list.py",
     "varRefreshCmd": "print(var_dic_list())"
    },
    "r": {
     "delete_cmd_postfix": ") ",
     "delete_cmd_prefix": "rm(",
     "library": "var_list.r",
     "varRefreshCmd": "cat(var_dic_list()) "
    }
   },
   "types_to_exclude": [
    "module",
    "function",
    "builtin_function_or_method",
    "instance",
    "_Feature"
   ],
   "window_display": false
  }
 },
 "nbformat": 4,
 "nbformat_minor": 2
}
