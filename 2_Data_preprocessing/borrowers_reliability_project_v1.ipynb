{
 "cells": [
  {
   "cell_type": "markdown",
   "metadata": {
    "toc": true
   },
   "source": [
    "<h1>Table of Contents<span class=\"tocSkip\"></span></h1>\n",
    "<div class=\"toc\"><ul class=\"toc-item\"><li><span><a href=\"#Шаг-1.-Откроем-файл-с-данными-и-изучим-общую-информацию\" data-toc-modified-id=\"Шаг-1.-Откроем-файл-с-данными-и-изучим-общую-информацию-1\"><span class=\"toc-item-num\">1&nbsp;&nbsp;</span>Шаг 1. Откроем файл с данными и изучим общую информацию</a></span></li><li><span><a href=\"#Шаг-2.-Предобработка-данных\" data-toc-modified-id=\"Шаг-2.-Предобработка-данных-2\"><span class=\"toc-item-num\">2&nbsp;&nbsp;</span>Шаг 2. Предобработка данных</a></span><ul class=\"toc-item\"><li><span><a href=\"#Обработка-наименований-колонок\" data-toc-modified-id=\"Обработка-наименований-колонок-2.1\"><span class=\"toc-item-num\">2.1&nbsp;&nbsp;</span>Обработка наименований колонок</a></span></li><li><span><a href=\"#Обработка-пропусков-\" data-toc-modified-id=\"Обработка-пропусков--2.2\"><span class=\"toc-item-num\">2.2&nbsp;&nbsp;</span>Обработка пропусков <a id=\"empty\" rel=\"nofollow\"></a></a></span></li><li><span><a href=\"#Замена-типа-данных-\" data-toc-modified-id=\"Замена-типа-данных--2.3\"><span class=\"toc-item-num\">2.3&nbsp;&nbsp;</span>Замена типа данных <a id=\"error_type\" rel=\"nofollow\"></a></a></span></li><li><span><a href=\"#Обработка-ошибок-в-значениях-\" data-toc-modified-id=\"Обработка-ошибок-в-значениях--2.4\"><span class=\"toc-item-num\">2.4&nbsp;&nbsp;</span>Обработка ошибок в значениях <a id=\"error_value\" rel=\"nofollow\"></a></a></span><ul class=\"toc-item\"><li><span><a href=\"#Столбец-'children'\" data-toc-modified-id=\"Столбец-'children'-2.4.1\"><span class=\"toc-item-num\">2.4.1&nbsp;&nbsp;</span>Столбец 'children'</a></span></li><li><span><a href=\"#Столбец-'dob_years'\" data-toc-modified-id=\"Столбец-'dob_years'-2.4.2\"><span class=\"toc-item-num\">2.4.2&nbsp;&nbsp;</span>Столбец 'dob_years'</a></span></li><li><span><a href=\"#Столбец-'education'\" data-toc-modified-id=\"Столбец-'education'-2.4.3\"><span class=\"toc-item-num\">2.4.3&nbsp;&nbsp;</span>Столбец 'education'</a></span></li><li><span><a href=\"#Столбец-'gender'\" data-toc-modified-id=\"Столбец-'gender'-2.4.4\"><span class=\"toc-item-num\">2.4.4&nbsp;&nbsp;</span>Столбец 'gender'</a></span></li><li><span><a href=\"#Столбец-'income_type'\" data-toc-modified-id=\"Столбец-'income_type'-2.4.5\"><span class=\"toc-item-num\">2.4.5&nbsp;&nbsp;</span>Столбец 'income_type'</a></span></li></ul></li><li><span><a href=\"#Обработка-дубликатов-\" data-toc-modified-id=\"Обработка-дубликатов--2.5\"><span class=\"toc-item-num\">2.5&nbsp;&nbsp;</span>Обработка дубликатов <a id=\"duplicate\" rel=\"nofollow\"></a></a></span></li><li><span><a href=\"#Лемматизация-\" data-toc-modified-id=\"Лемматизация--2.6\"><span class=\"toc-item-num\">2.6&nbsp;&nbsp;</span>Лемматизация <a id=\"lemmas\" rel=\"nofollow\"></a></a></span></li><li><span><a href=\"#Категоризация-данных-\" data-toc-modified-id=\"Категоризация-данных--2.7\"><span class=\"toc-item-num\">2.7&nbsp;&nbsp;</span>Категоризация данных <a id=\"categories\" rel=\"nofollow\"></a></a></span><ul class=\"toc-item\"><li><span><a href=\"#Добавление-категорий\" data-toc-modified-id=\"Добавление-категорий-2.7.1\"><span class=\"toc-item-num\">2.7.1&nbsp;&nbsp;</span>Добавление категорий</a></span></li><li><span><a href=\"#СЛОВАРИ-КАТЕГОРИЙ:\" data-toc-modified-id=\"СЛОВАРИ-КАТЕГОРИЙ:-2.7.2\"><span class=\"toc-item-num\">2.7.2&nbsp;&nbsp;</span>СЛОВАРИ КАТЕГОРИЙ:</a></span></li></ul></li></ul></li><li><span><a href=\"#Шаг-3.-Ответы-на-вопросы\" data-toc-modified-id=\"Шаг-3.-Ответы-на-вопросы-3\"><span class=\"toc-item-num\">3&nbsp;&nbsp;</span>Шаг 3. Ответы на вопросы</a></span></li><li><span><a href=\"#Шаг-4.-Общий-вывод\" data-toc-modified-id=\"Шаг-4.-Общий-вывод-4\"><span class=\"toc-item-num\">4&nbsp;&nbsp;</span>Шаг 4. Общий вывод</a></span></li></ul></div>"
   ]
  },
  {
   "cell_type": "markdown",
   "metadata": {
    "pycharm": {
     "name": "#%% md\n"
    }
   },
   "source": [
    "# Исследование надёжности заёмщиков — анализ банковских данных\n",
    "\n",
    "Заказчик — кредитный отдел банка. Нужно разобраться, влияет ли семейное положение и количество детей клиента на факт погашения кредита в срок. Входные данные от банка — статистика о платёжеспособности клиентов.\n",
    "\n",
    "Результаты исследования будут учтены при построении модели **кредитного скоринга** — специальной системы, которая оценивает способность потенциального заёмщика вернуть кредит банку."
   ]
  },
  {
   "cell_type": "markdown",
   "metadata": {
    "pycharm": {
     "name": "#%% md\n"
    }
   },
   "source": [
    "**Цель исследования:** определить зависимость факта погашения кредита в срок от таких факторов: наличие детей, семейное положение, уровень дохода, цель кредита."
   ]
  },
  {
   "cell_type": "markdown",
   "metadata": {
    "pycharm": {
     "name": "#%% md\n"
    }
   },
   "source": [
    "## Шаг 1. Откроем файл с данными и изучим общую информацию"
   ]
  },
  {
   "cell_type": "markdown",
   "metadata": {
    "pycharm": {
     "name": "#%% md\n"
    }
   },
   "source": [
    "Блок загрузки всех необходимых модулей, используемых в работе, расположим в самом начале."
   ]
  },
  {
   "cell_type": "code",
   "execution_count": 18,
   "metadata": {
    "pycharm": {
     "name": "#%%\n"
    }
   },
   "outputs": [],
   "source": [
    "# === МОДУЛИ ===:\n",
    "\n",
    "import pandas as pd\n",
    "import numpy as np\n",
    "from pymystem3 import Mystem\n",
    "from collections import Counter\n",
    "from json import dumps\n",
    "import seaborn as sb"
   ]
  },
  {
   "cell_type": "code",
   "execution_count": 10,
   "metadata": {
    "pycharm": {
     "name": "#%%\n"
    }
   },
   "outputs": [],
   "source": [
    "# === ФУНКЦИИ ===\n",
    "        \n",
    "# ФУНКЦИЯ вывода минимального, максимального значений\n",
    "def print_edges(data_frame, name=''):\n",
    "    print('-'*50)\n",
    "    if name == '':\n",
    "        print('Диапазон значений:')\n",
    "    else:\n",
    "        print(name+':')\n",
    "    print('Максимальное значение:', data_frame.max() )\n",
    "    print('Минимальное значение:', data_frame.min() )\n",
    "    print('-'*50)"
   ]
  },
  {
   "cell_type": "markdown",
   "metadata": {
    "pycharm": {
     "name": "#%% md\n"
    }
   },
   "source": [
    "Прочитаем файл `data.csv` из папки `/datasets` и сохраним его в переменной `df`:"
   ]
  },
  {
   "cell_type": "code",
   "execution_count": 11,
   "metadata": {
    "pycharm": {
     "name": "#%%\n"
    }
   },
   "outputs": [],
   "source": [
    "# Чтение данных:\n",
    "df = pd.read_csv('/datasets/data.csv')"
   ]
  },
  {
   "cell_type": "markdown",
   "metadata": {
    "pycharm": {
     "name": "#%% md\n"
    }
   },
   "source": [
    "Согласно описанию данных в таблице имеются следующие колонки:\n",
    "* **children** — количество детей в семье\n",
    "* **days_employed** — общий трудовой стаж в днях\n",
    "* **dob_years** — возраст клиента в годах\n",
    "* **education** — уровень образования клиента\n",
    "* **education_id** — идентификатор уровня образования\n",
    "* **family_status** — семейное положение\n",
    "* **family_status_id** — идентификатор семейного положения\n",
    "* **gender** — пол клиента\n",
    "* **income_type** — тип занятости\n",
    "* **debt** — имел ли задолженность по возврату кредитов\n",
    "* **total_income** — ежемесячный доход\n",
    "* **purpose** — цель получения кредита"
   ]
  },
  {
   "cell_type": "code",
   "execution_count": 12,
   "metadata": {
    "pycharm": {
     "name": "#%%\n"
    }
   },
   "outputs": [
    {
     "data": {
      "text/plain": [
       "Index(['children', 'days_employed', 'dob_years', 'education', 'education_id',\n",
       "       'family_status', 'family_status_id', 'gender', 'income_type', 'debt',\n",
       "       'total_income', 'purpose'],\n",
       "      dtype='object')"
      ]
     },
     "execution_count": 12,
     "metadata": {},
     "output_type": "execute_result"
    }
   ],
   "source": [
    "# Проверим наименовние колонок в загруженной таблице:\n",
    "df.columns"
   ]
  },
  {
   "cell_type": "code",
   "execution_count": 13,
   "metadata": {
    "pycharm": {
     "name": "#%%\n"
    },
    "scrolled": true
   },
   "outputs": [
    {
     "name": "stdout",
     "output_type": "stream",
     "text": [
      "<class 'pandas.core.frame.DataFrame'>\n",
      "RangeIndex: 21525 entries, 0 to 21524\n",
      "Data columns (total 12 columns):\n",
      "children            21525 non-null int64\n",
      "days_employed       19351 non-null float64\n",
      "dob_years           21525 non-null int64\n",
      "education           21525 non-null object\n",
      "education_id        21525 non-null int64\n",
      "family_status       21525 non-null object\n",
      "family_status_id    21525 non-null int64\n",
      "gender              21525 non-null object\n",
      "income_type         21525 non-null object\n",
      "debt                21525 non-null int64\n",
      "total_income        19351 non-null float64\n",
      "purpose             21525 non-null object\n",
      "dtypes: float64(2), int64(5), object(5)\n",
      "memory usage: 2.0+ MB\n"
     ]
    }
   ],
   "source": [
    "# Просмотр общей информации:\n",
    "df.info()"
   ]
  },
  {
   "cell_type": "code",
   "execution_count": 14,
   "metadata": {
    "pycharm": {
     "name": "#%%\n"
    }
   },
   "outputs": [
    {
     "data": {
      "text/html": [
       "<div>\n",
       "<style scoped>\n",
       "    .dataframe tbody tr th:only-of-type {\n",
       "        vertical-align: middle;\n",
       "    }\n",
       "\n",
       "    .dataframe tbody tr th {\n",
       "        vertical-align: top;\n",
       "    }\n",
       "\n",
       "    .dataframe thead th {\n",
       "        text-align: right;\n",
       "    }\n",
       "</style>\n",
       "<table border=\"1\" class=\"dataframe\">\n",
       "  <thead>\n",
       "    <tr style=\"text-align: right;\">\n",
       "      <th></th>\n",
       "      <th>children</th>\n",
       "      <th>days_employed</th>\n",
       "      <th>dob_years</th>\n",
       "      <th>education</th>\n",
       "      <th>education_id</th>\n",
       "      <th>family_status</th>\n",
       "      <th>family_status_id</th>\n",
       "      <th>gender</th>\n",
       "      <th>income_type</th>\n",
       "      <th>debt</th>\n",
       "      <th>total_income</th>\n",
       "      <th>purpose</th>\n",
       "    </tr>\n",
       "  </thead>\n",
       "  <tbody>\n",
       "    <tr>\n",
       "      <td>0</td>\n",
       "      <td>1</td>\n",
       "      <td>-8437.673028</td>\n",
       "      <td>42</td>\n",
       "      <td>высшее</td>\n",
       "      <td>0</td>\n",
       "      <td>женат / замужем</td>\n",
       "      <td>0</td>\n",
       "      <td>F</td>\n",
       "      <td>сотрудник</td>\n",
       "      <td>0</td>\n",
       "      <td>253875.639453</td>\n",
       "      <td>покупка жилья</td>\n",
       "    </tr>\n",
       "    <tr>\n",
       "      <td>1</td>\n",
       "      <td>1</td>\n",
       "      <td>-4024.803754</td>\n",
       "      <td>36</td>\n",
       "      <td>среднее</td>\n",
       "      <td>1</td>\n",
       "      <td>женат / замужем</td>\n",
       "      <td>0</td>\n",
       "      <td>F</td>\n",
       "      <td>сотрудник</td>\n",
       "      <td>0</td>\n",
       "      <td>112080.014102</td>\n",
       "      <td>приобретение автомобиля</td>\n",
       "    </tr>\n",
       "    <tr>\n",
       "      <td>2</td>\n",
       "      <td>0</td>\n",
       "      <td>-5623.422610</td>\n",
       "      <td>33</td>\n",
       "      <td>Среднее</td>\n",
       "      <td>1</td>\n",
       "      <td>женат / замужем</td>\n",
       "      <td>0</td>\n",
       "      <td>M</td>\n",
       "      <td>сотрудник</td>\n",
       "      <td>0</td>\n",
       "      <td>145885.952297</td>\n",
       "      <td>покупка жилья</td>\n",
       "    </tr>\n",
       "    <tr>\n",
       "      <td>3</td>\n",
       "      <td>3</td>\n",
       "      <td>-4124.747207</td>\n",
       "      <td>32</td>\n",
       "      <td>среднее</td>\n",
       "      <td>1</td>\n",
       "      <td>женат / замужем</td>\n",
       "      <td>0</td>\n",
       "      <td>M</td>\n",
       "      <td>сотрудник</td>\n",
       "      <td>0</td>\n",
       "      <td>267628.550329</td>\n",
       "      <td>дополнительное образование</td>\n",
       "    </tr>\n",
       "    <tr>\n",
       "      <td>4</td>\n",
       "      <td>0</td>\n",
       "      <td>340266.072047</td>\n",
       "      <td>53</td>\n",
       "      <td>среднее</td>\n",
       "      <td>1</td>\n",
       "      <td>гражданский брак</td>\n",
       "      <td>1</td>\n",
       "      <td>F</td>\n",
       "      <td>пенсионер</td>\n",
       "      <td>0</td>\n",
       "      <td>158616.077870</td>\n",
       "      <td>сыграть свадьбу</td>\n",
       "    </tr>\n",
       "    <tr>\n",
       "      <td>5</td>\n",
       "      <td>0</td>\n",
       "      <td>-926.185831</td>\n",
       "      <td>27</td>\n",
       "      <td>высшее</td>\n",
       "      <td>0</td>\n",
       "      <td>гражданский брак</td>\n",
       "      <td>1</td>\n",
       "      <td>M</td>\n",
       "      <td>компаньон</td>\n",
       "      <td>0</td>\n",
       "      <td>255763.565419</td>\n",
       "      <td>покупка жилья</td>\n",
       "    </tr>\n",
       "    <tr>\n",
       "      <td>6</td>\n",
       "      <td>0</td>\n",
       "      <td>-2879.202052</td>\n",
       "      <td>43</td>\n",
       "      <td>высшее</td>\n",
       "      <td>0</td>\n",
       "      <td>женат / замужем</td>\n",
       "      <td>0</td>\n",
       "      <td>F</td>\n",
       "      <td>компаньон</td>\n",
       "      <td>0</td>\n",
       "      <td>240525.971920</td>\n",
       "      <td>операции с жильем</td>\n",
       "    </tr>\n",
       "  </tbody>\n",
       "</table>\n",
       "</div>"
      ],
      "text/plain": [
       "   children  days_employed  dob_years education  education_id  \\\n",
       "0         1   -8437.673028         42    высшее             0   \n",
       "1         1   -4024.803754         36   среднее             1   \n",
       "2         0   -5623.422610         33   Среднее             1   \n",
       "3         3   -4124.747207         32   среднее             1   \n",
       "4         0  340266.072047         53   среднее             1   \n",
       "5         0    -926.185831         27    высшее             0   \n",
       "6         0   -2879.202052         43    высшее             0   \n",
       "\n",
       "      family_status  family_status_id gender income_type  debt   total_income  \\\n",
       "0   женат / замужем                 0      F   сотрудник     0  253875.639453   \n",
       "1   женат / замужем                 0      F   сотрудник     0  112080.014102   \n",
       "2   женат / замужем                 0      M   сотрудник     0  145885.952297   \n",
       "3   женат / замужем                 0      M   сотрудник     0  267628.550329   \n",
       "4  гражданский брак                 1      F   пенсионер     0  158616.077870   \n",
       "5  гражданский брак                 1      M   компаньон     0  255763.565419   \n",
       "6   женат / замужем                 0      F   компаньон     0  240525.971920   \n",
       "\n",
       "                      purpose  \n",
       "0               покупка жилья  \n",
       "1     приобретение автомобиля  \n",
       "2               покупка жилья  \n",
       "3  дополнительное образование  \n",
       "4             сыграть свадьбу  \n",
       "5               покупка жилья  \n",
       "6           операции с жильем  "
      ]
     },
     "metadata": {},
     "output_type": "display_data"
    },
    {
     "data": {
      "text/plain": [
       "children                8\n",
       "days_employed       19351\n",
       "dob_years              58\n",
       "education              15\n",
       "education_id            5\n",
       "family_status           5\n",
       "family_status_id        5\n",
       "gender                  3\n",
       "income_type             8\n",
       "debt                    2\n",
       "total_income        19351\n",
       "purpose                38\n",
       "dtype: int64"
      ]
     },
     "execution_count": 14,
     "metadata": {},
     "output_type": "execute_result"
    }
   ],
   "source": [
    "# Просмотр общей информации:\n",
    "display(df.head(7))\n",
    "df.nunique()"
   ]
  },
  {
   "cell_type": "markdown",
   "metadata": {
    "pycharm": {
     "name": "#%% md\n"
    }
   },
   "source": [
    "**Вывод** <a id=\"review\"></a>"
   ]
  },
  {
   "cell_type": "markdown",
   "metadata": {
    "pycharm": {
     "name": "#%% md\n"
    }
   },
   "source": [
    "В каждой строке таблицы данные о клиенте банка и его кредите.\n",
    "\n",
    "Данные в столбцах делятся на несколько типов информации:\n",
    "\n",
    "* персональная информация о клиенте банка, это - возраст, пол, семейное положение, количество детей;\n",
    "* профессиональную информацию о клиенте - уровень образования, трудовой стаж, тип занятости, уровень дохода;\n",
    "* информаци непосредственно о кредите клиента (задолженность, цель кредита)."
   ]
  },
  {
   "cell_type": "markdown",
   "metadata": {
    "pycharm": {
     "name": "#%% md\n"
    }
   },
   "source": [
    "Основные моменты предобработки данных:\n",
    "\n",
    "1. Наименовния колонок ***соответствуют*** общепринятым правилам\n",
    "1. Пропуски значений:\n",
    "    * **days_employed** — общий трудовой стаж в днях\n",
    "    * **total_income** — ежемесячный доход\n",
    "1. Ошибки типов данных:\n",
    "    * **days_employed** — общий трудовой стаж в днях\n",
    "    * **total_income** — ежемесячный доход\n",
    "1. Ошибки в значениях:\n",
    "    * **children** — количество детей в семье (проверить значения)\n",
    "    * **dob_years** — возраст клиента в годах (проверить диапазон)\n",
    "    * **education** — уровень образования клиента (не соответсвует количеству уникальных **education_id**)\n",
    "    * **gender** — пол клиента (3 уникальных - это много)\n",
    "    * **income_type** — тип занятости (проверить значения)\n",
    "1. Дубликаты: ***требуется*** проверка, поиск дубликатов\n",
    "1. Возможная категоризация данных:\n",
    "    * **children** — количество детей в семье\n",
    "    * **dob_years** — возраст клиента в годах\n",
    "    * **education** (**education_id**) — уровень образования клиента\n",
    "    * **family_status** (**family_status_id**) — семейное положение\n",
    "    * **income_type** — тип занятости\n",
    "    * **total_income** — ежемесячный доход\n",
    "    * **purpose** — цель получения кредита"
   ]
  },
  {
   "cell_type": "markdown",
   "metadata": {
    "pycharm": {
     "name": "#%% md\n"
    }
   },
   "source": [
    "## Шаг 2. Предобработка данных"
   ]
  },
  {
   "cell_type": "markdown",
   "metadata": {
    "pycharm": {
     "name": "#%% md\n"
    }
   },
   "source": [
    "### Обработка наименований колонок"
   ]
  },
  {
   "cell_type": "markdown",
   "metadata": {
    "pycharm": {
     "name": "#%% md\n"
    }
   },
   "source": [
    "Наименования колонок таблицы не требуют исправлений"
   ]
  },
  {
   "cell_type": "markdown",
   "metadata": {
    "pycharm": {
     "name": "#%% md\n"
    }
   },
   "source": [
    "### Обработка пропусков <a id=\"empty\"></a>"
   ]
  },
  {
   "cell_type": "code",
   "execution_count": 28,
   "metadata": {
    "pycharm": {
     "name": "#%%\n"
    }
   },
   "outputs": [
    {
     "data": {
      "text/plain": [
       "children               0\n",
       "days_employed       2174\n",
       "dob_years              0\n",
       "education              0\n",
       "education_id           0\n",
       "family_status          0\n",
       "family_status_id       0\n",
       "gender                 0\n",
       "income_type            0\n",
       "debt                   0\n",
       "total_income        2174\n",
       "purpose                0\n",
       "dtype: int64"
      ]
     },
     "execution_count": 28,
     "metadata": {},
     "output_type": "execute_result"
    }
   ],
   "source": [
    "# Проверим наличие пропусков:\n",
    "df.isna().sum()"
   ]
  },
  {
   "cell_type": "markdown",
   "metadata": {
    "pycharm": {
     "name": "#%% md\n"
    }
   },
   "source": [
    "Число пропусков по трудовому стажу и ежемесячному доходу совпадает.\n",
    "\n",
    "Причинами появления пропусков по трудовому стажу и ежемесячному доходу может быть отказ клиента сообщать банку данные о трудовой деятельности.\n",
    "\n",
    "Заполним значения трудового стажа и ежемесячного дохода по средним значениям соответствующих типов занятости:\n",
    "1. Определим средние значения трудового стажа и ежемесячного дохода для какждого типа занятости\n",
    "1. Выделим список всех типов занятости для пропущенных значений\n",
    "1. Пройдем по списку типов занятости для пропущенных значений и присвоим соответсвующее среднее значение трудового стажа и дохода"
   ]
  },
  {
   "cell_type": "code",
   "execution_count": 8,
   "metadata": {
    "pycharm": {
     "name": "#%%\n"
    },
    "scrolled": true
   },
   "outputs": [
    {
     "data": {
      "text/html": [
       "<div>\n",
       "<style scoped>\n",
       "    .dataframe tbody tr th:only-of-type {\n",
       "        vertical-align: middle;\n",
       "    }\n",
       "\n",
       "    .dataframe tbody tr th {\n",
       "        vertical-align: top;\n",
       "    }\n",
       "\n",
       "    .dataframe thead tr th {\n",
       "        text-align: left;\n",
       "    }\n",
       "\n",
       "    .dataframe thead tr:last-of-type th {\n",
       "        text-align: right;\n",
       "    }\n",
       "</style>\n",
       "<table border=\"1\" class=\"dataframe\">\n",
       "  <thead>\n",
       "    <tr>\n",
       "      <th></th>\n",
       "      <th colspan=\"4\" halign=\"left\">total_income</th>\n",
       "    </tr>\n",
       "    <tr>\n",
       "      <th></th>\n",
       "      <th>min</th>\n",
       "      <th>mean</th>\n",
       "      <th>median</th>\n",
       "      <th>max</th>\n",
       "    </tr>\n",
       "    <tr>\n",
       "      <th>income_type</th>\n",
       "      <th></th>\n",
       "      <th></th>\n",
       "      <th></th>\n",
       "      <th></th>\n",
       "    </tr>\n",
       "  </thead>\n",
       "  <tbody>\n",
       "    <tr>\n",
       "      <td>безработный</td>\n",
       "      <td>59956.991984</td>\n",
       "      <td>131339.751676</td>\n",
       "      <td>131339.751676</td>\n",
       "      <td>2.027225e+05</td>\n",
       "    </tr>\n",
       "    <tr>\n",
       "      <td>в декрете</td>\n",
       "      <td>53829.130729</td>\n",
       "      <td>53829.130729</td>\n",
       "      <td>53829.130729</td>\n",
       "      <td>5.382913e+04</td>\n",
       "    </tr>\n",
       "    <tr>\n",
       "      <td>госслужащий</td>\n",
       "      <td>29200.077193</td>\n",
       "      <td>170898.309923</td>\n",
       "      <td>150447.935283</td>\n",
       "      <td>9.104515e+05</td>\n",
       "    </tr>\n",
       "    <tr>\n",
       "      <td>компаньон</td>\n",
       "      <td>28702.812889</td>\n",
       "      <td>202417.461462</td>\n",
       "      <td>172357.950966</td>\n",
       "      <td>2.265604e+06</td>\n",
       "    </tr>\n",
       "    <tr>\n",
       "      <td>пенсионер</td>\n",
       "      <td>20667.263793</td>\n",
       "      <td>137127.465690</td>\n",
       "      <td>118514.486412</td>\n",
       "      <td>7.351033e+05</td>\n",
       "    </tr>\n",
       "    <tr>\n",
       "      <td>предприниматель</td>\n",
       "      <td>499163.144947</td>\n",
       "      <td>499163.144947</td>\n",
       "      <td>499163.144947</td>\n",
       "      <td>4.991631e+05</td>\n",
       "    </tr>\n",
       "    <tr>\n",
       "      <td>сотрудник</td>\n",
       "      <td>21367.648356</td>\n",
       "      <td>161380.260488</td>\n",
       "      <td>142594.396847</td>\n",
       "      <td>1.726276e+06</td>\n",
       "    </tr>\n",
       "    <tr>\n",
       "      <td>студент</td>\n",
       "      <td>98201.625314</td>\n",
       "      <td>98201.625314</td>\n",
       "      <td>98201.625314</td>\n",
       "      <td>9.820163e+04</td>\n",
       "    </tr>\n",
       "  </tbody>\n",
       "</table>\n",
       "</div>"
      ],
      "text/plain": [
       "                  total_income                                            \n",
       "                           min           mean         median           max\n",
       "income_type                                                               \n",
       "безработный       59956.991984  131339.751676  131339.751676  2.027225e+05\n",
       "в декрете         53829.130729   53829.130729   53829.130729  5.382913e+04\n",
       "госслужащий       29200.077193  170898.309923  150447.935283  9.104515e+05\n",
       "компаньон         28702.812889  202417.461462  172357.950966  2.265604e+06\n",
       "пенсионер         20667.263793  137127.465690  118514.486412  7.351033e+05\n",
       "предприниматель  499163.144947  499163.144947  499163.144947  4.991631e+05\n",
       "сотрудник         21367.648356  161380.260488  142594.396847  1.726276e+06\n",
       "студент           98201.625314   98201.625314   98201.625314  9.820163e+04"
      ]
     },
     "execution_count": 8,
     "metadata": {},
     "output_type": "execute_result"
    }
   ],
   "source": [
    "df.groupby('income_type').agg({'total_income': ['min', 'mean', 'median', 'max']})"
   ]
  },
  {
   "cell_type": "code",
   "execution_count": 9,
   "metadata": {
    "pycharm": {
     "name": "#%%\n"
    }
   },
   "outputs": [
    {
     "data": {
      "text/plain": [
       "children            0\n",
       "days_employed       0\n",
       "dob_years           0\n",
       "education           0\n",
       "education_id        0\n",
       "family_status       0\n",
       "family_status_id    0\n",
       "gender              0\n",
       "income_type         0\n",
       "debt                0\n",
       "total_income        0\n",
       "purpose             0\n",
       "dtype: int64"
      ]
     },
     "execution_count": 9,
     "metadata": {},
     "output_type": "execute_result"
    }
   ],
   "source": [
    "# Таблица средних значений трудового стажа для каждого типа занятости:\n",
    "days_employed_mean = df.groupby('income_type')['days_employed'].mean()\n",
    "# Таблица средних значений ежемесячного дохода для каждого типа занятости:\n",
    "total_income_mean = df.groupby('income_type')['total_income'].mean()\n",
    "# Список типов занятости для пропущенных значений:\n",
    "list_income_type_na = list(df[df['days_employed'].isna()]['income_type'].unique())\n",
    "\n",
    "# Для списка типа занятости в пропущенных значениях присвоим средние значения стажа и дохода соответсвующих типов занатости:\n",
    "for val in list_income_type_na:\n",
    "    df.loc[(df['days_employed'].isna()) & (df['income_type'] == val), 'days_employed'] = days_employed_mean[val]\n",
    "    df.loc[(df['total_income'].isna()) & (df['income_type'] == val), 'total_income'] = total_income_mean[val]\n",
    "\n",
    "# Перепроверим количество пропущенных значений:\n",
    "df.isna().sum()"
   ]
  },
  {
   "cell_type": "markdown",
   "metadata": {
    "pycharm": {
     "name": "#%% md\n"
    }
   },
   "source": [
    "**Вывод**"
   ]
  },
  {
   "cell_type": "markdown",
   "metadata": {
    "pycharm": {
     "name": "#%% md\n"
    }
   },
   "source": [
    "Пропущенные значения трудового стажа и ежемесячного дохода были заменены на средние значения трудового стажа и ежемесячного дохода для соответствующих типов занатости."
   ]
  },
  {
   "cell_type": "markdown",
   "metadata": {
    "pycharm": {
     "name": "#%% md\n"
    }
   },
   "source": [
    "### Замена типа данных <a id=\"error_type\"></a>"
   ]
  },
  {
   "cell_type": "code",
   "execution_count": 10,
   "metadata": {
    "pycharm": {
     "name": "#%%\n"
    }
   },
   "outputs": [
    {
     "name": "stdout",
     "output_type": "stream",
     "text": [
      "--------------------------------------------------\n",
      "Трудовой стаж:\n",
      "Максимальное значение: 401755.40047533\n",
      "Минимальное значение: -18388.949900568383\n",
      "--------------------------------------------------\n"
     ]
    }
   ],
   "source": [
    "#Проверим диапазон значений для трудового стажа:\n",
    "print_edges(df['days_employed'], 'Трудовой стаж')"
   ]
  },
  {
   "cell_type": "markdown",
   "metadata": {
    "pycharm": {
     "name": "#%% md\n"
    }
   },
   "source": [
    "Попробуем поделить данные значения на примерное чило дней в году (примем 365):"
   ]
  },
  {
   "cell_type": "code",
   "execution_count": 11,
   "metadata": {
    "pycharm": {
     "name": "#%%\n"
    }
   },
   "outputs": [
    {
     "name": "stdout",
     "output_type": "stream",
     "text": [
      "Число лет для максимального положительного значения: 1100.70\n",
      "Число лет для минимального отрицательного значения: -50.38\n"
     ]
    }
   ],
   "source": [
    "print('Число лет для максимального положительного значения: {:.2f}'.format(df['days_employed'].max() / 365))\n",
    "print('Число лет для минимального отрицательного значения: {:.2f}'.format(df['days_employed'].min() / 365))"
   ]
  },
  {
   "cell_type": "markdown",
   "metadata": {
    "pycharm": {
     "name": "#%% md\n"
    }
   },
   "source": [
    "Положимтельные значения слишком большие. Отрицательные значения походят на число дней стажа, взятые со знаком `-`.\n",
    "\n",
    "Проверим есть ли зависимость отрицательных и положительных значений от типа занятости:\n",
    "<a id=\"anchor_1\"></a>"
   ]
  },
  {
   "cell_type": "code",
   "execution_count": 12,
   "metadata": {
    "pycharm": {
     "name": "#%%\n"
    },
    "scrolled": true
   },
   "outputs": [
    {
     "name": "stdout",
     "output_type": "stream",
     "text": [
      "Отрицательные значения дней стажа:\n"
     ]
    },
    {
     "data": {
      "text/plain": [
       "сотрудник          11119\n",
       "компаньон           5085\n",
       "госслужащий         1459\n",
       "предприниматель        2\n",
       "студент                1\n",
       "в декрете              1\n",
       "Name: income_type, dtype: int64"
      ]
     },
     "metadata": {},
     "output_type": "display_data"
    },
    {
     "name": "stdout",
     "output_type": "stream",
     "text": [
      "Положительные значения дней стажа:\n"
     ]
    },
    {
     "data": {
      "text/plain": [
       "пенсионер      3856\n",
       "безработный       2\n",
       "Name: income_type, dtype: int64"
      ]
     },
     "metadata": {},
     "output_type": "display_data"
    }
   ],
   "source": [
    "#Проверим к какому типу занятости относятся положительные значения:\n",
    "print('Отрицательные значения дней стажа:')\n",
    "negative_days_employed = df[df['days_employed'] < 0].copy()\n",
    "display( negative_days_employed['income_type'].value_counts() )\n",
    "print('Положительные значения дней стажа:')\n",
    "\n",
    "#positive_days_employed = df[df['days_employed'] > 0]    >>> Старый вариант вызывающий Warning в In[15]\n",
    "\n",
    "positive_days_employed = df[df['days_employed'] > 0].copy()   # Новый вариант\n",
    "\n",
    "display( positive_days_employed['income_type'].value_counts() )"
   ]
  },
  {
   "cell_type": "markdown",
   "metadata": {
    "pycharm": {
     "name": "#%% md\n"
    }
   },
   "source": [
    "Таким образом положительные значения относятся к неработающим людям.\n",
    "\n",
    "Проверим визуальное распределение значений трудового стажа в зависимости от возраста (отдельно для отрицательных и положительных значений:"
   ]
  },
  {
   "cell_type": "code",
   "execution_count": 13,
   "metadata": {
    "pycharm": {
     "name": "#%%\n"
    }
   },
   "outputs": [
    {
     "data": {
      "text/plain": [
       "<matplotlib.axes._subplots.AxesSubplot at 0x7f793a8ef510>"
      ]
     },
     "execution_count": 13,
     "metadata": {},
     "output_type": "execute_result"
    },
    {
     "data": {
      "image/png": "[encoded data removed]",
      "text/plain": [
       "<Figure size 432x288 with 1 Axes>"
      ]
     },
     "metadata": {
      "needs_background": "light"
     },
     "output_type": "display_data"
    }
   ],
   "source": [
    "sb.scatterplot(data=positive_days_employed, x='dob_years', y='days_employed')"
   ]
  },
  {
   "cell_type": "code",
   "execution_count": 14,
   "metadata": {
    "pycharm": {
     "name": "#%%\n"
    }
   },
   "outputs": [
    {
     "data": {
      "text/plain": [
       "<matplotlib.axes._subplots.AxesSubplot at 0x7f793217bd50>"
      ]
     },
     "execution_count": 14,
     "metadata": {},
     "output_type": "execute_result"
    },
    {
     "data": {
      "image/png": "[encoded data removed]",
      "text/plain": [
       "<Figure size 432x288 with 1 Axes>"
      ]
     },
     "metadata": {
      "needs_background": "light"
     },
     "output_type": "display_data"
    }
   ],
   "source": [
    "sb.scatterplot(data=negative_days_employed, x='dob_years', y='days_employed')"
   ]
  },
  {
   "cell_type": "markdown",
   "metadata": {
    "pycharm": {
     "name": "#%% md\n"
    }
   },
   "source": [
    "Нулевые значения возраста - это веротнее всего пропуски значений (их не рассматриваем).\n",
    "\n",
    "Отрицательные значения распределяются линейно в соответствии с возрастом клиента, не превышая его возраст. Это походит на накопленный трудовой стаж.\n",
    "\n",
    "Положиетльные значения распределены в хаотичном порядке, независимо от возраста и строго в в определенных границах. Выведем значения этих границ."
   ]
  },
  {
   "cell_type": "code",
   "execution_count": 15,
   "metadata": {
    "pycharm": {
     "name": "#%%\n"
    }
   },
   "outputs": [
    {
     "name": "stdout",
     "output_type": "stream",
     "text": [
      "--------------------------------------------------\n",
      "Положительные значения трудового стажа:\n",
      "Максимальное значение: 401755.40047533\n",
      "Минимальное значение: 328728.72060451825\n",
      "--------------------------------------------------\n"
     ]
    }
   ],
   "source": [
    "max_positive_days_employed = positive_days_employed['days_employed'].max()\n",
    "min_positive_days_employed = positive_days_employed['days_employed'].min()\n",
    "print_edges(positive_days_employed['days_employed'], 'Положительные значения трудового стажа')"
   ]
  },
  {
   "cell_type": "markdown",
   "metadata": {
    "pycharm": {
     "name": "#%% md\n"
    }
   },
   "source": [
    "Порядок данных значений очень напоминает число часов с 1970 года.\n",
    "\n",
    "Попробуем перевести положительные значения в даты и посмотрим минимальную и максимальную дату:"
   ]
  },
  {
   "cell_type": "code",
   "execution_count": 16,
   "metadata": {
    "pycharm": {
     "name": "#%%\n"
    },
    "scrolled": true
   },
   "outputs": [
    {
     "name": "stdout",
     "output_type": "stream",
     "text": [
      "--------------------------------------------------\n",
      "Даты:\n",
      "Максимальное значение: 2015-10-31 00:00:00\n",
      "Минимальное значение: 2007-07-03 00:00:00\n",
      "--------------------------------------------------\n",
      "Число рабочих дней между датами: 2173.4130913932067\n",
      "Среднее число кредитов в день: 9.903777650571705\n"
     ]
    }
   ],
   "source": [
    "positive_days_employed['days_employed_seconds'] = positive_days_employed['days_employed'].apply(lambda x: int(x/24))\n",
    "positive_days_employed['datetime'] = pd.to_datetime(positive_days_employed['days_employed_seconds'], errors='coerce', unit='D')\n",
    "\n",
    "print_edges(positive_days_employed['datetime'], 'Даты')\n",
    "work_days = (max_positive_days_employed - min_positive_days_employed) / 24 / 7 * 5\n",
    "print('Число рабочих дней между датами:', work_days)\n",
    "print('Среднее число кредитов в день:', len(df) / work_days)"
   ]
  },
  {
   "cell_type": "markdown",
   "metadata": {
    "pycharm": {
     "name": "#%% md\n"
    }
   },
   "source": [
    "Таким образом можно предположить, что в значение стажа для неработающих людей попала запись даты момента когда создавалась запись. Данные создавались с июля 2007 по октябрь 2015. В среднем оформлялось 10 новых кредито в день, что вполне соответсвует действительности.\n",
    "\n",
    "Трудовой стаж рассчитывается [следующим образом](https://nalog-spravka.ru/kak-poschitat-trudovoj-stazh-po-trudovoj-knizhke.html):\n",
    "\n",
    "> ОТС = Сумма дат начала каждого интервала трудовой деятельности (в формате: ДД.ММ.ГГГГ) – Сумма дат конца каждого интервала трудовой деятельности (в формате: ДД.ММ.ГГГГ)\n",
    "\n",
    "Вероятно для банка не имеет значение стаж неработающих людей, а только накопленный трудовой стаж работающих. Тогда оператор оставляет пропуски на месте начальной/конечной дат интервала трудовой деятельности. Система так настроена, что при пустых значениях, в начальную дату она ставит нулевую дату (1970 г, по факту 0), а в конечную - текущую (в числе часов с нулевой даты). Таким образом в данные попадает число часов в диапазоне значений от `328728` до `401755`.\n",
    "\n",
    "В случае с отрицательными значениями для работающих людей есть два варианта:\n",
    "- Ошибка оператора при заполнении данных - перепутаны местами начальные и конечный данные\n",
    "- Ошибка программиста - в программе в расчетной формуле перепутаны метсами суммы начал и концов интервалов\n",
    "\n",
    "Поскольку ошибка системная и нет ни одного положительного значения для работающих людей, то скорее всего - это ошибка в программе.\n",
    "\n",
    "Поскольку для неработающих людей на месте значений трудового стажа оставлялись пропуски, то заменим их значениями `0`.\n",
    "\n",
    "Для занчений трудового стажа работающих людей изменим знак на положительный и переведем в целочисленной число дней. "
   ]
  },
  {
   "cell_type": "code",
   "execution_count": 17,
   "metadata": {
    "pycharm": {
     "name": "#%%\n"
    },
    "scrolled": true
   },
   "outputs": [],
   "source": [
    "# ФУНКЦИЯ для исправления значений стажа\n",
    "def correct_days(days):\n",
    "    if days >= 0:\n",
    "        return 0\n",
    "    else:\n",
    "        return -days\n",
    "\n",
    "# Исправление значений дней трудового стажа:\n",
    "df['days_employed'] = df['days_employed'].apply(correct_days)\n",
    "\n",
    "# Замена на целочисленные значения:\n",
    "df['days_employed'] = df['days_employed'].astype(int)"
   ]
  },
  {
   "cell_type": "code",
   "execution_count": 18,
   "metadata": {
    "pycharm": {
     "name": "#%%\n"
    }
   },
   "outputs": [
    {
     "data": {
      "text/plain": [
       "0        8437\n",
       "1        4024\n",
       "2        5623\n",
       "3        4124\n",
       "4           0\n",
       "         ... \n",
       "21520    4529\n",
       "21521       0\n",
       "21522    2113\n",
       "21523    3112\n",
       "21524    1984\n",
       "Name: days_employed, Length: 21525, dtype: int64"
      ]
     },
     "execution_count": 18,
     "metadata": {},
     "output_type": "execute_result"
    }
   ],
   "source": [
    "df['days_employed'].abs()"
   ]
  },
  {
   "cell_type": "code",
   "execution_count": 19,
   "metadata": {
    "pycharm": {
     "name": "#%%\n"
    }
   },
   "outputs": [
    {
     "data": {
      "text/html": [
       "<div>\n",
       "<style scoped>\n",
       "    .dataframe tbody tr th:only-of-type {\n",
       "        vertical-align: middle;\n",
       "    }\n",
       "\n",
       "    .dataframe tbody tr th {\n",
       "        vertical-align: top;\n",
       "    }\n",
       "\n",
       "    .dataframe thead th {\n",
       "        text-align: right;\n",
       "    }\n",
       "</style>\n",
       "<table border=\"1\" class=\"dataframe\">\n",
       "  <thead>\n",
       "    <tr style=\"text-align: right;\">\n",
       "      <th></th>\n",
       "      <th>children</th>\n",
       "      <th>days_employed</th>\n",
       "      <th>dob_years</th>\n",
       "      <th>education</th>\n",
       "      <th>education_id</th>\n",
       "      <th>family_status</th>\n",
       "      <th>family_status_id</th>\n",
       "      <th>gender</th>\n",
       "      <th>income_type</th>\n",
       "      <th>debt</th>\n",
       "      <th>total_income</th>\n",
       "      <th>purpose</th>\n",
       "    </tr>\n",
       "  </thead>\n",
       "  <tbody>\n",
       "    <tr>\n",
       "      <td>21517</td>\n",
       "      <td>0</td>\n",
       "      <td>404</td>\n",
       "      <td>42</td>\n",
       "      <td>высшее</td>\n",
       "      <td>0</td>\n",
       "      <td>гражданский брак</td>\n",
       "      <td>1</td>\n",
       "      <td>F</td>\n",
       "      <td>компаньон</td>\n",
       "      <td>0</td>\n",
       "      <td>178059.553491</td>\n",
       "      <td>на покупку своего автомобиля</td>\n",
       "    </tr>\n",
       "    <tr>\n",
       "      <td>21518</td>\n",
       "      <td>0</td>\n",
       "      <td>0</td>\n",
       "      <td>59</td>\n",
       "      <td>СРЕДНЕЕ</td>\n",
       "      <td>1</td>\n",
       "      <td>женат / замужем</td>\n",
       "      <td>0</td>\n",
       "      <td>F</td>\n",
       "      <td>пенсионер</td>\n",
       "      <td>0</td>\n",
       "      <td>153864.650328</td>\n",
       "      <td>сделка с автомобилем</td>\n",
       "    </tr>\n",
       "    <tr>\n",
       "      <td>21519</td>\n",
       "      <td>1</td>\n",
       "      <td>2351</td>\n",
       "      <td>37</td>\n",
       "      <td>ученая степень</td>\n",
       "      <td>4</td>\n",
       "      <td>в разводе</td>\n",
       "      <td>3</td>\n",
       "      <td>M</td>\n",
       "      <td>сотрудник</td>\n",
       "      <td>0</td>\n",
       "      <td>115949.039788</td>\n",
       "      <td>покупка коммерческой недвижимости</td>\n",
       "    </tr>\n",
       "    <tr>\n",
       "      <td>21520</td>\n",
       "      <td>1</td>\n",
       "      <td>4529</td>\n",
       "      <td>43</td>\n",
       "      <td>среднее</td>\n",
       "      <td>1</td>\n",
       "      <td>гражданский брак</td>\n",
       "      <td>1</td>\n",
       "      <td>F</td>\n",
       "      <td>компаньон</td>\n",
       "      <td>0</td>\n",
       "      <td>224791.862382</td>\n",
       "      <td>операции с жильем</td>\n",
       "    </tr>\n",
       "    <tr>\n",
       "      <td>21521</td>\n",
       "      <td>0</td>\n",
       "      <td>0</td>\n",
       "      <td>67</td>\n",
       "      <td>среднее</td>\n",
       "      <td>1</td>\n",
       "      <td>женат / замужем</td>\n",
       "      <td>0</td>\n",
       "      <td>F</td>\n",
       "      <td>пенсионер</td>\n",
       "      <td>0</td>\n",
       "      <td>155999.806512</td>\n",
       "      <td>сделка с автомобилем</td>\n",
       "    </tr>\n",
       "    <tr>\n",
       "      <td>21522</td>\n",
       "      <td>1</td>\n",
       "      <td>2113</td>\n",
       "      <td>38</td>\n",
       "      <td>среднее</td>\n",
       "      <td>1</td>\n",
       "      <td>гражданский брак</td>\n",
       "      <td>1</td>\n",
       "      <td>M</td>\n",
       "      <td>сотрудник</td>\n",
       "      <td>1</td>\n",
       "      <td>89672.561153</td>\n",
       "      <td>недвижимость</td>\n",
       "    </tr>\n",
       "    <tr>\n",
       "      <td>21523</td>\n",
       "      <td>3</td>\n",
       "      <td>3112</td>\n",
       "      <td>38</td>\n",
       "      <td>среднее</td>\n",
       "      <td>1</td>\n",
       "      <td>женат / замужем</td>\n",
       "      <td>0</td>\n",
       "      <td>M</td>\n",
       "      <td>сотрудник</td>\n",
       "      <td>1</td>\n",
       "      <td>244093.050500</td>\n",
       "      <td>на покупку своего автомобиля</td>\n",
       "    </tr>\n",
       "    <tr>\n",
       "      <td>21524</td>\n",
       "      <td>2</td>\n",
       "      <td>1984</td>\n",
       "      <td>40</td>\n",
       "      <td>среднее</td>\n",
       "      <td>1</td>\n",
       "      <td>женат / замужем</td>\n",
       "      <td>0</td>\n",
       "      <td>F</td>\n",
       "      <td>сотрудник</td>\n",
       "      <td>0</td>\n",
       "      <td>82047.418899</td>\n",
       "      <td>на покупку автомобиля</td>\n",
       "    </tr>\n",
       "  </tbody>\n",
       "</table>\n",
       "</div>"
      ],
      "text/plain": [
       "       children  days_employed  dob_years       education  education_id  \\\n",
       "21517         0            404         42          высшее             0   \n",
       "21518         0              0         59         СРЕДНЕЕ             1   \n",
       "21519         1           2351         37  ученая степень             4   \n",
       "21520         1           4529         43         среднее             1   \n",
       "21521         0              0         67         среднее             1   \n",
       "21522         1           2113         38         среднее             1   \n",
       "21523         3           3112         38         среднее             1   \n",
       "21524         2           1984         40         среднее             1   \n",
       "\n",
       "          family_status  family_status_id gender income_type  debt  \\\n",
       "21517  гражданский брак                 1      F   компаньон     0   \n",
       "21518   женат / замужем                 0      F   пенсионер     0   \n",
       "21519         в разводе                 3      M   сотрудник     0   \n",
       "21520  гражданский брак                 1      F   компаньон     0   \n",
       "21521   женат / замужем                 0      F   пенсионер     0   \n",
       "21522  гражданский брак                 1      M   сотрудник     1   \n",
       "21523   женат / замужем                 0      M   сотрудник     1   \n",
       "21524   женат / замужем                 0      F   сотрудник     0   \n",
       "\n",
       "        total_income                            purpose  \n",
       "21517  178059.553491       на покупку своего автомобиля  \n",
       "21518  153864.650328               сделка с автомобилем  \n",
       "21519  115949.039788  покупка коммерческой недвижимости  \n",
       "21520  224791.862382                  операции с жильем  \n",
       "21521  155999.806512               сделка с автомобилем  \n",
       "21522   89672.561153                       недвижимость  \n",
       "21523  244093.050500       на покупку своего автомобиля  \n",
       "21524   82047.418899              на покупку автомобиля  "
      ]
     },
     "metadata": {},
     "output_type": "display_data"
    },
    {
     "data": {
      "text/plain": [
       "<matplotlib.axes._subplots.AxesSubplot at 0x7f7932104410>"
      ]
     },
     "execution_count": 19,
     "metadata": {},
     "output_type": "execute_result"
    },
    {
     "data": {
      "image/png": "[encoded data removed]",
      "text/plain": [
       "<Figure size 432x288 with 1 Axes>"
      ]
     },
     "metadata": {
      "needs_background": "light"
     },
     "output_type": "display_data"
    }
   ],
   "source": [
    "# Проверим работу замены:\n",
    "display(df.tail(8))\n",
    "sb.scatterplot(data=df, x='dob_years', y='days_employed')"
   ]
  },
  {
   "cell_type": "code",
   "execution_count": 20,
   "metadata": {
    "pycharm": {
     "name": "#%%\n"
    }
   },
   "outputs": [
    {
     "name": "stdout",
     "output_type": "stream",
     "text": [
      "--------------------------------------------------\n",
      "Ежемесячный доход:\n",
      "Максимальное значение: 2265604.028722744\n",
      "Минимальное значение: 20667.26379327158\n",
      "--------------------------------------------------\n"
     ]
    }
   ],
   "source": [
    "#Проверим диапазон значений для ежемесячного дохода:\n",
    "print_edges(df['total_income'], 'Ежемесячный доход')"
   ]
  },
  {
   "cell_type": "markdown",
   "metadata": {
    "pycharm": {
     "name": "#%% md\n"
    }
   },
   "source": [
    "Диапазон значений ежемесячного дохода приемлим.\n",
    "\n",
    "Заменим ежемесячный доход на целочисленные значения:"
   ]
  },
  {
   "cell_type": "code",
   "execution_count": 21,
   "metadata": {
    "pycharm": {
     "name": "#%%\n"
    }
   },
   "outputs": [
    {
     "data": {
      "text/html": [
       "<div>\n",
       "<style scoped>\n",
       "    .dataframe tbody tr th:only-of-type {\n",
       "        vertical-align: middle;\n",
       "    }\n",
       "\n",
       "    .dataframe tbody tr th {\n",
       "        vertical-align: top;\n",
       "    }\n",
       "\n",
       "    .dataframe thead th {\n",
       "        text-align: right;\n",
       "    }\n",
       "</style>\n",
       "<table border=\"1\" class=\"dataframe\">\n",
       "  <thead>\n",
       "    <tr style=\"text-align: right;\">\n",
       "      <th></th>\n",
       "      <th>children</th>\n",
       "      <th>days_employed</th>\n",
       "      <th>dob_years</th>\n",
       "      <th>education</th>\n",
       "      <th>education_id</th>\n",
       "      <th>family_status</th>\n",
       "      <th>family_status_id</th>\n",
       "      <th>gender</th>\n",
       "      <th>income_type</th>\n",
       "      <th>debt</th>\n",
       "      <th>total_income</th>\n",
       "      <th>purpose</th>\n",
       "    </tr>\n",
       "  </thead>\n",
       "  <tbody>\n",
       "    <tr>\n",
       "      <td>0</td>\n",
       "      <td>1</td>\n",
       "      <td>8437</td>\n",
       "      <td>42</td>\n",
       "      <td>высшее</td>\n",
       "      <td>0</td>\n",
       "      <td>женат / замужем</td>\n",
       "      <td>0</td>\n",
       "      <td>F</td>\n",
       "      <td>сотрудник</td>\n",
       "      <td>0</td>\n",
       "      <td>253875</td>\n",
       "      <td>покупка жилья</td>\n",
       "    </tr>\n",
       "    <tr>\n",
       "      <td>1</td>\n",
       "      <td>1</td>\n",
       "      <td>4024</td>\n",
       "      <td>36</td>\n",
       "      <td>среднее</td>\n",
       "      <td>1</td>\n",
       "      <td>женат / замужем</td>\n",
       "      <td>0</td>\n",
       "      <td>F</td>\n",
       "      <td>сотрудник</td>\n",
       "      <td>0</td>\n",
       "      <td>112080</td>\n",
       "      <td>приобретение автомобиля</td>\n",
       "    </tr>\n",
       "    <tr>\n",
       "      <td>2</td>\n",
       "      <td>0</td>\n",
       "      <td>5623</td>\n",
       "      <td>33</td>\n",
       "      <td>Среднее</td>\n",
       "      <td>1</td>\n",
       "      <td>женат / замужем</td>\n",
       "      <td>0</td>\n",
       "      <td>M</td>\n",
       "      <td>сотрудник</td>\n",
       "      <td>0</td>\n",
       "      <td>145885</td>\n",
       "      <td>покупка жилья</td>\n",
       "    </tr>\n",
       "    <tr>\n",
       "      <td>3</td>\n",
       "      <td>3</td>\n",
       "      <td>4124</td>\n",
       "      <td>32</td>\n",
       "      <td>среднее</td>\n",
       "      <td>1</td>\n",
       "      <td>женат / замужем</td>\n",
       "      <td>0</td>\n",
       "      <td>M</td>\n",
       "      <td>сотрудник</td>\n",
       "      <td>0</td>\n",
       "      <td>267628</td>\n",
       "      <td>дополнительное образование</td>\n",
       "    </tr>\n",
       "    <tr>\n",
       "      <td>4</td>\n",
       "      <td>0</td>\n",
       "      <td>0</td>\n",
       "      <td>53</td>\n",
       "      <td>среднее</td>\n",
       "      <td>1</td>\n",
       "      <td>гражданский брак</td>\n",
       "      <td>1</td>\n",
       "      <td>F</td>\n",
       "      <td>пенсионер</td>\n",
       "      <td>0</td>\n",
       "      <td>158616</td>\n",
       "      <td>сыграть свадьбу</td>\n",
       "    </tr>\n",
       "  </tbody>\n",
       "</table>\n",
       "</div>"
      ],
      "text/plain": [
       "   children  days_employed  dob_years education  education_id  \\\n",
       "0         1           8437         42    высшее             0   \n",
       "1         1           4024         36   среднее             1   \n",
       "2         0           5623         33   Среднее             1   \n",
       "3         3           4124         32   среднее             1   \n",
       "4         0              0         53   среднее             1   \n",
       "\n",
       "      family_status  family_status_id gender income_type  debt  total_income  \\\n",
       "0   женат / замужем                 0      F   сотрудник     0        253875   \n",
       "1   женат / замужем                 0      F   сотрудник     0        112080   \n",
       "2   женат / замужем                 0      M   сотрудник     0        145885   \n",
       "3   женат / замужем                 0      M   сотрудник     0        267628   \n",
       "4  гражданский брак                 1      F   пенсионер     0        158616   \n",
       "\n",
       "                      purpose  \n",
       "0               покупка жилья  \n",
       "1     приобретение автомобиля  \n",
       "2               покупка жилья  \n",
       "3  дополнительное образование  \n",
       "4             сыграть свадьбу  "
      ]
     },
     "execution_count": 21,
     "metadata": {},
     "output_type": "execute_result"
    }
   ],
   "source": [
    "df['total_income'] = df['total_income'].astype(int)\n",
    "# Просмотрим несколько измененных значений\n",
    "df.head()"
   ]
  },
  {
   "cell_type": "markdown",
   "metadata": {
    "pycharm": {
     "name": "#%% md\n"
    }
   },
   "source": [
    "**Вывод**"
   ]
  },
  {
   "cell_type": "markdown",
   "metadata": {
    "pycharm": {
     "name": "#%% md\n"
    }
   },
   "source": [
    "При заполнении таблицы данных имеются ошибки в работе програмного беспечения в работе с колонкой трудового стажа.\n",
    "\n",
    "Ошибки значений трудового стажа исправлены.\n",
    "\n",
    "Данные по трудовому стажу и ежемесячному доходу приведены к целочисленному типу для удобства и нагладности дальнейшего анализа."
   ]
  },
  {
   "cell_type": "markdown",
   "metadata": {
    "pycharm": {
     "name": "#%% md\n"
    }
   },
   "source": [
    "### Обработка ошибок в значениях <a id=\"error_value\"></a>"
   ]
  },
  {
   "cell_type": "markdown",
   "metadata": {
    "pycharm": {
     "name": "#%% md\n"
    }
   },
   "source": [
    "Для выявления ошибок (неявных дубликатов) в данных проверим столбцы, вызвавшие подозрение на этапе [ознакомления с данными](#review).\n",
    "\n",
    "Для этого в случае с категориальными данными выведем и оценим уникальные значения по столбцу, а для количественных данных просмотрим нижнюю и верхнюю границу диапазона данных. В соответствии с результатом примем дальнейшие действия по исправлению данных."
   ]
  },
  {
   "cell_type": "markdown",
   "metadata": {
    "pycharm": {
     "name": "#%% md\n"
    }
   },
   "source": [
    "#### Столбец 'children'"
   ]
  },
  {
   "cell_type": "markdown",
   "metadata": {
    "pycharm": {
     "name": "#%% md\n"
    }
   },
   "source": [
    "В столбце 'children' содержатся категориальные данные, поэтому проверим уникальные значения методом `value_counts()`"
   ]
  },
  {
   "cell_type": "code",
   "execution_count": 22,
   "metadata": {
    "pycharm": {
     "name": "#%%\n"
    },
    "scrolled": true
   },
   "outputs": [
    {
     "data": {
      "text/plain": [
       " 0     14149\n",
       " 1      4818\n",
       " 2      2055\n",
       " 3       330\n",
       " 20       76\n",
       "-1        47\n",
       " 4        41\n",
       " 5         9\n",
       "Name: children, dtype: int64"
      ]
     },
     "execution_count": 22,
     "metadata": {},
     "output_type": "execute_result"
    }
   ],
   "source": [
    "# Проверим значения столбца 'children'\n",
    "df['children'].value_counts()"
   ]
  },
  {
   "cell_type": "markdown",
   "metadata": {
    "pycharm": {
     "name": "#%% md\n"
    }
   },
   "source": [
    "Отрицательных значений детей не может быть. Заменим отрицательные значения на положительные:"
   ]
  },
  {
   "cell_type": "code",
   "execution_count": 23,
   "metadata": {
    "pycharm": {
     "name": "#%%\n"
    }
   },
   "outputs": [],
   "source": [
    "df['children'] = df['children'].replace(-1, 1)"
   ]
  },
  {
   "cell_type": "markdown",
   "metadata": {
    "pycharm": {
     "name": "#%% md\n"
    }
   },
   "source": [
    "Значение количества детей `20` не может быть. Вероятнее всего ошибка значения вещественного типа `2.0` слилось в  `20`. Проверим семейный статус для таких записей"
   ]
  },
  {
   "cell_type": "code",
   "execution_count": 24,
   "metadata": {
    "pycharm": {
     "name": "#%%\n"
    }
   },
   "outputs": [
    {
     "data": {
      "text/plain": [
       "женат / замужем          49\n",
       "гражданский брак         12\n",
       "Не женат / не замужем     9\n",
       "вдовец / вдова            4\n",
       "в разводе                 2\n",
       "Name: family_status, dtype: int64"
      ]
     },
     "execution_count": 24,
     "metadata": {},
     "output_type": "execute_result"
    }
   ],
   "source": [
    "df[df['children'] == 20]['family_status'].value_counts()"
   ]
  },
  {
   "cell_type": "markdown",
   "metadata": {
    "pycharm": {
     "name": "#%% md\n"
    }
   },
   "source": [
    "Больше людей имело семейные отношения, соответственно заменим значение `20` на `2`"
   ]
  },
  {
   "cell_type": "code",
   "execution_count": 25,
   "metadata": {
    "pycharm": {
     "name": "#%%\n"
    }
   },
   "outputs": [
    {
     "data": {
      "text/plain": [
       "0    14149\n",
       "1     4865\n",
       "2     2131\n",
       "3      330\n",
       "4       41\n",
       "5        9\n",
       "Name: children, dtype: int64"
      ]
     },
     "execution_count": 25,
     "metadata": {},
     "output_type": "execute_result"
    }
   ],
   "source": [
    "df['children'] = df['children'].replace(20, 2)\n",
    "df['children'].value_counts()"
   ]
  },
  {
   "cell_type": "markdown",
   "metadata": {
    "pycharm": {
     "name": "#%% md\n"
    }
   },
   "source": [
    "#### Столбец 'dob_years'"
   ]
  },
  {
   "cell_type": "markdown",
   "metadata": {
    "pycharm": {
     "name": "#%% md\n"
    }
   },
   "source": [
    "В столбце 'dob_years' содержатся количественные данные данные, поэтому проверим границы диапазона методами `min()` и `max()`"
   ]
  },
  {
   "cell_type": "code",
   "execution_count": 26,
   "metadata": {
    "pycharm": {
     "name": "#%%\n"
    }
   },
   "outputs": [
    {
     "name": "stdout",
     "output_type": "stream",
     "text": [
      "--------------------------------------------------\n",
      "Возраст клиента:\n",
      "Максимальное значение: 75\n",
      "Минимальное значение: 0\n",
      "--------------------------------------------------\n"
     ]
    }
   ],
   "source": [
    "# Проверим диапазон значений столбца 'dob_years'\n",
    "print_edges(df['dob_years'], 'Возраст клиента')"
   ]
  },
  {
   "cell_type": "markdown",
   "metadata": {
    "pycharm": {
     "name": "#%% md\n"
    }
   },
   "source": [
    "Верхняя граница возраста реальная, нижняя нет. Проверим несколько минимальных значений возраста:"
   ]
  },
  {
   "cell_type": "code",
   "execution_count": 27,
   "metadata": {
    "pycharm": {
     "name": "#%%\n"
    }
   },
   "outputs": [
    {
     "data": {
      "text/plain": [
       "dob_years\n",
       "0     101\n",
       "19     14\n",
       "20     51\n",
       "21    111\n",
       "22    183\n",
       "Name: dob_years, dtype: int64"
      ]
     },
     "execution_count": 27,
     "metadata": {},
     "output_type": "execute_result"
    }
   ],
   "source": [
    "df.groupby('dob_years')['dob_years'].count().head()"
   ]
  },
  {
   "cell_type": "markdown",
   "metadata": {
    "pycharm": {
     "name": "#%% md\n"
    }
   },
   "source": [
    "Минимальный ненулевой возраст - `19 лет` вполне реальный.\n",
    "\n",
    "Значение возраста `0` является неявным пропуском.\n",
    "\n",
    "Заменим неявные пропуси на средние значения возраста"
   ]
  },
  {
   "cell_type": "code",
   "execution_count": 28,
   "metadata": {
    "pycharm": {
     "name": "#%%\n"
    }
   },
   "outputs": [
    {
     "data": {
      "text/plain": [
       "dob_years\n",
       "19     14\n",
       "20     51\n",
       "21    111\n",
       "22    183\n",
       "23    254\n",
       "Name: dob_years, dtype: int64"
      ]
     },
     "execution_count": 28,
     "metadata": {},
     "output_type": "execute_result"
    }
   ],
   "source": [
    "df['dob_years'] = df['dob_years'].replace(0, int(df['dob_years'].mean()))\n",
    "df.groupby('dob_years')['dob_years'].count().head()"
   ]
  },
  {
   "cell_type": "markdown",
   "metadata": {
    "pycharm": {
     "name": "#%% md\n"
    }
   },
   "source": [
    "#### Столбец 'education'"
   ]
  },
  {
   "cell_type": "markdown",
   "metadata": {
    "pycharm": {
     "name": "#%% md\n"
    }
   },
   "source": [
    "В столбце 'education' содержатся категориальные данные, но проверки уникальных значений методом `value_counts()` не достаточно. На этапе [ознакомления с данными](#review) было выявлено, что в таблицу заведены столбцы наименований уровня образования, и идентификаторы уровней образования, но число уникальных значений по данным столбцам не совпадает. Соответственно нужно проверить соотношение дубликатов наименований уровней образования с идентификаторами. Воспользуемся для этого группировкой значений и поиском уникальных идентификаторов по группам."
   ]
  },
  {
   "cell_type": "code",
   "execution_count": 29,
   "metadata": {
    "pycharm": {
     "name": "#%%\n"
    }
   },
   "outputs": [
    {
     "data": {
      "text/plain": [
       "education\n",
       "ВЫСШЕЕ                 [0]\n",
       "Высшее                 [0]\n",
       "высшее                 [0]\n",
       "СРЕДНЕЕ                [1]\n",
       "Среднее                [1]\n",
       "среднее                [1]\n",
       "НЕОКОНЧЕННОЕ ВЫСШЕЕ    [2]\n",
       "Неоконченное высшее    [2]\n",
       "неоконченное высшее    [2]\n",
       "НАЧАЛЬНОЕ              [3]\n",
       "Начальное              [3]\n",
       "начальное              [3]\n",
       "УЧЕНАЯ СТЕПЕНЬ         [4]\n",
       "Ученая степень         [4]\n",
       "ученая степень         [4]\n",
       "Name: education_id, dtype: object"
      ]
     },
     "execution_count": 29,
     "metadata": {},
     "output_type": "execute_result"
    }
   ],
   "source": [
    "# Проверим значения столбца 'education' и соотношение со столбцом 'education_id'\n",
    "df.groupby('education')['education_id'].unique().sort_values()"
   ]
  },
  {
   "cell_type": "markdown",
   "metadata": {
    "pycharm": {
     "name": "#%% md\n"
    }
   },
   "source": [
    "Всего 5 уровней образования, каждый соответсвует определенному `education_id`, только записанные в разном регистре. Исправим регистр:"
   ]
  },
  {
   "cell_type": "code",
   "execution_count": 30,
   "metadata": {
    "pycharm": {
     "name": "#%%\n"
    }
   },
   "outputs": [
    {
     "data": {
      "text/plain": [
       "education\n",
       "высшее                 [0]\n",
       "среднее                [1]\n",
       "неоконченное высшее    [2]\n",
       "начальное              [3]\n",
       "ученая степень         [4]\n",
       "Name: education_id, dtype: object"
      ]
     },
     "execution_count": 30,
     "metadata": {},
     "output_type": "execute_result"
    }
   ],
   "source": [
    "df['education'] = df['education'].apply(lambda x: x.lower())\n",
    "# Проверим значения столбца 'education' и соотношение со столбцом 'education_id'\n",
    "df.groupby('education')['education_id'].unique().sort_values()"
   ]
  },
  {
   "cell_type": "markdown",
   "metadata": {
    "pycharm": {
     "name": "#%% md\n"
    }
   },
   "source": [
    "#### Столбец 'gender'"
   ]
  },
  {
   "cell_type": "markdown",
   "metadata": {
    "pycharm": {
     "name": "#%% md\n"
    }
   },
   "source": [
    "В столбце 'gender' содержатся категориальные данные, поэтому проверим уникальные значения методом `value_counts()`.\n",
    "\n",
    "На этапе [ознакомления с данными](#review) было выявлено, что для пола клиента 3 уникальных значения - это много."
   ]
  },
  {
   "cell_type": "code",
   "execution_count": 31,
   "metadata": {
    "pycharm": {
     "name": "#%%\n"
    }
   },
   "outputs": [
    {
     "data": {
      "text/plain": [
       "F      14236\n",
       "M       7288\n",
       "XNA        1\n",
       "Name: gender, dtype: int64"
      ]
     },
     "metadata": {},
     "output_type": "display_data"
    },
    {
     "data": {
      "text/html": [
       "<div>\n",
       "<style scoped>\n",
       "    .dataframe tbody tr th:only-of-type {\n",
       "        vertical-align: middle;\n",
       "    }\n",
       "\n",
       "    .dataframe tbody tr th {\n",
       "        vertical-align: top;\n",
       "    }\n",
       "\n",
       "    .dataframe thead th {\n",
       "        text-align: right;\n",
       "    }\n",
       "</style>\n",
       "<table border=\"1\" class=\"dataframe\">\n",
       "  <thead>\n",
       "    <tr style=\"text-align: right;\">\n",
       "      <th></th>\n",
       "      <th>children</th>\n",
       "      <th>days_employed</th>\n",
       "      <th>dob_years</th>\n",
       "      <th>education</th>\n",
       "      <th>education_id</th>\n",
       "      <th>family_status</th>\n",
       "      <th>family_status_id</th>\n",
       "      <th>gender</th>\n",
       "      <th>income_type</th>\n",
       "      <th>debt</th>\n",
       "      <th>total_income</th>\n",
       "      <th>purpose</th>\n",
       "    </tr>\n",
       "  </thead>\n",
       "  <tbody>\n",
       "    <tr>\n",
       "      <td>10701</td>\n",
       "      <td>0</td>\n",
       "      <td>2358</td>\n",
       "      <td>24</td>\n",
       "      <td>неоконченное высшее</td>\n",
       "      <td>2</td>\n",
       "      <td>гражданский брак</td>\n",
       "      <td>1</td>\n",
       "      <td>XNA</td>\n",
       "      <td>компаньон</td>\n",
       "      <td>0</td>\n",
       "      <td>203905</td>\n",
       "      <td>покупка недвижимости</td>\n",
       "    </tr>\n",
       "  </tbody>\n",
       "</table>\n",
       "</div>"
      ],
      "text/plain": [
       "       children  days_employed  dob_years            education  education_id  \\\n",
       "10701         0           2358         24  неоконченное высшее             2   \n",
       "\n",
       "          family_status  family_status_id gender income_type  debt  \\\n",
       "10701  гражданский брак                 1    XNA   компаньон     0   \n",
       "\n",
       "       total_income               purpose  \n",
       "10701        203905  покупка недвижимости  "
      ]
     },
     "metadata": {},
     "output_type": "display_data"
    }
   ],
   "source": [
    "# Проверим значения столбца 'gender' и исправим лишние\n",
    "display(df['gender'].value_counts())\n",
    "display(df[df['gender'] == 'XNA']) # индекс = 10701"
   ]
  },
  {
   "cell_type": "markdown",
   "metadata": {
    "pycharm": {
     "name": "#%% md\n"
    }
   },
   "source": [
    "Ошибочное значение - `XNA`, оно в одном экземпляре, его индекс - 10701\n",
    "\n",
    "Найдем записи с такими же параметрами (возраст, уровень образования, семейное положение, тип занятости), как у ошибочного значения:"
   ]
  },
  {
   "cell_type": "code",
   "execution_count": 32,
   "metadata": {
    "pycharm": {
     "name": "#%%\n"
    }
   },
   "outputs": [
    {
     "data": {
      "text/html": [
       "<div>\n",
       "<style scoped>\n",
       "    .dataframe tbody tr th:only-of-type {\n",
       "        vertical-align: middle;\n",
       "    }\n",
       "\n",
       "    .dataframe tbody tr th {\n",
       "        vertical-align: top;\n",
       "    }\n",
       "\n",
       "    .dataframe thead th {\n",
       "        text-align: right;\n",
       "    }\n",
       "</style>\n",
       "<table border=\"1\" class=\"dataframe\">\n",
       "  <thead>\n",
       "    <tr style=\"text-align: right;\">\n",
       "      <th></th>\n",
       "      <th>children</th>\n",
       "      <th>days_employed</th>\n",
       "      <th>dob_years</th>\n",
       "      <th>education</th>\n",
       "      <th>education_id</th>\n",
       "      <th>family_status</th>\n",
       "      <th>family_status_id</th>\n",
       "      <th>gender</th>\n",
       "      <th>income_type</th>\n",
       "      <th>debt</th>\n",
       "      <th>total_income</th>\n",
       "      <th>purpose</th>\n",
       "    </tr>\n",
       "  </thead>\n",
       "  <tbody>\n",
       "    <tr>\n",
       "      <td>5669</td>\n",
       "      <td>0</td>\n",
       "      <td>2175</td>\n",
       "      <td>24</td>\n",
       "      <td>неоконченное высшее</td>\n",
       "      <td>2</td>\n",
       "      <td>гражданский брак</td>\n",
       "      <td>1</td>\n",
       "      <td>F</td>\n",
       "      <td>компаньон</td>\n",
       "      <td>0</td>\n",
       "      <td>119537</td>\n",
       "      <td>сыграть свадьбу</td>\n",
       "    </tr>\n",
       "    <tr>\n",
       "      <td>5998</td>\n",
       "      <td>0</td>\n",
       "      <td>219</td>\n",
       "      <td>24</td>\n",
       "      <td>неоконченное высшее</td>\n",
       "      <td>2</td>\n",
       "      <td>гражданский брак</td>\n",
       "      <td>1</td>\n",
       "      <td>F</td>\n",
       "      <td>компаньон</td>\n",
       "      <td>0</td>\n",
       "      <td>250701</td>\n",
       "      <td>строительство жилой недвижимости</td>\n",
       "    </tr>\n",
       "    <tr>\n",
       "      <td>10701</td>\n",
       "      <td>0</td>\n",
       "      <td>2358</td>\n",
       "      <td>24</td>\n",
       "      <td>неоконченное высшее</td>\n",
       "      <td>2</td>\n",
       "      <td>гражданский брак</td>\n",
       "      <td>1</td>\n",
       "      <td>XNA</td>\n",
       "      <td>компаньон</td>\n",
       "      <td>0</td>\n",
       "      <td>203905</td>\n",
       "      <td>покупка недвижимости</td>\n",
       "    </tr>\n",
       "  </tbody>\n",
       "</table>\n",
       "</div>"
      ],
      "text/plain": [
       "       children  days_employed  dob_years            education  education_id  \\\n",
       "5669          0           2175         24  неоконченное высшее             2   \n",
       "5998          0            219         24  неоконченное высшее             2   \n",
       "10701         0           2358         24  неоконченное высшее             2   \n",
       "\n",
       "          family_status  family_status_id gender income_type  debt  \\\n",
       "5669   гражданский брак                 1      F   компаньон     0   \n",
       "5998   гражданский брак                 1      F   компаньон     0   \n",
       "10701  гражданский брак                 1    XNA   компаньон     0   \n",
       "\n",
       "       total_income                           purpose  \n",
       "5669         119537                   сыграть свадьбу  \n",
       "5998         250701  строительство жилой недвижимости  \n",
       "10701        203905              покупка недвижимости  "
      ]
     },
     "metadata": {},
     "output_type": "display_data"
    }
   ],
   "source": [
    "index_non_gender = 10701\n",
    "display(df[\n",
    "    (df['dob_years'] == df.loc[index_non_gender]['dob_years']) &\n",
    "    (df['education_id'] == df.loc[index_non_gender]['education_id']) &\n",
    "    (df['family_status_id'] == df.loc[index_non_gender]['family_status_id']) &\n",
    "    (df['income_type'] == df.loc[index_non_gender]['income_type'])\n",
    "          ])"
   ]
  },
  {
   "cell_type": "markdown",
   "metadata": {
    "pycharm": {
     "name": "#%% md\n"
    }
   },
   "source": [
    "Две записи с подобными параметрами как у неизвестного пола клиента имеют пол `F`.\n",
    "\n",
    "Заменим неизвестный пол `XNA` на `F`:"
   ]
  },
  {
   "cell_type": "code",
   "execution_count": 33,
   "metadata": {
    "pycharm": {
     "name": "#%%\n"
    }
   },
   "outputs": [
    {
     "data": {
      "text/plain": [
       "F    14237\n",
       "M     7288\n",
       "Name: gender, dtype: int64"
      ]
     },
     "execution_count": 33,
     "metadata": {},
     "output_type": "execute_result"
    }
   ],
   "source": [
    "df.loc[10701, 'gender'] = 'F'\n",
    "df['gender'].value_counts()"
   ]
  },
  {
   "cell_type": "markdown",
   "metadata": {
    "pycharm": {
     "name": "#%% md\n"
    }
   },
   "source": [
    "#### Столбец 'income_type'"
   ]
  },
  {
   "cell_type": "markdown",
   "metadata": {
    "pycharm": {
     "name": "#%% md\n"
    }
   },
   "source": [
    "В столбце 'income_type' содержатся категориальные данные, поэтому проверим уникальные значения методом `value_counts()`"
   ]
  },
  {
   "cell_type": "code",
   "execution_count": 34,
   "metadata": {
    "pycharm": {
     "name": "#%%\n"
    }
   },
   "outputs": [
    {
     "data": {
      "text/plain": [
       "сотрудник          11119\n",
       "компаньон           5085\n",
       "пенсионер           3856\n",
       "госслужащий         1459\n",
       "безработный            2\n",
       "предприниматель        2\n",
       "студент                1\n",
       "в декрете              1\n",
       "Name: income_type, dtype: int64"
      ]
     },
     "execution_count": 34,
     "metadata": {},
     "output_type": "execute_result"
    }
   ],
   "source": [
    "# Проверим значения столбца ''income_type'\n",
    "df['income_type'].value_counts()"
   ]
  },
  {
   "cell_type": "markdown",
   "metadata": {
    "pycharm": {
     "name": "#%% md\n"
    }
   },
   "source": [
    "Значения столбца 'income_type' не требуют правки."
   ]
  },
  {
   "cell_type": "markdown",
   "metadata": {
    "pycharm": {
     "name": "#%% md\n"
    }
   },
   "source": [
    "**Вывод**"
   ]
  },
  {
   "cell_type": "markdown",
   "metadata": {
    "pycharm": {
     "name": "#%% md\n"
    }
   },
   "source": [
    "В данных встречаются ошибки заполнения и пропуски.\n",
    "\n",
    "Неверные значения выявленные на этапе [обзора данных](#review) исправлены."
   ]
  },
  {
   "cell_type": "markdown",
   "metadata": {
    "pycharm": {
     "name": "#%% md\n"
    }
   },
   "source": [
    "### Обработка дубликатов <a id=\"duplicate\"></a>"
   ]
  },
  {
   "cell_type": "markdown",
   "metadata": {
    "pycharm": {
     "name": "#%% md\n"
    }
   },
   "source": [
    "Для поиска дубликатов используем метод duplicated(), для удаления дубликатов - drop_duplicates(). Данные методы могут определить и удалить абсолютно идентичные записи."
   ]
  },
  {
   "cell_type": "code",
   "execution_count": 35,
   "metadata": {
    "pycharm": {
     "name": "#%%\n"
    }
   },
   "outputs": [
    {
     "name": "stdout",
     "output_type": "stream",
     "text": [
      "71\n"
     ]
    },
    {
     "data": {
      "text/html": [
       "<div>\n",
       "<style scoped>\n",
       "    .dataframe tbody tr th:only-of-type {\n",
       "        vertical-align: middle;\n",
       "    }\n",
       "\n",
       "    .dataframe tbody tr th {\n",
       "        vertical-align: top;\n",
       "    }\n",
       "\n",
       "    .dataframe thead th {\n",
       "        text-align: right;\n",
       "    }\n",
       "</style>\n",
       "<table border=\"1\" class=\"dataframe\">\n",
       "  <thead>\n",
       "    <tr style=\"text-align: right;\">\n",
       "      <th></th>\n",
       "      <th>children</th>\n",
       "      <th>days_employed</th>\n",
       "      <th>dob_years</th>\n",
       "      <th>education</th>\n",
       "      <th>education_id</th>\n",
       "      <th>family_status</th>\n",
       "      <th>family_status_id</th>\n",
       "      <th>gender</th>\n",
       "      <th>income_type</th>\n",
       "      <th>debt</th>\n",
       "      <th>total_income</th>\n",
       "      <th>purpose</th>\n",
       "    </tr>\n",
       "  </thead>\n",
       "  <tbody>\n",
       "    <tr>\n",
       "      <td>2849</td>\n",
       "      <td>0</td>\n",
       "      <td>2326</td>\n",
       "      <td>41</td>\n",
       "      <td>среднее</td>\n",
       "      <td>1</td>\n",
       "      <td>женат / замужем</td>\n",
       "      <td>0</td>\n",
       "      <td>F</td>\n",
       "      <td>сотрудник</td>\n",
       "      <td>0</td>\n",
       "      <td>161380</td>\n",
       "      <td>покупка жилья для семьи</td>\n",
       "    </tr>\n",
       "    <tr>\n",
       "      <td>3290</td>\n",
       "      <td>0</td>\n",
       "      <td>0</td>\n",
       "      <td>58</td>\n",
       "      <td>среднее</td>\n",
       "      <td>1</td>\n",
       "      <td>гражданский брак</td>\n",
       "      <td>1</td>\n",
       "      <td>F</td>\n",
       "      <td>пенсионер</td>\n",
       "      <td>0</td>\n",
       "      <td>137127</td>\n",
       "      <td>сыграть свадьбу</td>\n",
       "    </tr>\n",
       "    <tr>\n",
       "      <td>4182</td>\n",
       "      <td>1</td>\n",
       "      <td>2326</td>\n",
       "      <td>34</td>\n",
       "      <td>высшее</td>\n",
       "      <td>0</td>\n",
       "      <td>гражданский брак</td>\n",
       "      <td>1</td>\n",
       "      <td>F</td>\n",
       "      <td>сотрудник</td>\n",
       "      <td>0</td>\n",
       "      <td>161380</td>\n",
       "      <td>свадьба</td>\n",
       "    </tr>\n",
       "    <tr>\n",
       "      <td>4851</td>\n",
       "      <td>0</td>\n",
       "      <td>0</td>\n",
       "      <td>60</td>\n",
       "      <td>среднее</td>\n",
       "      <td>1</td>\n",
       "      <td>гражданский брак</td>\n",
       "      <td>1</td>\n",
       "      <td>F</td>\n",
       "      <td>пенсионер</td>\n",
       "      <td>0</td>\n",
       "      <td>137127</td>\n",
       "      <td>свадьба</td>\n",
       "    </tr>\n",
       "    <tr>\n",
       "      <td>5557</td>\n",
       "      <td>0</td>\n",
       "      <td>0</td>\n",
       "      <td>58</td>\n",
       "      <td>среднее</td>\n",
       "      <td>1</td>\n",
       "      <td>гражданский брак</td>\n",
       "      <td>1</td>\n",
       "      <td>F</td>\n",
       "      <td>пенсионер</td>\n",
       "      <td>0</td>\n",
       "      <td>137127</td>\n",
       "      <td>сыграть свадьбу</td>\n",
       "    </tr>\n",
       "    <tr>\n",
       "      <td>6312</td>\n",
       "      <td>0</td>\n",
       "      <td>2326</td>\n",
       "      <td>30</td>\n",
       "      <td>среднее</td>\n",
       "      <td>1</td>\n",
       "      <td>женат / замужем</td>\n",
       "      <td>0</td>\n",
       "      <td>M</td>\n",
       "      <td>сотрудник</td>\n",
       "      <td>0</td>\n",
       "      <td>161380</td>\n",
       "      <td>строительство жилой недвижимости</td>\n",
       "    </tr>\n",
       "    <tr>\n",
       "      <td>7808</td>\n",
       "      <td>0</td>\n",
       "      <td>0</td>\n",
       "      <td>57</td>\n",
       "      <td>среднее</td>\n",
       "      <td>1</td>\n",
       "      <td>гражданский брак</td>\n",
       "      <td>1</td>\n",
       "      <td>F</td>\n",
       "      <td>пенсионер</td>\n",
       "      <td>0</td>\n",
       "      <td>137127</td>\n",
       "      <td>на проведение свадьбы</td>\n",
       "    </tr>\n",
       "    <tr>\n",
       "      <td>7921</td>\n",
       "      <td>0</td>\n",
       "      <td>0</td>\n",
       "      <td>64</td>\n",
       "      <td>высшее</td>\n",
       "      <td>0</td>\n",
       "      <td>гражданский брак</td>\n",
       "      <td>1</td>\n",
       "      <td>F</td>\n",
       "      <td>пенсионер</td>\n",
       "      <td>0</td>\n",
       "      <td>137127</td>\n",
       "      <td>на проведение свадьбы</td>\n",
       "    </tr>\n",
       "    <tr>\n",
       "      <td>7938</td>\n",
       "      <td>0</td>\n",
       "      <td>0</td>\n",
       "      <td>71</td>\n",
       "      <td>среднее</td>\n",
       "      <td>1</td>\n",
       "      <td>гражданский брак</td>\n",
       "      <td>1</td>\n",
       "      <td>F</td>\n",
       "      <td>пенсионер</td>\n",
       "      <td>0</td>\n",
       "      <td>137127</td>\n",
       "      <td>на проведение свадьбы</td>\n",
       "    </tr>\n",
       "    <tr>\n",
       "      <td>8583</td>\n",
       "      <td>0</td>\n",
       "      <td>0</td>\n",
       "      <td>58</td>\n",
       "      <td>высшее</td>\n",
       "      <td>0</td>\n",
       "      <td>Не женат / не замужем</td>\n",
       "      <td>4</td>\n",
       "      <td>F</td>\n",
       "      <td>пенсионер</td>\n",
       "      <td>0</td>\n",
       "      <td>137127</td>\n",
       "      <td>дополнительное образование</td>\n",
       "    </tr>\n",
       "  </tbody>\n",
       "</table>\n",
       "</div>"
      ],
      "text/plain": [
       "      children  days_employed  dob_years education  education_id  \\\n",
       "2849         0           2326         41   среднее             1   \n",
       "3290         0              0         58   среднее             1   \n",
       "4182         1           2326         34    высшее             0   \n",
       "4851         0              0         60   среднее             1   \n",
       "5557         0              0         58   среднее             1   \n",
       "6312         0           2326         30   среднее             1   \n",
       "7808         0              0         57   среднее             1   \n",
       "7921         0              0         64    высшее             0   \n",
       "7938         0              0         71   среднее             1   \n",
       "8583         0              0         58    высшее             0   \n",
       "\n",
       "              family_status  family_status_id gender income_type  debt  \\\n",
       "2849        женат / замужем                 0      F   сотрудник     0   \n",
       "3290       гражданский брак                 1      F   пенсионер     0   \n",
       "4182       гражданский брак                 1      F   сотрудник     0   \n",
       "4851       гражданский брак                 1      F   пенсионер     0   \n",
       "5557       гражданский брак                 1      F   пенсионер     0   \n",
       "6312        женат / замужем                 0      M   сотрудник     0   \n",
       "7808       гражданский брак                 1      F   пенсионер     0   \n",
       "7921       гражданский брак                 1      F   пенсионер     0   \n",
       "7938       гражданский брак                 1      F   пенсионер     0   \n",
       "8583  Не женат / не замужем                 4      F   пенсионер     0   \n",
       "\n",
       "      total_income                           purpose  \n",
       "2849        161380           покупка жилья для семьи  \n",
       "3290        137127                   сыграть свадьбу  \n",
       "4182        161380                           свадьба  \n",
       "4851        137127                           свадьба  \n",
       "5557        137127                   сыграть свадьбу  \n",
       "6312        161380  строительство жилой недвижимости  \n",
       "7808        137127             на проведение свадьбы  \n",
       "7921        137127             на проведение свадьбы  \n",
       "7938        137127             на проведение свадьбы  \n",
       "8583        137127        дополнительное образование  "
      ]
     },
     "execution_count": 35,
     "metadata": {},
     "output_type": "execute_result"
    }
   ],
   "source": [
    "# Определим количество явных дубликатов и удалим явные дубликаты:\n",
    "print(df.duplicated().sum())\n",
    "df[df.duplicated()].head(10)\n"
   ]
  },
  {
   "cell_type": "code",
   "execution_count": 36,
   "metadata": {
    "pycharm": {
     "name": "#%%\n"
    }
   },
   "outputs": [
    {
     "name": "stdout",
     "output_type": "stream",
     "text": [
      "0\n"
     ]
    }
   ],
   "source": [
    "# Удалим явные дубликаты:\n",
    "df = df.drop_duplicates().reset_index(drop=True)\n",
    "# Проверим на наличие дубликатов:\n",
    "print(df.duplicated().sum())"
   ]
  },
  {
   "cell_type": "markdown",
   "metadata": {
    "pycharm": {
     "name": "#%% md\n"
    }
   },
   "source": [
    "**Вывод**"
   ]
  },
  {
   "cell_type": "markdown",
   "metadata": {
    "pycharm": {
     "name": "#%% md\n"
    }
   },
   "source": [
    "Такое большое число дубликатов возникло в результате пропусков значений для стажа и ежемесячного дохода.\n",
    "\n",
    "Возможно это не дубликаты, а совпадения. Но в текущем исследовании примем эти записи как дубликаты, очистим их и в дальнейшем заполним пропуски по уникальным записям."
   ]
  },
  {
   "cell_type": "markdown",
   "metadata": {
    "pycharm": {
     "name": "#%% md\n"
    }
   },
   "source": [
    "### Лемматизация <a id=\"lemmas\"></a>"
   ]
  },
  {
   "cell_type": "markdown",
   "metadata": {
    "pycharm": {
     "name": "#%% md\n"
    }
   },
   "source": [
    "В данных о целях кредита повторяются однотипные цели, сформулированные разными фразами. Это может быть вследствие нестрого значения для данного поля при заполнении данных выбора (например, не создан строгий выпалающий список). Скорее всего операто заполняет эти данные в произвольной форме.\n",
    "\n",
    "Вследствие повторения отдельных ключевых слов в разных целях кредитования можно выделить несколько основных типов целей кредита.\n",
    "\n",
    "Для этого можно воспользоваться готовой функцией лемматизации - приведение слова к его словарной форме (лемме).\n",
    "\n",
    "Подсчитав количество лемм можно определить частоту использования ключевых слов и тем самым выделить основные типы целей кредита."
   ]
  },
  {
   "cell_type": "code",
   "execution_count": 37,
   "metadata": {
    "pycharm": {
     "name": "#%%\n"
    }
   },
   "outputs": [
    {
     "name": "stdout",
     "output_type": "stream",
     "text": [
      "Counter({' ': 96, 'покупка': 10, 'недвижимость': 10, 'автомобиль': 9, 'образование': 9, 'жилье': 7, 'с': 5, 'операция': 4, 'на': 4, 'свой': 4, 'свадьба': 3, 'строительство': 3, 'получение': 3, 'высокий': 3, 'дополнительный': 2, 'для': 2, 'коммерческий': 2, 'жилой': 2, 'подержать': 2, 'заниматься': 2, 'сделка': 2, 'приобретение': 1, 'сыграть': 1, 'проведение': 1, 'семья': 1, 'собственный': 1, 'со': 1, 'профильный': 1, 'сдача': 1, 'ремонт': 1, '\\n': 1})\n"
     ]
    }
   ],
   "source": [
    "try:\n",
    "    m = Mystem()\n",
    "except:\n",
    "    print('Ошибка создания экземпляра Mystem() (проверьте подключение модуля pymystem3)')\n",
    "purposes = df['purpose'].unique()\n",
    "lemmas = m.lemmatize(' '.join(purposes))\n",
    "#print(purposes)\n",
    "print(Counter(lemmas))"
   ]
  },
  {
   "cell_type": "markdown",
   "metadata": {
    "pycharm": {
     "name": "#%% md\n"
    }
   },
   "source": [
    "**Вывод**"
   ]
  },
  {
   "cell_type": "markdown",
   "metadata": {
    "pycharm": {
     "name": "#%% md\n"
    }
   },
   "source": [
    "Наиболее частые слова в целях кредита:\n",
    "- покупка\n",
    "- недвижимость\n",
    "- автомобиль\n",
    "- образование\n",
    "- жилье\n",
    "- опреция\n",
    "- свадьба\n",
    "(предлоги, местоимения и т.п. не расспатриваем)\n",
    "\n",
    "Слова \"покупка\" и \"операция\" - общесвязующие и не являются отдельным типом, могут использоваться в описании разных типов целей.\n",
    "\n",
    "Для категоризации данных оставим 5 ключевых слов:\n",
    "- недвижимость\n",
    "- автомобиль\n",
    "- образование\n",
    "- жилье\n",
    "- свадьба\n",
    "\n",
    "Несмотря на схожесть слов \"недвижимость\" и \"жилье\", они все же могут обозначать разные цели. Поэтому оставим оба слова как самостоятельный тип целей кредита. Для цели, содержащей леммы \"недвижимсоть\" и \"жилой\", переназначим ее как \"жилье\"."
   ]
  },
  {
   "cell_type": "markdown",
   "metadata": {
    "pycharm": {
     "name": "#%% md\n"
    }
   },
   "source": [
    "### Категоризация данных <a id=\"categories\"></a>"
   ]
  },
  {
   "cell_type": "markdown",
   "metadata": {
    "pycharm": {
     "name": "#%% md\n"
    }
   },
   "source": [
    "#### Добавление категорий"
   ]
  },
  {
   "cell_type": "markdown",
   "metadata": {
    "pycharm": {
     "name": "#%% md\n"
    }
   },
   "source": [
    "Выделим 3 уровня категорий из уровня дохода. Используем для этого равные доли процентилей.\n",
    "\n",
    "Выделим 5 уровней категорий целей кредита. Используем для этого найденные леммы."
   ]
  },
  {
   "cell_type": "code",
   "execution_count": 38,
   "metadata": {
    "pycharm": {
     "name": "#%%\n"
    },
    "scrolled": true
   },
   "outputs": [
    {
     "data": {
      "text/plain": [
       "средний    7294\n",
       "низкий     7080\n",
       "высокий    7080\n",
       "Name: total_income_category, dtype: int64"
      ]
     },
     "execution_count": 38,
     "metadata": {},
     "output_type": "execute_result"
    }
   ],
   "source": [
    "# ------------------------------------------------------------\n",
    "# Добавим категории уровня дохода\n",
    "# ФУНКЦИЯ присвоения категорий по уровню дохода:\n",
    "level1 = df['total_income'].quantile(0.33)\n",
    "level2 = df['total_income'].quantile(0.67)\n",
    "def to_category_total_income(value):\n",
    "    if value >= level2:\n",
    "        return 'высокий'\n",
    "    elif value <= level1:\n",
    "        return 'низкий'\n",
    "    else:\n",
    "        return 'средний'\n",
    "\n",
    "# Добавим категории целей кредита\n",
    "df['total_income_category'] = df['total_income'].apply(to_category_total_income)\n",
    "\n",
    "# Проверим все ли цели кредита получили категорию\n",
    "df['total_income_category'].value_counts()"
   ]
  },
  {
   "cell_type": "code",
   "execution_count": 39,
   "metadata": {
    "pycharm": {
     "name": "#%%\n"
    },
    "scrolled": true
   },
   "outputs": [
    {
     "data": {
      "text/plain": [
       "жилье           5690\n",
       "недвижимость    5121\n",
       "автомобиль      4306\n",
       "образование     4013\n",
       "свадьба         2324\n",
       "Name: purpose_category, dtype: int64"
      ]
     },
     "execution_count": 39,
     "metadata": {},
     "output_type": "execute_result"
    }
   ],
   "source": [
    "# ------------------------------------------------------------\n",
    "# Добавим категории целей кредита\n",
    "# Выделим основные категории целей кредита из полученных лемм:\n",
    "categories_purpose = ['недвижимость', 'автомобиль', 'образование', 'жилье', 'свадьба', 'жилой']\n",
    "\n",
    "# ФУНКЦИЯ присвоения категорий по уровню дохода:\n",
    "def to_category_purpose(value):\n",
    "    try:\n",
    "        lemmas = m.lemmatize(value)\n",
    "    except:\n",
    "        print('Ошибка лемматизации. (Перемнная m должна быть экземпляром класса Mystem() !)')\n",
    "        return ''\n",
    "    temp = []\n",
    "    for category in categories_purpose:\n",
    "        if category in lemmas:\n",
    "            temp.append(category)\n",
    "    return '/'.join(temp)\n",
    "\n",
    "# Добавим категории целей кредита\n",
    "df['purpose_category'] = df['purpose'].apply(to_category_purpose)\n",
    "\n",
    "# Переназначим \"недвижимость/жилой\" в \"жилье\" для выделения отдельно \"недвижимости\" и \"жилой недвижимости\" (разные категории):\n",
    "df.loc[df['purpose_category'] == 'недвижимость/жилой', 'purpose_category'] = 'жилье'\n",
    "\n",
    "# Проверим все ли цели кредита получили категорию\n",
    "df['purpose_category'].value_counts()"
   ]
  },
  {
   "cell_type": "markdown",
   "metadata": {
    "pycharm": {
     "name": "#%% md\n"
    }
   },
   "source": [
    "#### СЛОВАРИ КАТЕГОРИЙ:"
   ]
  },
  {
   "cell_type": "markdown",
   "metadata": {
    "pycharm": {
     "name": "#%% md\n"
    }
   },
   "source": [
    "Сотавим наглядное представление всех категрий данных.\n",
    "\n",
    "В список словарей возьмем категориальные данные, т.е. переменные из *ограниченного набора*, описывающие категории с *отличительными признаками* и выделяющие *большие группы* наблюдений."
   ]
  },
  {
   "cell_type": "code",
   "execution_count": 40,
   "metadata": {
    "pycharm": {
     "name": "#%%\n"
    },
    "scrolled": true
   },
   "outputs": [
    {
     "name": "stdout",
     "output_type": "stream",
     "text": [
      "------------------------------------------------------------\n",
      "Категории по КОЛИЧЕСТВУ ДЕТЕЙ:\n"
     ]
    },
    {
     "data": {
      "text/plain": [
       "0    1\n",
       "1    0\n",
       "2    3\n",
       "3    2\n",
       "4    4\n",
       "5    5\n",
       "Name: children, dtype: int64"
      ]
     },
     "metadata": {},
     "output_type": "display_data"
    },
    {
     "name": "stdout",
     "output_type": "stream",
     "text": [
      "------------------------------------------------------------\n",
      "Категории УРОВНЯ ОБРАЗОВАНИЯ:\n"
     ]
    },
    {
     "data": {
      "text/html": [
       "<div>\n",
       "<style scoped>\n",
       "    .dataframe tbody tr th:only-of-type {\n",
       "        vertical-align: middle;\n",
       "    }\n",
       "\n",
       "    .dataframe tbody tr th {\n",
       "        vertical-align: top;\n",
       "    }\n",
       "\n",
       "    .dataframe thead th {\n",
       "        text-align: right;\n",
       "    }\n",
       "</style>\n",
       "<table border=\"1\" class=\"dataframe\">\n",
       "  <thead>\n",
       "    <tr style=\"text-align: right;\">\n",
       "      <th></th>\n",
       "      <th>education</th>\n",
       "      <th>education_id</th>\n",
       "    </tr>\n",
       "  </thead>\n",
       "  <tbody>\n",
       "    <tr>\n",
       "      <td>0</td>\n",
       "      <td>высшее</td>\n",
       "      <td>0</td>\n",
       "    </tr>\n",
       "    <tr>\n",
       "      <td>1</td>\n",
       "      <td>среднее</td>\n",
       "      <td>1</td>\n",
       "    </tr>\n",
       "    <tr>\n",
       "      <td>2</td>\n",
       "      <td>неоконченное высшее</td>\n",
       "      <td>2</td>\n",
       "    </tr>\n",
       "    <tr>\n",
       "      <td>3</td>\n",
       "      <td>начальное</td>\n",
       "      <td>3</td>\n",
       "    </tr>\n",
       "    <tr>\n",
       "      <td>4</td>\n",
       "      <td>ученая степень</td>\n",
       "      <td>4</td>\n",
       "    </tr>\n",
       "  </tbody>\n",
       "</table>\n",
       "</div>"
      ],
      "text/plain": [
       "             education  education_id\n",
       "0               высшее             0\n",
       "1              среднее             1\n",
       "2  неоконченное высшее             2\n",
       "3            начальное             3\n",
       "4       ученая степень             4"
      ]
     },
     "metadata": {},
     "output_type": "display_data"
    },
    {
     "name": "stdout",
     "output_type": "stream",
     "text": [
      "------------------------------------------------------------\n",
      "Категории СЕМЕЙНОГ ОСТАТУСА:\n"
     ]
    },
    {
     "data": {
      "text/html": [
       "<div>\n",
       "<style scoped>\n",
       "    .dataframe tbody tr th:only-of-type {\n",
       "        vertical-align: middle;\n",
       "    }\n",
       "\n",
       "    .dataframe tbody tr th {\n",
       "        vertical-align: top;\n",
       "    }\n",
       "\n",
       "    .dataframe thead th {\n",
       "        text-align: right;\n",
       "    }\n",
       "</style>\n",
       "<table border=\"1\" class=\"dataframe\">\n",
       "  <thead>\n",
       "    <tr style=\"text-align: right;\">\n",
       "      <th></th>\n",
       "      <th>family_status</th>\n",
       "      <th>family_status_id</th>\n",
       "    </tr>\n",
       "  </thead>\n",
       "  <tbody>\n",
       "    <tr>\n",
       "      <td>0</td>\n",
       "      <td>женат / замужем</td>\n",
       "      <td>0</td>\n",
       "    </tr>\n",
       "    <tr>\n",
       "      <td>1</td>\n",
       "      <td>гражданский брак</td>\n",
       "      <td>1</td>\n",
       "    </tr>\n",
       "    <tr>\n",
       "      <td>2</td>\n",
       "      <td>вдовец / вдова</td>\n",
       "      <td>2</td>\n",
       "    </tr>\n",
       "    <tr>\n",
       "      <td>3</td>\n",
       "      <td>в разводе</td>\n",
       "      <td>3</td>\n",
       "    </tr>\n",
       "    <tr>\n",
       "      <td>4</td>\n",
       "      <td>Не женат / не замужем</td>\n",
       "      <td>4</td>\n",
       "    </tr>\n",
       "  </tbody>\n",
       "</table>\n",
       "</div>"
      ],
      "text/plain": [
       "           family_status  family_status_id\n",
       "0        женат / замужем                 0\n",
       "1       гражданский брак                 1\n",
       "2         вдовец / вдова                 2\n",
       "3              в разводе                 3\n",
       "4  Не женат / не замужем                 4"
      ]
     },
     "metadata": {},
     "output_type": "display_data"
    },
    {
     "name": "stdout",
     "output_type": "stream",
     "text": [
      "------------------------------------------------------------\n",
      "Категории по ТИПУ ЗАНЯТОСТИ:\n"
     ]
    },
    {
     "data": {
      "text/plain": [
       "0          сотрудник\n",
       "1          пенсионер\n",
       "2          компаньон\n",
       "3        госслужащий\n",
       "4        безработный\n",
       "5    предприниматель\n",
       "6            студент\n",
       "7          в декрете\n",
       "Name: income_type, dtype: object"
      ]
     },
     "metadata": {},
     "output_type": "display_data"
    },
    {
     "name": "stdout",
     "output_type": "stream",
     "text": [
      "------------------------------------------------------------\n",
      "Категории по ЕЖЕМЕСЧЯЧНОМУ ДОХОДУ:\n"
     ]
    },
    {
     "data": {
      "text/html": [
       "<div>\n",
       "<style scoped>\n",
       "    .dataframe tbody tr th:only-of-type {\n",
       "        vertical-align: middle;\n",
       "    }\n",
       "\n",
       "    .dataframe tbody tr th {\n",
       "        vertical-align: top;\n",
       "    }\n",
       "\n",
       "    .dataframe thead tr th {\n",
       "        text-align: left;\n",
       "    }\n",
       "\n",
       "    .dataframe thead tr:last-of-type th {\n",
       "        text-align: right;\n",
       "    }\n",
       "</style>\n",
       "<table border=\"1\" class=\"dataframe\">\n",
       "  <thead>\n",
       "    <tr>\n",
       "      <th></th>\n",
       "      <th colspan=\"2\" halign=\"left\">total_income</th>\n",
       "    </tr>\n",
       "    <tr>\n",
       "      <th></th>\n",
       "      <th>min</th>\n",
       "      <th>max</th>\n",
       "    </tr>\n",
       "    <tr>\n",
       "      <th>total_income_category</th>\n",
       "      <th></th>\n",
       "      <th></th>\n",
       "    </tr>\n",
       "  </thead>\n",
       "  <tbody>\n",
       "    <tr>\n",
       "      <td>низкий</td>\n",
       "      <td>20667</td>\n",
       "      <td>122162</td>\n",
       "    </tr>\n",
       "    <tr>\n",
       "      <td>средний</td>\n",
       "      <td>122164</td>\n",
       "      <td>177855</td>\n",
       "    </tr>\n",
       "    <tr>\n",
       "      <td>высокий</td>\n",
       "      <td>177868</td>\n",
       "      <td>2265604</td>\n",
       "    </tr>\n",
       "  </tbody>\n",
       "</table>\n",
       "</div>"
      ],
      "text/plain": [
       "                      total_income         \n",
       "                               min      max\n",
       "total_income_category                      \n",
       "низкий                       20667   122162\n",
       "средний                     122164   177855\n",
       "высокий                     177868  2265604"
      ]
     },
     "metadata": {},
     "output_type": "display_data"
    },
    {
     "name": "stdout",
     "output_type": "stream",
     "text": [
      "------------------------------------------------------------\n",
      "Категории ЦЕЛЕЙ КРЕДИТА:\n"
     ]
    },
    {
     "data": {
      "text/plain": [
       "0           жилье\n",
       "1      автомобиль\n",
       "2     образование\n",
       "3         свадьба\n",
       "4    недвижимость\n",
       "Name: purpose_category, dtype: object"
      ]
     },
     "metadata": {},
     "output_type": "display_data"
    }
   ],
   "source": [
    "horizon = 60\n",
    "# Выделим категории по количеству детей\n",
    "print('-'*horizon)\n",
    "print('Категории по КОЛИЧЕСТВУ ДЕТЕЙ:')\n",
    "display(df['children'].drop_duplicates().reset_index(drop=True))\n",
    "\n",
    "# Выделим категории уровня образования в отдельный словарь\n",
    "print('-'*horizon)\n",
    "print('Категории УРОВНЯ ОБРАЗОВАНИЯ:')\n",
    "education_log = df[['education', 'education_id']].drop_duplicates().reset_index(drop=True)\n",
    "display(education_log)\n",
    "\n",
    "# Выделим категории семейног остатуса в отдельный словарь\n",
    "print('-'*horizon)\n",
    "print('Категории СЕМЕЙНОГ ОСТАТУСА:')\n",
    "family_status_log = df[['family_status', 'family_status_id']].drop_duplicates().reset_index(drop=True)\n",
    "display(family_status_log)\n",
    "\n",
    "# Выделим категории типа занятости\n",
    "print('-'*horizon)\n",
    "print('Категории по ТИПУ ЗАНЯТОСТИ:')\n",
    "display(df['income_type'].drop_duplicates().reset_index(drop=True))\n",
    "\n",
    "# Выделим категории по ежемесячному доходу\n",
    "print('-'*horizon)\n",
    "print('Категории по ЕЖЕМЕСЧЯЧНОМУ ДОХОДУ:')\n",
    "total_income_log = df.groupby('total_income_category').agg({'total_income':['min','max']}).sort_values(by=('total_income','min'))\n",
    "display(total_income_log)\n",
    "\n",
    "# Выделим категории целей кредита\n",
    "print('-'*horizon)\n",
    "print('Категории ЦЕЛЕЙ КРЕДИТА:')\n",
    "display(df['purpose_category'].drop_duplicates().reset_index(drop=True))"
   ]
  },
  {
   "cell_type": "markdown",
   "metadata": {
    "pycharm": {
     "name": "#%% md\n"
    }
   },
   "source": [
    "**Вывод**"
   ]
  },
  {
   "cell_type": "markdown",
   "metadata": {
    "pycharm": {
     "name": "#%% md\n"
    }
   },
   "source": [
    "В данных можно выделить несколько категорий.\n",
    "\n",
    "По персональной информации:\n",
    "- 6 категрий по количеству детей\n",
    "- 5 категорий семейног отсатуса\n",
    "\n",
    "По профессиональной информации:\n",
    "- 5 категрий уровня образования\n",
    "- 8 категорий типа занятости\n",
    "- 3 категории дохода\n",
    "\n",
    "По информации о кредите:\n",
    "- 5 категорий целей кредитования\n"
   ]
  },
  {
   "cell_type": "markdown",
   "metadata": {
    "pycharm": {
     "name": "#%% md\n"
    }
   },
   "source": [
    "## Шаг 3. Ответы на вопросы"
   ]
  },
  {
   "cell_type": "markdown",
   "metadata": {
    "pycharm": {
     "name": "#%% md\n"
    }
   },
   "source": [
    "Расситаем средний уровень задолженности для всех наблюдений для сравнительной характеристики:"
   ]
  },
  {
   "cell_type": "code",
   "execution_count": 41,
   "metadata": {
    "pycharm": {
     "name": "#%%\n"
    }
   },
   "outputs": [
    {
     "name": "stdout",
     "output_type": "stream",
     "text": [
      "Общий средний уровень задолженности: 0.0812 (8.12%)\n"
     ]
    }
   ],
   "source": [
    "print('Общий средний уровень задолженности: {0:.4f} ({0:.2%})'.format(df['debt'].mean()))"
   ]
  },
  {
   "cell_type": "markdown",
   "metadata": {
    "pycharm": {
     "name": "#%% md\n"
    }
   },
   "source": [
    "***"
   ]
  },
  {
   "cell_type": "markdown",
   "metadata": {
    "pycharm": {
     "name": "#%% md\n"
    }
   },
   "source": [
    "- __Зависимость между наличием детей и возвратом кредита в срок__"
   ]
  },
  {
   "cell_type": "markdown",
   "metadata": {
    "pycharm": {
     "name": "#%% md\n"
    }
   },
   "source": [
    "Построим таблицу и график доли задолженности по всем категориям количества детей."
   ]
  },
  {
   "cell_type": "code",
   "execution_count": 42,
   "metadata": {
    "pycharm": {
     "name": "#%%\n"
    }
   },
   "outputs": [
    {
     "data": {
      "text/html": [
       "<div>\n",
       "<style scoped>\n",
       "    .dataframe tbody tr th:only-of-type {\n",
       "        vertical-align: middle;\n",
       "    }\n",
       "\n",
       "    .dataframe tbody tr th {\n",
       "        vertical-align: top;\n",
       "    }\n",
       "\n",
       "    .dataframe thead tr th {\n",
       "        text-align: left;\n",
       "    }\n",
       "\n",
       "    .dataframe thead tr:last-of-type th {\n",
       "        text-align: right;\n",
       "    }\n",
       "</style>\n",
       "<table border=\"1\" class=\"dataframe\">\n",
       "  <thead>\n",
       "    <tr>\n",
       "      <th></th>\n",
       "      <th colspan=\"2\" halign=\"left\">debt</th>\n",
       "    </tr>\n",
       "    <tr>\n",
       "      <th></th>\n",
       "      <th>mean</th>\n",
       "      <th>count</th>\n",
       "    </tr>\n",
       "    <tr>\n",
       "      <th>children</th>\n",
       "      <th></th>\n",
       "      <th></th>\n",
       "    </tr>\n",
       "  </thead>\n",
       "  <tbody>\n",
       "    <tr>\n",
       "      <td>0</td>\n",
       "      <td>0.075438</td>\n",
       "      <td>14091</td>\n",
       "    </tr>\n",
       "    <tr>\n",
       "      <td>1</td>\n",
       "      <td>0.091658</td>\n",
       "      <td>4855</td>\n",
       "    </tr>\n",
       "    <tr>\n",
       "      <td>2</td>\n",
       "      <td>0.094925</td>\n",
       "      <td>2128</td>\n",
       "    </tr>\n",
       "    <tr>\n",
       "      <td>3</td>\n",
       "      <td>0.081818</td>\n",
       "      <td>330</td>\n",
       "    </tr>\n",
       "    <tr>\n",
       "      <td>4</td>\n",
       "      <td>0.097561</td>\n",
       "      <td>41</td>\n",
       "    </tr>\n",
       "    <tr>\n",
       "      <td>5</td>\n",
       "      <td>0.000000</td>\n",
       "      <td>9</td>\n",
       "    </tr>\n",
       "  </tbody>\n",
       "</table>\n",
       "</div>"
      ],
      "text/plain": [
       "              debt       \n",
       "              mean  count\n",
       "children                 \n",
       "0         0.075438  14091\n",
       "1         0.091658   4855\n",
       "2         0.094925   2128\n",
       "3         0.081818    330\n",
       "4         0.097561     41\n",
       "5         0.000000      9"
      ]
     },
     "metadata": {},
     "output_type": "display_data"
    },
    {
     "data": {
      "text/plain": [
       "<matplotlib.axes._subplots.AxesSubplot at 0x7f7931fd8cd0>"
      ]
     },
     "execution_count": 42,
     "metadata": {},
     "output_type": "execute_result"
    },
    {
     "data": {
      "image/png": "[encoded data removed]",
      "text/plain": [
       "<Figure size 432x288 with 1 Axes>"
      ]
     },
     "metadata": {
      "needs_background": "light"
     },
     "output_type": "display_data"
    }
   ],
   "source": [
    "debt_vs_children = df.groupby('children').agg({'debt':['mean','count']})\n",
    "display(debt_vs_children)\n",
    "sb.barplot(x=debt_vs_children[('debt', 'mean')], y=debt_vs_children.index, orient='h')"
   ]
  },
  {
   "cell_type": "markdown",
   "metadata": {
    "pycharm": {
     "name": "#%% md\n"
    }
   },
   "source": [
    "**Вывод**"
   ]
  },
  {
   "cell_type": "markdown",
   "metadata": {
    "pycharm": {
     "name": "#%% md\n"
    }
   },
   "source": [
    "Среди наибольшего числа наблюдений (от 0 до 2 детей число наблюдений - 21074) наблюдается зависимость роста задолженности с увеличением количества детей.\n",
    "\n",
    "По случаю с 5-ю детьми недостаточно наблюдений (судя по среднему уровню задолженности с 12-го наблюдения должна появится задолженность)\n",
    "\n",
    "Случай с 3-мя детьми выбивается из данной зависимости, но соовтетсвут среднему уровню задолженности.\n",
    "\n",
    "***"
   ]
  },
  {
   "cell_type": "markdown",
   "metadata": {
    "pycharm": {
     "name": "#%% md\n"
    }
   },
   "source": [
    "- __Зависимость между семейным положением и возвратом кредита в срок__"
   ]
  },
  {
   "cell_type": "markdown",
   "metadata": {
    "pycharm": {
     "name": "#%% md\n"
    }
   },
   "source": [
    "Построим таблицу и график доли задолженности по всем категориям семейного статуса."
   ]
  },
  {
   "cell_type": "code",
   "execution_count": 43,
   "metadata": {
    "pycharm": {
     "name": "#%%\n"
    }
   },
   "outputs": [
    {
     "data": {
      "text/html": [
       "<div>\n",
       "<style scoped>\n",
       "    .dataframe tbody tr th:only-of-type {\n",
       "        vertical-align: middle;\n",
       "    }\n",
       "\n",
       "    .dataframe tbody tr th {\n",
       "        vertical-align: top;\n",
       "    }\n",
       "\n",
       "    .dataframe thead tr th {\n",
       "        text-align: left;\n",
       "    }\n",
       "\n",
       "    .dataframe thead tr:last-of-type th {\n",
       "        text-align: right;\n",
       "    }\n",
       "</style>\n",
       "<table border=\"1\" class=\"dataframe\">\n",
       "  <thead>\n",
       "    <tr>\n",
       "      <th></th>\n",
       "      <th colspan=\"2\" halign=\"left\">debt</th>\n",
       "    </tr>\n",
       "    <tr>\n",
       "      <th></th>\n",
       "      <th>mean</th>\n",
       "      <th>count</th>\n",
       "    </tr>\n",
       "    <tr>\n",
       "      <th>family_status</th>\n",
       "      <th></th>\n",
       "      <th></th>\n",
       "    </tr>\n",
       "  </thead>\n",
       "  <tbody>\n",
       "    <tr>\n",
       "      <td>вдовец / вдова</td>\n",
       "      <td>0.065693</td>\n",
       "      <td>959</td>\n",
       "    </tr>\n",
       "    <tr>\n",
       "      <td>в разводе</td>\n",
       "      <td>0.071130</td>\n",
       "      <td>1195</td>\n",
       "    </tr>\n",
       "    <tr>\n",
       "      <td>женат / замужем</td>\n",
       "      <td>0.075452</td>\n",
       "      <td>12339</td>\n",
       "    </tr>\n",
       "    <tr>\n",
       "      <td>гражданский брак</td>\n",
       "      <td>0.093471</td>\n",
       "      <td>4151</td>\n",
       "    </tr>\n",
       "    <tr>\n",
       "      <td>Не женат / не замужем</td>\n",
       "      <td>0.097509</td>\n",
       "      <td>2810</td>\n",
       "    </tr>\n",
       "  </tbody>\n",
       "</table>\n",
       "</div>"
      ],
      "text/plain": [
       "                           debt       \n",
       "                           mean  count\n",
       "family_status                         \n",
       "вдовец / вдова         0.065693    959\n",
       "в разводе              0.071130   1195\n",
       "женат / замужем        0.075452  12339\n",
       "гражданский брак       0.093471   4151\n",
       "Не женат / не замужем  0.097509   2810"
      ]
     },
     "metadata": {},
     "output_type": "display_data"
    },
    {
     "data": {
      "text/plain": [
       "<matplotlib.axes._subplots.AxesSubplot at 0x7f79b4dc9850>"
      ]
     },
     "execution_count": 43,
     "metadata": {},
     "output_type": "execute_result"
    },
    {
     "data": {
      "image/png": "[encoded data removed]",
      "text/plain": [
       "<Figure size 432x288 with 1 Axes>"
      ]
     },
     "metadata": {
      "needs_background": "light"
     },
     "output_type": "display_data"
    }
   ],
   "source": [
    "debt_vs_family_status = df.groupby('family_status').agg({'debt':['mean','count']}).sort_values(('debt', 'mean'))\n",
    "display(debt_vs_family_status)\n",
    "sb.barplot(x=debt_vs_family_status[('debt', 'mean')], y=debt_vs_family_status.index)"
   ]
  },
  {
   "cell_type": "markdown",
   "metadata": {
    "pycharm": {
     "name": "#%% md\n"
    }
   },
   "source": [
    "**Вывод**"
   ]
  },
  {
   "cell_type": "markdown",
   "metadata": {
    "pycharm": {
     "name": "#%% md\n"
    }
   },
   "source": [
    "Между семейным положением и сроком возвврата кредита в срок имеется зависимость.\n",
    "\n",
    "У свободных людей и состоящих в \"свободных\" взаимоотношениях (гражданский брак) вероятность задолженности выше.\n",
    "\n",
    "А у одиноких людей после прекратившихся взаимоотношений вероятность задолженности ниже.\n",
    "\n",
    "У людей в официальном браке уровень задолженности ниже общего среднего.\n",
    "\n",
    "Можно сделать вывод, что люди, прошедшие через официальный брак, наиболее ответственны.\n",
    "\n",
    "***"
   ]
  },
  {
   "cell_type": "markdown",
   "metadata": {
    "pycharm": {
     "name": "#%% md\n"
    }
   },
   "source": [
    "- __Зависимость между уровнем дохода и возвратом кредита в срок__"
   ]
  },
  {
   "cell_type": "markdown",
   "metadata": {
    "pycharm": {
     "name": "#%% md\n"
    }
   },
   "source": [
    "Построим таблицу и график доли задолженности по всем категориям дохода."
   ]
  },
  {
   "cell_type": "code",
   "execution_count": 44,
   "metadata": {
    "pycharm": {
     "name": "#%%\n"
    }
   },
   "outputs": [
    {
     "data": {
      "text/html": [
       "<div>\n",
       "<style scoped>\n",
       "    .dataframe tbody tr th:only-of-type {\n",
       "        vertical-align: middle;\n",
       "    }\n",
       "\n",
       "    .dataframe tbody tr th {\n",
       "        vertical-align: top;\n",
       "    }\n",
       "\n",
       "    .dataframe thead tr th {\n",
       "        text-align: left;\n",
       "    }\n",
       "\n",
       "    .dataframe thead tr:last-of-type th {\n",
       "        text-align: right;\n",
       "    }\n",
       "</style>\n",
       "<table border=\"1\" class=\"dataframe\">\n",
       "  <thead>\n",
       "    <tr>\n",
       "      <th></th>\n",
       "      <th colspan=\"2\" halign=\"left\">debt</th>\n",
       "    </tr>\n",
       "    <tr>\n",
       "      <th></th>\n",
       "      <th>mean</th>\n",
       "      <th>count</th>\n",
       "    </tr>\n",
       "    <tr>\n",
       "      <th>total_income_category</th>\n",
       "      <th></th>\n",
       "      <th></th>\n",
       "    </tr>\n",
       "  </thead>\n",
       "  <tbody>\n",
       "    <tr>\n",
       "      <td>высокий</td>\n",
       "      <td>0.073588</td>\n",
       "      <td>7080</td>\n",
       "    </tr>\n",
       "    <tr>\n",
       "      <td>низкий</td>\n",
       "      <td>0.081638</td>\n",
       "      <td>7080</td>\n",
       "    </tr>\n",
       "    <tr>\n",
       "      <td>средний</td>\n",
       "      <td>0.088018</td>\n",
       "      <td>7294</td>\n",
       "    </tr>\n",
       "  </tbody>\n",
       "</table>\n",
       "</div>"
      ],
      "text/plain": [
       "                           debt      \n",
       "                           mean count\n",
       "total_income_category                \n",
       "высокий                0.073588  7080\n",
       "низкий                 0.081638  7080\n",
       "средний                0.088018  7294"
      ]
     },
     "metadata": {},
     "output_type": "display_data"
    },
    {
     "data": {
      "text/plain": [
       "<matplotlib.axes._subplots.AxesSubplot at 0x7f79b4dadc10>"
      ]
     },
     "execution_count": 44,
     "metadata": {},
     "output_type": "execute_result"
    },
    {
     "data": {
      "image/png": "[encoded data removed]",
      "text/plain": [
       "<Figure size 432x288 with 1 Axes>"
      ]
     },
     "metadata": {
      "needs_background": "light"
     },
     "output_type": "display_data"
    }
   ],
   "source": [
    "debt_vs_total_income = df.groupby('total_income_category').agg({'debt':['mean','count']}).sort_values(('debt', 'mean'))\n",
    "display(debt_vs_total_income)\n",
    "sb.barplot(x=debt_vs_total_income[('debt', 'mean')], y=debt_vs_total_income.index)"
   ]
  },
  {
   "cell_type": "markdown",
   "metadata": {
    "pycharm": {
     "name": "#%% md\n"
    }
   },
   "source": [
    "**Вывод**"
   ]
  },
  {
   "cell_type": "markdown",
   "metadata": {
    "pycharm": {
     "name": "#%% md\n"
    }
   },
   "source": [
    "Зависимость между уровнем дохода и возвратом кредита в срок - прямая.\n",
    "\n",
    "Чем выше уровень дохода, тем меньше вероятность возникновения задолженности.\n",
    "\n",
    "***"
   ]
  },
  {
   "cell_type": "markdown",
   "metadata": {
    "pycharm": {
     "name": "#%% md\n"
    }
   },
   "source": [
    "- __Влияние разных целей кредита на его возврат в срок__"
   ]
  },
  {
   "cell_type": "markdown",
   "metadata": {
    "pycharm": {
     "name": "#%% md\n"
    }
   },
   "source": [
    "Построим таблицу и график доли задолженности по всем категориям целей кредита."
   ]
  },
  {
   "cell_type": "code",
   "execution_count": 45,
   "metadata": {
    "pycharm": {
     "name": "#%%\n"
    }
   },
   "outputs": [
    {
     "data": {
      "text/html": [
       "<div>\n",
       "<style scoped>\n",
       "    .dataframe tbody tr th:only-of-type {\n",
       "        vertical-align: middle;\n",
       "    }\n",
       "\n",
       "    .dataframe tbody tr th {\n",
       "        vertical-align: top;\n",
       "    }\n",
       "\n",
       "    .dataframe thead tr th {\n",
       "        text-align: left;\n",
       "    }\n",
       "\n",
       "    .dataframe thead tr:last-of-type th {\n",
       "        text-align: right;\n",
       "    }\n",
       "</style>\n",
       "<table border=\"1\" class=\"dataframe\">\n",
       "  <thead>\n",
       "    <tr>\n",
       "      <th></th>\n",
       "      <th colspan=\"2\" halign=\"left\">debt</th>\n",
       "    </tr>\n",
       "    <tr>\n",
       "      <th></th>\n",
       "      <th>mean</th>\n",
       "      <th>count</th>\n",
       "    </tr>\n",
       "    <tr>\n",
       "      <th>purpose_category</th>\n",
       "      <th></th>\n",
       "      <th></th>\n",
       "    </tr>\n",
       "  </thead>\n",
       "  <tbody>\n",
       "    <tr>\n",
       "      <td>жилье</td>\n",
       "      <td>0.069772</td>\n",
       "      <td>5690</td>\n",
       "    </tr>\n",
       "    <tr>\n",
       "      <td>недвижимость</td>\n",
       "      <td>0.075181</td>\n",
       "      <td>5121</td>\n",
       "    </tr>\n",
       "    <tr>\n",
       "      <td>свадьба</td>\n",
       "      <td>0.080034</td>\n",
       "      <td>2324</td>\n",
       "    </tr>\n",
       "    <tr>\n",
       "      <td>образование</td>\n",
       "      <td>0.092200</td>\n",
       "      <td>4013</td>\n",
       "    </tr>\n",
       "    <tr>\n",
       "      <td>автомобиль</td>\n",
       "      <td>0.093590</td>\n",
       "      <td>4306</td>\n",
       "    </tr>\n",
       "  </tbody>\n",
       "</table>\n",
       "</div>"
      ],
      "text/plain": [
       "                      debt      \n",
       "                      mean count\n",
       "purpose_category                \n",
       "жилье             0.069772  5690\n",
       "недвижимость      0.075181  5121\n",
       "свадьба           0.080034  2324\n",
       "образование       0.092200  4013\n",
       "автомобиль        0.093590  4306"
      ]
     },
     "metadata": {},
     "output_type": "display_data"
    },
    {
     "data": {
      "text/plain": [
       "<matplotlib.axes._subplots.AxesSubplot at 0x7f79b4c6df10>"
      ]
     },
     "execution_count": 45,
     "metadata": {},
     "output_type": "execute_result"
    },
    {
     "data": {
      "image/png": "[encoded data removed]",
      "text/plain": [
       "<Figure size 432x288 with 1 Axes>"
      ]
     },
     "metadata": {
      "needs_background": "light"
     },
     "output_type": "display_data"
    }
   ],
   "source": [
    "debt_vs_purpose = df.groupby('purpose_category').agg({'debt':['mean','count']}).sort_values(('debt', 'mean'))\n",
    "display(debt_vs_purpose)\n",
    "sb.barplot(x=debt_vs_purpose[('debt', 'mean')], y=debt_vs_purpose.index)"
   ]
  },
  {
   "cell_type": "markdown",
   "metadata": {
    "pycharm": {
     "name": "#%% md\n"
    }
   },
   "source": [
    "**Вывод**"
   ]
  },
  {
   "cell_type": "markdown",
   "metadata": {
    "pycharm": {
     "name": "#%% md\n"
    }
   },
   "source": [
    "Если целью кредита является недвижимость (жилая или иная), то вероятность просрочить платеж ниже.\n",
    "\n",
    "При менее значительных покупках (образование, автомобиль) вероятность упустить срок возврата выше.\n",
    "\n",
    "Можно сделать вывод, что к наиболее дорогостоящим покупкам подход более ответственный.\n",
    "В случае с автомобилем возможно провести дополнительное исследование уровня задолженности в зависимости от суммы кредита на автомобиль, поскольку цены на автомобили могут быть значительно разными.\n",
    "\n",
    "***"
   ]
  },
  {
   "cell_type": "markdown",
   "metadata": {
    "pycharm": {
     "name": "#%% md\n"
    }
   },
   "source": [
    "## Шаг 4. Общий вывод"
   ]
  },
  {
   "cell_type": "markdown",
   "metadata": {
    "pycharm": {
     "name": "#%% md\n"
    }
   },
   "source": [
    "Был проведен анализ и построены зависимости факта погашения кредита в срок от таких факторов: наличие детей, семейное положение, уровень дохода, цель кредита.\n",
    "\n",
    "Общий вывод по выявленным зависимостям можно сдеалать такой:\n",
    "\n",
    "Более ответственные и осторожные люди (которые ответственнее подходят к браку, осторожнее заводят детей, обдумывают крупные покупки, берут кредит при соответсвующем уровне дохода) чаще возвращают кредит вовремя."
   ]
  }
 ],
 "metadata": {
  "ExecuteTimeLog": [
   {
    "duration": 182,
    "start_time": "2021-11-13T03:56:24.195Z"
   },
   {
    "duration": 614,
    "start_time": "2021-11-13T04:18:19.125Z"
   },
   {
    "duration": 51,
    "start_time": "2021-11-13T04:19:41.053Z"
   },
   {
    "duration": 12,
    "start_time": "2021-11-13T04:20:15.493Z"
   },
   {
    "duration": 9,
    "start_time": "2021-11-13T04:23:26.799Z"
   },
   {
    "duration": 41,
    "start_time": "2021-11-13T04:26:28.739Z"
   },
   {
    "duration": 10,
    "start_time": "2021-11-13T04:26:40.276Z"
   },
   {
    "duration": 20,
    "start_time": "2021-11-13T04:26:47.340Z"
   },
   {
    "duration": 20,
    "start_time": "2021-11-13T04:26:59.234Z"
   },
   {
    "duration": 31,
    "start_time": "2021-11-13T04:29:26.922Z"
   },
   {
    "duration": 32,
    "start_time": "2021-11-13T04:29:40.935Z"
   },
   {
    "duration": 12,
    "start_time": "2021-11-13T04:36:26.172Z"
   },
   {
    "duration": 21,
    "start_time": "2021-11-13T04:36:32.611Z"
   },
   {
    "duration": 12,
    "start_time": "2021-11-13T04:36:41.202Z"
   },
   {
    "duration": 23,
    "start_time": "2021-11-13T04:36:48.811Z"
   },
   {
    "duration": 3,
    "start_time": "2021-11-13T04:37:54.115Z"
   },
   {
    "duration": 3,
    "start_time": "2021-11-13T04:38:00.186Z"
   },
   {
    "duration": 3,
    "start_time": "2021-11-13T04:38:19.315Z"
   },
   {
    "duration": 2,
    "start_time": "2021-11-13T04:38:22.523Z"
   },
   {
    "duration": 3,
    "start_time": "2021-11-13T04:38:24.598Z"
   },
   {
    "duration": 18,
    "start_time": "2021-11-13T04:48:44.419Z"
   },
   {
    "duration": 11,
    "start_time": "2021-11-13T04:48:50.308Z"
   },
   {
    "duration": 9,
    "start_time": "2021-11-13T04:48:54.898Z"
   },
   {
    "duration": 5,
    "start_time": "2021-11-13T04:49:50.792Z"
   },
   {
    "duration": 447,
    "start_time": "2021-11-13T04:52:27.143Z"
   },
   {
    "duration": 258,
    "start_time": "2021-11-13T04:54:13.222Z"
   },
   {
    "duration": 82,
    "start_time": "2021-11-13T04:54:27.681Z"
   },
   {
    "duration": 259,
    "start_time": "2021-11-13T04:55:03.032Z"
   },
   {
    "duration": 25,
    "start_time": "2021-11-13T04:55:19.355Z"
   },
   {
    "duration": 22,
    "start_time": "2021-11-13T04:55:32.507Z"
   },
   {
    "duration": 13,
    "start_time": "2021-11-13T04:57:22.879Z"
   },
   {
    "duration": 12,
    "start_time": "2021-11-13T04:57:42.373Z"
   },
   {
    "duration": 23,
    "start_time": "2021-11-13T04:58:18.984Z"
   },
   {
    "duration": 258,
    "start_time": "2021-11-13T05:04:53.162Z"
   },
   {
    "duration": 19,
    "start_time": "2021-11-13T05:04:59.186Z"
   },
   {
    "duration": 14,
    "start_time": "2021-11-13T05:05:08.780Z"
   },
   {
    "duration": -310,
    "start_time": "2021-11-13T05:05:41.334Z"
   },
   {
    "duration": 16,
    "start_time": "2021-11-13T05:05:48.019Z"
   },
   {
    "duration": 18,
    "start_time": "2021-11-13T05:11:21.192Z"
   },
   {
    "duration": 19,
    "start_time": "2021-11-13T05:11:27.866Z"
   },
   {
    "duration": 5,
    "start_time": "2021-11-13T05:15:11.075Z"
   },
   {
    "duration": 6,
    "start_time": "2021-11-13T05:15:26.385Z"
   },
   {
    "duration": 5,
    "start_time": "2021-11-13T05:15:42.716Z"
   },
   {
    "duration": 9,
    "start_time": "2021-11-13T05:15:58.254Z"
   },
   {
    "duration": 9,
    "start_time": "2021-11-13T05:21:03.056Z"
   },
   {
    "duration": 11,
    "start_time": "2021-11-13T05:21:13.120Z"
   },
   {
    "duration": 8,
    "start_time": "2021-11-13T05:23:47.110Z"
   },
   {
    "duration": 11,
    "start_time": "2021-11-13T05:24:53.789Z"
   },
   {
    "duration": 27,
    "start_time": "2021-11-13T05:27:06.539Z"
   },
   {
    "duration": 32,
    "start_time": "2021-11-13T05:33:34.517Z"
   },
   {
    "duration": 36,
    "start_time": "2021-11-13T05:34:47.563Z"
   },
   {
    "duration": 35,
    "start_time": "2021-11-13T05:34:57.599Z"
   },
   {
    "duration": 39,
    "start_time": "2021-11-13T05:37:23.416Z"
   },
   {
    "duration": 78,
    "start_time": "2021-11-13T05:39:06.229Z"
   },
   {
    "duration": 86,
    "start_time": "2021-11-13T05:39:16.209Z"
   },
   {
    "duration": 85,
    "start_time": "2021-11-13T05:39:22.104Z"
   },
   {
    "duration": 50,
    "start_time": "2021-11-13T05:39:39.929Z"
   },
   {
    "duration": 45,
    "start_time": "2021-11-13T05:42:44.075Z"
   },
   {
    "duration": 51,
    "start_time": "2021-11-13T05:42:57.174Z"
   },
   {
    "duration": 44,
    "start_time": "2021-11-13T05:43:41.621Z"
   },
   {
    "duration": 36,
    "start_time": "2021-11-13T05:46:54.303Z"
   },
   {
    "duration": 13,
    "start_time": "2021-11-13T05:47:02.850Z"
   },
   {
    "duration": 424,
    "start_time": "2021-11-13T05:49:33.112Z"
   },
   {
    "duration": 23,
    "start_time": "2021-11-13T05:49:49.299Z"
   },
   {
    "duration": 35,
    "start_time": "2021-11-13T05:50:03.791Z"
   },
   {
    "duration": 24,
    "start_time": "2021-11-13T05:50:46.454Z"
   },
   {
    "duration": 29,
    "start_time": "2021-11-13T05:51:01.102Z"
   },
   {
    "duration": 29,
    "start_time": "2021-11-13T05:51:18.563Z"
   },
   {
    "duration": 32,
    "start_time": "2021-11-13T05:51:36.523Z"
   },
   {
    "duration": 32,
    "start_time": "2021-11-13T05:52:12.312Z"
   },
   {
    "duration": 33,
    "start_time": "2021-11-13T05:53:34.856Z"
   },
   {
    "duration": 6,
    "start_time": "2021-11-13T06:04:19.531Z"
   },
   {
    "duration": 6,
    "start_time": "2021-11-13T06:08:15.294Z"
   },
   {
    "duration": 82,
    "start_time": "2021-11-13T06:09:15.886Z"
   },
   {
    "duration": 83,
    "start_time": "2021-11-13T06:09:48.987Z"
   },
   {
    "duration": 5,
    "start_time": "2021-11-13T06:10:46.604Z"
   },
   {
    "duration": 6,
    "start_time": "2021-11-13T06:11:17.748Z"
   },
   {
    "duration": 5,
    "start_time": "2021-11-13T06:11:18.560Z"
   },
   {
    "duration": 10,
    "start_time": "2021-11-13T06:20:00.981Z"
   },
   {
    "duration": 15,
    "start_time": "2021-11-13T06:20:24.659Z"
   },
   {
    "duration": 273,
    "start_time": "2021-11-13T06:22:36.934Z"
   },
   {
    "duration": 19,
    "start_time": "2021-11-13T06:23:00.999Z"
   },
   {
    "duration": 23,
    "start_time": "2021-11-13T06:24:04.438Z"
   },
   {
    "duration": 377,
    "start_time": "2021-11-13T16:16:14.748Z"
   },
   {
    "duration": 584,
    "start_time": "2021-11-13T16:16:28.939Z"
   },
   {
    "duration": 2,
    "start_time": "2021-11-13T16:16:29.525Z"
   },
   {
    "duration": 50,
    "start_time": "2021-11-13T16:16:30.060Z"
   },
   {
    "duration": 9,
    "start_time": "2021-11-13T16:16:31.138Z"
   },
   {
    "duration": 11,
    "start_time": "2021-11-13T16:16:31.802Z"
   },
   {
    "duration": 22,
    "start_time": "2021-11-13T16:16:32.508Z"
   },
   {
    "duration": 10,
    "start_time": "2021-11-13T16:16:35.941Z"
   },
   {
    "duration": 14,
    "start_time": "2021-11-13T16:16:37.235Z"
   },
   {
    "duration": 18,
    "start_time": "2021-11-13T16:16:39.034Z"
   },
   {
    "duration": 6,
    "start_time": "2021-11-13T16:16:42.037Z"
   },
   {
    "duration": 5,
    "start_time": "2021-11-13T16:16:42.953Z"
   },
   {
    "duration": 20,
    "start_time": "2021-11-13T16:16:43.778Z"
   },
   {
    "duration": 32,
    "start_time": "2021-11-13T16:16:45.153Z"
   },
   {
    "duration": 32,
    "start_time": "2021-11-13T16:18:07.549Z"
   },
   {
    "duration": 27,
    "start_time": "2021-11-13T16:19:15.049Z"
   },
   {
    "duration": 28,
    "start_time": "2021-11-13T16:19:29.304Z"
   },
   {
    "duration": 30,
    "start_time": "2021-11-13T16:20:09.478Z"
   },
   {
    "duration": 4903,
    "start_time": "2021-11-13T16:23:01.962Z"
   },
   {
    "duration": 10739,
    "start_time": "2021-11-13T16:23:26.221Z"
   },
   {
    "duration": 347,
    "start_time": "2021-11-13T16:23:49.386Z"
   },
   {
    "duration": 607,
    "start_time": "2021-11-13T16:24:27.417Z"
   },
   {
    "duration": 345,
    "start_time": "2021-11-13T16:28:26.777Z"
   },
   {
    "duration": 358,
    "start_time": "2021-11-13T16:29:11.349Z"
   },
   {
    "duration": 382,
    "start_time": "2021-11-13T16:31:14.703Z"
   },
   {
    "duration": 30,
    "start_time": "2021-11-13T16:31:24.126Z"
   },
   {
    "duration": 356,
    "start_time": "2021-11-13T16:31:59.652Z"
   },
   {
    "duration": 39,
    "start_time": "2021-11-13T16:32:07.328Z"
   },
   {
    "duration": 42,
    "start_time": "2021-11-13T16:33:15.459Z"
   },
   {
    "duration": 371,
    "start_time": "2021-11-13T16:34:21.877Z"
   },
   {
    "duration": 43,
    "start_time": "2021-11-13T16:35:09.051Z"
   },
   {
    "duration": 448,
    "start_time": "2021-11-13T16:35:55.203Z"
   },
   {
    "duration": 360,
    "start_time": "2021-11-13T16:36:58.188Z"
   },
   {
    "duration": 347,
    "start_time": "2021-11-13T16:37:33.866Z"
   },
   {
    "duration": 350,
    "start_time": "2021-11-13T16:38:40.655Z"
   },
   {
    "duration": 347,
    "start_time": "2021-11-13T16:38:48.998Z"
   },
   {
    "duration": 367,
    "start_time": "2021-11-13T16:39:12.277Z"
   },
   {
    "duration": 346,
    "start_time": "2021-11-13T16:39:37.627Z"
   },
   {
    "duration": 356,
    "start_time": "2021-11-13T16:39:45.203Z"
   },
   {
    "duration": 345,
    "start_time": "2021-11-13T16:39:53.691Z"
   },
   {
    "duration": 374,
    "start_time": "2021-11-13T16:40:04.029Z"
   },
   {
    "duration": 363,
    "start_time": "2021-11-13T16:40:14.730Z"
   },
   {
    "duration": 354,
    "start_time": "2021-11-13T16:40:38.328Z"
   },
   {
    "duration": 355,
    "start_time": "2021-11-13T16:40:54.568Z"
   },
   {
    "duration": 410,
    "start_time": "2021-11-13T16:41:00.504Z"
   },
   {
    "duration": 345,
    "start_time": "2021-11-13T16:41:04.926Z"
   },
   {
    "duration": 354,
    "start_time": "2021-11-13T16:43:43.541Z"
   },
   {
    "duration": 25,
    "start_time": "2021-11-13T16:44:36.191Z"
   },
   {
    "duration": 15,
    "start_time": "2021-11-13T16:49:33.365Z"
   },
   {
    "duration": 347,
    "start_time": "2021-11-13T16:59:49.344Z"
   },
   {
    "duration": 421,
    "start_time": "2021-11-13T17:00:04.829Z"
   },
   {
    "duration": 352,
    "start_time": "2021-11-13T17:00:24.430Z"
   },
   {
    "duration": 347,
    "start_time": "2021-11-13T17:09:27.912Z"
   },
   {
    "duration": 341,
    "start_time": "2021-11-13T17:09:43.257Z"
   },
   {
    "duration": 339,
    "start_time": "2021-11-13T17:10:05.253Z"
   },
   {
    "duration": 361,
    "start_time": "2021-11-13T17:10:13.286Z"
   },
   {
    "duration": 341,
    "start_time": "2021-11-13T17:13:55.551Z"
   },
   {
    "duration": 7,
    "start_time": "2021-11-13T17:21:57.074Z"
   },
   {
    "duration": 4,
    "start_time": "2021-11-13T17:27:27.610Z"
   },
   {
    "duration": 8,
    "start_time": "2021-11-13T17:27:34.945Z"
   },
   {
    "duration": 9,
    "start_time": "2021-11-13T17:28:13.684Z"
   },
   {
    "duration": 21,
    "start_time": "2021-11-13T17:28:20.465Z"
   },
   {
    "duration": 8,
    "start_time": "2021-11-13T17:30:09.239Z"
   },
   {
    "duration": 17,
    "start_time": "2021-11-13T17:30:59.429Z"
   },
   {
    "duration": 23,
    "start_time": "2021-11-13T17:32:10.791Z"
   },
   {
    "duration": 23,
    "start_time": "2021-11-13T17:32:54.956Z"
   },
   {
    "duration": 6,
    "start_time": "2021-11-13T17:34:27.248Z"
   },
   {
    "duration": 7,
    "start_time": "2021-11-13T17:35:03.470Z"
   },
   {
    "duration": 5,
    "start_time": "2021-11-13T17:35:11.527Z"
   },
   {
    "duration": 3,
    "start_time": "2021-11-13T17:35:17.198Z"
   },
   {
    "duration": 7,
    "start_time": "2021-11-13T17:38:01.443Z"
   },
   {
    "duration": 6,
    "start_time": "2021-11-13T17:38:59.035Z"
   },
   {
    "duration": 5,
    "start_time": "2021-11-13T17:39:54.056Z"
   },
   {
    "duration": 5,
    "start_time": "2021-11-13T17:40:22.925Z"
   },
   {
    "duration": 6,
    "start_time": "2021-11-13T17:42:08.309Z"
   },
   {
    "duration": 370,
    "start_time": "2021-11-13T17:42:33.173Z"
   },
   {
    "duration": 7,
    "start_time": "2021-11-13T17:42:54.163Z"
   },
   {
    "duration": 7,
    "start_time": "2021-11-13T17:43:28.396Z"
   },
   {
    "duration": 7,
    "start_time": "2021-11-13T17:43:46.002Z"
   },
   {
    "duration": 7,
    "start_time": "2021-11-13T17:43:54.354Z"
   },
   {
    "duration": 6,
    "start_time": "2021-11-13T17:44:07.275Z"
   },
   {
    "duration": 345,
    "start_time": "2021-11-13T17:44:28.219Z"
   },
   {
    "duration": 15,
    "start_time": "2021-11-13T17:44:50.508Z"
   },
   {
    "duration": 8,
    "start_time": "2021-11-13T17:44:58.527Z"
   },
   {
    "duration": 9,
    "start_time": "2021-11-13T17:45:08.898Z"
   },
   {
    "duration": 11,
    "start_time": "2021-11-13T17:46:00.850Z"
   },
   {
    "duration": 349,
    "start_time": "2021-11-13T17:46:35.462Z"
   },
   {
    "duration": 15,
    "start_time": "2021-11-13T17:46:51.880Z"
   },
   {
    "duration": 16,
    "start_time": "2021-11-13T17:47:14.922Z"
   },
   {
    "duration": 14,
    "start_time": "2021-11-13T17:47:30.167Z"
   },
   {
    "duration": 12,
    "start_time": "2021-11-13T17:48:14.509Z"
   },
   {
    "duration": 10,
    "start_time": "2021-11-13T17:48:24.422Z"
   },
   {
    "duration": 7,
    "start_time": "2021-11-13T17:52:01.175Z"
   },
   {
    "duration": 6,
    "start_time": "2021-11-13T17:52:06.229Z"
   },
   {
    "duration": 4,
    "start_time": "2021-11-13T17:52:07.238Z"
   },
   {
    "duration": 7,
    "start_time": "2021-11-13T17:52:08.085Z"
   },
   {
    "duration": 7,
    "start_time": "2021-11-13T17:52:10.491Z"
   },
   {
    "duration": 5,
    "start_time": "2021-11-13T17:52:12.005Z"
   },
   {
    "duration": 7,
    "start_time": "2021-11-13T17:52:13.181Z"
   },
   {
    "duration": 11,
    "start_time": "2021-11-13T17:55:04.154Z"
   },
   {
    "duration": 8,
    "start_time": "2021-11-13T17:56:42.308Z"
   },
   {
    "duration": 17,
    "start_time": "2021-11-13T17:56:54.370Z"
   },
   {
    "duration": 17,
    "start_time": "2021-11-13T17:57:33.329Z"
   },
   {
    "duration": 356,
    "start_time": "2021-11-13T17:58:18.263Z"
   },
   {
    "duration": 367,
    "start_time": "2021-11-13T17:58:56.935Z"
   },
   {
    "duration": 28,
    "start_time": "2021-11-13T17:59:21.686Z"
   },
   {
    "duration": 28,
    "start_time": "2021-11-13T17:59:54.340Z"
   },
   {
    "duration": 12,
    "start_time": "2021-11-13T18:00:22.700Z"
   },
   {
    "duration": 125,
    "start_time": "2021-11-13T18:03:50.886Z"
   },
   {
    "duration": 4,
    "start_time": "2021-11-13T18:03:57.413Z"
   },
   {
    "duration": 4,
    "start_time": "2021-11-13T18:04:23.571Z"
   },
   {
    "duration": 19,
    "start_time": "2021-11-13T18:07:38.776Z"
   },
   {
    "duration": 14,
    "start_time": "2021-11-13T18:10:43.973Z"
   },
   {
    "duration": 20,
    "start_time": "2021-11-13T18:10:47.384Z"
   },
   {
    "duration": 7,
    "start_time": "2021-11-13T18:10:49.811Z"
   },
   {
    "duration": 24,
    "start_time": "2021-11-13T18:11:34.950Z"
   },
   {
    "duration": 9,
    "start_time": "2021-11-13T18:13:46.786Z"
   },
   {
    "duration": 15,
    "start_time": "2021-11-13T18:13:54.327Z"
   },
   {
    "duration": 13,
    "start_time": "2021-11-13T18:14:13.189Z"
   },
   {
    "duration": 10,
    "start_time": "2021-11-13T18:14:38.647Z"
   },
   {
    "duration": 13,
    "start_time": "2021-11-13T18:14:44.789Z"
   },
   {
    "duration": 9,
    "start_time": "2021-11-13T18:14:55.951Z"
   },
   {
    "duration": 361,
    "start_time": "2021-11-13T18:15:59.436Z"
   },
   {
    "duration": 377,
    "start_time": "2021-11-13T18:16:13.660Z"
   },
   {
    "duration": 13,
    "start_time": "2021-11-13T18:16:29.715Z"
   },
   {
    "duration": 362,
    "start_time": "2021-11-13T18:16:57.849Z"
   },
   {
    "duration": 12,
    "start_time": "2021-11-13T18:17:18.300Z"
   },
   {
    "duration": 13,
    "start_time": "2021-11-13T18:17:45.682Z"
   },
   {
    "duration": 10,
    "start_time": "2021-11-13T18:17:50.574Z"
   },
   {
    "duration": 13,
    "start_time": "2021-11-13T18:17:59.211Z"
   },
   {
    "duration": 11,
    "start_time": "2021-11-13T18:18:38.970Z"
   },
   {
    "duration": 13,
    "start_time": "2021-11-13T18:18:48.051Z"
   },
   {
    "duration": 10,
    "start_time": "2021-11-13T18:19:10.222Z"
   },
   {
    "duration": 10,
    "start_time": "2021-11-13T18:19:27.945Z"
   },
   {
    "duration": 128,
    "start_time": "2021-11-13T18:19:36.278Z"
   },
   {
    "duration": 10,
    "start_time": "2021-11-13T18:19:40.647Z"
   },
   {
    "duration": 14,
    "start_time": "2021-11-13T18:19:47.078Z"
   },
   {
    "duration": 16,
    "start_time": "2021-11-13T18:19:57.485Z"
   },
   {
    "duration": 15,
    "start_time": "2021-11-13T18:20:47.456Z"
   },
   {
    "duration": 18,
    "start_time": "2021-11-13T18:21:41.020Z"
   },
   {
    "duration": 16,
    "start_time": "2021-11-13T18:21:52.293Z"
   },
   {
    "duration": 625,
    "start_time": "2021-11-13T18:22:14.715Z"
   },
   {
    "duration": 629,
    "start_time": "2021-11-13T18:22:52.343Z"
   },
   {
    "duration": 624,
    "start_time": "2021-11-13T18:23:12.416Z"
   },
   {
    "duration": 7,
    "start_time": "2021-11-13T18:23:21.081Z"
   },
   {
    "duration": 8709,
    "start_time": "2021-11-13T18:23:31.161Z"
   },
   {
    "duration": 5,
    "start_time": "2021-11-13T18:23:43.033Z"
   },
   {
    "duration": 9679,
    "start_time": "2021-11-13T18:24:02.512Z"
   },
   {
    "duration": 8761,
    "start_time": "2021-11-13T18:24:21.922Z"
   },
   {
    "duration": 6,
    "start_time": "2021-11-13T18:24:51.919Z"
   },
   {
    "duration": 11,
    "start_time": "2021-11-13T18:26:19.276Z"
   },
   {
    "duration": 19,
    "start_time": "2021-11-13T18:26:36.236Z"
   },
   {
    "duration": 9235,
    "start_time": "2021-11-13T18:27:07.132Z"
   },
   {
    "duration": 29,
    "start_time": "2021-11-13T18:27:17.697Z"
   },
   {
    "duration": 18,
    "start_time": "2021-11-13T18:27:36.647Z"
   },
   {
    "duration": 120,
    "start_time": "2021-11-13T18:29:14.320Z"
   },
   {
    "duration": 32,
    "start_time": "2021-11-13T18:29:41.423Z"
   },
   {
    "duration": 25,
    "start_time": "2021-11-13T18:31:04.614Z"
   },
   {
    "duration": 21,
    "start_time": "2021-11-13T18:31:39.750Z"
   },
   {
    "duration": 17,
    "start_time": "2021-11-13T18:31:51.876Z"
   },
   {
    "duration": 379,
    "start_time": "2021-11-13T18:32:00.252Z"
   },
   {
    "duration": 18,
    "start_time": "2021-11-13T18:32:03.900Z"
   },
   {
    "duration": 128,
    "start_time": "2021-11-13T18:32:19.309Z"
   },
   {
    "duration": 45,
    "start_time": "2021-11-13T18:32:24.011Z"
   },
   {
    "duration": 24,
    "start_time": "2021-11-13T18:32:32.800Z"
   },
   {
    "duration": 34,
    "start_time": "2021-11-13T18:33:11.030Z"
   },
   {
    "duration": 4,
    "start_time": "2021-11-13T18:35:46.870Z"
   },
   {
    "duration": 9,
    "start_time": "2021-11-13T18:36:00.953Z"
   },
   {
    "duration": 613,
    "start_time": "2021-11-13T18:36:37.307Z"
   },
   {
    "duration": 9,
    "start_time": "2021-11-13T18:36:48.822Z"
   },
   {
    "duration": 9,
    "start_time": "2021-11-13T18:37:00.278Z"
   },
   {
    "duration": 121,
    "start_time": "2021-11-13T18:38:59.741Z"
   },
   {
    "duration": 572,
    "start_time": "2021-11-13T18:48:05.041Z"
   },
   {
    "duration": 3,
    "start_time": "2021-11-13T18:48:05.615Z"
   },
   {
    "duration": 69,
    "start_time": "2021-11-13T18:48:05.620Z"
   },
   {
    "duration": 8,
    "start_time": "2021-11-13T18:48:05.691Z"
   },
   {
    "duration": 19,
    "start_time": "2021-11-13T18:48:05.700Z"
   },
   {
    "duration": 28,
    "start_time": "2021-11-13T18:48:05.720Z"
   },
   {
    "duration": 5,
    "start_time": "2021-11-13T18:48:05.750Z"
   },
   {
    "duration": 8,
    "start_time": "2021-11-13T18:48:05.757Z"
   },
   {
    "duration": 13,
    "start_time": "2021-11-13T18:48:05.767Z"
   },
   {
    "duration": 387,
    "start_time": "2021-11-13T18:48:05.782Z"
   },
   {
    "duration": 6,
    "start_time": "2021-11-13T18:48:06.171Z"
   },
   {
    "duration": 4,
    "start_time": "2021-11-13T18:48:06.179Z"
   },
   {
    "duration": 26,
    "start_time": "2021-11-13T18:48:06.185Z"
   },
   {
    "duration": 10,
    "start_time": "2021-11-13T18:48:06.213Z"
   },
   {
    "duration": 8,
    "start_time": "2021-11-13T18:48:06.225Z"
   },
   {
    "duration": 8,
    "start_time": "2021-11-13T18:48:06.235Z"
   },
   {
    "duration": 16,
    "start_time": "2021-11-13T18:48:06.244Z"
   },
   {
    "duration": 47,
    "start_time": "2021-11-13T18:48:06.261Z"
   },
   {
    "duration": 32,
    "start_time": "2021-11-13T18:48:06.310Z"
   },
   {
    "duration": 9,
    "start_time": "2021-11-13T18:48:06.343Z"
   },
   {
    "duration": 11,
    "start_time": "2021-11-13T18:48:06.354Z"
   },
   {
    "duration": 50,
    "start_time": "2021-11-13T18:48:06.367Z"
   },
   {
    "duration": 19,
    "start_time": "2021-11-13T18:48:06.420Z"
   },
   {
    "duration": 31,
    "start_time": "2021-11-13T18:53:30.377Z"
   },
   {
    "duration": 16,
    "start_time": "2021-11-13T18:56:59.888Z"
   },
   {
    "duration": 38,
    "start_time": "2021-11-13T18:57:34.272Z"
   },
   {
    "duration": 600,
    "start_time": "2021-11-13T18:58:38.550Z"
   },
   {
    "duration": 3,
    "start_time": "2021-11-13T18:58:39.152Z"
   },
   {
    "duration": 59,
    "start_time": "2021-11-13T18:58:39.158Z"
   },
   {
    "duration": 9,
    "start_time": "2021-11-13T18:58:39.219Z"
   },
   {
    "duration": 19,
    "start_time": "2021-11-13T18:58:39.230Z"
   },
   {
    "duration": 30,
    "start_time": "2021-11-13T18:58:39.252Z"
   },
   {
    "duration": 25,
    "start_time": "2021-11-13T18:58:39.284Z"
   },
   {
    "duration": 4,
    "start_time": "2021-11-13T18:58:39.311Z"
   },
   {
    "duration": 22,
    "start_time": "2021-11-13T18:58:39.317Z"
   },
   {
    "duration": 382,
    "start_time": "2021-11-13T18:58:39.340Z"
   },
   {
    "duration": 5,
    "start_time": "2021-11-13T18:58:39.724Z"
   },
   {
    "duration": 21,
    "start_time": "2021-11-13T18:58:39.730Z"
   },
   {
    "duration": 17,
    "start_time": "2021-11-13T18:58:39.752Z"
   },
   {
    "duration": 14,
    "start_time": "2021-11-13T18:58:39.771Z"
   },
   {
    "duration": 17,
    "start_time": "2021-11-13T18:58:39.787Z"
   },
   {
    "duration": 14,
    "start_time": "2021-11-13T18:58:39.805Z"
   },
   {
    "duration": 24,
    "start_time": "2021-11-13T18:58:39.821Z"
   },
   {
    "duration": 20,
    "start_time": "2021-11-13T18:58:39.847Z"
   },
   {
    "duration": 27,
    "start_time": "2021-11-13T18:58:39.869Z"
   },
   {
    "duration": 14,
    "start_time": "2021-11-13T18:58:39.898Z"
   },
   {
    "duration": 39,
    "start_time": "2021-11-13T18:58:45.188Z"
   },
   {
    "duration": 40,
    "start_time": "2021-11-13T18:59:13.526Z"
   },
   {
    "duration": 31,
    "start_time": "2021-11-13T19:00:01.717Z"
   },
   {
    "duration": 45,
    "start_time": "2021-11-13T19:01:56.101Z"
   },
   {
    "duration": 64,
    "start_time": "2021-11-13T19:06:42.469Z"
   },
   {
    "duration": 594,
    "start_time": "2021-11-13T19:06:55.918Z"
   },
   {
    "duration": 3,
    "start_time": "2021-11-13T19:06:56.514Z"
   },
   {
    "duration": 61,
    "start_time": "2021-11-13T19:06:56.521Z"
   },
   {
    "duration": 7,
    "start_time": "2021-11-13T19:06:56.584Z"
   },
   {
    "duration": 21,
    "start_time": "2021-11-13T19:06:56.593Z"
   },
   {
    "duration": 35,
    "start_time": "2021-11-13T19:06:56.616Z"
   },
   {
    "duration": 5,
    "start_time": "2021-11-13T19:06:56.652Z"
   },
   {
    "duration": 8,
    "start_time": "2021-11-13T19:06:56.659Z"
   },
   {
    "duration": 24,
    "start_time": "2021-11-13T19:06:56.668Z"
   },
   {
    "duration": 363,
    "start_time": "2021-11-13T19:06:56.694Z"
   },
   {
    "duration": 5,
    "start_time": "2021-11-13T19:06:57.058Z"
   },
   {
    "duration": 10,
    "start_time": "2021-11-13T19:06:57.064Z"
   },
   {
    "duration": 11,
    "start_time": "2021-11-13T19:06:57.076Z"
   },
   {
    "duration": 9,
    "start_time": "2021-11-13T19:06:57.089Z"
   },
   {
    "duration": 4,
    "start_time": "2021-11-13T19:06:57.106Z"
   },
   {
    "duration": 10,
    "start_time": "2021-11-13T19:06:57.111Z"
   },
   {
    "duration": 12,
    "start_time": "2021-11-13T19:06:57.122Z"
   },
   {
    "duration": 18,
    "start_time": "2021-11-13T19:06:57.135Z"
   },
   {
    "duration": 54,
    "start_time": "2021-11-13T19:06:57.154Z"
   },
   {
    "duration": 7,
    "start_time": "2021-11-13T19:06:57.210Z"
   },
   {
    "duration": 73,
    "start_time": "2021-11-13T19:07:00.707Z"
   },
   {
    "duration": 58,
    "start_time": "2021-11-13T19:07:09.628Z"
   },
   {
    "duration": 605,
    "start_time": "2021-11-13T19:08:12.736Z"
   },
   {
    "duration": 5,
    "start_time": "2021-11-13T19:08:13.343Z"
   },
   {
    "duration": 51,
    "start_time": "2021-11-13T19:08:13.350Z"
   },
   {
    "duration": 8,
    "start_time": "2021-11-13T19:08:13.403Z"
   },
   {
    "duration": 18,
    "start_time": "2021-11-13T19:08:13.413Z"
   },
   {
    "duration": 24,
    "start_time": "2021-11-13T19:08:13.433Z"
   },
   {
    "duration": 5,
    "start_time": "2021-11-13T19:08:13.459Z"
   },
   {
    "duration": 25,
    "start_time": "2021-11-13T19:08:13.467Z"
   },
   {
    "duration": 24,
    "start_time": "2021-11-13T19:08:13.494Z"
   },
   {
    "duration": 388,
    "start_time": "2021-11-13T19:08:13.519Z"
   },
   {
    "duration": 5,
    "start_time": "2021-11-13T19:08:13.909Z"
   },
   {
    "duration": 7,
    "start_time": "2021-11-13T19:08:13.916Z"
   },
   {
    "duration": 12,
    "start_time": "2021-11-13T19:08:13.924Z"
   },
   {
    "duration": 11,
    "start_time": "2021-11-13T19:08:13.937Z"
   },
   {
    "duration": 6,
    "start_time": "2021-11-13T19:08:13.950Z"
   },
   {
    "duration": 10,
    "start_time": "2021-11-13T19:08:13.957Z"
   },
   {
    "duration": 40,
    "start_time": "2021-11-13T19:08:13.968Z"
   },
   {
    "duration": 19,
    "start_time": "2021-11-13T19:08:14.010Z"
   },
   {
    "duration": 29,
    "start_time": "2021-11-13T19:08:14.031Z"
   },
   {
    "duration": 7,
    "start_time": "2021-11-13T19:08:14.062Z"
   },
   {
    "duration": 42,
    "start_time": "2021-11-13T19:08:17.431Z"
   },
   {
    "duration": 29,
    "start_time": "2021-11-13T19:21:18.553Z"
   },
   {
    "duration": 464,
    "start_time": "2021-11-13T19:22:42.788Z"
   },
   {
    "duration": 13,
    "start_time": "2021-11-13T19:28:17.618Z"
   },
   {
    "duration": 8,
    "start_time": "2021-11-13T19:28:32.482Z"
   },
   {
    "duration": 6,
    "start_time": "2021-11-13T19:30:57.437Z"
   },
   {
    "duration": 123,
    "start_time": "2021-11-13T19:33:46.338Z"
   },
   {
    "duration": 19,
    "start_time": "2021-11-13T19:33:51.385Z"
   },
   {
    "duration": 6,
    "start_time": "2021-11-13T19:34:21.527Z"
   },
   {
    "duration": 7,
    "start_time": "2021-11-13T19:34:47.579Z"
   },
   {
    "duration": 376,
    "start_time": "2021-11-13T19:35:28.903Z"
   },
   {
    "duration": 388,
    "start_time": "2021-11-13T19:35:36.506Z"
   },
   {
    "duration": 600,
    "start_time": "2021-11-13T19:36:12.950Z"
   },
   {
    "duration": 3,
    "start_time": "2021-11-13T19:36:13.553Z"
   },
   {
    "duration": 54,
    "start_time": "2021-11-13T19:36:13.558Z"
   },
   {
    "duration": 9,
    "start_time": "2021-11-13T19:36:13.614Z"
   },
   {
    "duration": 14,
    "start_time": "2021-11-13T19:36:13.625Z"
   },
   {
    "duration": 22,
    "start_time": "2021-11-13T19:36:13.641Z"
   },
   {
    "duration": 9,
    "start_time": "2021-11-13T19:36:17.377Z"
   },
   {
    "duration": 10,
    "start_time": "2021-11-13T19:38:17.812Z"
   },
   {
    "duration": 6,
    "start_time": "2021-11-13T19:39:34.173Z"
   },
   {
    "duration": 8,
    "start_time": "2021-11-13T19:40:30.616Z"
   },
   {
    "duration": 426,
    "start_time": "2021-11-13T19:40:54.182Z"
   },
   {
    "duration": 37,
    "start_time": "2021-11-13T19:41:02.959Z"
   },
   {
    "duration": 23,
    "start_time": "2021-11-13T19:42:08.387Z"
   },
   {
    "duration": 30,
    "start_time": "2021-11-13T19:42:23.656Z"
   },
   {
    "duration": 22,
    "start_time": "2021-11-13T19:42:41.806Z"
   },
   {
    "duration": 25,
    "start_time": "2021-11-13T19:43:42.828Z"
   },
   {
    "duration": 9871,
    "start_time": "2021-11-13T19:45:25.881Z"
   },
   {
    "duration": 26,
    "start_time": "2021-11-13T19:45:42.167Z"
   },
   {
    "duration": 12,
    "start_time": "2021-11-13T19:49:58.613Z"
   },
   {
    "duration": 12,
    "start_time": "2021-11-13T19:50:22.209Z"
   },
   {
    "duration": 13,
    "start_time": "2021-11-13T19:51:14.353Z"
   },
   {
    "duration": 13,
    "start_time": "2021-11-13T19:51:53.243Z"
   },
   {
    "duration": 10009,
    "start_time": "2021-11-13T19:53:05.913Z"
   },
   {
    "duration": 97,
    "start_time": "2021-11-13T19:53:44.957Z"
   },
   {
    "duration": 42,
    "start_time": "2021-11-13T19:54:11.880Z"
   },
   {
    "duration": 39,
    "start_time": "2021-11-13T19:54:52.148Z"
   },
   {
    "duration": 19,
    "start_time": "2021-11-13T19:55:42.972Z"
   },
   {
    "duration": 30,
    "start_time": "2021-11-13T19:55:59.627Z"
   },
   {
    "duration": 31,
    "start_time": "2021-11-13T19:56:27.474Z"
   },
   {
    "duration": 32,
    "start_time": "2021-11-13T19:58:26.131Z"
   },
   {
    "duration": 17,
    "start_time": "2021-11-13T19:58:40.727Z"
   },
   {
    "duration": 16,
    "start_time": "2021-11-13T19:59:05.470Z"
   },
   {
    "duration": 629,
    "start_time": "2021-11-13T19:59:40.391Z"
   },
   {
    "duration": 3,
    "start_time": "2021-11-13T19:59:41.023Z"
   },
   {
    "duration": 86,
    "start_time": "2021-11-13T19:59:41.028Z"
   },
   {
    "duration": 12,
    "start_time": "2021-11-13T19:59:41.117Z"
   },
   {
    "duration": 17,
    "start_time": "2021-11-13T19:59:41.131Z"
   },
   {
    "duration": 30,
    "start_time": "2021-11-13T19:59:41.150Z"
   },
   {
    "duration": 29,
    "start_time": "2021-11-13T19:59:41.182Z"
   },
   {
    "duration": 44,
    "start_time": "2021-11-13T19:59:44.083Z"
   },
   {
    "duration": 28,
    "start_time": "2021-11-13T20:00:06.939Z"
   },
   {
    "duration": 692,
    "start_time": "2021-11-13T20:00:33.305Z"
   },
   {
    "duration": 3,
    "start_time": "2021-11-13T20:00:33.998Z"
   },
   {
    "duration": 73,
    "start_time": "2021-11-13T20:00:34.003Z"
   },
   {
    "duration": 8,
    "start_time": "2021-11-13T20:00:34.078Z"
   },
   {
    "duration": 30,
    "start_time": "2021-11-13T20:00:34.088Z"
   },
   {
    "duration": 23,
    "start_time": "2021-11-13T20:00:34.120Z"
   },
   {
    "duration": 24,
    "start_time": "2021-11-13T20:00:34.144Z"
   },
   {
    "duration": 47,
    "start_time": "2021-11-13T20:00:37.415Z"
   },
   {
    "duration": 19,
    "start_time": "2021-11-13T20:01:34.327Z"
   },
   {
    "duration": 21,
    "start_time": "2021-11-13T20:01:50.909Z"
   },
   {
    "duration": 638,
    "start_time": "2021-11-13T20:02:18.116Z"
   },
   {
    "duration": 3,
    "start_time": "2021-11-13T20:02:18.756Z"
   },
   {
    "duration": 58,
    "start_time": "2021-11-13T20:02:18.761Z"
   },
   {
    "duration": 9,
    "start_time": "2021-11-13T20:02:18.822Z"
   },
   {
    "duration": 13,
    "start_time": "2021-11-13T20:02:18.833Z"
   },
   {
    "duration": 19,
    "start_time": "2021-11-13T20:02:18.848Z"
   },
   {
    "duration": 9,
    "start_time": "2021-11-13T20:02:18.869Z"
   },
   {
    "duration": 49,
    "start_time": "2021-11-13T20:02:21.673Z"
   },
   {
    "duration": 7,
    "start_time": "2021-11-13T20:02:53.917Z"
   },
   {
    "duration": 5,
    "start_time": "2021-11-13T20:02:56.544Z"
   },
   {
    "duration": 14,
    "start_time": "2021-11-13T20:02:57.160Z"
   },
   {
    "duration": 13,
    "start_time": "2021-11-13T20:03:00.513Z"
   },
   {
    "duration": 9,
    "start_time": "2021-11-13T20:03:15.415Z"
   },
   {
    "duration": 4,
    "start_time": "2021-11-13T20:03:18.008Z"
   },
   {
    "duration": 16,
    "start_time": "2021-11-13T20:03:32.329Z"
   },
   {
    "duration": 9,
    "start_time": "2021-11-13T20:03:55.175Z"
   },
   {
    "duration": 6,
    "start_time": "2021-11-13T20:03:57.127Z"
   },
   {
    "duration": 9,
    "start_time": "2021-11-13T20:03:59.438Z"
   },
   {
    "duration": 7,
    "start_time": "2021-11-13T20:04:00.366Z"
   },
   {
    "duration": 5,
    "start_time": "2021-11-13T20:04:04.031Z"
   },
   {
    "duration": 6,
    "start_time": "2021-11-13T20:04:05.727Z"
   },
   {
    "duration": 431,
    "start_time": "2021-11-13T20:07:04.230Z"
   },
   {
    "duration": 5,
    "start_time": "2021-11-13T20:07:11.676Z"
   },
   {
    "duration": 4,
    "start_time": "2021-11-13T20:07:17.902Z"
   },
   {
    "duration": 4,
    "start_time": "2021-11-13T20:07:29.859Z"
   },
   {
    "duration": 5,
    "start_time": "2021-11-13T20:08:19.601Z"
   },
   {
    "duration": 8,
    "start_time": "2021-11-13T20:08:32.385Z"
   },
   {
    "duration": 7,
    "start_time": "2021-11-13T20:09:12.352Z"
   },
   {
    "duration": 8,
    "start_time": "2021-11-13T20:09:15.938Z"
   },
   {
    "duration": 13,
    "start_time": "2021-11-13T20:09:17.200Z"
   },
   {
    "duration": 20,
    "start_time": "2021-11-13T20:09:20.168Z"
   },
   {
    "duration": 26,
    "start_time": "2021-11-13T20:09:22.967Z"
   },
   {
    "duration": 10,
    "start_time": "2021-11-13T20:09:27.342Z"
   },
   {
    "duration": 33,
    "start_time": "2021-11-13T20:09:30.918Z"
   },
   {
    "duration": 11,
    "start_time": "2021-11-13T20:14:14.400Z"
   },
   {
    "duration": 621,
    "start_time": "2021-11-14T05:48:09.727Z"
   },
   {
    "duration": 3,
    "start_time": "2021-11-14T05:48:10.351Z"
   },
   {
    "duration": 55,
    "start_time": "2021-11-14T05:48:10.356Z"
   },
   {
    "duration": 8,
    "start_time": "2021-11-14T05:48:10.413Z"
   },
   {
    "duration": 12,
    "start_time": "2021-11-14T05:48:10.423Z"
   },
   {
    "duration": 28,
    "start_time": "2021-11-14T05:48:10.437Z"
   },
   {
    "duration": 9,
    "start_time": "2021-11-14T05:48:10.467Z"
   },
   {
    "duration": 68,
    "start_time": "2021-11-14T05:48:10.479Z"
   },
   {
    "duration": 6,
    "start_time": "2021-11-14T05:48:10.549Z"
   },
   {
    "duration": 5,
    "start_time": "2021-11-14T05:48:10.556Z"
   },
   {
    "duration": 13,
    "start_time": "2021-11-14T05:48:10.563Z"
   },
   {
    "duration": 10,
    "start_time": "2021-11-14T05:48:10.578Z"
   },
   {
    "duration": 6,
    "start_time": "2021-11-14T05:48:10.590Z"
   },
   {
    "duration": 57,
    "start_time": "2021-11-14T05:48:10.598Z"
   },
   {
    "duration": 6,
    "start_time": "2021-11-14T05:48:10.657Z"
   },
   {
    "duration": 9,
    "start_time": "2021-11-14T05:48:10.664Z"
   },
   {
    "duration": 9,
    "start_time": "2021-11-14T05:48:10.674Z"
   },
   {
    "duration": 6,
    "start_time": "2021-11-14T05:48:10.685Z"
   },
   {
    "duration": 5,
    "start_time": "2021-11-14T05:48:10.693Z"
   },
   {
    "duration": 7,
    "start_time": "2021-11-14T05:48:10.699Z"
   },
   {
    "duration": 43,
    "start_time": "2021-11-14T05:48:10.707Z"
   },
   {
    "duration": 16,
    "start_time": "2021-11-14T05:48:10.752Z"
   },
   {
    "duration": 19,
    "start_time": "2021-11-14T05:48:10.771Z"
   },
   {
    "duration": 28,
    "start_time": "2021-11-14T05:48:10.792Z"
   },
   {
    "duration": 8,
    "start_time": "2021-11-14T05:48:10.845Z"
   },
   {
    "duration": 34,
    "start_time": "2021-11-14T05:48:10.854Z"
   },
   {
    "duration": 26,
    "start_time": "2021-11-14T05:48:10.889Z"
   },
   {
    "duration": 774,
    "start_time": "2021-11-14T05:48:10.917Z"
   },
   {
    "duration": 20,
    "start_time": "2021-11-14T05:48:11.693Z"
   },
   {
    "duration": 5,
    "start_time": "2021-11-14T05:48:11.715Z"
   },
   {
    "duration": 28,
    "start_time": "2021-11-14T05:48:11.722Z"
   },
   {
    "duration": 1363,
    "start_time": "2021-11-14T06:02:23.383Z"
   },
   {
    "duration": 35,
    "start_time": "2021-11-14T06:03:17.008Z"
   },
   {
    "duration": 2641,
    "start_time": "2021-11-14T06:03:51.077Z"
   },
   {
    "duration": 2774,
    "start_time": "2021-11-14T06:04:47.024Z"
   },
   {
    "duration": 3019,
    "start_time": "2021-11-14T06:05:24.279Z"
   },
   {
    "duration": 2853,
    "start_time": "2021-11-14T06:06:06.698Z"
   },
   {
    "duration": 3123,
    "start_time": "2021-11-14T06:06:34.617Z"
   },
   {
    "duration": 2894,
    "start_time": "2021-11-14T06:06:43.866Z"
   },
   {
    "duration": 2875,
    "start_time": "2021-11-14T06:07:06.695Z"
   },
   {
    "duration": 3049,
    "start_time": "2021-11-14T06:07:55.063Z"
   },
   {
    "duration": 3022,
    "start_time": "2021-11-14T06:08:31.130Z"
   },
   {
    "duration": 632,
    "start_time": "2021-11-14T06:09:02.016Z"
   },
   {
    "duration": 4,
    "start_time": "2021-11-14T06:09:02.650Z"
   },
   {
    "duration": 71,
    "start_time": "2021-11-14T06:09:02.657Z"
   },
   {
    "duration": 8,
    "start_time": "2021-11-14T06:09:02.730Z"
   },
   {
    "duration": 14,
    "start_time": "2021-11-14T06:09:02.741Z"
   },
   {
    "duration": 22,
    "start_time": "2021-11-14T06:09:02.757Z"
   },
   {
    "duration": 9,
    "start_time": "2021-11-14T06:09:02.780Z"
   },
   {
    "duration": 63,
    "start_time": "2021-11-14T06:09:02.791Z"
   },
   {
    "duration": 6,
    "start_time": "2021-11-14T06:09:02.856Z"
   },
   {
    "duration": 6,
    "start_time": "2021-11-14T06:09:02.863Z"
   },
   {
    "duration": 16,
    "start_time": "2021-11-14T06:09:02.870Z"
   },
   {
    "duration": 10,
    "start_time": "2021-11-14T06:09:02.887Z"
   },
   {
    "duration": 18,
    "start_time": "2021-11-14T06:09:02.899Z"
   },
   {
    "duration": 32,
    "start_time": "2021-11-14T06:09:02.919Z"
   },
   {
    "duration": 6,
    "start_time": "2021-11-14T06:09:02.952Z"
   },
   {
    "duration": 8,
    "start_time": "2021-11-14T06:09:02.959Z"
   },
   {
    "duration": 12,
    "start_time": "2021-11-14T06:09:02.968Z"
   },
   {
    "duration": 6,
    "start_time": "2021-11-14T06:09:02.982Z"
   },
   {
    "duration": 19,
    "start_time": "2021-11-14T06:09:02.989Z"
   },
   {
    "duration": 11,
    "start_time": "2021-11-14T06:09:03.010Z"
   },
   {
    "duration": 7,
    "start_time": "2021-11-14T06:09:03.022Z"
   },
   {
    "duration": 13,
    "start_time": "2021-11-14T06:09:03.045Z"
   },
   {
    "duration": 19,
    "start_time": "2021-11-14T06:09:03.061Z"
   },
   {
    "duration": 27,
    "start_time": "2021-11-14T06:09:03.082Z"
   },
   {
    "duration": 39,
    "start_time": "2021-11-14T06:09:03.112Z"
   },
   {
    "duration": 47,
    "start_time": "2021-11-14T06:09:03.153Z"
   },
   {
    "duration": 30,
    "start_time": "2021-11-14T06:09:03.201Z"
   },
   {
    "duration": 658,
    "start_time": "2021-11-14T06:09:03.233Z"
   },
   {
    "duration": 2833,
    "start_time": "2021-11-14T06:09:03.893Z"
   },
   {
    "duration": 22,
    "start_time": "2021-11-14T06:09:06.728Z"
   },
   {
    "duration": 8,
    "start_time": "2021-11-14T06:09:06.751Z"
   },
   {
    "duration": 2833,
    "start_time": "2021-11-14T06:09:32.931Z"
   },
   {
    "duration": 2780,
    "start_time": "2021-11-14T06:09:57.507Z"
   },
   {
    "duration": 2673,
    "start_time": "2021-11-14T06:11:20.172Z"
   },
   {
    "duration": 832,
    "start_time": "2021-11-14T09:26:42.787Z"
   },
   {
    "duration": 4,
    "start_time": "2021-11-14T09:26:43.622Z"
   },
   {
    "duration": 76,
    "start_time": "2021-11-14T09:26:43.629Z"
   },
   {
    "duration": 13,
    "start_time": "2021-11-14T09:26:43.707Z"
   },
   {
    "duration": 18,
    "start_time": "2021-11-14T09:26:43.723Z"
   },
   {
    "duration": 64,
    "start_time": "2021-11-14T09:26:43.743Z"
   },
   {
    "duration": 14,
    "start_time": "2021-11-14T09:26:43.810Z"
   },
   {
    "duration": 96,
    "start_time": "2021-11-14T09:26:43.828Z"
   },
   {
    "duration": 8,
    "start_time": "2021-11-14T09:26:43.928Z"
   },
   {
    "duration": 6,
    "start_time": "2021-11-14T09:26:43.939Z"
   },
   {
    "duration": 57,
    "start_time": "2021-11-14T09:26:43.948Z"
   },
   {
    "duration": 16,
    "start_time": "2021-11-14T09:26:44.008Z"
   },
   {
    "duration": 9,
    "start_time": "2021-11-14T09:26:44.027Z"
   },
   {
    "duration": 18,
    "start_time": "2021-11-14T09:26:44.039Z"
   },
   {
    "duration": 45,
    "start_time": "2021-11-14T09:26:44.059Z"
   },
   {
    "duration": 6,
    "start_time": "2021-11-14T09:26:44.107Z"
   },
   {
    "duration": 14,
    "start_time": "2021-11-14T09:26:44.116Z"
   },
   {
    "duration": 11,
    "start_time": "2021-11-14T09:26:44.133Z"
   },
   {
    "duration": 54,
    "start_time": "2021-11-14T09:26:44.147Z"
   },
   {
    "duration": 11,
    "start_time": "2021-11-14T09:26:44.204Z"
   },
   {
    "duration": 12,
    "start_time": "2021-11-14T09:26:44.218Z"
   },
   {
    "duration": 22,
    "start_time": "2021-11-14T09:26:44.232Z"
   },
   {
    "duration": 30,
    "start_time": "2021-11-14T09:26:44.301Z"
   },
   {
    "duration": 69,
    "start_time": "2021-11-14T09:26:44.333Z"
   },
   {
    "duration": 12,
    "start_time": "2021-11-14T09:26:44.404Z"
   },
   {
    "duration": 10,
    "start_time": "2021-11-14T09:27:23.640Z"
   },
   {
    "duration": 1894,
    "start_time": "2021-11-14T09:33:52.289Z"
   },
   {
    "duration": 939,
    "start_time": "2021-11-14T09:34:14.520Z"
   },
   {
    "duration": 3905,
    "start_time": "2021-11-14T09:34:19.337Z"
   },
   {
    "duration": 32,
    "start_time": "2021-11-14T09:34:56.597Z"
   },
   {
    "duration": 30,
    "start_time": "2021-11-14T09:35:51.984Z"
   },
   {
    "duration": 31,
    "start_time": "2021-11-14T09:36:04.942Z"
   },
   {
    "duration": 41,
    "start_time": "2021-11-14T09:36:32.805Z"
   },
   {
    "duration": 31,
    "start_time": "2021-11-14T09:36:41.074Z"
   },
   {
    "duration": 36,
    "start_time": "2021-11-14T09:38:24.788Z"
   },
   {
    "duration": 38,
    "start_time": "2021-11-14T09:40:41.768Z"
   },
   {
    "duration": 41,
    "start_time": "2021-11-14T09:41:28.810Z"
   },
   {
    "duration": 67,
    "start_time": "2021-11-14T09:42:45.776Z"
   },
   {
    "duration": 56,
    "start_time": "2021-11-14T09:43:49.454Z"
   },
   {
    "duration": 49,
    "start_time": "2021-11-14T09:43:55.581Z"
   },
   {
    "duration": 51,
    "start_time": "2021-11-14T09:44:25.935Z"
   },
   {
    "duration": 8,
    "start_time": "2021-11-14T09:47:05.384Z"
   },
   {
    "duration": 137,
    "start_time": "2021-11-14T09:51:33.775Z"
   },
   {
    "duration": 8072,
    "start_time": "2021-11-14T09:51:43.948Z"
   },
   {
    "duration": 4188,
    "start_time": "2021-11-14T09:52:32.550Z"
   },
   {
    "duration": 4249,
    "start_time": "2021-11-14T09:52:45.834Z"
   },
   {
    "duration": 4026,
    "start_time": "2021-11-14T09:57:23.241Z"
   },
   {
    "duration": 3804,
    "start_time": "2021-11-14T09:57:51.658Z"
   },
   {
    "duration": 3891,
    "start_time": "2021-11-14T09:58:03.386Z"
   },
   {
    "duration": 4482,
    "start_time": "2021-11-14T09:58:55.196Z"
   },
   {
    "duration": 3927,
    "start_time": "2021-11-14T09:59:04.442Z"
   },
   {
    "duration": 127,
    "start_time": "2021-11-14T09:59:10.932Z"
   },
   {
    "duration": 3757,
    "start_time": "2021-11-14T09:59:14.843Z"
   },
   {
    "duration": 160,
    "start_time": "2021-11-14T10:00:18.235Z"
   },
   {
    "duration": 64490,
    "start_time": "2021-11-14T10:01:16.938Z"
   },
   {
    "duration": 57887,
    "start_time": "2021-11-14T10:02:52.260Z"
   },
   {
    "duration": 3575,
    "start_time": "2021-11-14T10:03:50.151Z"
   },
   {
    "duration": 82,
    "start_time": "2021-11-14T10:09:13.620Z"
   },
   {
    "duration": 80,
    "start_time": "2021-11-14T10:09:41.880Z"
   },
   {
    "duration": 104,
    "start_time": "2021-11-14T10:10:28.202Z"
   },
   {
    "duration": 470,
    "start_time": "2021-11-14T10:11:18.455Z"
   },
   {
    "duration": 432,
    "start_time": "2021-11-14T10:11:29.662Z"
   },
   {
    "duration": 417,
    "start_time": "2021-11-14T10:11:38.474Z"
   },
   {
    "duration": 494,
    "start_time": "2021-11-14T10:11:53.895Z"
   },
   {
    "duration": 63,
    "start_time": "2021-11-14T10:12:15.501Z"
   },
   {
    "duration": 567,
    "start_time": "2021-11-15T02:34:11.863Z"
   },
   {
    "duration": 3,
    "start_time": "2021-11-15T02:34:12.432Z"
   },
   {
    "duration": 56,
    "start_time": "2021-11-15T02:34:12.437Z"
   },
   {
    "duration": 8,
    "start_time": "2021-11-15T02:34:12.495Z"
   },
   {
    "duration": 12,
    "start_time": "2021-11-15T02:34:12.505Z"
   },
   {
    "duration": 34,
    "start_time": "2021-11-15T02:34:12.518Z"
   },
   {
    "duration": 9,
    "start_time": "2021-11-15T02:34:12.554Z"
   },
   {
    "duration": 42,
    "start_time": "2021-11-15T02:34:12.565Z"
   },
   {
    "duration": 5,
    "start_time": "2021-11-15T02:34:12.609Z"
   },
   {
    "duration": 29,
    "start_time": "2021-11-15T02:34:12.616Z"
   },
   {
    "duration": 6,
    "start_time": "2021-11-15T02:34:16.097Z"
   },
   {
    "duration": 14,
    "start_time": "2021-11-15T02:34:16.647Z"
   },
   {
    "duration": 12,
    "start_time": "2021-11-15T02:35:18.120Z"
   },
   {
    "duration": 2,
    "start_time": "2021-11-15T02:41:10.820Z"
   },
   {
    "duration": 5,
    "start_time": "2021-11-15T02:41:10.824Z"
   },
   {
    "duration": 52,
    "start_time": "2021-11-15T02:41:10.831Z"
   },
   {
    "duration": 3,
    "start_time": "2021-11-15T02:41:10.885Z"
   },
   {
    "duration": 13,
    "start_time": "2021-11-15T02:41:10.890Z"
   },
   {
    "duration": 46,
    "start_time": "2021-11-15T02:41:10.905Z"
   },
   {
    "duration": 10,
    "start_time": "2021-11-15T02:41:10.952Z"
   },
   {
    "duration": 45,
    "start_time": "2021-11-15T02:41:10.964Z"
   },
   {
    "duration": 34,
    "start_time": "2021-11-15T02:41:11.011Z"
   },
   {
    "duration": 5,
    "start_time": "2021-11-15T02:41:11.047Z"
   },
   {
    "duration": 15,
    "start_time": "2021-11-15T02:41:11.054Z"
   },
   {
    "duration": 10,
    "start_time": "2021-11-15T02:41:11.071Z"
   },
   {
    "duration": 7,
    "start_time": "2021-11-15T02:41:11.083Z"
   },
   {
    "duration": 57,
    "start_time": "2021-11-15T02:41:11.091Z"
   },
   {
    "duration": 5,
    "start_time": "2021-11-15T02:41:11.150Z"
   },
   {
    "duration": 5,
    "start_time": "2021-11-15T02:41:11.157Z"
   },
   {
    "duration": 10,
    "start_time": "2021-11-15T02:41:11.163Z"
   },
   {
    "duration": 7,
    "start_time": "2021-11-15T02:41:11.175Z"
   },
   {
    "duration": 4,
    "start_time": "2021-11-15T02:41:11.184Z"
   },
   {
    "duration": 8,
    "start_time": "2021-11-15T02:41:11.189Z"
   },
   {
    "duration": 7,
    "start_time": "2021-11-15T02:41:11.245Z"
   },
   {
    "duration": 13,
    "start_time": "2021-11-15T02:41:11.254Z"
   },
   {
    "duration": 19,
    "start_time": "2021-11-15T02:41:11.268Z"
   },
   {
    "duration": 64,
    "start_time": "2021-11-15T02:41:11.288Z"
   },
   {
    "duration": 8,
    "start_time": "2021-11-15T02:41:11.353Z"
   },
   {
    "duration": 13,
    "start_time": "2021-11-15T02:41:11.364Z"
   },
   {
    "duration": 34,
    "start_time": "2021-11-15T02:41:11.378Z"
   },
   {
    "duration": 50,
    "start_time": "2021-11-15T02:41:11.414Z"
   },
   {
    "duration": 672,
    "start_time": "2021-11-15T02:41:11.465Z"
   },
   {
    "duration": 38594,
    "start_time": "2021-11-15T02:41:12.144Z"
   },
   {
    "duration": 3189,
    "start_time": "2021-11-15T02:41:50.739Z"
   },
   {
    "duration": 50,
    "start_time": "2021-11-15T02:41:55.725Z"
   },
   {
    "duration": 13,
    "start_time": "2021-11-15T02:43:59.224Z"
   },
   {
    "duration": 13,
    "start_time": "2021-11-15T02:44:17.509Z"
   },
   {
    "duration": 13,
    "start_time": "2021-11-15T02:45:15.031Z"
   },
   {
    "duration": 39122,
    "start_time": "2021-11-15T02:45:46.868Z"
   },
   {
    "duration": 43,
    "start_time": "2021-11-15T02:46:32.490Z"
   },
   {
    "duration": 12,
    "start_time": "2021-11-15T02:46:42.257Z"
   },
   {
    "duration": 13,
    "start_time": "2021-11-15T02:46:43.893Z"
   },
   {
    "duration": 12,
    "start_time": "2021-11-15T02:46:46.440Z"
   },
   {
    "duration": 12,
    "start_time": "2021-11-15T02:47:53.103Z"
   },
   {
    "duration": 12,
    "start_time": "2021-11-15T02:48:11.423Z"
   },
   {
    "duration": 27,
    "start_time": "2021-11-15T02:48:55.968Z"
   },
   {
    "duration": 5,
    "start_time": "2021-11-15T02:53:15.322Z"
   },
   {
    "duration": 5,
    "start_time": "2021-11-15T03:00:31.722Z"
   },
   {
    "duration": 5,
    "start_time": "2021-11-15T03:02:21.483Z"
   },
   {
    "duration": 742,
    "start_time": "2021-11-15T08:57:29.992Z"
   },
   {
    "duration": 6,
    "start_time": "2021-11-15T08:57:30.736Z"
   },
   {
    "duration": 74,
    "start_time": "2021-11-15T08:57:30.744Z"
   },
   {
    "duration": 14,
    "start_time": "2021-11-15T08:57:30.821Z"
   },
   {
    "duration": 42,
    "start_time": "2021-11-15T08:57:30.837Z"
   },
   {
    "duration": 42,
    "start_time": "2021-11-15T08:57:30.882Z"
   },
   {
    "duration": 45,
    "start_time": "2021-11-15T08:57:30.927Z"
   },
   {
    "duration": 70,
    "start_time": "2021-11-15T08:57:30.978Z"
   },
   {
    "duration": 6,
    "start_time": "2021-11-15T08:57:31.067Z"
   },
   {
    "duration": 23,
    "start_time": "2021-11-15T08:57:31.076Z"
   },
   {
    "duration": 29,
    "start_time": "2021-11-15T08:57:31.101Z"
   },
   {
    "duration": 48,
    "start_time": "2021-11-15T08:57:31.133Z"
   },
   {
    "duration": 12,
    "start_time": "2021-11-15T08:57:31.183Z"
   },
   {
    "duration": 20,
    "start_time": "2021-11-15T08:57:31.198Z"
   },
   {
    "duration": 48,
    "start_time": "2021-11-15T08:57:31.221Z"
   },
   {
    "duration": 5,
    "start_time": "2021-11-15T08:57:31.271Z"
   },
   {
    "duration": 16,
    "start_time": "2021-11-15T08:57:31.279Z"
   },
   {
    "duration": 9,
    "start_time": "2021-11-15T08:57:31.297Z"
   },
   {
    "duration": 9,
    "start_time": "2021-11-15T08:57:31.308Z"
   },
   {
    "duration": 48,
    "start_time": "2021-11-15T08:57:31.320Z"
   },
   {
    "duration": 10,
    "start_time": "2021-11-15T08:57:31.371Z"
   },
   {
    "duration": 21,
    "start_time": "2021-11-15T08:57:31.384Z"
   },
   {
    "duration": 63,
    "start_time": "2021-11-15T08:57:31.410Z"
   },
   {
    "duration": 26,
    "start_time": "2021-11-15T08:57:31.475Z"
   },
   {
    "duration": 24,
    "start_time": "2021-11-15T08:57:34.166Z"
   },
   {
    "duration": 24,
    "start_time": "2021-11-15T08:57:57.005Z"
   },
   {
    "duration": 12,
    "start_time": "2021-11-15T08:58:05.407Z"
   },
   {
    "duration": 401,
    "start_time": "2021-11-15T08:59:20.889Z"
   },
   {
    "duration": 13,
    "start_time": "2021-11-15T08:59:34.218Z"
   },
   {
    "duration": 10,
    "start_time": "2021-11-15T08:59:34.756Z"
   },
   {
    "duration": 51,
    "start_time": "2021-11-15T08:59:36.767Z"
   },
   {
    "duration": 42,
    "start_time": "2021-11-15T08:59:38.930Z"
   },
   {
    "duration": 914,
    "start_time": "2021-11-15T08:59:40.342Z"
   },
   {
    "duration": 60379,
    "start_time": "2021-11-15T08:59:43.636Z"
   },
   {
    "duration": 3760,
    "start_time": "2021-11-15T09:00:44.018Z"
   },
   {
    "duration": 95,
    "start_time": "2021-11-15T09:06:43.077Z"
   },
   {
    "duration": 731,
    "start_time": "2021-11-15T09:10:01.266Z"
   },
   {
    "duration": 839,
    "start_time": "2021-11-15T09:11:40.410Z"
   },
   {
    "duration": 7570,
    "start_time": "2021-11-15T09:11:47.596Z"
   },
   {
    "duration": 299,
    "start_time": "2021-11-15T09:12:08.728Z"
   },
   {
    "duration": 20,
    "start_time": "2021-11-15T09:12:45.677Z"
   },
   {
    "duration": 295,
    "start_time": "2021-11-15T09:12:58.551Z"
   },
   {
    "duration": 279,
    "start_time": "2021-11-15T09:13:15.273Z"
   },
   {
    "duration": 309,
    "start_time": "2021-11-15T09:22:47.460Z"
   },
   {
    "duration": 287,
    "start_time": "2021-11-15T09:22:55.362Z"
   },
   {
    "duration": 297,
    "start_time": "2021-11-15T09:23:51.733Z"
   },
   {
    "duration": 272,
    "start_time": "2021-11-15T09:24:05.074Z"
   },
   {
    "duration": 354,
    "start_time": "2021-11-15T09:25:15.312Z"
   },
   {
    "duration": 243,
    "start_time": "2021-11-15T09:26:01.047Z"
   },
   {
    "duration": 272,
    "start_time": "2021-11-15T09:26:36.580Z"
   },
   {
    "duration": 271,
    "start_time": "2021-11-15T09:30:54.488Z"
   },
   {
    "duration": 251,
    "start_time": "2021-11-15T09:31:24.657Z"
   },
   {
    "duration": 265,
    "start_time": "2021-11-15T09:31:27.435Z"
   },
   {
    "duration": 276,
    "start_time": "2021-11-15T09:57:13.270Z"
   },
   {
    "duration": 306,
    "start_time": "2021-11-15T09:57:19.549Z"
   },
   {
    "duration": 296,
    "start_time": "2021-11-15T09:57:38.428Z"
   },
   {
    "duration": 284,
    "start_time": "2021-11-15T09:57:45.507Z"
   },
   {
    "duration": 313,
    "start_time": "2021-11-15T10:03:10.723Z"
   },
   {
    "duration": 361,
    "start_time": "2021-11-16T02:31:38.181Z"
   },
   {
    "duration": 1511,
    "start_time": "2021-11-16T02:31:56.117Z"
   },
   {
    "duration": 5,
    "start_time": "2021-11-16T02:31:57.630Z"
   },
   {
    "duration": 357,
    "start_time": "2021-11-16T02:31:57.644Z"
   },
   {
    "duration": 5,
    "start_time": "2021-11-16T02:31:58.003Z"
   },
   {
    "duration": 16,
    "start_time": "2021-11-16T02:31:58.009Z"
   },
   {
    "duration": 24,
    "start_time": "2021-11-16T02:31:58.027Z"
   },
   {
    "duration": 13,
    "start_time": "2021-11-16T02:31:58.053Z"
   },
   {
    "duration": 46,
    "start_time": "2021-11-16T02:32:06.108Z"
   },
   {
    "duration": 314,
    "start_time": "2021-11-16T02:33:41.938Z"
   },
   {
    "duration": 477,
    "start_time": "2021-11-16T02:33:49.064Z"
   },
   {
    "duration": 269,
    "start_time": "2021-11-16T02:34:27.203Z"
   },
   {
    "duration": 10,
    "start_time": "2021-11-16T02:34:47.782Z"
   },
   {
    "duration": 377,
    "start_time": "2021-11-16T02:35:01.947Z"
   },
   {
    "duration": 341,
    "start_time": "2021-11-16T02:35:20.572Z"
   },
   {
    "duration": 338,
    "start_time": "2021-11-16T02:36:02.350Z"
   },
   {
    "duration": 379,
    "start_time": "2021-11-16T02:36:41.650Z"
   },
   {
    "duration": 398,
    "start_time": "2021-11-16T02:38:24.699Z"
   },
   {
    "duration": 9,
    "start_time": "2021-11-16T02:38:25.670Z"
   },
   {
    "duration": 16,
    "start_time": "2021-11-16T02:38:26.509Z"
   },
   {
    "duration": 5,
    "start_time": "2021-11-16T02:38:28.897Z"
   },
   {
    "duration": 4,
    "start_time": "2021-11-16T02:38:29.822Z"
   },
   {
    "duration": 17,
    "start_time": "2021-11-16T02:38:33.179Z"
   },
   {
    "duration": 475,
    "start_time": "2021-11-16T02:38:43.844Z"
   },
   {
    "duration": 11,
    "start_time": "2021-11-16T02:39:08.065Z"
   },
   {
    "duration": 6,
    "start_time": "2021-11-16T02:39:11.629Z"
   },
   {
    "duration": 161,
    "start_time": "2021-11-16T02:39:14.357Z"
   },
   {
    "duration": 164,
    "start_time": "2021-11-16T02:39:33.002Z"
   },
   {
    "duration": 495,
    "start_time": "2021-11-16T02:40:09.641Z"
   },
   {
    "duration": 3,
    "start_time": "2021-11-16T02:40:33.498Z"
   },
   {
    "duration": 12,
    "start_time": "2021-11-16T02:40:33.503Z"
   },
   {
    "duration": 63,
    "start_time": "2021-11-16T02:40:33.517Z"
   },
   {
    "duration": 4,
    "start_time": "2021-11-16T02:40:33.582Z"
   },
   {
    "duration": 11,
    "start_time": "2021-11-16T02:40:33.587Z"
   },
   {
    "duration": 45,
    "start_time": "2021-11-16T02:40:33.600Z"
   },
   {
    "duration": 319,
    "start_time": "2021-11-16T02:40:33.647Z"
   },
   {
    "duration": 354,
    "start_time": "2021-11-16T02:40:33.968Z"
   },
   {
    "duration": 20,
    "start_time": "2021-11-16T02:40:34.324Z"
   },
   {
    "duration": 49,
    "start_time": "2021-11-16T02:40:34.347Z"
   },
   {
    "duration": 4,
    "start_time": "2021-11-16T02:40:34.398Z"
   },
   {
    "duration": 6,
    "start_time": "2021-11-16T02:40:34.404Z"
   },
   {
    "duration": 47,
    "start_time": "2021-11-16T02:40:34.412Z"
   },
   {
    "duration": 12,
    "start_time": "2021-11-16T02:40:34.461Z"
   },
   {
    "duration": 15,
    "start_time": "2021-11-16T02:40:36.845Z"
   },
   {
    "duration": 10,
    "start_time": "2021-11-16T02:40:37.248Z"
   },
   {
    "duration": 489,
    "start_time": "2021-11-16T02:40:37.855Z"
   },
   {
    "duration": 3,
    "start_time": "2021-11-16T02:41:11.278Z"
   },
   {
    "duration": 14,
    "start_time": "2021-11-16T02:41:11.283Z"
   },
   {
    "duration": 61,
    "start_time": "2021-11-16T02:41:11.299Z"
   },
   {
    "duration": 4,
    "start_time": "2021-11-16T02:41:11.362Z"
   },
   {
    "duration": 13,
    "start_time": "2021-11-16T02:41:11.368Z"
   },
   {
    "duration": 24,
    "start_time": "2021-11-16T02:41:11.383Z"
   },
   {
    "duration": 350,
    "start_time": "2021-11-16T02:41:11.409Z"
   },
   {
    "duration": 368,
    "start_time": "2021-11-16T02:41:11.761Z"
   },
   {
    "duration": 19,
    "start_time": "2021-11-16T02:41:12.132Z"
   },
   {
    "duration": 48,
    "start_time": "2021-11-16T02:41:12.154Z"
   },
   {
    "duration": 4,
    "start_time": "2021-11-16T02:41:12.204Z"
   },
   {
    "duration": 7,
    "start_time": "2021-11-16T02:41:12.210Z"
   },
   {
    "duration": 41,
    "start_time": "2021-11-16T02:41:12.219Z"
   },
   {
    "duration": 12,
    "start_time": "2021-11-16T02:41:17.126Z"
   },
   {
    "duration": 6,
    "start_time": "2021-11-16T02:41:18.516Z"
   },
   {
    "duration": 496,
    "start_time": "2021-11-16T02:41:18.523Z"
   },
   {
    "duration": 3,
    "start_time": "2021-11-16T03:09:28.136Z"
   },
   {
    "duration": 6,
    "start_time": "2021-11-16T03:09:28.141Z"
   },
   {
    "duration": 54,
    "start_time": "2021-11-16T03:09:28.149Z"
   },
   {
    "duration": 3,
    "start_time": "2021-11-16T03:09:28.205Z"
   },
   {
    "duration": 16,
    "start_time": "2021-11-16T03:09:28.210Z"
   },
   {
    "duration": 34,
    "start_time": "2021-11-16T03:09:28.227Z"
   },
   {
    "duration": 9,
    "start_time": "2021-11-16T03:09:28.263Z"
   },
   {
    "duration": 42,
    "start_time": "2021-11-16T03:09:28.273Z"
   },
   {
    "duration": 4,
    "start_time": "2021-11-16T03:09:28.318Z"
   },
   {
    "duration": 4,
    "start_time": "2021-11-16T03:09:28.345Z"
   },
   {
    "duration": 35,
    "start_time": "2021-11-16T03:09:28.351Z"
   },
   {
    "duration": 10,
    "start_time": "2021-11-16T03:09:28.388Z"
   },
   {
    "duration": 8,
    "start_time": "2021-11-16T03:09:28.400Z"
   },
   {
    "duration": 20,
    "start_time": "2021-11-16T03:09:28.409Z"
   },
   {
    "duration": 10,
    "start_time": "2021-11-16T03:09:28.431Z"
   },
   {
    "duration": 6,
    "start_time": "2021-11-16T03:09:28.444Z"
   },
   {
    "duration": 16,
    "start_time": "2021-11-16T03:09:28.452Z"
   },
   {
    "duration": 13,
    "start_time": "2021-11-16T03:09:28.470Z"
   },
   {
    "duration": 13,
    "start_time": "2021-11-16T03:09:28.485Z"
   },
   {
    "duration": 7,
    "start_time": "2021-11-16T03:09:28.500Z"
   },
   {
    "duration": 6,
    "start_time": "2021-11-16T03:09:28.509Z"
   },
   {
    "duration": 27,
    "start_time": "2021-11-16T03:09:28.517Z"
   },
   {
    "duration": 19,
    "start_time": "2021-11-16T03:09:28.546Z"
   },
   {
    "duration": 19,
    "start_time": "2021-11-16T03:09:28.566Z"
   },
   {
    "duration": 16,
    "start_time": "2021-11-16T03:09:28.587Z"
   },
   {
    "duration": 7,
    "start_time": "2021-11-16T03:09:28.604Z"
   },
   {
    "duration": 33,
    "start_time": "2021-11-16T03:09:28.614Z"
   },
   {
    "duration": 36,
    "start_time": "2021-11-16T03:09:28.649Z"
   },
   {
    "duration": 26,
    "start_time": "2021-11-16T03:09:28.686Z"
   },
   {
    "duration": 675,
    "start_time": "2021-11-16T03:09:28.714Z"
   },
   {
    "duration": 38381,
    "start_time": "2021-11-16T03:09:29.391Z"
   },
   {
    "duration": 2932,
    "start_time": "2021-11-16T03:10:07.773Z"
   },
   {
    "duration": 69,
    "start_time": "2021-11-16T03:10:10.707Z"
   },
   {
    "duration": 205,
    "start_time": "2021-11-16T03:10:10.777Z"
   },
   {
    "duration": 180,
    "start_time": "2021-11-16T03:10:10.983Z"
   },
   {
    "duration": 229,
    "start_time": "2021-11-16T03:10:11.165Z"
   },
   {
    "duration": 167,
    "start_time": "2021-11-16T03:10:11.396Z"
   },
   {
    "duration": 286,
    "start_time": "2021-11-16T03:28:57.008Z"
   },
   {
    "duration": 4,
    "start_time": "2021-11-16T03:29:13.156Z"
   },
   {
    "duration": 4,
    "start_time": "2021-11-16T03:29:23.342Z"
   },
   {
    "duration": 4,
    "start_time": "2021-11-16T03:29:35.553Z"
   },
   {
    "duration": 1513,
    "start_time": "2021-11-16T08:07:29.313Z"
   },
   {
    "duration": 4,
    "start_time": "2021-11-16T08:07:30.829Z"
   },
   {
    "duration": 67,
    "start_time": "2021-11-16T08:07:30.836Z"
   },
   {
    "duration": 9,
    "start_time": "2021-11-16T08:07:30.907Z"
   },
   {
    "duration": 18,
    "start_time": "2021-11-16T08:07:30.919Z"
   },
   {
    "duration": 36,
    "start_time": "2021-11-16T08:07:30.960Z"
   },
   {
    "duration": 14,
    "start_time": "2021-11-16T08:07:30.998Z"
   },
   {
    "duration": 103,
    "start_time": "2021-11-16T08:07:31.017Z"
   },
   {
    "duration": 7,
    "start_time": "2021-11-16T08:07:31.124Z"
   },
   {
    "duration": 32,
    "start_time": "2021-11-16T08:07:31.134Z"
   },
   {
    "duration": 36,
    "start_time": "2021-11-16T08:07:31.169Z"
   },
   {
    "duration": 16,
    "start_time": "2021-11-16T08:07:31.208Z"
   },
   {
    "duration": 36,
    "start_time": "2021-11-16T08:07:31.227Z"
   },
   {
    "duration": 21,
    "start_time": "2021-11-16T08:07:31.266Z"
   },
   {
    "duration": 16,
    "start_time": "2021-11-16T08:07:31.289Z"
   },
   {
    "duration": 15,
    "start_time": "2021-11-16T08:07:31.307Z"
   },
   {
    "duration": 27,
    "start_time": "2021-11-16T08:07:31.325Z"
   },
   {
    "duration": 14,
    "start_time": "2021-11-16T08:07:31.360Z"
   },
   {
    "duration": 23,
    "start_time": "2021-11-16T08:07:31.376Z"
   },
   {
    "duration": 14,
    "start_time": "2021-11-16T08:07:31.401Z"
   },
   {
    "duration": 11,
    "start_time": "2021-11-16T08:07:31.418Z"
   },
   {
    "duration": 38,
    "start_time": "2021-11-16T08:07:31.431Z"
   },
   {
    "duration": 28,
    "start_time": "2021-11-16T08:07:31.473Z"
   },
   {
    "duration": 26,
    "start_time": "2021-11-16T08:07:31.504Z"
   },
   {
    "duration": 45,
    "start_time": "2021-11-16T08:07:31.532Z"
   },
   {
    "duration": 26,
    "start_time": "2021-11-16T08:07:31.579Z"
   },
   {
    "duration": 26,
    "start_time": "2021-11-16T08:07:31.608Z"
   },
   {
    "duration": 56,
    "start_time": "2021-11-16T08:07:31.636Z"
   },
   {
    "duration": 40,
    "start_time": "2021-11-16T08:07:31.694Z"
   },
   {
    "duration": 926,
    "start_time": "2021-11-16T08:07:31.736Z"
   },
   {
    "duration": 56320,
    "start_time": "2021-11-16T08:07:32.665Z"
   },
   {
    "duration": 4135,
    "start_time": "2021-11-16T08:08:28.988Z"
   },
   {
    "duration": 88,
    "start_time": "2021-11-16T08:08:33.125Z"
   },
   {
    "duration": 6,
    "start_time": "2021-11-16T08:08:33.217Z"
   },
   {
    "duration": 355,
    "start_time": "2021-11-16T08:08:33.226Z"
   },
   {
    "duration": 284,
    "start_time": "2021-11-16T08:08:33.584Z"
   },
   {
    "duration": 261,
    "start_time": "2021-11-16T08:08:33.871Z"
   },
   {
    "duration": 269,
    "start_time": "2021-11-16T08:08:43.355Z"
   },
   {
    "duration": 906,
    "start_time": "2021-11-16T09:04:29.519Z"
   },
   {
    "duration": 167,
    "start_time": "2021-11-16T09:05:18.663Z"
   },
   {
    "duration": 188,
    "start_time": "2021-11-16T09:05:21.098Z"
   },
   {
    "duration": 951,
    "start_time": "2021-11-16T09:05:24.147Z"
   },
   {
    "duration": 908,
    "start_time": "2021-11-16T09:07:24.612Z"
   },
   {
    "duration": 916,
    "start_time": "2021-11-16T09:07:43.072Z"
   },
   {
    "duration": 3847,
    "start_time": "2021-11-16T09:10:47.921Z"
   },
   {
    "duration": 3609,
    "start_time": "2021-11-16T09:13:36.868Z"
   },
   {
    "duration": 66,
    "start_time": "2021-11-16T09:14:20.312Z"
   },
   {
    "duration": 5,
    "start_time": "2021-11-16T09:14:30.116Z"
   },
   {
    "duration": 266,
    "start_time": "2021-11-16T09:14:32.926Z"
   },
   {
    "duration": 277,
    "start_time": "2021-11-16T09:14:40.004Z"
   },
   {
    "duration": 292,
    "start_time": "2021-11-16T09:14:43.484Z"
   },
   {
    "duration": 247,
    "start_time": "2021-11-16T09:14:46.875Z"
   },
   {
    "duration": 1535,
    "start_time": "2021-11-18T02:37:47.678Z"
   },
   {
    "duration": 4,
    "start_time": "2021-11-18T02:37:49.216Z"
   },
   {
    "duration": 70,
    "start_time": "2021-11-18T02:37:49.223Z"
   },
   {
    "duration": 8,
    "start_time": "2021-11-18T02:37:49.295Z"
   },
   {
    "duration": 19,
    "start_time": "2021-11-18T02:37:49.305Z"
   },
   {
    "duration": 58,
    "start_time": "2021-11-18T02:37:49.326Z"
   },
   {
    "duration": 12,
    "start_time": "2021-11-18T02:37:49.387Z"
   },
   {
    "duration": 100,
    "start_time": "2021-11-18T02:37:49.402Z"
   },
   {
    "duration": 6,
    "start_time": "2021-11-18T02:37:49.504Z"
   },
   {
    "duration": 6,
    "start_time": "2021-11-18T02:38:59.266Z"
   },
   {
    "duration": 23,
    "start_time": "2021-11-18T02:39:21.571Z"
   },
   {
    "duration": 22,
    "start_time": "2021-11-18T02:40:00.405Z"
   },
   {
    "duration": 22,
    "start_time": "2021-11-18T02:42:59.870Z"
   },
   {
    "duration": 499,
    "start_time": "2021-11-18T02:43:46.249Z"
   },
   {
    "duration": 673,
    "start_time": "2021-11-18T02:44:32.207Z"
   },
   {
    "duration": 7,
    "start_time": "2021-11-18T02:50:31.525Z"
   },
   {
    "duration": 2591,
    "start_time": "2021-11-18T02:55:53.480Z"
   },
   {
    "duration": 2552,
    "start_time": "2021-11-18T02:56:05.141Z"
   },
   {
    "duration": 45,
    "start_time": "2021-11-18T02:56:58.385Z"
   },
   {
    "duration": 38,
    "start_time": "2021-11-18T02:59:08.518Z"
   },
   {
    "duration": 39,
    "start_time": "2021-11-18T02:59:43.435Z"
   },
   {
    "duration": 36,
    "start_time": "2021-11-18T03:00:49.106Z"
   },
   {
    "duration": 36,
    "start_time": "2021-11-18T03:00:53.344Z"
   },
   {
    "duration": 52,
    "start_time": "2021-11-18T03:01:06.128Z"
   },
   {
    "duration": 57,
    "start_time": "2021-11-18T03:01:14.294Z"
   },
   {
    "duration": 2415,
    "start_time": "2021-11-18T03:08:19.790Z"
   },
   {
    "duration": 56,
    "start_time": "2021-11-18T03:08:34.289Z"
   },
   {
    "duration": 31,
    "start_time": "2021-11-18T03:10:20.502Z"
   },
   {
    "duration": 30,
    "start_time": "2021-11-18T03:10:52.357Z"
   },
   {
    "duration": 64,
    "start_time": "2021-11-18T03:11:10.643Z"
   },
   {
    "duration": 49,
    "start_time": "2021-11-18T03:12:11.571Z"
   },
   {
    "duration": 320,
    "start_time": "2021-11-18T03:17:35.185Z"
   },
   {
    "duration": 46,
    "start_time": "2021-11-18T03:18:36.307Z"
   },
   {
    "duration": 48,
    "start_time": "2021-11-18T03:18:53.154Z"
   },
   {
    "duration": 45,
    "start_time": "2021-11-18T03:19:10.634Z"
   },
   {
    "duration": 1218,
    "start_time": "2021-11-18T03:19:47.564Z"
   },
   {
    "duration": 7867,
    "start_time": "2021-11-18T03:19:58.055Z"
   },
   {
    "duration": 92,
    "start_time": "2021-11-18T03:20:17.088Z"
   },
   {
    "duration": 68,
    "start_time": "2021-11-18T03:20:51.764Z"
   },
   {
    "duration": 546,
    "start_time": "2021-11-18T03:21:27.366Z"
   },
   {
    "duration": 528,
    "start_time": "2021-11-18T03:22:16.877Z"
   },
   {
    "duration": 46,
    "start_time": "2021-11-18T03:24:18.947Z"
   },
   {
    "duration": 46,
    "start_time": "2021-11-18T03:25:17.436Z"
   },
   {
    "duration": 66,
    "start_time": "2021-11-18T03:26:23.949Z"
   },
   {
    "duration": 28,
    "start_time": "2021-11-18T03:29:34.482Z"
   },
   {
    "duration": 26,
    "start_time": "2021-11-18T03:29:57.358Z"
   },
   {
    "duration": 26,
    "start_time": "2021-11-18T03:30:29.252Z"
   },
   {
    "duration": 25,
    "start_time": "2021-11-18T03:31:17.293Z"
   },
   {
    "duration": 25,
    "start_time": "2021-11-18T03:32:47.073Z"
   },
   {
    "duration": 28,
    "start_time": "2021-11-18T03:33:05.220Z"
   },
   {
    "duration": 29,
    "start_time": "2021-11-18T03:36:35.255Z"
   },
   {
    "duration": 35,
    "start_time": "2021-11-18T03:55:51.057Z"
   },
   {
    "duration": 22,
    "start_time": "2021-11-18T03:56:38.461Z"
   },
   {
    "duration": 20,
    "start_time": "2021-11-18T03:56:47.515Z"
   },
   {
    "duration": 735,
    "start_time": "2021-11-18T03:57:18.570Z"
   },
   {
    "duration": 1503,
    "start_time": "2021-11-18T03:58:28.460Z"
   },
   {
    "duration": 4,
    "start_time": "2021-11-18T03:58:29.968Z"
   },
   {
    "duration": 70,
    "start_time": "2021-11-18T03:58:29.976Z"
   },
   {
    "duration": 8,
    "start_time": "2021-11-18T03:58:30.049Z"
   },
   {
    "duration": 18,
    "start_time": "2021-11-18T03:58:30.068Z"
   },
   {
    "duration": 37,
    "start_time": "2021-11-18T03:58:30.088Z"
   },
   {
    "duration": 49,
    "start_time": "2021-11-18T03:58:30.128Z"
   },
   {
    "duration": 113,
    "start_time": "2021-11-18T03:58:30.182Z"
   },
   {
    "duration": 8,
    "start_time": "2021-11-18T03:58:30.298Z"
   },
   {
    "duration": 25,
    "start_time": "2021-11-18T03:58:30.308Z"
   },
   {
    "duration": 43,
    "start_time": "2021-11-18T03:58:30.335Z"
   },
   {
    "duration": 481,
    "start_time": "2021-11-18T03:58:30.381Z"
   },
   {
    "duration": 660,
    "start_time": "2021-11-18T03:58:30.867Z"
   },
   {
    "duration": 7,
    "start_time": "2021-11-18T03:58:31.529Z"
   },
   {
    "duration": 54,
    "start_time": "2021-11-18T03:58:31.539Z"
   },
   {
    "duration": 29,
    "start_time": "2021-11-18T04:00:05.442Z"
   },
   {
    "duration": 19,
    "start_time": "2021-11-18T04:00:16.459Z"
   },
   {
    "duration": 754,
    "start_time": "2021-11-18T04:00:19.569Z"
   },
   {
    "duration": 16,
    "start_time": "2021-11-18T04:00:37.764Z"
   },
   {
    "duration": 703,
    "start_time": "2021-11-18T04:00:38.879Z"
   },
   {
    "duration": 1506,
    "start_time": "2021-11-18T04:00:54.868Z"
   },
   {
    "duration": 4,
    "start_time": "2021-11-18T04:00:56.377Z"
   },
   {
    "duration": 74,
    "start_time": "2021-11-18T04:00:56.384Z"
   },
   {
    "duration": 8,
    "start_time": "2021-11-18T04:00:56.461Z"
   },
   {
    "duration": 19,
    "start_time": "2021-11-18T04:00:56.471Z"
   },
   {
    "duration": 36,
    "start_time": "2021-11-18T04:00:56.492Z"
   },
   {
    "duration": 46,
    "start_time": "2021-11-18T04:00:56.530Z"
   },
   {
    "duration": 88,
    "start_time": "2021-11-18T04:00:56.580Z"
   },
   {
    "duration": 6,
    "start_time": "2021-11-18T04:00:56.671Z"
   },
   {
    "duration": 11,
    "start_time": "2021-11-18T04:00:56.680Z"
   },
   {
    "duration": 23,
    "start_time": "2021-11-18T04:00:56.694Z"
   },
   {
    "duration": 524,
    "start_time": "2021-11-18T04:00:56.719Z"
   },
   {
    "duration": 643,
    "start_time": "2021-11-18T04:00:57.245Z"
   },
   {
    "duration": 7,
    "start_time": "2021-11-18T04:00:57.890Z"
   },
   {
    "duration": 35,
    "start_time": "2021-11-18T04:00:57.900Z"
   },
   {
    "duration": 17,
    "start_time": "2021-11-18T04:01:02.204Z"
   },
   {
    "duration": 712,
    "start_time": "2021-11-18T04:01:05.650Z"
   },
   {
    "duration": 7,
    "start_time": "2021-11-18T04:03:15.623Z"
   },
   {
    "duration": 17,
    "start_time": "2021-11-18T04:03:17.190Z"
   },
   {
    "duration": 721,
    "start_time": "2021-11-18T04:03:44.997Z"
   },
   {
    "duration": 767,
    "start_time": "2021-11-18T04:03:55.871Z"
   },
   {
    "duration": 597,
    "start_time": "2021-11-18T04:12:40.619Z"
   },
   {
    "duration": 28,
    "start_time": "2021-11-18T04:13:30.247Z"
   },
   {
    "duration": 1506,
    "start_time": "2021-11-18T04:24:04.039Z"
   },
   {
    "duration": 5,
    "start_time": "2021-11-18T04:24:05.548Z"
   },
   {
    "duration": 65,
    "start_time": "2021-11-18T04:24:05.567Z"
   },
   {
    "duration": 8,
    "start_time": "2021-11-18T04:24:05.635Z"
   },
   {
    "duration": 28,
    "start_time": "2021-11-18T04:24:05.645Z"
   },
   {
    "duration": 41,
    "start_time": "2021-11-18T04:24:05.675Z"
   },
   {
    "duration": 14,
    "start_time": "2021-11-18T04:24:05.718Z"
   },
   {
    "duration": 99,
    "start_time": "2021-11-18T04:24:05.736Z"
   },
   {
    "duration": 7,
    "start_time": "2021-11-18T04:24:05.839Z"
   },
   {
    "duration": 7,
    "start_time": "2021-11-18T04:24:05.868Z"
   },
   {
    "duration": 25,
    "start_time": "2021-11-18T04:24:05.878Z"
   },
   {
    "duration": 525,
    "start_time": "2021-11-18T04:24:05.905Z"
   },
   {
    "duration": 689,
    "start_time": "2021-11-18T04:24:06.433Z"
   },
   {
    "duration": 7,
    "start_time": "2021-11-18T04:24:07.125Z"
   },
   {
    "duration": 56,
    "start_time": "2021-11-18T04:24:07.136Z"
   },
   {
    "duration": 16,
    "start_time": "2021-11-18T04:24:07.194Z"
   },
   {
    "duration": 755,
    "start_time": "2021-11-18T04:24:07.212Z"
   },
   {
    "duration": 7,
    "start_time": "2021-11-18T04:24:07.969Z"
   },
   {
    "duration": 21,
    "start_time": "2021-11-18T04:24:07.978Z"
   },
   {
    "duration": 8,
    "start_time": "2021-11-18T04:24:08.001Z"
   },
   {
    "duration": 10,
    "start_time": "2021-11-18T04:24:08.011Z"
   },
   {
    "duration": 49,
    "start_time": "2021-11-18T04:24:08.023Z"
   },
   {
    "duration": 10,
    "start_time": "2021-11-18T04:24:08.077Z"
   },
   {
    "duration": 8,
    "start_time": "2021-11-18T04:24:08.090Z"
   },
   {
    "duration": 9,
    "start_time": "2021-11-18T04:24:08.100Z"
   },
   {
    "duration": 11,
    "start_time": "2021-11-18T04:24:08.119Z"
   },
   {
    "duration": 55,
    "start_time": "2021-11-18T04:24:08.132Z"
   },
   {
    "duration": 30,
    "start_time": "2021-11-18T04:24:08.189Z"
   },
   {
    "duration": 53,
    "start_time": "2021-11-18T04:24:08.221Z"
   },
   {
    "duration": 26,
    "start_time": "2021-11-18T04:24:08.277Z"
   },
   {
    "duration": 12,
    "start_time": "2021-11-18T04:24:08.305Z"
   },
   {
    "duration": 10,
    "start_time": "2021-11-18T04:24:08.319Z"
   },
   {
    "duration": 52,
    "start_time": "2021-11-18T04:24:08.367Z"
   },
   {
    "duration": 64,
    "start_time": "2021-11-18T04:24:08.421Z"
   },
   {
    "duration": 939,
    "start_time": "2021-11-18T04:24:08.488Z"
   },
   {
    "duration": 60122,
    "start_time": "2021-11-18T04:24:09.430Z"
   },
   {
    "duration": 3682,
    "start_time": "2021-11-18T04:25:09.555Z"
   },
   {
    "duration": 82,
    "start_time": "2021-11-18T04:25:13.240Z"
   },
   {
    "duration": 5,
    "start_time": "2021-11-18T04:25:13.325Z"
   },
   {
    "duration": 314,
    "start_time": "2021-11-18T04:25:13.368Z"
   },
   {
    "duration": 407,
    "start_time": "2021-11-18T04:25:13.685Z"
   },
   {
    "duration": 280,
    "start_time": "2021-11-18T04:25:14.095Z"
   },
   {
    "duration": 390,
    "start_time": "2021-11-18T04:25:14.377Z"
   },
   {
    "duration": 1514,
    "start_time": "2021-11-18T04:26:00.759Z"
   },
   {
    "duration": 5,
    "start_time": "2021-11-18T04:26:02.276Z"
   },
   {
    "duration": 72,
    "start_time": "2021-11-18T04:26:02.284Z"
   },
   {
    "duration": 10,
    "start_time": "2021-11-18T04:26:02.359Z"
   },
   {
    "duration": 18,
    "start_time": "2021-11-18T04:26:02.371Z"
   },
   {
    "duration": 33,
    "start_time": "2021-11-18T04:26:02.392Z"
   },
   {
    "duration": 45,
    "start_time": "2021-11-18T04:26:02.428Z"
   },
   {
    "duration": 67,
    "start_time": "2021-11-18T04:26:02.476Z"
   },
   {
    "duration": 24,
    "start_time": "2021-11-18T04:26:02.546Z"
   },
   {
    "duration": 17,
    "start_time": "2021-11-18T04:26:02.573Z"
   },
   {
    "duration": 30,
    "start_time": "2021-11-18T04:26:02.592Z"
   },
   {
    "duration": 526,
    "start_time": "2021-11-18T04:26:02.624Z"
   },
   {
    "duration": 681,
    "start_time": "2021-11-18T04:26:03.153Z"
   },
   {
    "duration": 7,
    "start_time": "2021-11-18T04:26:03.837Z"
   },
   {
    "duration": 46,
    "start_time": "2021-11-18T04:26:03.846Z"
   },
   {
    "duration": 17,
    "start_time": "2021-11-18T04:26:03.894Z"
   },
   {
    "duration": 810,
    "start_time": "2021-11-18T04:26:03.914Z"
   },
   {
    "duration": 8,
    "start_time": "2021-11-18T04:26:04.727Z"
   },
   {
    "duration": 37,
    "start_time": "2021-11-18T04:26:04.738Z"
   },
   {
    "duration": 10,
    "start_time": "2021-11-18T04:26:04.778Z"
   },
   {
    "duration": 7,
    "start_time": "2021-11-18T04:26:04.791Z"
   },
   {
    "duration": 14,
    "start_time": "2021-11-18T04:26:04.801Z"
   },
   {
    "duration": 11,
    "start_time": "2021-11-18T04:26:04.870Z"
   },
   {
    "duration": 6,
    "start_time": "2021-11-18T04:26:04.885Z"
   },
   {
    "duration": 9,
    "start_time": "2021-11-18T04:26:04.893Z"
   },
   {
    "duration": 11,
    "start_time": "2021-11-18T04:26:04.904Z"
   },
   {
    "duration": 67,
    "start_time": "2021-11-18T04:26:04.918Z"
   },
   {
    "duration": 31,
    "start_time": "2021-11-18T04:26:04.987Z"
   },
   {
    "duration": 56,
    "start_time": "2021-11-18T04:26:05.021Z"
   },
   {
    "duration": 27,
    "start_time": "2021-11-18T04:26:05.079Z"
   },
   {
    "duration": 13,
    "start_time": "2021-11-18T04:26:05.109Z"
   },
   {
    "duration": 49,
    "start_time": "2021-11-18T04:26:05.125Z"
   },
   {
    "duration": 53,
    "start_time": "2021-11-18T04:26:05.177Z"
   },
   {
    "duration": 64,
    "start_time": "2021-11-18T04:26:05.233Z"
   },
   {
    "duration": 949,
    "start_time": "2021-11-18T04:26:05.299Z"
   },
   {
    "duration": 43,
    "start_time": "2021-11-18T04:26:06.251Z"
   },
   {
    "duration": 3718,
    "start_time": "2021-11-18T04:26:06.297Z"
   },
   {
    "duration": 84,
    "start_time": "2021-11-18T04:26:10.018Z"
   },
   {
    "duration": 5,
    "start_time": "2021-11-18T04:26:10.104Z"
   },
   {
    "duration": 317,
    "start_time": "2021-11-18T04:26:10.111Z"
   },
   {
    "duration": 294,
    "start_time": "2021-11-18T04:26:10.431Z"
   },
   {
    "duration": 250,
    "start_time": "2021-11-18T04:26:10.727Z"
   },
   {
    "duration": 369,
    "start_time": "2021-11-18T04:26:10.979Z"
   },
   {
    "duration": 24,
    "start_time": "2021-11-18T04:34:31.471Z"
   },
   {
    "duration": 24,
    "start_time": "2021-11-18T04:34:54.035Z"
   },
   {
    "duration": 1534,
    "start_time": "2021-11-18T04:35:05.725Z"
   },
   {
    "duration": 6,
    "start_time": "2021-11-18T04:35:07.261Z"
   },
   {
    "duration": 68,
    "start_time": "2021-11-18T04:35:07.270Z"
   },
   {
    "duration": 7,
    "start_time": "2021-11-18T04:35:07.341Z"
   },
   {
    "duration": 29,
    "start_time": "2021-11-18T04:35:07.351Z"
   },
   {
    "duration": 36,
    "start_time": "2021-11-18T04:35:07.383Z"
   },
   {
    "duration": 48,
    "start_time": "2021-11-18T04:35:07.421Z"
   },
   {
    "duration": 65,
    "start_time": "2021-11-18T04:35:07.474Z"
   },
   {
    "duration": 26,
    "start_time": "2021-11-18T04:35:07.542Z"
   },
   {
    "duration": 6,
    "start_time": "2021-11-18T04:35:07.571Z"
   },
   {
    "duration": 26,
    "start_time": "2021-11-18T04:35:07.579Z"
   },
   {
    "duration": 539,
    "start_time": "2021-11-18T04:35:07.607Z"
   },
   {
    "duration": 676,
    "start_time": "2021-11-18T04:35:08.149Z"
   },
   {
    "duration": 7,
    "start_time": "2021-11-18T04:35:08.828Z"
   },
   {
    "duration": 66,
    "start_time": "2021-11-18T04:35:08.838Z"
   },
   {
    "duration": 26,
    "start_time": "2021-11-18T04:35:08.907Z"
   },
   {
    "duration": 21,
    "start_time": "2021-11-18T04:35:08.936Z"
   },
   {
    "duration": 765,
    "start_time": "2021-11-18T04:35:08.959Z"
   },
   {
    "duration": 7,
    "start_time": "2021-11-18T04:35:09.726Z"
   },
   {
    "duration": 39,
    "start_time": "2021-11-18T04:35:09.735Z"
   },
   {
    "duration": 7,
    "start_time": "2021-11-18T04:35:09.777Z"
   },
   {
    "duration": 9,
    "start_time": "2021-11-18T04:35:09.787Z"
   },
   {
    "duration": 14,
    "start_time": "2021-11-18T04:35:09.801Z"
   },
   {
    "duration": 48,
    "start_time": "2021-11-18T04:35:09.819Z"
   },
   {
    "duration": 6,
    "start_time": "2021-11-18T04:35:09.871Z"
   },
   {
    "duration": 14,
    "start_time": "2021-11-18T04:35:09.880Z"
   },
   {
    "duration": 22,
    "start_time": "2021-11-18T04:35:09.897Z"
   },
   {
    "duration": 54,
    "start_time": "2021-11-18T04:35:09.922Z"
   },
   {
    "duration": 32,
    "start_time": "2021-11-18T04:35:09.979Z"
   },
   {
    "duration": 56,
    "start_time": "2021-11-18T04:35:10.014Z"
   },
   {
    "duration": 26,
    "start_time": "2021-11-18T04:35:10.073Z"
   },
   {
    "duration": 15,
    "start_time": "2021-11-18T04:35:10.102Z"
   },
   {
    "duration": 49,
    "start_time": "2021-11-18T04:35:10.120Z"
   },
   {
    "duration": 61,
    "start_time": "2021-11-18T04:35:10.172Z"
   },
   {
    "duration": 69,
    "start_time": "2021-11-18T04:35:10.235Z"
   },
   {
    "duration": 928,
    "start_time": "2021-11-18T04:35:10.306Z"
   },
   {
    "duration": 50,
    "start_time": "2021-11-18T04:35:11.237Z"
   },
   {
    "duration": 3685,
    "start_time": "2021-11-18T04:35:11.289Z"
   },
   {
    "duration": 105,
    "start_time": "2021-11-18T04:35:14.976Z"
   },
   {
    "duration": 5,
    "start_time": "2021-11-18T04:35:15.084Z"
   },
   {
    "duration": 322,
    "start_time": "2021-11-18T04:35:15.092Z"
   },
   {
    "duration": 303,
    "start_time": "2021-11-18T04:35:15.416Z"
   },
   {
    "duration": 249,
    "start_time": "2021-11-18T04:35:15.721Z"
   },
   {
    "duration": 357,
    "start_time": "2021-11-18T04:35:15.973Z"
   },
   {
    "duration": 1509,
    "start_time": "2021-11-18T08:05:58.893Z"
   },
   {
    "duration": 6,
    "start_time": "2021-11-18T08:06:00.405Z"
   },
   {
    "duration": 77,
    "start_time": "2021-11-18T08:06:00.415Z"
   },
   {
    "duration": 8,
    "start_time": "2021-11-18T08:06:00.495Z"
   },
   {
    "duration": 34,
    "start_time": "2021-11-18T08:06:00.507Z"
   },
   {
    "duration": 55,
    "start_time": "2021-11-18T08:06:00.544Z"
   },
   {
    "duration": 15,
    "start_time": "2021-11-18T08:06:00.602Z"
   },
   {
    "duration": 86,
    "start_time": "2021-11-18T08:06:00.621Z"
   },
   {
    "duration": 59,
    "start_time": "2021-11-18T08:06:00.711Z"
   },
   {
    "duration": 6,
    "start_time": "2021-11-18T08:06:00.772Z"
   },
   {
    "duration": 31,
    "start_time": "2021-11-18T08:06:00.780Z"
   },
   {
    "duration": 815,
    "start_time": "2021-11-18T08:06:00.867Z"
   },
   {
    "duration": 704,
    "start_time": "2021-11-18T08:06:01.684Z"
   },
   {
    "duration": 6,
    "start_time": "2021-11-18T08:06:02.391Z"
   },
   {
    "duration": 37,
    "start_time": "2021-11-18T08:06:02.399Z"
   },
   {
    "duration": 42,
    "start_time": "2021-11-18T08:06:02.438Z"
   },
   {
    "duration": 757,
    "start_time": "2021-11-18T08:06:02.482Z"
   },
   {
    "duration": 24,
    "start_time": "2021-11-18T08:06:03.242Z"
   },
   {
    "duration": 19,
    "start_time": "2021-11-18T08:06:03.269Z"
   },
   {
    "duration": 10,
    "start_time": "2021-11-18T08:06:03.291Z"
   },
   {
    "duration": 5,
    "start_time": "2021-11-18T08:06:03.304Z"
   },
   {
    "duration": 18,
    "start_time": "2021-11-18T08:06:03.311Z"
   },
   {
    "duration": 11,
    "start_time": "2021-11-18T08:06:03.369Z"
   },
   {
    "duration": 6,
    "start_time": "2021-11-18T08:06:03.383Z"
   },
   {
    "duration": 18,
    "start_time": "2021-11-18T08:06:03.392Z"
   },
   {
    "duration": 13,
    "start_time": "2021-11-18T08:06:03.412Z"
   },
   {
    "duration": 56,
    "start_time": "2021-11-18T08:06:03.427Z"
   },
   {
    "duration": 45,
    "start_time": "2021-11-18T08:06:03.486Z"
   },
   {
    "duration": 67,
    "start_time": "2021-11-18T08:06:03.534Z"
   },
   {
    "duration": 26,
    "start_time": "2021-11-18T08:06:03.603Z"
   },
   {
    "duration": 40,
    "start_time": "2021-11-18T08:06:03.632Z"
   },
   {
    "duration": 13,
    "start_time": "2021-11-18T08:06:03.674Z"
   },
   {
    "duration": 62,
    "start_time": "2021-11-18T08:06:03.689Z"
   },
   {
    "duration": 45,
    "start_time": "2021-11-18T08:06:03.768Z"
   },
   {
    "duration": 952,
    "start_time": "2021-11-18T08:06:03.815Z"
   },
   {
    "duration": 37,
    "start_time": "2021-11-18T08:06:04.770Z"
   },
   {
    "duration": 3779,
    "start_time": "2021-11-18T08:06:04.810Z"
   },
   {
    "duration": 94,
    "start_time": "2021-11-18T08:06:08.592Z"
   },
   {
    "duration": 5,
    "start_time": "2021-11-18T08:06:08.689Z"
   },
   {
    "duration": 328,
    "start_time": "2021-11-18T08:06:08.696Z"
   },
   {
    "duration": 296,
    "start_time": "2021-11-18T08:06:09.027Z"
   },
   {
    "duration": 267,
    "start_time": "2021-11-18T08:06:09.326Z"
   },
   {
    "duration": 383,
    "start_time": "2021-11-18T08:06:09.595Z"
   },
   {
    "duration": 8,
    "start_time": "2021-11-18T08:08:13.387Z"
   },
   {
    "duration": 27,
    "start_time": "2021-11-18T08:08:55.527Z"
   },
   {
    "duration": 1519,
    "start_time": "2021-11-18T09:51:46.538Z"
   },
   {
    "duration": 9,
    "start_time": "2021-11-18T09:51:48.059Z"
   },
   {
    "duration": 87,
    "start_time": "2021-11-18T09:51:48.071Z"
   },
   {
    "duration": 8,
    "start_time": "2021-11-18T09:51:48.161Z"
   },
   {
    "duration": 20,
    "start_time": "2021-11-18T09:51:48.171Z"
   },
   {
    "duration": 51,
    "start_time": "2021-11-18T09:51:48.194Z"
   },
   {
    "duration": 25,
    "start_time": "2021-11-18T09:51:48.247Z"
   },
   {
    "duration": 72,
    "start_time": "2021-11-18T09:51:48.274Z"
   },
   {
    "duration": 7,
    "start_time": "2021-11-18T09:51:48.368Z"
   },
   {
    "duration": 13,
    "start_time": "2021-11-18T09:51:48.378Z"
   },
   {
    "duration": 31,
    "start_time": "2021-11-18T09:51:48.394Z"
   },
   {
    "duration": 565,
    "start_time": "2021-11-18T09:51:48.427Z"
   },
   {
    "duration": 690,
    "start_time": "2021-11-18T09:51:48.994Z"
   },
   {
    "duration": 7,
    "start_time": "2021-11-18T09:51:49.686Z"
   },
   {
    "duration": 36,
    "start_time": "2021-11-18T09:51:49.695Z"
   },
   {
    "duration": 41,
    "start_time": "2021-11-18T09:51:49.734Z"
   },
   {
    "duration": 17,
    "start_time": "2021-11-18T09:51:49.777Z"
   },
   {
    "duration": 749,
    "start_time": "2021-11-18T09:51:49.796Z"
   },
   {
    "duration": 18,
    "start_time": "2021-11-18T09:51:50.548Z"
   },
   {
    "duration": 19,
    "start_time": "2021-11-18T09:51:50.569Z"
   },
   {
    "duration": 8,
    "start_time": "2021-11-18T09:51:50.591Z"
   },
   {
    "duration": 17,
    "start_time": "2021-11-18T09:51:50.602Z"
   },
   {
    "duration": 23,
    "start_time": "2021-11-18T09:51:50.621Z"
   },
   {
    "duration": 27,
    "start_time": "2021-11-18T09:51:50.646Z"
   },
   {
    "duration": 17,
    "start_time": "2021-11-18T09:51:50.676Z"
   },
   {
    "duration": 10,
    "start_time": "2021-11-18T09:51:50.696Z"
   },
   {
    "duration": 11,
    "start_time": "2021-11-18T09:51:50.712Z"
   },
   {
    "duration": 50,
    "start_time": "2021-11-18T09:51:50.725Z"
   },
   {
    "duration": 31,
    "start_time": "2021-11-18T09:51:50.778Z"
   },
   {
    "duration": 24,
    "start_time": "2021-11-18T09:51:50.811Z"
   },
   {
    "duration": 27,
    "start_time": "2021-11-18T09:51:50.868Z"
   },
   {
    "duration": 21,
    "start_time": "2021-11-18T09:51:50.898Z"
   },
   {
    "duration": 18,
    "start_time": "2021-11-18T09:51:50.921Z"
   },
   {
    "duration": 76,
    "start_time": "2021-11-18T09:51:50.942Z"
   },
   {
    "duration": 65,
    "start_time": "2021-11-18T09:51:51.021Z"
   },
   {
    "duration": 941,
    "start_time": "2021-11-18T09:51:51.089Z"
   },
   {
    "duration": 50,
    "start_time": "2021-11-18T09:51:52.033Z"
   },
   {
    "duration": 3661,
    "start_time": "2021-11-18T09:51:52.086Z"
   },
   {
    "duration": 82,
    "start_time": "2021-11-18T09:51:55.749Z"
   },
   {
    "duration": 5,
    "start_time": "2021-11-18T09:51:55.868Z"
   },
   {
    "duration": 289,
    "start_time": "2021-11-18T09:51:55.875Z"
   },
   {
    "duration": 300,
    "start_time": "2021-11-18T09:51:56.167Z"
   },
   {
    "duration": 259,
    "start_time": "2021-11-18T09:51:56.469Z"
   },
   {
    "duration": 346,
    "start_time": "2021-11-18T09:51:56.731Z"
   },
   {
    "duration": 1444,
    "start_time": "2021-11-18T09:55:16.105Z"
   },
   {
    "duration": 4,
    "start_time": "2021-11-18T09:55:17.552Z"
   },
   {
    "duration": 70,
    "start_time": "2021-11-18T09:55:17.559Z"
   },
   {
    "duration": 8,
    "start_time": "2021-11-18T09:55:17.632Z"
   },
   {
    "duration": 36,
    "start_time": "2021-11-18T09:55:17.643Z"
   },
   {
    "duration": 37,
    "start_time": "2021-11-18T09:55:17.682Z"
   },
   {
    "duration": 47,
    "start_time": "2021-11-18T09:55:17.722Z"
   },
   {
    "duration": 68,
    "start_time": "2021-11-18T09:55:17.772Z"
   },
   {
    "duration": 27,
    "start_time": "2021-11-18T09:55:17.846Z"
   },
   {
    "duration": 13,
    "start_time": "2021-11-18T09:55:17.877Z"
   },
   {
    "duration": 26,
    "start_time": "2021-11-18T09:55:17.892Z"
   },
   {
    "duration": 625,
    "start_time": "2021-11-18T09:55:17.920Z"
   },
   {
    "duration": 649,
    "start_time": "2021-11-18T09:55:18.548Z"
   },
   {
    "duration": 6,
    "start_time": "2021-11-18T09:55:19.199Z"
   },
   {
    "duration": 38,
    "start_time": "2021-11-18T09:55:19.208Z"
   },
   {
    "duration": 32,
    "start_time": "2021-11-18T09:55:19.248Z"
   },
   {
    "duration": 15,
    "start_time": "2021-11-18T09:55:19.282Z"
   },
   {
    "duration": 745,
    "start_time": "2021-11-18T09:55:19.299Z"
   },
   {
    "duration": 7,
    "start_time": "2021-11-18T09:55:20.046Z"
   },
   {
    "duration": 18,
    "start_time": "2021-11-18T09:55:20.067Z"
   },
   {
    "duration": 11,
    "start_time": "2021-11-18T09:55:20.088Z"
   },
   {
    "duration": 6,
    "start_time": "2021-11-18T09:55:20.102Z"
   },
   {
    "duration": 22,
    "start_time": "2021-11-18T09:55:20.111Z"
   },
   {
    "duration": 9,
    "start_time": "2021-11-18T09:55:20.168Z"
   },
   {
    "duration": 7,
    "start_time": "2021-11-18T09:55:20.180Z"
   },
   {
    "duration": 11,
    "start_time": "2021-11-18T09:55:20.190Z"
   },
   {
    "duration": 56,
    "start_time": "2021-11-18T09:55:20.211Z"
   },
   {
    "duration": 30,
    "start_time": "2021-11-18T09:55:20.271Z"
   },
   {
    "duration": 33,
    "start_time": "2021-11-18T09:55:20.305Z"
   },
   {
    "duration": 49,
    "start_time": "2021-11-18T09:55:20.341Z"
   },
   {
    "duration": 25,
    "start_time": "2021-11-18T09:55:20.392Z"
   },
   {
    "duration": 12,
    "start_time": "2021-11-18T09:55:20.420Z"
   },
   {
    "duration": 42,
    "start_time": "2021-11-18T09:55:20.434Z"
   },
   {
    "duration": 53,
    "start_time": "2021-11-18T09:55:20.478Z"
   },
   {
    "duration": 73,
    "start_time": "2021-11-18T09:55:20.533Z"
   },
   {
    "duration": 948,
    "start_time": "2021-11-18T09:55:20.608Z"
   },
   {
    "duration": 46,
    "start_time": "2021-11-18T09:55:21.559Z"
   },
   {
    "duration": 3768,
    "start_time": "2021-11-18T09:55:21.607Z"
   },
   {
    "duration": 99,
    "start_time": "2021-11-18T09:55:25.377Z"
   },
   {
    "duration": 5,
    "start_time": "2021-11-18T09:55:25.478Z"
   },
   {
    "duration": 318,
    "start_time": "2021-11-18T09:55:25.485Z"
   },
   {
    "duration": 303,
    "start_time": "2021-11-18T09:55:25.806Z"
   },
   {
    "duration": 263,
    "start_time": "2021-11-18T09:55:26.112Z"
   },
   {
    "duration": 352,
    "start_time": "2021-11-18T09:55:26.378Z"
   },
   {
    "duration": 1437,
    "start_time": "2021-11-18T10:10:35.113Z"
   },
   {
    "duration": 4,
    "start_time": "2021-11-18T10:10:36.553Z"
   },
   {
    "duration": 63,
    "start_time": "2021-11-18T10:10:36.567Z"
   },
   {
    "duration": 8,
    "start_time": "2021-11-18T10:10:36.632Z"
   },
   {
    "duration": 30,
    "start_time": "2021-11-18T10:10:36.642Z"
   },
   {
    "duration": 35,
    "start_time": "2021-11-18T10:10:36.674Z"
   },
   {
    "duration": 13,
    "start_time": "2021-11-18T10:10:36.711Z"
   },
   {
    "duration": 102,
    "start_time": "2021-11-18T10:10:36.726Z"
   },
   {
    "duration": 7,
    "start_time": "2021-11-18T10:10:36.834Z"
   },
   {
    "duration": 6,
    "start_time": "2021-11-18T10:10:36.867Z"
   },
   {
    "duration": 22,
    "start_time": "2021-11-18T10:10:36.876Z"
   },
   {
    "duration": 531,
    "start_time": "2021-11-18T10:10:36.901Z"
   },
   {
    "duration": 675,
    "start_time": "2021-11-18T10:10:37.435Z"
   },
   {
    "duration": 7,
    "start_time": "2021-11-18T10:10:38.112Z"
   },
   {
    "duration": 50,
    "start_time": "2021-11-18T10:10:38.122Z"
   },
   {
    "duration": 16,
    "start_time": "2021-11-18T10:10:38.174Z"
   },
   {
    "duration": 10,
    "start_time": "2021-11-18T10:10:38.192Z"
   },
   {
    "duration": 776,
    "start_time": "2021-11-18T10:10:38.204Z"
   },
   {
    "duration": 6,
    "start_time": "2021-11-18T10:10:38.982Z"
   },
   {
    "duration": 22,
    "start_time": "2021-11-18T10:10:38.991Z"
   },
   {
    "duration": 7,
    "start_time": "2021-11-18T10:10:39.015Z"
   },
   {
    "duration": 5,
    "start_time": "2021-11-18T10:10:39.025Z"
   },
   {
    "duration": 48,
    "start_time": "2021-11-18T10:10:39.032Z"
   },
   {
    "duration": 13,
    "start_time": "2021-11-18T10:10:39.083Z"
   },
   {
    "duration": 11,
    "start_time": "2021-11-18T10:10:39.098Z"
   },
   {
    "duration": 10,
    "start_time": "2021-11-18T10:10:39.112Z"
   },
   {
    "duration": 9,
    "start_time": "2021-11-18T10:10:39.170Z"
   },
   {
    "duration": 23,
    "start_time": "2021-11-18T10:10:39.183Z"
   },
   {
    "duration": 65,
    "start_time": "2021-11-18T10:10:39.209Z"
   },
   {
    "duration": 23,
    "start_time": "2021-11-18T10:10:39.277Z"
   },
   {
    "duration": 24,
    "start_time": "2021-11-18T10:10:39.302Z"
   },
   {
    "duration": 42,
    "start_time": "2021-11-18T10:10:39.328Z"
   },
   {
    "duration": 12,
    "start_time": "2021-11-18T10:10:39.373Z"
   },
   {
    "duration": 82,
    "start_time": "2021-11-18T10:10:39.387Z"
   },
   {
    "duration": 43,
    "start_time": "2021-11-18T10:10:39.471Z"
   },
   {
    "duration": 927,
    "start_time": "2021-11-18T10:10:39.517Z"
   },
   {
    "duration": 45,
    "start_time": "2021-11-18T10:10:40.447Z"
   },
   {
    "duration": 4153,
    "start_time": "2021-11-18T10:10:40.495Z"
   },
   {
    "duration": 80,
    "start_time": "2021-11-18T10:10:44.651Z"
   },
   {
    "duration": 36,
    "start_time": "2021-11-18T10:10:44.733Z"
   },
   {
    "duration": 299,
    "start_time": "2021-11-18T10:10:44.771Z"
   },
   {
    "duration": 297,
    "start_time": "2021-11-18T10:10:45.072Z"
   },
   {
    "duration": 254,
    "start_time": "2021-11-18T10:10:45.372Z"
   },
   {
    "duration": 359,
    "start_time": "2021-11-18T10:10:45.628Z"
   },
   {
    "duration": 37,
    "start_time": "2021-11-18T10:17:42.722Z"
   },
   {
    "duration": 28,
    "start_time": "2021-11-18T10:18:49.553Z"
   },
   {
    "duration": 608,
    "start_time": "2021-11-18T10:20:21.994Z"
   },
   {
    "duration": 287,
    "start_time": "2021-11-18T10:21:51.387Z"
   },
   {
    "duration": 24,
    "start_time": "2021-11-18T10:22:03.060Z"
   },
   {
    "duration": 26,
    "start_time": "2021-11-18T10:22:11.927Z"
   },
   {
    "duration": 1605,
    "start_time": "2021-11-18T10:23:38.336Z"
   },
   {
    "duration": 4,
    "start_time": "2021-11-18T10:23:39.944Z"
   },
   {
    "duration": 68,
    "start_time": "2021-11-18T10:23:39.951Z"
   },
   {
    "duration": 8,
    "start_time": "2021-11-18T10:23:40.022Z"
   },
   {
    "duration": 25,
    "start_time": "2021-11-18T10:23:40.032Z"
   },
   {
    "duration": 38,
    "start_time": "2021-11-18T10:23:40.068Z"
   },
   {
    "duration": 15,
    "start_time": "2021-11-18T10:23:40.109Z"
   },
   {
    "duration": 67,
    "start_time": "2021-11-18T10:23:40.126Z"
   },
   {
    "duration": 80,
    "start_time": "2021-11-18T10:23:40.197Z"
   },
   {
    "duration": 6,
    "start_time": "2021-11-18T10:23:40.281Z"
   },
   {
    "duration": 8,
    "start_time": "2021-11-18T10:23:40.289Z"
   },
   {
    "duration": 29,
    "start_time": "2021-11-18T10:23:40.300Z"
   },
   {
    "duration": 502,
    "start_time": "2021-11-18T10:23:40.368Z"
   },
   {
    "duration": 752,
    "start_time": "2021-11-18T10:23:40.872Z"
   },
   {
    "duration": 7,
    "start_time": "2021-11-18T10:23:41.626Z"
   },
   {
    "duration": 58,
    "start_time": "2021-11-18T10:23:41.635Z"
   },
   {
    "duration": 27,
    "start_time": "2021-11-18T10:23:41.696Z"
   },
   {
    "duration": 19,
    "start_time": "2021-11-18T10:23:41.725Z"
   },
   {
    "duration": 812,
    "start_time": "2021-11-18T10:23:41.747Z"
   },
   {
    "duration": 11,
    "start_time": "2021-11-18T10:23:42.562Z"
   },
   {
    "duration": 23,
    "start_time": "2021-11-18T10:23:42.576Z"
   },
   {
    "duration": 10,
    "start_time": "2021-11-18T10:23:42.602Z"
   },
   {
    "duration": 6,
    "start_time": "2021-11-18T10:23:42.615Z"
   },
   {
    "duration": 55,
    "start_time": "2021-11-18T10:23:42.623Z"
   },
   {
    "duration": 12,
    "start_time": "2021-11-18T10:23:42.681Z"
   },
   {
    "duration": 7,
    "start_time": "2021-11-18T10:23:42.696Z"
   },
   {
    "duration": 13,
    "start_time": "2021-11-18T10:23:42.708Z"
   },
   {
    "duration": 10,
    "start_time": "2021-11-18T10:23:42.769Z"
   },
   {
    "duration": 22,
    "start_time": "2021-11-18T10:23:42.781Z"
   },
   {
    "duration": 30,
    "start_time": "2021-11-18T10:23:42.805Z"
   },
   {
    "duration": 24,
    "start_time": "2021-11-18T10:23:42.868Z"
   },
   {
    "duration": 25,
    "start_time": "2021-11-18T10:23:42.895Z"
   },
   {
    "duration": 11,
    "start_time": "2021-11-18T10:23:42.922Z"
   },
   {
    "duration": 10,
    "start_time": "2021-11-18T10:23:42.967Z"
   },
   {
    "duration": 60,
    "start_time": "2021-11-18T10:23:42.980Z"
   },
   {
    "duration": 64,
    "start_time": "2021-11-18T10:23:43.042Z"
   },
   {
    "duration": 1473,
    "start_time": "2021-11-18T10:23:43.108Z"
   },
   {
    "duration": 38,
    "start_time": "2021-11-18T10:23:44.583Z"
   },
   {
    "duration": 3730,
    "start_time": "2021-11-18T10:23:44.623Z"
   },
   {
    "duration": 120,
    "start_time": "2021-11-18T10:23:48.355Z"
   },
   {
    "duration": 6,
    "start_time": "2021-11-18T10:23:48.478Z"
   },
   {
    "duration": 316,
    "start_time": "2021-11-18T10:23:48.487Z"
   },
   {
    "duration": 315,
    "start_time": "2021-11-18T10:23:48.805Z"
   },
   {
    "duration": 265,
    "start_time": "2021-11-18T10:23:49.122Z"
   },
   {
    "duration": 364,
    "start_time": "2021-11-18T10:23:49.389Z"
   },
   {
    "duration": 47,
    "start_time": "2021-11-18T10:31:48.755Z"
   },
   {
    "duration": 46,
    "start_time": "2021-11-18T10:32:36.642Z"
   },
   {
    "duration": 36,
    "start_time": "2021-11-18T10:34:08.009Z"
   },
   {
    "duration": 36,
    "start_time": "2021-11-18T10:34:21.809Z"
   },
   {
    "duration": 37,
    "start_time": "2021-11-18T10:36:29.401Z"
   },
   {
    "duration": 37,
    "start_time": "2021-11-18T10:37:07.861Z"
   },
   {
    "duration": 82,
    "start_time": "2021-11-18T10:43:25.703Z"
   },
   {
    "duration": 25,
    "start_time": "2021-11-18T10:43:34.564Z"
   },
   {
    "duration": 37,
    "start_time": "2021-11-18T10:43:46.539Z"
   },
   {
    "duration": 38,
    "start_time": "2021-11-18T10:43:59.079Z"
   },
   {
    "duration": 2057,
    "start_time": "2021-11-18T10:44:21.823Z"
   },
   {
    "duration": 8357,
    "start_time": "2021-11-18T10:44:26.085Z"
   },
   {
    "duration": 43,
    "start_time": "2021-11-18T10:45:17.293Z"
   },
   {
    "duration": 66,
    "start_time": "2021-11-18T10:46:03.430Z"
   },
   {
    "duration": 93,
    "start_time": "2021-11-18T10:46:23.549Z"
   },
   {
    "duration": 341,
    "start_time": "2021-11-18T10:47:28.613Z"
   },
   {
    "duration": 57,
    "start_time": "2021-11-18T10:47:54.390Z"
   },
   {
    "duration": 55,
    "start_time": "2021-11-18T10:48:40.218Z"
   },
   {
    "duration": 299,
    "start_time": "2021-11-18T10:56:54.384Z"
   },
   {
    "duration": 49,
    "start_time": "2021-11-18T10:56:59.014Z"
   },
   {
    "duration": 61,
    "start_time": "2021-11-18T10:57:44.099Z"
   },
   {
    "duration": 7501,
    "start_time": "2021-11-18T10:58:09.758Z"
   },
   {
    "duration": 88,
    "start_time": "2021-11-18T10:58:25.462Z"
   },
   {
    "duration": 795,
    "start_time": "2021-11-18T10:59:13.914Z"
   },
   {
    "duration": 66,
    "start_time": "2021-11-18T10:59:31.511Z"
   },
   {
    "duration": 68,
    "start_time": "2021-11-18T10:59:50.449Z"
   },
   {
    "duration": 69,
    "start_time": "2021-11-18T10:59:58.802Z"
   },
   {
    "duration": 68,
    "start_time": "2021-11-18T11:00:05.511Z"
   },
   {
    "duration": 1472,
    "start_time": "2021-11-18T12:59:17.643Z"
   },
   {
    "duration": 12,
    "start_time": "2021-11-18T12:59:19.118Z"
   },
   {
    "duration": 67,
    "start_time": "2021-11-18T12:59:19.133Z"
   },
   {
    "duration": 7,
    "start_time": "2021-11-18T12:59:19.203Z"
   },
   {
    "duration": 27,
    "start_time": "2021-11-18T12:59:19.213Z"
   },
   {
    "duration": 38,
    "start_time": "2021-11-18T12:59:19.242Z"
   },
   {
    "duration": 46,
    "start_time": "2021-11-18T12:59:19.283Z"
   },
   {
    "duration": 26,
    "start_time": "2021-11-18T12:59:19.333Z"
   },
   {
    "duration": 93,
    "start_time": "2021-11-18T12:59:19.362Z"
   },
   {
    "duration": 10,
    "start_time": "2021-11-18T12:59:21.761Z"
   },
   {
    "duration": 7,
    "start_time": "2021-11-18T12:59:28.619Z"
   },
   {
    "duration": 4,
    "start_time": "2021-11-18T13:00:45.122Z"
   },
   {
    "duration": 18,
    "start_time": "2021-11-18T13:00:45.129Z"
   },
   {
    "duration": 88,
    "start_time": "2021-11-18T13:00:45.150Z"
   },
   {
    "duration": 5,
    "start_time": "2021-11-18T13:00:45.241Z"
   },
   {
    "duration": 22,
    "start_time": "2021-11-18T13:00:45.249Z"
   },
   {
    "duration": 38,
    "start_time": "2021-11-18T13:00:45.273Z"
   },
   {
    "duration": 24,
    "start_time": "2021-11-18T13:00:45.314Z"
   },
   {
    "duration": 33,
    "start_time": "2021-11-18T13:00:45.341Z"
   },
   {
    "duration": 77,
    "start_time": "2021-11-18T13:00:45.377Z"
   },
   {
    "duration": 7,
    "start_time": "2021-11-18T13:00:45.456Z"
   },
   {
    "duration": 25,
    "start_time": "2021-11-18T13:00:45.465Z"
   },
   {
    "duration": 43,
    "start_time": "2021-11-18T13:00:45.493Z"
   },
   {
    "duration": 489,
    "start_time": "2021-11-18T13:00:45.538Z"
   },
   {
    "duration": 637,
    "start_time": "2021-11-18T13:00:46.029Z"
   },
   {
    "duration": 8,
    "start_time": "2021-11-18T13:00:48.311Z"
   },
   {
    "duration": 25,
    "start_time": "2021-11-18T13:01:38.528Z"
   },
   {
    "duration": 4,
    "start_time": "2021-11-18T13:03:23.918Z"
   },
   {
    "duration": 38,
    "start_time": "2021-11-18T13:03:23.925Z"
   },
   {
    "duration": 104,
    "start_time": "2021-11-18T13:03:23.966Z"
   },
   {
    "duration": 5,
    "start_time": "2021-11-18T13:03:24.073Z"
   },
   {
    "duration": 42,
    "start_time": "2021-11-18T13:03:24.080Z"
   },
   {
    "duration": 55,
    "start_time": "2021-11-18T13:03:24.124Z"
   },
   {
    "duration": 18,
    "start_time": "2021-11-18T13:03:24.181Z"
   },
   {
    "duration": 49,
    "start_time": "2021-11-18T13:03:24.202Z"
   },
   {
    "duration": 83,
    "start_time": "2021-11-18T13:03:24.254Z"
   },
   {
    "duration": 6,
    "start_time": "2021-11-18T13:03:24.339Z"
   },
   {
    "duration": 30,
    "start_time": "2021-11-18T13:03:24.348Z"
   },
   {
    "duration": 49,
    "start_time": "2021-11-18T13:03:24.380Z"
   },
   {
    "duration": 468,
    "start_time": "2021-11-18T13:03:24.432Z"
   },
   {
    "duration": 637,
    "start_time": "2021-11-18T13:03:24.902Z"
   },
   {
    "duration": 8,
    "start_time": "2021-11-18T13:03:25.541Z"
   },
   {
    "duration": 29,
    "start_time": "2021-11-18T13:03:25.551Z"
   },
   {
    "duration": 39,
    "start_time": "2021-11-18T13:03:25.582Z"
   },
   {
    "duration": 33,
    "start_time": "2021-11-18T13:03:25.623Z"
   },
   {
    "duration": 729,
    "start_time": "2021-11-18T13:03:25.659Z"
   },
   {
    "duration": 767,
    "start_time": "2021-11-18T13:03:28.626Z"
   },
   {
    "duration": 7,
    "start_time": "2021-11-18T13:03:34.410Z"
   },
   {
    "duration": 21,
    "start_time": "2021-11-18T13:03:37.773Z"
   },
   {
    "duration": 7,
    "start_time": "2021-11-18T13:03:47.798Z"
   },
   {
    "duration": 5,
    "start_time": "2021-11-18T13:03:50.480Z"
   },
   {
    "duration": 12,
    "start_time": "2021-11-18T13:03:51.674Z"
   },
   {
    "duration": 10,
    "start_time": "2021-11-18T13:03:52.699Z"
   },
   {
    "duration": 7,
    "start_time": "2021-11-18T13:04:46.064Z"
   },
   {
    "duration": 1504,
    "start_time": "2021-11-18T13:05:26.302Z"
   },
   {
    "duration": 6,
    "start_time": "2021-11-18T13:05:27.808Z"
   },
   {
    "duration": 78,
    "start_time": "2021-11-18T13:05:27.817Z"
   },
   {
    "duration": 9,
    "start_time": "2021-11-18T13:05:27.898Z"
   },
   {
    "duration": 24,
    "start_time": "2021-11-18T13:05:27.909Z"
   },
   {
    "duration": 40,
    "start_time": "2021-11-18T13:05:27.936Z"
   },
   {
    "duration": 13,
    "start_time": "2021-11-18T13:05:27.978Z"
   },
   {
    "duration": 54,
    "start_time": "2021-11-18T13:05:27.993Z"
   },
   {
    "duration": 79,
    "start_time": "2021-11-18T13:05:28.051Z"
   },
   {
    "duration": 7,
    "start_time": "2021-11-18T13:05:28.133Z"
   },
   {
    "duration": 15,
    "start_time": "2021-11-18T13:05:28.142Z"
   },
   {
    "duration": 35,
    "start_time": "2021-11-18T13:05:28.159Z"
   },
   {
    "duration": 508,
    "start_time": "2021-11-18T13:05:28.196Z"
   },
   {
    "duration": 636,
    "start_time": "2021-11-18T13:05:28.706Z"
   },
   {
    "duration": 7,
    "start_time": "2021-11-18T13:05:29.344Z"
   },
   {
    "duration": 36,
    "start_time": "2021-11-18T13:05:29.354Z"
   },
   {
    "duration": 44,
    "start_time": "2021-11-18T13:05:29.393Z"
   },
   {
    "duration": 16,
    "start_time": "2021-11-18T13:05:29.439Z"
   },
   {
    "duration": 727,
    "start_time": "2021-11-18T13:05:29.458Z"
   },
   {
    "duration": 7,
    "start_time": "2021-11-18T13:05:30.187Z"
   },
   {
    "duration": 42,
    "start_time": "2021-11-18T13:05:30.197Z"
   },
   {
    "duration": 8,
    "start_time": "2021-11-18T13:05:30.242Z"
   },
   {
    "duration": 29,
    "start_time": "2021-11-18T13:05:30.252Z"
   },
   {
    "duration": 31,
    "start_time": "2021-11-18T13:05:30.284Z"
   },
   {
    "duration": 24,
    "start_time": "2021-11-18T13:05:30.318Z"
   },
   {
    "duration": 16,
    "start_time": "2021-11-18T13:05:30.345Z"
   },
   {
    "duration": 18,
    "start_time": "2021-11-18T13:05:30.367Z"
   },
   {
    "duration": 21,
    "start_time": "2021-11-18T13:05:30.388Z"
   },
   {
    "duration": 39,
    "start_time": "2021-11-18T13:05:30.412Z"
   },
   {
    "duration": 36,
    "start_time": "2021-11-18T13:05:30.453Z"
   },
   {
    "duration": 41,
    "start_time": "2021-11-18T13:05:30.492Z"
   },
   {
    "duration": 38,
    "start_time": "2021-11-18T13:05:30.536Z"
   },
   {
    "duration": 29,
    "start_time": "2021-11-18T13:05:30.576Z"
   },
   {
    "duration": 25,
    "start_time": "2021-11-18T13:05:30.607Z"
   },
   {
    "duration": 88,
    "start_time": "2021-11-18T13:05:30.635Z"
   },
   {
    "duration": 45,
    "start_time": "2021-11-18T13:05:30.726Z"
   },
   {
    "duration": 933,
    "start_time": "2021-11-18T13:05:30.774Z"
   },
   {
    "duration": 46,
    "start_time": "2021-11-18T13:05:31.710Z"
   },
   {
    "duration": 3678,
    "start_time": "2021-11-18T13:05:31.758Z"
   },
   {
    "duration": 93,
    "start_time": "2021-11-18T13:05:35.438Z"
   },
   {
    "duration": 5,
    "start_time": "2021-11-18T13:05:35.534Z"
   },
   {
    "duration": 294,
    "start_time": "2021-11-18T13:05:35.541Z"
   },
   {
    "duration": 288,
    "start_time": "2021-11-18T13:05:35.837Z"
   },
   {
    "duration": 248,
    "start_time": "2021-11-18T13:05:36.128Z"
   },
   {
    "duration": 386,
    "start_time": "2021-11-18T13:05:36.378Z"
   },
   {
    "duration": 1517,
    "start_time": "2021-11-19T05:22:37.047Z"
   },
   {
    "duration": 7,
    "start_time": "2021-11-19T05:22:38.566Z"
   },
   {
    "duration": 62,
    "start_time": "2021-11-19T05:22:38.583Z"
   },
   {
    "duration": 7,
    "start_time": "2021-11-19T05:22:38.648Z"
   },
   {
    "duration": 27,
    "start_time": "2021-11-19T05:22:38.657Z"
   },
   {
    "duration": 18,
    "start_time": "2021-11-19T05:22:42.097Z"
   },
   {
    "duration": 74,
    "start_time": "2021-11-19T05:22:42.978Z"
   },
   {
    "duration": 60,
    "start_time": "2021-11-19T05:34:03.336Z"
   },
   {
    "duration": 5,
    "start_time": "2021-11-19T06:12:57.354Z"
   },
   {
    "duration": 8,
    "start_time": "2021-11-19T06:12:57.361Z"
   },
   {
    "duration": 66,
    "start_time": "2021-11-19T06:12:57.372Z"
   },
   {
    "duration": 6,
    "start_time": "2021-11-19T06:12:57.442Z"
   },
   {
    "duration": 16,
    "start_time": "2021-11-19T06:12:57.451Z"
   },
   {
    "duration": 63,
    "start_time": "2021-11-19T06:12:57.469Z"
   },
   {
    "duration": 56,
    "start_time": "2021-11-19T06:13:12.726Z"
   },
   {
    "duration": 32,
    "start_time": "2021-11-19T06:13:38.795Z"
   },
   {
    "duration": 49,
    "start_time": "2021-11-19T06:13:57.559Z"
   },
   {
    "duration": 4,
    "start_time": "2021-11-19T06:14:58.386Z"
   },
   {
    "duration": 34,
    "start_time": "2021-11-19T06:15:21.469Z"
   },
   {
    "duration": 18,
    "start_time": "2021-11-19T06:15:40.971Z"
   },
   {
    "duration": 49,
    "start_time": "2021-11-19T06:16:06.070Z"
   },
   {
    "duration": 18,
    "start_time": "2021-11-19T06:16:21.573Z"
   },
   {
    "duration": 19,
    "start_time": "2021-11-19T06:16:28.467Z"
   },
   {
    "duration": 13,
    "start_time": "2021-11-19T06:20:18.526Z"
   },
   {
    "duration": 60,
    "start_time": "2021-11-19T06:20:40.304Z"
   },
   {
    "duration": 18,
    "start_time": "2021-11-19T06:20:48.479Z"
   },
   {
    "duration": 585,
    "start_time": "2021-11-19T06:34:52.640Z"
   },
   {
    "duration": 13,
    "start_time": "2021-11-19T06:35:07.773Z"
   }
  ],
  "kernelspec": {
   "display_name": "Python 3 (ipykernel)",
   "language": "python",
   "name": "python3"
  },
  "language_info": {
   "codemirror_mode": {
    "name": "ipython",
    "version": 3
   },
   "file_extension": ".py",
   "mimetype": "text/x-python",
   "name": "python",
   "nbconvert_exporter": "python",
   "pygments_lexer": "ipython3",
   "version": "3.10.4"
  },
  "toc": {
   "base_numbering": 1,
   "nav_menu": {
    "height": "418px",
    "width": "410px"
   },
   "number_sections": true,
   "sideBar": true,
   "skip_h1_title": true,
   "title_cell": "Table of Contents",
   "title_sidebar": "Contents",
   "toc_cell": true,
   "toc_position": {
    "height": "calc(100% - 180px)",
    "left": "10px",
    "top": "150px",
    "width": "229px"
   },
   "toc_section_display": true,
   "toc_window_display": true
  },
  "varInspector": {
   "cols": {
    "lenName": 16,
    "lenType": 16,
    "lenVar": 40
   },
   "kernels_config": {
    "python": {
     "delete_cmd_postfix": "",
     "delete_cmd_prefix": "del ",
     "library": "var_list.py",
     "varRefreshCmd": "print(var_dic_list())"
    },
    "r": {
     "delete_cmd_postfix": ") ",
     "delete_cmd_prefix": "rm(",
     "library": "var_list.r",
     "varRefreshCmd": "cat(var_dic_list()) "
    }
   },
   "types_to_exclude": [
    "module",
    "function",
    "builtin_function_or_method",
    "instance",
    "_Feature"
   ],
   "window_display": false
  }
 },
 "nbformat": 4,
 "nbformat_minor": 2
}
